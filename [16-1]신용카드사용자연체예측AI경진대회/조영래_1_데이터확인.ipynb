{
  "nbformat": 4,
  "nbformat_minor": 0,
  "metadata": {
    "colab": {
      "name": "조영래_1_데이터확인.ipynb",
      "provenance": [],
      "toc_visible": true,
      "authorship_tag": "ABX9TyMsvajqEa3zIIn7S17C5wmA"
    },
    "kernelspec": {
      "name": "python3",
      "display_name": "Python 3"
    },
    "language_info": {
      "name": "python"
    }
  },
  "cells": [
    {
      "cell_type": "markdown",
      "metadata": {
        "id": "rDTWejPCAj1v"
      },
      "source": [
        "## 참고할만한 공유 코드\n",
        "\n",
        "### EDA\n",
        "1. [입문자의 투박한 EDA](https://dacon.io/competitions/official/235713/codeshare/2494?page=1&dtype=vote)\n",
        "  - feature 별 target과 관계 확인\n",
        "  - 데이터 타입 파악\n",
        "2. [전처리, EDA하면서 발생한 의문점 공유드립니다.](https://dacon.io/competitions/official/235713/codeshare/2509?page=1&dtype=view)\n",
        "  - 동일인물 있나?\n",
        "3. [데이터 중복 이슈에 대한 데이터 분석 초보의 고찰](https://dacon.io/competitions/official/235713/codeshare/2522?page=1&dtype=view)\n",
        "  - 위 코드와 같은 문제를 다룸\n",
        "  - 동일 인물에 대한 시간에 따른 신용도 변화 추이로 해석"
      ]
    },
    {
      "cell_type": "code",
      "metadata": {
        "colab": {
          "base_uri": "https://localhost:8080/"
        },
        "id": "H2UkUxOoQDTr",
        "outputId": "df51eb21-8e3c-42ca-e37e-a8af479cc840"
      },
      "source": [
        "from urllib.request import urlretrieve\n",
        "\n",
        "urlretrieve('https://drive.google.com/uc?export=download&id=1XLVFI_sK0smRVVuT8XU2s-M3lJT-68sN', './open.zip')"
      ],
      "execution_count": 1,
      "outputs": [
        {
          "output_type": "execute_result",
          "data": {
            "text/plain": [
              "('./open.zip', <http.client.HTTPMessage at 0x7f1fbf1e79d0>)"
            ]
          },
          "metadata": {
            "tags": []
          },
          "execution_count": 1
        }
      ]
    },
    {
      "cell_type": "code",
      "metadata": {
        "colab": {
          "base_uri": "https://localhost:8080/"
        },
        "id": "ALLntUGhR3rR",
        "outputId": "686e4611-e5cd-43bb-8d3d-dd8d9827a8b2"
      },
      "source": [
        "!unzip ./open.zip"
      ],
      "execution_count": 2,
      "outputs": [
        {
          "output_type": "stream",
          "text": [
            "Archive:  ./open.zip\n",
            "   creating: open/\n",
            "  inflating: open/train.csv          \n",
            "  inflating: open/sample_submission.csv  \n",
            "  inflating: open/test.csv           \n"
          ],
          "name": "stdout"
        }
      ]
    },
    {
      "cell_type": "code",
      "metadata": {
        "id": "wb31kvAgSJFu"
      },
      "source": [
        "import numpy as np\n",
        "import pandas as pd"
      ],
      "execution_count": 3,
      "outputs": []
    },
    {
      "cell_type": "markdown",
      "metadata": {
        "id": "IUHVIR7AVKuA"
      },
      "source": [
        "## 데이터 확인\n",
        "### [데이터 변수 설명](https://www.dacon.io/competitions/official/235713/talkboard/402821/)\n",
        "- index\n",
        "- gender: 성별\n",
        "- car: 차량 소유 여부\n",
        "- reality: 부동산 소유 여부\n",
        "- child_num: 자녀 수\n",
        "- income_total: 연간 소득\n",
        "- income_type: 소득 분류\n",
        "  - ['Commercial associate', 'Working', 'State servant', 'Pensioner', 'Student']\n",
        "- edu_type: 교육 수준\n",
        "  - ['Higher education' ,'Secondary / secondary special', 'Incomplete higher', 'Lower secondary', 'Academic degree']\n",
        "- family_type: 결혼 여부\n",
        "  - ['Married', 'Civil marriage', 'Separated', 'Single / not married', 'Widow']\n",
        "- house_type: 생활 방식\n",
        "  - ['Municipal apartment', 'House / apartment', 'With parents', 'Co-op apartment', 'Rented apartment', 'Office apartment']\n",
        "- DAYS_BIRTH: 출생일\n",
        "  - 데이터 수집 당시 (0)부터 역으로 셈, 즉, -1은 데이터 수집일 하루 전에 태어났음을 의미\n",
        "- DAYS_EMPLOYED: 업무 시작일\n",
        "  - 데이터 수집 당시 (0)부터 역으로 셈, 즉, -1은 데이터 수집일 하루 전부터 일을 시작함을 의미. 양수 값은 고용되지 않은 상태를 의미함\n",
        "- FLAG_MOBIL: 핸드폰 소유 여부\n",
        "- work_phone: 업무용 전화 소유 여부\n",
        "- phone: 전화 소유 여부\n",
        "- email: 이메일 소유 여부\n",
        "- occyp_type: 직업 유형\t\t\t\t\t\t\t\t\t\t\t\t\t\n",
        "- family_size: 가족 규모\n",
        "- begin_month: 신용카드 발급 월\n",
        "  - 데이터 수집 당시 (0)부터 역으로 셈, 즉, -1은 데이터 수집일 한 달 전에 신용카드를 발급함을 의미\n",
        "- credit: 사용자의 신용카드 대금 연체를 기준으로 한 신용도\n",
        "  - 낮을 수록 높은 신용의 신용카드 사용자를 의미함\n",
        "\n"
      ]
    },
    {
      "cell_type": "code",
      "metadata": {
        "id": "IfLd2b88SYxr"
      },
      "source": [
        "train = pd.read_csv('./open/train.csv')\n",
        "test = pd.read_csv('./open/test.csv')"
      ],
      "execution_count": 4,
      "outputs": []
    },
    {
      "cell_type": "code",
      "metadata": {
        "colab": {
          "base_uri": "https://localhost:8080/"
        },
        "id": "cBikN3FzUre0",
        "outputId": "56ac1ad2-15a3-4f7d-c9b7-bea469d95265"
      },
      "source": [
        "train.info()  # occyp_type -> null data 갖는다."
      ],
      "execution_count": 5,
      "outputs": [
        {
          "output_type": "stream",
          "text": [
            "<class 'pandas.core.frame.DataFrame'>\n",
            "RangeIndex: 26457 entries, 0 to 26456\n",
            "Data columns (total 20 columns):\n",
            " #   Column         Non-Null Count  Dtype  \n",
            "---  ------         --------------  -----  \n",
            " 0   index          26457 non-null  int64  \n",
            " 1   gender         26457 non-null  object \n",
            " 2   car            26457 non-null  object \n",
            " 3   reality        26457 non-null  object \n",
            " 4   child_num      26457 non-null  int64  \n",
            " 5   income_total   26457 non-null  float64\n",
            " 6   income_type    26457 non-null  object \n",
            " 7   edu_type       26457 non-null  object \n",
            " 8   family_type    26457 non-null  object \n",
            " 9   house_type     26457 non-null  object \n",
            " 10  DAYS_BIRTH     26457 non-null  int64  \n",
            " 11  DAYS_EMPLOYED  26457 non-null  int64  \n",
            " 12  FLAG_MOBIL     26457 non-null  int64  \n",
            " 13  work_phone     26457 non-null  int64  \n",
            " 14  phone          26457 non-null  int64  \n",
            " 15  email          26457 non-null  int64  \n",
            " 16  occyp_type     18286 non-null  object \n",
            " 17  family_size    26457 non-null  float64\n",
            " 18  begin_month    26457 non-null  float64\n",
            " 19  credit         26457 non-null  float64\n",
            "dtypes: float64(4), int64(8), object(8)\n",
            "memory usage: 4.0+ MB\n"
          ],
          "name": "stdout"
        }
      ]
    },
    {
      "cell_type": "code",
      "metadata": {
        "colab": {
          "base_uri": "https://localhost:8080/"
        },
        "id": "JAZIYG0sUxHR",
        "outputId": "9f8de406-b601-4e58-afb8-4382866b98be"
      },
      "source": [
        "test.info()"
      ],
      "execution_count": 6,
      "outputs": [
        {
          "output_type": "stream",
          "text": [
            "<class 'pandas.core.frame.DataFrame'>\n",
            "RangeIndex: 10000 entries, 0 to 9999\n",
            "Data columns (total 19 columns):\n",
            " #   Column         Non-Null Count  Dtype  \n",
            "---  ------         --------------  -----  \n",
            " 0   index          10000 non-null  int64  \n",
            " 1   gender         10000 non-null  object \n",
            " 2   car            10000 non-null  object \n",
            " 3   reality        10000 non-null  object \n",
            " 4   child_num      10000 non-null  int64  \n",
            " 5   income_total   10000 non-null  float64\n",
            " 6   income_type    10000 non-null  object \n",
            " 7   edu_type       10000 non-null  object \n",
            " 8   family_type    10000 non-null  object \n",
            " 9   house_type     10000 non-null  object \n",
            " 10  DAYS_BIRTH     10000 non-null  int64  \n",
            " 11  DAYS_EMPLOYED  10000 non-null  int64  \n",
            " 12  FLAG_MOBIL     10000 non-null  int64  \n",
            " 13  work_phone     10000 non-null  int64  \n",
            " 14  phone          10000 non-null  int64  \n",
            " 15  email          10000 non-null  int64  \n",
            " 16  occyp_type     6848 non-null   object \n",
            " 17  family_size    10000 non-null  float64\n",
            " 18  begin_month    10000 non-null  float64\n",
            "dtypes: float64(3), int64(8), object(8)\n",
            "memory usage: 1.4+ MB\n"
          ],
          "name": "stdout"
        }
      ]
    },
    {
      "cell_type": "code",
      "metadata": {
        "colab": {
          "base_uri": "https://localhost:8080/",
          "height": 377
        },
        "id": "pkoa8AIxU-s-",
        "outputId": "445752b0-b8a9-4cba-a79f-46bda554f035"
      },
      "source": [
        "train.head()"
      ],
      "execution_count": 7,
      "outputs": [
        {
          "output_type": "execute_result",
          "data": {
            "text/html": [
              "<div>\n",
              "<style scoped>\n",
              "    .dataframe tbody tr th:only-of-type {\n",
              "        vertical-align: middle;\n",
              "    }\n",
              "\n",
              "    .dataframe tbody tr th {\n",
              "        vertical-align: top;\n",
              "    }\n",
              "\n",
              "    .dataframe thead th {\n",
              "        text-align: right;\n",
              "    }\n",
              "</style>\n",
              "<table border=\"1\" class=\"dataframe\">\n",
              "  <thead>\n",
              "    <tr style=\"text-align: right;\">\n",
              "      <th></th>\n",
              "      <th>index</th>\n",
              "      <th>gender</th>\n",
              "      <th>car</th>\n",
              "      <th>reality</th>\n",
              "      <th>child_num</th>\n",
              "      <th>income_total</th>\n",
              "      <th>income_type</th>\n",
              "      <th>edu_type</th>\n",
              "      <th>family_type</th>\n",
              "      <th>house_type</th>\n",
              "      <th>DAYS_BIRTH</th>\n",
              "      <th>DAYS_EMPLOYED</th>\n",
              "      <th>FLAG_MOBIL</th>\n",
              "      <th>work_phone</th>\n",
              "      <th>phone</th>\n",
              "      <th>email</th>\n",
              "      <th>occyp_type</th>\n",
              "      <th>family_size</th>\n",
              "      <th>begin_month</th>\n",
              "      <th>credit</th>\n",
              "    </tr>\n",
              "  </thead>\n",
              "  <tbody>\n",
              "    <tr>\n",
              "      <th>0</th>\n",
              "      <td>0</td>\n",
              "      <td>F</td>\n",
              "      <td>N</td>\n",
              "      <td>N</td>\n",
              "      <td>0</td>\n",
              "      <td>202500.0</td>\n",
              "      <td>Commercial associate</td>\n",
              "      <td>Higher education</td>\n",
              "      <td>Married</td>\n",
              "      <td>Municipal apartment</td>\n",
              "      <td>-13899</td>\n",
              "      <td>-4709</td>\n",
              "      <td>1</td>\n",
              "      <td>0</td>\n",
              "      <td>0</td>\n",
              "      <td>0</td>\n",
              "      <td>NaN</td>\n",
              "      <td>2.0</td>\n",
              "      <td>-6.0</td>\n",
              "      <td>1.0</td>\n",
              "    </tr>\n",
              "    <tr>\n",
              "      <th>1</th>\n",
              "      <td>1</td>\n",
              "      <td>F</td>\n",
              "      <td>N</td>\n",
              "      <td>Y</td>\n",
              "      <td>1</td>\n",
              "      <td>247500.0</td>\n",
              "      <td>Commercial associate</td>\n",
              "      <td>Secondary / secondary special</td>\n",
              "      <td>Civil marriage</td>\n",
              "      <td>House / apartment</td>\n",
              "      <td>-11380</td>\n",
              "      <td>-1540</td>\n",
              "      <td>1</td>\n",
              "      <td>0</td>\n",
              "      <td>0</td>\n",
              "      <td>1</td>\n",
              "      <td>Laborers</td>\n",
              "      <td>3.0</td>\n",
              "      <td>-5.0</td>\n",
              "      <td>1.0</td>\n",
              "    </tr>\n",
              "    <tr>\n",
              "      <th>2</th>\n",
              "      <td>2</td>\n",
              "      <td>M</td>\n",
              "      <td>Y</td>\n",
              "      <td>Y</td>\n",
              "      <td>0</td>\n",
              "      <td>450000.0</td>\n",
              "      <td>Working</td>\n",
              "      <td>Higher education</td>\n",
              "      <td>Married</td>\n",
              "      <td>House / apartment</td>\n",
              "      <td>-19087</td>\n",
              "      <td>-4434</td>\n",
              "      <td>1</td>\n",
              "      <td>0</td>\n",
              "      <td>1</td>\n",
              "      <td>0</td>\n",
              "      <td>Managers</td>\n",
              "      <td>2.0</td>\n",
              "      <td>-22.0</td>\n",
              "      <td>2.0</td>\n",
              "    </tr>\n",
              "    <tr>\n",
              "      <th>3</th>\n",
              "      <td>3</td>\n",
              "      <td>F</td>\n",
              "      <td>N</td>\n",
              "      <td>Y</td>\n",
              "      <td>0</td>\n",
              "      <td>202500.0</td>\n",
              "      <td>Commercial associate</td>\n",
              "      <td>Secondary / secondary special</td>\n",
              "      <td>Married</td>\n",
              "      <td>House / apartment</td>\n",
              "      <td>-15088</td>\n",
              "      <td>-2092</td>\n",
              "      <td>1</td>\n",
              "      <td>0</td>\n",
              "      <td>1</td>\n",
              "      <td>0</td>\n",
              "      <td>Sales staff</td>\n",
              "      <td>2.0</td>\n",
              "      <td>-37.0</td>\n",
              "      <td>0.0</td>\n",
              "    </tr>\n",
              "    <tr>\n",
              "      <th>4</th>\n",
              "      <td>4</td>\n",
              "      <td>F</td>\n",
              "      <td>Y</td>\n",
              "      <td>Y</td>\n",
              "      <td>0</td>\n",
              "      <td>157500.0</td>\n",
              "      <td>State servant</td>\n",
              "      <td>Higher education</td>\n",
              "      <td>Married</td>\n",
              "      <td>House / apartment</td>\n",
              "      <td>-15037</td>\n",
              "      <td>-2105</td>\n",
              "      <td>1</td>\n",
              "      <td>0</td>\n",
              "      <td>0</td>\n",
              "      <td>0</td>\n",
              "      <td>Managers</td>\n",
              "      <td>2.0</td>\n",
              "      <td>-26.0</td>\n",
              "      <td>2.0</td>\n",
              "    </tr>\n",
              "  </tbody>\n",
              "</table>\n",
              "</div>"
            ],
            "text/plain": [
              "   index gender car reality  ...   occyp_type  family_size begin_month credit\n",
              "0      0      F   N       N  ...          NaN          2.0        -6.0    1.0\n",
              "1      1      F   N       Y  ...     Laborers          3.0        -5.0    1.0\n",
              "2      2      M   Y       Y  ...     Managers          2.0       -22.0    2.0\n",
              "3      3      F   N       Y  ...  Sales staff          2.0       -37.0    0.0\n",
              "4      4      F   Y       Y  ...     Managers          2.0       -26.0    2.0\n",
              "\n",
              "[5 rows x 20 columns]"
            ]
          },
          "metadata": {
            "tags": []
          },
          "execution_count": 7
        }
      ]
    },
    {
      "cell_type": "code",
      "metadata": {
        "id": "CZg0fDR1WU3w",
        "colab": {
          "base_uri": "https://localhost:8080/"
        },
        "outputId": "b9135311-d5ec-4c32-a967-ce09b775fcca"
      },
      "source": [
        "# Student 매우 작음...\n",
        "train['income_type'].value_counts()"
      ],
      "execution_count": 8,
      "outputs": [
        {
          "output_type": "execute_result",
          "data": {
            "text/plain": [
              "Working                 13645\n",
              "Commercial associate     6202\n",
              "Pensioner                4449\n",
              "State servant            2154\n",
              "Student                     7\n",
              "Name: income_type, dtype: int64"
            ]
          },
          "metadata": {
            "tags": []
          },
          "execution_count": 8
        }
      ]
    },
    {
      "cell_type": "code",
      "metadata": {
        "colab": {
          "base_uri": "https://localhost:8080/"
        },
        "id": "htgC0DQYXD7J",
        "outputId": "b3b8048e-3975-4b4f-cf7c-214816554afa"
      },
      "source": [
        "len(train['index'].unique())"
      ],
      "execution_count": null,
      "outputs": [
        {
          "output_type": "execute_result",
          "data": {
            "text/plain": [
              "26457"
            ]
          },
          "metadata": {
            "tags": []
          },
          "execution_count": 40
        }
      ]
    },
    {
      "cell_type": "markdown",
      "metadata": {
        "id": "OV7zuhxYZKzv"
      },
      "source": [
        "## 공유 코드(EDA 2, 3)의 중복된 데이터 관련_1\n",
        "> 그냥 다른 사람으로 생각하고 credit은 중복 데이터의 평균의 반올림으로 해볼까\n",
        "\n",
        "- [Simple Baseline LGBM - LB 0.72728 - 최정명](https://dacon.io/competitions/official/235713/codeshare/2476?page=1&dtype=vote) 일부 참고"
      ]
    },
    {
      "cell_type": "code",
      "metadata": {
        "id": "1kcZbyKDWveN"
      },
      "source": [
        "import pandas as pd\n",
        "import numpy as np\n",
        "\n",
        "import warnings\n",
        "warnings.filterwarnings('ignore')"
      ],
      "execution_count": 9,
      "outputs": []
    },
    {
      "cell_type": "code",
      "metadata": {
        "id": "s4phq9fJXd2F"
      },
      "source": [
        "train1 = train.copy()"
      ],
      "execution_count": 10,
      "outputs": []
    },
    {
      "cell_type": "code",
      "metadata": {
        "colab": {
          "base_uri": "https://localhost:8080/",
          "height": 377
        },
        "id": "MlybU20OXrFO",
        "outputId": "3cffb785-c850-41f1-9184-2086bec0b48c"
      },
      "source": [
        "train1.head()"
      ],
      "execution_count": 53,
      "outputs": [
        {
          "output_type": "execute_result",
          "data": {
            "text/html": [
              "<div>\n",
              "<style scoped>\n",
              "    .dataframe tbody tr th:only-of-type {\n",
              "        vertical-align: middle;\n",
              "    }\n",
              "\n",
              "    .dataframe tbody tr th {\n",
              "        vertical-align: top;\n",
              "    }\n",
              "\n",
              "    .dataframe thead th {\n",
              "        text-align: right;\n",
              "    }\n",
              "</style>\n",
              "<table border=\"1\" class=\"dataframe\">\n",
              "  <thead>\n",
              "    <tr style=\"text-align: right;\">\n",
              "      <th></th>\n",
              "      <th>gender</th>\n",
              "      <th>car</th>\n",
              "      <th>reality</th>\n",
              "      <th>child_num</th>\n",
              "      <th>income_total</th>\n",
              "      <th>income_type</th>\n",
              "      <th>edu_type</th>\n",
              "      <th>family_type</th>\n",
              "      <th>house_type</th>\n",
              "      <th>DAYS_BIRTH</th>\n",
              "      <th>DAYS_EMPLOYED</th>\n",
              "      <th>FLAG_MOBIL</th>\n",
              "      <th>work_phone</th>\n",
              "      <th>phone</th>\n",
              "      <th>email</th>\n",
              "      <th>occyp_type</th>\n",
              "      <th>family_size</th>\n",
              "      <th>begin_month</th>\n",
              "      <th>credit</th>\n",
              "    </tr>\n",
              "  </thead>\n",
              "  <tbody>\n",
              "    <tr>\n",
              "      <th>0</th>\n",
              "      <td>F</td>\n",
              "      <td>N</td>\n",
              "      <td>N</td>\n",
              "      <td>0</td>\n",
              "      <td>202500.0</td>\n",
              "      <td>Commercial associate</td>\n",
              "      <td>Higher education</td>\n",
              "      <td>Married</td>\n",
              "      <td>Municipal apartment</td>\n",
              "      <td>-13899</td>\n",
              "      <td>-4709</td>\n",
              "      <td>1</td>\n",
              "      <td>0</td>\n",
              "      <td>0</td>\n",
              "      <td>0</td>\n",
              "      <td>NaN</td>\n",
              "      <td>2.0</td>\n",
              "      <td>-6.0</td>\n",
              "      <td>1.0</td>\n",
              "    </tr>\n",
              "    <tr>\n",
              "      <th>1</th>\n",
              "      <td>F</td>\n",
              "      <td>N</td>\n",
              "      <td>Y</td>\n",
              "      <td>1</td>\n",
              "      <td>247500.0</td>\n",
              "      <td>Commercial associate</td>\n",
              "      <td>Secondary / secondary special</td>\n",
              "      <td>Civil marriage</td>\n",
              "      <td>House / apartment</td>\n",
              "      <td>-11380</td>\n",
              "      <td>-1540</td>\n",
              "      <td>1</td>\n",
              "      <td>0</td>\n",
              "      <td>0</td>\n",
              "      <td>1</td>\n",
              "      <td>Laborers</td>\n",
              "      <td>3.0</td>\n",
              "      <td>-5.0</td>\n",
              "      <td>1.0</td>\n",
              "    </tr>\n",
              "    <tr>\n",
              "      <th>2</th>\n",
              "      <td>M</td>\n",
              "      <td>Y</td>\n",
              "      <td>Y</td>\n",
              "      <td>0</td>\n",
              "      <td>450000.0</td>\n",
              "      <td>Working</td>\n",
              "      <td>Higher education</td>\n",
              "      <td>Married</td>\n",
              "      <td>House / apartment</td>\n",
              "      <td>-19087</td>\n",
              "      <td>-4434</td>\n",
              "      <td>1</td>\n",
              "      <td>0</td>\n",
              "      <td>1</td>\n",
              "      <td>0</td>\n",
              "      <td>Managers</td>\n",
              "      <td>2.0</td>\n",
              "      <td>-22.0</td>\n",
              "      <td>2.0</td>\n",
              "    </tr>\n",
              "    <tr>\n",
              "      <th>3</th>\n",
              "      <td>F</td>\n",
              "      <td>N</td>\n",
              "      <td>Y</td>\n",
              "      <td>0</td>\n",
              "      <td>202500.0</td>\n",
              "      <td>Commercial associate</td>\n",
              "      <td>Secondary / secondary special</td>\n",
              "      <td>Married</td>\n",
              "      <td>House / apartment</td>\n",
              "      <td>-15088</td>\n",
              "      <td>-2092</td>\n",
              "      <td>1</td>\n",
              "      <td>0</td>\n",
              "      <td>1</td>\n",
              "      <td>0</td>\n",
              "      <td>Sales staff</td>\n",
              "      <td>2.0</td>\n",
              "      <td>-37.0</td>\n",
              "      <td>0.0</td>\n",
              "    </tr>\n",
              "    <tr>\n",
              "      <th>4</th>\n",
              "      <td>F</td>\n",
              "      <td>Y</td>\n",
              "      <td>Y</td>\n",
              "      <td>0</td>\n",
              "      <td>157500.0</td>\n",
              "      <td>State servant</td>\n",
              "      <td>Higher education</td>\n",
              "      <td>Married</td>\n",
              "      <td>House / apartment</td>\n",
              "      <td>-15037</td>\n",
              "      <td>-2105</td>\n",
              "      <td>1</td>\n",
              "      <td>0</td>\n",
              "      <td>0</td>\n",
              "      <td>0</td>\n",
              "      <td>Managers</td>\n",
              "      <td>2.0</td>\n",
              "      <td>-26.0</td>\n",
              "      <td>2.0</td>\n",
              "    </tr>\n",
              "  </tbody>\n",
              "</table>\n",
              "</div>"
            ],
            "text/plain": [
              "  gender car reality  child_num  ...   occyp_type family_size begin_month credit\n",
              "0      F   N       N          0  ...          NaN         2.0        -6.0    1.0\n",
              "1      F   N       Y          1  ...     Laborers         3.0        -5.0    1.0\n",
              "2      M   Y       Y          0  ...     Managers         2.0       -22.0    2.0\n",
              "3      F   N       Y          0  ...  Sales staff         2.0       -37.0    0.0\n",
              "4      F   Y       Y          0  ...     Managers         2.0       -26.0    2.0\n",
              "\n",
              "[5 rows x 19 columns]"
            ]
          },
          "metadata": {
            "tags": []
          },
          "execution_count": 53
        }
      ]
    },
    {
      "cell_type": "code",
      "metadata": {
        "id": "cQjDlydGYVZ7"
      },
      "source": [
        "train1 = train1.drop('index', axis=1)"
      ],
      "execution_count": 12,
      "outputs": []
    },
    {
      "cell_type": "code",
      "metadata": {
        "colab": {
          "base_uri": "https://localhost:8080/"
        },
        "id": "GwsmTup2ZtU4",
        "outputId": "4909716b-c4ed-4602-fdf6-d0bdd1353b09"
      },
      "source": [
        "# 아예 중복되는 행\n",
        "np.sum(train1.duplicated(keep=False))"
      ],
      "execution_count": 14,
      "outputs": [
        {
          "output_type": "execute_result",
          "data": {
            "text/plain": [
              "3155"
            ]
          },
          "metadata": {
            "tags": []
          },
          "execution_count": 14
        }
      ]
    },
    {
      "cell_type": "code",
      "metadata": {
        "colab": {
          "base_uri": "https://localhost:8080/"
        },
        "id": "P1fyjLaWdGat",
        "outputId": "f2267c37-ed01-4073-9e29-95985528baf2"
      },
      "source": [
        "# 타겟값을 제외하고 중복되는 행\n",
        "np.sum(train1.drop([\"credit\"], axis = 1).duplicated(keep = False))"
      ],
      "execution_count": 17,
      "outputs": [
        {
          "output_type": "execute_result",
          "data": {
            "text/plain": [
              "4497"
            ]
          },
          "metadata": {
            "tags": []
          },
          "execution_count": 17
        }
      ]
    },
    {
      "cell_type": "code",
      "metadata": {
        "id": "R_agUz0-Z2-W"
      },
      "source": [
        "dup_index = train1.drop([\"credit\"], axis = 1).duplicated(keep = False)\n",
        "train1_dup = train1[dup_index]"
      ],
      "execution_count": 34,
      "outputs": []
    },
    {
      "cell_type": "code",
      "metadata": {
        "colab": {
          "base_uri": "https://localhost:8080/"
        },
        "id": "dzc2qZxtrRZR",
        "outputId": "abeb4d9d-faf1-4f21-a0fc-ac8dff23d75d"
      },
      "source": [
        "train1_dup.shape"
      ],
      "execution_count": 35,
      "outputs": [
        {
          "output_type": "execute_result",
          "data": {
            "text/plain": [
              "(4497, 19)"
            ]
          },
          "metadata": {
            "tags": []
          },
          "execution_count": 35
        }
      ]
    },
    {
      "cell_type": "code",
      "metadata": {
        "colab": {
          "base_uri": "https://localhost:8080/"
        },
        "id": "SupCovJVjJgc",
        "outputId": "94b7b5ea-6953-4248-cde5-ef66cca2809e"
      },
      "source": [
        "id_cols = train1_dup.columns.drop('credit')\n",
        "id_cols"
      ],
      "execution_count": 36,
      "outputs": [
        {
          "output_type": "execute_result",
          "data": {
            "text/plain": [
              "Index(['gender', 'car', 'reality', 'child_num', 'income_total', 'income_type',\n",
              "       'edu_type', 'family_type', 'house_type', 'DAYS_BIRTH', 'DAYS_EMPLOYED',\n",
              "       'FLAG_MOBIL', 'work_phone', 'phone', 'email', 'occyp_type',\n",
              "       'family_size', 'begin_month'],\n",
              "      dtype='object')"
            ]
          },
          "metadata": {
            "tags": []
          },
          "execution_count": 36
        }
      ]
    },
    {
      "cell_type": "code",
      "metadata": {
        "id": "4RAjAhS5bnLk"
      },
      "source": [
        "train1_dup['id'] = train1_dup[id_cols].astype('str').apply(lambda x: '-'.join(x), axis=1)"
      ],
      "execution_count": 41,
      "outputs": []
    },
    {
      "cell_type": "code",
      "metadata": {
        "colab": {
          "base_uri": "https://localhost:8080/"
        },
        "id": "8DVxqs6Ni2ox",
        "outputId": "d9fc927c-d00d-4286-bd85-2ff809757ca1"
      },
      "source": [
        "train1_dup['id']"
      ],
      "execution_count": 42,
      "outputs": [
        {
          "output_type": "execute_result",
          "data": {
            "text/plain": [
              "1        F-N-Y-1-247500.0-Commercial associate-Secondar...\n",
              "2        M-Y-Y-0-450000.0-Working-Higher education-Marr...\n",
              "19       F-N-Y-0-180000.0-Working-Secondary / secondary...\n",
              "21       F-N-N-0-157500.0-Pensioner-Secondary / seconda...\n",
              "24       F-N-N-0-202500.0-Pensioner-Secondary / seconda...\n",
              "                               ...                        \n",
              "26430    F-N-Y-0-112500.0-Working-Incomplete higher-Civ...\n",
              "26431    F-N-Y-0-225000.0-Pensioner-Secondary / seconda...\n",
              "26432    F-Y-Y-0-72000.0-Pensioner-Secondary / secondar...\n",
              "26446    F-N-Y-0-135000.0-Working-Secondary / secondary...\n",
              "26451    F-N-Y-0-202500.0-Working-Higher education-Marr...\n",
              "Name: id, Length: 4497, dtype: object"
            ]
          },
          "metadata": {
            "tags": []
          },
          "execution_count": 42
        }
      ]
    },
    {
      "cell_type": "code",
      "metadata": {
        "colab": {
          "base_uri": "https://localhost:8080/"
        },
        "id": "SAgtD9Fri_xL",
        "outputId": "160107b0-3561-4dd7-fdf4-89df2131a294"
      },
      "source": [
        "train1_dup['id'].value_counts()"
      ],
      "execution_count": 43,
      "outputs": [
        {
          "output_type": "execute_result",
          "data": {
            "text/plain": [
              "F-Y-Y-0-112500.0-Working-Secondary / secondary special-Civil marriage-House / apartment--13686--1256-1-0-0-0-Cooking staff-2.0--2.0     5\n",
              "F-Y-N-0-315000.0-Working-Higher education-Married-Co-op apartment--13064--2286-1-1-0-0-Medicine staff-2.0--33.0                         5\n",
              "F-N-Y-0-135000.0-Pensioner-Secondary / secondary special-Separated-House / apartment--20752-365243-1-0-0-0-nan-1.0--23.0                5\n",
              "M-Y-Y-0-225000.0-Working-Secondary / secondary special-Married-House / apartment--11226--2236-1-0-0-0-Drivers-2.0--35.0                 4\n",
              "F-N-Y-0-148500.0-Pensioner-Secondary / secondary special-Married-House / apartment--19276-365243-1-0-0-0-nan-2.0--22.0                  4\n",
              "                                                                                                                                       ..\n",
              "M-Y-Y-1-225000.0-Commercial associate-Secondary / secondary special-Married-House / apartment--15296--4244-1-1-0-0-Drivers-3.0--51.0    2\n",
              "F-N-Y-0-135000.0-Pensioner-Higher education-Married-House / apartment--22747-365243-1-0-0-0-nan-2.0--41.0                               2\n",
              "F-N-Y-0-225000.0-Working-Higher education-Married-House / apartment--16202--2939-1-1-1-0-Managers-2.0--7.0                              2\n",
              "F-N-Y-0-126000.0-Working-Secondary / secondary special-Separated-House / apartment--21646--1283-1-1-1-0-Cleaning staff-1.0--39.0        2\n",
              "F-Y-N-2-315000.0-Working-Secondary / secondary special-Married-Rented apartment--12209--840-1-0-1-1-nan-4.0--60.0                       2\n",
              "Name: id, Length: 2144, dtype: int64"
            ]
          },
          "metadata": {
            "tags": []
          },
          "execution_count": 43
        }
      ]
    },
    {
      "cell_type": "code",
      "metadata": {
        "colab": {
          "base_uri": "https://localhost:8080/"
        },
        "id": "Z6Cf_se_u8Oj",
        "outputId": "e3d31a0e-a4aa-499b-8990-51e9568b8799"
      },
      "source": [
        "np.sum(train1_dup['id'].value_counts() == 2)"
      ],
      "execution_count": 44,
      "outputs": [
        {
          "output_type": "execute_result",
          "data": {
            "text/plain": [
              "1960"
            ]
          },
          "metadata": {
            "tags": []
          },
          "execution_count": 44
        }
      ]
    },
    {
      "cell_type": "code",
      "metadata": {
        "colab": {
          "base_uri": "https://localhost:8080/"
        },
        "id": "8FlvdtVYy3oy",
        "outputId": "dcdad964-a025-4025-d78c-6b27f4c017e6"
      },
      "source": [
        "np.sum(train1_dup['id'].value_counts() == 3)"
      ],
      "execution_count": 54,
      "outputs": [
        {
          "output_type": "execute_result",
          "data": {
            "text/plain": [
              "162"
            ]
          },
          "metadata": {
            "tags": []
          },
          "execution_count": 54
        }
      ]
    },
    {
      "cell_type": "code",
      "metadata": {
        "colab": {
          "base_uri": "https://localhost:8080/"
        },
        "id": "8ra6DC4ty50I",
        "outputId": "69036c1c-6869-48c1-b402-f27f2cd7da88"
      },
      "source": [
        "np.sum(train1_dup['id'].value_counts() == 4)"
      ],
      "execution_count": 55,
      "outputs": [
        {
          "output_type": "execute_result",
          "data": {
            "text/plain": [
              "19"
            ]
          },
          "metadata": {
            "tags": []
          },
          "execution_count": 55
        }
      ]
    },
    {
      "cell_type": "code",
      "metadata": {
        "colab": {
          "base_uri": "https://localhost:8080/"
        },
        "id": "-uUqWEcny7U-",
        "outputId": "8c830b16-ca46-43cf-b607-127da52a6560"
      },
      "source": [
        "np.sum(train1_dup['id'].value_counts() == 5)"
      ],
      "execution_count": 56,
      "outputs": [
        {
          "output_type": "execute_result",
          "data": {
            "text/plain": [
              "3"
            ]
          },
          "metadata": {
            "tags": []
          },
          "execution_count": 56
        }
      ]
    },
    {
      "cell_type": "code",
      "metadata": {
        "colab": {
          "base_uri": "https://localhost:8080/"
        },
        "id": "xqA5qwIsvwKD",
        "outputId": "e9c513bb-2da3-4344-ccec-04f4e077d041"
      },
      "source": [
        "train1_dup['id'].value_counts().shape"
      ],
      "execution_count": 47,
      "outputs": [
        {
          "output_type": "execute_result",
          "data": {
            "text/plain": [
              "(2144,)"
            ]
          },
          "metadata": {
            "tags": []
          },
          "execution_count": 47
        }
      ]
    },
    {
      "cell_type": "code",
      "metadata": {
        "colab": {
          "base_uri": "https://localhost:8080/"
        },
        "id": "Mq1Y693ZvDjx",
        "outputId": "2d46fbf7-1f8a-4863-a052-c1994e5f6b3f"
      },
      "source": [
        "train1_dup.groupby('id')['credit'].mean()"
      ],
      "execution_count": 46,
      "outputs": [
        {
          "output_type": "execute_result",
          "data": {
            "text/plain": [
              "id\n",
              "F-N-N-0-103500.0-Pensioner-Secondary / secondary special-Married-House / apartment--24346-365243-1-0-0-0-nan-2.0--57.0                               2.0\n",
              "F-N-N-0-108000.0-Commercial associate-Secondary / secondary special-Married-House / apartment--15803--9029-1-0-1-0-High skill tech staff-2.0--4.0    1.5\n",
              "F-N-N-0-112500.0-Commercial associate-Higher education-Married-With parents--19721--1539-1-0-0-0-Accountants-2.0--1.0                                0.5\n",
              "F-N-N-0-112500.0-Commercial associate-Incomplete higher-Married-House / apartment--10177--2339-1-0-1-0-nan-2.0--56.0                                 2.0\n",
              "F-N-N-0-112500.0-Commercial associate-Secondary / secondary special-Married-House / apartment--17892--470-1-0-1-0-Sales staff-2.0--9.0               2.0\n",
              "                                                                                                                                                    ... \n",
              "M-Y-Y-3-180000.0-Working-Secondary / secondary special-Married-House / apartment--14192--824-1-1-1-0-High skill tech staff-5.0--23.0                 2.0\n",
              "M-Y-Y-3-202500.0-Working-Secondary / secondary special-Married-House / apartment--13300--3668-1-0-1-0-nan-5.0--56.0                                  1.0\n",
              "M-Y-Y-3-202500.0-Working-Secondary / secondary special-Married-House / apartment--13300--3668-1-0-1-0-nan-5.0--7.0                                   1.0\n",
              "M-Y-Y-3-202500.0-Working-Secondary / secondary special-Married-House / apartment--16013--4785-1-0-1-1-nan-5.0--24.0                                  2.0\n",
              "M-Y-Y-4-157500.0-Working-Higher education-Married-House / apartment--11380--1734-1-0-0-0-Managers-6.0--37.0                                          0.5\n",
              "Name: credit, Length: 2144, dtype: float64"
            ]
          },
          "metadata": {
            "tags": []
          },
          "execution_count": 46
        }
      ]
    },
    {
      "cell_type": "code",
      "metadata": {
        "colab": {
          "base_uri": "https://localhost:8080/"
        },
        "id": "4DXiYFuI7l1R",
        "outputId": "5bdbaff8-a363-4b81-d070-221462f96afd"
      },
      "source": [
        "np.sum(train1_dup.drop('id', axis=1).duplicated())"
      ],
      "execution_count": 95,
      "outputs": [
        {
          "output_type": "execute_result",
          "data": {
            "text/plain": [
              "1634"
            ]
          },
          "metadata": {
            "tags": []
          },
          "execution_count": 95
        }
      ]
    },
    {
      "cell_type": "code",
      "metadata": {
        "colab": {
          "base_uri": "https://localhost:8080/"
        },
        "id": "BDF4Brxx1O_F",
        "outputId": "ed8842f9-26b9-47df-abc4-c94a8cd9b277"
      },
      "source": [
        "np.sum(train1_dup['id'].duplicated(keep='last'))"
      ],
      "execution_count": 93,
      "outputs": [
        {
          "output_type": "execute_result",
          "data": {
            "text/plain": [
              "2353"
            ]
          },
          "metadata": {
            "tags": []
          },
          "execution_count": 93
        }
      ]
    },
    {
      "cell_type": "code",
      "metadata": {
        "colab": {
          "base_uri": "https://localhost:8080/"
        },
        "id": "6RiHgeka6f5d",
        "outputId": "33019e89-0048-42da-b74f-7cfaf8f2fca6"
      },
      "source": [
        "len(set(train1_dup['id']))"
      ],
      "execution_count": 92,
      "outputs": [
        {
          "output_type": "execute_result",
          "data": {
            "text/plain": [
              "2144"
            ]
          },
          "metadata": {
            "tags": []
          },
          "execution_count": 92
        }
      ]
    },
    {
      "cell_type": "code",
      "metadata": {
        "colab": {
          "base_uri": "https://localhost:8080/"
        },
        "id": "7YQC7g-E4-Qj",
        "outputId": "5508b188-892f-4895-f682-6da78d901258"
      },
      "source": [
        "train1_dup.drop_duplicates(keep=False)['id'].value_counts()"
      ],
      "execution_count": 88,
      "outputs": [
        {
          "output_type": "execute_result",
          "data": {
            "text/plain": [
              "F-N-Y-1-135000.0-Commercial associate-Higher education-Married-House / apartment--9778--2910-1-1-0-1-Core staff-3.0--50.0                            3\n",
              "F-Y-N-0-31500.0-Commercial associate-Secondary / secondary special-Married-House / apartment--17762--7734-1-1-1-0-Cleaning staff-2.0--34.0           3\n",
              "F-N-Y-0-180000.0-Working-Secondary / secondary special-Single / not married-House / apartment--14279--2939-1-0-0-0-Sales staff-1.0--59.0             3\n",
              "F-Y-Y-0-202500.0-State servant-Higher education-Single / not married-House / apartment--22101--15038-1-0-1-0-nan-1.0--35.0                           3\n",
              "F-N-N-0-49500.0-Pensioner-Higher education-Married-Municipal apartment--21157-365243-1-0-0-0-nan-2.0--11.0                                           3\n",
              "                                                                                                                                                    ..\n",
              "F-N-Y-0-297000.0-Commercial associate-Secondary / secondary special-Single / not married-Rented apartment--15519--3234-1-0-0-0-Laborers-1.0--1.0     1\n",
              "F-N-Y-0-157500.0-State servant-Higher education-Married-House / apartment--15145--3654-1-0-1-0-Managers-2.0--29.0                                    1\n",
              "F-N-Y-0-297000.0-Commercial associate-Secondary / secondary special-Single / not married-Rented apartment--15519--3234-1-0-0-0-Laborers-1.0--27.0    1\n",
              "M-N-Y-0-148500.0-Working-Secondary / secondary special-Single / not married-House / apartment--11819--962-1-0-0-0-Laborers-1.0--3.0                  1\n",
              "F-Y-N-0-202500.0-Commercial associate-Secondary / secondary special-Civil marriage-With parents--14228--5330-1-0-1-0-nan-2.0--33.0                   1\n",
              "Name: id, Length: 704, dtype: int64"
            ]
          },
          "metadata": {
            "tags": []
          },
          "execution_count": 88
        }
      ]
    },
    {
      "cell_type": "code",
      "metadata": {
        "id": "cRSSQla-5rjv"
      },
      "source": [
        ""
      ],
      "execution_count": null,
      "outputs": []
    }
  ]
}
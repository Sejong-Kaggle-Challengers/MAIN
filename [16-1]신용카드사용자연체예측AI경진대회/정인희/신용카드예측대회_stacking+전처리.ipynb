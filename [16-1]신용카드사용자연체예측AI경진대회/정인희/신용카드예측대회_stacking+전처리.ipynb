{
  "nbformat": 4,
  "nbformat_minor": 0,
  "metadata": {
    "colab": {
      "name": "신용카드예측대회-stacking+전처리",
      "provenance": []
    },
    "kernelspec": {
      "name": "python3",
      "display_name": "Python 3"
    },
    "language_info": {
      "name": "python"
    },
    "accelerator": "GPU"
  },
  "cells": [
    {
      "cell_type": "code",
      "metadata": {
        "colab": {
          "base_uri": "https://localhost:8080/"
        },
        "id": "QLNOerkoQCzk",
        "outputId": "bcdc8443-b2eb-4f3e-f420-9f085958c784"
      },
      "source": [
        "cd /content/drive/MyDrive"
      ],
      "execution_count": null,
      "outputs": [
        {
          "output_type": "stream",
          "text": [
            "/content/drive/MyDrive\n"
          ],
          "name": "stdout"
        }
      ]
    },
    {
      "cell_type": "code",
      "metadata": {
        "colab": {
          "base_uri": "https://localhost:8080/"
        },
        "id": "iVXzCGKbQWeq",
        "outputId": "fdfc70d0-6368-4e54-c304-13a571fe08d8"
      },
      "source": [
        "ls"
      ],
      "execution_count": null,
      "outputs": [
        {
          "output_type": "stream",
          "text": [
            " \u001b[0m\u001b[01;34mcatboost_info\u001b[0m/      FOR_AI_Journal.xlsx     submit.csv      train.csv\n",
            "\u001b[01;34m'Colab Notebooks'\u001b[0m/  'My image model.tm'      test.csv        train_data.csv\n",
            " \u001b[01;34mdata\u001b[0m/               open.zip                test_data.csv\n",
            " \u001b[01;34mdata_loader_v2\u001b[0m/     sample_submission.csv   test_x.csv\n"
          ],
          "name": "stdout"
        }
      ]
    },
    {
      "cell_type": "code",
      "metadata": {
        "id": "j2aORybtQb7U"
      },
      "source": [
        "import pandas as pd\n",
        "import numpy as np"
      ],
      "execution_count": null,
      "outputs": []
    },
    {
      "cell_type": "code",
      "metadata": {
        "id": "5kt4VbywWnwm"
      },
      "source": [
        "import numpy as np\n",
        "import pandas as pd\n",
        "import matplotlib.pyplot as plt\n",
        "import seaborn as sns\n",
        "from lightgbm import LGBMClassifier\n",
        "from sklearn.preprocessing import OneHotEncoder, OrdinalEncoder\n",
        "from sklearn.model_selection import cross_validate\n",
        "from sklearn.decomposition import PCA\n",
        "\n",
        "def data_preprocessing(train, test=None):\n",
        "  train.fillna('NAN', inplace=True)\n",
        "  train.drop('index', axis=1, inplace=True)\n",
        "  train.drop('FLAG_MOBIL', axis=1, inplace=True)\n",
        "\n",
        "  binary_col = ['gender',\n",
        "                'car',\n",
        "                'reality']\n",
        "\n",
        "  binary_encoder = OrdinalEncoder(categories=[['F', 'M'],\n",
        "                                              ['N', 'Y'],\n",
        "                                              ['N', 'Y']],\n",
        "                                  dtype=np.int8)\\\n",
        "                                  .fit(train.loc[:,binary_col])\n",
        "\n",
        "  train.loc[:,binary_col] = binary_encoder.transform(train.loc[:,binary_col])\n",
        "\n",
        "  onehot_col = ['income_type',\n",
        "                'edu_type',\n",
        "                'family_type',\n",
        "                'house_type',\n",
        "                'occyp_type']\n",
        "\n",
        "\n",
        "  onehot_encoder = OneHotEncoder()\n",
        "  onehot_encoder.fit(train.loc[:,onehot_col])\n",
        "\n",
        "  train_onehot_df = pd.DataFrame(onehot_encoder.transform(train.loc[:,onehot_col]).toarray(), \n",
        "                                 columns=onehot_encoder.get_feature_names(onehot_col))\n",
        "  train.drop(onehot_col, axis=1, inplace=True)\n",
        "  train = pd.concat([train, train_onehot_df], axis=1)\n",
        "\n",
        "  train['parent'] = train['family_size'] - train['child_num']\n",
        "\n",
        "  family_size_cut = 6\n",
        "  child_num_cut = 4\n",
        "\n",
        "  train.loc[train['family_size'] > family_size_cut, 'family_size'] = family_size_cut\n",
        "  train.loc[train['child_num'] > child_num_cut, 'child_num'] = child_num_cut\n",
        "\n",
        "  pca_col = ['family_size', 'child_num', 'parent']\n",
        "  pca = PCA(n_components=1).fit(train.loc[:, pca_col])\n",
        "\n",
        "  train['fcp-pca'] = pca.transform(train.loc[:, pca_col])\n",
        "  train.drop(pca_col, axis=1, inplace=True)\n",
        "\n",
        "  train['income_total'] = np.log1p(train['income_total'])\n",
        "\n",
        "  X_train = train.drop('credit', axis=1)\n",
        "  y_train = train['credit']\n",
        "\n",
        "  if test is not None:\n",
        "    test.fillna('NAN', inplace=True)\n",
        "    test.drop('index', axis=1, inplace=True)\n",
        "    test.drop('FLAG_MOBIL', axis=1, inplace=True)\n",
        "\n",
        "    test.loc[:,binary_col] = binary_encoder.transform(test.loc[:,binary_col])\n",
        "\n",
        "    test_onehot_df = pd.DataFrame(onehot_encoder.transform(test.loc[:,onehot_col]).toarray(), \n",
        "                                   columns=onehot_encoder.get_feature_names(onehot_col))\n",
        "    test.drop(onehot_col, axis=1, inplace=True)\n",
        "    test = pd.concat([test, test_onehot_df], axis=1)\n",
        "\n",
        "    test['parent'] = test['family_size'] - test['child_num']\n",
        "    test.loc[test['family_size'] > family_size_cut, 'family_size'] = family_size_cut\n",
        "    test.loc[test['child_num'] > child_num_cut, 'child_num'] = child_num_cut\n",
        "\n",
        "    test['fcp-pca'] = pca.transform(test.loc[:, pca_col])\n",
        "    test.drop(pca_col, axis=1, inplace=True)\n",
        "\n",
        "    test['income_total'] = np.log1p(test['income_total'])\n",
        "\n",
        "    return X_train, y_train, test\n",
        "  \n",
        "  return X_train, y_train"
      ],
      "execution_count": 11,
      "outputs": []
    },
    {
      "cell_type": "code",
      "metadata": {
        "id": "PWwqQqLbTgfI"
      },
      "source": [
        "index_col = 'index'\n",
        "target_col = 'credit'"
      ],
      "execution_count": 12,
      "outputs": []
    },
    {
      "cell_type": "code",
      "metadata": {
        "id": "rebjTwfLQfBH"
      },
      "source": [
        "train=pd.read_csv(\"train.csv\")\n",
        "test=pd.read_csv(\"test.csv\")"
      ],
      "execution_count": 16,
      "outputs": []
    },
    {
      "cell_type": "code",
      "metadata": {
        "id": "uNvQ7EFXW4kB"
      },
      "source": [
        "x_train, y_train, x_test = data_preprocessing(train, test)"
      ],
      "execution_count": 17,
      "outputs": []
    },
    {
      "cell_type": "code",
      "metadata": {
        "colab": {
          "base_uri": "https://localhost:8080/"
        },
        "id": "ryRKwUlkQkOC",
        "outputId": "5c44a6a6-e182-4ac7-a0b5-18881d57c835"
      },
      "source": [
        "x_train.info()"
      ],
      "execution_count": 19,
      "outputs": [
        {
          "output_type": "stream",
          "text": [
            "<class 'pandas.core.frame.DataFrame'>\n",
            "RangeIndex: 26457 entries, 0 to 26456\n",
            "Data columns (total 51 columns):\n",
            " #   Column                                  Non-Null Count  Dtype  \n",
            "---  ------                                  --------------  -----  \n",
            " 0   gender                                  26457 non-null  int64  \n",
            " 1   car                                     26457 non-null  int64  \n",
            " 2   reality                                 26457 non-null  int64  \n",
            " 3   income_total                            26457 non-null  float64\n",
            " 4   DAYS_BIRTH                              26457 non-null  int64  \n",
            " 5   DAYS_EMPLOYED                           26457 non-null  int64  \n",
            " 6   work_phone                              26457 non-null  int64  \n",
            " 7   phone                                   26457 non-null  int64  \n",
            " 8   email                                   26457 non-null  int64  \n",
            " 9   begin_month                             26457 non-null  float64\n",
            " 10  income_type_Commercial associate        26457 non-null  float64\n",
            " 11  income_type_Pensioner                   26457 non-null  float64\n",
            " 12  income_type_State servant               26457 non-null  float64\n",
            " 13  income_type_Student                     26457 non-null  float64\n",
            " 14  income_type_Working                     26457 non-null  float64\n",
            " 15  edu_type_Academic degree                26457 non-null  float64\n",
            " 16  edu_type_Higher education               26457 non-null  float64\n",
            " 17  edu_type_Incomplete higher              26457 non-null  float64\n",
            " 18  edu_type_Lower secondary                26457 non-null  float64\n",
            " 19  edu_type_Secondary / secondary special  26457 non-null  float64\n",
            " 20  family_type_Civil marriage              26457 non-null  float64\n",
            " 21  family_type_Married                     26457 non-null  float64\n",
            " 22  family_type_Separated                   26457 non-null  float64\n",
            " 23  family_type_Single / not married        26457 non-null  float64\n",
            " 24  family_type_Widow                       26457 non-null  float64\n",
            " 25  house_type_Co-op apartment              26457 non-null  float64\n",
            " 26  house_type_House / apartment            26457 non-null  float64\n",
            " 27  house_type_Municipal apartment          26457 non-null  float64\n",
            " 28  house_type_Office apartment             26457 non-null  float64\n",
            " 29  house_type_Rented apartment             26457 non-null  float64\n",
            " 30  house_type_With parents                 26457 non-null  float64\n",
            " 31  occyp_type_Accountants                  26457 non-null  float64\n",
            " 32  occyp_type_Cleaning staff               26457 non-null  float64\n",
            " 33  occyp_type_Cooking staff                26457 non-null  float64\n",
            " 34  occyp_type_Core staff                   26457 non-null  float64\n",
            " 35  occyp_type_Drivers                      26457 non-null  float64\n",
            " 36  occyp_type_HR staff                     26457 non-null  float64\n",
            " 37  occyp_type_High skill tech staff        26457 non-null  float64\n",
            " 38  occyp_type_IT staff                     26457 non-null  float64\n",
            " 39  occyp_type_Laborers                     26457 non-null  float64\n",
            " 40  occyp_type_Low-skill Laborers           26457 non-null  float64\n",
            " 41  occyp_type_Managers                     26457 non-null  float64\n",
            " 42  occyp_type_Medicine staff               26457 non-null  float64\n",
            " 43  occyp_type_NAN                          26457 non-null  float64\n",
            " 44  occyp_type_Private service staff        26457 non-null  float64\n",
            " 45  occyp_type_Realty agents                26457 non-null  float64\n",
            " 46  occyp_type_Sales staff                  26457 non-null  float64\n",
            " 47  occyp_type_Secretaries                  26457 non-null  float64\n",
            " 48  occyp_type_Security staff               26457 non-null  float64\n",
            " 49  occyp_type_Waiters/barmen staff         26457 non-null  float64\n",
            " 50  fcp-pca                                 26457 non-null  float64\n",
            "dtypes: float64(43), int64(8)\n",
            "memory usage: 10.3 MB\n"
          ],
          "name": "stdout"
        }
      ]
    },
    {
      "cell_type": "code",
      "metadata": {
        "id": "cV6_89b7_PNo"
      },
      "source": [
        "train['family_size']=train['family_size'].astype(int)\n",
        "train['income_total']=train['income_total'].astype(int)\n",
        "train['begin_month']=train['begin_month'].astype(int)\n",
        "train['credit']=train['credit'].astype(int)\n",
        "\n",
        "test['family_size']=test['family_size'].astype(int)\n",
        "test['income_total']=test['income_total'].astype(int)\n",
        "test['begin_month']=test['begin_month'].astype(int)\n"
      ],
      "execution_count": null,
      "outputs": []
    },
    {
      "cell_type": "code",
      "metadata": {
        "colab": {
          "base_uri": "https://localhost:8080/",
          "height": 758
        },
        "id": "8UPypV8OSP8R",
        "outputId": "e0a90514-c495-45b7-aa67-a6f1c65ac832"
      },
      "source": [
        "train"
      ],
      "execution_count": null,
      "outputs": [
        {
          "output_type": "execute_result",
          "data": {
            "text/html": [
              "<div>\n",
              "<style scoped>\n",
              "    .dataframe tbody tr th:only-of-type {\n",
              "        vertical-align: middle;\n",
              "    }\n",
              "\n",
              "    .dataframe tbody tr th {\n",
              "        vertical-align: top;\n",
              "    }\n",
              "\n",
              "    .dataframe thead th {\n",
              "        text-align: right;\n",
              "    }\n",
              "</style>\n",
              "<table border=\"1\" class=\"dataframe\">\n",
              "  <thead>\n",
              "    <tr style=\"text-align: right;\">\n",
              "      <th></th>\n",
              "      <th>index</th>\n",
              "      <th>gender</th>\n",
              "      <th>car</th>\n",
              "      <th>reality</th>\n",
              "      <th>child_num</th>\n",
              "      <th>income_total</th>\n",
              "      <th>income_type</th>\n",
              "      <th>edu_type</th>\n",
              "      <th>family_type</th>\n",
              "      <th>house_type</th>\n",
              "      <th>DAYS_BIRTH</th>\n",
              "      <th>DAYS_EMPLOYED</th>\n",
              "      <th>FLAG_MOBIL</th>\n",
              "      <th>work_phone</th>\n",
              "      <th>phone</th>\n",
              "      <th>email</th>\n",
              "      <th>occyp_type</th>\n",
              "      <th>family_size</th>\n",
              "      <th>begin_month</th>\n",
              "      <th>credit</th>\n",
              "    </tr>\n",
              "  </thead>\n",
              "  <tbody>\n",
              "    <tr>\n",
              "      <th>0</th>\n",
              "      <td>0</td>\n",
              "      <td>F</td>\n",
              "      <td>N</td>\n",
              "      <td>N</td>\n",
              "      <td>0</td>\n",
              "      <td>202500</td>\n",
              "      <td>Commercial associate</td>\n",
              "      <td>Higher education</td>\n",
              "      <td>Married</td>\n",
              "      <td>Municipal apartment</td>\n",
              "      <td>-13899</td>\n",
              "      <td>-4709</td>\n",
              "      <td>1</td>\n",
              "      <td>0</td>\n",
              "      <td>0</td>\n",
              "      <td>0</td>\n",
              "      <td>NaN</td>\n",
              "      <td>2</td>\n",
              "      <td>-6</td>\n",
              "      <td>1</td>\n",
              "    </tr>\n",
              "    <tr>\n",
              "      <th>1</th>\n",
              "      <td>1</td>\n",
              "      <td>F</td>\n",
              "      <td>N</td>\n",
              "      <td>Y</td>\n",
              "      <td>1</td>\n",
              "      <td>247500</td>\n",
              "      <td>Commercial associate</td>\n",
              "      <td>Secondary / secondary special</td>\n",
              "      <td>Civil marriage</td>\n",
              "      <td>House / apartment</td>\n",
              "      <td>-11380</td>\n",
              "      <td>-1540</td>\n",
              "      <td>1</td>\n",
              "      <td>0</td>\n",
              "      <td>0</td>\n",
              "      <td>1</td>\n",
              "      <td>Laborers</td>\n",
              "      <td>3</td>\n",
              "      <td>-5</td>\n",
              "      <td>1</td>\n",
              "    </tr>\n",
              "    <tr>\n",
              "      <th>2</th>\n",
              "      <td>2</td>\n",
              "      <td>M</td>\n",
              "      <td>Y</td>\n",
              "      <td>Y</td>\n",
              "      <td>0</td>\n",
              "      <td>450000</td>\n",
              "      <td>Working</td>\n",
              "      <td>Higher education</td>\n",
              "      <td>Married</td>\n",
              "      <td>House / apartment</td>\n",
              "      <td>-19087</td>\n",
              "      <td>-4434</td>\n",
              "      <td>1</td>\n",
              "      <td>0</td>\n",
              "      <td>1</td>\n",
              "      <td>0</td>\n",
              "      <td>Managers</td>\n",
              "      <td>2</td>\n",
              "      <td>-22</td>\n",
              "      <td>2</td>\n",
              "    </tr>\n",
              "    <tr>\n",
              "      <th>3</th>\n",
              "      <td>3</td>\n",
              "      <td>F</td>\n",
              "      <td>N</td>\n",
              "      <td>Y</td>\n",
              "      <td>0</td>\n",
              "      <td>202500</td>\n",
              "      <td>Commercial associate</td>\n",
              "      <td>Secondary / secondary special</td>\n",
              "      <td>Married</td>\n",
              "      <td>House / apartment</td>\n",
              "      <td>-15088</td>\n",
              "      <td>-2092</td>\n",
              "      <td>1</td>\n",
              "      <td>0</td>\n",
              "      <td>1</td>\n",
              "      <td>0</td>\n",
              "      <td>Sales staff</td>\n",
              "      <td>2</td>\n",
              "      <td>-37</td>\n",
              "      <td>0</td>\n",
              "    </tr>\n",
              "    <tr>\n",
              "      <th>4</th>\n",
              "      <td>4</td>\n",
              "      <td>F</td>\n",
              "      <td>Y</td>\n",
              "      <td>Y</td>\n",
              "      <td>0</td>\n",
              "      <td>157500</td>\n",
              "      <td>State servant</td>\n",
              "      <td>Higher education</td>\n",
              "      <td>Married</td>\n",
              "      <td>House / apartment</td>\n",
              "      <td>-15037</td>\n",
              "      <td>-2105</td>\n",
              "      <td>1</td>\n",
              "      <td>0</td>\n",
              "      <td>0</td>\n",
              "      <td>0</td>\n",
              "      <td>Managers</td>\n",
              "      <td>2</td>\n",
              "      <td>-26</td>\n",
              "      <td>2</td>\n",
              "    </tr>\n",
              "    <tr>\n",
              "      <th>...</th>\n",
              "      <td>...</td>\n",
              "      <td>...</td>\n",
              "      <td>...</td>\n",
              "      <td>...</td>\n",
              "      <td>...</td>\n",
              "      <td>...</td>\n",
              "      <td>...</td>\n",
              "      <td>...</td>\n",
              "      <td>...</td>\n",
              "      <td>...</td>\n",
              "      <td>...</td>\n",
              "      <td>...</td>\n",
              "      <td>...</td>\n",
              "      <td>...</td>\n",
              "      <td>...</td>\n",
              "      <td>...</td>\n",
              "      <td>...</td>\n",
              "      <td>...</td>\n",
              "      <td>...</td>\n",
              "      <td>...</td>\n",
              "    </tr>\n",
              "    <tr>\n",
              "      <th>26452</th>\n",
              "      <td>26452</td>\n",
              "      <td>F</td>\n",
              "      <td>N</td>\n",
              "      <td>N</td>\n",
              "      <td>2</td>\n",
              "      <td>225000</td>\n",
              "      <td>State servant</td>\n",
              "      <td>Secondary / secondary special</td>\n",
              "      <td>Married</td>\n",
              "      <td>House / apartment</td>\n",
              "      <td>-12079</td>\n",
              "      <td>-1984</td>\n",
              "      <td>1</td>\n",
              "      <td>0</td>\n",
              "      <td>0</td>\n",
              "      <td>0</td>\n",
              "      <td>Core staff</td>\n",
              "      <td>4</td>\n",
              "      <td>-2</td>\n",
              "      <td>1</td>\n",
              "    </tr>\n",
              "    <tr>\n",
              "      <th>26453</th>\n",
              "      <td>26453</td>\n",
              "      <td>F</td>\n",
              "      <td>N</td>\n",
              "      <td>Y</td>\n",
              "      <td>1</td>\n",
              "      <td>180000</td>\n",
              "      <td>Working</td>\n",
              "      <td>Higher education</td>\n",
              "      <td>Separated</td>\n",
              "      <td>House / apartment</td>\n",
              "      <td>-15291</td>\n",
              "      <td>-2475</td>\n",
              "      <td>1</td>\n",
              "      <td>0</td>\n",
              "      <td>0</td>\n",
              "      <td>0</td>\n",
              "      <td>NaN</td>\n",
              "      <td>2</td>\n",
              "      <td>-47</td>\n",
              "      <td>2</td>\n",
              "    </tr>\n",
              "    <tr>\n",
              "      <th>26454</th>\n",
              "      <td>26454</td>\n",
              "      <td>F</td>\n",
              "      <td>Y</td>\n",
              "      <td>N</td>\n",
              "      <td>0</td>\n",
              "      <td>292500</td>\n",
              "      <td>Working</td>\n",
              "      <td>Secondary / secondary special</td>\n",
              "      <td>Civil marriage</td>\n",
              "      <td>With parents</td>\n",
              "      <td>-10082</td>\n",
              "      <td>-2015</td>\n",
              "      <td>1</td>\n",
              "      <td>0</td>\n",
              "      <td>0</td>\n",
              "      <td>0</td>\n",
              "      <td>Core staff</td>\n",
              "      <td>2</td>\n",
              "      <td>-25</td>\n",
              "      <td>2</td>\n",
              "    </tr>\n",
              "    <tr>\n",
              "      <th>26455</th>\n",
              "      <td>26455</td>\n",
              "      <td>M</td>\n",
              "      <td>N</td>\n",
              "      <td>Y</td>\n",
              "      <td>0</td>\n",
              "      <td>171000</td>\n",
              "      <td>Working</td>\n",
              "      <td>Incomplete higher</td>\n",
              "      <td>Single / not married</td>\n",
              "      <td>House / apartment</td>\n",
              "      <td>-10145</td>\n",
              "      <td>-107</td>\n",
              "      <td>1</td>\n",
              "      <td>0</td>\n",
              "      <td>0</td>\n",
              "      <td>0</td>\n",
              "      <td>Laborers</td>\n",
              "      <td>1</td>\n",
              "      <td>-59</td>\n",
              "      <td>2</td>\n",
              "    </tr>\n",
              "    <tr>\n",
              "      <th>26456</th>\n",
              "      <td>26456</td>\n",
              "      <td>F</td>\n",
              "      <td>N</td>\n",
              "      <td>N</td>\n",
              "      <td>0</td>\n",
              "      <td>81000</td>\n",
              "      <td>Working</td>\n",
              "      <td>Secondary / secondary special</td>\n",
              "      <td>Civil marriage</td>\n",
              "      <td>House / apartment</td>\n",
              "      <td>-19569</td>\n",
              "      <td>-1013</td>\n",
              "      <td>1</td>\n",
              "      <td>0</td>\n",
              "      <td>0</td>\n",
              "      <td>0</td>\n",
              "      <td>Security staff</td>\n",
              "      <td>2</td>\n",
              "      <td>-9</td>\n",
              "      <td>2</td>\n",
              "    </tr>\n",
              "  </tbody>\n",
              "</table>\n",
              "<p>26457 rows × 20 columns</p>\n",
              "</div>"
            ],
            "text/plain": [
              "       index gender car  ... family_size  begin_month  credit\n",
              "0          0      F   N  ...           2           -6       1\n",
              "1          1      F   N  ...           3           -5       1\n",
              "2          2      M   Y  ...           2          -22       2\n",
              "3          3      F   N  ...           2          -37       0\n",
              "4          4      F   Y  ...           2          -26       2\n",
              "...      ...    ...  ..  ...         ...          ...     ...\n",
              "26452  26452      F   N  ...           4           -2       1\n",
              "26453  26453      F   N  ...           2          -47       2\n",
              "26454  26454      F   Y  ...           2          -25       2\n",
              "26455  26455      M   N  ...           1          -59       2\n",
              "26456  26456      F   N  ...           2           -9       2\n",
              "\n",
              "[26457 rows x 20 columns]"
            ]
          },
          "metadata": {
            "tags": []
          },
          "execution_count": 8
        }
      ]
    },
    {
      "cell_type": "code",
      "metadata": {
        "id": "fxVC10uoVfAO"
      },
      "source": [
        "train=train.fillna('dontknow')\n",
        "train=train.drop(labels='index',axis=1)\n",
        "\n",
        "test=test.fillna('dontknow')\n",
        "test=test.drop(labels='index',axis=1)"
      ],
      "execution_count": null,
      "outputs": []
    },
    {
      "cell_type": "code",
      "metadata": {
        "colab": {
          "base_uri": "https://localhost:8080/"
        },
        "id": "_3Y9nr80W_7A",
        "outputId": "352d9a28-4904-4c23-9e0f-9911fbc5bdeb"
      },
      "source": [
        "test.isna().sum()"
      ],
      "execution_count": null,
      "outputs": [
        {
          "output_type": "execute_result",
          "data": {
            "text/plain": [
              "gender           0\n",
              "car              0\n",
              "reality          0\n",
              "child_num        0\n",
              "income_total     0\n",
              "income_type      0\n",
              "edu_type         0\n",
              "family_type      0\n",
              "house_type       0\n",
              "DAYS_BIRTH       0\n",
              "DAYS_EMPLOYED    0\n",
              "FLAG_MOBIL       0\n",
              "work_phone       0\n",
              "phone            0\n",
              "email            0\n",
              "occyp_type       0\n",
              "family_size      0\n",
              "begin_month      0\n",
              "dtype: int64"
            ]
          },
          "metadata": {
            "tags": []
          },
          "execution_count": 469
        }
      ]
    },
    {
      "cell_type": "code",
      "metadata": {
        "colab": {
          "base_uri": "https://localhost:8080/"
        },
        "id": "Z9KifT1wSmUV",
        "outputId": "a6383e0c-62d2-44d4-cf95-899ec4f697a4"
      },
      "source": [
        "!pip install category_encoders"
      ],
      "execution_count": 20,
      "outputs": [
        {
          "output_type": "stream",
          "text": [
            "Collecting category_encoders\n",
            "\u001b[?25l  Downloading https://files.pythonhosted.org/packages/44/57/fcef41c248701ee62e8325026b90c432adea35555cbc870aff9cfba23727/category_encoders-2.2.2-py2.py3-none-any.whl (80kB)\n",
            "\r\u001b[K     |████                            | 10kB 12.5MB/s eta 0:00:01\r\u001b[K     |████████▏                       | 20kB 13.1MB/s eta 0:00:01\r\u001b[K     |████████████▏                   | 30kB 9.2MB/s eta 0:00:01\r\u001b[K     |████████████████▎               | 40kB 8.0MB/s eta 0:00:01\r\u001b[K     |████████████████████▎           | 51kB 4.3MB/s eta 0:00:01\r\u001b[K     |████████████████████████▍       | 61kB 4.8MB/s eta 0:00:01\r\u001b[K     |████████████████████████████▍   | 71kB 5.0MB/s eta 0:00:01\r\u001b[K     |████████████████████████████████| 81kB 3.6MB/s \n",
            "\u001b[?25hRequirement already satisfied: pandas>=0.21.1 in /usr/local/lib/python3.7/dist-packages (from category_encoders) (1.1.5)\n",
            "Requirement already satisfied: numpy>=1.14.0 in /usr/local/lib/python3.7/dist-packages (from category_encoders) (1.19.5)\n",
            "Requirement already satisfied: statsmodels>=0.9.0 in /usr/local/lib/python3.7/dist-packages (from category_encoders) (0.10.2)\n",
            "Requirement already satisfied: scikit-learn>=0.20.0 in /usr/local/lib/python3.7/dist-packages (from category_encoders) (0.22.2.post1)\n",
            "Requirement already satisfied: patsy>=0.5.1 in /usr/local/lib/python3.7/dist-packages (from category_encoders) (0.5.1)\n",
            "Requirement already satisfied: scipy>=1.0.0 in /usr/local/lib/python3.7/dist-packages (from category_encoders) (1.4.1)\n",
            "Requirement already satisfied: pytz>=2017.2 in /usr/local/lib/python3.7/dist-packages (from pandas>=0.21.1->category_encoders) (2018.9)\n",
            "Requirement already satisfied: python-dateutil>=2.7.3 in /usr/local/lib/python3.7/dist-packages (from pandas>=0.21.1->category_encoders) (2.8.1)\n",
            "Requirement already satisfied: joblib>=0.11 in /usr/local/lib/python3.7/dist-packages (from scikit-learn>=0.20.0->category_encoders) (1.0.1)\n",
            "Requirement already satisfied: six in /usr/local/lib/python3.7/dist-packages (from patsy>=0.5.1->category_encoders) (1.15.0)\n",
            "Installing collected packages: category-encoders\n",
            "Successfully installed category-encoders-2.2.2\n"
          ],
          "name": "stdout"
        }
      ]
    },
    {
      "cell_type": "code",
      "metadata": {
        "colab": {
          "base_uri": "https://localhost:8080/"
        },
        "id": "gcn12-sXSnk4",
        "outputId": "679f530c-ade3-452c-d894-ea35f1d0dca6"
      },
      "source": [
        "cat_features = [x for x in x_train.columns if x_train[x].dtype == 'object']\n",
        "cont_features = [x for x in x_train.columns if x not in cat_features + [target_col]]\n",
        "feature_cols = cont_features + cat_features\n",
        "print(len(feature_cols), len(cat_features), len(cont_features))"
      ],
      "execution_count": 24,
      "outputs": [
        {
          "output_type": "stream",
          "text": [
            "51 0 51\n"
          ],
          "name": "stdout"
        }
      ]
    },
    {
      "cell_type": "code",
      "metadata": {
        "id": "sjFI9wCSgPdc"
      },
      "source": [
        "target=y_train"
      ],
      "execution_count": 25,
      "outputs": []
    },
    {
      "cell_type": "code",
      "metadata": {
        "id": "Dr3SdaRKTo5h",
        "colab": {
          "base_uri": "https://localhost:8080/"
        },
        "outputId": "bcfdb040-bc1b-4b5b-9deb-0710ca3ef89b"
      },
      "source": [
        "from category_encoders import LeaveOneOutEncoder\n",
        "from sklearn.preprocessing import LabelEncoder\n",
        "from category_encoders import CatBoostEncoder\n",
        "from sklearn.preprocessing import OrdinalEncoder\n",
        "\n",
        "xgb_cat_features = []\n",
        "lgb_cat_features = []\n",
        "cb_cat_features = []\n",
        "ridge_cat_features = []\n",
        "sgd_cat_features = []\n",
        "hgbc_cat_features = []\n",
        "\n",
        "loo_features = []\n",
        "le_features = []\n",
        "CBE_features=[]\n",
        "Ord_features=[]"
      ],
      "execution_count": 26,
      "outputs": [
        {
          "output_type": "stream",
          "text": [
            "/usr/local/lib/python3.7/dist-packages/statsmodels/tools/_testing.py:19: FutureWarning: pandas.util.testing is deprecated. Use the functions in the public API at pandas.testing instead.\n",
            "  import pandas.util.testing as tm\n"
          ],
          "name": "stderr"
        }
      ]
    },
    {
      "cell_type": "code",
      "metadata": {
        "id": "FvHDkUPHUAIT"
      },
      "source": [
        "def label_encode(train_df, test_df, column):\n",
        "    le = LabelEncoder()\n",
        "    new_feature = \"{}_le\".format(column)\n",
        "    le.fit(train_df[column].unique().tolist() + test_df[column].unique().tolist())\n",
        "    train_df[new_feature] = le.transform(train_df[column])\n",
        "    test_df[new_feature] = le.transform(test_df[column])\n",
        "    return new_feature\n",
        "\n",
        "def ordinal_encode(train_df, test_df, column):\n",
        "    Ord = OrdinalEncoder()\n",
        "    new_feature = \"{}_ord\".format(column)\n",
        "    Ord.fit(train_df[column].unique().tolist() + test_df[column].unique().tolist())\n",
        "    train_df[new_feature] = Ord.transform(train_df[column])\n",
        "    test_df[new_feature] = Ord.transform(test_df[column])\n",
        "    return new_feature\n",
        "    \n",
        "def loo_encode(train_df, test_df, column):\n",
        "    loo = LeaveOneOutEncoder()\n",
        "    new_feature = \"{}_loo\".format(column)\n",
        "    loo.fit(train_df[column], train_df[\"credit\"])\n",
        "    train_df[new_feature] = loo.transform(train_df[column])\n",
        "    test_df[new_feature] = loo.transform(test_df[column])\n",
        "    return new_feature\n",
        "\n",
        "def CBE(train_df, test_df, column):\n",
        "    CBE=CatBoostEncoder()\n",
        "    new_feature=\"{}_CBE\".format(column)\n",
        "    CBE.fit(train_df[column],train_df[\"credit\"])\n",
        "    train_df[new_feature]=CBE.transform(train_df[column])\n",
        "    test_df[new_feature]=CBE.transform(test_df[column])\n",
        "    return new_feature"
      ],
      "execution_count": 27,
      "outputs": []
    },
    {
      "cell_type": "code",
      "metadata": {
        "id": "AuG1_IF0UTWj"
      },
      "source": [
        "for feature in cat_features:\n",
        "    loo_features.append(loo_encode(train, test, feature))\n",
        "    #le_features.append(label_encode(train, test, feature))\n",
        "    CBE_features.append(CBE(train,test,feature))"
      ],
      "execution_count": 28,
      "outputs": []
    },
    {
      "cell_type": "code",
      "metadata": {
        "colab": {
          "base_uri": "https://localhost:8080/"
        },
        "id": "Y_YRcuhX8giZ",
        "outputId": "88d26221-e1df-492b-9aa7-491e35b698d5"
      },
      "source": [
        "x_test.isna().sum()"
      ],
      "execution_count": 30,
      "outputs": [
        {
          "output_type": "execute_result",
          "data": {
            "text/plain": [
              "gender                                    0\n",
              "car                                       0\n",
              "reality                                   0\n",
              "income_total                              0\n",
              "DAYS_BIRTH                                0\n",
              "DAYS_EMPLOYED                             0\n",
              "work_phone                                0\n",
              "phone                                     0\n",
              "email                                     0\n",
              "begin_month                               0\n",
              "income_type_Commercial associate          0\n",
              "income_type_Pensioner                     0\n",
              "income_type_State servant                 0\n",
              "income_type_Student                       0\n",
              "income_type_Working                       0\n",
              "edu_type_Academic degree                  0\n",
              "edu_type_Higher education                 0\n",
              "edu_type_Incomplete higher                0\n",
              "edu_type_Lower secondary                  0\n",
              "edu_type_Secondary / secondary special    0\n",
              "family_type_Civil marriage                0\n",
              "family_type_Married                       0\n",
              "family_type_Separated                     0\n",
              "family_type_Single / not married          0\n",
              "family_type_Widow                         0\n",
              "house_type_Co-op apartment                0\n",
              "house_type_House / apartment              0\n",
              "house_type_Municipal apartment            0\n",
              "house_type_Office apartment               0\n",
              "house_type_Rented apartment               0\n",
              "house_type_With parents                   0\n",
              "occyp_type_Accountants                    0\n",
              "occyp_type_Cleaning staff                 0\n",
              "occyp_type_Cooking staff                  0\n",
              "occyp_type_Core staff                     0\n",
              "occyp_type_Drivers                        0\n",
              "occyp_type_HR staff                       0\n",
              "occyp_type_High skill tech staff          0\n",
              "occyp_type_IT staff                       0\n",
              "occyp_type_Laborers                       0\n",
              "occyp_type_Low-skill Laborers             0\n",
              "occyp_type_Managers                       0\n",
              "occyp_type_Medicine staff                 0\n",
              "occyp_type_NAN                            0\n",
              "occyp_type_Private service staff          0\n",
              "occyp_type_Realty agents                  0\n",
              "occyp_type_Sales staff                    0\n",
              "occyp_type_Secretaries                    0\n",
              "occyp_type_Security staff                 0\n",
              "occyp_type_Waiters/barmen staff           0\n",
              "fcp-pca                                   0\n",
              "dtype: int64"
            ]
          },
          "metadata": {
            "tags": []
          },
          "execution_count": 30
        }
      ]
    },
    {
      "cell_type": "markdown",
      "metadata": {
        "id": "y-amO_-jdO8F"
      },
      "source": [
        "\n",
        "\n",
        "---\n",
        "\n"
      ]
    },
    {
      "cell_type": "code",
      "metadata": {
        "id": "aYUX8Yc9dPlL"
      },
      "source": [
        "xgb_cat_features.extend(loo_features)\n",
        "lgb_cat_features.extend(loo_features)\n",
        "cb_cat_features.extend(cat_features)\n",
        "ridge_cat_features.extend(loo_features)\n",
        "sgd_cat_features.extend(loo_features)\n",
        "hgbc_cat_features.extend(loo_features)"
      ],
      "execution_count": 31,
      "outputs": []
    },
    {
      "cell_type": "code",
      "metadata": {
        "colab": {
          "base_uri": "https://localhost:8080/"
        },
        "id": "hEBEiwiXeE3C",
        "outputId": "85b2c5e7-baa6-49ac-a92d-f34789ba96d1"
      },
      "source": [
        "!pip install catboost"
      ],
      "execution_count": 32,
      "outputs": [
        {
          "output_type": "stream",
          "text": [
            "Collecting catboost\n",
            "\u001b[?25l  Downloading https://files.pythonhosted.org/packages/47/80/8e9c57ec32dfed6ba2922bc5c96462cbf8596ce1a6f5de532ad1e43e53fe/catboost-0.25.1-cp37-none-manylinux1_x86_64.whl (67.3MB)\n",
            "\u001b[K     |████████████████████████████████| 67.3MB 47kB/s \n",
            "\u001b[?25hRequirement already satisfied: graphviz in /usr/local/lib/python3.7/dist-packages (from catboost) (0.10.1)\n",
            "Requirement already satisfied: six in /usr/local/lib/python3.7/dist-packages (from catboost) (1.15.0)\n",
            "Requirement already satisfied: plotly in /usr/local/lib/python3.7/dist-packages (from catboost) (4.4.1)\n",
            "Requirement already satisfied: pandas>=0.24.0 in /usr/local/lib/python3.7/dist-packages (from catboost) (1.1.5)\n",
            "Requirement already satisfied: scipy in /usr/local/lib/python3.7/dist-packages (from catboost) (1.4.1)\n",
            "Requirement already satisfied: numpy>=1.16.0 in /usr/local/lib/python3.7/dist-packages (from catboost) (1.19.5)\n",
            "Requirement already satisfied: matplotlib in /usr/local/lib/python3.7/dist-packages (from catboost) (3.2.2)\n",
            "Requirement already satisfied: retrying>=1.3.3 in /usr/local/lib/python3.7/dist-packages (from plotly->catboost) (1.3.3)\n",
            "Requirement already satisfied: pytz>=2017.2 in /usr/local/lib/python3.7/dist-packages (from pandas>=0.24.0->catboost) (2018.9)\n",
            "Requirement already satisfied: python-dateutil>=2.7.3 in /usr/local/lib/python3.7/dist-packages (from pandas>=0.24.0->catboost) (2.8.1)\n",
            "Requirement already satisfied: cycler>=0.10 in /usr/local/lib/python3.7/dist-packages (from matplotlib->catboost) (0.10.0)\n",
            "Requirement already satisfied: pyparsing!=2.0.4,!=2.1.2,!=2.1.6,>=2.0.1 in /usr/local/lib/python3.7/dist-packages (from matplotlib->catboost) (2.4.7)\n",
            "Requirement already satisfied: kiwisolver>=1.0.1 in /usr/local/lib/python3.7/dist-packages (from matplotlib->catboost) (1.3.1)\n",
            "Installing collected packages: catboost\n",
            "Successfully installed catboost-0.25.1\n"
          ],
          "name": "stdout"
        }
      ]
    },
    {
      "cell_type": "code",
      "metadata": {
        "id": "uKmBeQy5er4K"
      },
      "source": [
        "import warnings\n",
        "warnings.filterwarnings(\"ignore\")\n",
        "\n",
        "from lightgbm import LGBMClassifier\n",
        "from xgboost import XGBClassifier\n",
        "from catboost import CatBoostClassifier\n",
        "from sklearn.linear_model import RidgeClassifier\n",
        "from sklearn.linear_model import SGDClassifier\n",
        "from sklearn.calibration import CalibratedClassifierCV\n",
        "\n",
        "from sklearn.experimental import enable_hist_gradient_boosting\n",
        "from sklearn.ensemble import HistGradientBoostingClassifier\n",
        "\n",
        "from sklearn.model_selection import StratifiedKFold\n",
        "from sklearn.metrics import roc_auc_score\n",
        "from sklearn.multiclass import OneVsRestClassifier\n",
        "from sklearn.metrics import log_loss"
      ],
      "execution_count": 33,
      "outputs": []
    },
    {
      "cell_type": "code",
      "metadata": {
        "id": "rZ6cWnK4evoh"
      },
      "source": [
        "random_state = 2021\n",
        "n_folds = 10\n",
        "k_fold = StratifiedKFold(n_splits=n_folds, random_state=random_state, shuffle=True)"
      ],
      "execution_count": 34,
      "outputs": []
    },
    {
      "cell_type": "code",
      "metadata": {
        "id": "VPXvyGJ4eyIM"
      },
      "source": [
        "xgb_train_preds = np.zeros(len(train.index), )\n",
        "xgb_test_preds = np.zeros(len(test.index), )\n",
        "xgb_features = xgb_cat_features + cont_features\n",
        "\n",
        "lgb_train_preds = np.zeros(len(train.index), )\n",
        "lgb_test_preds = np.zeros(len(test.index), )\n",
        "lgb_features = lgb_cat_features + cont_features\n",
        "\n",
        "cb_train_preds = np.zeros(len(train.index), )\n",
        "cb_test_preds = np.zeros(len(test.index), )\n",
        "cb_features = cb_cat_features + cont_features\n",
        "\n",
        "ridge_train_preds = np.zeros(len(train.index), )\n",
        "ridge_test_preds = np.zeros(len(test.index), )\n",
        "ridge_features = ridge_cat_features + cont_features\n",
        "\n",
        "sgd_train_preds = np.zeros(len(train.index), )\n",
        "sgd_test_preds = np.zeros(len(test.index), )\n",
        "sgd_features = sgd_cat_features + cont_features\n",
        "\n",
        "hgbc_train_preds = np.zeros(len(train.index), )\n",
        "hgbc_test_preds = np.zeros(len(test.index), )\n",
        "hgbc_features = hgbc_cat_features + cont_features"
      ],
      "execution_count": 35,
      "outputs": []
    },
    {
      "cell_type": "code",
      "metadata": {
        "colab": {
          "base_uri": "https://localhost:8080/"
        },
        "id": "RFamKFXKlrW9",
        "outputId": "e22bb380-3c80-4b4a-a00a-508df9c1182a"
      },
      "source": [
        "lgb_features"
      ],
      "execution_count": 36,
      "outputs": [
        {
          "output_type": "execute_result",
          "data": {
            "text/plain": [
              "['gender',\n",
              " 'car',\n",
              " 'reality',\n",
              " 'income_total',\n",
              " 'DAYS_BIRTH',\n",
              " 'DAYS_EMPLOYED',\n",
              " 'work_phone',\n",
              " 'phone',\n",
              " 'email',\n",
              " 'begin_month',\n",
              " 'income_type_Commercial associate',\n",
              " 'income_type_Pensioner',\n",
              " 'income_type_State servant',\n",
              " 'income_type_Student',\n",
              " 'income_type_Working',\n",
              " 'edu_type_Academic degree',\n",
              " 'edu_type_Higher education',\n",
              " 'edu_type_Incomplete higher',\n",
              " 'edu_type_Lower secondary',\n",
              " 'edu_type_Secondary / secondary special',\n",
              " 'family_type_Civil marriage',\n",
              " 'family_type_Married',\n",
              " 'family_type_Separated',\n",
              " 'family_type_Single / not married',\n",
              " 'family_type_Widow',\n",
              " 'house_type_Co-op apartment',\n",
              " 'house_type_House / apartment',\n",
              " 'house_type_Municipal apartment',\n",
              " 'house_type_Office apartment',\n",
              " 'house_type_Rented apartment',\n",
              " 'house_type_With parents',\n",
              " 'occyp_type_Accountants',\n",
              " 'occyp_type_Cleaning staff',\n",
              " 'occyp_type_Cooking staff',\n",
              " 'occyp_type_Core staff',\n",
              " 'occyp_type_Drivers',\n",
              " 'occyp_type_HR staff',\n",
              " 'occyp_type_High skill tech staff',\n",
              " 'occyp_type_IT staff',\n",
              " 'occyp_type_Laborers',\n",
              " 'occyp_type_Low-skill Laborers',\n",
              " 'occyp_type_Managers',\n",
              " 'occyp_type_Medicine staff',\n",
              " 'occyp_type_NAN',\n",
              " 'occyp_type_Private service staff',\n",
              " 'occyp_type_Realty agents',\n",
              " 'occyp_type_Sales staff',\n",
              " 'occyp_type_Secretaries',\n",
              " 'occyp_type_Security staff',\n",
              " 'occyp_type_Waiters/barmen staff',\n",
              " 'fcp-pca']"
            ]
          },
          "metadata": {
            "tags": []
          },
          "execution_count": 36
        }
      ]
    },
    {
      "cell_type": "code",
      "metadata": {
        "id": "Klplwp_BfgYa"
      },
      "source": [
        "l1_train = pd.DataFrame(data={\n",
        "    \"xgb\": xgb_train_preds.tolist(),\n",
        "    \"lgb\": lgb_train_preds.tolist(),\n",
        "    \"cb\": cb_train_preds.tolist(),\n",
        "    \"ridge\": ridge_train_preds.tolist(),\n",
        "    \"sgd\": sgd_train_preds.tolist(),\n",
        "    \"hgbc\": hgbc_train_preds.tolist(),\n",
        "    \"target\": target.tolist()\n",
        "})\n",
        "l1_test = pd.DataFrame(data={\n",
        "    \"xgb\": xgb_test_preds.tolist(),\n",
        "    \"lgb\": lgb_test_preds.tolist(),\n",
        "    \"cb\": cb_test_preds.tolist(),\n",
        "    \"sgd\": sgd_test_preds.tolist(),\n",
        "    \"ridge\": ridge_test_preds.tolist(),    \n",
        "    \"hgbc\": hgbc_test_preds.tolist(),\n",
        "})"
      ],
      "execution_count": 37,
      "outputs": []
    },
    {
      "cell_type": "code",
      "metadata": {
        "colab": {
          "base_uri": "https://localhost:8080/",
          "height": 402
        },
        "id": "XAJaUEksgfWw",
        "outputId": "6195f31a-4e35-4182-a73d-aa03e3eb5cb3"
      },
      "source": [
        "l1_train"
      ],
      "execution_count": 38,
      "outputs": [
        {
          "output_type": "execute_result",
          "data": {
            "text/html": [
              "<div>\n",
              "<style scoped>\n",
              "    .dataframe tbody tr th:only-of-type {\n",
              "        vertical-align: middle;\n",
              "    }\n",
              "\n",
              "    .dataframe tbody tr th {\n",
              "        vertical-align: top;\n",
              "    }\n",
              "\n",
              "    .dataframe thead th {\n",
              "        text-align: right;\n",
              "    }\n",
              "</style>\n",
              "<table border=\"1\" class=\"dataframe\">\n",
              "  <thead>\n",
              "    <tr style=\"text-align: right;\">\n",
              "      <th></th>\n",
              "      <th>xgb</th>\n",
              "      <th>lgb</th>\n",
              "      <th>cb</th>\n",
              "      <th>ridge</th>\n",
              "      <th>sgd</th>\n",
              "      <th>hgbc</th>\n",
              "      <th>target</th>\n",
              "    </tr>\n",
              "  </thead>\n",
              "  <tbody>\n",
              "    <tr>\n",
              "      <th>0</th>\n",
              "      <td>0.0</td>\n",
              "      <td>0.0</td>\n",
              "      <td>0.0</td>\n",
              "      <td>0.0</td>\n",
              "      <td>0.0</td>\n",
              "      <td>0.0</td>\n",
              "      <td>1.0</td>\n",
              "    </tr>\n",
              "    <tr>\n",
              "      <th>1</th>\n",
              "      <td>0.0</td>\n",
              "      <td>0.0</td>\n",
              "      <td>0.0</td>\n",
              "      <td>0.0</td>\n",
              "      <td>0.0</td>\n",
              "      <td>0.0</td>\n",
              "      <td>1.0</td>\n",
              "    </tr>\n",
              "    <tr>\n",
              "      <th>2</th>\n",
              "      <td>0.0</td>\n",
              "      <td>0.0</td>\n",
              "      <td>0.0</td>\n",
              "      <td>0.0</td>\n",
              "      <td>0.0</td>\n",
              "      <td>0.0</td>\n",
              "      <td>2.0</td>\n",
              "    </tr>\n",
              "    <tr>\n",
              "      <th>3</th>\n",
              "      <td>0.0</td>\n",
              "      <td>0.0</td>\n",
              "      <td>0.0</td>\n",
              "      <td>0.0</td>\n",
              "      <td>0.0</td>\n",
              "      <td>0.0</td>\n",
              "      <td>0.0</td>\n",
              "    </tr>\n",
              "    <tr>\n",
              "      <th>4</th>\n",
              "      <td>0.0</td>\n",
              "      <td>0.0</td>\n",
              "      <td>0.0</td>\n",
              "      <td>0.0</td>\n",
              "      <td>0.0</td>\n",
              "      <td>0.0</td>\n",
              "      <td>2.0</td>\n",
              "    </tr>\n",
              "    <tr>\n",
              "      <th>...</th>\n",
              "      <td>...</td>\n",
              "      <td>...</td>\n",
              "      <td>...</td>\n",
              "      <td>...</td>\n",
              "      <td>...</td>\n",
              "      <td>...</td>\n",
              "      <td>...</td>\n",
              "    </tr>\n",
              "    <tr>\n",
              "      <th>26452</th>\n",
              "      <td>0.0</td>\n",
              "      <td>0.0</td>\n",
              "      <td>0.0</td>\n",
              "      <td>0.0</td>\n",
              "      <td>0.0</td>\n",
              "      <td>0.0</td>\n",
              "      <td>1.0</td>\n",
              "    </tr>\n",
              "    <tr>\n",
              "      <th>26453</th>\n",
              "      <td>0.0</td>\n",
              "      <td>0.0</td>\n",
              "      <td>0.0</td>\n",
              "      <td>0.0</td>\n",
              "      <td>0.0</td>\n",
              "      <td>0.0</td>\n",
              "      <td>2.0</td>\n",
              "    </tr>\n",
              "    <tr>\n",
              "      <th>26454</th>\n",
              "      <td>0.0</td>\n",
              "      <td>0.0</td>\n",
              "      <td>0.0</td>\n",
              "      <td>0.0</td>\n",
              "      <td>0.0</td>\n",
              "      <td>0.0</td>\n",
              "      <td>2.0</td>\n",
              "    </tr>\n",
              "    <tr>\n",
              "      <th>26455</th>\n",
              "      <td>0.0</td>\n",
              "      <td>0.0</td>\n",
              "      <td>0.0</td>\n",
              "      <td>0.0</td>\n",
              "      <td>0.0</td>\n",
              "      <td>0.0</td>\n",
              "      <td>2.0</td>\n",
              "    </tr>\n",
              "    <tr>\n",
              "      <th>26456</th>\n",
              "      <td>0.0</td>\n",
              "      <td>0.0</td>\n",
              "      <td>0.0</td>\n",
              "      <td>0.0</td>\n",
              "      <td>0.0</td>\n",
              "      <td>0.0</td>\n",
              "      <td>2.0</td>\n",
              "    </tr>\n",
              "  </tbody>\n",
              "</table>\n",
              "<p>26457 rows × 7 columns</p>\n",
              "</div>"
            ],
            "text/plain": [
              "       xgb  lgb   cb  ridge  sgd  hgbc  target\n",
              "0      0.0  0.0  0.0    0.0  0.0   0.0     1.0\n",
              "1      0.0  0.0  0.0    0.0  0.0   0.0     1.0\n",
              "2      0.0  0.0  0.0    0.0  0.0   0.0     2.0\n",
              "3      0.0  0.0  0.0    0.0  0.0   0.0     0.0\n",
              "4      0.0  0.0  0.0    0.0  0.0   0.0     2.0\n",
              "...    ...  ...  ...    ...  ...   ...     ...\n",
              "26452  0.0  0.0  0.0    0.0  0.0   0.0     1.0\n",
              "26453  0.0  0.0  0.0    0.0  0.0   0.0     2.0\n",
              "26454  0.0  0.0  0.0    0.0  0.0   0.0     2.0\n",
              "26455  0.0  0.0  0.0    0.0  0.0   0.0     2.0\n",
              "26456  0.0  0.0  0.0    0.0  0.0   0.0     2.0\n",
              "\n",
              "[26457 rows x 7 columns]"
            ]
          },
          "metadata": {
            "tags": []
          },
          "execution_count": 38
        }
      ]
    },
    {
      "cell_type": "code",
      "metadata": {
        "colab": {
          "base_uri": "https://localhost:8080/"
        },
        "id": "41m83T6lglvj",
        "outputId": "7da6e4e8-a530-4b42-b092-d08aee1a3722"
      },
      "source": [
        "\n",
        "train_preds = np.zeros(len(l1_train.index), )\n",
        "test_preds = np.zeros(len(l1_test.index), )\n",
        "features = [\"xgb\", \"lgb\", \"cb\", \"ridge\", \"sgd\", \"hgbc\"]\n",
        "features"
      ],
      "execution_count": 39,
      "outputs": [
        {
          "output_type": "execute_result",
          "data": {
            "text/plain": [
              "['xgb', 'lgb', 'cb', 'ridge', 'sgd', 'hgbc']"
            ]
          },
          "metadata": {
            "tags": []
          },
          "execution_count": 39
        }
      ]
    },
    {
      "cell_type": "code",
      "metadata": {
        "id": "ZVKBkNKGgsWP"
      },
      "source": [
        "import pandas"
      ],
      "execution_count": 40,
      "outputs": []
    },
    {
      "cell_type": "code",
      "metadata": {
        "colab": {
          "base_uri": "https://localhost:8080/"
        },
        "id": "Q0tQKJcBh05g",
        "outputId": "e5e1071c-cb86-4435-fe84-004153be0a69"
      },
      "source": [
        "train_preds.shape"
      ],
      "execution_count": 41,
      "outputs": [
        {
          "output_type": "execute_result",
          "data": {
            "text/plain": [
              "(26457,)"
            ]
          },
          "metadata": {
            "tags": []
          },
          "execution_count": 41
        }
      ]
    },
    {
      "cell_type": "code",
      "metadata": {
        "id": "tfiwx9tq0-oY"
      },
      "source": [
        "from sklearn.metrics import accuracy_score"
      ],
      "execution_count": 42,
      "outputs": []
    },
    {
      "cell_type": "code",
      "metadata": {
        "colab": {
          "base_uri": "https://localhost:8080/"
        },
        "id": "5-EymkRdYHoz",
        "outputId": "a1cce3cf-1289-4270-833a-5052d9a3509e"
      },
      "source": [
        ""
      ],
      "execution_count": 44,
      "outputs": [
        {
          "output_type": "execute_result",
          "data": {
            "text/plain": [
              "array([    0,     1,     3, ..., 26454, 26455, 26456])"
            ]
          },
          "metadata": {
            "tags": []
          },
          "execution_count": 44
        }
      ]
    },
    {
      "cell_type": "code",
      "metadata": {
        "colab": {
          "base_uri": "https://localhost:8080/"
        },
        "id": "AjXT6noRgs4n",
        "outputId": "ece10575-b640-4580-ed17-eeaed6246576"
      },
      "source": [
        "for fold, (train_index, test_index) in enumerate(k_fold.split(x_train, target)):\n",
        "    print(\"--> Fold {}\".format(fold + 1))\n",
        "    y_train = target.iloc[train_index]\n",
        "    y_valid = target.iloc[test_index]\n",
        "\n",
        "    xgb_x_train = pandas.DataFrame(x_train[xgb_features].iloc[train_index])\n",
        "    xgb_x_valid = pandas.DataFrame(x_train[xgb_features].iloc[test_index])\n",
        "\n",
        "    lgb_x_train = pandas.DataFrame(x_train[lgb_features].iloc[train_index])\n",
        "    lgb_x_valid = pandas.DataFrame(x_train[lgb_features].iloc[test_index])\n",
        "\n",
        "    cb_x_train = pandas.DataFrame(x_train[cb_features].iloc[train_index])\n",
        "    cb_x_valid = pandas.DataFrame(x_train[cb_features].iloc[test_index])\n",
        "\n",
        "    ridge_x_train = pandas.DataFrame(x_train[ridge_features].iloc[train_index])\n",
        "    ridge_x_valid = pandas.DataFrame(x_train[ridge_features].iloc[test_index])\n",
        "\n",
        "    sgd_x_train = pandas.DataFrame(x_train[sgd_features].iloc[train_index])\n",
        "    sgd_x_valid = pandas.DataFrame(x_train[sgd_features].iloc[test_index])\n",
        "\n",
        "    hgbc_x_train = pandas.DataFrame(x_train[hgbc_features].iloc[train_index])\n",
        "    hgbc_x_valid = pandas.DataFrame(x_train[hgbc_features].iloc[test_index])\n",
        "\n",
        "    xgb_model = XGBClassifier(\n",
        "        seed=random_state,\n",
        "        n_estimators=10000,\n",
        "        verbosity=1,\n",
        "        eval_metric=\"mlogloss\",\n",
        "        tree_method=\"gpu_hist\",\n",
        "        gpu_id=0,\n",
        "        alpha=7.105038963844129,\n",
        "        colsample_bytree=0.25505629740052566,\n",
        "        gamma=0.4999381950212869,\n",
        "        reg_lambda=1.7256912198205319,\n",
        "        learning_rate=0.011823142071967673,\n",
        "        max_bin=338,\n",
        "        max_depth=8,\n",
        "        min_child_weight=2.286836198630466,\n",
        "        subsample=0.618417952155855,\n",
        "        objective=\"multi:softprob\"\n",
        "    )\n",
        "  \n",
        "\n",
        "    xgb_model.fit(\n",
        "        xgb_x_train,\n",
        "        y_train,\n",
        "        eval_set=[(xgb_x_valid, y_valid)], \n",
        "        verbose=0,\n",
        "        early_stopping_rounds=200\n",
        "    )\n",
        "\n",
        "    train_oof_preds = xgb_model.predict_proba(xgb_x_valid)[:,1]\n",
        "    test_oof_preds = xgb_model.predict_proba(x_test[xgb_features])[:,1]\n",
        "    xgb_train_preds[test_index] = train_oof_preds\n",
        "    xgb_test_preds += test_oof_preds / n_folds\n",
        "    print(\": XGB -accuracy Score = {}\".format(accuracy_score(y_valid, xgb_model.predict(xgb_x_valid))))\n",
        "\n",
        "    lgb_model = LGBMClassifier(\n",
        "        cat_feature=[x for x in range(len(lgb_cat_features))],\n",
        "        random_state=random_state,\n",
        "        cat_l2=25.999876242730252,\n",
        "        cat_smooth=89.2699690675538,\n",
        "        colsample_bytree=0.2557260109926193,\n",
        "        early_stopping_round=200,\n",
        "        learning_rate=0.00918685483594994,\n",
        "        max_bin=788,\n",
        "        max_depth=81,\n",
        "        metric=\"multi_logloss\",\n",
        "        min_child_samples=292,\n",
        "        min_data_per_group=177,\n",
        "        n_estimators=1600000,\n",
        "        n_jobs=-1,\n",
        "        num_leaves=171,\n",
        "        reg_alpha=0.7115353581785044,\n",
        "        reg_lambda=5.658115293998945,\n",
        "        subsample=0.9262904583735796,\n",
        "        subsample_freq=1,\n",
        "        verbose=-1,\n",
        "        objective=\"multiclass\"\n",
        "    )\n",
        "    lgb_model.fit(\n",
        "        lgb_x_train,\n",
        "        y_train,\n",
        "        eval_set=[(lgb_x_valid, y_valid)], \n",
        "        verbose=0,\n",
        "    )\n",
        "\n",
        "    train_oof_preds = lgb_model.predict_proba(lgb_x_valid)[:,1]\n",
        "    test_oof_preds = lgb_model.predict_proba(x_test[lgb_features])[:,1]\n",
        "    lgb_train_preds[test_index] = train_oof_preds\n",
        "    lgb_test_preds += test_oof_preds / n_folds\n",
        "    print(\": LGB -accuracy Score = {}\".format(accuracy_score(y_valid, lgb_model.predict(lgb_x_valid))))\n",
        "\n",
        "    cb_model = CatBoostClassifier(\n",
        "        verbose=0,\n",
        "        loss_function=\"MultiClass\",\n",
        "        random_state=random_state,\n",
        "        num_boost_round=20000,\n",
        "        od_type=\"Iter\",\n",
        "        od_wait=200,\n",
        "        task_type=\"GPU\",\n",
        "        devices=\"0\",\n",
        "        cat_features=[x for x in range(len(cb_cat_features))],\n",
        "        bagging_temperature=1.288692494969795,\n",
        "        grow_policy=\"Depthwise\",\n",
        "        l2_leaf_reg=9.847870133539244,\n",
        "        learning_rate=0.01877982653902465,\n",
        "        max_depth=8,\n",
        "        min_data_in_leaf=1,\n",
        "        penalties_coefficient=2.1176668909602734,\n",
        "    )\n",
        "    cb_model.fit(\n",
        "        cb_x_train,\n",
        "        y_train,\n",
        "        eval_set=[(cb_x_valid, y_valid)], \n",
        "        verbose=0,\n",
        "    )\n",
        "\n",
        "    train_oof_preds = cb_model.predict_proba(cb_x_valid)[:,1]\n",
        "    test_oof_preds = cb_model.predict_proba(x_test[cb_features])[:,1]\n",
        "    cb_train_preds[test_index] = train_oof_preds\n",
        "    cb_test_preds += test_oof_preds / n_folds\n",
        "    print(\": CB -accuracy Score = {}\".format(accuracy_score(y_valid, cb_model.predict(cb_x_valid))))\n",
        "    \n",
        "    ridge_model = CalibratedClassifierCV(\n",
        "        RidgeClassifier(random_state=random_state),\n",
        "        cv=3,\n",
        "    )\n",
        "    ridge_model.fit(\n",
        "        ridge_x_train,\n",
        "        y_train,\n",
        "    )\n",
        "\n",
        "    train_oof_preds = ridge_model.predict_proba(ridge_x_valid)[:,-1]\n",
        "    test_oof_preds = ridge_model.predict_proba(x_test[ridge_features])[:,-1]\n",
        "    ridge_train_preds[test_index] = train_oof_preds\n",
        "    ridge_test_preds += test_oof_preds / n_folds\n",
        "    print(\": Ridge -accuracy Score = {}\".format(accuracy_score(y_valid, ridge_model.predict(ridge_x_valid))))\n",
        "    \n",
        "    sgd_model = CalibratedClassifierCV(\n",
        "        SGDClassifier(\n",
        "            random_state=random_state,\n",
        "            n_jobs=-1,\n",
        "            loss=\"squared_hinge\",\n",
        "        ),\n",
        "        cv=3,\n",
        "    )\n",
        "    sgd_model.fit(\n",
        "        sgd_x_train,\n",
        "        y_train,\n",
        "    )\n",
        "\n",
        "    train_oof_preds = sgd_model.predict_proba(sgd_x_valid)[:,-1]\n",
        "    test_oof_preds = sgd_model.predict_proba(x_test[sgd_features])[:,-1]\n",
        "    sgd_train_preds[test_index] = train_oof_preds\n",
        "    sgd_test_preds += test_oof_preds / n_folds\n",
        "    print(\": SGD -accuracy Score = {}\".format(accuracy_score(y_valid, sgd_model.predict(sgd_x_valid))))\n",
        "    \n",
        "    hgbc_model = HistGradientBoostingClassifier(\n",
        "        l2_regularization=1.766059063693552,\n",
        "        learning_rate=0.10675193678150449,\n",
        "        max_bins=128,\n",
        "        max_depth=31,\n",
        "        max_leaf_nodes=185,\n",
        "        random_state=2021\n",
        "    )\n",
        "    hgbc_model.fit(\n",
        "        hgbc_x_train,\n",
        "        y_train,\n",
        "    )\n",
        "\n",
        "    train_oof_preds = hgbc_model.predict_proba(hgbc_x_valid)[:,-1]\n",
        "    test_oof_preds = hgbc_model.predict_proba(x_test[hgbc_features])[:,-1]\n",
        "    hgbc_train_preds[test_index] = train_oof_preds\n",
        "    hgbc_test_preds += test_oof_preds / n_folds\n",
        "    print(\": HGBC -accuracy Score = {}\".format(accuracy_score(y_valid, hgbc_model.predict(hgbc_x_valid))))\n",
        "    print(\"\")\n",
        "    \n",
        "#print(\"--> Overall metrics\")\n",
        "#print(\": XGB - ROC AUC Score = {}\".format(accuracy_score(target, xgb_train_preds)))\n",
        "#print(\": LGB - ROC AUC Score = {}\".format(accuracy_score(target, lgb_train_preds)))\n",
        "#print(\": CB - ROC AUC Score = {}\".format(accuracy_score(target, cb_train_preds)))\n",
        "#print(\": Ridge - ROC AUC Score = {}\".format(accuracy_score(target, ridge_train_preds)))\n",
        "#print(\": SGD - ROC AUC Score = {}\".format(accuracy_score(target, sgd_train_preds)))\n",
        "#print(\": HGBC - ROC AUC Score = {}\".format(accuracy_score(target, hgbc_train_preds)))"
      ],
      "execution_count": 46,
      "outputs": [
        {
          "output_type": "stream",
          "text": [
            "--> Fold 1\n",
            ": XGB -accuracy Score = 0.7180650037792895\n",
            ": LGB -accuracy Score = 0.7101284958427816\n",
            ": CB -accuracy Score = 0.7097505668934241\n",
            ": Ridge -accuracy Score = 0.6413454270597128\n",
            ": SGD -accuracy Score = 0.6413454270597128\n",
            ": HGBC -accuracy Score = 0.7120181405895691\n",
            "\n",
            "--> Fold 2\n",
            ": XGB -accuracy Score = 0.7188208616780045\n",
            ": LGB -accuracy Score = 0.7195767195767195\n",
            ": CB -accuracy Score = 0.7180650037792895\n",
            ": Ridge -accuracy Score = 0.6413454270597128\n",
            ": SGD -accuracy Score = 0.6413454270597128\n",
            ": HGBC -accuracy Score = 0.7093726379440665\n",
            "\n",
            "--> Fold 3\n",
            ": XGB -accuracy Score = 0.7218442932728647\n",
            ": LGB -accuracy Score = 0.7059712773998488\n",
            ": CB -accuracy Score = 0.7146636432350718\n",
            ": Ridge -accuracy Score = 0.6432350718065004\n",
            ": SGD -accuracy Score = 0.6413454270597128\n",
            ": HGBC -accuracy Score = 0.7078609221466364\n",
            "\n",
            "--> Fold 4\n",
            ": XGB -accuracy Score = 0.7335600907029478\n",
            ": LGB -accuracy Score = 0.7173091458805745\n",
            ": CB -accuracy Score = 0.7297808012093726\n",
            ": Ridge -accuracy Score = 0.6421012849584278\n",
            ": SGD -accuracy Score = 0.6413454270597128\n",
            ": HGBC -accuracy Score = 0.7165532879818595\n",
            "\n",
            "--> Fold 5\n",
            ": XGB -accuracy Score = 0.7229780801209372\n",
            ": LGB -accuracy Score = 0.7146636432350718\n",
            ": CB -accuracy Score = 0.7226001511715797\n",
            ": Ridge -accuracy Score = 0.6424792139077853\n",
            ": SGD -accuracy Score = 0.6413454270597128\n",
            ": HGBC -accuracy Score = 0.7082388510959939\n",
            "\n",
            "--> Fold 6\n",
            ": XGB -accuracy Score = 0.7086167800453514\n",
            ": LGB -accuracy Score = 0.7018140589569161\n",
            ": CB -accuracy Score = 0.7074829931972789\n",
            ": Ridge -accuracy Score = 0.6413454270597128\n",
            ": SGD -accuracy Score = 0.6409674981103552\n",
            ": HGBC -accuracy Score = 0.6987906273620559\n",
            "\n",
            "--> Fold 7\n",
            ": XGB -accuracy Score = 0.7233560090702947\n",
            ": LGB -accuracy Score = 0.7112622826908541\n",
            ": CB -accuracy Score = 0.7150415721844293\n",
            ": Ridge -accuracy Score = 0.6428571428571429\n",
            ": SGD -accuracy Score = 0.6409674981103552\n",
            ": HGBC -accuracy Score = 0.7146636432350718\n",
            "\n",
            "--> Fold 8\n",
            ": XGB -accuracy Score = 0.7224952741020794\n",
            ": LGB -accuracy Score = 0.7119092627599244\n",
            ": CB -accuracy Score = 0.7156899810964084\n",
            ": Ridge -accuracy Score = 0.6427221172022685\n",
            ": SGD -accuracy Score = 0.6415879017013233\n",
            ": HGBC -accuracy Score = 0.7092627599243856\n",
            "\n",
            "--> Fold 9\n",
            ": XGB -accuracy Score = 0.7190926275992439\n",
            ": LGB -accuracy Score = 0.7145557655954632\n",
            ": CB -accuracy Score = 0.7194706994328922\n",
            ": Ridge -accuracy Score = 0.6434782608695652\n",
            ": SGD -accuracy Score = 0.6415879017013233\n",
            ": HGBC -accuracy Score = 0.7141776937618147\n",
            "\n",
            "--> Fold 10\n",
            ": XGB -accuracy Score = 0.7179584120982987\n",
            ": LGB -accuracy Score = 0.7066162570888469\n",
            ": CB -accuracy Score = 0.7081285444234404\n",
            ": Ridge -accuracy Score = 0.6396975425330813\n",
            ": SGD -accuracy Score = 0.6415879017013233\n",
            ": HGBC -accuracy Score = 0.7039697542533081\n",
            "\n"
          ],
          "name": "stdout"
        }
      ]
    },
    {
      "cell_type": "code",
      "metadata": {
        "colab": {
          "base_uri": "https://localhost:8080/"
        },
        "id": "R1pijtiP4EQC",
        "outputId": "75c58820-aff4-452f-fbbf-9453230e6159"
      },
      "source": [
        "from scipy.special import expit\n",
        "from sklearn.calibration import CalibratedClassifierCV\n",
        "\n",
        "random_state = 2021\n",
        "n_folds = 10\n",
        "k_fold = StratifiedKFold(n_splits=n_folds, random_state=random_state, shuffle=True)\n",
        "\n",
        "l1_train = pandas.DataFrame(data={\n",
        "    \"xgb\": xgb_train_preds.tolist(),\n",
        "    \"lgb\": lgb_train_preds.tolist(),\n",
        "    \"cb\": cb_train_preds.tolist(),\n",
        "    \"ridge\": ridge_train_preds.tolist(),\n",
        "    \"sgd\": sgd_train_preds.tolist(),\n",
        "    \"hgbc\": hgbc_train_preds.tolist(),\n",
        "    \"target\": target.tolist()\n",
        "})\n",
        "l1_test = pandas.DataFrame(data={\n",
        "    \"xgb\": xgb_test_preds.tolist(),\n",
        "    \"lgb\": lgb_test_preds.tolist(),\n",
        "    \"cb\": cb_test_preds.tolist(),\n",
        "    \"sgd\": sgd_test_preds.tolist(),\n",
        "    \"ridge\": ridge_test_preds.tolist(),    \n",
        "    \"hgbc\": hgbc_test_preds.tolist(),\n",
        "})\n",
        "\n",
        "train_preds = np.zeros(len(l1_train.index), )\n",
        "test_preds = np.zeros(len(l1_test.index), )\n",
        "features = [\"xgb\", \"lgb\", \"cb\", \"ridge\", \"sgd\", \"hgbc\"]\n",
        "\n",
        "for fold, (train_index, test_index) in enumerate(k_fold.split(l1_train, target)):\n",
        "    print(\"--> Fold {}\".format(fold + 1))\n",
        "    y_train = target.iloc[train_index]\n",
        "    y_valid = target.iloc[test_index]\n",
        "\n",
        "    x_train = pandas.DataFrame(l1_train[features].iloc[train_index])\n",
        "    x_valid = pandas.DataFrame(l1_train[features].iloc[test_index])\n",
        "    \n",
        "    model = CalibratedClassifierCV(\n",
        "        RidgeClassifier(random_state=random_state), \n",
        "        cv=3\n",
        "    )\n",
        "    model.fit(\n",
        "        x_train,\n",
        "        y_train,\n",
        "    )\n",
        "\n",
        "    train_oof_preds = model.predict_proba(x_valid)\n",
        "    test_oof_preds = model.predict_proba(l1_test[features])\n",
        "    #train_preds[test_index] = train_oof_preds\n",
        "    #test_preds += test_oof_preds / n_folds\n",
        "    print(\"Accuracy score:= {}\".format(accuracy_score(y_valid,model.predict(x_valid))))\n",
        "    print(\"\")\n",
        "    \n",
        "#print(\"--> Overall metrics\")\n",
        "#print(\": ROC AUC Score = {}\".format(accuracy_score(target, model.predict(x_train))))"
      ],
      "execution_count": 47,
      "outputs": [
        {
          "output_type": "stream",
          "text": [
            "--> Fold 1\n",
            "Accuracy score:= 0.7157974300831443\n",
            "\n",
            "--> Fold 2\n",
            "Accuracy score:= 0.7214663643235072\n",
            "\n",
            "--> Fold 3\n",
            "Accuracy score:= 0.7150415721844293\n",
            "\n",
            "--> Fold 4\n",
            "Accuracy score:= 0.7343159486016629\n",
            "\n",
            "--> Fold 5\n",
            "Accuracy score:= 0.7214663643235072\n",
            "\n",
            "--> Fold 6\n",
            "Accuracy score:= 0.7074829931972789\n",
            "\n",
            "--> Fold 7\n",
            "Accuracy score:= 0.7165532879818595\n",
            "\n",
            "--> Fold 8\n",
            "Accuracy score:= 0.718336483931947\n",
            "\n",
            "--> Fold 9\n",
            "Accuracy score:= 0.720226843100189\n",
            "\n",
            "--> Fold 10\n",
            "Accuracy score:= 0.7175803402646502\n",
            "\n"
          ],
          "name": "stdout"
        }
      ]
    },
    {
      "cell_type": "code",
      "metadata": {
        "id": "OUpqt5GrKCDD"
      },
      "source": [
        "submit=pd.read_csv(\"sample_submission.csv\",index_col=index_col)"
      ],
      "execution_count": 48,
      "outputs": []
    },
    {
      "cell_type": "code",
      "metadata": {
        "colab": {
          "base_uri": "https://localhost:8080/",
          "height": 431
        },
        "id": "cR9naEoBL85G",
        "outputId": "c2bad646-203b-4b8e-f17f-caa74a85bbe6"
      },
      "source": [
        "submit"
      ],
      "execution_count": 49,
      "outputs": [
        {
          "output_type": "execute_result",
          "data": {
            "text/html": [
              "<div>\n",
              "<style scoped>\n",
              "    .dataframe tbody tr th:only-of-type {\n",
              "        vertical-align: middle;\n",
              "    }\n",
              "\n",
              "    .dataframe tbody tr th {\n",
              "        vertical-align: top;\n",
              "    }\n",
              "\n",
              "    .dataframe thead th {\n",
              "        text-align: right;\n",
              "    }\n",
              "</style>\n",
              "<table border=\"1\" class=\"dataframe\">\n",
              "  <thead>\n",
              "    <tr style=\"text-align: right;\">\n",
              "      <th></th>\n",
              "      <th>0</th>\n",
              "      <th>1</th>\n",
              "      <th>2</th>\n",
              "    </tr>\n",
              "    <tr>\n",
              "      <th>index</th>\n",
              "      <th></th>\n",
              "      <th></th>\n",
              "      <th></th>\n",
              "    </tr>\n",
              "  </thead>\n",
              "  <tbody>\n",
              "    <tr>\n",
              "      <th>26457</th>\n",
              "      <td>0</td>\n",
              "      <td>0</td>\n",
              "      <td>0</td>\n",
              "    </tr>\n",
              "    <tr>\n",
              "      <th>26458</th>\n",
              "      <td>0</td>\n",
              "      <td>0</td>\n",
              "      <td>0</td>\n",
              "    </tr>\n",
              "    <tr>\n",
              "      <th>26459</th>\n",
              "      <td>0</td>\n",
              "      <td>0</td>\n",
              "      <td>0</td>\n",
              "    </tr>\n",
              "    <tr>\n",
              "      <th>26460</th>\n",
              "      <td>0</td>\n",
              "      <td>0</td>\n",
              "      <td>0</td>\n",
              "    </tr>\n",
              "    <tr>\n",
              "      <th>26461</th>\n",
              "      <td>0</td>\n",
              "      <td>0</td>\n",
              "      <td>0</td>\n",
              "    </tr>\n",
              "    <tr>\n",
              "      <th>...</th>\n",
              "      <td>...</td>\n",
              "      <td>...</td>\n",
              "      <td>...</td>\n",
              "    </tr>\n",
              "    <tr>\n",
              "      <th>36452</th>\n",
              "      <td>0</td>\n",
              "      <td>0</td>\n",
              "      <td>0</td>\n",
              "    </tr>\n",
              "    <tr>\n",
              "      <th>36453</th>\n",
              "      <td>0</td>\n",
              "      <td>0</td>\n",
              "      <td>0</td>\n",
              "    </tr>\n",
              "    <tr>\n",
              "      <th>36454</th>\n",
              "      <td>0</td>\n",
              "      <td>0</td>\n",
              "      <td>0</td>\n",
              "    </tr>\n",
              "    <tr>\n",
              "      <th>36455</th>\n",
              "      <td>0</td>\n",
              "      <td>0</td>\n",
              "      <td>0</td>\n",
              "    </tr>\n",
              "    <tr>\n",
              "      <th>36456</th>\n",
              "      <td>0</td>\n",
              "      <td>0</td>\n",
              "      <td>0</td>\n",
              "    </tr>\n",
              "  </tbody>\n",
              "</table>\n",
              "<p>10000 rows × 3 columns</p>\n",
              "</div>"
            ],
            "text/plain": [
              "       0  1  2\n",
              "index         \n",
              "26457  0  0  0\n",
              "26458  0  0  0\n",
              "26459  0  0  0\n",
              "26460  0  0  0\n",
              "26461  0  0  0\n",
              "...   .. .. ..\n",
              "36452  0  0  0\n",
              "36453  0  0  0\n",
              "36454  0  0  0\n",
              "36455  0  0  0\n",
              "36456  0  0  0\n",
              "\n",
              "[10000 rows x 3 columns]"
            ]
          },
          "metadata": {
            "tags": []
          },
          "execution_count": 49
        }
      ]
    },
    {
      "cell_type": "code",
      "metadata": {
        "id": "iW_Y6uZKKEXX"
      },
      "source": [
        "submit[submit.columns]=test_oof_preds"
      ],
      "execution_count": 50,
      "outputs": []
    },
    {
      "cell_type": "code",
      "metadata": {
        "colab": {
          "base_uri": "https://localhost:8080/",
          "height": 431
        },
        "id": "aK1ypF4ZM1nE",
        "outputId": "1b7342b2-6aff-4f84-d82a-866a765ef835"
      },
      "source": [
        "submit"
      ],
      "execution_count": 51,
      "outputs": [
        {
          "output_type": "execute_result",
          "data": {
            "text/html": [
              "<div>\n",
              "<style scoped>\n",
              "    .dataframe tbody tr th:only-of-type {\n",
              "        vertical-align: middle;\n",
              "    }\n",
              "\n",
              "    .dataframe tbody tr th {\n",
              "        vertical-align: top;\n",
              "    }\n",
              "\n",
              "    .dataframe thead th {\n",
              "        text-align: right;\n",
              "    }\n",
              "</style>\n",
              "<table border=\"1\" class=\"dataframe\">\n",
              "  <thead>\n",
              "    <tr style=\"text-align: right;\">\n",
              "      <th></th>\n",
              "      <th>0</th>\n",
              "      <th>1</th>\n",
              "      <th>2</th>\n",
              "    </tr>\n",
              "    <tr>\n",
              "      <th>index</th>\n",
              "      <th></th>\n",
              "      <th></th>\n",
              "      <th></th>\n",
              "    </tr>\n",
              "  </thead>\n",
              "  <tbody>\n",
              "    <tr>\n",
              "      <th>26457</th>\n",
              "      <td>0.076050</td>\n",
              "      <td>0.091204</td>\n",
              "      <td>0.832746</td>\n",
              "    </tr>\n",
              "    <tr>\n",
              "      <th>26458</th>\n",
              "      <td>0.187354</td>\n",
              "      <td>0.187172</td>\n",
              "      <td>0.625473</td>\n",
              "    </tr>\n",
              "    <tr>\n",
              "      <th>26459</th>\n",
              "      <td>0.065930</td>\n",
              "      <td>0.119212</td>\n",
              "      <td>0.814858</td>\n",
              "    </tr>\n",
              "    <tr>\n",
              "      <th>26460</th>\n",
              "      <td>0.080595</td>\n",
              "      <td>0.137076</td>\n",
              "      <td>0.782329</td>\n",
              "    </tr>\n",
              "    <tr>\n",
              "      <th>26461</th>\n",
              "      <td>0.096302</td>\n",
              "      <td>0.175767</td>\n",
              "      <td>0.727931</td>\n",
              "    </tr>\n",
              "    <tr>\n",
              "      <th>...</th>\n",
              "      <td>...</td>\n",
              "      <td>...</td>\n",
              "      <td>...</td>\n",
              "    </tr>\n",
              "    <tr>\n",
              "      <th>36452</th>\n",
              "      <td>0.092229</td>\n",
              "      <td>0.286522</td>\n",
              "      <td>0.621249</td>\n",
              "    </tr>\n",
              "    <tr>\n",
              "      <th>36453</th>\n",
              "      <td>0.198205</td>\n",
              "      <td>0.352704</td>\n",
              "      <td>0.449091</td>\n",
              "    </tr>\n",
              "    <tr>\n",
              "      <th>36454</th>\n",
              "      <td>0.066744</td>\n",
              "      <td>0.103524</td>\n",
              "      <td>0.829732</td>\n",
              "    </tr>\n",
              "    <tr>\n",
              "      <th>36455</th>\n",
              "      <td>0.142639</td>\n",
              "      <td>0.200248</td>\n",
              "      <td>0.657113</td>\n",
              "    </tr>\n",
              "    <tr>\n",
              "      <th>36456</th>\n",
              "      <td>0.114765</td>\n",
              "      <td>0.171772</td>\n",
              "      <td>0.713463</td>\n",
              "    </tr>\n",
              "  </tbody>\n",
              "</table>\n",
              "<p>10000 rows × 3 columns</p>\n",
              "</div>"
            ],
            "text/plain": [
              "              0         1         2\n",
              "index                              \n",
              "26457  0.076050  0.091204  0.832746\n",
              "26458  0.187354  0.187172  0.625473\n",
              "26459  0.065930  0.119212  0.814858\n",
              "26460  0.080595  0.137076  0.782329\n",
              "26461  0.096302  0.175767  0.727931\n",
              "...         ...       ...       ...\n",
              "36452  0.092229  0.286522  0.621249\n",
              "36453  0.198205  0.352704  0.449091\n",
              "36454  0.066744  0.103524  0.829732\n",
              "36455  0.142639  0.200248  0.657113\n",
              "36456  0.114765  0.171772  0.713463\n",
              "\n",
              "[10000 rows x 3 columns]"
            ]
          },
          "metadata": {
            "tags": []
          },
          "execution_count": 51
        }
      ]
    },
    {
      "cell_type": "code",
      "metadata": {
        "id": "a3hKoqe0KOBb"
      },
      "source": [
        "submit.to_csv(\"submit.csv\")"
      ],
      "execution_count": 52,
      "outputs": []
    }
  ]
}
{
  "nbformat": 4,
  "nbformat_minor": 0,
  "metadata": {
    "colab": {
      "name": "신용카드예측대회",
      "provenance": []
    },
    "kernelspec": {
      "name": "python3",
      "display_name": "Python 3"
    },
    "language_info": {
      "name": "python"
    },
    "accelerator": "GPU"
  },
  "cells": [
    {
      "cell_type": "code",
      "metadata": {
        "colab": {
          "base_uri": "https://localhost:8080/"
        },
        "id": "QLNOerkoQCzk",
        "outputId": "cfb040d6-963c-4c31-d159-a47337ae3e79"
      },
      "source": [
        "cd /content/drive/MyDrive"
      ],
      "execution_count": null,
      "outputs": [
        {
          "output_type": "stream",
          "text": [
            "/content/drive/MyDrive\n"
          ],
          "name": "stdout"
        }
      ]
    },
    {
      "cell_type": "code",
      "metadata": {
        "colab": {
          "base_uri": "https://localhost:8080/"
        },
        "id": "iVXzCGKbQWeq",
        "outputId": "a0d19160-d945-406d-d2e7-fb3c82cf0335"
      },
      "source": [
        "ls"
      ],
      "execution_count": null,
      "outputs": [
        {
          "output_type": "stream",
          "text": [
            "\u001b[0m\u001b[01;34m'Colab Notebooks'\u001b[0m/    open.zip                test_data.csv   train_data.csv\n",
            " \u001b[01;34mdata_loader_v2\u001b[0m/      sample_submission.csv   test_x.csv\n",
            "'My image model.tm'   test.csv                train.csv\n"
          ],
          "name": "stdout"
        }
      ]
    },
    {
      "cell_type": "code",
      "metadata": {
        "id": "j2aORybtQb7U"
      },
      "source": [
        "import pandas as pd\n",
        "import numpy as np"
      ],
      "execution_count": null,
      "outputs": []
    },
    {
      "cell_type": "code",
      "metadata": {
        "id": "PWwqQqLbTgfI"
      },
      "source": [
        "index_col = 'index'\n",
        "target_col = 'credit'"
      ],
      "execution_count": null,
      "outputs": []
    },
    {
      "cell_type": "code",
      "metadata": {
        "id": "rebjTwfLQfBH"
      },
      "source": [
        "train=pd.read_csv(\"train.csv\")\n",
        "test=pd.read_csv(\"test.csv\")"
      ],
      "execution_count": null,
      "outputs": []
    },
    {
      "cell_type": "code",
      "metadata": {
        "colab": {
          "base_uri": "https://localhost:8080/"
        },
        "id": "ryRKwUlkQkOC",
        "outputId": "fc756c43-06c6-4238-a734-631ce8f7d585"
      },
      "source": [
        "train.info()"
      ],
      "execution_count": null,
      "outputs": [
        {
          "output_type": "stream",
          "text": [
            "<class 'pandas.core.frame.DataFrame'>\n",
            "RangeIndex: 26457 entries, 0 to 26456\n",
            "Data columns (total 20 columns):\n",
            " #   Column         Non-Null Count  Dtype  \n",
            "---  ------         --------------  -----  \n",
            " 0   index          26457 non-null  int64  \n",
            " 1   gender         26457 non-null  object \n",
            " 2   car            26457 non-null  object \n",
            " 3   reality        26457 non-null  object \n",
            " 4   child_num      26457 non-null  int64  \n",
            " 5   income_total   26457 non-null  float64\n",
            " 6   income_type    26457 non-null  object \n",
            " 7   edu_type       26457 non-null  object \n",
            " 8   family_type    26457 non-null  object \n",
            " 9   house_type     26457 non-null  object \n",
            " 10  DAYS_BIRTH     26457 non-null  int64  \n",
            " 11  DAYS_EMPLOYED  26457 non-null  int64  \n",
            " 12  FLAG_MOBIL     26457 non-null  int64  \n",
            " 13  work_phone     26457 non-null  int64  \n",
            " 14  phone          26457 non-null  int64  \n",
            " 15  email          26457 non-null  int64  \n",
            " 16  occyp_type     18286 non-null  object \n",
            " 17  family_size    26457 non-null  float64\n",
            " 18  begin_month    26457 non-null  float64\n",
            " 19  credit         26457 non-null  float64\n",
            "dtypes: float64(4), int64(8), object(8)\n",
            "memory usage: 4.0+ MB\n"
          ],
          "name": "stdout"
        }
      ]
    },
    {
      "cell_type": "code",
      "metadata": {
        "id": "cV6_89b7_PNo"
      },
      "source": [
        "train['family_size']=train['family_size'].astype(int)\n",
        "train['income_total']=train['income_total'].astype(int)\n",
        "train['begin_month']=train['begin_month'].astype(int)\n",
        "train['credit']=train['credit'].astype(int)\n",
        "\n",
        "test['family_size']=test['family_size'].astype(int)\n",
        "test['income_total']=test['income_total'].astype(int)\n",
        "test['begin_month']=test['begin_month'].astype(int)\n"
      ],
      "execution_count": null,
      "outputs": []
    },
    {
      "cell_type": "code",
      "metadata": {
        "colab": {
          "base_uri": "https://localhost:8080/",
          "height": 758
        },
        "id": "8UPypV8OSP8R",
        "outputId": "02139031-3a90-47be-b7c5-372972f16069"
      },
      "source": [
        "train"
      ],
      "execution_count": null,
      "outputs": [
        {
          "output_type": "execute_result",
          "data": {
            "text/html": [
              "<div>\n",
              "<style scoped>\n",
              "    .dataframe tbody tr th:only-of-type {\n",
              "        vertical-align: middle;\n",
              "    }\n",
              "\n",
              "    .dataframe tbody tr th {\n",
              "        vertical-align: top;\n",
              "    }\n",
              "\n",
              "    .dataframe thead th {\n",
              "        text-align: right;\n",
              "    }\n",
              "</style>\n",
              "<table border=\"1\" class=\"dataframe\">\n",
              "  <thead>\n",
              "    <tr style=\"text-align: right;\">\n",
              "      <th></th>\n",
              "      <th>index</th>\n",
              "      <th>gender</th>\n",
              "      <th>car</th>\n",
              "      <th>reality</th>\n",
              "      <th>child_num</th>\n",
              "      <th>income_total</th>\n",
              "      <th>income_type</th>\n",
              "      <th>edu_type</th>\n",
              "      <th>family_type</th>\n",
              "      <th>house_type</th>\n",
              "      <th>DAYS_BIRTH</th>\n",
              "      <th>DAYS_EMPLOYED</th>\n",
              "      <th>FLAG_MOBIL</th>\n",
              "      <th>work_phone</th>\n",
              "      <th>phone</th>\n",
              "      <th>email</th>\n",
              "      <th>occyp_type</th>\n",
              "      <th>family_size</th>\n",
              "      <th>begin_month</th>\n",
              "      <th>credit</th>\n",
              "    </tr>\n",
              "  </thead>\n",
              "  <tbody>\n",
              "    <tr>\n",
              "      <th>0</th>\n",
              "      <td>0</td>\n",
              "      <td>F</td>\n",
              "      <td>N</td>\n",
              "      <td>N</td>\n",
              "      <td>0</td>\n",
              "      <td>202500</td>\n",
              "      <td>Commercial associate</td>\n",
              "      <td>Higher education</td>\n",
              "      <td>Married</td>\n",
              "      <td>Municipal apartment</td>\n",
              "      <td>-13899</td>\n",
              "      <td>-4709</td>\n",
              "      <td>1</td>\n",
              "      <td>0</td>\n",
              "      <td>0</td>\n",
              "      <td>0</td>\n",
              "      <td>NaN</td>\n",
              "      <td>2</td>\n",
              "      <td>-6</td>\n",
              "      <td>1</td>\n",
              "    </tr>\n",
              "    <tr>\n",
              "      <th>1</th>\n",
              "      <td>1</td>\n",
              "      <td>F</td>\n",
              "      <td>N</td>\n",
              "      <td>Y</td>\n",
              "      <td>1</td>\n",
              "      <td>247500</td>\n",
              "      <td>Commercial associate</td>\n",
              "      <td>Secondary / secondary special</td>\n",
              "      <td>Civil marriage</td>\n",
              "      <td>House / apartment</td>\n",
              "      <td>-11380</td>\n",
              "      <td>-1540</td>\n",
              "      <td>1</td>\n",
              "      <td>0</td>\n",
              "      <td>0</td>\n",
              "      <td>1</td>\n",
              "      <td>Laborers</td>\n",
              "      <td>3</td>\n",
              "      <td>-5</td>\n",
              "      <td>1</td>\n",
              "    </tr>\n",
              "    <tr>\n",
              "      <th>2</th>\n",
              "      <td>2</td>\n",
              "      <td>M</td>\n",
              "      <td>Y</td>\n",
              "      <td>Y</td>\n",
              "      <td>0</td>\n",
              "      <td>450000</td>\n",
              "      <td>Working</td>\n",
              "      <td>Higher education</td>\n",
              "      <td>Married</td>\n",
              "      <td>House / apartment</td>\n",
              "      <td>-19087</td>\n",
              "      <td>-4434</td>\n",
              "      <td>1</td>\n",
              "      <td>0</td>\n",
              "      <td>1</td>\n",
              "      <td>0</td>\n",
              "      <td>Managers</td>\n",
              "      <td>2</td>\n",
              "      <td>-22</td>\n",
              "      <td>2</td>\n",
              "    </tr>\n",
              "    <tr>\n",
              "      <th>3</th>\n",
              "      <td>3</td>\n",
              "      <td>F</td>\n",
              "      <td>N</td>\n",
              "      <td>Y</td>\n",
              "      <td>0</td>\n",
              "      <td>202500</td>\n",
              "      <td>Commercial associate</td>\n",
              "      <td>Secondary / secondary special</td>\n",
              "      <td>Married</td>\n",
              "      <td>House / apartment</td>\n",
              "      <td>-15088</td>\n",
              "      <td>-2092</td>\n",
              "      <td>1</td>\n",
              "      <td>0</td>\n",
              "      <td>1</td>\n",
              "      <td>0</td>\n",
              "      <td>Sales staff</td>\n",
              "      <td>2</td>\n",
              "      <td>-37</td>\n",
              "      <td>0</td>\n",
              "    </tr>\n",
              "    <tr>\n",
              "      <th>4</th>\n",
              "      <td>4</td>\n",
              "      <td>F</td>\n",
              "      <td>Y</td>\n",
              "      <td>Y</td>\n",
              "      <td>0</td>\n",
              "      <td>157500</td>\n",
              "      <td>State servant</td>\n",
              "      <td>Higher education</td>\n",
              "      <td>Married</td>\n",
              "      <td>House / apartment</td>\n",
              "      <td>-15037</td>\n",
              "      <td>-2105</td>\n",
              "      <td>1</td>\n",
              "      <td>0</td>\n",
              "      <td>0</td>\n",
              "      <td>0</td>\n",
              "      <td>Managers</td>\n",
              "      <td>2</td>\n",
              "      <td>-26</td>\n",
              "      <td>2</td>\n",
              "    </tr>\n",
              "    <tr>\n",
              "      <th>...</th>\n",
              "      <td>...</td>\n",
              "      <td>...</td>\n",
              "      <td>...</td>\n",
              "      <td>...</td>\n",
              "      <td>...</td>\n",
              "      <td>...</td>\n",
              "      <td>...</td>\n",
              "      <td>...</td>\n",
              "      <td>...</td>\n",
              "      <td>...</td>\n",
              "      <td>...</td>\n",
              "      <td>...</td>\n",
              "      <td>...</td>\n",
              "      <td>...</td>\n",
              "      <td>...</td>\n",
              "      <td>...</td>\n",
              "      <td>...</td>\n",
              "      <td>...</td>\n",
              "      <td>...</td>\n",
              "      <td>...</td>\n",
              "    </tr>\n",
              "    <tr>\n",
              "      <th>26452</th>\n",
              "      <td>26452</td>\n",
              "      <td>F</td>\n",
              "      <td>N</td>\n",
              "      <td>N</td>\n",
              "      <td>2</td>\n",
              "      <td>225000</td>\n",
              "      <td>State servant</td>\n",
              "      <td>Secondary / secondary special</td>\n",
              "      <td>Married</td>\n",
              "      <td>House / apartment</td>\n",
              "      <td>-12079</td>\n",
              "      <td>-1984</td>\n",
              "      <td>1</td>\n",
              "      <td>0</td>\n",
              "      <td>0</td>\n",
              "      <td>0</td>\n",
              "      <td>Core staff</td>\n",
              "      <td>4</td>\n",
              "      <td>-2</td>\n",
              "      <td>1</td>\n",
              "    </tr>\n",
              "    <tr>\n",
              "      <th>26453</th>\n",
              "      <td>26453</td>\n",
              "      <td>F</td>\n",
              "      <td>N</td>\n",
              "      <td>Y</td>\n",
              "      <td>1</td>\n",
              "      <td>180000</td>\n",
              "      <td>Working</td>\n",
              "      <td>Higher education</td>\n",
              "      <td>Separated</td>\n",
              "      <td>House / apartment</td>\n",
              "      <td>-15291</td>\n",
              "      <td>-2475</td>\n",
              "      <td>1</td>\n",
              "      <td>0</td>\n",
              "      <td>0</td>\n",
              "      <td>0</td>\n",
              "      <td>NaN</td>\n",
              "      <td>2</td>\n",
              "      <td>-47</td>\n",
              "      <td>2</td>\n",
              "    </tr>\n",
              "    <tr>\n",
              "      <th>26454</th>\n",
              "      <td>26454</td>\n",
              "      <td>F</td>\n",
              "      <td>Y</td>\n",
              "      <td>N</td>\n",
              "      <td>0</td>\n",
              "      <td>292500</td>\n",
              "      <td>Working</td>\n",
              "      <td>Secondary / secondary special</td>\n",
              "      <td>Civil marriage</td>\n",
              "      <td>With parents</td>\n",
              "      <td>-10082</td>\n",
              "      <td>-2015</td>\n",
              "      <td>1</td>\n",
              "      <td>0</td>\n",
              "      <td>0</td>\n",
              "      <td>0</td>\n",
              "      <td>Core staff</td>\n",
              "      <td>2</td>\n",
              "      <td>-25</td>\n",
              "      <td>2</td>\n",
              "    </tr>\n",
              "    <tr>\n",
              "      <th>26455</th>\n",
              "      <td>26455</td>\n",
              "      <td>M</td>\n",
              "      <td>N</td>\n",
              "      <td>Y</td>\n",
              "      <td>0</td>\n",
              "      <td>171000</td>\n",
              "      <td>Working</td>\n",
              "      <td>Incomplete higher</td>\n",
              "      <td>Single / not married</td>\n",
              "      <td>House / apartment</td>\n",
              "      <td>-10145</td>\n",
              "      <td>-107</td>\n",
              "      <td>1</td>\n",
              "      <td>0</td>\n",
              "      <td>0</td>\n",
              "      <td>0</td>\n",
              "      <td>Laborers</td>\n",
              "      <td>1</td>\n",
              "      <td>-59</td>\n",
              "      <td>2</td>\n",
              "    </tr>\n",
              "    <tr>\n",
              "      <th>26456</th>\n",
              "      <td>26456</td>\n",
              "      <td>F</td>\n",
              "      <td>N</td>\n",
              "      <td>N</td>\n",
              "      <td>0</td>\n",
              "      <td>81000</td>\n",
              "      <td>Working</td>\n",
              "      <td>Secondary / secondary special</td>\n",
              "      <td>Civil marriage</td>\n",
              "      <td>House / apartment</td>\n",
              "      <td>-19569</td>\n",
              "      <td>-1013</td>\n",
              "      <td>1</td>\n",
              "      <td>0</td>\n",
              "      <td>0</td>\n",
              "      <td>0</td>\n",
              "      <td>Security staff</td>\n",
              "      <td>2</td>\n",
              "      <td>-9</td>\n",
              "      <td>2</td>\n",
              "    </tr>\n",
              "  </tbody>\n",
              "</table>\n",
              "<p>26457 rows × 20 columns</p>\n",
              "</div>"
            ],
            "text/plain": [
              "       index gender car  ... family_size  begin_month  credit\n",
              "0          0      F   N  ...           2           -6       1\n",
              "1          1      F   N  ...           3           -5       1\n",
              "2          2      M   Y  ...           2          -22       2\n",
              "3          3      F   N  ...           2          -37       0\n",
              "4          4      F   Y  ...           2          -26       2\n",
              "...      ...    ...  ..  ...         ...          ...     ...\n",
              "26452  26452      F   N  ...           4           -2       1\n",
              "26453  26453      F   N  ...           2          -47       2\n",
              "26454  26454      F   Y  ...           2          -25       2\n",
              "26455  26455      M   N  ...           1          -59       2\n",
              "26456  26456      F   N  ...           2           -9       2\n",
              "\n",
              "[26457 rows x 20 columns]"
            ]
          },
          "metadata": {
            "tags": []
          },
          "execution_count": 467
        }
      ]
    },
    {
      "cell_type": "code",
      "metadata": {
        "id": "fxVC10uoVfAO"
      },
      "source": [
        "train=train.fillna('dontknow')\n",
        "train=train.drop(labels='index',axis=1)\n",
        "\n",
        "test=test.fillna('dontknow')\n",
        "test=test.drop(labels='index',axis=1)"
      ],
      "execution_count": null,
      "outputs": []
    },
    {
      "cell_type": "code",
      "metadata": {
        "colab": {
          "base_uri": "https://localhost:8080/"
        },
        "id": "_3Y9nr80W_7A",
        "outputId": "352d9a28-4904-4c23-9e0f-9911fbc5bdeb"
      },
      "source": [
        "test.isna().sum()"
      ],
      "execution_count": null,
      "outputs": [
        {
          "output_type": "execute_result",
          "data": {
            "text/plain": [
              "gender           0\n",
              "car              0\n",
              "reality          0\n",
              "child_num        0\n",
              "income_total     0\n",
              "income_type      0\n",
              "edu_type         0\n",
              "family_type      0\n",
              "house_type       0\n",
              "DAYS_BIRTH       0\n",
              "DAYS_EMPLOYED    0\n",
              "FLAG_MOBIL       0\n",
              "work_phone       0\n",
              "phone            0\n",
              "email            0\n",
              "occyp_type       0\n",
              "family_size      0\n",
              "begin_month      0\n",
              "dtype: int64"
            ]
          },
          "metadata": {
            "tags": []
          },
          "execution_count": 469
        }
      ]
    },
    {
      "cell_type": "code",
      "metadata": {
        "colab": {
          "base_uri": "https://localhost:8080/"
        },
        "id": "Z9KifT1wSmUV",
        "outputId": "e3dc317b-9fc2-4e7c-f45c-9b9f4116c079"
      },
      "source": [
        "!pip install category_encoders"
      ],
      "execution_count": null,
      "outputs": [
        {
          "output_type": "stream",
          "text": [
            "Requirement already satisfied: category_encoders in /usr/local/lib/python3.7/dist-packages (2.2.2)\n",
            "Requirement already satisfied: numpy>=1.14.0 in /usr/local/lib/python3.7/dist-packages (from category_encoders) (1.19.5)\n",
            "Requirement already satisfied: patsy>=0.5.1 in /usr/local/lib/python3.7/dist-packages (from category_encoders) (0.5.1)\n",
            "Requirement already satisfied: statsmodels>=0.9.0 in /usr/local/lib/python3.7/dist-packages (from category_encoders) (0.10.2)\n",
            "Requirement already satisfied: scikit-learn>=0.20.0 in /usr/local/lib/python3.7/dist-packages (from category_encoders) (0.22.2.post1)\n",
            "Requirement already satisfied: scipy>=1.0.0 in /usr/local/lib/python3.7/dist-packages (from category_encoders) (1.4.1)\n",
            "Requirement already satisfied: pandas>=0.21.1 in /usr/local/lib/python3.7/dist-packages (from category_encoders) (1.1.5)\n",
            "Requirement already satisfied: six in /usr/local/lib/python3.7/dist-packages (from patsy>=0.5.1->category_encoders) (1.15.0)\n",
            "Requirement already satisfied: joblib>=0.11 in /usr/local/lib/python3.7/dist-packages (from scikit-learn>=0.20.0->category_encoders) (1.0.1)\n",
            "Requirement already satisfied: python-dateutil>=2.7.3 in /usr/local/lib/python3.7/dist-packages (from pandas>=0.21.1->category_encoders) (2.8.1)\n",
            "Requirement already satisfied: pytz>=2017.2 in /usr/local/lib/python3.7/dist-packages (from pandas>=0.21.1->category_encoders) (2018.9)\n"
          ],
          "name": "stdout"
        }
      ]
    },
    {
      "cell_type": "code",
      "metadata": {
        "colab": {
          "base_uri": "https://localhost:8080/"
        },
        "id": "gcn12-sXSnk4",
        "outputId": "d4baf539-1a1a-4070-9167-4a687a44cfaa"
      },
      "source": [
        "cat_features = [x for x in train.columns if train[x].dtype == 'object']\n",
        "cont_features = [x for x in train.columns if x not in cat_features + [target_col]]\n",
        "feature_cols = cont_features + cat_features\n",
        "print(len(feature_cols), len(cat_features), len(cont_features))"
      ],
      "execution_count": null,
      "outputs": [
        {
          "output_type": "stream",
          "text": [
            "18 8 10\n"
          ],
          "name": "stdout"
        }
      ]
    },
    {
      "cell_type": "code",
      "metadata": {
        "id": "sjFI9wCSgPdc"
      },
      "source": [
        "target=train['credit']"
      ],
      "execution_count": null,
      "outputs": []
    },
    {
      "cell_type": "code",
      "metadata": {
        "id": "Dr3SdaRKTo5h"
      },
      "source": [
        "from category_encoders import LeaveOneOutEncoder\n",
        "from sklearn.preprocessing import LabelEncoder\n",
        "from category_encoders import CatBoostEncoder\n",
        "from sklearn.preprocessing import OrdinalEncoder\n",
        "\n",
        "xgb_cat_features = []\n",
        "lgb_cat_features = []\n",
        "cb_cat_features = []\n",
        "ridge_cat_features = []\n",
        "sgd_cat_features = []\n",
        "hgbc_cat_features = []\n",
        "\n",
        "loo_features = []\n",
        "le_features = []\n",
        "CBE_features=[]\n",
        "Ord_features=[]"
      ],
      "execution_count": null,
      "outputs": []
    },
    {
      "cell_type": "code",
      "metadata": {
        "id": "FvHDkUPHUAIT"
      },
      "source": [
        "def label_encode(train_df, test_df, column):\n",
        "    le = LabelEncoder()\n",
        "    new_feature = \"{}_le\".format(column)\n",
        "    le.fit(train_df[column].unique().tolist() + test_df[column].unique().tolist())\n",
        "    train_df[new_feature] = le.transform(train_df[column])\n",
        "    test_df[new_feature] = le.transform(test_df[column])\n",
        "    return new_feature\n",
        "\n",
        "def ordinal_encode(train_df, test_df, column):\n",
        "    Ord = OrdinalEncoder()\n",
        "    new_feature = \"{}_ord\".format(column)\n",
        "    Ord.fit(train_df[column].unique().tolist() + test_df[column].unique().tolist())\n",
        "    train_df[new_feature] = Ord.transform(train_df[column])\n",
        "    test_df[new_feature] = Ord.transform(test_df[column])\n",
        "    return new_feature\n",
        "    \n",
        "def loo_encode(train_df, test_df, column):\n",
        "    loo = LeaveOneOutEncoder()\n",
        "    new_feature = \"{}_loo\".format(column)\n",
        "    loo.fit(train_df[column], train_df[\"credit\"])\n",
        "    train_df[new_feature] = loo.transform(train_df[column])\n",
        "    test_df[new_feature] = loo.transform(test_df[column])\n",
        "    return new_feature\n",
        "\n",
        "def CBE(train_df, test_df, column):\n",
        "    CBE=CatBoostEncoder()\n",
        "    new_feature=\"{}_CBE\".format(column)\n",
        "    CBE.fit(train_df[column],train_df[\"credit\"])\n",
        "    train_df[new_feature]=CBE.transform(train_df[column])\n",
        "    test_df[new_feature]=CBE.transform(test_df[column])\n",
        "    return new_feature"
      ],
      "execution_count": null,
      "outputs": []
    },
    {
      "cell_type": "code",
      "metadata": {
        "id": "AuG1_IF0UTWj"
      },
      "source": [
        "for feature in cat_features:\n",
        "    loo_features.append(loo_encode(train, test, feature))\n",
        "    #le_features.append(label_encode(train, test, feature))\n",
        "    CBE_features.append(CBE(train,test,feature))"
      ],
      "execution_count": null,
      "outputs": []
    },
    {
      "cell_type": "code",
      "metadata": {
        "colab": {
          "base_uri": "https://localhost:8080/"
        },
        "id": "Y_YRcuhX8giZ",
        "outputId": "92f659e6-786a-4861-f499-4bf0c907a40c"
      },
      "source": [
        "test.isna().sum()"
      ],
      "execution_count": null,
      "outputs": [
        {
          "output_type": "execute_result",
          "data": {
            "text/plain": [
              "gender             0\n",
              "car                0\n",
              "reality            0\n",
              "child_num          0\n",
              "income_total       0\n",
              "income_type        0\n",
              "edu_type           0\n",
              "family_type        0\n",
              "house_type         0\n",
              "DAYS_BIRTH         0\n",
              "DAYS_EMPLOYED      0\n",
              "FLAG_MOBIL         0\n",
              "work_phone         0\n",
              "phone              0\n",
              "email              0\n",
              "occyp_type         0\n",
              "family_size        0\n",
              "begin_month        0\n",
              "gender_loo         0\n",
              "gender_CBE         0\n",
              "car_loo            0\n",
              "car_CBE            0\n",
              "reality_loo        0\n",
              "reality_CBE        0\n",
              "income_type_loo    0\n",
              "income_type_CBE    0\n",
              "edu_type_loo       0\n",
              "edu_type_CBE       0\n",
              "family_type_loo    0\n",
              "family_type_CBE    0\n",
              "house_type_loo     0\n",
              "house_type_CBE     0\n",
              "occyp_type_loo     0\n",
              "occyp_type_CBE     0\n",
              "dtype: int64"
            ]
          },
          "metadata": {
            "tags": []
          },
          "execution_count": 476
        }
      ]
    },
    {
      "cell_type": "markdown",
      "metadata": {
        "id": "y-amO_-jdO8F"
      },
      "source": [
        "\n",
        "\n",
        "---\n",
        "\n"
      ]
    },
    {
      "cell_type": "code",
      "metadata": {
        "id": "aYUX8Yc9dPlL"
      },
      "source": [
        "xgb_cat_features.extend(loo_features)\n",
        "lgb_cat_features.extend(loo_features)\n",
        "cb_cat_features.extend(cat_features)\n",
        "ridge_cat_features.extend(loo_features)\n",
        "sgd_cat_features.extend(loo_features)\n",
        "hgbc_cat_features.extend(loo_features)"
      ],
      "execution_count": null,
      "outputs": []
    },
    {
      "cell_type": "code",
      "metadata": {
        "colab": {
          "base_uri": "https://localhost:8080/"
        },
        "id": "hEBEiwiXeE3C",
        "outputId": "e6880e2e-47e8-4998-8599-5a027fc92f73"
      },
      "source": [
        "!pip install catboost"
      ],
      "execution_count": null,
      "outputs": [
        {
          "output_type": "stream",
          "text": [
            "Requirement already satisfied: catboost in /usr/local/lib/python3.7/dist-packages (0.25.1)\n",
            "Requirement already satisfied: graphviz in /usr/local/lib/python3.7/dist-packages (from catboost) (0.10.1)\n",
            "Requirement already satisfied: matplotlib in /usr/local/lib/python3.7/dist-packages (from catboost) (3.2.2)\n",
            "Requirement already satisfied: scipy in /usr/local/lib/python3.7/dist-packages (from catboost) (1.4.1)\n",
            "Requirement already satisfied: six in /usr/local/lib/python3.7/dist-packages (from catboost) (1.15.0)\n",
            "Requirement already satisfied: pandas>=0.24.0 in /usr/local/lib/python3.7/dist-packages (from catboost) (1.1.5)\n",
            "Requirement already satisfied: plotly in /usr/local/lib/python3.7/dist-packages (from catboost) (4.4.1)\n",
            "Requirement already satisfied: numpy>=1.16.0 in /usr/local/lib/python3.7/dist-packages (from catboost) (1.19.5)\n",
            "Requirement already satisfied: kiwisolver>=1.0.1 in /usr/local/lib/python3.7/dist-packages (from matplotlib->catboost) (1.3.1)\n",
            "Requirement already satisfied: pyparsing!=2.0.4,!=2.1.2,!=2.1.6,>=2.0.1 in /usr/local/lib/python3.7/dist-packages (from matplotlib->catboost) (2.4.7)\n",
            "Requirement already satisfied: python-dateutil>=2.1 in /usr/local/lib/python3.7/dist-packages (from matplotlib->catboost) (2.8.1)\n",
            "Requirement already satisfied: cycler>=0.10 in /usr/local/lib/python3.7/dist-packages (from matplotlib->catboost) (0.10.0)\n",
            "Requirement already satisfied: pytz>=2017.2 in /usr/local/lib/python3.7/dist-packages (from pandas>=0.24.0->catboost) (2018.9)\n",
            "Requirement already satisfied: retrying>=1.3.3 in /usr/local/lib/python3.7/dist-packages (from plotly->catboost) (1.3.3)\n"
          ],
          "name": "stdout"
        }
      ]
    },
    {
      "cell_type": "code",
      "metadata": {
        "id": "uKmBeQy5er4K"
      },
      "source": [
        "import warnings\n",
        "warnings.filterwarnings(\"ignore\")\n",
        "\n",
        "from lightgbm import LGBMClassifier\n",
        "from xgboost import XGBClassifier\n",
        "from catboost import CatBoostClassifier\n",
        "from sklearn.linear_model import RidgeClassifier\n",
        "from sklearn.linear_model import SGDClassifier\n",
        "from sklearn.calibration import CalibratedClassifierCV\n",
        "\n",
        "from sklearn.experimental import enable_hist_gradient_boosting\n",
        "from sklearn.ensemble import HistGradientBoostingClassifier\n",
        "\n",
        "from sklearn.model_selection import StratifiedKFold\n",
        "from sklearn.metrics import roc_auc_score\n",
        "from sklearn.multiclass import OneVsRestClassifier\n",
        "from sklearn.metrics import log_loss"
      ],
      "execution_count": null,
      "outputs": []
    },
    {
      "cell_type": "code",
      "metadata": {
        "id": "rZ6cWnK4evoh"
      },
      "source": [
        "random_state = 2021\n",
        "n_folds = 10\n",
        "k_fold = StratifiedKFold(n_splits=n_folds, random_state=random_state, shuffle=True)"
      ],
      "execution_count": null,
      "outputs": []
    },
    {
      "cell_type": "code",
      "metadata": {
        "id": "VPXvyGJ4eyIM"
      },
      "source": [
        "xgb_train_preds = np.zeros(len(train.index), )\n",
        "xgb_test_preds = np.zeros(len(test.index), )\n",
        "xgb_features = xgb_cat_features + cont_features\n",
        "\n",
        "lgb_train_preds = np.zeros(len(train.index), )\n",
        "lgb_test_preds = np.zeros(len(test.index), )\n",
        "lgb_features = lgb_cat_features + cont_features\n",
        "\n",
        "cb_train_preds = np.zeros(len(train.index), )\n",
        "cb_test_preds = np.zeros(len(test.index), )\n",
        "cb_features = cb_cat_features + cont_features\n",
        "\n",
        "ridge_train_preds = np.zeros(len(train.index), )\n",
        "ridge_test_preds = np.zeros(len(test.index), )\n",
        "ridge_features = ridge_cat_features + cont_features\n",
        "\n",
        "sgd_train_preds = np.zeros(len(train.index), )\n",
        "sgd_test_preds = np.zeros(len(test.index), )\n",
        "sgd_features = sgd_cat_features + cont_features\n",
        "\n",
        "hgbc_train_preds = np.zeros(len(train.index), )\n",
        "hgbc_test_preds = np.zeros(len(test.index), )\n",
        "hgbc_features = hgbc_cat_features + cont_features"
      ],
      "execution_count": null,
      "outputs": []
    },
    {
      "cell_type": "code",
      "metadata": {
        "colab": {
          "base_uri": "https://localhost:8080/"
        },
        "id": "RFamKFXKlrW9",
        "outputId": "3e7cf87a-aacc-43ae-af3e-cd91dce93957"
      },
      "source": [
        "lgb_features"
      ],
      "execution_count": null,
      "outputs": [
        {
          "output_type": "execute_result",
          "data": {
            "text/plain": [
              "['gender_loo',\n",
              " 'car_loo',\n",
              " 'reality_loo',\n",
              " 'income_type_loo',\n",
              " 'edu_type_loo',\n",
              " 'family_type_loo',\n",
              " 'house_type_loo',\n",
              " 'occyp_type_loo',\n",
              " 'child_num',\n",
              " 'income_total',\n",
              " 'DAYS_BIRTH',\n",
              " 'DAYS_EMPLOYED',\n",
              " 'FLAG_MOBIL',\n",
              " 'work_phone',\n",
              " 'phone',\n",
              " 'email',\n",
              " 'family_size',\n",
              " 'begin_month']"
            ]
          },
          "metadata": {
            "tags": []
          },
          "execution_count": 482
        }
      ]
    },
    {
      "cell_type": "code",
      "metadata": {
        "id": "Klplwp_BfgYa"
      },
      "source": [
        "l1_train = pd.DataFrame(data={\n",
        "    \"xgb\": xgb_train_preds.tolist(),\n",
        "    \"lgb\": lgb_train_preds.tolist(),\n",
        "    \"cb\": cb_train_preds.tolist(),\n",
        "    \"ridge\": ridge_train_preds.tolist(),\n",
        "    \"sgd\": sgd_train_preds.tolist(),\n",
        "    \"hgbc\": hgbc_train_preds.tolist(),\n",
        "    \"target\": target.tolist()\n",
        "})\n",
        "l1_test = pd.DataFrame(data={\n",
        "    \"xgb\": xgb_test_preds.tolist(),\n",
        "    \"lgb\": lgb_test_preds.tolist(),\n",
        "    \"cb\": cb_test_preds.tolist(),\n",
        "    \"sgd\": sgd_test_preds.tolist(),\n",
        "    \"ridge\": ridge_test_preds.tolist(),    \n",
        "    \"hgbc\": hgbc_test_preds.tolist(),\n",
        "})"
      ],
      "execution_count": null,
      "outputs": []
    },
    {
      "cell_type": "code",
      "metadata": {
        "colab": {
          "base_uri": "https://localhost:8080/",
          "height": 402
        },
        "id": "XAJaUEksgfWw",
        "outputId": "1eff98e8-48f9-414d-db38-be0ac0666fa9"
      },
      "source": [
        "l1_train"
      ],
      "execution_count": null,
      "outputs": [
        {
          "output_type": "execute_result",
          "data": {
            "text/html": [
              "<div>\n",
              "<style scoped>\n",
              "    .dataframe tbody tr th:only-of-type {\n",
              "        vertical-align: middle;\n",
              "    }\n",
              "\n",
              "    .dataframe tbody tr th {\n",
              "        vertical-align: top;\n",
              "    }\n",
              "\n",
              "    .dataframe thead th {\n",
              "        text-align: right;\n",
              "    }\n",
              "</style>\n",
              "<table border=\"1\" class=\"dataframe\">\n",
              "  <thead>\n",
              "    <tr style=\"text-align: right;\">\n",
              "      <th></th>\n",
              "      <th>xgb</th>\n",
              "      <th>lgb</th>\n",
              "      <th>cb</th>\n",
              "      <th>ridge</th>\n",
              "      <th>sgd</th>\n",
              "      <th>hgbc</th>\n",
              "      <th>target</th>\n",
              "    </tr>\n",
              "  </thead>\n",
              "  <tbody>\n",
              "    <tr>\n",
              "      <th>0</th>\n",
              "      <td>0.0</td>\n",
              "      <td>0.0</td>\n",
              "      <td>0.0</td>\n",
              "      <td>0.0</td>\n",
              "      <td>0.0</td>\n",
              "      <td>0.0</td>\n",
              "      <td>1</td>\n",
              "    </tr>\n",
              "    <tr>\n",
              "      <th>1</th>\n",
              "      <td>0.0</td>\n",
              "      <td>0.0</td>\n",
              "      <td>0.0</td>\n",
              "      <td>0.0</td>\n",
              "      <td>0.0</td>\n",
              "      <td>0.0</td>\n",
              "      <td>1</td>\n",
              "    </tr>\n",
              "    <tr>\n",
              "      <th>2</th>\n",
              "      <td>0.0</td>\n",
              "      <td>0.0</td>\n",
              "      <td>0.0</td>\n",
              "      <td>0.0</td>\n",
              "      <td>0.0</td>\n",
              "      <td>0.0</td>\n",
              "      <td>2</td>\n",
              "    </tr>\n",
              "    <tr>\n",
              "      <th>3</th>\n",
              "      <td>0.0</td>\n",
              "      <td>0.0</td>\n",
              "      <td>0.0</td>\n",
              "      <td>0.0</td>\n",
              "      <td>0.0</td>\n",
              "      <td>0.0</td>\n",
              "      <td>0</td>\n",
              "    </tr>\n",
              "    <tr>\n",
              "      <th>4</th>\n",
              "      <td>0.0</td>\n",
              "      <td>0.0</td>\n",
              "      <td>0.0</td>\n",
              "      <td>0.0</td>\n",
              "      <td>0.0</td>\n",
              "      <td>0.0</td>\n",
              "      <td>2</td>\n",
              "    </tr>\n",
              "    <tr>\n",
              "      <th>...</th>\n",
              "      <td>...</td>\n",
              "      <td>...</td>\n",
              "      <td>...</td>\n",
              "      <td>...</td>\n",
              "      <td>...</td>\n",
              "      <td>...</td>\n",
              "      <td>...</td>\n",
              "    </tr>\n",
              "    <tr>\n",
              "      <th>26452</th>\n",
              "      <td>0.0</td>\n",
              "      <td>0.0</td>\n",
              "      <td>0.0</td>\n",
              "      <td>0.0</td>\n",
              "      <td>0.0</td>\n",
              "      <td>0.0</td>\n",
              "      <td>1</td>\n",
              "    </tr>\n",
              "    <tr>\n",
              "      <th>26453</th>\n",
              "      <td>0.0</td>\n",
              "      <td>0.0</td>\n",
              "      <td>0.0</td>\n",
              "      <td>0.0</td>\n",
              "      <td>0.0</td>\n",
              "      <td>0.0</td>\n",
              "      <td>2</td>\n",
              "    </tr>\n",
              "    <tr>\n",
              "      <th>26454</th>\n",
              "      <td>0.0</td>\n",
              "      <td>0.0</td>\n",
              "      <td>0.0</td>\n",
              "      <td>0.0</td>\n",
              "      <td>0.0</td>\n",
              "      <td>0.0</td>\n",
              "      <td>2</td>\n",
              "    </tr>\n",
              "    <tr>\n",
              "      <th>26455</th>\n",
              "      <td>0.0</td>\n",
              "      <td>0.0</td>\n",
              "      <td>0.0</td>\n",
              "      <td>0.0</td>\n",
              "      <td>0.0</td>\n",
              "      <td>0.0</td>\n",
              "      <td>2</td>\n",
              "    </tr>\n",
              "    <tr>\n",
              "      <th>26456</th>\n",
              "      <td>0.0</td>\n",
              "      <td>0.0</td>\n",
              "      <td>0.0</td>\n",
              "      <td>0.0</td>\n",
              "      <td>0.0</td>\n",
              "      <td>0.0</td>\n",
              "      <td>2</td>\n",
              "    </tr>\n",
              "  </tbody>\n",
              "</table>\n",
              "<p>26457 rows × 7 columns</p>\n",
              "</div>"
            ],
            "text/plain": [
              "       xgb  lgb   cb  ridge  sgd  hgbc  target\n",
              "0      0.0  0.0  0.0    0.0  0.0   0.0       1\n",
              "1      0.0  0.0  0.0    0.0  0.0   0.0       1\n",
              "2      0.0  0.0  0.0    0.0  0.0   0.0       2\n",
              "3      0.0  0.0  0.0    0.0  0.0   0.0       0\n",
              "4      0.0  0.0  0.0    0.0  0.0   0.0       2\n",
              "...    ...  ...  ...    ...  ...   ...     ...\n",
              "26452  0.0  0.0  0.0    0.0  0.0   0.0       1\n",
              "26453  0.0  0.0  0.0    0.0  0.0   0.0       2\n",
              "26454  0.0  0.0  0.0    0.0  0.0   0.0       2\n",
              "26455  0.0  0.0  0.0    0.0  0.0   0.0       2\n",
              "26456  0.0  0.0  0.0    0.0  0.0   0.0       2\n",
              "\n",
              "[26457 rows x 7 columns]"
            ]
          },
          "metadata": {
            "tags": []
          },
          "execution_count": 484
        }
      ]
    },
    {
      "cell_type": "code",
      "metadata": {
        "colab": {
          "base_uri": "https://localhost:8080/"
        },
        "id": "41m83T6lglvj",
        "outputId": "b773d3c0-f034-44ca-89f4-cfa8ced47fce"
      },
      "source": [
        "\n",
        "train_preds = np.zeros(len(l1_train.index), )\n",
        "test_preds = np.zeros(len(l1_test.index), )\n",
        "features = [\"xgb\", \"lgb\", \"cb\", \"ridge\", \"sgd\", \"hgbc\"]\n",
        "features"
      ],
      "execution_count": null,
      "outputs": [
        {
          "output_type": "execute_result",
          "data": {
            "text/plain": [
              "['xgb', 'lgb', 'cb', 'ridge', 'sgd', 'hgbc']"
            ]
          },
          "metadata": {
            "tags": []
          },
          "execution_count": 485
        }
      ]
    },
    {
      "cell_type": "code",
      "metadata": {
        "id": "ZVKBkNKGgsWP"
      },
      "source": [
        "import pandas"
      ],
      "execution_count": null,
      "outputs": []
    },
    {
      "cell_type": "code",
      "metadata": {
        "colab": {
          "base_uri": "https://localhost:8080/"
        },
        "id": "Q0tQKJcBh05g",
        "outputId": "9c8fd28b-8743-4e34-e29b-3df38b832f14"
      },
      "source": [
        "train_preds.shape"
      ],
      "execution_count": null,
      "outputs": [
        {
          "output_type": "execute_result",
          "data": {
            "text/plain": [
              "(26457,)"
            ]
          },
          "metadata": {
            "tags": []
          },
          "execution_count": 487
        }
      ]
    },
    {
      "cell_type": "code",
      "metadata": {
        "id": "tfiwx9tq0-oY"
      },
      "source": [
        "from sklearn.metrics import accuracy_score"
      ],
      "execution_count": null,
      "outputs": []
    },
    {
      "cell_type": "code",
      "metadata": {
        "colab": {
          "base_uri": "https://localhost:8080/"
        },
        "id": "AjXT6noRgs4n",
        "outputId": "fe8a0d3f-49b8-4e53-95ee-cdb5029c6275"
      },
      "source": [
        "for fold, (train_index, test_index) in enumerate(k_fold.split(train, target)):\n",
        "    print(\"--> Fold {}\".format(fold + 1))\n",
        "    y_train = target.iloc[train_index]\n",
        "    y_valid = target.iloc[test_index]\n",
        "\n",
        "    xgb_x_train = pandas.DataFrame(train[xgb_features].iloc[train_index])\n",
        "    xgb_x_valid = pandas.DataFrame(train[xgb_features].iloc[test_index])\n",
        "\n",
        "    lgb_x_train = pandas.DataFrame(train[lgb_features].iloc[train_index])\n",
        "    lgb_x_valid = pandas.DataFrame(train[lgb_features].iloc[test_index])\n",
        "\n",
        "    cb_x_train = pandas.DataFrame(train[cb_features].iloc[train_index])\n",
        "    cb_x_valid = pandas.DataFrame(train[cb_features].iloc[test_index])\n",
        "\n",
        "    ridge_x_train = pandas.DataFrame(train[ridge_features].iloc[train_index])\n",
        "    ridge_x_valid = pandas.DataFrame(train[ridge_features].iloc[test_index])\n",
        "\n",
        "    sgd_x_train = pandas.DataFrame(train[sgd_features].iloc[train_index])\n",
        "    sgd_x_valid = pandas.DataFrame(train[sgd_features].iloc[test_index])\n",
        "\n",
        "    hgbc_x_train = pandas.DataFrame(train[hgbc_features].iloc[train_index])\n",
        "    hgbc_x_valid = pandas.DataFrame(train[hgbc_features].iloc[test_index])\n",
        "\n",
        "    xgb_model = XGBClassifier(\n",
        "        seed=random_state,\n",
        "        n_estimators=10000,\n",
        "        verbosity=1,\n",
        "        eval_metric=\"mlogloss\",\n",
        "        tree_method=\"gpu_hist\",\n",
        "        gpu_id=0,\n",
        "        alpha=7.105038963844129,\n",
        "        colsample_bytree=0.25505629740052566,\n",
        "        gamma=0.4999381950212869,\n",
        "        reg_lambda=1.7256912198205319,\n",
        "        learning_rate=0.011823142071967673,\n",
        "        max_bin=338,\n",
        "        max_depth=8,\n",
        "        min_child_weight=2.286836198630466,\n",
        "        subsample=0.618417952155855,\n",
        "        objective=\"multi:softprob\"\n",
        "    )\n",
        "  \n",
        "\n",
        "    xgb_model.fit(\n",
        "        xgb_x_train,\n",
        "        y_train,\n",
        "        eval_set=[(xgb_x_valid, y_valid)], \n",
        "        verbose=0,\n",
        "        early_stopping_rounds=200\n",
        "    )\n",
        "\n",
        "    train_oof_preds = xgb_model.predict_proba(xgb_x_valid)[:,1]\n",
        "    test_oof_preds = xgb_model.predict_proba(test[xgb_features])[:,1]\n",
        "    xgb_train_preds[test_index] = train_oof_preds\n",
        "    xgb_test_preds += test_oof_preds / n_folds\n",
        "    print(\": XGB - ROC AUC Score = {}\".format(accuracy_score(y_valid, xgb_model.predict(xgb_x_valid))))\n",
        "\n",
        "    lgb_model = LGBMClassifier(\n",
        "        cat_feature=[x for x in range(len(lgb_cat_features))],\n",
        "        random_state=random_state,\n",
        "        cat_l2=25.999876242730252,\n",
        "        cat_smooth=89.2699690675538,\n",
        "        colsample_bytree=0.2557260109926193,\n",
        "        early_stopping_round=200,\n",
        "        learning_rate=0.00918685483594994,\n",
        "        max_bin=788,\n",
        "        max_depth=81,\n",
        "        metric=\"multi_logloss\",\n",
        "        min_child_samples=292,\n",
        "        min_data_per_group=177,\n",
        "        n_estimators=1600000,\n",
        "        n_jobs=-1,\n",
        "        num_leaves=171,\n",
        "        reg_alpha=0.7115353581785044,\n",
        "        reg_lambda=5.658115293998945,\n",
        "        subsample=0.9262904583735796,\n",
        "        subsample_freq=1,\n",
        "        verbose=-1,\n",
        "        objective=\"multiclass\"\n",
        "    )\n",
        "    lgb_model.fit(\n",
        "        lgb_x_train,\n",
        "        y_train,\n",
        "        eval_set=[(lgb_x_valid, y_valid)], \n",
        "        verbose=0,\n",
        "    )\n",
        "\n",
        "    train_oof_preds = lgb_model.predict_proba(lgb_x_valid)[:,1]\n",
        "    test_oof_preds = lgb_model.predict_proba(test[lgb_features])[:,1]\n",
        "    lgb_train_preds[test_index] = train_oof_preds\n",
        "    lgb_test_preds += test_oof_preds / n_folds\n",
        "    print(\": LGB - ROC AUC Score = {}\".format(accuracy_score(y_valid, lgb_model.predict(lgb_x_valid))))\n",
        "\n",
        "    cb_model = CatBoostClassifier(\n",
        "        verbose=0,\n",
        "        loss_function=\"MultiClass\",\n",
        "        random_state=random_state,\n",
        "        num_boost_round=20000,\n",
        "        od_type=\"Iter\",\n",
        "        od_wait=200,\n",
        "        task_type=\"GPU\",\n",
        "        devices=\"0\",\n",
        "        cat_features=[x for x in range(len(cb_cat_features))],\n",
        "        bagging_temperature=1.288692494969795,\n",
        "        grow_policy=\"Depthwise\",\n",
        "        l2_leaf_reg=9.847870133539244,\n",
        "        learning_rate=0.01877982653902465,\n",
        "        max_depth=8,\n",
        "        min_data_in_leaf=1,\n",
        "        penalties_coefficient=2.1176668909602734,\n",
        "    )\n",
        "    cb_model.fit(\n",
        "        cb_x_train,\n",
        "        y_train,\n",
        "        eval_set=[(cb_x_valid, y_valid)], \n",
        "        verbose=0,\n",
        "    )\n",
        "\n",
        "    train_oof_preds = cb_model.predict_proba(cb_x_valid)[:,1]\n",
        "    test_oof_preds = cb_model.predict_proba(test[cb_features])[:,1]\n",
        "    cb_train_preds[test_index] = train_oof_preds\n",
        "    cb_test_preds += test_oof_preds / n_folds\n",
        "    print(\": CB - ROC AUC Score = {}\".format(accuracy_score(y_valid, cb_model.predict(cb_x_valid))))\n",
        "    \n",
        "    ridge_model = CalibratedClassifierCV(\n",
        "        RidgeClassifier(random_state=random_state),\n",
        "        cv=3,\n",
        "    )\n",
        "    ridge_model.fit(\n",
        "        ridge_x_train,\n",
        "        y_train,\n",
        "    )\n",
        "\n",
        "    train_oof_preds = ridge_model.predict_proba(ridge_x_valid)[:,-1]\n",
        "    test_oof_preds = ridge_model.predict_proba(test[ridge_features])[:,-1]\n",
        "    ridge_train_preds[test_index] = train_oof_preds\n",
        "    ridge_test_preds += test_oof_preds / n_folds\n",
        "    print(\": Ridge - ROC AUC Score = {}\".format(accuracy_score(y_valid, ridge_model.predict(ridge_x_valid))))\n",
        "    \n",
        "    sgd_model = CalibratedClassifierCV(\n",
        "        SGDClassifier(\n",
        "            random_state=random_state,\n",
        "            n_jobs=-1,\n",
        "            loss=\"squared_hinge\",\n",
        "        ),\n",
        "        cv=3,\n",
        "    )\n",
        "    sgd_model.fit(\n",
        "        sgd_x_train,\n",
        "        y_train,\n",
        "    )\n",
        "\n",
        "    train_oof_preds = sgd_model.predict_proba(sgd_x_valid)[:,-1]\n",
        "    test_oof_preds = sgd_model.predict_proba(test[sgd_features])[:,-1]\n",
        "    sgd_train_preds[test_index] = train_oof_preds\n",
        "    sgd_test_preds += test_oof_preds / n_folds\n",
        "    print(\": SGD - ROC AUC Score = {}\".format(accuracy_score(y_valid, sgd_model.predict(sgd_x_valid))))\n",
        "    \n",
        "    hgbc_model = HistGradientBoostingClassifier(\n",
        "        l2_regularization=1.766059063693552,\n",
        "        learning_rate=0.10675193678150449,\n",
        "        max_bins=128,\n",
        "        max_depth=31,\n",
        "        max_leaf_nodes=185,\n",
        "        random_state=2021\n",
        "    )\n",
        "    hgbc_model.fit(\n",
        "        hgbc_x_train,\n",
        "        y_train,\n",
        "    )\n",
        "\n",
        "    train_oof_preds = hgbc_model.predict_proba(hgbc_x_valid)[:,-1]\n",
        "    test_oof_preds = hgbc_model.predict_proba(test[hgbc_features])[:,-1]\n",
        "    hgbc_train_preds[test_index] = train_oof_preds\n",
        "    hgbc_test_preds += test_oof_preds / n_folds\n",
        "    print(\": HGBC - ROC AUC Score = {}\".format(accuracy_score(y_valid, hgbc_model.predict(hgbc_x_valid))))\n",
        "    print(\"\")\n",
        "    \n",
        "#print(\"--> Overall metrics\")\n",
        "#print(\": XGB - ROC AUC Score = {}\".format(accuracy_score(target, xgb_train_preds)))\n",
        "#print(\": LGB - ROC AUC Score = {}\".format(accuracy_score(target, lgb_train_preds)))\n",
        "#print(\": CB - ROC AUC Score = {}\".format(accuracy_score(target, cb_train_preds)))\n",
        "#print(\": Ridge - ROC AUC Score = {}\".format(accuracy_score(target, ridge_train_preds)))\n",
        "#print(\": SGD - ROC AUC Score = {}\".format(accuracy_score(target, sgd_train_preds)))\n",
        "#print(\": HGBC - ROC AUC Score = {}\".format(accuracy_score(target, hgbc_train_preds)))"
      ],
      "execution_count": null,
      "outputs": [
        {
          "output_type": "stream",
          "text": [
            "--> Fold 1\n",
            ": XGB - ROC AUC Score = 0.7195767195767195\n",
            ": LGB - ROC AUC Score = 0.7037037037037037\n",
            ": CB - ROC AUC Score = 0.7142857142857143\n",
            ": Ridge - ROC AUC Score = 0.6424792139077853\n",
            ": SGD - ROC AUC Score = 0.6413454270597128\n",
            ": HGBC - ROC AUC Score = 0.7097505668934241\n",
            "\n",
            "--> Fold 2\n",
            ": XGB - ROC AUC Score = 0.7226001511715797\n",
            ": LGB - ROC AUC Score = 0.7033257747543462\n",
            ": CB - ROC AUC Score = 0.7154195011337868\n",
            ": Ridge - ROC AUC Score = 0.6413454270597128\n",
            ": SGD - ROC AUC Score = 0.6413454270597128\n",
            ": HGBC - ROC AUC Score = 0.7120181405895691\n",
            "\n",
            "--> Fold 3\n",
            ": XGB - ROC AUC Score = 0.718442932728647\n",
            ": LGB - ROC AUC Score = 0.6969009826152683\n",
            ": CB - ROC AUC Score = 0.7142857142857143\n",
            ": Ridge - ROC AUC Score = 0.6428571428571429\n",
            ": SGD - ROC AUC Score = 0.6413454270597128\n",
            ": HGBC - ROC AUC Score = 0.7161753590325018\n",
            "\n",
            "--> Fold 4\n",
            ": XGB - ROC AUC Score = 0.7282690854119426\n",
            ": LGB - ROC AUC Score = 0.7120181405895691\n",
            ": CB - ROC AUC Score = 0.72713529856387\n",
            ": Ridge - ROC AUC Score = 0.6421012849584278\n",
            ": SGD - ROC AUC Score = 0.6413454270597128\n",
            ": HGBC - ROC AUC Score = 0.7188208616780045\n",
            "\n",
            "--> Fold 5\n",
            ": XGB - ROC AUC Score = 0.7180650037792895\n",
            ": LGB - ROC AUC Score = 0.6980347694633409\n",
            ": CB - ROC AUC Score = 0.717687074829932\n",
            ": Ridge - ROC AUC Score = 0.6421012849584278\n",
            ": SGD - ROC AUC Score = 0.6413454270597128\n",
            ": HGBC - ROC AUC Score = 0.708994708994709\n",
            "\n",
            "--> Fold 6\n",
            ": XGB - ROC AUC Score = 0.7040816326530612\n",
            ": LGB - ROC AUC Score = 0.6972789115646258\n",
            ": CB - ROC AUC Score = 0.7059712773998488\n",
            ": Ridge - ROC AUC Score = 0.6421012849584278\n",
            ": SGD - ROC AUC Score = 0.6409674981103552\n",
            ": HGBC - ROC AUC Score = 0.6980347694633409\n",
            "\n",
            "--> Fold 7\n",
            ": XGB - ROC AUC Score = 0.716931216931217\n",
            ": LGB - ROC AUC Score = 0.6950113378684807\n",
            ": CB - ROC AUC Score = 0.7131519274376418\n",
            ": Ridge - ROC AUC Score = 0.6424792139077853\n",
            ": SGD - ROC AUC Score = 0.6409674981103552\n",
            ": HGBC - ROC AUC Score = 0.7063492063492064\n",
            "\n",
            "--> Fold 8\n",
            ": XGB - ROC AUC Score = 0.7224952741020794\n",
            ": LGB - ROC AUC Score = 0.6941398865784499\n",
            ": CB - ROC AUC Score = 0.7160680529300567\n",
            ": Ridge - ROC AUC Score = 0.6431001890359168\n",
            ": SGD - ROC AUC Score = 0.6415879017013233\n",
            ": HGBC - ROC AUC Score = 0.7126654064272212\n",
            "\n",
            "--> Fold 9\n",
            ": XGB - ROC AUC Score = 0.7187145557655955\n",
            ": LGB - ROC AUC Score = 0.6948960302457466\n",
            ": CB - ROC AUC Score = 0.7206049149338374\n",
            ": Ridge - ROC AUC Score = 0.64234404536862\n",
            ": SGD - ROC AUC Score = 0.6415879017013233\n",
            ": HGBC - ROC AUC Score = 0.7077504725897921\n",
            "\n",
            "--> Fold 10\n",
            ": XGB - ROC AUC Score = 0.7168241965973535\n",
            ": LGB - ROC AUC Score = 0.7020793950850661\n",
            ": CB - ROC AUC Score = 0.7073724007561437\n",
            ": Ridge - ROC AUC Score = 0.6415879017013233\n",
            ": SGD - ROC AUC Score = 0.6415879017013233\n",
            ": HGBC - ROC AUC Score = 0.7024574669187146\n",
            "\n"
          ],
          "name": "stdout"
        }
      ]
    },
    {
      "cell_type": "code",
      "metadata": {
        "colab": {
          "base_uri": "https://localhost:8080/"
        },
        "id": "R1pijtiP4EQC",
        "outputId": "afce76ef-a42b-4af5-9635-82b4dd83ccda"
      },
      "source": [
        "from scipy.special import expit\n",
        "from sklearn.calibration import CalibratedClassifierCV\n",
        "\n",
        "random_state = 2021\n",
        "n_folds = 10\n",
        "k_fold = StratifiedKFold(n_splits=n_folds, random_state=random_state, shuffle=True)\n",
        "\n",
        "l1_train = pandas.DataFrame(data={\n",
        "    \"xgb\": xgb_train_preds.tolist(),\n",
        "    \"lgb\": lgb_train_preds.tolist(),\n",
        "    \"cb\": cb_train_preds.tolist(),\n",
        "    \"ridge\": ridge_train_preds.tolist(),\n",
        "    \"sgd\": sgd_train_preds.tolist(),\n",
        "    \"hgbc\": hgbc_train_preds.tolist(),\n",
        "    \"target\": target.tolist()\n",
        "})\n",
        "l1_test = pandas.DataFrame(data={\n",
        "    \"xgb\": xgb_test_preds.tolist(),\n",
        "    \"lgb\": lgb_test_preds.tolist(),\n",
        "    \"cb\": cb_test_preds.tolist(),\n",
        "    \"sgd\": sgd_test_preds.tolist(),\n",
        "    \"ridge\": ridge_test_preds.tolist(),    \n",
        "    \"hgbc\": hgbc_test_preds.tolist(),\n",
        "})\n",
        "\n",
        "train_preds = np.zeros(len(l1_train.index), )\n",
        "test_preds = np.zeros(len(l1_test.index), )\n",
        "features = [\"xgb\", \"lgb\", \"cb\", \"ridge\", \"sgd\", \"hgbc\"]\n",
        "\n",
        "for fold, (train_index, test_index) in enumerate(k_fold.split(l1_train, target)):\n",
        "    print(\"--> Fold {}\".format(fold + 1))\n",
        "    y_train = target.iloc[train_index]\n",
        "    y_valid = target.iloc[test_index]\n",
        "\n",
        "    x_train = pandas.DataFrame(l1_train[features].iloc[train_index])\n",
        "    x_valid = pandas.DataFrame(l1_train[features].iloc[test_index])\n",
        "    \n",
        "    model = CalibratedClassifierCV(\n",
        "        RidgeClassifier(random_state=random_state), \n",
        "        cv=3\n",
        "    )\n",
        "    model.fit(\n",
        "        x_train,\n",
        "        y_train,\n",
        "    )\n",
        "\n",
        "    train_oof_preds = model.predict_proba(x_valid)\n",
        "    test_oof_preds = model.predict_proba(l1_test[features])\n",
        "    #train_preds[test_index] = train_oof_preds\n",
        "    #test_preds += test_oof_preds / n_folds\n",
        "    print(\": ROC AUC Score = {}\".format(accuracy_score(y_valid,model.predict(x_valid))))\n",
        "    print(\"\")\n",
        "    \n",
        "#print(\"--> Overall metrics\")\n",
        "#print(\": ROC AUC Score = {}\".format(accuracy_score(target, model.predict(x_train))))"
      ],
      "execution_count": null,
      "outputs": [
        {
          "output_type": "stream",
          "text": [
            "--> Fold 1\n",
            ": ROC AUC Score = 0.7150415721844293\n",
            "\n",
            "--> Fold 2\n",
            ": ROC AUC Score = 0.7207105064247922\n",
            "\n",
            "--> Fold 3\n",
            ": ROC AUC Score = 0.7150415721844293\n",
            "\n",
            "--> Fold 4\n",
            ": ROC AUC Score = 0.7294028722600151\n",
            "\n",
            "--> Fold 5\n",
            ": ROC AUC Score = 0.7173091458805745\n",
            "\n",
            "--> Fold 6\n",
            ": ROC AUC Score = 0.708994708994709\n",
            "\n",
            "--> Fold 7\n",
            ": ROC AUC Score = 0.7120181405895691\n",
            "\n",
            "--> Fold 8\n",
            ": ROC AUC Score = 0.7187145557655955\n",
            "\n",
            "--> Fold 9\n",
            ": ROC AUC Score = 0.7164461247637051\n",
            "\n",
            "--> Fold 10\n",
            ": ROC AUC Score = 0.7122873345935727\n",
            "\n"
          ],
          "name": "stdout"
        }
      ]
    },
    {
      "cell_type": "code",
      "metadata": {
        "id": "OUpqt5GrKCDD"
      },
      "source": [
        "submit=pd.read_csv(\"sample_submission.csv\",index_col=index_col)"
      ],
      "execution_count": null,
      "outputs": []
    },
    {
      "cell_type": "code",
      "metadata": {
        "colab": {
          "base_uri": "https://localhost:8080/",
          "height": 431
        },
        "id": "cR9naEoBL85G",
        "outputId": "00f4cee7-b408-4e48-ac3c-75b048987268"
      },
      "source": [
        "submit"
      ],
      "execution_count": null,
      "outputs": [
        {
          "output_type": "execute_result",
          "data": {
            "text/html": [
              "<div>\n",
              "<style scoped>\n",
              "    .dataframe tbody tr th:only-of-type {\n",
              "        vertical-align: middle;\n",
              "    }\n",
              "\n",
              "    .dataframe tbody tr th {\n",
              "        vertical-align: top;\n",
              "    }\n",
              "\n",
              "    .dataframe thead th {\n",
              "        text-align: right;\n",
              "    }\n",
              "</style>\n",
              "<table border=\"1\" class=\"dataframe\">\n",
              "  <thead>\n",
              "    <tr style=\"text-align: right;\">\n",
              "      <th></th>\n",
              "      <th>0</th>\n",
              "      <th>1</th>\n",
              "      <th>2</th>\n",
              "    </tr>\n",
              "    <tr>\n",
              "      <th>index</th>\n",
              "      <th></th>\n",
              "      <th></th>\n",
              "      <th></th>\n",
              "    </tr>\n",
              "  </thead>\n",
              "  <tbody>\n",
              "    <tr>\n",
              "      <th>26457</th>\n",
              "      <td>0</td>\n",
              "      <td>0</td>\n",
              "      <td>0</td>\n",
              "    </tr>\n",
              "    <tr>\n",
              "      <th>26458</th>\n",
              "      <td>0</td>\n",
              "      <td>0</td>\n",
              "      <td>0</td>\n",
              "    </tr>\n",
              "    <tr>\n",
              "      <th>26459</th>\n",
              "      <td>0</td>\n",
              "      <td>0</td>\n",
              "      <td>0</td>\n",
              "    </tr>\n",
              "    <tr>\n",
              "      <th>26460</th>\n",
              "      <td>0</td>\n",
              "      <td>0</td>\n",
              "      <td>0</td>\n",
              "    </tr>\n",
              "    <tr>\n",
              "      <th>26461</th>\n",
              "      <td>0</td>\n",
              "      <td>0</td>\n",
              "      <td>0</td>\n",
              "    </tr>\n",
              "    <tr>\n",
              "      <th>...</th>\n",
              "      <td>...</td>\n",
              "      <td>...</td>\n",
              "      <td>...</td>\n",
              "    </tr>\n",
              "    <tr>\n",
              "      <th>36452</th>\n",
              "      <td>0</td>\n",
              "      <td>0</td>\n",
              "      <td>0</td>\n",
              "    </tr>\n",
              "    <tr>\n",
              "      <th>36453</th>\n",
              "      <td>0</td>\n",
              "      <td>0</td>\n",
              "      <td>0</td>\n",
              "    </tr>\n",
              "    <tr>\n",
              "      <th>36454</th>\n",
              "      <td>0</td>\n",
              "      <td>0</td>\n",
              "      <td>0</td>\n",
              "    </tr>\n",
              "    <tr>\n",
              "      <th>36455</th>\n",
              "      <td>0</td>\n",
              "      <td>0</td>\n",
              "      <td>0</td>\n",
              "    </tr>\n",
              "    <tr>\n",
              "      <th>36456</th>\n",
              "      <td>0</td>\n",
              "      <td>0</td>\n",
              "      <td>0</td>\n",
              "    </tr>\n",
              "  </tbody>\n",
              "</table>\n",
              "<p>10000 rows × 3 columns</p>\n",
              "</div>"
            ],
            "text/plain": [
              "       0  1  2\n",
              "index         \n",
              "26457  0  0  0\n",
              "26458  0  0  0\n",
              "26459  0  0  0\n",
              "26460  0  0  0\n",
              "26461  0  0  0\n",
              "...   .. .. ..\n",
              "36452  0  0  0\n",
              "36453  0  0  0\n",
              "36454  0  0  0\n",
              "36455  0  0  0\n",
              "36456  0  0  0\n",
              "\n",
              "[10000 rows x 3 columns]"
            ]
          },
          "metadata": {
            "tags": []
          },
          "execution_count": 492
        }
      ]
    },
    {
      "cell_type": "code",
      "metadata": {
        "id": "iW_Y6uZKKEXX"
      },
      "source": [
        "submit[submit.columns]=test_oof_preds"
      ],
      "execution_count": null,
      "outputs": []
    },
    {
      "cell_type": "code",
      "metadata": {
        "colab": {
          "base_uri": "https://localhost:8080/",
          "height": 431
        },
        "id": "aK1ypF4ZM1nE",
        "outputId": "42a32eb1-eeaf-4a29-c401-b9a8b7245706"
      },
      "source": [
        "submit"
      ],
      "execution_count": null,
      "outputs": [
        {
          "output_type": "execute_result",
          "data": {
            "text/html": [
              "<div>\n",
              "<style scoped>\n",
              "    .dataframe tbody tr th:only-of-type {\n",
              "        vertical-align: middle;\n",
              "    }\n",
              "\n",
              "    .dataframe tbody tr th {\n",
              "        vertical-align: top;\n",
              "    }\n",
              "\n",
              "    .dataframe thead th {\n",
              "        text-align: right;\n",
              "    }\n",
              "</style>\n",
              "<table border=\"1\" class=\"dataframe\">\n",
              "  <thead>\n",
              "    <tr style=\"text-align: right;\">\n",
              "      <th></th>\n",
              "      <th>0</th>\n",
              "      <th>1</th>\n",
              "      <th>2</th>\n",
              "    </tr>\n",
              "    <tr>\n",
              "      <th>index</th>\n",
              "      <th></th>\n",
              "      <th></th>\n",
              "      <th></th>\n",
              "    </tr>\n",
              "  </thead>\n",
              "  <tbody>\n",
              "    <tr>\n",
              "      <th>26457</th>\n",
              "      <td>0.077448</td>\n",
              "      <td>0.099250</td>\n",
              "      <td>0.823302</td>\n",
              "    </tr>\n",
              "    <tr>\n",
              "      <th>26458</th>\n",
              "      <td>0.166222</td>\n",
              "      <td>0.175642</td>\n",
              "      <td>0.658137</td>\n",
              "    </tr>\n",
              "    <tr>\n",
              "      <th>26459</th>\n",
              "      <td>0.076271</td>\n",
              "      <td>0.117439</td>\n",
              "      <td>0.806289</td>\n",
              "    </tr>\n",
              "    <tr>\n",
              "      <th>26460</th>\n",
              "      <td>0.076430</td>\n",
              "      <td>0.151185</td>\n",
              "      <td>0.772385</td>\n",
              "    </tr>\n",
              "    <tr>\n",
              "      <th>26461</th>\n",
              "      <td>0.078268</td>\n",
              "      <td>0.183198</td>\n",
              "      <td>0.738534</td>\n",
              "    </tr>\n",
              "    <tr>\n",
              "      <th>...</th>\n",
              "      <td>...</td>\n",
              "      <td>...</td>\n",
              "      <td>...</td>\n",
              "    </tr>\n",
              "    <tr>\n",
              "      <th>36452</th>\n",
              "      <td>0.151613</td>\n",
              "      <td>0.252988</td>\n",
              "      <td>0.595399</td>\n",
              "    </tr>\n",
              "    <tr>\n",
              "      <th>36453</th>\n",
              "      <td>0.201683</td>\n",
              "      <td>0.361396</td>\n",
              "      <td>0.436921</td>\n",
              "    </tr>\n",
              "    <tr>\n",
              "      <th>36454</th>\n",
              "      <td>0.075653</td>\n",
              "      <td>0.101977</td>\n",
              "      <td>0.822370</td>\n",
              "    </tr>\n",
              "    <tr>\n",
              "      <th>36455</th>\n",
              "      <td>0.150590</td>\n",
              "      <td>0.208084</td>\n",
              "      <td>0.641326</td>\n",
              "    </tr>\n",
              "    <tr>\n",
              "      <th>36456</th>\n",
              "      <td>0.083237</td>\n",
              "      <td>0.197074</td>\n",
              "      <td>0.719690</td>\n",
              "    </tr>\n",
              "  </tbody>\n",
              "</table>\n",
              "<p>10000 rows × 3 columns</p>\n",
              "</div>"
            ],
            "text/plain": [
              "              0         1         2\n",
              "index                              \n",
              "26457  0.077448  0.099250  0.823302\n",
              "26458  0.166222  0.175642  0.658137\n",
              "26459  0.076271  0.117439  0.806289\n",
              "26460  0.076430  0.151185  0.772385\n",
              "26461  0.078268  0.183198  0.738534\n",
              "...         ...       ...       ...\n",
              "36452  0.151613  0.252988  0.595399\n",
              "36453  0.201683  0.361396  0.436921\n",
              "36454  0.075653  0.101977  0.822370\n",
              "36455  0.150590  0.208084  0.641326\n",
              "36456  0.083237  0.197074  0.719690\n",
              "\n",
              "[10000 rows x 3 columns]"
            ]
          },
          "metadata": {
            "tags": []
          },
          "execution_count": 494
        }
      ]
    },
    {
      "cell_type": "code",
      "metadata": {
        "id": "a3hKoqe0KOBb"
      },
      "source": [
        "submit.to_csv(\"submit.csv\")"
      ],
      "execution_count": null,
      "outputs": []
    }
  ]
}
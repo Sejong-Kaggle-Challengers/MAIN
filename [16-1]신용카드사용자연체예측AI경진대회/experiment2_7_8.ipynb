{
  "nbformat": 4,
  "nbformat_minor": 0,
  "metadata": {
    "colab": {
      "name": "experiment2-7_8",
      "provenance": [],
      "collapsed_sections": [],
      "authorship_tag": "ABX9TyOLwNUIfTR2xGPQYO4iIs84"
    },
    "kernelspec": {
      "name": "python3",
      "display_name": "Python 3"
    },
    "language_info": {
      "name": "python"
    }
  },
  "cells": [
    {
      "cell_type": "markdown",
      "metadata": {
        "id": "NSlr76t9Y5ir"
      },
      "source": [
        "# Experiment 2\n",
        "\n"
      ]
    },
    {
      "cell_type": "code",
      "metadata": {
        "colab": {
          "base_uri": "https://localhost:8080/"
        },
        "id": "H2UkUxOoQDTr",
        "outputId": "9e8b1251-8049-4f3f-b0a1-7a670a743c99"
      },
      "source": [
        "from urllib.request import urlretrieve\n",
        "\n",
        "urlretrieve('https://drive.google.com/uc?export=download&id=1XLVFI_sK0smRVVuT8XU2s-M3lJT-68sN', './open.zip')"
      ],
      "execution_count": 1,
      "outputs": [
        {
          "output_type": "execute_result",
          "data": {
            "text/plain": [
              "('./open.zip', <http.client.HTTPMessage at 0x7f5a3ca919d0>)"
            ]
          },
          "metadata": {
            "tags": []
          },
          "execution_count": 1
        }
      ]
    },
    {
      "cell_type": "code",
      "metadata": {
        "colab": {
          "base_uri": "https://localhost:8080/"
        },
        "id": "ALLntUGhR3rR",
        "outputId": "25333c8b-6b61-464a-902a-f0b0c97df80d"
      },
      "source": [
        "!unzip ./open.zip"
      ],
      "execution_count": 2,
      "outputs": [
        {
          "output_type": "stream",
          "text": [
            "Archive:  ./open.zip\n",
            "   creating: open/\n",
            "  inflating: open/train.csv          \n",
            "  inflating: open/sample_submission.csv  \n",
            "  inflating: open/test.csv           \n"
          ],
          "name": "stdout"
        }
      ]
    },
    {
      "cell_type": "code",
      "metadata": {
        "id": "wb31kvAgSJFu"
      },
      "source": [
        "import numpy as np\n",
        "import pandas as pd\n",
        "import matplotlib.pyplot as plt\n",
        "import seaborn as sns\n",
        "from lightgbm import LGBMClassifier\n",
        "from sklearn.preprocessing import OneHotEncoder, OrdinalEncoder\n",
        "from sklearn.model_selection import cross_validate\n",
        "from sklearn.decomposition import PCA"
      ],
      "execution_count": 3,
      "outputs": []
    },
    {
      "cell_type": "code",
      "metadata": {
        "id": "IfLd2b88SYxr"
      },
      "source": [
        "train = pd.read_csv('./open/train.csv')"
      ],
      "execution_count": 4,
      "outputs": []
    },
    {
      "cell_type": "code",
      "metadata": {
        "colab": {
          "base_uri": "https://localhost:8080/"
        },
        "id": "DqpvgasB5epp",
        "outputId": "20ee1cff-c716-4f14-c2bf-5c49d5f1da9e"
      },
      "source": [
        "train.info()"
      ],
      "execution_count": 7,
      "outputs": [
        {
          "output_type": "stream",
          "text": [
            "<class 'pandas.core.frame.DataFrame'>\n",
            "RangeIndex: 26457 entries, 0 to 26456\n",
            "Data columns (total 20 columns):\n",
            " #   Column         Non-Null Count  Dtype  \n",
            "---  ------         --------------  -----  \n",
            " 0   index          26457 non-null  int64  \n",
            " 1   gender         26457 non-null  object \n",
            " 2   car            26457 non-null  object \n",
            " 3   reality        26457 non-null  object \n",
            " 4   child_num      26457 non-null  int64  \n",
            " 5   income_total   26457 non-null  float64\n",
            " 6   income_type    26457 non-null  object \n",
            " 7   edu_type       26457 non-null  object \n",
            " 8   family_type    26457 non-null  object \n",
            " 9   house_type     26457 non-null  object \n",
            " 10  DAYS_BIRTH     26457 non-null  int64  \n",
            " 11  DAYS_EMPLOYED  26457 non-null  int64  \n",
            " 12  FLAG_MOBIL     26457 non-null  int64  \n",
            " 13  work_phone     26457 non-null  int64  \n",
            " 14  phone          26457 non-null  int64  \n",
            " 15  email          26457 non-null  int64  \n",
            " 16  occyp_type     18286 non-null  object \n",
            " 17  family_size    26457 non-null  float64\n",
            " 18  begin_month    26457 non-null  float64\n",
            " 19  credit         26457 non-null  float64\n",
            "dtypes: float64(4), int64(8), object(8)\n",
            "memory usage: 4.0+ MB\n"
          ],
          "name": "stdout"
        }
      ]
    },
    {
      "cell_type": "markdown",
      "metadata": {
        "id": "L2SFbfl40Ze4"
      },
      "source": [
        "## Data Preprocessing"
      ]
    },
    {
      "cell_type": "code",
      "metadata": {
        "id": "vxP3lUfOn6nj"
      },
      "source": [
        "def train_preprocessing(train):\n",
        "  train.fillna('NAN', inplace=True)\n",
        "  train.drop('index', axis=1, inplace=True)\n",
        "  train.drop('FLAG_MOBIL', axis=1, inplace=True)\n",
        "\n",
        "  binary_col = ['gender',\n",
        "                'car',\n",
        "                'reality']\n",
        "\n",
        "  binary_encoder = OrdinalEncoder(categories=[['F', 'M'],\n",
        "                                              ['N', 'Y'],\n",
        "                                              ['N', 'Y']],\n",
        "                                  dtype=np.int8)\\\n",
        "                                .fit(train.loc[:,binary_col])\n",
        "\n",
        "  train.loc[:,binary_col] = binary_encoder.transform(train.loc[:,binary_col])\n",
        "\n",
        "  onehot_col = ['income_type',\n",
        "                'edu_type',\n",
        "                'family_type',\n",
        "                'house_type',\n",
        "                'occyp_type']\n",
        "\n",
        "\n",
        "  onehot_encoder = OneHotEncoder()\n",
        "  onehot_encoder.fit(train.loc[:,onehot_col])\n",
        "\n",
        "\n",
        "  train_onehot_df = pd.DataFrame(onehot_encoder.transform(train.loc[:,onehot_col]).toarray(), \n",
        "              columns=onehot_encoder.get_feature_names(onehot_col))\n",
        "  train.drop(onehot_col, axis=1, inplace=True)\n",
        "  train = pd.concat([train, train_onehot_df], axis=1)\n",
        "\n",
        "  train['parent'] = train['family_size'] - train['child_num']\n",
        "\n",
        "  family_size_cut = 6\n",
        "  child_num_cut = 4\n",
        "\n",
        "  train.loc[train['family_size'] > family_size_cut, 'family_size'] = family_size_cut\n",
        "  train.loc[train['child_num'] > child_num_cut, 'child_num'] = child_num_cut\n",
        "\n",
        "  pca_col = ['family_size', 'child_num', 'parent']\n",
        "  pca = PCA(n_components=1).fit(train.loc[:, pca_col])\n",
        "\n",
        "  train['fcp-pca'] = pca.transform(train.loc[:, pca_col])\n",
        "  train.drop(pca_col, axis=1, inplace=True)\n",
        "\n",
        "  train['income_total'] = np.log1p(train['income_total'])\n",
        "\n",
        "  X_train = train.drop('credit', axis=1)\n",
        "  y_train = train['credit']\n",
        "\n",
        "  return X_train, y_train"
      ],
      "execution_count": 8,
      "outputs": []
    },
    {
      "cell_type": "markdown",
      "metadata": {
        "id": "o5E8p7QA-2l6"
      },
      "source": [
        "## 7. `edu_type` 교육 수준별로 라벨링\n",
        "> bad"
      ]
    },
    {
      "cell_type": "code",
      "metadata": {
        "colab": {
          "base_uri": "https://localhost:8080/"
        },
        "id": "lQBMATVGqWoO",
        "outputId": "92586155-7529-41ad-c690-8a80a51f38dd"
      },
      "source": [
        "train['edu_type'].unique()"
      ],
      "execution_count": 16,
      "outputs": [
        {
          "output_type": "execute_result",
          "data": {
            "text/plain": [
              "array(['Higher education', 'Secondary / secondary special',\n",
              "       'Incomplete higher', 'Lower secondary', 'Academic degree'],\n",
              "      dtype=object)"
            ]
          },
          "metadata": {
            "tags": []
          },
          "execution_count": 16
        }
      ]
    },
    {
      "cell_type": "code",
      "metadata": {
        "id": "rOXY1oCrphWo"
      },
      "source": [
        "def train_preprocessing1(train):\n",
        "  train.fillna('NAN', inplace=True)\n",
        "  train.drop('index', axis=1, inplace=True)\n",
        "  train.drop('FLAG_MOBIL', axis=1, inplace=True)\n",
        "\n",
        "  binary_col = ['gender',\n",
        "                'car',\n",
        "                'reality',\n",
        "                'edu_type']\n",
        "\n",
        "  binary_encoder = OrdinalEncoder(categories=[['F', 'M'],\n",
        "                                              ['N', 'Y'],\n",
        "                                              ['N', 'Y'],\n",
        "                                              ['Academic degree', 'Lower secondary',\n",
        "                                               'Secondary / secondary special',\n",
        "                                               'Incomplete higher', 'Higher education']],\n",
        "                                  dtype=np.int8)\\\n",
        "                                  .fit(train.loc[:,binary_col])\n",
        "\n",
        "  train.loc[:,binary_col] = binary_encoder.transform(train.loc[:,binary_col])\n",
        "\n",
        "  onehot_col = ['income_type',\n",
        "                'family_type',\n",
        "                'house_type',\n",
        "                'occyp_type']\n",
        "\n",
        "\n",
        "  onehot_encoder = OneHotEncoder()\n",
        "  onehot_encoder.fit(train.loc[:,onehot_col])\n",
        "\n",
        "\n",
        "  train_onehot_df = pd.DataFrame(onehot_encoder.transform(train.loc[:,onehot_col]).toarray(), \n",
        "              columns=onehot_encoder.get_feature_names(onehot_col))\n",
        "  train.drop(onehot_col, axis=1, inplace=True)\n",
        "  train = pd.concat([train, train_onehot_df], axis=1)\n",
        "\n",
        "  train['parent'] = train['family_size'] - train['child_num']\n",
        "\n",
        "  family_size_cut = 6\n",
        "  child_num_cut = 4\n",
        "\n",
        "  train.loc[train['family_size'] > family_size_cut, 'family_size'] = family_size_cut\n",
        "  train.loc[train['child_num'] > child_num_cut, 'child_num'] = child_num_cut\n",
        "\n",
        "  pca_col = ['family_size', 'child_num', 'parent']\n",
        "  pca = PCA(n_components=1).fit(train.loc[:, pca_col])\n",
        "\n",
        "  train['fcp-pca'] = pca.transform(train.loc[:, pca_col])\n",
        "  train.drop(pca_col, axis=1, inplace=True)\n",
        "\n",
        "  train['income_total'] = np.log1p(train['income_total'])\n",
        "\n",
        "  X_train = train.drop('credit', axis=1)\n",
        "  y_train = train['credit']\n",
        "\n",
        "  return X_train, y_train"
      ],
      "execution_count": 17,
      "outputs": []
    },
    {
      "cell_type": "code",
      "metadata": {
        "id": "5cpZQik0pOtj"
      },
      "source": [
        "X_train_exp, y_train = train_preprocessing1(train.copy())"
      ],
      "execution_count": 23,
      "outputs": []
    },
    {
      "cell_type": "code",
      "metadata": {
        "colab": {
          "base_uri": "https://localhost:8080/"
        },
        "id": "v_FJR6-WuXMo",
        "outputId": "e9b32b40-fbb5-4464-fd5b-6d22e72c0462"
      },
      "source": [
        "X_train_exp.info()"
      ],
      "execution_count": 24,
      "outputs": [
        {
          "output_type": "stream",
          "text": [
            "<class 'pandas.core.frame.DataFrame'>\n",
            "RangeIndex: 26457 entries, 0 to 26456\n",
            "Data columns (total 47 columns):\n",
            " #   Column                            Non-Null Count  Dtype  \n",
            "---  ------                            --------------  -----  \n",
            " 0   gender                            26457 non-null  int64  \n",
            " 1   car                               26457 non-null  int64  \n",
            " 2   reality                           26457 non-null  int64  \n",
            " 3   income_total                      26457 non-null  float64\n",
            " 4   edu_type                          26457 non-null  int64  \n",
            " 5   DAYS_BIRTH                        26457 non-null  int64  \n",
            " 6   DAYS_EMPLOYED                     26457 non-null  int64  \n",
            " 7   work_phone                        26457 non-null  int64  \n",
            " 8   phone                             26457 non-null  int64  \n",
            " 9   email                             26457 non-null  int64  \n",
            " 10  begin_month                       26457 non-null  float64\n",
            " 11  income_type_Commercial associate  26457 non-null  float64\n",
            " 12  income_type_Pensioner             26457 non-null  float64\n",
            " 13  income_type_State servant         26457 non-null  float64\n",
            " 14  income_type_Student               26457 non-null  float64\n",
            " 15  income_type_Working               26457 non-null  float64\n",
            " 16  family_type_Civil marriage        26457 non-null  float64\n",
            " 17  family_type_Married               26457 non-null  float64\n",
            " 18  family_type_Separated             26457 non-null  float64\n",
            " 19  family_type_Single / not married  26457 non-null  float64\n",
            " 20  family_type_Widow                 26457 non-null  float64\n",
            " 21  house_type_Co-op apartment        26457 non-null  float64\n",
            " 22  house_type_House / apartment      26457 non-null  float64\n",
            " 23  house_type_Municipal apartment    26457 non-null  float64\n",
            " 24  house_type_Office apartment       26457 non-null  float64\n",
            " 25  house_type_Rented apartment       26457 non-null  float64\n",
            " 26  house_type_With parents           26457 non-null  float64\n",
            " 27  occyp_type_Accountants            26457 non-null  float64\n",
            " 28  occyp_type_Cleaning staff         26457 non-null  float64\n",
            " 29  occyp_type_Cooking staff          26457 non-null  float64\n",
            " 30  occyp_type_Core staff             26457 non-null  float64\n",
            " 31  occyp_type_Drivers                26457 non-null  float64\n",
            " 32  occyp_type_HR staff               26457 non-null  float64\n",
            " 33  occyp_type_High skill tech staff  26457 non-null  float64\n",
            " 34  occyp_type_IT staff               26457 non-null  float64\n",
            " 35  occyp_type_Laborers               26457 non-null  float64\n",
            " 36  occyp_type_Low-skill Laborers     26457 non-null  float64\n",
            " 37  occyp_type_Managers               26457 non-null  float64\n",
            " 38  occyp_type_Medicine staff         26457 non-null  float64\n",
            " 39  occyp_type_NAN                    26457 non-null  float64\n",
            " 40  occyp_type_Private service staff  26457 non-null  float64\n",
            " 41  occyp_type_Realty agents          26457 non-null  float64\n",
            " 42  occyp_type_Sales staff            26457 non-null  float64\n",
            " 43  occyp_type_Secretaries            26457 non-null  float64\n",
            " 44  occyp_type_Security staff         26457 non-null  float64\n",
            " 45  occyp_type_Waiters/barmen staff   26457 non-null  float64\n",
            " 46  fcp-pca                           26457 non-null  float64\n",
            "dtypes: float64(38), int64(9)\n",
            "memory usage: 9.5 MB\n"
          ],
          "name": "stdout"
        }
      ]
    },
    {
      "cell_type": "code",
      "metadata": {
        "colab": {
          "base_uri": "https://localhost:8080/"
        },
        "id": "d6UItZBCpZzD",
        "outputId": "f67db095-3bf0-473c-998b-d86165df8845"
      },
      "source": [
        "scores = cross_validate(LGBMClassifier(), X_train_exp, y_train,\n",
        "                        scoring='neg_log_loss', return_train_score = True)\n",
        "scores"
      ],
      "execution_count": 25,
      "outputs": [
        {
          "output_type": "execute_result",
          "data": {
            "text/plain": [
              "{'fit_time': array([0.95021152, 0.93656373, 0.97658181, 0.93772435, 0.95535517]),\n",
              " 'score_time': array([0.07377243, 0.07136631, 0.06446457, 0.06120062, 0.06377602]),\n",
              " 'test_score': array([-0.75873393, -0.76133012, -0.76183258, -0.76075993, -0.7578092 ]),\n",
              " 'train_score': array([-0.67907687, -0.67773229, -0.67626229, -0.68004292, -0.67688604])}"
            ]
          },
          "metadata": {
            "tags": []
          },
          "execution_count": 25
        }
      ]
    },
    {
      "cell_type": "code",
      "metadata": {
        "colab": {
          "base_uri": "https://localhost:8080/"
        },
        "id": "7d2eb7XmuTN3",
        "outputId": "79911ea1-f672-4dd0-e00b-aeb5fc63bec9"
      },
      "source": [
        "np.mean(scores['test_score'])"
      ],
      "execution_count": 26,
      "outputs": [
        {
          "output_type": "execute_result",
          "data": {
            "text/plain": [
              "-0.7600931525396223"
            ]
          },
          "metadata": {
            "tags": []
          },
          "execution_count": 26
        }
      ]
    },
    {
      "cell_type": "markdown",
      "metadata": {
        "id": "PsHgc-90vJVT"
      },
      "source": [
        "## 8. `edu_type` credit에 따라 순차적으로 라벨링"
      ]
    },
    {
      "cell_type": "code",
      "metadata": {
        "id": "3lHS_78qwZhH"
      },
      "source": [
        "train_exp = train.copy()\n",
        "train_exp.fillna('NAN', inplace=True)"
      ],
      "execution_count": 17,
      "outputs": []
    },
    {
      "cell_type": "code",
      "metadata": {
        "id": "n-Ds6IKNv-xP"
      },
      "source": [
        "edu_type_weights = {}\n",
        "\n",
        "for n, edu in enumerate(train_exp['edu_type'].unique()):\n",
        "    quant = train_exp.loc[train_exp['edu_type']==edu, 'credit'].value_counts().values\n",
        "    edu_type_weights[edu] = (quant/quant.sum()).round(3)*100"
      ],
      "execution_count": 27,
      "outputs": []
    },
    {
      "cell_type": "code",
      "metadata": {
        "colab": {
          "base_uri": "https://localhost:8080/"
        },
        "id": "umAhVkDHyrRa",
        "outputId": "17ce0c8e-46b5-447a-f56d-5c448ddde92f"
      },
      "source": [
        "edu_type_weights"
      ],
      "execution_count": 28,
      "outputs": [
        {
          "output_type": "execute_result",
          "data": {
            "text/plain": [
              "{'Academic degree': array([60.9, 30.4,  8.7]),\n",
              " 'Higher education': array([62.9, 24.4, 12.7]),\n",
              " 'Incomplete higher': array([64.7, 24.1, 11.2]),\n",
              " 'Lower secondary': array([66.1, 23. , 10.9]),\n",
              " 'Secondary / secondary special': array([64.6, 23.4, 12.1])}"
            ]
          },
          "metadata": {
            "tags": []
          },
          "execution_count": 28
        }
      ]
    },
    {
      "cell_type": "code",
      "metadata": {
        "id": "sHnXjqypy3kk"
      },
      "source": [
        "for edu_type in edu_type_weights.keys():\n",
        "  edu_type_weights[edu_type] = \\\n",
        "    edu_type_weights[edu_type][0] * 3 +\\\n",
        "    edu_type_weights[edu_type][1] * 2 +\\\n",
        "    edu_type_weights[edu_type][2] * 1"
      ],
      "execution_count": 29,
      "outputs": []
    },
    {
      "cell_type": "code",
      "metadata": {
        "colab": {
          "base_uri": "https://localhost:8080/"
        },
        "id": "1GYDonifzgbm",
        "outputId": "0c9d6382-50af-44bf-e4d9-6ab376ef45ca"
      },
      "source": [
        "edu_type_weights"
      ],
      "execution_count": 30,
      "outputs": [
        {
          "output_type": "execute_result",
          "data": {
            "text/plain": [
              "{'Academic degree': 252.2,\n",
              " 'Higher education': 250.2,\n",
              " 'Incomplete higher': 253.5,\n",
              " 'Lower secondary': 255.20000000000002,\n",
              " 'Secondary / secondary special': 252.70000000000002}"
            ]
          },
          "metadata": {
            "tags": []
          },
          "execution_count": 30
        }
      ]
    },
    {
      "cell_type": "code",
      "metadata": {
        "id": "M-OoMPFu0AV1"
      },
      "source": [
        "sorted_edu_type_weights_list = sorted(list(edu_type_weights.values()))"
      ],
      "execution_count": 31,
      "outputs": []
    },
    {
      "cell_type": "code",
      "metadata": {
        "id": "v2y0Gn3FzqRU"
      },
      "source": [
        "for edu_type in edu_type_weights.keys():\n",
        "  edu_type_weights[edu_type] = \\\n",
        "    sorted_edu_type_weights_list.index(edu_type_weights[edu_type])"
      ],
      "execution_count": 33,
      "outputs": []
    },
    {
      "cell_type": "code",
      "metadata": {
        "colab": {
          "base_uri": "https://localhost:8080/"
        },
        "id": "ti0RrCp-1Y5d",
        "outputId": "f30eb4a3-749b-48e3-ae48-e55f1313e28a"
      },
      "source": [
        "sorted(list(edu_type_weights.items()), key=lambda x: x[1])"
      ],
      "execution_count": 35,
      "outputs": [
        {
          "output_type": "execute_result",
          "data": {
            "text/plain": [
              "[('Higher education', 0),\n",
              " ('Academic degree', 1),\n",
              " ('Secondary / secondary special', 2),\n",
              " ('Incomplete higher', 3),\n",
              " ('Lower secondary', 4)]"
            ]
          },
          "metadata": {
            "tags": []
          },
          "execution_count": 35
        }
      ]
    },
    {
      "cell_type": "code",
      "metadata": {
        "id": "d8b2XuC71gLQ"
      },
      "source": [
        "def train_preprocessing2(train):\n",
        "  train.fillna('NAN', inplace=True)\n",
        "  train.drop('index', axis=1, inplace=True)\n",
        "  train.drop('FLAG_MOBIL', axis=1, inplace=True)\n",
        "\n",
        "  binary_col = ['gender',\n",
        "                'car',\n",
        "                'reality']\n",
        "\n",
        "  binary_encoder = OrdinalEncoder(categories=[['F', 'M'],\n",
        "                                              ['N', 'Y'],\n",
        "                                              ['N', 'Y']],\n",
        "                                  dtype=np.int8)\\\n",
        "                                  .fit(train.loc[:,binary_col])\n",
        "\n",
        "  train.loc[:,binary_col] = binary_encoder.transform(train.loc[:,binary_col])\n",
        "\n",
        "  ordinal_col = ['edu_type']\n",
        "\n",
        "  ordinal_encoder = OrdinalEncoder(categories=[['Higher education', 'Academic degree',\n",
        "                                                'Secondary / secondary special',\n",
        "                                                'Incomplete higher', 'Lower secondary']],\n",
        "                                    dtype=np.int8)\\\n",
        "                                    .fit(train.loc[:,ordinal_col])\n",
        "\n",
        "  train.loc[:,ordinal_col] = ordinal_encoder.transform(train.loc[:,ordinal_col])\n",
        "\n",
        "\n",
        "  onehot_col = ['income_type',\n",
        "                'family_type',\n",
        "                'house_type',\n",
        "                'occyp_type']\n",
        "\n",
        "\n",
        "  onehot_encoder = OneHotEncoder()\n",
        "  onehot_encoder.fit(train.loc[:,onehot_col])\n",
        "\n",
        "\n",
        "  train_onehot_df = pd.DataFrame(onehot_encoder.transform(train.loc[:,onehot_col]).toarray(), \n",
        "              columns=onehot_encoder.get_feature_names(onehot_col))\n",
        "  train.drop(onehot_col, axis=1, inplace=True)\n",
        "  train = pd.concat([train, train_onehot_df], axis=1)\n",
        "\n",
        "  train['parent'] = train['family_size'] - train['child_num']\n",
        "\n",
        "  family_size_cut = 6\n",
        "  child_num_cut = 4\n",
        "\n",
        "  train.loc[train['family_size'] > family_size_cut, 'family_size'] = family_size_cut\n",
        "  train.loc[train['child_num'] > child_num_cut, 'child_num'] = child_num_cut\n",
        "\n",
        "  pca_col = ['family_size', 'child_num', 'parent']\n",
        "  pca = PCA(n_components=1).fit(train.loc[:, pca_col])\n",
        "\n",
        "  train['fcp-pca'] = pca.transform(train.loc[:, pca_col])\n",
        "  train.drop(pca_col, axis=1, inplace=True)\n",
        "\n",
        "  train['income_total'] = np.log1p(train['income_total'])\n",
        "\n",
        "  X_train = train.drop('credit', axis=1)\n",
        "  y_train = train['credit']\n",
        "\n",
        "  return X_train, y_train"
      ],
      "execution_count": 36,
      "outputs": []
    },
    {
      "cell_type": "code",
      "metadata": {
        "id": "J8sqkcKjOX5B"
      },
      "source": [
        "X_train_exp, y_train = train_preprocessing2(train.copy())"
      ],
      "execution_count": 37,
      "outputs": []
    },
    {
      "cell_type": "code",
      "metadata": {
        "colab": {
          "base_uri": "https://localhost:8080/"
        },
        "id": "FRQoEPIzQbp0",
        "outputId": "be167a68-ebee-4797-fee8-7c39a963d142"
      },
      "source": [
        "scores = cross_validate(LGBMClassifier(), X_train_exp, y_train,\n",
        "                        scoring='neg_log_loss', return_train_score = True)\n",
        "scores"
      ],
      "execution_count": 38,
      "outputs": [
        {
          "output_type": "execute_result",
          "data": {
            "text/plain": [
              "{'fit_time': array([0.9331162 , 0.88539767, 0.9522965 , 0.88887119, 0.88162065]),\n",
              " 'score_time': array([0.06028128, 0.05853701, 0.062392  , 0.0615108 , 0.07072783]),\n",
              " 'test_score': array([-0.75960509, -0.76188516, -0.76233361, -0.76192716, -0.75883264]),\n",
              " 'train_score': array([-0.67948218, -0.67690544, -0.67759518, -0.68100993, -0.67623578])}"
            ]
          },
          "metadata": {
            "tags": []
          },
          "execution_count": 38
        }
      ]
    },
    {
      "cell_type": "code",
      "metadata": {
        "colab": {
          "base_uri": "https://localhost:8080/"
        },
        "id": "xH4s8ScsQf6M",
        "outputId": "0cf207d7-6c89-4940-b46a-76873422eb03"
      },
      "source": [
        "np.mean(scores['test_score'])"
      ],
      "execution_count": 39,
      "outputs": [
        {
          "output_type": "execute_result",
          "data": {
            "text/plain": [
              "-0.7609167321942225"
            ]
          },
          "metadata": {
            "tags": []
          },
          "execution_count": 39
        }
      ]
    },
    {
      "cell_type": "markdown",
      "metadata": {
        "id": "XjEkuo6fnMY8"
      },
      "source": [
        "## validation code"
      ]
    },
    {
      "cell_type": "code",
      "metadata": {
        "colab": {
          "base_uri": "https://localhost:8080/"
        },
        "id": "rJECwl6VqGhW",
        "outputId": "8f8b1ead-d094-4588-ec2e-dbbf2d957bdd"
      },
      "source": [
        "scores = cross_validate(LGBMClassifier(), X_train_exp, y_train,\n",
        "                        scoring='neg_log_loss', return_train_score = True)\n",
        "scores"
      ],
      "execution_count": 10,
      "outputs": [
        {
          "output_type": "execute_result",
          "data": {
            "text/plain": [
              "{'fit_time': array([0.95071197, 0.91329908, 0.96192431, 0.93059611, 0.92720604]),\n",
              " 'score_time': array([0.07212067, 0.06145167, 0.06224227, 0.06157851, 0.06124687]),\n",
              " 'test_score': array([-0.75801923, -0.76170773, -0.76034956, -0.76089536, -0.75931595]),\n",
              " 'train_score': array([-0.67798479, -0.67827494, -0.67451047, -0.6794452 , -0.6779453 ])}"
            ]
          },
          "metadata": {
            "tags": []
          },
          "execution_count": 10
        }
      ]
    },
    {
      "cell_type": "code",
      "metadata": {
        "colab": {
          "base_uri": "https://localhost:8080/"
        },
        "id": "9Gw2qRwly-9G",
        "outputId": "58fc35b7-d889-4f0f-b3a5-1a68792ccdff"
      },
      "source": [
        "np.mean(scores['test_score'])"
      ],
      "execution_count": 11,
      "outputs": [
        {
          "output_type": "execute_result",
          "data": {
            "text/plain": [
              "-0.7600575656819766"
            ]
          },
          "metadata": {
            "tags": []
          },
          "execution_count": 11
        }
      ]
    },
    {
      "cell_type": "code",
      "metadata": {
        "id": "2sZAlq4l629i"
      },
      "source": [
        ""
      ],
      "execution_count": null,
      "outputs": []
    }
  ]
}
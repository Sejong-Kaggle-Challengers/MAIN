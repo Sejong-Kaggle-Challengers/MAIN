{
  "nbformat": 4,
  "nbformat_minor": 0,
  "metadata": {
    "colab": {
      "name": "standard_baseline_2",
      "provenance": [],
      "collapsed_sections": []
    },
    "kernelspec": {
      "name": "python3",
      "display_name": "Python 3"
    },
    "language_info": {
      "name": "python"
    }
  },
  "cells": [
    {
      "cell_type": "markdown",
      "metadata": {
        "id": "NSlr76t9Y5ir"
      },
      "source": [
        "# 실험을 위한 기준 baseline"
      ]
    },
    {
      "cell_type": "code",
      "metadata": {
        "colab": {
          "base_uri": "https://localhost:8080/"
        },
        "id": "H2UkUxOoQDTr",
        "outputId": "f93272e0-f3b6-4157-f14a-ebfb20b1f962"
      },
      "source": [
        "from urllib.request import urlretrieve\n",
        "\n",
        "urlretrieve('https://drive.google.com/uc?export=download&id=1XLVFI_sK0smRVVuT8XU2s-M3lJT-68sN', './open.zip')"
      ],
      "execution_count": 89,
      "outputs": [
        {
          "output_type": "execute_result",
          "data": {
            "text/plain": [
              "('./open.zip', <http.client.HTTPMessage at 0x7f0387537f90>)"
            ]
          },
          "metadata": {
            "tags": []
          },
          "execution_count": 89
        }
      ]
    },
    {
      "cell_type": "code",
      "metadata": {
        "colab": {
          "base_uri": "https://localhost:8080/"
        },
        "id": "ALLntUGhR3rR",
        "outputId": "839a7305-9ebf-455d-fb0d-40e2c778e504"
      },
      "source": [
        "!unzip ./open.zip"
      ],
      "execution_count": 90,
      "outputs": [
        {
          "output_type": "stream",
          "text": [
            "Archive:  ./open.zip\n",
            "replace open/train.csv? [y]es, [n]o, [A]ll, [N]one, [r]ename: A\n",
            "  inflating: open/train.csv          \n",
            "  inflating: open/sample_submission.csv  \n",
            "  inflating: open/test.csv           \n"
          ],
          "name": "stdout"
        }
      ]
    },
    {
      "cell_type": "code",
      "metadata": {
        "id": "wb31kvAgSJFu"
      },
      "source": [
        "import numpy as np\n",
        "import pandas as pd\n",
        "from lightgbm import LGBMClassifier\n",
        "from sklearn.preprocessing import OneHotEncoder\n",
        "from sklearn.model_selection import cross_validate"
      ],
      "execution_count": 105,
      "outputs": []
    },
    {
      "cell_type": "code",
      "metadata": {
        "id": "IfLd2b88SYxr"
      },
      "source": [
        "train = pd.read_csv('./open/train.csv')\n",
        "test = pd.read_csv('./open/test.csv')"
      ],
      "execution_count": 120,
      "outputs": []
    },
    {
      "cell_type": "code",
      "metadata": {
        "colab": {
          "base_uri": "https://localhost:8080/"
        },
        "id": "4NyHDIbs4iIb",
        "outputId": "d4db6b36-c251-401e-c809-491ac71211d5"
      },
      "source": [
        "train.info()"
      ],
      "execution_count": 121,
      "outputs": [
        {
          "output_type": "stream",
          "text": [
            "<class 'pandas.core.frame.DataFrame'>\n",
            "RangeIndex: 26457 entries, 0 to 26456\n",
            "Data columns (total 20 columns):\n",
            " #   Column         Non-Null Count  Dtype  \n",
            "---  ------         --------------  -----  \n",
            " 0   index          26457 non-null  int64  \n",
            " 1   gender         26457 non-null  object \n",
            " 2   car            26457 non-null  object \n",
            " 3   reality        26457 non-null  object \n",
            " 4   child_num      26457 non-null  int64  \n",
            " 5   income_total   26457 non-null  float64\n",
            " 6   income_type    26457 non-null  object \n",
            " 7   edu_type       26457 non-null  object \n",
            " 8   family_type    26457 non-null  object \n",
            " 9   house_type     26457 non-null  object \n",
            " 10  DAYS_BIRTH     26457 non-null  int64  \n",
            " 11  DAYS_EMPLOYED  26457 non-null  int64  \n",
            " 12  FLAG_MOBIL     26457 non-null  int64  \n",
            " 13  work_phone     26457 non-null  int64  \n",
            " 14  phone          26457 non-null  int64  \n",
            " 15  email          26457 non-null  int64  \n",
            " 16  occyp_type     18286 non-null  object \n",
            " 17  family_size    26457 non-null  float64\n",
            " 18  begin_month    26457 non-null  float64\n",
            " 19  credit         26457 non-null  float64\n",
            "dtypes: float64(4), int64(8), object(8)\n",
            "memory usage: 4.0+ MB\n"
          ],
          "name": "stdout"
        }
      ]
    },
    {
      "cell_type": "markdown",
      "metadata": {
        "id": "L2SFbfl40Ze4"
      },
      "source": [
        "## Data Preprocessing"
      ]
    },
    {
      "cell_type": "code",
      "metadata": {
        "id": "QE7vr4f1o-i5"
      },
      "source": [
        "train.fillna('NAN', inplace=True) \n",
        "test.fillna('NAN', inplace=True) "
      ],
      "execution_count": 122,
      "outputs": []
    },
    {
      "cell_type": "code",
      "metadata": {
        "id": "KQtXXXlD5mVr"
      },
      "source": [
        "train.drop('index', axis=1, inplace=True)\n",
        "test.drop('index', axis=1, inplace=True)"
      ],
      "execution_count": 123,
      "outputs": []
    },
    {
      "cell_type": "code",
      "metadata": {
        "id": "Llc8ixuXnbET"
      },
      "source": [
        "onehot_col = ['gender',\n",
        "              'car',\n",
        "              'reality',\n",
        "              'income_type',\n",
        "              'edu_type',\n",
        "              'family_type',\n",
        "              'house_type',\n",
        "              'occyp_type']\n",
        "\n",
        "\n",
        "enc = OneHotEncoder()\n",
        "enc.fit(train.loc[:,onehot_col])\n",
        "\n",
        "\n",
        "train_onehot_df = pd.DataFrame(enc.transform(train.loc[:,onehot_col]).toarray(), \n",
        "             columns=enc.get_feature_names(onehot_col))\n",
        "train.drop(onehot_col, axis=1, inplace=True)\n",
        "train = pd.concat([train, train_onehot_df], axis=1)"
      ],
      "execution_count": 124,
      "outputs": []
    },
    {
      "cell_type": "code",
      "metadata": {
        "colab": {
          "base_uri": "https://localhost:8080/"
        },
        "id": "vqQuXg8RHYyu",
        "outputId": "4cb63e72-f0eb-412c-dfae-fdb5780728ab"
      },
      "source": [
        "train.info()"
      ],
      "execution_count": 128,
      "outputs": [
        {
          "output_type": "stream",
          "text": [
            "<class 'pandas.core.frame.DataFrame'>\n",
            "RangeIndex: 26457 entries, 0 to 26456\n",
            "Data columns (total 57 columns):\n",
            " #   Column                                  Non-Null Count  Dtype  \n",
            "---  ------                                  --------------  -----  \n",
            " 0   child_num                               26457 non-null  int64  \n",
            " 1   income_total                            26457 non-null  float64\n",
            " 2   DAYS_BIRTH                              26457 non-null  int64  \n",
            " 3   DAYS_EMPLOYED                           26457 non-null  int64  \n",
            " 4   FLAG_MOBIL                              26457 non-null  int64  \n",
            " 5   work_phone                              26457 non-null  int64  \n",
            " 6   phone                                   26457 non-null  int64  \n",
            " 7   email                                   26457 non-null  int64  \n",
            " 8   family_size                             26457 non-null  float64\n",
            " 9   begin_month                             26457 non-null  float64\n",
            " 10  credit                                  26457 non-null  float64\n",
            " 11  gender_F                                26457 non-null  float64\n",
            " 12  gender_M                                26457 non-null  float64\n",
            " 13  car_N                                   26457 non-null  float64\n",
            " 14  car_Y                                   26457 non-null  float64\n",
            " 15  reality_N                               26457 non-null  float64\n",
            " 16  reality_Y                               26457 non-null  float64\n",
            " 17  income_type_Commercial associate        26457 non-null  float64\n",
            " 18  income_type_Pensioner                   26457 non-null  float64\n",
            " 19  income_type_State servant               26457 non-null  float64\n",
            " 20  income_type_Student                     26457 non-null  float64\n",
            " 21  income_type_Working                     26457 non-null  float64\n",
            " 22  edu_type_Academic degree                26457 non-null  float64\n",
            " 23  edu_type_Higher education               26457 non-null  float64\n",
            " 24  edu_type_Incomplete higher              26457 non-null  float64\n",
            " 25  edu_type_Lower secondary                26457 non-null  float64\n",
            " 26  edu_type_Secondary / secondary special  26457 non-null  float64\n",
            " 27  family_type_Civil marriage              26457 non-null  float64\n",
            " 28  family_type_Married                     26457 non-null  float64\n",
            " 29  family_type_Separated                   26457 non-null  float64\n",
            " 30  family_type_Single / not married        26457 non-null  float64\n",
            " 31  family_type_Widow                       26457 non-null  float64\n",
            " 32  house_type_Co-op apartment              26457 non-null  float64\n",
            " 33  house_type_House / apartment            26457 non-null  float64\n",
            " 34  house_type_Municipal apartment          26457 non-null  float64\n",
            " 35  house_type_Office apartment             26457 non-null  float64\n",
            " 36  house_type_Rented apartment             26457 non-null  float64\n",
            " 37  house_type_With parents                 26457 non-null  float64\n",
            " 38  occyp_type_Accountants                  26457 non-null  float64\n",
            " 39  occyp_type_Cleaning staff               26457 non-null  float64\n",
            " 40  occyp_type_Cooking staff                26457 non-null  float64\n",
            " 41  occyp_type_Core staff                   26457 non-null  float64\n",
            " 42  occyp_type_Drivers                      26457 non-null  float64\n",
            " 43  occyp_type_HR staff                     26457 non-null  float64\n",
            " 44  occyp_type_High skill tech staff        26457 non-null  float64\n",
            " 45  occyp_type_IT staff                     26457 non-null  float64\n",
            " 46  occyp_type_Laborers                     26457 non-null  float64\n",
            " 47  occyp_type_Low-skill Laborers           26457 non-null  float64\n",
            " 48  occyp_type_Managers                     26457 non-null  float64\n",
            " 49  occyp_type_Medicine staff               26457 non-null  float64\n",
            " 50  occyp_type_NAN                          26457 non-null  float64\n",
            " 51  occyp_type_Private service staff        26457 non-null  float64\n",
            " 52  occyp_type_Realty agents                26457 non-null  float64\n",
            " 53  occyp_type_Sales staff                  26457 non-null  float64\n",
            " 54  occyp_type_Secretaries                  26457 non-null  float64\n",
            " 55  occyp_type_Security staff               26457 non-null  float64\n",
            " 56  occyp_type_Waiters/barmen staff         26457 non-null  float64\n",
            "dtypes: float64(50), int64(7)\n",
            "memory usage: 11.5 MB\n"
          ],
          "name": "stdout"
        }
      ]
    },
    {
      "cell_type": "code",
      "metadata": {
        "id": "hi2vjBDN2zZF"
      },
      "source": [
        "X_train = train.drop('credit', axis=1)\n",
        "y_train = train['credit']"
      ],
      "execution_count": 125,
      "outputs": []
    },
    {
      "cell_type": "markdown",
      "metadata": {
        "id": "XjEkuo6fnMY8"
      },
      "source": [
        "## modeling"
      ]
    },
    {
      "cell_type": "code",
      "metadata": {
        "colab": {
          "base_uri": "https://localhost:8080/"
        },
        "id": "rJECwl6VqGhW",
        "outputId": "a36d7667-ade6-4fc0-b021-88137ad26741"
      },
      "source": [
        "scores = cross_validate(LGBMClassifier(), X_train, y_train,\n",
        "                        scoring='neg_log_loss', return_train_score = True)\n",
        "scores"
      ],
      "execution_count": 126,
      "outputs": [
        {
          "output_type": "execute_result",
          "data": {
            "text/plain": [
              "{'fit_time': array([1.00157571, 1.02693868, 0.98590612, 0.98604298, 0.97848368]),\n",
              " 'score_time': array([0.07377863, 0.0650115 , 0.06968117, 0.06406069, 0.06329632]),\n",
              " 'test_score': array([-0.75942811, -0.76384856, -0.76256046, -0.76210299, -0.75800922]),\n",
              " 'train_score': array([-0.68033952, -0.67795626, -0.6758315 , -0.67947138, -0.67699941])}"
            ]
          },
          "metadata": {
            "tags": []
          },
          "execution_count": 126
        }
      ]
    },
    {
      "cell_type": "code",
      "metadata": {
        "colab": {
          "base_uri": "https://localhost:8080/"
        },
        "id": "9Gw2qRwly-9G",
        "outputId": "00ed510f-4e3f-46bd-deac-da5849ebfba6"
      },
      "source": [
        "np.mean(scores['test_score'])"
      ],
      "execution_count": 127,
      "outputs": [
        {
          "output_type": "execute_result",
          "data": {
            "text/plain": [
              "-0.7611898663220819"
            ]
          },
          "metadata": {
            "tags": []
          },
          "execution_count": 127
        }
      ]
    },
    {
      "cell_type": "code",
      "metadata": {
        "id": "ulexBYUkUX0_"
      },
      "source": [
        ""
      ],
      "execution_count": null,
      "outputs": []
    }
  ]
}
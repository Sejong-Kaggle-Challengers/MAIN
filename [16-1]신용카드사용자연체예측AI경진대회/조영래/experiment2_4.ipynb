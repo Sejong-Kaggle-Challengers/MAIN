{
  "nbformat": 4,
  "nbformat_minor": 0,
  "metadata": {
    "colab": {
      "name": "experiment2-4",
      "provenance": [],
      "collapsed_sections": []
    },
    "kernelspec": {
      "name": "python3",
      "display_name": "Python 3"
    },
    "language_info": {
      "name": "python"
    }
  },
  "cells": [
    {
      "cell_type": "markdown",
      "metadata": {
        "id": "NSlr76t9Y5ir"
      },
      "source": [
        "# Experiment 2-4\n",
        "> `family_size`, `child_num` 은 거의 유사한 값을 가진다. 위 두 feature를 이용한 실험\n",
        "- outlier처리\n",
        "- drop\n",
        "- 위 둘 중 성능이 좋아진 것이 있다면 거기에 `family_size` - `child_num` feature를 추가해보자\n",
        "  "
      ]
    },
    {
      "cell_type": "code",
      "metadata": {
        "colab": {
          "base_uri": "https://localhost:8080/"
        },
        "id": "H2UkUxOoQDTr",
        "outputId": "6e2bb758-e6dd-4caf-e61b-dd94be43e07d"
      },
      "source": [
        "from urllib.request import urlretrieve\n",
        "\n",
        "urlretrieve('https://drive.google.com/uc?export=download&id=1XLVFI_sK0smRVVuT8XU2s-M3lJT-68sN', './open.zip')"
      ],
      "execution_count": 1,
      "outputs": [
        {
          "output_type": "execute_result",
          "data": {
            "text/plain": [
              "('./open.zip', <http.client.HTTPMessage at 0x7f16ecef2c90>)"
            ]
          },
          "metadata": {
            "tags": []
          },
          "execution_count": 1
        }
      ]
    },
    {
      "cell_type": "code",
      "metadata": {
        "colab": {
          "base_uri": "https://localhost:8080/"
        },
        "id": "ALLntUGhR3rR",
        "outputId": "9ed221af-ed76-4374-fa73-8ef6c319a011"
      },
      "source": [
        "!unzip ./open.zip"
      ],
      "execution_count": 2,
      "outputs": [
        {
          "output_type": "stream",
          "text": [
            "Archive:  ./open.zip\n",
            "   creating: open/\n",
            "  inflating: open/train.csv          \n",
            "  inflating: open/sample_submission.csv  \n",
            "  inflating: open/test.csv           \n"
          ],
          "name": "stdout"
        }
      ]
    },
    {
      "cell_type": "code",
      "metadata": {
        "id": "wb31kvAgSJFu"
      },
      "source": [
        "import numpy as np\n",
        "import pandas as pd\n",
        "import matplotlib.pyplot as plt\n",
        "import seaborn as sns\n",
        "from lightgbm import LGBMClassifier\n",
        "from sklearn.preprocessing import OneHotEncoder, OrdinalEncoder\n",
        "from sklearn.model_selection import cross_validate\n",
        "from sklearn.decomposition import PCA"
      ],
      "execution_count": 3,
      "outputs": []
    },
    {
      "cell_type": "code",
      "metadata": {
        "id": "IfLd2b88SYxr"
      },
      "source": [
        "train = pd.read_csv('./open/train.csv')\n",
        "test = pd.read_csv('./open/test.csv')"
      ],
      "execution_count": 4,
      "outputs": []
    },
    {
      "cell_type": "code",
      "metadata": {
        "colab": {
          "base_uri": "https://localhost:8080/"
        },
        "id": "UlRHoPzQA1Dj",
        "outputId": "4431c845-d52b-49b8-e02f-2201b78eb1c3"
      },
      "source": [
        "train.info()"
      ],
      "execution_count": 5,
      "outputs": [
        {
          "output_type": "stream",
          "text": [
            "<class 'pandas.core.frame.DataFrame'>\n",
            "RangeIndex: 26457 entries, 0 to 26456\n",
            "Data columns (total 20 columns):\n",
            " #   Column         Non-Null Count  Dtype  \n",
            "---  ------         --------------  -----  \n",
            " 0   index          26457 non-null  int64  \n",
            " 1   gender         26457 non-null  object \n",
            " 2   car            26457 non-null  object \n",
            " 3   reality        26457 non-null  object \n",
            " 4   child_num      26457 non-null  int64  \n",
            " 5   income_total   26457 non-null  float64\n",
            " 6   income_type    26457 non-null  object \n",
            " 7   edu_type       26457 non-null  object \n",
            " 8   family_type    26457 non-null  object \n",
            " 9   house_type     26457 non-null  object \n",
            " 10  DAYS_BIRTH     26457 non-null  int64  \n",
            " 11  DAYS_EMPLOYED  26457 non-null  int64  \n",
            " 12  FLAG_MOBIL     26457 non-null  int64  \n",
            " 13  work_phone     26457 non-null  int64  \n",
            " 14  phone          26457 non-null  int64  \n",
            " 15  email          26457 non-null  int64  \n",
            " 16  occyp_type     18286 non-null  object \n",
            " 17  family_size    26457 non-null  float64\n",
            " 18  begin_month    26457 non-null  float64\n",
            " 19  credit         26457 non-null  float64\n",
            "dtypes: float64(4), int64(8), object(8)\n",
            "memory usage: 4.0+ MB\n"
          ],
          "name": "stdout"
        }
      ]
    },
    {
      "cell_type": "code",
      "metadata": {
        "colab": {
          "base_uri": "https://localhost:8080/",
          "height": 377
        },
        "id": "5Mv8hfG0-wUg",
        "outputId": "4cf45e9f-bdc2-46e1-af06-dea3672bdd1f"
      },
      "source": [
        "train.head()"
      ],
      "execution_count": 6,
      "outputs": [
        {
          "output_type": "execute_result",
          "data": {
            "text/html": [
              "<div>\n",
              "<style scoped>\n",
              "    .dataframe tbody tr th:only-of-type {\n",
              "        vertical-align: middle;\n",
              "    }\n",
              "\n",
              "    .dataframe tbody tr th {\n",
              "        vertical-align: top;\n",
              "    }\n",
              "\n",
              "    .dataframe thead th {\n",
              "        text-align: right;\n",
              "    }\n",
              "</style>\n",
              "<table border=\"1\" class=\"dataframe\">\n",
              "  <thead>\n",
              "    <tr style=\"text-align: right;\">\n",
              "      <th></th>\n",
              "      <th>index</th>\n",
              "      <th>gender</th>\n",
              "      <th>car</th>\n",
              "      <th>reality</th>\n",
              "      <th>child_num</th>\n",
              "      <th>income_total</th>\n",
              "      <th>income_type</th>\n",
              "      <th>edu_type</th>\n",
              "      <th>family_type</th>\n",
              "      <th>house_type</th>\n",
              "      <th>DAYS_BIRTH</th>\n",
              "      <th>DAYS_EMPLOYED</th>\n",
              "      <th>FLAG_MOBIL</th>\n",
              "      <th>work_phone</th>\n",
              "      <th>phone</th>\n",
              "      <th>email</th>\n",
              "      <th>occyp_type</th>\n",
              "      <th>family_size</th>\n",
              "      <th>begin_month</th>\n",
              "      <th>credit</th>\n",
              "    </tr>\n",
              "  </thead>\n",
              "  <tbody>\n",
              "    <tr>\n",
              "      <th>0</th>\n",
              "      <td>0</td>\n",
              "      <td>F</td>\n",
              "      <td>N</td>\n",
              "      <td>N</td>\n",
              "      <td>0</td>\n",
              "      <td>202500.0</td>\n",
              "      <td>Commercial associate</td>\n",
              "      <td>Higher education</td>\n",
              "      <td>Married</td>\n",
              "      <td>Municipal apartment</td>\n",
              "      <td>-13899</td>\n",
              "      <td>-4709</td>\n",
              "      <td>1</td>\n",
              "      <td>0</td>\n",
              "      <td>0</td>\n",
              "      <td>0</td>\n",
              "      <td>NaN</td>\n",
              "      <td>2.0</td>\n",
              "      <td>-6.0</td>\n",
              "      <td>1.0</td>\n",
              "    </tr>\n",
              "    <tr>\n",
              "      <th>1</th>\n",
              "      <td>1</td>\n",
              "      <td>F</td>\n",
              "      <td>N</td>\n",
              "      <td>Y</td>\n",
              "      <td>1</td>\n",
              "      <td>247500.0</td>\n",
              "      <td>Commercial associate</td>\n",
              "      <td>Secondary / secondary special</td>\n",
              "      <td>Civil marriage</td>\n",
              "      <td>House / apartment</td>\n",
              "      <td>-11380</td>\n",
              "      <td>-1540</td>\n",
              "      <td>1</td>\n",
              "      <td>0</td>\n",
              "      <td>0</td>\n",
              "      <td>1</td>\n",
              "      <td>Laborers</td>\n",
              "      <td>3.0</td>\n",
              "      <td>-5.0</td>\n",
              "      <td>1.0</td>\n",
              "    </tr>\n",
              "    <tr>\n",
              "      <th>2</th>\n",
              "      <td>2</td>\n",
              "      <td>M</td>\n",
              "      <td>Y</td>\n",
              "      <td>Y</td>\n",
              "      <td>0</td>\n",
              "      <td>450000.0</td>\n",
              "      <td>Working</td>\n",
              "      <td>Higher education</td>\n",
              "      <td>Married</td>\n",
              "      <td>House / apartment</td>\n",
              "      <td>-19087</td>\n",
              "      <td>-4434</td>\n",
              "      <td>1</td>\n",
              "      <td>0</td>\n",
              "      <td>1</td>\n",
              "      <td>0</td>\n",
              "      <td>Managers</td>\n",
              "      <td>2.0</td>\n",
              "      <td>-22.0</td>\n",
              "      <td>2.0</td>\n",
              "    </tr>\n",
              "    <tr>\n",
              "      <th>3</th>\n",
              "      <td>3</td>\n",
              "      <td>F</td>\n",
              "      <td>N</td>\n",
              "      <td>Y</td>\n",
              "      <td>0</td>\n",
              "      <td>202500.0</td>\n",
              "      <td>Commercial associate</td>\n",
              "      <td>Secondary / secondary special</td>\n",
              "      <td>Married</td>\n",
              "      <td>House / apartment</td>\n",
              "      <td>-15088</td>\n",
              "      <td>-2092</td>\n",
              "      <td>1</td>\n",
              "      <td>0</td>\n",
              "      <td>1</td>\n",
              "      <td>0</td>\n",
              "      <td>Sales staff</td>\n",
              "      <td>2.0</td>\n",
              "      <td>-37.0</td>\n",
              "      <td>0.0</td>\n",
              "    </tr>\n",
              "    <tr>\n",
              "      <th>4</th>\n",
              "      <td>4</td>\n",
              "      <td>F</td>\n",
              "      <td>Y</td>\n",
              "      <td>Y</td>\n",
              "      <td>0</td>\n",
              "      <td>157500.0</td>\n",
              "      <td>State servant</td>\n",
              "      <td>Higher education</td>\n",
              "      <td>Married</td>\n",
              "      <td>House / apartment</td>\n",
              "      <td>-15037</td>\n",
              "      <td>-2105</td>\n",
              "      <td>1</td>\n",
              "      <td>0</td>\n",
              "      <td>0</td>\n",
              "      <td>0</td>\n",
              "      <td>Managers</td>\n",
              "      <td>2.0</td>\n",
              "      <td>-26.0</td>\n",
              "      <td>2.0</td>\n",
              "    </tr>\n",
              "  </tbody>\n",
              "</table>\n",
              "</div>"
            ],
            "text/plain": [
              "   index gender car reality  ...   occyp_type  family_size begin_month credit\n",
              "0      0      F   N       N  ...          NaN          2.0        -6.0    1.0\n",
              "1      1      F   N       Y  ...     Laborers          3.0        -5.0    1.0\n",
              "2      2      M   Y       Y  ...     Managers          2.0       -22.0    2.0\n",
              "3      3      F   N       Y  ...  Sales staff          2.0       -37.0    0.0\n",
              "4      4      F   Y       Y  ...     Managers          2.0       -26.0    2.0\n",
              "\n",
              "[5 rows x 20 columns]"
            ]
          },
          "metadata": {
            "tags": []
          },
          "execution_count": 6
        }
      ]
    },
    {
      "cell_type": "markdown",
      "metadata": {
        "id": "L2SFbfl40Ze4"
      },
      "source": [
        "## Data Preprocessing"
      ]
    },
    {
      "cell_type": "code",
      "metadata": {
        "id": "QE7vr4f1o-i5"
      },
      "source": [
        "train.fillna('NAN', inplace=True)\n",
        "test.fillna('NAN', inplace=True)"
      ],
      "execution_count": 7,
      "outputs": []
    },
    {
      "cell_type": "code",
      "metadata": {
        "id": "KQtXXXlD5mVr"
      },
      "source": [
        "train.drop('index', axis=1, inplace=True)\n",
        "test.drop('index', axis=1, inplace=True)"
      ],
      "execution_count": 8,
      "outputs": []
    },
    {
      "cell_type": "code",
      "metadata": {
        "id": "Tvgx3OeBVwZa"
      },
      "source": [
        "train.drop('FLAG_MOBIL', axis=1, inplace=True)\n",
        "test.drop('FLAG_MOBIL', axis=1, inplace=True)"
      ],
      "execution_count": 9,
      "outputs": []
    },
    {
      "cell_type": "code",
      "metadata": {
        "id": "s-MAfspQDhHi"
      },
      "source": [
        "binary_col = ['gender',\n",
        "              'car',\n",
        "              'reality']\n",
        "\n",
        "binary_encoder = OrdinalEncoder(categories=[['F', 'M'],\n",
        "                                            ['N', 'Y'],\n",
        "                                            ['N', 'Y']],\n",
        "                                dtype=np.int8)\\\n",
        "                              .fit(train.loc[:,binary_col])\n",
        "\n",
        "train.loc[:,binary_col] = binary_encoder.transform(train.loc[:,binary_col])"
      ],
      "execution_count": 10,
      "outputs": []
    },
    {
      "cell_type": "code",
      "metadata": {
        "colab": {
          "base_uri": "https://localhost:8080/"
        },
        "id": "swoXDussGhV4",
        "outputId": "aa7f0cb1-f9a5-44e7-93f0-6f5ef7f6f055"
      },
      "source": [
        "train.info()"
      ],
      "execution_count": 11,
      "outputs": [
        {
          "output_type": "stream",
          "text": [
            "<class 'pandas.core.frame.DataFrame'>\n",
            "RangeIndex: 26457 entries, 0 to 26456\n",
            "Data columns (total 18 columns):\n",
            " #   Column         Non-Null Count  Dtype  \n",
            "---  ------         --------------  -----  \n",
            " 0   gender         26457 non-null  int64  \n",
            " 1   car            26457 non-null  int64  \n",
            " 2   reality        26457 non-null  int64  \n",
            " 3   child_num      26457 non-null  int64  \n",
            " 4   income_total   26457 non-null  float64\n",
            " 5   income_type    26457 non-null  object \n",
            " 6   edu_type       26457 non-null  object \n",
            " 7   family_type    26457 non-null  object \n",
            " 8   house_type     26457 non-null  object \n",
            " 9   DAYS_BIRTH     26457 non-null  int64  \n",
            " 10  DAYS_EMPLOYED  26457 non-null  int64  \n",
            " 11  work_phone     26457 non-null  int64  \n",
            " 12  phone          26457 non-null  int64  \n",
            " 13  email          26457 non-null  int64  \n",
            " 14  occyp_type     26457 non-null  object \n",
            " 15  family_size    26457 non-null  float64\n",
            " 16  begin_month    26457 non-null  float64\n",
            " 17  credit         26457 non-null  float64\n",
            "dtypes: float64(4), int64(9), object(5)\n",
            "memory usage: 3.6+ MB\n"
          ],
          "name": "stdout"
        }
      ]
    },
    {
      "cell_type": "code",
      "metadata": {
        "id": "Llc8ixuXnbET"
      },
      "source": [
        "onehot_col = ['income_type',\n",
        "              'edu_type',\n",
        "              'family_type',\n",
        "              'house_type',\n",
        "              'occyp_type']\n",
        "\n",
        "\n",
        "onehot_encoder = OneHotEncoder()\n",
        "onehot_encoder.fit(train.loc[:,onehot_col])\n",
        "\n",
        "\n",
        "train_onehot_df = pd.DataFrame(onehot_encoder.transform(train.loc[:,onehot_col]).toarray(), \n",
        "             columns=onehot_encoder.get_feature_names(onehot_col))\n",
        "train.drop(onehot_col, axis=1, inplace=True)\n",
        "train = pd.concat([train, train_onehot_df], axis=1)"
      ],
      "execution_count": 12,
      "outputs": []
    },
    {
      "cell_type": "code",
      "metadata": {
        "id": "hi2vjBDN2zZF"
      },
      "source": [
        "X_train = train.drop('credit', axis=1)\n",
        "y_train = train['credit']"
      ],
      "execution_count": 13,
      "outputs": []
    },
    {
      "cell_type": "code",
      "metadata": {
        "id": "lmgMUhstCTeL"
      },
      "source": [
        "# 아래 md에 기록되어있는 것은 이 feature 없이 학습한 것\n",
        "# 아래 코드를 추가해줌으로써 기존 실험에 해당 feature가 추가된 실험을 진행할 수 있었다.\n",
        "X_train['fc'] = X_train['family_size'] - X_train['child_num']"
      ],
      "execution_count": 14,
      "outputs": []
    },
    {
      "cell_type": "markdown",
      "metadata": {
        "id": "XjEkuo6fnMY8"
      },
      "source": [
        "## outlier 처리"
      ]
    },
    {
      "cell_type": "markdown",
      "metadata": {
        "id": "s4gqTAIwe4KG"
      },
      "source": [
        "### `child_num`\n",
        "- 4: 0.7611898663220819\n",
        "- 3: 0.7606424909637512\n",
        "- 2: 0.7608976274578698\n",
        "- 1: 0.7599246928293375"
      ]
    },
    {
      "cell_type": "code",
      "metadata": {
        "colab": {
          "base_uri": "https://localhost:8080/"
        },
        "id": "sJhoOoGlbx3m",
        "outputId": "9621b861-dc3d-4126-ebfc-43d8e202d3da"
      },
      "source": [
        "X_train['child_num'].value_counts()"
      ],
      "execution_count": null,
      "outputs": [
        {
          "output_type": "execute_result",
          "data": {
            "text/plain": [
              "0     18340\n",
              "1      5386\n",
              "2      2362\n",
              "3       306\n",
              "4        47\n",
              "5        10\n",
              "14        3\n",
              "7         2\n",
              "19        1\n",
              "Name: child_num, dtype: int64"
            ]
          },
          "metadata": {
            "tags": []
          },
          "execution_count": 270
        }
      ]
    },
    {
      "cell_type": "code",
      "metadata": {
        "colab": {
          "base_uri": "https://localhost:8080/"
        },
        "id": "YLSidw9LET-q",
        "outputId": "0f462c69-5137-4bac-ce04-1e614bde77d3"
      },
      "source": [
        "for child_num_cut in range(4 + 1):\n",
        "  X_train1 = X_train.copy()\n",
        "  X_train1.loc[X_train1['child_num'] > child_num_cut, 'child_num'] = child_num_cut\n",
        "  scores = cross_validate(LGBMClassifier(), X_train1, y_train,\n",
        "                        scoring='neg_log_loss', return_train_score = True)\n",
        "  mean_score = np.mean(scores['test_score'])\n",
        "  print(f\"c: {child_num_cut} >>> {mean_score}\")"
      ],
      "execution_count": null,
      "outputs": [
        {
          "output_type": "stream",
          "text": [
            "c: 0 >>> -0.7606751978574816\n",
            "c: 1 >>> -0.7611189418990956\n",
            "c: 2 >>> -0.7611066439833934\n",
            "c: 3 >>> -0.7602247936797507\n",
            "c: 4 >>> -0.7607514496600121\n"
          ],
          "name": "stdout"
        }
      ]
    },
    {
      "cell_type": "markdown",
      "metadata": {
        "id": "iav1UGC-fDKB"
      },
      "source": [
        "### `family_size`\n",
        "- 6: 0.7611898663220819\n",
        "- 5: 0.7608417340664374\n",
        "- 4: 0.760812025635077\n",
        "- 3: 0.760449725108483\n",
        "- 2: 0.7612701386832864\n",
        "\n"
      ]
    },
    {
      "cell_type": "code",
      "metadata": {
        "colab": {
          "base_uri": "https://localhost:8080/"
        },
        "id": "fS8OsMElfDKC",
        "outputId": "6339acf9-c111-432d-e51a-3b352b7a7435"
      },
      "source": [
        "X_train['family_size'].value_counts()"
      ],
      "execution_count": null,
      "outputs": [
        {
          "output_type": "execute_result",
          "data": {
            "text/plain": [
              "2.0     14106\n",
              "1.0      5109\n",
              "3.0      4632\n",
              "4.0      2260\n",
              "5.0       291\n",
              "6.0        44\n",
              "7.0         9\n",
              "15.0        3\n",
              "9.0         2\n",
              "20.0        1\n",
              "Name: family_size, dtype: int64"
            ]
          },
          "metadata": {
            "tags": []
          },
          "execution_count": 272
        }
      ]
    },
    {
      "cell_type": "code",
      "metadata": {
        "colab": {
          "base_uri": "https://localhost:8080/"
        },
        "id": "T-qixrN3D_IR",
        "outputId": "29c6bb85-d429-42ca-e777-24cb066f5e20"
      },
      "source": [
        "for family_size_cut in range(6 + 1):\n",
        "  X_train2 = X_train.copy()\n",
        "  X_train2.loc[X_train2['family_size'] > family_size_cut, 'family_size'] = family_size_cut\n",
        "  scores = cross_validate(LGBMClassifier(), X_train2, y_train,\n",
        "                        scoring='neg_log_loss', return_train_score = True)\n",
        "  mean_score = np.mean(scores['test_score'])\n",
        "  print(f\"f: {family_size_cut} >>> {mean_score}\")"
      ],
      "execution_count": null,
      "outputs": [
        {
          "output_type": "stream",
          "text": [
            "f: 0 >>> -0.761219668371244\n",
            "f: 1 >>> -0.761219668371244\n",
            "f: 2 >>> -0.7613133737958269\n",
            "f: 3 >>> -0.7604942631590917\n",
            "f: 4 >>> -0.7604917575600143\n",
            "f: 5 >>> -0.7611038966473103\n",
            "f: 6 >>> -0.7607514496600121\n"
          ],
          "name": "stdout"
        }
      ]
    },
    {
      "cell_type": "markdown",
      "metadata": {
        "id": "XlHZXfBwinfX"
      },
      "source": [
        "### `family_size`, `child_num`\n",
        "\n"
      ]
    },
    {
      "cell_type": "code",
      "metadata": {
        "colab": {
          "base_uri": "https://localhost:8080/"
        },
        "id": "bSzXfFH-i0Nz",
        "outputId": "63df7d5a-1a33-4c7e-85ac-24c900e98845"
      },
      "source": [
        "f_c_scores = []\n",
        "verbose = True\n",
        "for family_size_cut in range(6 + 1):\n",
        "  for child_num_cut in range(4 + 1):\n",
        "    X_train3 = X_train.copy()\n",
        "    X_train3.loc[X_train3['family_size'] > family_size_cut, 'family_size'] = family_size_cut\n",
        "    X_train3.loc[X_train3['child_num'] > child_num_cut, 'child_num'] = child_num_cut\n",
        "    scores = cross_validate(LGBMClassifier(), X_train3, y_train,\n",
        "                        scoring='neg_log_loss', return_train_score = True)\n",
        "    mean_score = np.mean(scores['test_score'])\n",
        "    if verbose:\n",
        "      print(f\"f: {family_size_cut}, c: {child_num_cut} >>> {mean_score}\")\n",
        "    f_c_scores.append([family_size_cut, child_num_cut, mean_score])"
      ],
      "execution_count": null,
      "outputs": [
        {
          "output_type": "stream",
          "text": [
            "f: 0, c: 0 >>> -0.761827307135404\n",
            "f: 0, c: 1 >>> -0.7617770973386897\n",
            "f: 0, c: 2 >>> -0.7605980175723209\n",
            "f: 0, c: 3 >>> -0.7610081945881834\n",
            "f: 0, c: 4 >>> -0.761219668371244\n",
            "f: 1, c: 0 >>> -0.761827307135404\n",
            "f: 1, c: 1 >>> -0.7617770973386897\n",
            "f: 1, c: 2 >>> -0.7605980175723209\n",
            "f: 1, c: 3 >>> -0.7610081945881834\n",
            "f: 1, c: 4 >>> -0.761219668371244\n",
            "f: 2, c: 0 >>> -0.7625729910361008\n",
            "f: 2, c: 1 >>> -0.7620379938857402\n",
            "f: 2, c: 2 >>> -0.7622515488414463\n",
            "f: 2, c: 3 >>> -0.7614174909632045\n",
            "f: 2, c: 4 >>> -0.7613133737958269\n",
            "f: 3, c: 0 >>> -0.7625924027942863\n",
            "f: 3, c: 1 >>> -0.7616794294453341\n",
            "f: 3, c: 2 >>> -0.7606290313274234\n",
            "f: 3, c: 3 >>> -0.760641528149405\n",
            "f: 3, c: 4 >>> -0.7604942631590917\n",
            "f: 4, c: 0 >>> -0.7609506515754874\n",
            "f: 4, c: 1 >>> -0.7604928553623018\n",
            "f: 4, c: 2 >>> -0.760698439000106\n",
            "f: 4, c: 3 >>> -0.7608835726669898\n",
            "f: 4, c: 4 >>> -0.7604917575600143\n",
            "f: 5, c: 0 >>> -0.7607280982570369\n",
            "f: 5, c: 1 >>> -0.761007014948043\n",
            "f: 5, c: 2 >>> -0.761151969406379\n",
            "f: 5, c: 3 >>> -0.7608557064461273\n",
            "f: 5, c: 4 >>> -0.7611038966473103\n",
            "f: 6, c: 0 >>> -0.7606751978574816\n",
            "f: 6, c: 1 >>> -0.7611189418990956\n",
            "f: 6, c: 2 >>> -0.7611066439833934\n",
            "f: 6, c: 3 >>> -0.7602247936797507\n",
            "f: 6, c: 4 >>> -0.7607514496600121\n"
          ],
          "name": "stdout"
        }
      ]
    },
    {
      "cell_type": "code",
      "metadata": {
        "colab": {
          "base_uri": "https://localhost:8080/"
        },
        "id": "nRQ65wZ6lVnt",
        "outputId": "4c232193-6100-4e14-acb7-e82a98563980"
      },
      "source": [
        "for f_c_score in sorted(f_c_scores,\n",
        "                        key=lambda x: x[2],\n",
        "                        reverse=True):\n",
        "  print(f_c_score)"
      ],
      "execution_count": null,
      "outputs": [
        {
          "output_type": "stream",
          "text": [
            "[6, 3, -0.7602247936797507]\n",
            "[4, 4, -0.7604917575600143]\n",
            "[4, 1, -0.7604928553623018]\n",
            "[3, 4, -0.7604942631590917]\n",
            "[0, 2, -0.7605980175723209]\n",
            "[1, 2, -0.7605980175723209]\n",
            "[3, 2, -0.7606290313274234]\n",
            "[3, 3, -0.760641528149405]\n",
            "[6, 0, -0.7606751978574816]\n",
            "[4, 2, -0.760698439000106]\n",
            "[5, 0, -0.7607280982570369]\n",
            "[6, 4, -0.7607514496600121]\n",
            "[5, 3, -0.7608557064461273]\n",
            "[4, 3, -0.7608835726669898]\n",
            "[4, 0, -0.7609506515754874]\n",
            "[5, 1, -0.761007014948043]\n",
            "[0, 3, -0.7610081945881834]\n",
            "[1, 3, -0.7610081945881834]\n",
            "[5, 4, -0.7611038966473103]\n",
            "[6, 2, -0.7611066439833934]\n",
            "[6, 1, -0.7611189418990956]\n",
            "[5, 2, -0.761151969406379]\n",
            "[0, 4, -0.761219668371244]\n",
            "[1, 4, -0.761219668371244]\n",
            "[2, 4, -0.7613133737958269]\n",
            "[2, 3, -0.7614174909632045]\n",
            "[3, 1, -0.7616794294453341]\n",
            "[0, 1, -0.7617770973386897]\n",
            "[1, 1, -0.7617770973386897]\n",
            "[0, 0, -0.761827307135404]\n",
            "[1, 0, -0.761827307135404]\n",
            "[2, 1, -0.7620379938857402]\n",
            "[2, 2, -0.7622515488414463]\n",
            "[2, 0, -0.7625729910361008]\n",
            "[3, 0, -0.7625924027942863]\n"
          ],
          "name": "stdout"
        }
      ]
    },
    {
      "cell_type": "markdown",
      "metadata": {
        "id": "o9Psk7I9kkQi"
      },
      "source": [
        "## drop \n",
        "> 위 outlier 제거에서 좋았던 결과이용"
      ]
    },
    {
      "cell_type": "markdown",
      "metadata": {
        "id": "SHxSzPIakmaj"
      },
      "source": [
        "### `child_num`"
      ]
    },
    {
      "cell_type": "code",
      "metadata": {
        "colab": {
          "base_uri": "https://localhost:8080/"
        },
        "id": "qFExb5Hh-ZpC",
        "outputId": "2074f56e-8bc3-4d61-8c2a-e3cbe2568ebc"
      },
      "source": [
        "for family_size_cut in range(6 + 1):\n",
        "  X_train4 = X_train.copy()\n",
        "  X_train4.drop('child_num', axis=1, inplace=True)\n",
        "  X_train4.loc[X_train4['family_size'] > family_size_cut, 'family_size'] = family_size_cut\n",
        "  scores = cross_validate(LGBMClassifier(), X_train4, y_train,\n",
        "                        scoring='neg_log_loss', return_train_score = True)\n",
        "  mean_score = np.mean(scores['test_score'])\n",
        "  print(f\"f: {family_size_cut} >>> {mean_score}\")"
      ],
      "execution_count": null,
      "outputs": [
        {
          "output_type": "stream",
          "text": [
            "f: 0 >>> -0.761827307135404\n",
            "f: 1 >>> -0.761827307135404\n",
            "f: 2 >>> -0.7625729910361008\n",
            "f: 3 >>> -0.7625924027942863\n",
            "f: 4 >>> -0.7609506515754874\n",
            "f: 5 >>> -0.7607280982570369\n",
            "f: 6 >>> -0.7606751978574816\n"
          ],
          "name": "stdout"
        }
      ]
    },
    {
      "cell_type": "markdown",
      "metadata": {
        "id": "Vo4Uqun4mFoc"
      },
      "source": [
        "### `family_size`"
      ]
    },
    {
      "cell_type": "code",
      "metadata": {
        "colab": {
          "base_uri": "https://localhost:8080/"
        },
        "id": "WwqBmFoP_PzN",
        "outputId": "a6e05c29-d641-4e9f-db8e-dd449f0a849c"
      },
      "source": [
        "for child_num_cut in range(4 + 1):\n",
        "  X_train5 = X_train.copy()\n",
        "  X_train5.drop('family_size', axis=1, inplace=True)\n",
        "  X_train5.loc[X_train5['child_num'] > child_num_cut, 'child_num'] = child_num_cut\n",
        "  scores = cross_validate(LGBMClassifier(), X_train5, y_train,\n",
        "                        scoring='neg_log_loss', return_train_score = True)\n",
        "  mean_score = np.mean(scores['test_score'])\n",
        "  print(f\"c: {child_num_cut} >>> {mean_score}\")"
      ],
      "execution_count": null,
      "outputs": [
        {
          "output_type": "stream",
          "text": [
            "c: 0 >>> -0.761827307135404\n",
            "c: 1 >>> -0.7617770973386897\n",
            "c: 2 >>> -0.7605980175723209\n",
            "c: 3 >>> -0.7610081945881834\n",
            "c: 4 >>> -0.761219668371244\n"
          ],
          "name": "stdout"
        }
      ]
    },
    {
      "cell_type": "markdown",
      "metadata": {
        "id": "Gl05yYsRmbql"
      },
      "source": [
        "### `family_size`, `child_num`"
      ]
    },
    {
      "cell_type": "code",
      "metadata": {
        "id": "loJG7_utmbqm"
      },
      "source": [
        "X_train6 = X_train.copy()"
      ],
      "execution_count": null,
      "outputs": []
    },
    {
      "cell_type": "code",
      "metadata": {
        "id": "FQZArFlRmbqn"
      },
      "source": [
        "X_train6.drop(['family_size', 'child_num'], axis=1, inplace=True)"
      ],
      "execution_count": null,
      "outputs": []
    },
    {
      "cell_type": "code",
      "metadata": {
        "colab": {
          "base_uri": "https://localhost:8080/"
        },
        "id": "ZFcY5YzCmbqn",
        "outputId": "aaab8189-d449-4742-b47d-da6c6ab865dc"
      },
      "source": [
        "scores = cross_validate(LGBMClassifier(), X_train6, y_train,\n",
        "                        scoring='neg_log_loss', return_train_score = True)\n",
        "scores"
      ],
      "execution_count": null,
      "outputs": [
        {
          "output_type": "execute_result",
          "data": {
            "text/plain": [
              "{'fit_time': array([0.9566443 , 0.9418478 , 0.92449498, 0.947258  , 0.93635368]),\n",
              " 'score_time': array([0.07845855, 0.08253956, 0.09019876, 0.08136678, 0.08195996]),\n",
              " 'test_score': array([-0.75979331, -0.76272134, -0.76425039, -0.76251465, -0.75985685]),\n",
              " 'train_score': array([-0.68091979, -0.6801855 , -0.67880311, -0.68128271, -0.67846869])}"
            ]
          },
          "metadata": {
            "tags": []
          },
          "execution_count": 280
        }
      ]
    },
    {
      "cell_type": "code",
      "metadata": {
        "colab": {
          "base_uri": "https://localhost:8080/"
        },
        "id": "kD3gfouzmbqn",
        "outputId": "13dd5783-1066-4168-c7b4-7a660c40eeae"
      },
      "source": [
        "np.mean(scores['test_score'])"
      ],
      "execution_count": null,
      "outputs": [
        {
          "output_type": "execute_result",
          "data": {
            "text/plain": [
              "-0.761827307135404"
            ]
          },
          "metadata": {
            "tags": []
          },
          "execution_count": 281
        }
      ]
    },
    {
      "cell_type": "markdown",
      "metadata": {
        "id": "W_DMLE7cmoOR"
      },
      "source": [
        "## `family_size` - `child_num` feature를 추가\n",
        "> 성능 향상이 있다. 위에 다 이 피처를 추가해서 실험해보자"
      ]
    },
    {
      "cell_type": "code",
      "metadata": {
        "id": "GqObgV4zBRwl"
      },
      "source": [
        "X_train7 = X_train.copy()"
      ],
      "execution_count": null,
      "outputs": []
    },
    {
      "cell_type": "code",
      "metadata": {
        "id": "ftlZ6_1MBXFK"
      },
      "source": [
        "X_train7['fc'] = X_train7['family_size'] - X_train7['child_num']"
      ],
      "execution_count": null,
      "outputs": []
    },
    {
      "cell_type": "code",
      "metadata": {
        "colab": {
          "base_uri": "https://localhost:8080/"
        },
        "id": "t8FXHhpMBhVS",
        "outputId": "2462487b-b0bf-4cb9-9cbd-93741eb2cb60"
      },
      "source": [
        "scores = cross_validate(LGBMClassifier(), X_train7, y_train,\n",
        "                        scoring='neg_log_loss', return_train_score = True)\n",
        "scores"
      ],
      "execution_count": null,
      "outputs": [
        {
          "output_type": "execute_result",
          "data": {
            "text/plain": [
              "{'fit_time': array([1.01455283, 0.96858191, 0.98320007, 0.9779036 , 0.9881382 ]),\n",
              " 'score_time': array([0.0812192 , 0.08094454, 0.08763242, 0.08286309, 0.08171439]),\n",
              " 'test_score': array([-0.7596808 , -0.7621518 , -0.76162517, -0.7616678 , -0.75863166]),\n",
              " 'train_score': array([-0.67950466, -0.6781597 , -0.6762141 , -0.679316  , -0.67592511])}"
            ]
          },
          "metadata": {
            "tags": []
          },
          "execution_count": 284
        }
      ]
    },
    {
      "cell_type": "code",
      "metadata": {
        "colab": {
          "base_uri": "https://localhost:8080/"
        },
        "id": "GhGFwBTvBksY",
        "outputId": "afe26960-9908-407f-98ad-070a9a0bcb0e"
      },
      "source": [
        "np.mean(scores['test_score'])"
      ],
      "execution_count": null,
      "outputs": [
        {
          "output_type": "execute_result",
          "data": {
            "text/plain": [
              "-0.7607514496600121"
            ]
          },
          "metadata": {
            "tags": []
          },
          "execution_count": 285
        }
      ]
    },
    {
      "cell_type": "markdown",
      "metadata": {
        "id": "EI4s0wYaBmD_"
      },
      "source": [
        "## `family_size`, `child_num` 를 pca로 1차원으로 축소\n",
        "> 두 feature를 pca로 1차원으로 축소 후 두 feature는 삭제\n",
        "- `fc` feature 추가 X : `0.760850247070009`\n",
        "- `fc` feature 추가 O : `0.760534246196231`"
      ]
    },
    {
      "cell_type": "code",
      "metadata": {
        "id": "f1kR0j-ObB3h"
      },
      "source": [
        "from sklearn.decomposition import PCA"
      ],
      "execution_count": null,
      "outputs": []
    },
    {
      "cell_type": "code",
      "metadata": {
        "id": "cVmA21mibKCf"
      },
      "source": [
        "X_train8 = X_train.copy()"
      ],
      "execution_count": null,
      "outputs": []
    },
    {
      "cell_type": "code",
      "metadata": {
        "id": "KtAH7lSEbPyu"
      },
      "source": [
        "pca = PCA(n_components=1).fit(X_train8.loc[:, ['family_size', 'child_num']])\n",
        "\n",
        "X_train8['fc-pca'] = pca.transform(X_train8.loc[:, ['family_size', 'child_num']])\n",
        "X_train8.drop(['family_size', 'child_num'], axis=1, inplace=True)"
      ],
      "execution_count": null,
      "outputs": []
    },
    {
      "cell_type": "code",
      "metadata": {
        "colab": {
          "base_uri": "https://localhost:8080/"
        },
        "id": "3sX7ZOzdb6kD",
        "outputId": "794e350f-77c9-454f-fb20-c8ffc81bc71d"
      },
      "source": [
        "scores = cross_validate(LGBMClassifier(), X_train8, y_train,\n",
        "                        scoring='neg_log_loss', return_train_score = True)\n",
        "scores"
      ],
      "execution_count": null,
      "outputs": [
        {
          "output_type": "execute_result",
          "data": {
            "text/plain": [
              "{'fit_time': array([1.01806879, 0.95372629, 1.01737976, 0.98158693, 0.96076345]),\n",
              " 'score_time': array([0.07166815, 0.07103014, 0.06161547, 0.06137872, 0.05985355]),\n",
              " 'test_score': array([-0.75872168, -0.76171117, -0.7621631 , -0.76089365, -0.75918163]),\n",
              " 'train_score': array([-0.67928098, -0.67754291, -0.67633875, -0.67975345, -0.67712197])}"
            ]
          },
          "metadata": {
            "tags": []
          },
          "execution_count": 21
        }
      ]
    },
    {
      "cell_type": "code",
      "metadata": {
        "colab": {
          "base_uri": "https://localhost:8080/"
        },
        "id": "qm4-wVFGb77a",
        "outputId": "bc09f152-74e6-4e45-d9a1-12350fbfcb7f"
      },
      "source": [
        "np.mean(scores['test_score'])"
      ],
      "execution_count": null,
      "outputs": [
        {
          "output_type": "execute_result",
          "data": {
            "text/plain": [
              "-0.760534246196231"
            ]
          },
          "metadata": {
            "tags": []
          },
          "execution_count": 22
        }
      ]
    },
    {
      "cell_type": "markdown",
      "metadata": {
        "id": "az6QGDK3b-pt"
      },
      "source": [
        "### outlier 처리 후 차원 축소\n",
        "> 위 결과가 좋아서 추가적인 실험을 해본다. `fc` feature가 있는 상태에서 더 좋은 결과가 있었으므로 해당 feature 추가된 상태에서 실험 진행\n"
      ]
    },
    {
      "cell_type": "code",
      "metadata": {
        "colab": {
          "base_uri": "https://localhost:8080/"
        },
        "id": "yTkTAanzdRrW",
        "outputId": "ffeb1c30-8caa-4d60-8114-b4c561d2e87d"
      },
      "source": [
        "f_c_scores = []\n",
        "verbose = True\n",
        "for family_size_cut in range(6 + 1):\n",
        "  for child_num_cut in range(4 + 1):\n",
        "    X_train9 = X_train.copy()\n",
        "    X_train9.loc[X_train9['family_size'] > family_size_cut, 'family_size'] = family_size_cut\n",
        "    X_train9.loc[X_train9['child_num'] > child_num_cut, 'child_num'] = child_num_cut\n",
        "    \n",
        "    pca = PCA(n_components=1).fit(X_train9.loc[:, ['family_size', 'child_num']])\n",
        "    X_train9['fc-pca'] = pca.transform(X_train9.loc[:, ['family_size', 'child_num']])\n",
        "    X_train9.drop(['family_size', 'child_num'], axis=1, inplace=True)\n",
        "\n",
        "    scores = cross_validate(LGBMClassifier(), X_train9, y_train,\n",
        "                        scoring='neg_log_loss', return_train_score = True)\n",
        "    mean_score = np.mean(scores['test_score'])\n",
        "    if verbose:\n",
        "      print(f\"f: {family_size_cut}, c: {child_num_cut} >>> {mean_score}\")\n",
        "    f_c_scores.append([family_size_cut, child_num_cut, mean_score])"
      ],
      "execution_count": null,
      "outputs": [
        {
          "output_type": "stream",
          "text": [
            "/usr/local/lib/python3.7/dist-packages/sklearn/decomposition/_pca.py:545: RuntimeWarning: invalid value encountered in true_divide\n",
            "  self.explained_variance_ / total_var.sum()\n"
          ],
          "name": "stderr"
        },
        {
          "output_type": "stream",
          "text": [
            "f: 0, c: 0 >>> -0.761827307135404\n",
            "f: 0, c: 1 >>> -0.7617770973386897\n",
            "f: 0, c: 2 >>> -0.7605980175723209\n",
            "f: 0, c: 3 >>> -0.7610081945881834\n",
            "f: 0, c: 4 >>> -0.761219668371244\n"
          ],
          "name": "stdout"
        },
        {
          "output_type": "stream",
          "text": [
            "/usr/local/lib/python3.7/dist-packages/sklearn/decomposition/_pca.py:545: RuntimeWarning: invalid value encountered in true_divide\n",
            "  self.explained_variance_ / total_var.sum()\n"
          ],
          "name": "stderr"
        },
        {
          "output_type": "stream",
          "text": [
            "f: 1, c: 0 >>> -0.761827307135404\n",
            "f: 1, c: 1 >>> -0.7617770973386897\n",
            "f: 1, c: 2 >>> -0.7605980175723209\n",
            "f: 1, c: 3 >>> -0.7610081945881834\n",
            "f: 1, c: 4 >>> -0.761219668371244\n",
            "f: 2, c: 0 >>> -0.7625684301044725\n",
            "f: 2, c: 1 >>> -0.7615971940131588\n",
            "f: 2, c: 2 >>> -0.7610315749213907\n",
            "f: 2, c: 3 >>> -0.760468695243959\n",
            "f: 2, c: 4 >>> -0.7610946793121112\n",
            "f: 3, c: 0 >>> -0.7625931219868649\n",
            "f: 3, c: 1 >>> -0.7621868393178346\n",
            "f: 3, c: 2 >>> -0.761018927090302\n",
            "f: 3, c: 3 >>> -0.7605179763336499\n",
            "f: 3, c: 4 >>> -0.7602061397247105\n",
            "f: 4, c: 0 >>> -0.7609521182575179\n",
            "f: 4, c: 1 >>> -0.7607092382634991\n",
            "f: 4, c: 2 >>> -0.7605597999540878\n",
            "f: 4, c: 3 >>> -0.7609823841248061\n",
            "f: 4, c: 4 >>> -0.7601912868737516\n",
            "f: 5, c: 0 >>> -0.7607250255613991\n",
            "f: 5, c: 1 >>> -0.7616307497815447\n",
            "f: 5, c: 2 >>> -0.7606371450658229\n",
            "f: 5, c: 3 >>> -0.7604743669620061\n",
            "f: 5, c: 4 >>> -0.7604454825350792\n",
            "f: 6, c: 0 >>> -0.7606733820640248\n",
            "f: 6, c: 1 >>> -0.760487756542561\n",
            "f: 6, c: 2 >>> -0.7611564828661839\n",
            "f: 6, c: 3 >>> -0.7609031884937945\n",
            "f: 6, c: 4 >>> -0.760534246196231\n"
          ],
          "name": "stdout"
        }
      ]
    },
    {
      "cell_type": "code",
      "metadata": {
        "colab": {
          "base_uri": "https://localhost:8080/"
        },
        "id": "UPiTrMo1eVVZ",
        "outputId": "ca198220-7b11-476a-8266-6800a2e17600"
      },
      "source": [
        "for f_c_score in sorted(f_c_scores,\n",
        "                        key=lambda x: x[2],\n",
        "                        reverse=True):\n",
        "  print(f_c_score)"
      ],
      "execution_count": null,
      "outputs": [
        {
          "output_type": "stream",
          "text": [
            "[4, 4, -0.7601912868737516]\n",
            "[3, 4, -0.7602061397247105]\n",
            "[5, 4, -0.7604454825350792]\n",
            "[2, 3, -0.760468695243959]\n",
            "[5, 3, -0.7604743669620061]\n",
            "[6, 1, -0.760487756542561]\n",
            "[3, 3, -0.7605179763336499]\n",
            "[6, 4, -0.760534246196231]\n",
            "[4, 2, -0.7605597999540878]\n",
            "[0, 2, -0.7605980175723209]\n",
            "[1, 2, -0.7605980175723209]\n",
            "[5, 2, -0.7606371450658229]\n",
            "[6, 0, -0.7606733820640248]\n",
            "[4, 1, -0.7607092382634991]\n",
            "[5, 0, -0.7607250255613991]\n",
            "[6, 3, -0.7609031884937945]\n",
            "[4, 0, -0.7609521182575179]\n",
            "[4, 3, -0.7609823841248061]\n",
            "[0, 3, -0.7610081945881834]\n",
            "[1, 3, -0.7610081945881834]\n",
            "[3, 2, -0.761018927090302]\n",
            "[2, 2, -0.7610315749213907]\n",
            "[2, 4, -0.7610946793121112]\n",
            "[6, 2, -0.7611564828661839]\n",
            "[0, 4, -0.761219668371244]\n",
            "[1, 4, -0.761219668371244]\n",
            "[2, 1, -0.7615971940131588]\n",
            "[5, 1, -0.7616307497815447]\n",
            "[0, 1, -0.7617770973386897]\n",
            "[1, 1, -0.7617770973386897]\n",
            "[0, 0, -0.761827307135404]\n",
            "[1, 0, -0.761827307135404]\n",
            "[3, 1, -0.7621868393178346]\n",
            "[2, 0, -0.7625684301044725]\n",
            "[3, 0, -0.7625931219868649]\n"
          ],
          "name": "stdout"
        }
      ]
    },
    {
      "cell_type": "markdown",
      "metadata": {
        "id": "BTLltfWUfTRY"
      },
      "source": [
        "### `family_size`, `child_num`, `fc` 모두 합쳐 pca\n",
        "> 위 data preprocessing 의 `fc` feature를 추가해준 후 실행해야한다."
      ]
    },
    {
      "cell_type": "code",
      "metadata": {
        "id": "xThb9woWgTAY"
      },
      "source": [
        "X_train10 = X_train.copy()"
      ],
      "execution_count": null,
      "outputs": []
    },
    {
      "cell_type": "code",
      "metadata": {
        "id": "T6tWsVZpgTAa"
      },
      "source": [
        "pca = PCA(n_components=1).fit(X_train10.loc[:, ['family_size', 'child_num', 'fc']])\n",
        "\n",
        "X_train10['fc-pca'] = pca.transform(X_train10.loc[:, ['family_size', 'child_num', 'fc']])\n",
        "X_train10.drop(['family_size', 'child_num', 'fc'], axis=1, inplace=True)"
      ],
      "execution_count": null,
      "outputs": []
    },
    {
      "cell_type": "code",
      "metadata": {
        "colab": {
          "base_uri": "https://localhost:8080/"
        },
        "id": "IXDCPbUWgTAa",
        "outputId": "fece6011-49ec-41e0-8a52-253020a333e6"
      },
      "source": [
        "scores = cross_validate(LGBMClassifier(), X_train10, y_train,\n",
        "                        scoring='neg_log_loss', return_train_score = True)\n",
        "scores"
      ],
      "execution_count": null,
      "outputs": [
        {
          "output_type": "execute_result",
          "data": {
            "text/plain": [
              "{'fit_time': array([0.9714396 , 0.98427534, 0.98744297, 1.00542951, 0.95881343]),\n",
              " 'score_time': array([0.07624555, 0.06928778, 0.07170916, 0.07034445, 0.06896138]),\n",
              " 'test_score': array([-0.7589056 , -0.76187609, -0.76304733, -0.76328032, -0.75832377]),\n",
              " 'train_score': array([-0.67818817, -0.67733292, -0.67682773, -0.68028636, -0.67643711])}"
            ]
          },
          "metadata": {
            "tags": []
          },
          "execution_count": 28
        }
      ]
    },
    {
      "cell_type": "code",
      "metadata": {
        "colab": {
          "base_uri": "https://localhost:8080/"
        },
        "id": "ZYRHuoe9gTAa",
        "outputId": "cb46b921-f03b-4909-afc6-3e5b3cf64d67"
      },
      "source": [
        "np.mean(scores['test_score'])"
      ],
      "execution_count": null,
      "outputs": [
        {
          "output_type": "execute_result",
          "data": {
            "text/plain": [
              "-0.7610866224954469"
            ]
          },
          "metadata": {
            "tags": []
          },
          "execution_count": 29
        }
      ]
    },
    {
      "cell_type": "markdown",
      "metadata": {
        "id": "gTVDEn0cg-l9"
      },
      "source": [
        "#### `family_size`, `child_num` outlier 제거 후 `fc` 모두 합쳐 pca"
      ]
    },
    {
      "cell_type": "code",
      "metadata": {
        "colab": {
          "base_uri": "https://localhost:8080/"
        },
        "id": "rruJ7mrDhE8Q",
        "outputId": "4a4cf5a4-8a33-4b27-c183-bb552550ffcf"
      },
      "source": [
        "f_c_scores = []\n",
        "verbose = True\n",
        "for family_size_cut in range(6 + 1):\n",
        "  for child_num_cut in range(4 + 1):\n",
        "    X_train11 = X_train.copy()\n",
        "    X_train11.loc[X_train11['family_size'] > family_size_cut, 'family_size'] = family_size_cut\n",
        "    X_train11.loc[X_train11['child_num'] > child_num_cut, 'child_num'] = child_num_cut\n",
        "    \n",
        "    pca = PCA(n_components=1).fit(X_train11.loc[:, ['family_size', 'child_num', 'fc']])\n",
        "    X_train11['fc-pca'] = pca.transform(X_train11.loc[:, ['family_size', 'child_num', 'fc']])\n",
        "    X_train11.drop(['family_size', 'child_num', 'fc'], axis=1, inplace=True)\n",
        "\n",
        "    scores = cross_validate(LGBMClassifier(), X_train11, y_train,\n",
        "                        scoring='neg_log_loss', return_train_score = True)\n",
        "    mean_score = np.mean(scores['test_score'])\n",
        "    if verbose:\n",
        "      print(f\"f: {family_size_cut}, c: {child_num_cut} >>> {mean_score}\")\n",
        "    f_c_scores.append([family_size_cut, child_num_cut, mean_score])"
      ],
      "execution_count": null,
      "outputs": [
        {
          "output_type": "stream",
          "text": [
            "f: 0, c: 0 >>> -0.7618298668020479\n",
            "f: 0, c: 1 >>> -0.7614232348113211\n",
            "f: 0, c: 2 >>> -0.7605454500078801\n",
            "f: 0, c: 3 >>> -0.7607741768584266\n",
            "f: 0, c: 4 >>> -0.7604711560721625\n",
            "f: 1, c: 0 >>> -0.7618298668020479\n",
            "f: 1, c: 1 >>> -0.7614232348113211\n",
            "f: 1, c: 2 >>> -0.7605454500078801\n",
            "f: 1, c: 3 >>> -0.7607741768584266\n",
            "f: 1, c: 4 >>> -0.7604711560721625\n",
            "f: 2, c: 0 >>> -0.7625624014218928\n",
            "f: 2, c: 1 >>> -0.7625620170251575\n",
            "f: 2, c: 2 >>> -0.7610771356149122\n",
            "f: 2, c: 3 >>> -0.7606100476266411\n",
            "f: 2, c: 4 >>> -0.7610827325272145\n",
            "f: 3, c: 0 >>> -0.7623271676752111\n",
            "f: 3, c: 1 >>> -0.7612095793453415\n",
            "f: 3, c: 2 >>> -0.7612702314760134\n",
            "f: 3, c: 3 >>> -0.7606316884399701\n",
            "f: 3, c: 4 >>> -0.7600580763343784\n",
            "f: 4, c: 0 >>> -0.761378730216034\n",
            "f: 4, c: 1 >>> -0.760361712706606\n",
            "f: 4, c: 2 >>> -0.7604649642691491\n",
            "f: 4, c: 3 >>> -0.7606316884399701\n",
            "f: 4, c: 4 >>> -0.7600580763343784\n",
            "f: 5, c: 0 >>> -0.7612052812590567\n",
            "f: 5, c: 1 >>> -0.7611781161247394\n",
            "f: 5, c: 2 >>> -0.7613626118477255\n",
            "f: 5, c: 3 >>> -0.7605177956886361\n",
            "f: 5, c: 4 >>> -0.7600580763343784\n",
            "f: 6, c: 0 >>> -0.7609073473004726\n",
            "f: 6, c: 1 >>> -0.7615265868382421\n",
            "f: 6, c: 2 >>> -0.7601985900920513\n",
            "f: 6, c: 3 >>> -0.7606918294157344\n",
            "f: 6, c: 4 >>> -0.7600580763343784\n"
          ],
          "name": "stdout"
        }
      ]
    },
    {
      "cell_type": "code",
      "metadata": {
        "colab": {
          "base_uri": "https://localhost:8080/"
        },
        "id": "pWDrlGEGgoYQ",
        "outputId": "cb7e6252-a40b-41ad-d140-a4785e53227f"
      },
      "source": [
        "for f_c_score in sorted(f_c_scores,\n",
        "                        key=lambda x: x[2],\n",
        "                        reverse=True):\n",
        "  print(f_c_score)"
      ],
      "execution_count": null,
      "outputs": [
        {
          "output_type": "stream",
          "text": [
            "[3, 4, -0.7600580763343784]\n",
            "[4, 4, -0.7600580763343784]\n",
            "[5, 4, -0.7600580763343784]\n",
            "[6, 4, -0.7600580763343784]\n",
            "[6, 2, -0.7601985900920513]\n",
            "[4, 1, -0.760361712706606]\n",
            "[4, 2, -0.7604649642691491]\n",
            "[0, 4, -0.7604711560721625]\n",
            "[1, 4, -0.7604711560721625]\n",
            "[5, 3, -0.7605177956886361]\n",
            "[0, 2, -0.7605454500078801]\n",
            "[1, 2, -0.7605454500078801]\n",
            "[2, 3, -0.7606100476266411]\n",
            "[3, 3, -0.7606316884399701]\n",
            "[4, 3, -0.7606316884399701]\n",
            "[6, 3, -0.7606918294157344]\n",
            "[0, 3, -0.7607741768584266]\n",
            "[1, 3, -0.7607741768584266]\n",
            "[6, 0, -0.7609073473004726]\n",
            "[2, 2, -0.7610771356149122]\n",
            "[2, 4, -0.7610827325272145]\n",
            "[5, 1, -0.7611781161247394]\n",
            "[5, 0, -0.7612052812590567]\n",
            "[3, 1, -0.7612095793453415]\n",
            "[3, 2, -0.7612702314760134]\n",
            "[5, 2, -0.7613626118477255]\n",
            "[4, 0, -0.761378730216034]\n",
            "[0, 1, -0.7614232348113211]\n",
            "[1, 1, -0.7614232348113211]\n",
            "[6, 1, -0.7615265868382421]\n",
            "[0, 0, -0.7618298668020479]\n",
            "[1, 0, -0.7618298668020479]\n",
            "[3, 0, -0.7623271676752111]\n",
            "[2, 1, -0.7625620170251575]\n",
            "[2, 0, -0.7625624014218928]\n"
          ],
          "name": "stdout"
        }
      ]
    },
    {
      "cell_type": "markdown",
      "metadata": {
        "id": "4AKGJgYiiXRJ"
      },
      "source": [
        "## `fc` outlier\n",
        "> 0, -1 값을 없앤다.\n",
        "- 0, -1 값을 없애본다\n",
        "  - 성능에는 영향이 없었으나 너무 적으므로 없애는 것이 좋을 것 같다.\n",
        "- `family_size`, `child_num` outlier 제거한 feature로 `fc` 생성해본다 - 성능 저하\n"
      ]
    },
    {
      "cell_type": "code",
      "metadata": {
        "colab": {
          "base_uri": "https://localhost:8080/"
        },
        "id": "w6T0qYyG-bGs",
        "outputId": "912785d3-ba05-4c62-fb3e-556a3624a826"
      },
      "source": [
        "X_train['fc'].value_counts()"
      ],
      "execution_count": null,
      "outputs": [
        {
          "output_type": "execute_result",
          "data": {
            "text/plain": [
              " 2.0    20331\n",
              " 1.0     6120\n",
              " 0.0        5\n",
              "-1.0        1\n",
              "Name: fc, dtype: int64"
            ]
          },
          "metadata": {
            "tags": []
          },
          "execution_count": 13
        }
      ]
    },
    {
      "cell_type": "code",
      "metadata": {
        "colab": {
          "base_uri": "https://localhost:8080/"
        },
        "id": "fcTUSkon-f-k",
        "outputId": "4a172402-56df-403c-d490-8008e0aefe29"
      },
      "source": [
        "fc_scores = []\n",
        "verbose = True\n",
        "family_size_cut = 6\n",
        "child_num_cut = 4\n",
        "\n",
        "for fc_cut in range(1 + 1):\n",
        "  X_train12 = X_train.copy()\n",
        "  X_train12.loc[X_train12['fc'] < fc_cut, 'fc'] = fc_cut\n",
        "  X_train12.loc[X_train12['family_size'] > family_size_cut, 'family_size'] = family_size_cut\n",
        "  X_train12.loc[X_train12['child_num'] > child_num_cut, 'child_num'] = child_num_cut\n",
        "\n",
        "  \n",
        "  pca = PCA(n_components=1).fit(X_train12.loc[:, ['family_size', 'child_num', 'fc']])\n",
        "  X_train12['fc-pca'] = pca.transform(X_train12.loc[:, ['family_size', 'child_num', 'fc']])\n",
        "  X_train12.drop(['family_size', 'child_num', 'fc'], axis=1, inplace=True)\n",
        "\n",
        "  scores = cross_validate(LGBMClassifier(), X_train12, y_train,\n",
        "                      scoring='neg_log_loss', return_train_score = True)\n",
        "  mean_score = np.mean(scores['test_score'])\n",
        "  if verbose:\n",
        "    print(f\"f_cut: {family_size_cut}, c_cut: {child_num_cut}, fc_cut: {fc_cut} >>> {mean_score}\")\n",
        "  fc_scores.append([fc_cut, mean_score])"
      ],
      "execution_count": 17,
      "outputs": [
        {
          "output_type": "stream",
          "text": [
            "f_cut: 6, c_cut: 4, fc_cut: 0 >>> -0.7602282929809074\n",
            "f_cut: 6, c_cut: 4, fc_cut: 1 >>> -0.7602282929809074\n"
          ],
          "name": "stdout"
        }
      ]
    },
    {
      "cell_type": "code",
      "metadata": {
        "colab": {
          "base_uri": "https://localhost:8080/"
        },
        "id": "DiLnU-Xj_tMZ",
        "outputId": "24558391-3720-4b3b-fbdd-7102bdd89fcd"
      },
      "source": [
        "fc_scores = []\n",
        "verbose = True\n",
        "family_size_cut = 6\n",
        "child_num_cut = 4\n",
        "\n",
        "X_train12 = X_train.copy()\n",
        "X_train12.loc[X_train12['family_size'] > family_size_cut, 'family_size'] = family_size_cut\n",
        "X_train12.loc[X_train12['child_num'] > child_num_cut, 'child_num'] = child_num_cut\n",
        "X_train12['fc'] = X_train12['family_size'] - X_train12['child_num']\n",
        "\n",
        "\n",
        "pca = PCA(n_components=1).fit(X_train12.loc[:, ['family_size', 'child_num', 'fc']])\n",
        "X_train12['fc-pca'] = pca.transform(X_train12.loc[:, ['family_size', 'child_num', 'fc']])\n",
        "X_train12.drop(['family_size', 'child_num', 'fc'], axis=1, inplace=True)\n",
        "\n",
        "scores = cross_validate(LGBMClassifier(), X_train12, y_train,\n",
        "                    scoring='neg_log_loss', return_train_score = True)\n",
        "scores"
      ],
      "execution_count": null,
      "outputs": [
        {
          "output_type": "execute_result",
          "data": {
            "text/plain": [
              "{'fit_time': array([0.95069242, 0.87520242, 0.88980675, 0.85541773, 0.85921788]),\n",
              " 'score_time': array([0.05568337, 0.06675601, 0.05874467, 0.05781913, 0.06091022]),\n",
              " 'test_score': array([-0.7589056 , -0.76187609, -0.76304733, -0.76328032, -0.75832377]),\n",
              " 'train_score': array([-0.67818817, -0.67733292, -0.67682773, -0.68028636, -0.67643711])}"
            ]
          },
          "metadata": {
            "tags": []
          },
          "execution_count": 19
        }
      ]
    },
    {
      "cell_type": "code",
      "metadata": {
        "colab": {
          "base_uri": "https://localhost:8080/"
        },
        "id": "2g3tf6lSErul",
        "outputId": "5339b879-ed7d-4702-db78-beb9d1394b69"
      },
      "source": [
        "np.mean(scores['test_score'])"
      ],
      "execution_count": null,
      "outputs": [
        {
          "output_type": "execute_result",
          "data": {
            "text/plain": [
              "-0.7610866224954469"
            ]
          },
          "metadata": {
            "tags": []
          },
          "execution_count": 20
        }
      ]
    },
    {
      "cell_type": "code",
      "metadata": {
        "id": "CqSQVA8qcrja",
        "outputId": "f07a4095-e3fd-4a71-c84d-065406ba35e7",
        "colab": {
          "base_uri": "https://localhost:8080/"
        }
      },
      "source": [
        "fc_scores = []\n",
        "verbose = True\n",
        "family_size_cut = 6\n",
        "child_num_cut = 4\n",
        "fc_cut = 1\n",
        "\n",
        "X_train12 = X_train.copy()\n",
        "X_train12.loc[X_train12['fc'] < fc_cut, 'fc'] = fc_cut\n",
        "X_train12.loc[X_train12['family_size'] > family_size_cut, 'family_size'] = family_size_cut\n",
        "X_train12.loc[X_train12['child_num'] > child_num_cut, 'child_num'] = child_num_cut\n",
        "X_train12['fc'] -= 1\n",
        "\n",
        "pca = PCA(n_components=1).fit(X_train12.loc[:, ['family_size', 'child_num', 'fc']])\n",
        "X_train12['fc-pca'] = pca.transform(X_train12.loc[:, ['family_size', 'child_num', 'fc']])\n",
        "X_train12.drop(['family_size', 'child_num', 'fc'], axis=1, inplace=True)\n",
        "\n",
        "scores = cross_validate(LGBMClassifier(), X_train12, y_train,\n",
        "                    scoring='neg_log_loss', return_train_score = True)\n",
        "scores"
      ],
      "execution_count": 19,
      "outputs": [
        {
          "output_type": "execute_result",
          "data": {
            "text/plain": [
              "{'fit_time': array([0.91905665, 0.88347316, 0.89303112, 0.86074018, 0.8688159 ]),\n",
              " 'score_time': array([0.06033993, 0.06833315, 0.06067729, 0.0599575 , 0.05946851]),\n",
              " 'test_score': array([-0.75840581, -0.76172716, -0.76034956, -0.76181151, -0.75884743]),\n",
              " 'train_score': array([-0.67829986, -0.67840645, -0.67451047, -0.68036836, -0.67653073])}"
            ]
          },
          "metadata": {
            "tags": []
          },
          "execution_count": 19
        }
      ]
    },
    {
      "cell_type": "code",
      "metadata": {
        "id": "S1YwVCEPdwb5",
        "outputId": "5e2a73aa-a8b5-40ed-f434-a598dcf96fb1",
        "colab": {
          "base_uri": "https://localhost:8080/"
        }
      },
      "source": [
        "np.mean(scores['test_score'])"
      ],
      "execution_count": 20,
      "outputs": [
        {
          "output_type": "execute_result",
          "data": {
            "text/plain": [
              "-0.7602282929809074"
            ]
          },
          "metadata": {
            "tags": []
          },
          "execution_count": 20
        }
      ]
    },
    {
      "cell_type": "code",
      "metadata": {
        "id": "M1zFxOXMd3vL"
      },
      "source": [
        ""
      ],
      "execution_count": null,
      "outputs": []
    }
  ]
}
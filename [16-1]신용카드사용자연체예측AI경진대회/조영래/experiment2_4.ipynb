{
  "nbformat": 4,
  "nbformat_minor": 0,
  "metadata": {
    "colab": {
      "name": "experiment2-4",
      "provenance": [],
      "collapsed_sections": []
    },
    "kernelspec": {
      "name": "python3",
      "display_name": "Python 3"
    },
    "language_info": {
      "name": "python"
    }
  },
  "cells": [
    {
      "cell_type": "markdown",
      "metadata": {
        "id": "NSlr76t9Y5ir"
      },
      "source": [
        "# Experiment 2-5\n",
        "> `family_size`, `child_num` 은 거의 유사한 값을 가진다. 위 두 feature를 이용한 실험\n",
        "- outlier처리\n",
        "- drop\n",
        "- 위 둘 중 성능이 좋아진 것이 있다면 거기에 `family_size` - `child_num` feature를 추가해보자\n",
        "  "
      ]
    },
    {
      "cell_type": "code",
      "metadata": {
        "colab": {
          "base_uri": "https://localhost:8080/"
        },
        "id": "H2UkUxOoQDTr",
        "outputId": "188eb2d5-5ff4-44d9-ad88-39b5ca206953"
      },
      "source": [
        "from urllib.request import urlretrieve\n",
        "\n",
        "urlretrieve('https://drive.google.com/uc?export=download&id=1XLVFI_sK0smRVVuT8XU2s-M3lJT-68sN', './open.zip')"
      ],
      "execution_count": 173,
      "outputs": [
        {
          "output_type": "execute_result",
          "data": {
            "text/plain": [
              "('./open.zip', <http.client.HTTPMessage at 0x7fbadda78c90>)"
            ]
          },
          "metadata": {
            "tags": []
          },
          "execution_count": 173
        }
      ]
    },
    {
      "cell_type": "code",
      "metadata": {
        "colab": {
          "base_uri": "https://localhost:8080/"
        },
        "id": "ALLntUGhR3rR",
        "outputId": "9c80dd72-4973-4d96-f9b6-383166f25af7"
      },
      "source": [
        "!unzip ./open.zip"
      ],
      "execution_count": 174,
      "outputs": [
        {
          "output_type": "stream",
          "text": [
            "Archive:  ./open.zip\n",
            "replace open/train.csv? [y]es, [n]o, [A]ll, [N]one, [r]ename: A\n",
            "  inflating: open/train.csv          \n",
            "  inflating: open/sample_submission.csv  \n",
            "  inflating: open/test.csv           \n"
          ],
          "name": "stdout"
        }
      ]
    },
    {
      "cell_type": "code",
      "metadata": {
        "id": "wb31kvAgSJFu"
      },
      "source": [
        "import numpy as np\n",
        "import pandas as pd\n",
        "import matplotlib.pyplot as plt\n",
        "import seaborn as sns\n",
        "from lightgbm import LGBMClassifier\n",
        "from sklearn.preprocessing import OneHotEncoder, OrdinalEncoder\n",
        "from sklearn.model_selection import cross_validate"
      ],
      "execution_count": 175,
      "outputs": []
    },
    {
      "cell_type": "code",
      "metadata": {
        "id": "IfLd2b88SYxr"
      },
      "source": [
        "train = pd.read_csv('./open/train.csv')\n",
        "test = pd.read_csv('./open/test.csv')"
      ],
      "execution_count": 259,
      "outputs": []
    },
    {
      "cell_type": "code",
      "metadata": {
        "colab": {
          "base_uri": "https://localhost:8080/"
        },
        "id": "UlRHoPzQA1Dj",
        "outputId": "b0b94de5-e6dc-42cc-c23e-960d48d334af"
      },
      "source": [
        "train.info()"
      ],
      "execution_count": 260,
      "outputs": [
        {
          "output_type": "stream",
          "text": [
            "<class 'pandas.core.frame.DataFrame'>\n",
            "RangeIndex: 26457 entries, 0 to 26456\n",
            "Data columns (total 20 columns):\n",
            " #   Column         Non-Null Count  Dtype  \n",
            "---  ------         --------------  -----  \n",
            " 0   index          26457 non-null  int64  \n",
            " 1   gender         26457 non-null  object \n",
            " 2   car            26457 non-null  object \n",
            " 3   reality        26457 non-null  object \n",
            " 4   child_num      26457 non-null  int64  \n",
            " 5   income_total   26457 non-null  float64\n",
            " 6   income_type    26457 non-null  object \n",
            " 7   edu_type       26457 non-null  object \n",
            " 8   family_type    26457 non-null  object \n",
            " 9   house_type     26457 non-null  object \n",
            " 10  DAYS_BIRTH     26457 non-null  int64  \n",
            " 11  DAYS_EMPLOYED  26457 non-null  int64  \n",
            " 12  FLAG_MOBIL     26457 non-null  int64  \n",
            " 13  work_phone     26457 non-null  int64  \n",
            " 14  phone          26457 non-null  int64  \n",
            " 15  email          26457 non-null  int64  \n",
            " 16  occyp_type     18286 non-null  object \n",
            " 17  family_size    26457 non-null  float64\n",
            " 18  begin_month    26457 non-null  float64\n",
            " 19  credit         26457 non-null  float64\n",
            "dtypes: float64(4), int64(8), object(8)\n",
            "memory usage: 4.0+ MB\n"
          ],
          "name": "stdout"
        }
      ]
    },
    {
      "cell_type": "code",
      "metadata": {
        "colab": {
          "base_uri": "https://localhost:8080/",
          "height": 377
        },
        "id": "5Mv8hfG0-wUg",
        "outputId": "9b85efcf-1846-4dcb-854c-1bf7ae3f6104"
      },
      "source": [
        "train.head()"
      ],
      "execution_count": 261,
      "outputs": [
        {
          "output_type": "execute_result",
          "data": {
            "text/html": [
              "<div>\n",
              "<style scoped>\n",
              "    .dataframe tbody tr th:only-of-type {\n",
              "        vertical-align: middle;\n",
              "    }\n",
              "\n",
              "    .dataframe tbody tr th {\n",
              "        vertical-align: top;\n",
              "    }\n",
              "\n",
              "    .dataframe thead th {\n",
              "        text-align: right;\n",
              "    }\n",
              "</style>\n",
              "<table border=\"1\" class=\"dataframe\">\n",
              "  <thead>\n",
              "    <tr style=\"text-align: right;\">\n",
              "      <th></th>\n",
              "      <th>index</th>\n",
              "      <th>gender</th>\n",
              "      <th>car</th>\n",
              "      <th>reality</th>\n",
              "      <th>child_num</th>\n",
              "      <th>income_total</th>\n",
              "      <th>income_type</th>\n",
              "      <th>edu_type</th>\n",
              "      <th>family_type</th>\n",
              "      <th>house_type</th>\n",
              "      <th>DAYS_BIRTH</th>\n",
              "      <th>DAYS_EMPLOYED</th>\n",
              "      <th>FLAG_MOBIL</th>\n",
              "      <th>work_phone</th>\n",
              "      <th>phone</th>\n",
              "      <th>email</th>\n",
              "      <th>occyp_type</th>\n",
              "      <th>family_size</th>\n",
              "      <th>begin_month</th>\n",
              "      <th>credit</th>\n",
              "    </tr>\n",
              "  </thead>\n",
              "  <tbody>\n",
              "    <tr>\n",
              "      <th>0</th>\n",
              "      <td>0</td>\n",
              "      <td>F</td>\n",
              "      <td>N</td>\n",
              "      <td>N</td>\n",
              "      <td>0</td>\n",
              "      <td>202500.0</td>\n",
              "      <td>Commercial associate</td>\n",
              "      <td>Higher education</td>\n",
              "      <td>Married</td>\n",
              "      <td>Municipal apartment</td>\n",
              "      <td>-13899</td>\n",
              "      <td>-4709</td>\n",
              "      <td>1</td>\n",
              "      <td>0</td>\n",
              "      <td>0</td>\n",
              "      <td>0</td>\n",
              "      <td>NaN</td>\n",
              "      <td>2.0</td>\n",
              "      <td>-6.0</td>\n",
              "      <td>1.0</td>\n",
              "    </tr>\n",
              "    <tr>\n",
              "      <th>1</th>\n",
              "      <td>1</td>\n",
              "      <td>F</td>\n",
              "      <td>N</td>\n",
              "      <td>Y</td>\n",
              "      <td>1</td>\n",
              "      <td>247500.0</td>\n",
              "      <td>Commercial associate</td>\n",
              "      <td>Secondary / secondary special</td>\n",
              "      <td>Civil marriage</td>\n",
              "      <td>House / apartment</td>\n",
              "      <td>-11380</td>\n",
              "      <td>-1540</td>\n",
              "      <td>1</td>\n",
              "      <td>0</td>\n",
              "      <td>0</td>\n",
              "      <td>1</td>\n",
              "      <td>Laborers</td>\n",
              "      <td>3.0</td>\n",
              "      <td>-5.0</td>\n",
              "      <td>1.0</td>\n",
              "    </tr>\n",
              "    <tr>\n",
              "      <th>2</th>\n",
              "      <td>2</td>\n",
              "      <td>M</td>\n",
              "      <td>Y</td>\n",
              "      <td>Y</td>\n",
              "      <td>0</td>\n",
              "      <td>450000.0</td>\n",
              "      <td>Working</td>\n",
              "      <td>Higher education</td>\n",
              "      <td>Married</td>\n",
              "      <td>House / apartment</td>\n",
              "      <td>-19087</td>\n",
              "      <td>-4434</td>\n",
              "      <td>1</td>\n",
              "      <td>0</td>\n",
              "      <td>1</td>\n",
              "      <td>0</td>\n",
              "      <td>Managers</td>\n",
              "      <td>2.0</td>\n",
              "      <td>-22.0</td>\n",
              "      <td>2.0</td>\n",
              "    </tr>\n",
              "    <tr>\n",
              "      <th>3</th>\n",
              "      <td>3</td>\n",
              "      <td>F</td>\n",
              "      <td>N</td>\n",
              "      <td>Y</td>\n",
              "      <td>0</td>\n",
              "      <td>202500.0</td>\n",
              "      <td>Commercial associate</td>\n",
              "      <td>Secondary / secondary special</td>\n",
              "      <td>Married</td>\n",
              "      <td>House / apartment</td>\n",
              "      <td>-15088</td>\n",
              "      <td>-2092</td>\n",
              "      <td>1</td>\n",
              "      <td>0</td>\n",
              "      <td>1</td>\n",
              "      <td>0</td>\n",
              "      <td>Sales staff</td>\n",
              "      <td>2.0</td>\n",
              "      <td>-37.0</td>\n",
              "      <td>0.0</td>\n",
              "    </tr>\n",
              "    <tr>\n",
              "      <th>4</th>\n",
              "      <td>4</td>\n",
              "      <td>F</td>\n",
              "      <td>Y</td>\n",
              "      <td>Y</td>\n",
              "      <td>0</td>\n",
              "      <td>157500.0</td>\n",
              "      <td>State servant</td>\n",
              "      <td>Higher education</td>\n",
              "      <td>Married</td>\n",
              "      <td>House / apartment</td>\n",
              "      <td>-15037</td>\n",
              "      <td>-2105</td>\n",
              "      <td>1</td>\n",
              "      <td>0</td>\n",
              "      <td>0</td>\n",
              "      <td>0</td>\n",
              "      <td>Managers</td>\n",
              "      <td>2.0</td>\n",
              "      <td>-26.0</td>\n",
              "      <td>2.0</td>\n",
              "    </tr>\n",
              "  </tbody>\n",
              "</table>\n",
              "</div>"
            ],
            "text/plain": [
              "   index gender car reality  ...   occyp_type  family_size begin_month credit\n",
              "0      0      F   N       N  ...          NaN          2.0        -6.0    1.0\n",
              "1      1      F   N       Y  ...     Laborers          3.0        -5.0    1.0\n",
              "2      2      M   Y       Y  ...     Managers          2.0       -22.0    2.0\n",
              "3      3      F   N       Y  ...  Sales staff          2.0       -37.0    0.0\n",
              "4      4      F   Y       Y  ...     Managers          2.0       -26.0    2.0\n",
              "\n",
              "[5 rows x 20 columns]"
            ]
          },
          "metadata": {
            "tags": []
          },
          "execution_count": 261
        }
      ]
    },
    {
      "cell_type": "markdown",
      "metadata": {
        "id": "L2SFbfl40Ze4"
      },
      "source": [
        "## Data Preprocessing"
      ]
    },
    {
      "cell_type": "code",
      "metadata": {
        "id": "QE7vr4f1o-i5"
      },
      "source": [
        "train.fillna('NAN', inplace=True)\n",
        "test.fillna('NAN', inplace=True)"
      ],
      "execution_count": 262,
      "outputs": []
    },
    {
      "cell_type": "code",
      "metadata": {
        "id": "KQtXXXlD5mVr"
      },
      "source": [
        "train.drop('index', axis=1, inplace=True)\n",
        "test.drop('index', axis=1, inplace=True)"
      ],
      "execution_count": 263,
      "outputs": []
    },
    {
      "cell_type": "code",
      "metadata": {
        "id": "Tvgx3OeBVwZa"
      },
      "source": [
        "train.drop('FLAG_MOBIL', axis=1, inplace=True)\n",
        "test.drop('FLAG_MOBIL', axis=1, inplace=True)"
      ],
      "execution_count": 264,
      "outputs": []
    },
    {
      "cell_type": "code",
      "metadata": {
        "id": "s-MAfspQDhHi"
      },
      "source": [
        "binary_col = ['gender',\n",
        "              'car',\n",
        "              'reality']\n",
        "\n",
        "binary_encoder = OrdinalEncoder(categories=[['F', 'M'],\n",
        "                                            ['N', 'Y'],\n",
        "                                            ['N', 'Y']],\n",
        "                                dtype=np.int8)\\\n",
        "                              .fit(train.loc[:,binary_col])\n",
        "\n",
        "train.loc[:,binary_col] = binary_encoder.transform(train.loc[:,binary_col])"
      ],
      "execution_count": 265,
      "outputs": []
    },
    {
      "cell_type": "code",
      "metadata": {
        "colab": {
          "base_uri": "https://localhost:8080/"
        },
        "id": "swoXDussGhV4",
        "outputId": "30e5fa2e-f8de-4d8d-ea7b-39e0fb4624d0"
      },
      "source": [
        "train.info()"
      ],
      "execution_count": 266,
      "outputs": [
        {
          "output_type": "stream",
          "text": [
            "<class 'pandas.core.frame.DataFrame'>\n",
            "RangeIndex: 26457 entries, 0 to 26456\n",
            "Data columns (total 18 columns):\n",
            " #   Column         Non-Null Count  Dtype  \n",
            "---  ------         --------------  -----  \n",
            " 0   gender         26457 non-null  int64  \n",
            " 1   car            26457 non-null  int64  \n",
            " 2   reality        26457 non-null  int64  \n",
            " 3   child_num      26457 non-null  int64  \n",
            " 4   income_total   26457 non-null  float64\n",
            " 5   income_type    26457 non-null  object \n",
            " 6   edu_type       26457 non-null  object \n",
            " 7   family_type    26457 non-null  object \n",
            " 8   house_type     26457 non-null  object \n",
            " 9   DAYS_BIRTH     26457 non-null  int64  \n",
            " 10  DAYS_EMPLOYED  26457 non-null  int64  \n",
            " 11  work_phone     26457 non-null  int64  \n",
            " 12  phone          26457 non-null  int64  \n",
            " 13  email          26457 non-null  int64  \n",
            " 14  occyp_type     26457 non-null  object \n",
            " 15  family_size    26457 non-null  float64\n",
            " 16  begin_month    26457 non-null  float64\n",
            " 17  credit         26457 non-null  float64\n",
            "dtypes: float64(4), int64(9), object(5)\n",
            "memory usage: 3.6+ MB\n"
          ],
          "name": "stdout"
        }
      ]
    },
    {
      "cell_type": "code",
      "metadata": {
        "id": "Llc8ixuXnbET"
      },
      "source": [
        "onehot_col = ['income_type',\n",
        "              'edu_type',\n",
        "              'family_type',\n",
        "              'house_type',\n",
        "              'occyp_type']\n",
        "\n",
        "\n",
        "onehot_encoder = OneHotEncoder()\n",
        "onehot_encoder.fit(train.loc[:,onehot_col])\n",
        "\n",
        "\n",
        "train_onehot_df = pd.DataFrame(onehot_encoder.transform(train.loc[:,onehot_col]).toarray(), \n",
        "             columns=onehot_encoder.get_feature_names(onehot_col))\n",
        "train.drop(onehot_col, axis=1, inplace=True)\n",
        "train = pd.concat([train, train_onehot_df], axis=1)"
      ],
      "execution_count": 267,
      "outputs": []
    },
    {
      "cell_type": "code",
      "metadata": {
        "id": "hi2vjBDN2zZF"
      },
      "source": [
        "X_train = train.drop('credit', axis=1)\n",
        "y_train = train['credit']"
      ],
      "execution_count": 268,
      "outputs": []
    },
    {
      "cell_type": "code",
      "metadata": {
        "id": "lmgMUhstCTeL"
      },
      "source": [
        "# 아래 md에 기록되어있는 것은 이 feature 없이 학습한 것\n",
        "# 아무 처리 없이 이 피처를 추가했을 때 성능이 향상 되었으므로 추가해본다\n",
        "X_train['fc'] = X_train['family_size'] - X_train['child_num']"
      ],
      "execution_count": 269,
      "outputs": []
    },
    {
      "cell_type": "markdown",
      "metadata": {
        "id": "XjEkuo6fnMY8"
      },
      "source": [
        "## outlier 처리"
      ]
    },
    {
      "cell_type": "markdown",
      "metadata": {
        "id": "s4gqTAIwe4KG"
      },
      "source": [
        "### `child_num`\n",
        "- 4: 0.7611898663220819\n",
        "- 3: 0.7606424909637512\n",
        "- 2: 0.7608976274578698\n",
        "- 1: 0.7599246928293375"
      ]
    },
    {
      "cell_type": "code",
      "metadata": {
        "colab": {
          "base_uri": "https://localhost:8080/"
        },
        "id": "sJhoOoGlbx3m",
        "outputId": "9621b861-dc3d-4126-ebfc-43d8e202d3da"
      },
      "source": [
        "X_train['child_num'].value_counts()"
      ],
      "execution_count": 270,
      "outputs": [
        {
          "output_type": "execute_result",
          "data": {
            "text/plain": [
              "0     18340\n",
              "1      5386\n",
              "2      2362\n",
              "3       306\n",
              "4        47\n",
              "5        10\n",
              "14        3\n",
              "7         2\n",
              "19        1\n",
              "Name: child_num, dtype: int64"
            ]
          },
          "metadata": {
            "tags": []
          },
          "execution_count": 270
        }
      ]
    },
    {
      "cell_type": "code",
      "metadata": {
        "colab": {
          "base_uri": "https://localhost:8080/"
        },
        "id": "YLSidw9LET-q",
        "outputId": "0f462c69-5137-4bac-ce04-1e614bde77d3"
      },
      "source": [
        "for child_num_cut in range(4 + 1):\n",
        "  X_train1 = X_train.copy()\n",
        "  X_train1.loc[X_train1['child_num'] > child_num_cut, 'child_num'] = child_num_cut\n",
        "  scores = cross_validate(LGBMClassifier(), X_train1, y_train,\n",
        "                        scoring='neg_log_loss', return_train_score = True)\n",
        "  mean_score = np.mean(scores['test_score'])\n",
        "  print(f\"c: {child_num_cut} >>> {mean_score}\")"
      ],
      "execution_count": 271,
      "outputs": [
        {
          "output_type": "stream",
          "text": [
            "c: 0 >>> -0.7606751978574816\n",
            "c: 1 >>> -0.7611189418990956\n",
            "c: 2 >>> -0.7611066439833934\n",
            "c: 3 >>> -0.7602247936797507\n",
            "c: 4 >>> -0.7607514496600121\n"
          ],
          "name": "stdout"
        }
      ]
    },
    {
      "cell_type": "markdown",
      "metadata": {
        "id": "iav1UGC-fDKB"
      },
      "source": [
        "### `family_size`\n",
        "- 6: 0.7611898663220819\n",
        "- 5: 0.7608417340664374\n",
        "- 4: 0.760812025635077\n",
        "- 3: 0.760449725108483\n",
        "- 2: 0.7612701386832864\n",
        "\n"
      ]
    },
    {
      "cell_type": "code",
      "metadata": {
        "colab": {
          "base_uri": "https://localhost:8080/"
        },
        "id": "fS8OsMElfDKC",
        "outputId": "6339acf9-c111-432d-e51a-3b352b7a7435"
      },
      "source": [
        "X_train['family_size'].value_counts()"
      ],
      "execution_count": 272,
      "outputs": [
        {
          "output_type": "execute_result",
          "data": {
            "text/plain": [
              "2.0     14106\n",
              "1.0      5109\n",
              "3.0      4632\n",
              "4.0      2260\n",
              "5.0       291\n",
              "6.0        44\n",
              "7.0         9\n",
              "15.0        3\n",
              "9.0         2\n",
              "20.0        1\n",
              "Name: family_size, dtype: int64"
            ]
          },
          "metadata": {
            "tags": []
          },
          "execution_count": 272
        }
      ]
    },
    {
      "cell_type": "code",
      "metadata": {
        "colab": {
          "base_uri": "https://localhost:8080/"
        },
        "id": "T-qixrN3D_IR",
        "outputId": "29c6bb85-d429-42ca-e777-24cb066f5e20"
      },
      "source": [
        "for family_size_cut in range(6 + 1):\n",
        "  X_train2 = X_train.copy()\n",
        "  X_train2.loc[X_train2['family_size'] > family_size_cut, 'family_size'] = family_size_cut\n",
        "  scores = cross_validate(LGBMClassifier(), X_train2, y_train,\n",
        "                        scoring='neg_log_loss', return_train_score = True)\n",
        "  mean_score = np.mean(scores['test_score'])\n",
        "  print(f\"f: {family_size_cut} >>> {mean_score}\")"
      ],
      "execution_count": 273,
      "outputs": [
        {
          "output_type": "stream",
          "text": [
            "f: 0 >>> -0.761219668371244\n",
            "f: 1 >>> -0.761219668371244\n",
            "f: 2 >>> -0.7613133737958269\n",
            "f: 3 >>> -0.7604942631590917\n",
            "f: 4 >>> -0.7604917575600143\n",
            "f: 5 >>> -0.7611038966473103\n",
            "f: 6 >>> -0.7607514496600121\n"
          ],
          "name": "stdout"
        }
      ]
    },
    {
      "cell_type": "markdown",
      "metadata": {
        "id": "XlHZXfBwinfX"
      },
      "source": [
        "### `family_size`, `child_num`\n",
        "\n"
      ]
    },
    {
      "cell_type": "code",
      "metadata": {
        "colab": {
          "base_uri": "https://localhost:8080/"
        },
        "id": "bSzXfFH-i0Nz",
        "outputId": "63df7d5a-1a33-4c7e-85ac-24c900e98845"
      },
      "source": [
        "f_c_scores = []\n",
        "verbose = True\n",
        "for family_size_cut in range(6 + 1):\n",
        "  for child_num_cut in range(4 + 1):\n",
        "    X_train3 = X_train.copy()\n",
        "    X_train3.loc[X_train3['family_size'] > family_size_cut, 'family_size'] = family_size_cut\n",
        "    X_train3.loc[X_train3['child_num'] > child_num_cut, 'child_num'] = child_num_cut\n",
        "    scores = cross_validate(LGBMClassifier(), X_train3, y_train,\n",
        "                        scoring='neg_log_loss', return_train_score = True)\n",
        "    mean_score = np.mean(scores['test_score'])\n",
        "    if verbose:\n",
        "      print(f\"f: {family_size_cut}, c: {child_num_cut} >>> {mean_score}\")\n",
        "    f_c_scores.append([family_size_cut, child_num_cut, mean_score])"
      ],
      "execution_count": 274,
      "outputs": [
        {
          "output_type": "stream",
          "text": [
            "f: 0, c: 0 >>> -0.761827307135404\n",
            "f: 0, c: 1 >>> -0.7617770973386897\n",
            "f: 0, c: 2 >>> -0.7605980175723209\n",
            "f: 0, c: 3 >>> -0.7610081945881834\n",
            "f: 0, c: 4 >>> -0.761219668371244\n",
            "f: 1, c: 0 >>> -0.761827307135404\n",
            "f: 1, c: 1 >>> -0.7617770973386897\n",
            "f: 1, c: 2 >>> -0.7605980175723209\n",
            "f: 1, c: 3 >>> -0.7610081945881834\n",
            "f: 1, c: 4 >>> -0.761219668371244\n",
            "f: 2, c: 0 >>> -0.7625729910361008\n",
            "f: 2, c: 1 >>> -0.7620379938857402\n",
            "f: 2, c: 2 >>> -0.7622515488414463\n",
            "f: 2, c: 3 >>> -0.7614174909632045\n",
            "f: 2, c: 4 >>> -0.7613133737958269\n",
            "f: 3, c: 0 >>> -0.7625924027942863\n",
            "f: 3, c: 1 >>> -0.7616794294453341\n",
            "f: 3, c: 2 >>> -0.7606290313274234\n",
            "f: 3, c: 3 >>> -0.760641528149405\n",
            "f: 3, c: 4 >>> -0.7604942631590917\n",
            "f: 4, c: 0 >>> -0.7609506515754874\n",
            "f: 4, c: 1 >>> -0.7604928553623018\n",
            "f: 4, c: 2 >>> -0.760698439000106\n",
            "f: 4, c: 3 >>> -0.7608835726669898\n",
            "f: 4, c: 4 >>> -0.7604917575600143\n",
            "f: 5, c: 0 >>> -0.7607280982570369\n",
            "f: 5, c: 1 >>> -0.761007014948043\n",
            "f: 5, c: 2 >>> -0.761151969406379\n",
            "f: 5, c: 3 >>> -0.7608557064461273\n",
            "f: 5, c: 4 >>> -0.7611038966473103\n",
            "f: 6, c: 0 >>> -0.7606751978574816\n",
            "f: 6, c: 1 >>> -0.7611189418990956\n",
            "f: 6, c: 2 >>> -0.7611066439833934\n",
            "f: 6, c: 3 >>> -0.7602247936797507\n",
            "f: 6, c: 4 >>> -0.7607514496600121\n"
          ],
          "name": "stdout"
        }
      ]
    },
    {
      "cell_type": "code",
      "metadata": {
        "colab": {
          "base_uri": "https://localhost:8080/"
        },
        "id": "nRQ65wZ6lVnt",
        "outputId": "4c232193-6100-4e14-acb7-e82a98563980"
      },
      "source": [
        "for f_c_score in sorted(f_c_scores,\n",
        "                        key=lambda x: x[2],\n",
        "                        reverse=True):\n",
        "  print(f_c_score)"
      ],
      "execution_count": 275,
      "outputs": [
        {
          "output_type": "stream",
          "text": [
            "[6, 3, -0.7602247936797507]\n",
            "[4, 4, -0.7604917575600143]\n",
            "[4, 1, -0.7604928553623018]\n",
            "[3, 4, -0.7604942631590917]\n",
            "[0, 2, -0.7605980175723209]\n",
            "[1, 2, -0.7605980175723209]\n",
            "[3, 2, -0.7606290313274234]\n",
            "[3, 3, -0.760641528149405]\n",
            "[6, 0, -0.7606751978574816]\n",
            "[4, 2, -0.760698439000106]\n",
            "[5, 0, -0.7607280982570369]\n",
            "[6, 4, -0.7607514496600121]\n",
            "[5, 3, -0.7608557064461273]\n",
            "[4, 3, -0.7608835726669898]\n",
            "[4, 0, -0.7609506515754874]\n",
            "[5, 1, -0.761007014948043]\n",
            "[0, 3, -0.7610081945881834]\n",
            "[1, 3, -0.7610081945881834]\n",
            "[5, 4, -0.7611038966473103]\n",
            "[6, 2, -0.7611066439833934]\n",
            "[6, 1, -0.7611189418990956]\n",
            "[5, 2, -0.761151969406379]\n",
            "[0, 4, -0.761219668371244]\n",
            "[1, 4, -0.761219668371244]\n",
            "[2, 4, -0.7613133737958269]\n",
            "[2, 3, -0.7614174909632045]\n",
            "[3, 1, -0.7616794294453341]\n",
            "[0, 1, -0.7617770973386897]\n",
            "[1, 1, -0.7617770973386897]\n",
            "[0, 0, -0.761827307135404]\n",
            "[1, 0, -0.761827307135404]\n",
            "[2, 1, -0.7620379938857402]\n",
            "[2, 2, -0.7622515488414463]\n",
            "[2, 0, -0.7625729910361008]\n",
            "[3, 0, -0.7625924027942863]\n"
          ],
          "name": "stdout"
        }
      ]
    },
    {
      "cell_type": "markdown",
      "metadata": {
        "id": "o9Psk7I9kkQi"
      },
      "source": [
        "## drop \n",
        "> 위 outlier 제거에서 좋았던 결과이용"
      ]
    },
    {
      "cell_type": "markdown",
      "metadata": {
        "id": "SHxSzPIakmaj"
      },
      "source": [
        "### `child_num`"
      ]
    },
    {
      "cell_type": "code",
      "metadata": {
        "colab": {
          "base_uri": "https://localhost:8080/"
        },
        "id": "qFExb5Hh-ZpC",
        "outputId": "2074f56e-8bc3-4d61-8c2a-e3cbe2568ebc"
      },
      "source": [
        "for family_size_cut in range(6 + 1):\n",
        "  X_train4 = X_train.copy()\n",
        "  X_train4.drop('child_num', axis=1, inplace=True)\n",
        "  X_train4.loc[X_train4['family_size'] > family_size_cut, 'family_size'] = family_size_cut\n",
        "  scores = cross_validate(LGBMClassifier(), X_train4, y_train,\n",
        "                        scoring='neg_log_loss', return_train_score = True)\n",
        "  mean_score = np.mean(scores['test_score'])\n",
        "  print(f\"f: {family_size_cut} >>> {mean_score}\")"
      ],
      "execution_count": 276,
      "outputs": [
        {
          "output_type": "stream",
          "text": [
            "f: 0 >>> -0.761827307135404\n",
            "f: 1 >>> -0.761827307135404\n",
            "f: 2 >>> -0.7625729910361008\n",
            "f: 3 >>> -0.7625924027942863\n",
            "f: 4 >>> -0.7609506515754874\n",
            "f: 5 >>> -0.7607280982570369\n",
            "f: 6 >>> -0.7606751978574816\n"
          ],
          "name": "stdout"
        }
      ]
    },
    {
      "cell_type": "markdown",
      "metadata": {
        "id": "Vo4Uqun4mFoc"
      },
      "source": [
        "### `family_size`"
      ]
    },
    {
      "cell_type": "code",
      "metadata": {
        "colab": {
          "base_uri": "https://localhost:8080/"
        },
        "id": "WwqBmFoP_PzN",
        "outputId": "a6e05c29-d641-4e9f-db8e-dd449f0a849c"
      },
      "source": [
        "for child_num_cut in range(4 + 1):\n",
        "  X_train5 = X_train.copy()\n",
        "  X_train5.drop('family_size', axis=1, inplace=True)\n",
        "  X_train5.loc[X_train5['child_num'] > child_num_cut, 'child_num'] = child_num_cut\n",
        "  scores = cross_validate(LGBMClassifier(), X_train5, y_train,\n",
        "                        scoring='neg_log_loss', return_train_score = True)\n",
        "  mean_score = np.mean(scores['test_score'])\n",
        "  print(f\"c: {child_num_cut} >>> {mean_score}\")"
      ],
      "execution_count": 277,
      "outputs": [
        {
          "output_type": "stream",
          "text": [
            "c: 0 >>> -0.761827307135404\n",
            "c: 1 >>> -0.7617770973386897\n",
            "c: 2 >>> -0.7605980175723209\n",
            "c: 3 >>> -0.7610081945881834\n",
            "c: 4 >>> -0.761219668371244\n"
          ],
          "name": "stdout"
        }
      ]
    },
    {
      "cell_type": "markdown",
      "metadata": {
        "id": "Gl05yYsRmbql"
      },
      "source": [
        "### `family_size`, `child_num`"
      ]
    },
    {
      "cell_type": "code",
      "metadata": {
        "id": "loJG7_utmbqm"
      },
      "source": [
        "X_train6 = X_train.copy()"
      ],
      "execution_count": 278,
      "outputs": []
    },
    {
      "cell_type": "code",
      "metadata": {
        "id": "FQZArFlRmbqn"
      },
      "source": [
        "X_train6.drop(['family_size', 'child_num'], axis=1, inplace=True)"
      ],
      "execution_count": 279,
      "outputs": []
    },
    {
      "cell_type": "code",
      "metadata": {
        "colab": {
          "base_uri": "https://localhost:8080/"
        },
        "id": "ZFcY5YzCmbqn",
        "outputId": "aaab8189-d449-4742-b47d-da6c6ab865dc"
      },
      "source": [
        "scores = cross_validate(LGBMClassifier(), X_train6, y_train,\n",
        "                        scoring='neg_log_loss', return_train_score = True)\n",
        "scores"
      ],
      "execution_count": 280,
      "outputs": [
        {
          "output_type": "execute_result",
          "data": {
            "text/plain": [
              "{'fit_time': array([0.9566443 , 0.9418478 , 0.92449498, 0.947258  , 0.93635368]),\n",
              " 'score_time': array([0.07845855, 0.08253956, 0.09019876, 0.08136678, 0.08195996]),\n",
              " 'test_score': array([-0.75979331, -0.76272134, -0.76425039, -0.76251465, -0.75985685]),\n",
              " 'train_score': array([-0.68091979, -0.6801855 , -0.67880311, -0.68128271, -0.67846869])}"
            ]
          },
          "metadata": {
            "tags": []
          },
          "execution_count": 280
        }
      ]
    },
    {
      "cell_type": "code",
      "metadata": {
        "colab": {
          "base_uri": "https://localhost:8080/"
        },
        "id": "kD3gfouzmbqn",
        "outputId": "13dd5783-1066-4168-c7b4-7a660c40eeae"
      },
      "source": [
        "np.mean(scores['test_score'])"
      ],
      "execution_count": 281,
      "outputs": [
        {
          "output_type": "execute_result",
          "data": {
            "text/plain": [
              "-0.761827307135404"
            ]
          },
          "metadata": {
            "tags": []
          },
          "execution_count": 281
        }
      ]
    },
    {
      "cell_type": "markdown",
      "metadata": {
        "id": "W_DMLE7cmoOR"
      },
      "source": [
        "## `family_size` - `child_num` feature를 추가\n",
        "> 성능 향상이 있다. 위에 다 이 피처를 추가해서 실험해보자"
      ]
    },
    {
      "cell_type": "code",
      "metadata": {
        "id": "GqObgV4zBRwl"
      },
      "source": [
        "X_train7 = X_train.copy()"
      ],
      "execution_count": 282,
      "outputs": []
    },
    {
      "cell_type": "code",
      "metadata": {
        "id": "ftlZ6_1MBXFK"
      },
      "source": [
        "X_train7['fc'] = X_train7['family_size'] - X_train7['child_num']"
      ],
      "execution_count": 283,
      "outputs": []
    },
    {
      "cell_type": "code",
      "metadata": {
        "colab": {
          "base_uri": "https://localhost:8080/"
        },
        "id": "t8FXHhpMBhVS",
        "outputId": "2462487b-b0bf-4cb9-9cbd-93741eb2cb60"
      },
      "source": [
        "scores = cross_validate(LGBMClassifier(), X_train7, y_train,\n",
        "                        scoring='neg_log_loss', return_train_score = True)\n",
        "scores"
      ],
      "execution_count": 284,
      "outputs": [
        {
          "output_type": "execute_result",
          "data": {
            "text/plain": [
              "{'fit_time': array([1.01455283, 0.96858191, 0.98320007, 0.9779036 , 0.9881382 ]),\n",
              " 'score_time': array([0.0812192 , 0.08094454, 0.08763242, 0.08286309, 0.08171439]),\n",
              " 'test_score': array([-0.7596808 , -0.7621518 , -0.76162517, -0.7616678 , -0.75863166]),\n",
              " 'train_score': array([-0.67950466, -0.6781597 , -0.6762141 , -0.679316  , -0.67592511])}"
            ]
          },
          "metadata": {
            "tags": []
          },
          "execution_count": 284
        }
      ]
    },
    {
      "cell_type": "code",
      "metadata": {
        "colab": {
          "base_uri": "https://localhost:8080/"
        },
        "id": "GhGFwBTvBksY",
        "outputId": "afe26960-9908-407f-98ad-070a9a0bcb0e"
      },
      "source": [
        "np.mean(scores['test_score'])"
      ],
      "execution_count": 285,
      "outputs": [
        {
          "output_type": "execute_result",
          "data": {
            "text/plain": [
              "-0.7607514496600121"
            ]
          },
          "metadata": {
            "tags": []
          },
          "execution_count": 285
        }
      ]
    },
    {
      "cell_type": "code",
      "metadata": {
        "id": "EI4s0wYaBmD_"
      },
      "source": [
        ""
      ],
      "execution_count": 285,
      "outputs": []
    }
  ]
}
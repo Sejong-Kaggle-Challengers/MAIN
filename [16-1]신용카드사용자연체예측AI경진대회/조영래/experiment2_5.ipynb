{
  "nbformat": 4,
  "nbformat_minor": 0,
  "metadata": {
    "colab": {
      "name": "experiment2-5",
      "provenance": [],
      "collapsed_sections": [],
      "authorship_tag": "ABX9TyM5sGcA3/BJQWWILzA4rPK/"
    },
    "kernelspec": {
      "name": "python3",
      "display_name": "Python 3"
    },
    "language_info": {
      "name": "python"
    }
  },
  "cells": [
    {
      "cell_type": "markdown",
      "metadata": {
        "id": "NSlr76t9Y5ir"
      },
      "source": [
        "# Experiment 2-5 - scaling\n",
        "- `income_total`이 특정 값에 쏠려있어서 로그를 취해본다.\n",
        "- 정규화를 진행해본다.\n",
        "- 나머지 내용은 4와 같음\n",
        "> `income_total` 로그화 했을 때 성능 미미하게 향상. minmaxscaling 에 대해서는 다른 값에 대해서는 성능이 떨어지고 `income_total`에 대해서만 성능의 변동이 없었다. 나중에 어떻게 할지 결정해야될듯."
      ]
    },
    {
      "cell_type": "code",
      "metadata": {
        "colab": {
          "base_uri": "https://localhost:8080/"
        },
        "id": "H2UkUxOoQDTr",
        "outputId": "34f78eaa-f6ab-4f29-c134-38f5b415ee89"
      },
      "source": [
        "from urllib.request import urlretrieve\n",
        "\n",
        "urlretrieve('https://drive.google.com/uc?export=download&id=1XLVFI_sK0smRVVuT8XU2s-M3lJT-68sN', './open.zip')"
      ],
      "execution_count": 1,
      "outputs": [
        {
          "output_type": "execute_result",
          "data": {
            "text/plain": [
              "('./open.zip', <http.client.HTTPMessage at 0x7f1cac513e90>)"
            ]
          },
          "metadata": {
            "tags": []
          },
          "execution_count": 1
        }
      ]
    },
    {
      "cell_type": "code",
      "metadata": {
        "colab": {
          "base_uri": "https://localhost:8080/"
        },
        "id": "ALLntUGhR3rR",
        "outputId": "8f5af02d-28ea-43a7-dfd5-5089e889604f"
      },
      "source": [
        "!unzip ./open.zip"
      ],
      "execution_count": 2,
      "outputs": [
        {
          "output_type": "stream",
          "text": [
            "Archive:  ./open.zip\n",
            "   creating: open/\n",
            "  inflating: open/train.csv          \n",
            "  inflating: open/sample_submission.csv  \n",
            "  inflating: open/test.csv           \n"
          ],
          "name": "stdout"
        }
      ]
    },
    {
      "cell_type": "code",
      "metadata": {
        "id": "wb31kvAgSJFu"
      },
      "source": [
        "import numpy as np\n",
        "import pandas as pd\n",
        "import matplotlib.pyplot as plt\n",
        "import seaborn as sns\n",
        "from lightgbm import LGBMClassifier\n",
        "from sklearn.preprocessing import OneHotEncoder, OrdinalEncoder\n",
        "from sklearn.model_selection import cross_validate\n",
        "from sklearn.decomposition import PCA"
      ],
      "execution_count": 3,
      "outputs": []
    },
    {
      "cell_type": "code",
      "metadata": {
        "id": "IfLd2b88SYxr"
      },
      "source": [
        "train = pd.read_csv('./open/train.csv')"
      ],
      "execution_count": 79,
      "outputs": []
    },
    {
      "cell_type": "code",
      "metadata": {
        "colab": {
          "base_uri": "https://localhost:8080/"
        },
        "id": "DqpvgasB5epp",
        "outputId": "209cce6c-b974-42f0-cd57-b8f7349db2d0"
      },
      "source": [
        "train.info()"
      ],
      "execution_count": 82,
      "outputs": [
        {
          "output_type": "stream",
          "text": [
            "<class 'pandas.core.frame.DataFrame'>\n",
            "RangeIndex: 26457 entries, 0 to 26456\n",
            "Data columns (total 20 columns):\n",
            " #   Column         Non-Null Count  Dtype  \n",
            "---  ------         --------------  -----  \n",
            " 0   index          26457 non-null  int64  \n",
            " 1   gender         26457 non-null  object \n",
            " 2   car            26457 non-null  object \n",
            " 3   reality        26457 non-null  object \n",
            " 4   child_num      26457 non-null  int64  \n",
            " 5   income_total   26457 non-null  float64\n",
            " 6   income_type    26457 non-null  object \n",
            " 7   edu_type       26457 non-null  object \n",
            " 8   family_type    26457 non-null  object \n",
            " 9   house_type     26457 non-null  object \n",
            " 10  DAYS_BIRTH     26457 non-null  int64  \n",
            " 11  DAYS_EMPLOYED  26457 non-null  int64  \n",
            " 12  FLAG_MOBIL     26457 non-null  int64  \n",
            " 13  work_phone     26457 non-null  int64  \n",
            " 14  phone          26457 non-null  int64  \n",
            " 15  email          26457 non-null  int64  \n",
            " 16  occyp_type     18286 non-null  object \n",
            " 17  family_size    26457 non-null  float64\n",
            " 18  begin_month    26457 non-null  float64\n",
            " 19  credit         26457 non-null  float64\n",
            "dtypes: float64(4), int64(8), object(8)\n",
            "memory usage: 4.0+ MB\n"
          ],
          "name": "stdout"
        }
      ]
    },
    {
      "cell_type": "code",
      "metadata": {
        "colab": {
          "base_uri": "https://localhost:8080/",
          "height": 362
        },
        "id": "6VlDKWRxv7yh",
        "outputId": "a97a617d-7bf3-4a1d-e2db-96c028932c9e"
      },
      "source": [
        "sns.distplot(train['income_total'])"
      ],
      "execution_count": 81,
      "outputs": [
        {
          "output_type": "stream",
          "text": [
            "/usr/local/lib/python3.7/dist-packages/seaborn/distributions.py:2557: FutureWarning: `distplot` is a deprecated function and will be removed in a future version. Please adapt your code to use either `displot` (a figure-level function with similar flexibility) or `histplot` (an axes-level function for histograms).\n",
            "  warnings.warn(msg, FutureWarning)\n"
          ],
          "name": "stderr"
        },
        {
          "output_type": "execute_result",
          "data": {
            "text/plain": [
              "<matplotlib.axes._subplots.AxesSubplot at 0x7f1c88fa4b10>"
            ]
          },
          "metadata": {
            "tags": []
          },
          "execution_count": 81
        },
        {
          "output_type": "display_data",
          "data": {
            "image/png": "[encoded data removed]",
            "text/plain": [
              "<Figure size 432x288 with 1 Axes>"
            ]
          },
          "metadata": {
            "tags": [],
            "needs_background": "light"
          }
        }
      ]
    },
    {
      "cell_type": "code",
      "metadata": {
        "colab": {
          "base_uri": "https://localhost:8080/",
          "height": 354
        },
        "id": "xyvITngty3Is",
        "outputId": "21345256-e3be-419c-858b-0448c581d34b"
      },
      "source": [
        "sns.distplot(np.log1p(train['income_total']))"
      ],
      "execution_count": 13,
      "outputs": [
        {
          "output_type": "stream",
          "text": [
            "/usr/local/lib/python3.7/dist-packages/seaborn/distributions.py:2557: FutureWarning: `distplot` is a deprecated function and will be removed in a future version. Please adapt your code to use either `displot` (a figure-level function with similar flexibility) or `histplot` (an axes-level function for histograms).\n",
            "  warnings.warn(msg, FutureWarning)\n"
          ],
          "name": "stderr"
        },
        {
          "output_type": "execute_result",
          "data": {
            "text/plain": [
              "<matplotlib.axes._subplots.AxesSubplot at 0x7f1c89bf4850>"
            ]
          },
          "metadata": {
            "tags": []
          },
          "execution_count": 13
        },
        {
          "output_type": "display_data",
          "data": {
            "image/png": "[encoded data removed]",
            "text/plain": [
              "<Figure size 432x288 with 1 Axes>"
            ]
          },
          "metadata": {
            "tags": [],
            "needs_background": "light"
          }
        }
      ]
    },
    {
      "cell_type": "code",
      "metadata": {
        "colab": {
          "base_uri": "https://localhost:8080/"
        },
        "id": "ky4OvFH807_F",
        "outputId": "b036dcd2-b13d-434f-aab6-2e645474804f"
      },
      "source": [
        "MinMaxScaler().fit_transform(np.log1p(train['income_total'].values.reshape(-1, 1)))"
      ],
      "execution_count": 26,
      "outputs": [
        {
          "output_type": "execute_result",
          "data": {
            "text/plain": [
              "array([[0.49552457],\n",
              "       [0.54487602],\n",
              "       [0.69190382],\n",
              "       ...,\n",
              "       [0.58596009],\n",
              "       [0.45394323],\n",
              "       [0.27017966]])"
            ]
          },
          "metadata": {
            "tags": []
          },
          "execution_count": 26
        }
      ]
    },
    {
      "cell_type": "code",
      "metadata": {
        "colab": {
          "base_uri": "https://localhost:8080/",
          "height": 336
        },
        "id": "isKo24tjzK2F",
        "outputId": "1897c2dd-c060-45ef-a99d-6456f563ca9e"
      },
      "source": [
        "from sklearn.preprocessing import MinMaxScaler\n",
        "\n",
        "sns.distplot(MinMaxScaler().fit_transform(np.log1p(train['income_total'].values.reshape(-1, 1))))"
      ],
      "execution_count": 27,
      "outputs": [
        {
          "output_type": "stream",
          "text": [
            "/usr/local/lib/python3.7/dist-packages/seaborn/distributions.py:2557: FutureWarning: `distplot` is a deprecated function and will be removed in a future version. Please adapt your code to use either `displot` (a figure-level function with similar flexibility) or `histplot` (an axes-level function for histograms).\n",
            "  warnings.warn(msg, FutureWarning)\n"
          ],
          "name": "stderr"
        },
        {
          "output_type": "execute_result",
          "data": {
            "text/plain": [
              "<matplotlib.axes._subplots.AxesSubplot at 0x7f1c89ada690>"
            ]
          },
          "metadata": {
            "tags": []
          },
          "execution_count": 27
        },
        {
          "output_type": "display_data",
          "data": {
            "image/png": "[encoded data removed]",
            "text/plain": [
              "<Figure size 432x288 with 1 Axes>"
            ]
          },
          "metadata": {
            "tags": [],
            "needs_background": "light"
          }
        }
      ]
    },
    {
      "cell_type": "markdown",
      "metadata": {
        "id": "L2SFbfl40Ze4"
      },
      "source": [
        "## Data Preprocessing"
      ]
    },
    {
      "cell_type": "code",
      "metadata": {
        "id": "QE7vr4f1o-i5"
      },
      "source": [
        "train.fillna('NAN', inplace=True)"
      ],
      "execution_count": 83,
      "outputs": []
    },
    {
      "cell_type": "code",
      "metadata": {
        "id": "KQtXXXlD5mVr"
      },
      "source": [
        "train.drop('index', axis=1, inplace=True)"
      ],
      "execution_count": 84,
      "outputs": []
    },
    {
      "cell_type": "code",
      "metadata": {
        "id": "Tvgx3OeBVwZa"
      },
      "source": [
        "train.drop('FLAG_MOBIL', axis=1, inplace=True)"
      ],
      "execution_count": 85,
      "outputs": []
    },
    {
      "cell_type": "code",
      "metadata": {
        "id": "s-MAfspQDhHi"
      },
      "source": [
        "binary_col = ['gender',\n",
        "              'car',\n",
        "              'reality']\n",
        "\n",
        "binary_encoder = OrdinalEncoder(categories=[['F', 'M'],\n",
        "                                            ['N', 'Y'],\n",
        "                                            ['N', 'Y']],\n",
        "                                dtype=np.int8)\\\n",
        "                              .fit(train.loc[:,binary_col])\n",
        "\n",
        "train.loc[:,binary_col] = binary_encoder.transform(train.loc[:,binary_col])"
      ],
      "execution_count": 86,
      "outputs": []
    },
    {
      "cell_type": "code",
      "metadata": {
        "id": "Llc8ixuXnbET"
      },
      "source": [
        "onehot_col = ['income_type',\n",
        "              'edu_type',\n",
        "              'family_type',\n",
        "              'house_type',\n",
        "              'occyp_type']\n",
        "\n",
        "\n",
        "onehot_encoder = OneHotEncoder()\n",
        "onehot_encoder.fit(train.loc[:,onehot_col])\n",
        "\n",
        "\n",
        "train_onehot_df = pd.DataFrame(onehot_encoder.transform(train.loc[:,onehot_col]).toarray(), \n",
        "             columns=onehot_encoder.get_feature_names(onehot_col))\n",
        "train.drop(onehot_col, axis=1, inplace=True)\n",
        "train = pd.concat([train, train_onehot_df], axis=1)"
      ],
      "execution_count": 88,
      "outputs": []
    },
    {
      "cell_type": "code",
      "metadata": {
        "id": "YHjSYBPNsxkC"
      },
      "source": [
        "train['parent'] = train['family_size'] - train['child_num']"
      ],
      "execution_count": 90,
      "outputs": []
    },
    {
      "cell_type": "code",
      "metadata": {
        "id": "Sp4G8Yvp498k"
      },
      "source": [
        "family_size_cut = 6\n",
        "child_num_cut = 4\n",
        "\n",
        "train.loc[train['family_size'] > family_size_cut, 'family_size'] = family_size_cut\n",
        "train.loc[train['child_num'] > child_num_cut, 'child_num'] = child_num_cut"
      ],
      "execution_count": 91,
      "outputs": []
    },
    {
      "cell_type": "code",
      "metadata": {
        "id": "qA8ChLLNtzoD"
      },
      "source": [
        "pca_col = ['family_size', 'child_num', 'parent']\n",
        "pca = PCA(n_components=1).fit(train.loc[:, pca_col])\n",
        "\n",
        "train['fcp-pca'] = pca.transform(train.loc[:, pca_col])\n",
        "train.drop(pca_col, axis=1, inplace=True)"
      ],
      "execution_count": 92,
      "outputs": []
    },
    {
      "cell_type": "code",
      "metadata": {
        "id": "hi2vjBDN2zZF"
      },
      "source": [
        "X_train = train.drop('credit', axis=1)\n",
        "y_train = train['credit']"
      ],
      "execution_count": 93,
      "outputs": []
    },
    {
      "cell_type": "code",
      "metadata": {
        "colab": {
          "base_uri": "https://localhost:8080/"
        },
        "id": "1OQ8h2jg2-Qv",
        "outputId": "4f876332-39fa-436b-a965-4c23fe5a98c1"
      },
      "source": [
        "X_train.info()"
      ],
      "execution_count": 94,
      "outputs": [
        {
          "output_type": "stream",
          "text": [
            "<class 'pandas.core.frame.DataFrame'>\n",
            "RangeIndex: 26457 entries, 0 to 26456\n",
            "Data columns (total 51 columns):\n",
            " #   Column                                  Non-Null Count  Dtype  \n",
            "---  ------                                  --------------  -----  \n",
            " 0   gender                                  26457 non-null  int64  \n",
            " 1   car                                     26457 non-null  int64  \n",
            " 2   reality                                 26457 non-null  int64  \n",
            " 3   income_total                            26457 non-null  float64\n",
            " 4   DAYS_BIRTH                              26457 non-null  int64  \n",
            " 5   DAYS_EMPLOYED                           26457 non-null  int64  \n",
            " 6   work_phone                              26457 non-null  int64  \n",
            " 7   phone                                   26457 non-null  int64  \n",
            " 8   email                                   26457 non-null  int64  \n",
            " 9   begin_month                             26457 non-null  float64\n",
            " 10  income_type_Commercial associate        26457 non-null  float64\n",
            " 11  income_type_Pensioner                   26457 non-null  float64\n",
            " 12  income_type_State servant               26457 non-null  float64\n",
            " 13  income_type_Student                     26457 non-null  float64\n",
            " 14  income_type_Working                     26457 non-null  float64\n",
            " 15  edu_type_Academic degree                26457 non-null  float64\n",
            " 16  edu_type_Higher education               26457 non-null  float64\n",
            " 17  edu_type_Incomplete higher              26457 non-null  float64\n",
            " 18  edu_type_Lower secondary                26457 non-null  float64\n",
            " 19  edu_type_Secondary / secondary special  26457 non-null  float64\n",
            " 20  family_type_Civil marriage              26457 non-null  float64\n",
            " 21  family_type_Married                     26457 non-null  float64\n",
            " 22  family_type_Separated                   26457 non-null  float64\n",
            " 23  family_type_Single / not married        26457 non-null  float64\n",
            " 24  family_type_Widow                       26457 non-null  float64\n",
            " 25  house_type_Co-op apartment              26457 non-null  float64\n",
            " 26  house_type_House / apartment            26457 non-null  float64\n",
            " 27  house_type_Municipal apartment          26457 non-null  float64\n",
            " 28  house_type_Office apartment             26457 non-null  float64\n",
            " 29  house_type_Rented apartment             26457 non-null  float64\n",
            " 30  house_type_With parents                 26457 non-null  float64\n",
            " 31  occyp_type_Accountants                  26457 non-null  float64\n",
            " 32  occyp_type_Cleaning staff               26457 non-null  float64\n",
            " 33  occyp_type_Cooking staff                26457 non-null  float64\n",
            " 34  occyp_type_Core staff                   26457 non-null  float64\n",
            " 35  occyp_type_Drivers                      26457 non-null  float64\n",
            " 36  occyp_type_HR staff                     26457 non-null  float64\n",
            " 37  occyp_type_High skill tech staff        26457 non-null  float64\n",
            " 38  occyp_type_IT staff                     26457 non-null  float64\n",
            " 39  occyp_type_Laborers                     26457 non-null  float64\n",
            " 40  occyp_type_Low-skill Laborers           26457 non-null  float64\n",
            " 41  occyp_type_Managers                     26457 non-null  float64\n",
            " 42  occyp_type_Medicine staff               26457 non-null  float64\n",
            " 43  occyp_type_NAN                          26457 non-null  float64\n",
            " 44  occyp_type_Private service staff        26457 non-null  float64\n",
            " 45  occyp_type_Realty agents                26457 non-null  float64\n",
            " 46  occyp_type_Sales staff                  26457 non-null  float64\n",
            " 47  occyp_type_Secretaries                  26457 non-null  float64\n",
            " 48  occyp_type_Security staff               26457 non-null  float64\n",
            " 49  occyp_type_Waiters/barmen staff         26457 non-null  float64\n",
            " 50  fcp-pca                                 26457 non-null  float64\n",
            "dtypes: float64(43), int64(8)\n",
            "memory usage: 10.3 MB\n"
          ],
          "name": "stdout"
        }
      ]
    },
    {
      "cell_type": "markdown",
      "metadata": {
        "id": "Hhn8pVsV2l2i"
      },
      "source": [
        "## `income_total` log\n",
        "> 0이 있을 수도 있다고 판단하여 np.log1p를 사용\n",
        "\n",
        "`0.7600580763343784` -> `0.7600575656819766` : 미세한 성능 향상...?"
      ]
    },
    {
      "cell_type": "code",
      "metadata": {
        "id": "wwG85Sf_3N9L"
      },
      "source": [
        "X_train_exp = X_train.copy()"
      ],
      "execution_count": 103,
      "outputs": []
    },
    {
      "cell_type": "code",
      "metadata": {
        "id": "xcji93uD3cXX"
      },
      "source": [
        "X_train_exp['income_total'] = np.log1p(X_train_exp['income_total'])"
      ],
      "execution_count": 106,
      "outputs": []
    },
    {
      "cell_type": "code",
      "metadata": {
        "colab": {
          "base_uri": "https://localhost:8080/"
        },
        "id": "Ro_k32754tw3",
        "outputId": "d4789580-2a87-46ae-d98e-a6a70c903adf"
      },
      "source": [
        "scores = cross_validate(LGBMClassifier(), X_train_exp, y_train,\n",
        "                        scoring='neg_log_loss', return_train_score = True)\n",
        "scores"
      ],
      "execution_count": 107,
      "outputs": [
        {
          "output_type": "execute_result",
          "data": {
            "text/plain": [
              "{'fit_time': array([0.81727886, 0.79461265, 0.8443985 , 0.82562852, 0.79230499]),\n",
              " 'score_time': array([0.05987191, 0.05487537, 0.0576427 , 0.05495906, 0.0586431 ]),\n",
              " 'test_score': array([-0.75801923, -0.76170773, -0.76034956, -0.76089536, -0.75931595]),\n",
              " 'train_score': array([-0.67798479, -0.67827494, -0.67451047, -0.6794452 , -0.6779453 ])}"
            ]
          },
          "metadata": {
            "tags": []
          },
          "execution_count": 107
        }
      ]
    },
    {
      "cell_type": "code",
      "metadata": {
        "colab": {
          "base_uri": "https://localhost:8080/"
        },
        "id": "fmcDpRKy4tw4",
        "outputId": "b0a750ab-28de-4e00-e220-a4bc8a10fc8f"
      },
      "source": [
        "np.mean(scores['test_score'])"
      ],
      "execution_count": 108,
      "outputs": [
        {
          "output_type": "execute_result",
          "data": {
            "text/plain": [
              "-0.7600575656819766"
            ]
          },
          "metadata": {
            "tags": []
          },
          "execution_count": 108
        }
      ]
    },
    {
      "cell_type": "markdown",
      "metadata": {
        "id": "o5E8p7QA-2l6"
      },
      "source": [
        "## scaling\n",
        "- 위 내용에서 추가"
      ]
    },
    {
      "cell_type": "markdown",
      "metadata": {
        "id": "Gul6_5EW6cR7"
      },
      "source": [
        "### minmax scaling\n"
      ]
    },
    {
      "cell_type": "code",
      "metadata": {
        "id": "59CJMBHy85nn"
      },
      "source": [
        "X_train_exp = X_train.copy()"
      ],
      "execution_count": 176,
      "outputs": []
    },
    {
      "cell_type": "code",
      "metadata": {
        "id": "2iiivxH885nn"
      },
      "source": [
        "X_train_exp['income_total'] = np.log1p(X_train_exp['income_total'])"
      ],
      "execution_count": 177,
      "outputs": []
    },
    {
      "cell_type": "code",
      "metadata": {
        "id": "r1qll48E8VML"
      },
      "source": [
        "from sklearn.preprocessing import MinMaxScaler\n",
        "\n",
        "# scaling_col = ['income_total','DAYS_BIRTH','DAYS_EMPLOYED','begin_month'] # -0.7600876044814232\n",
        "scaling_col = ['income_total']  # -0.7600575656819766\n",
        "# scaling_col = ['income_total', 'DAYS_BIRTH'] # -0.7602446675325816\n",
        "# scaling_col = ['income_total', 'DAYS_EMPLOYED'] # -0.7601856995601253\n",
        "# scaling_col = ['income_total', 'begin_month'] # 0.7600575656819766\n",
        "# scaling_col = ['income_total', 'fcp-pca']  # -0.7600606313622581\n",
        "\n",
        "\n",
        "minmax_scaler = MinMaxScaler().fit(X_train_exp.loc[:, scaling_col])\n",
        "\n",
        "X_train_exp.loc[:, scaling_col] = minmax_scaler.transform(X_train_exp.loc[:, scaling_col])"
      ],
      "execution_count": 178,
      "outputs": []
    },
    {
      "cell_type": "code",
      "metadata": {
        "colab": {
          "base_uri": "https://localhost:8080/"
        },
        "id": "7CWwAsBp_Ob5",
        "outputId": "9c4e00d6-043c-4d67-da52-26956c2a550a"
      },
      "source": [
        "X_train_exp['income_total']"
      ],
      "execution_count": 179,
      "outputs": [
        {
          "output_type": "execute_result",
          "data": {
            "text/plain": [
              "0        0.495525\n",
              "1        0.544876\n",
              "2        0.691904\n",
              "3        0.495525\n",
              "4        0.433718\n",
              "           ...   \n",
              "26452    0.521436\n",
              "26453    0.466558\n",
              "26454    0.585960\n",
              "26455    0.453943\n",
              "26456    0.270180\n",
              "Name: income_total, Length: 26457, dtype: float64"
            ]
          },
          "metadata": {
            "tags": []
          },
          "execution_count": 179
        }
      ]
    },
    {
      "cell_type": "code",
      "metadata": {
        "colab": {
          "base_uri": "https://localhost:8080/"
        },
        "id": "2XEtZfgs9pTd",
        "outputId": "69745522-1c57-4875-f922-5b2cfd29443d"
      },
      "source": [
        "scores = cross_validate(LGBMClassifier(), X_train_exp, y_train,\n",
        "                        scoring='neg_log_loss', return_train_score = True)\n",
        "scores"
      ],
      "execution_count": 180,
      "outputs": [
        {
          "output_type": "execute_result",
          "data": {
            "text/plain": [
              "{'fit_time': array([0.90124202, 0.89656663, 0.91119695, 0.85513544, 0.85989833]),\n",
              " 'score_time': array([0.06203413, 0.06420779, 0.06513   , 0.066468  , 0.06310534]),\n",
              " 'test_score': array([-0.75802524, -0.76170773, -0.76035888, -0.76089536, -0.75931595]),\n",
              " 'train_score': array([-0.67798479, -0.67827494, -0.67451047, -0.6794452 , -0.6779453 ])}"
            ]
          },
          "metadata": {
            "tags": []
          },
          "execution_count": 180
        }
      ]
    },
    {
      "cell_type": "code",
      "metadata": {
        "colab": {
          "base_uri": "https://localhost:8080/"
        },
        "id": "7g-peI4b9pTe",
        "outputId": "ee22a0a9-3816-44aa-b319-f979b29902c3"
      },
      "source": [
        "np.mean(scores['test_score'])"
      ],
      "execution_count": 181,
      "outputs": [
        {
          "output_type": "execute_result",
          "data": {
            "text/plain": [
              "-0.7600606313622581"
            ]
          },
          "metadata": {
            "tags": []
          },
          "execution_count": 181
        }
      ]
    },
    {
      "cell_type": "markdown",
      "metadata": {
        "id": "-7ckq2BG-0fl"
      },
      "source": [
        "### standard scaling\n",
        "> `income_total` 이 bell-shape 이라 생각해서 standard scaling 도 괜찮을 것이라 생각했지만 성능은 떨어졌다."
      ]
    },
    {
      "cell_type": "code",
      "metadata": {
        "id": "IKRs0PQz-PXT"
      },
      "source": [
        "X_train_exp = X_train.copy()"
      ],
      "execution_count": 150,
      "outputs": []
    },
    {
      "cell_type": "code",
      "metadata": {
        "id": "HqiRsnC7-PXV"
      },
      "source": [
        "X_train_exp['income_total'] = np.log1p(X_train_exp['income_total'])"
      ],
      "execution_count": 151,
      "outputs": []
    },
    {
      "cell_type": "code",
      "metadata": {
        "id": "HDC8Ur53-PXV"
      },
      "source": [
        "from sklearn.preprocessing import StandardScaler\n",
        "\n",
        "scaling_col = ['income_total']\n",
        "\n",
        "std_scaler = StandardScaler().fit(X_train_exp.loc[:, scaling_col])\n",
        "\n",
        "X_train_exp.loc[:, scaling_col] = std_scaler.transform(X_train_exp.loc[:, scaling_col])"
      ],
      "execution_count": 154,
      "outputs": []
    },
    {
      "cell_type": "code",
      "metadata": {
        "colab": {
          "base_uri": "https://localhost:8080/"
        },
        "id": "6Ob6U0im-PXW",
        "outputId": "5b66e285-b5d9-4cad-a45f-b511c49ef5a9"
      },
      "source": [
        "scores = cross_validate(LGBMClassifier(), X_train_exp, y_train,\n",
        "                        scoring='neg_log_loss', return_train_score = True)\n",
        "scores"
      ],
      "execution_count": 155,
      "outputs": [
        {
          "output_type": "execute_result",
          "data": {
            "text/plain": [
              "{'fit_time': array([0.83558726, 0.84871435, 0.85288763, 0.85903883, 0.84871745]),\n",
              " 'score_time': array([0.05969739, 0.05647945, 0.06421471, 0.0591979 , 0.05650926]),\n",
              " 'test_score': array([-0.75801923, -0.76170773, -0.76034956, -0.76097735, -0.75931551]),\n",
              " 'train_score': array([-0.67798479, -0.67827494, -0.67451047, -0.67923773, -0.6779453 ])}"
            ]
          },
          "metadata": {
            "tags": []
          },
          "execution_count": 155
        }
      ]
    },
    {
      "cell_type": "code",
      "metadata": {
        "colab": {
          "base_uri": "https://localhost:8080/"
        },
        "id": "DajhS27s-PXW",
        "outputId": "2b7e034d-94dc-4906-9320-1f416cfaf7dd"
      },
      "source": [
        "np.mean(scores['test_score'])"
      ],
      "execution_count": 156,
      "outputs": [
        {
          "output_type": "execute_result",
          "data": {
            "text/plain": [
              "-0.760073875644165"
            ]
          },
          "metadata": {
            "tags": []
          },
          "execution_count": 156
        }
      ]
    },
    {
      "cell_type": "markdown",
      "metadata": {
        "id": "XjEkuo6fnMY8"
      },
      "source": [
        "## validate"
      ]
    },
    {
      "cell_type": "code",
      "metadata": {
        "colab": {
          "base_uri": "https://localhost:8080/"
        },
        "id": "rJECwl6VqGhW",
        "outputId": "12da2a58-945c-4599-9d7c-b9d37e6d3285"
      },
      "source": [
        "scores = cross_validate(LGBMClassifier(), X_train, y_train,\n",
        "                        scoring='neg_log_loss', return_train_score = True)\n",
        "scores"
      ],
      "execution_count": null,
      "outputs": [
        {
          "output_type": "execute_result",
          "data": {
            "text/plain": [
              "{'fit_time': array([1.01751852, 0.98121119, 0.99040604, 0.9858973 , 1.0141592 ]),\n",
              " 'score_time': array([0.05916309, 0.07506967, 0.06144333, 0.0611012 , 0.06625652]),\n",
              " 'test_score': array([-0.75942811, -0.76384856, -0.76256046, -0.76210299, -0.75800922]),\n",
              " 'train_score': array([-0.68033952, -0.67795626, -0.6758315 , -0.67947138, -0.67699941])}"
            ]
          },
          "metadata": {
            "tags": []
          },
          "execution_count": 15
        }
      ]
    },
    {
      "cell_type": "code",
      "metadata": {
        "colab": {
          "base_uri": "https://localhost:8080/"
        },
        "id": "9Gw2qRwly-9G",
        "outputId": "4b5f25fe-c8d4-4d4b-eb8d-8f0aaa9542bb"
      },
      "source": [
        "np.mean(scores['test_score'])"
      ],
      "execution_count": null,
      "outputs": [
        {
          "output_type": "execute_result",
          "data": {
            "text/plain": [
              "-0.7611898663220819"
            ]
          },
          "metadata": {
            "tags": []
          },
          "execution_count": 16
        }
      ]
    },
    {
      "cell_type": "code",
      "metadata": {
        "id": "2sZAlq4l629i"
      },
      "source": [
        ""
      ],
      "execution_count": null,
      "outputs": []
    }
  ]
}
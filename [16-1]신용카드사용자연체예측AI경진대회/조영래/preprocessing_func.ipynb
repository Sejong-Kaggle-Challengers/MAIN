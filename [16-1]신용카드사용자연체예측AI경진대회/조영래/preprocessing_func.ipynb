{
  "nbformat": 4,
  "nbformat_minor": 0,
  "metadata": {
    "colab": {
      "name": "preprocessing_func",
      "provenance": [],
      "collapsed_sections": [],
      "authorship_tag": "ABX9TyOkMK1W1fNOQ/POAqr/ujCT"
    },
    "kernelspec": {
      "name": "python3",
      "display_name": "Python 3"
    },
    "language_info": {
      "name": "python"
    }
  },
  "cells": [
    {
      "cell_type": "code",
      "metadata": {
        "colab": {
          "base_uri": "https://localhost:8080/"
        },
        "id": "H2UkUxOoQDTr",
        "outputId": "feac0383-2687-478c-b1a1-205d68cfe1db"
      },
      "source": [
        "from urllib.request import urlretrieve\n",
        "\n",
        "urlretrieve('https://drive.google.com/uc?export=download&id=1XLVFI_sK0smRVVuT8XU2s-M3lJT-68sN', './open.zip')"
      ],
      "execution_count": 1,
      "outputs": [
        {
          "output_type": "execute_result",
          "data": {
            "text/plain": [
              "('./open.zip', <http.client.HTTPMessage at 0x7f19307ada10>)"
            ]
          },
          "metadata": {
            "tags": []
          },
          "execution_count": 1
        }
      ]
    },
    {
      "cell_type": "code",
      "metadata": {
        "colab": {
          "base_uri": "https://localhost:8080/"
        },
        "id": "ALLntUGhR3rR",
        "outputId": "7a8a6fd4-59ba-4d88-f092-0764715b90c6"
      },
      "source": [
        "!unzip ./open.zip"
      ],
      "execution_count": 2,
      "outputs": [
        {
          "output_type": "stream",
          "text": [
            "Archive:  ./open.zip\n",
            "   creating: open/\n",
            "  inflating: open/train.csv          \n",
            "  inflating: open/sample_submission.csv  \n",
            "  inflating: open/test.csv           \n"
          ],
          "name": "stdout"
        }
      ]
    },
    {
      "cell_type": "code",
      "metadata": {
        "id": "wb31kvAgSJFu"
      },
      "source": [
        "import numpy as np\n",
        "import pandas as pd\n",
        "import matplotlib.pyplot as plt\n",
        "import seaborn as sns\n",
        "from lightgbm import LGBMClassifier\n",
        "from sklearn.preprocessing import OneHotEncoder, OrdinalEncoder\n",
        "from sklearn.model_selection import cross_validate\n",
        "from sklearn.decomposition import PCA"
      ],
      "execution_count": 3,
      "outputs": []
    },
    {
      "cell_type": "code",
      "metadata": {
        "id": "RRZ0V5iUS5zy"
      },
      "source": [
        "def preproces(train, test=None):\n",
        "  train = train.fillna('NAN')\n",
        "  train = train.drop('index', axis=1)\n",
        "  train = train.drop('FLAG_MOBIL', axis=1)\n",
        "\n",
        "  binary_col = ['gender',\n",
        "                'car',\n",
        "                'reality']\n",
        "\n",
        "  binary_encoder = OrdinalEncoder(categories=[['F', 'M'],\n",
        "                                              ['N', 'Y'],\n",
        "                                              ['N', 'Y']],\n",
        "                                  dtype=np.int8)\\\n",
        "                                  .fit(train.loc[:,binary_col])\n",
        "\n",
        "  train.loc[:,binary_col] = binary_encoder.transform(train.loc[:,binary_col])\n",
        "\n",
        "  onehot_col = ['income_type',\n",
        "                'edu_type',\n",
        "                'family_type',\n",
        "                'house_type',\n",
        "                'occyp_type']\n",
        "\n",
        "\n",
        "  onehot_encoder = OneHotEncoder()\n",
        "  onehot_encoder.fit(train.loc[:,onehot_col])\n",
        "\n",
        "  train_onehot_df = pd.DataFrame(onehot_encoder.transform(train.loc[:,onehot_col]).toarray(), \n",
        "                                 columns=onehot_encoder.get_feature_names(onehot_col))\n",
        "  train = train.drop(onehot_col, axis=1)\n",
        "  train = pd.concat([train, train_onehot_df], axis=1)\n",
        "\n",
        "  train['parent'] = train['family_size'] - train['child_num']\n",
        "\n",
        "  family_size_cut = 6\n",
        "  child_num_cut = 4\n",
        "\n",
        "  train.loc[train['family_size'] > family_size_cut, 'family_size'] = family_size_cut\n",
        "  train.loc[train['child_num'] > child_num_cut, 'child_num'] = child_num_cut\n",
        "\n",
        "  pca_col = ['family_size', 'child_num', 'parent']\n",
        "  pca = PCA(n_components=1).fit(train.loc[:, pca_col])\n",
        "\n",
        "  train['fcp-pca'] = pca.transform(train.loc[:, pca_col])\n",
        "  train = train.drop(pca_col, axis=1)\n",
        "\n",
        "  train['income_total'] = np.log1p(train['income_total'])\n",
        "\n",
        "  X_train = train.drop('credit', axis=1)\n",
        "  y_train = train['credit']\n",
        "\n",
        "  if test is not None:\n",
        "    test = test.fillna('NAN')\n",
        "    test = test.drop('index', axis=1)\n",
        "    test = test.drop('FLAG_MOBIL', axis=1)\n",
        "\n",
        "    test.loc[:,binary_col] = binary_encoder.transform(test.loc[:,binary_col])\n",
        "\n",
        "    test_onehot_df = pd.DataFrame(onehot_encoder.transform(test.loc[:,onehot_col]).toarray(), \n",
        "                                   columns=onehot_encoder.get_feature_names(onehot_col))\n",
        "    test = test.drop(onehot_col, axis=1)\n",
        "    test = pd.concat([test, test_onehot_df], axis=1)\n",
        "\n",
        "    test['parent'] = test['family_size'] - test['child_num']\n",
        "    test.loc[test['family_size'] > family_size_cut, 'family_size'] = family_size_cut\n",
        "    test.loc[test['child_num'] > child_num_cut, 'child_num'] = child_num_cut\n",
        "\n",
        "    test['fcp-pca'] = pca.transform(test.loc[:, pca_col])\n",
        "    test = test.drop(pca_col, axis=1)\n",
        "\n",
        "    test['income_total'] = np.log1p(test['income_total'])\n",
        "\n",
        "    return X_train, y_train, test\n",
        "  \n",
        "  return X_train, y_train"
      ],
      "execution_count": 20,
      "outputs": []
    },
    {
      "cell_type": "code",
      "metadata": {
        "id": "DluKnp61UzRs"
      },
      "source": [
        "train = pd.read_csv('/content/open/train.csv')\n",
        "test = pd.read_csv('/content/open/test.csv')"
      ],
      "execution_count": 22,
      "outputs": []
    },
    {
      "cell_type": "code",
      "metadata": {
        "id": "feDRFsumU82Q"
      },
      "source": [
        "X_train, y_train, X_test = data_preprocessing(train, test)"
      ],
      "execution_count": 24,
      "outputs": []
    },
    {
      "cell_type": "code",
      "metadata": {
        "colab": {
          "base_uri": "https://localhost:8080/"
        },
        "id": "rJECwl6VqGhW",
        "outputId": "7c7fe730-37a2-405b-b50b-f37b4e6a94bc"
      },
      "source": [
        "scores = cross_validate(LGBMClassifier(), X_train, y_train,\n",
        "                        scoring='neg_log_loss', return_train_score = True)\n",
        "scores"
      ],
      "execution_count": 18,
      "outputs": [
        {
          "output_type": "execute_result",
          "data": {
            "text/plain": [
              "{'fit_time': array([0.95561504, 0.91039133, 0.90002084, 0.87949419, 0.86666751]),\n",
              " 'score_time': array([0.05862617, 0.05799842, 0.0608809 , 0.06087852, 0.06041002]),\n",
              " 'test_score': array([-0.75801923, -0.76170773, -0.76034956, -0.76089536, -0.75931595]),\n",
              " 'train_score': array([-0.67798479, -0.67827494, -0.67451047, -0.6794452 , -0.6779453 ])}"
            ]
          },
          "metadata": {
            "tags": []
          },
          "execution_count": 18
        }
      ]
    },
    {
      "cell_type": "code",
      "metadata": {
        "colab": {
          "base_uri": "https://localhost:8080/"
        },
        "id": "9Gw2qRwly-9G",
        "outputId": "8b352879-b076-469b-ff06-4c7a114de6ae"
      },
      "source": [
        "np.mean(scores['test_score'])"
      ],
      "execution_count": 19,
      "outputs": [
        {
          "output_type": "execute_result",
          "data": {
            "text/plain": [
              "-0.7600575656819766"
            ]
          },
          "metadata": {
            "tags": []
          },
          "execution_count": 19
        }
      ]
    },
    {
      "cell_type": "code",
      "metadata": {
        "id": "2sZAlq4l629i"
      },
      "source": [
        ""
      ],
      "execution_count": null,
      "outputs": []
    }
  ]
}
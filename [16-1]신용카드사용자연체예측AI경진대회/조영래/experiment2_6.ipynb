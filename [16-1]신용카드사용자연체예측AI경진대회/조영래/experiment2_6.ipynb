{
  "nbformat": 4,
  "nbformat_minor": 0,
  "metadata": {
    "colab": {
      "name": "experiment2-6",
      "provenance": [],
      "collapsed_sections": [],
      "authorship_tag": "ABX9TyNOBxGJWSwXn7CU+eTDaAXt"
    },
    "kernelspec": {
      "name": "python3",
      "display_name": "Python 3"
    },
    "language_info": {
      "name": "python"
    }
  },
  "cells": [
    {
      "cell_type": "markdown",
      "metadata": {
        "id": "NSlr76t9Y5ir"
      },
      "source": [
        "# Experiment 2-6\n",
        "- `DAYS_EMPLOYED` ==  365243 -> 0\n",
        "  - `0.7600575656819766` -> `0.7773064081582921`\n",
        "> 성능이 떨어졌다.. 왜...?"
      ]
    },
    {
      "cell_type": "code",
      "metadata": {
        "colab": {
          "base_uri": "https://localhost:8080/"
        },
        "id": "H2UkUxOoQDTr",
        "outputId": "d5e84c77-4f48-44b2-fc4a-3f8b4b862c6f"
      },
      "source": [
        "from urllib.request import urlretrieve\n",
        "\n",
        "urlretrieve('https://drive.google.com/uc?export=download&id=1XLVFI_sK0smRVVuT8XU2s-M3lJT-68sN', './open.zip')"
      ],
      "execution_count": 1,
      "outputs": [
        {
          "output_type": "execute_result",
          "data": {
            "text/plain": [
              "('./open.zip', <http.client.HTTPMessage at 0x7fac82b6b850>)"
            ]
          },
          "metadata": {
            "tags": []
          },
          "execution_count": 1
        }
      ]
    },
    {
      "cell_type": "code",
      "metadata": {
        "colab": {
          "base_uri": "https://localhost:8080/"
        },
        "id": "ALLntUGhR3rR",
        "outputId": "4cee5239-d435-47a8-f59a-65bc154a9960"
      },
      "source": [
        "!unzip ./open.zip"
      ],
      "execution_count": 2,
      "outputs": [
        {
          "output_type": "stream",
          "text": [
            "Archive:  ./open.zip\n",
            "   creating: open/\n",
            "  inflating: open/train.csv          \n",
            "  inflating: open/sample_submission.csv  \n",
            "  inflating: open/test.csv           \n"
          ],
          "name": "stdout"
        }
      ]
    },
    {
      "cell_type": "code",
      "metadata": {
        "id": "wb31kvAgSJFu"
      },
      "source": [
        "import numpy as np\n",
        "import pandas as pd\n",
        "import matplotlib.pyplot as plt\n",
        "import seaborn as sns\n",
        "from lightgbm import LGBMClassifier\n",
        "from sklearn.preprocessing import OneHotEncoder, OrdinalEncoder\n",
        "from sklearn.model_selection import cross_validate\n",
        "from sklearn.decomposition import PCA"
      ],
      "execution_count": 3,
      "outputs": []
    },
    {
      "cell_type": "code",
      "metadata": {
        "id": "IfLd2b88SYxr"
      },
      "source": [
        "train = pd.read_csv('./open/train.csv')"
      ],
      "execution_count": 16,
      "outputs": []
    },
    {
      "cell_type": "code",
      "metadata": {
        "colab": {
          "base_uri": "https://localhost:8080/"
        },
        "id": "DqpvgasB5epp",
        "outputId": "00d0cd7b-ec1b-47f3-97ee-1ecd5a4155c9"
      },
      "source": [
        "train.info()"
      ],
      "execution_count": 5,
      "outputs": [
        {
          "output_type": "stream",
          "text": [
            "<class 'pandas.core.frame.DataFrame'>\n",
            "RangeIndex: 26457 entries, 0 to 26456\n",
            "Data columns (total 20 columns):\n",
            " #   Column         Non-Null Count  Dtype  \n",
            "---  ------         --------------  -----  \n",
            " 0   index          26457 non-null  int64  \n",
            " 1   gender         26457 non-null  object \n",
            " 2   car            26457 non-null  object \n",
            " 3   reality        26457 non-null  object \n",
            " 4   child_num      26457 non-null  int64  \n",
            " 5   income_total   26457 non-null  float64\n",
            " 6   income_type    26457 non-null  object \n",
            " 7   edu_type       26457 non-null  object \n",
            " 8   family_type    26457 non-null  object \n",
            " 9   house_type     26457 non-null  object \n",
            " 10  DAYS_BIRTH     26457 non-null  int64  \n",
            " 11  DAYS_EMPLOYED  26457 non-null  int64  \n",
            " 12  FLAG_MOBIL     26457 non-null  int64  \n",
            " 13  work_phone     26457 non-null  int64  \n",
            " 14  phone          26457 non-null  int64  \n",
            " 15  email          26457 non-null  int64  \n",
            " 16  occyp_type     18286 non-null  object \n",
            " 17  family_size    26457 non-null  float64\n",
            " 18  begin_month    26457 non-null  float64\n",
            " 19  credit         26457 non-null  float64\n",
            "dtypes: float64(4), int64(8), object(8)\n",
            "memory usage: 4.0+ MB\n"
          ],
          "name": "stdout"
        }
      ]
    },
    {
      "cell_type": "markdown",
      "metadata": {
        "id": "L2SFbfl40Ze4"
      },
      "source": [
        "## Data Preprocessing"
      ]
    },
    {
      "cell_type": "code",
      "metadata": {
        "id": "QE7vr4f1o-i5"
      },
      "source": [
        "train.fillna('NAN', inplace=True)"
      ],
      "execution_count": 17,
      "outputs": []
    },
    {
      "cell_type": "code",
      "metadata": {
        "id": "KQtXXXlD5mVr"
      },
      "source": [
        "train.drop('index', axis=1, inplace=True)"
      ],
      "execution_count": 18,
      "outputs": []
    },
    {
      "cell_type": "code",
      "metadata": {
        "id": "Tvgx3OeBVwZa"
      },
      "source": [
        "train.drop('FLAG_MOBIL', axis=1, inplace=True)"
      ],
      "execution_count": 19,
      "outputs": []
    },
    {
      "cell_type": "code",
      "metadata": {
        "id": "s-MAfspQDhHi"
      },
      "source": [
        "binary_col = ['gender',\n",
        "              'car',\n",
        "              'reality']\n",
        "\n",
        "binary_encoder = OrdinalEncoder(categories=[['F', 'M'],\n",
        "                                            ['N', 'Y'],\n",
        "                                            ['N', 'Y']],\n",
        "                                dtype=np.int8)\\\n",
        "                              .fit(train.loc[:,binary_col])\n",
        "\n",
        "train.loc[:,binary_col] = binary_encoder.transform(train.loc[:,binary_col])"
      ],
      "execution_count": 20,
      "outputs": []
    },
    {
      "cell_type": "code",
      "metadata": {
        "id": "Llc8ixuXnbET"
      },
      "source": [
        "onehot_col = ['income_type',\n",
        "              'edu_type',\n",
        "              'family_type',\n",
        "              'house_type',\n",
        "              'occyp_type']\n",
        "\n",
        "\n",
        "onehot_encoder = OneHotEncoder()\n",
        "onehot_encoder.fit(train.loc[:,onehot_col])\n",
        "\n",
        "\n",
        "train_onehot_df = pd.DataFrame(onehot_encoder.transform(train.loc[:,onehot_col]).toarray(), \n",
        "             columns=onehot_encoder.get_feature_names(onehot_col))\n",
        "train.drop(onehot_col, axis=1, inplace=True)\n",
        "train = pd.concat([train, train_onehot_df], axis=1)"
      ],
      "execution_count": 21,
      "outputs": []
    },
    {
      "cell_type": "code",
      "metadata": {
        "id": "YHjSYBPNsxkC"
      },
      "source": [
        "train['parent'] = train['family_size'] - train['child_num']"
      ],
      "execution_count": 22,
      "outputs": []
    },
    {
      "cell_type": "code",
      "metadata": {
        "id": "Sp4G8Yvp498k"
      },
      "source": [
        "family_size_cut = 6\n",
        "child_num_cut = 4\n",
        "\n",
        "train.loc[train['family_size'] > family_size_cut, 'family_size'] = family_size_cut\n",
        "train.loc[train['child_num'] > child_num_cut, 'child_num'] = child_num_cut"
      ],
      "execution_count": 23,
      "outputs": []
    },
    {
      "cell_type": "code",
      "metadata": {
        "id": "qA8ChLLNtzoD"
      },
      "source": [
        "pca_col = ['family_size', 'child_num', 'parent']\n",
        "pca = PCA(n_components=1).fit(train.loc[:, pca_col])\n",
        "\n",
        "train['fcp-pca'] = pca.transform(train.loc[:, pca_col])\n",
        "train.drop(pca_col, axis=1, inplace=True)"
      ],
      "execution_count": 24,
      "outputs": []
    },
    {
      "cell_type": "code",
      "metadata": {
        "id": "pcgybnRGbYPp"
      },
      "source": [
        "train['income_total'] = np.log1p(train['income_total'])"
      ],
      "execution_count": 25,
      "outputs": []
    },
    {
      "cell_type": "code",
      "metadata": {
        "id": "hi2vjBDN2zZF"
      },
      "source": [
        "X_train = train.drop('credit', axis=1)\n",
        "y_train = train['credit']"
      ],
      "execution_count": 26,
      "outputs": []
    },
    {
      "cell_type": "code",
      "metadata": {
        "colab": {
          "base_uri": "https://localhost:8080/"
        },
        "id": "1OQ8h2jg2-Qv",
        "outputId": "c8cd43bb-31ec-4a25-ae91-526890397133"
      },
      "source": [
        "X_train.info()"
      ],
      "execution_count": 27,
      "outputs": [
        {
          "output_type": "stream",
          "text": [
            "<class 'pandas.core.frame.DataFrame'>\n",
            "RangeIndex: 26457 entries, 0 to 26456\n",
            "Data columns (total 51 columns):\n",
            " #   Column                                  Non-Null Count  Dtype  \n",
            "---  ------                                  --------------  -----  \n",
            " 0   gender                                  26457 non-null  int64  \n",
            " 1   car                                     26457 non-null  int64  \n",
            " 2   reality                                 26457 non-null  int64  \n",
            " 3   income_total                            26457 non-null  float64\n",
            " 4   DAYS_BIRTH                              26457 non-null  int64  \n",
            " 5   DAYS_EMPLOYED                           26457 non-null  int64  \n",
            " 6   work_phone                              26457 non-null  int64  \n",
            " 7   phone                                   26457 non-null  int64  \n",
            " 8   email                                   26457 non-null  int64  \n",
            " 9   begin_month                             26457 non-null  float64\n",
            " 10  income_type_Commercial associate        26457 non-null  float64\n",
            " 11  income_type_Pensioner                   26457 non-null  float64\n",
            " 12  income_type_State servant               26457 non-null  float64\n",
            " 13  income_type_Student                     26457 non-null  float64\n",
            " 14  income_type_Working                     26457 non-null  float64\n",
            " 15  edu_type_Academic degree                26457 non-null  float64\n",
            " 16  edu_type_Higher education               26457 non-null  float64\n",
            " 17  edu_type_Incomplete higher              26457 non-null  float64\n",
            " 18  edu_type_Lower secondary                26457 non-null  float64\n",
            " 19  edu_type_Secondary / secondary special  26457 non-null  float64\n",
            " 20  family_type_Civil marriage              26457 non-null  float64\n",
            " 21  family_type_Married                     26457 non-null  float64\n",
            " 22  family_type_Separated                   26457 non-null  float64\n",
            " 23  family_type_Single / not married        26457 non-null  float64\n",
            " 24  family_type_Widow                       26457 non-null  float64\n",
            " 25  house_type_Co-op apartment              26457 non-null  float64\n",
            " 26  house_type_House / apartment            26457 non-null  float64\n",
            " 27  house_type_Municipal apartment          26457 non-null  float64\n",
            " 28  house_type_Office apartment             26457 non-null  float64\n",
            " 29  house_type_Rented apartment             26457 non-null  float64\n",
            " 30  house_type_With parents                 26457 non-null  float64\n",
            " 31  occyp_type_Accountants                  26457 non-null  float64\n",
            " 32  occyp_type_Cleaning staff               26457 non-null  float64\n",
            " 33  occyp_type_Cooking staff                26457 non-null  float64\n",
            " 34  occyp_type_Core staff                   26457 non-null  float64\n",
            " 35  occyp_type_Drivers                      26457 non-null  float64\n",
            " 36  occyp_type_HR staff                     26457 non-null  float64\n",
            " 37  occyp_type_High skill tech staff        26457 non-null  float64\n",
            " 38  occyp_type_IT staff                     26457 non-null  float64\n",
            " 39  occyp_type_Laborers                     26457 non-null  float64\n",
            " 40  occyp_type_Low-skill Laborers           26457 non-null  float64\n",
            " 41  occyp_type_Managers                     26457 non-null  float64\n",
            " 42  occyp_type_Medicine staff               26457 non-null  float64\n",
            " 43  occyp_type_NAN                          26457 non-null  float64\n",
            " 44  occyp_type_Private service staff        26457 non-null  float64\n",
            " 45  occyp_type_Realty agents                26457 non-null  float64\n",
            " 46  occyp_type_Sales staff                  26457 non-null  float64\n",
            " 47  occyp_type_Secretaries                  26457 non-null  float64\n",
            " 48  occyp_type_Security staff               26457 non-null  float64\n",
            " 49  occyp_type_Waiters/barmen staff         26457 non-null  float64\n",
            " 50  fcp-pca                                 26457 non-null  float64\n",
            "dtypes: float64(43), int64(8)\n",
            "memory usage: 10.3 MB\n"
          ],
          "name": "stdout"
        }
      ]
    },
    {
      "cell_type": "markdown",
      "metadata": {
        "id": "o5E8p7QA-2l6"
      },
      "source": [
        "## 6 `DAYS_EMPLOYED`\n",
        "- `DAYS_EMPLOYED` ==  365243 -> 0\n",
        "  - `0.7600575656819766` -> `0.7773064081582921`\n",
        "- 0>=, 0<"
      ]
    },
    {
      "cell_type": "code",
      "metadata": {
        "id": "vDjOY2S_jxk-"
      },
      "source": [
        "X_train_exp = X_train.copy()"
      ],
      "execution_count": 46,
      "outputs": []
    },
    {
      "cell_type": "code",
      "metadata": {
        "id": "Shzz_4A6j4at"
      },
      "source": [
        "X_train_exp.loc[X_train_exp['DAYS_EMPLOYED']>0, :] = 0"
      ],
      "execution_count": 47,
      "outputs": []
    },
    {
      "cell_type": "code",
      "metadata": {
        "colab": {
          "base_uri": "https://localhost:8080/"
        },
        "id": "FSmiK9cKkbR_",
        "outputId": "6361c4f5-12a2-440b-b127-db3a8b0d9413"
      },
      "source": [
        "X_train_exp['DAYS_EMPLOYED'].value_counts()"
      ],
      "execution_count": 48,
      "outputs": [
        {
          "output_type": "execute_result",
          "data": {
            "text/plain": [
              " 0        4438\n",
              "-401        57\n",
              "-1539       47\n",
              "-200        45\n",
              "-2087       44\n",
              "          ... \n",
              "-2132        1\n",
              "-1452        1\n",
              "-4305        1\n",
              "-4401        1\n",
              "-12278       1\n",
              "Name: DAYS_EMPLOYED, Length: 3470, dtype: int64"
            ]
          },
          "metadata": {
            "tags": []
          },
          "execution_count": 48
        }
      ]
    },
    {
      "cell_type": "code",
      "metadata": {
        "colab": {
          "base_uri": "https://localhost:8080/"
        },
        "id": "a79rMvFMkLua",
        "outputId": "026ce305-4f40-460f-c33b-f8d7fc5c0f2f"
      },
      "source": [
        "scores = cross_validate(LGBMClassifier(), X_train_exp, y_train,\n",
        "                        scoring='neg_log_loss', return_train_score = True)\n",
        "scores"
      ],
      "execution_count": 49,
      "outputs": [
        {
          "output_type": "execute_result",
          "data": {
            "text/plain": [
              "{'fit_time': array([0.95966744, 0.99278998, 0.9530642 , 0.94691467, 0.93616319]),\n",
              " 'score_time': array([0.05926394, 0.0601449 , 0.05898118, 0.05879855, 0.06117535]),\n",
              " 'test_score': array([-0.77676208, -0.78068952, -0.77925625, -0.7784826 , -0.77134158]),\n",
              " 'train_score': array([-0.70046657, -0.69400548, -0.69148548, -0.69362118, -0.69318227])}"
            ]
          },
          "metadata": {
            "tags": []
          },
          "execution_count": 49
        }
      ]
    },
    {
      "cell_type": "markdown",
      "metadata": {
        "id": "XjEkuo6fnMY8"
      },
      "source": [
        "## validate"
      ]
    },
    {
      "cell_type": "code",
      "metadata": {
        "colab": {
          "base_uri": "https://localhost:8080/"
        },
        "id": "rJECwl6VqGhW",
        "outputId": "c96da147-78fe-4ff5-9482-99fa58ed1cef"
      },
      "source": [
        "scores = cross_validate(LGBMClassifier(), X_train_exp, y_train,\n",
        "                        scoring='neg_log_loss', return_train_score = True)\n",
        "scores"
      ],
      "execution_count": 28,
      "outputs": [
        {
          "output_type": "execute_result",
          "data": {
            "text/plain": [
              "{'fit_time': array([0.95952463, 0.91084599, 0.94872451, 0.92379212, 0.92964077]),\n",
              " 'score_time': array([0.05964589, 0.06484652, 0.0720067 , 0.06199479, 0.06092525]),\n",
              " 'test_score': array([-0.75801923, -0.76170773, -0.76034956, -0.76089536, -0.75931595]),\n",
              " 'train_score': array([-0.67798479, -0.67827494, -0.67451047, -0.6794452 , -0.6779453 ])}"
            ]
          },
          "metadata": {
            "tags": []
          },
          "execution_count": 28
        }
      ]
    },
    {
      "cell_type": "code",
      "metadata": {
        "colab": {
          "base_uri": "https://localhost:8080/"
        },
        "id": "9Gw2qRwly-9G",
        "outputId": "329e83d9-7c60-4638-d236-72e4cfd643af"
      },
      "source": [
        "np.mean(scores['test_score'])"
      ],
      "execution_count": 29,
      "outputs": [
        {
          "output_type": "execute_result",
          "data": {
            "text/plain": [
              "-0.7600575656819766"
            ]
          },
          "metadata": {
            "tags": []
          },
          "execution_count": 29
        }
      ]
    },
    {
      "cell_type": "code",
      "metadata": {
        "id": "2sZAlq4l629i"
      },
      "source": [
        ""
      ],
      "execution_count": 29,
      "outputs": []
    }
  ]
}
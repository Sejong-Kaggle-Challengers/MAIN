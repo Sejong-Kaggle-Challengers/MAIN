{
  "nbformat": 4,
  "nbformat_minor": 0,
  "metadata": {
    "colab": {
      "name": "Pycaret logloss baseline (LB 0.75267).ipynb",
      "provenance": []
    },
    "kernelspec": {
      "name": "python3",
      "display_name": "Python 3"
    },
    "language_info": {
      "name": "python"
    }
  },
  "cells": [
    {
      "cell_type": "markdown",
      "metadata": {
        "id": "4f1PQtdGd1qh"
      },
      "source": [
        "# [Pycaret logloss baseline (LB 0.75267)](https://dacon.io/competitions/official/235713/codeshare/2477?page=1&dtype=vote)\n",
        "> `pycaret`에 대해 한번 사용해볼 겸 공유코드 따라가봄"
      ]
    },
    {
      "cell_type": "code",
      "metadata": {
        "colab": {
          "base_uri": "https://localhost:8080/"
        },
        "id": "T_MDA8IGeCu8",
        "outputId": "6a83781a-100a-409f-9ea5-3644a22e38d4"
      },
      "source": [
        "from urllib.request import urlretrieve\n",
        "import numpy as np\n",
        "import pandas as pd\n",
        "\n",
        "urlretrieve('https://drive.google.com/uc?export=download&id=1XLVFI_sK0smRVVuT8XU2s-M3lJT-68sN', './open.zip')\n",
        "!unzip ./open.zip\n",
        "train = pd.read_csv('./open/train.csv')\n",
        "test = pd.read_csv('./open/test.csv')"
      ],
      "execution_count": 1,
      "outputs": [
        {
          "output_type": "stream",
          "text": [
            "Archive:  ./open.zip\n",
            "   creating: open/\n",
            "  inflating: open/train.csv          \n",
            "  inflating: open/sample_submission.csv  \n",
            "  inflating: open/test.csv           \n"
          ],
          "name": "stdout"
        }
      ]
    },
    {
      "cell_type": "markdown",
      "metadata": {
        "id": "bLtY69fefBWX"
      },
      "source": [
        "```\n",
        "ERROR: pandas-profiling 2.12.0 has requirement requests>=2.24.0, but you'll have requests 2.23.0 which is incompatible.\n",
        "ERROR: pandas-profiling 2.12.0 has requirement tqdm>=4.48.2, but you'll have tqdm 4.41.1 which is incompatible.\n",
        "ERROR: phik 0.11.2 has requirement scipy>=1.5.2, but you'll have scipy 1.4.1 which is incompatible.\n",
        "ERROR: pyldavis 3.3.1 has requirement numpy>=1.20.0, but you'll have numpy 1.19.5 which is incompatible.\n",
        "ERROR: pyldavis 3.3.1 has requirement pandas>=1.2.0, but you'll have pandas 1.1.5 which is incompatible.\n",
        "```\n",
        "위 오류가 떠서 다 업그레이드 해줌"
      ]
    },
    {
      "cell_type": "code",
      "metadata": {
        "id": "zAiMg21tehe-"
      },
      "source": [
        "train = train.drop(['index'], axis=1)\n",
        "train.fillna('NAN', inplace=True)\n",
        "\n",
        "test = test.drop(['index'], axis=1)\n",
        "test.fillna('NAN', inplace=True)"
      ],
      "execution_count": 2,
      "outputs": []
    },
    {
      "cell_type": "code",
      "metadata": {
        "id": "L2pQOn9mem-a"
      },
      "source": [],
      "execution_count": null,
      "outputs": []
    }
  ]
}
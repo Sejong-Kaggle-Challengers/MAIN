{
 "cells": [
  {
   "cell_type": "code",
   "execution_count": 1,
   "metadata": {},
   "outputs": [
    {
     "data": {
      "text/html": [
       "        <script type=\"text/javascript\">\n",
       "        window.PlotlyConfig = {MathJaxConfig: 'local'};\n",
       "        if (window.MathJax) {MathJax.Hub.Config({SVG: {font: \"STIX-Web\"}});}\n",
       "        if (typeof require !== 'undefined') {\n",
       "        require.undef(\"plotly\");\n",
       "        requirejs.config({\n",
       "            paths: {\n",
       "                'plotly': ['https://cdn.plot.ly/plotly-latest.min']\n",
       "            }\n",
       "        });\n",
       "        require(['plotly'], function(Plotly) {\n",
       "            window._Plotly = Plotly;\n",
       "        });\n",
       "        }\n",
       "        </script>\n",
       "        "
      ]
     },
     "metadata": {},
     "output_type": "display_data"
    }
   ],
   "source": [
    "### 패키지 설치\n",
    "\n",
    "import pandas as pd #Analysis \n",
    "import matplotlib.pyplot as plt #Visulization\n",
    "import seaborn as sns #Visulization\n",
    "import numpy as np #Analysis \n",
    "from scipy.stats import norm #Analysis \n",
    "from sklearn.preprocessing import StandardScaler #Analysis \n",
    "from scipy import stats #Analysis \n",
    "import warnings \n",
    "warnings.filterwarnings('ignore')\n",
    "%matplotlib inline\n",
    "import gc #garbage collector\n",
    "\n",
    "import os\n",
    "import string\n",
    "color = sns.color_palette()\n",
    "\n",
    "%matplotlib inline\n",
    "\n",
    "from plotly import tools #웹 시각화 라이브러리인 d3.js 를 이용하여 보다 interactive 하게 그래프를 만들어주는 모듈.\n",
    "import plotly.offline as py\n",
    "py.init_notebook_mode(connected=True)\n",
    "import plotly.graph_objs as go\n",
    "\n",
    "from sklearn import model_selection, preprocessing, metrics, ensemble, naive_bayes, linear_model\n",
    "from sklearn.feature_extraction.text import TfidfVectorizer, CountVectorizer #TfidVectorizer: Term Frequency-Inverse Document Frequency(단어 빈도- 역문서 빈도)\n",
    "from sklearn.decomposition import TruncatedSVD #특이값 분해(Singular Value Decomposition, SVD)\n",
    "\n",
    "pd.options.mode.chained_assignment = None\n",
    "pd.options.display.max_columns = 999\n",
    "\n",
    "import plotly.graph_objs as go\n",
    "\n",
    "import time\n",
    "import random\n"
   ]
  },
  {
   "cell_type": "code",
   "execution_count": 2,
   "metadata": {},
   "outputs": [],
   "source": [
    "data = pd.read_excel('2021 빅콘테스트_데이터분석분야_퓨처스리그_홍수ZERO_댐유입량,강우,수위데이터_210803.xlsx')\n",
    "data.columns = ['홍수사상번호', '연', '월', '일', '시간', '유입량', '유역평균강수_1', '강우(A지역)_1', '강우(B지역)_1', '강우(C지역)_1','강우(D지역)_1', '수위(E지역)_1', '수위(D지역)_1',\n",
    "               '유역평균강수_2', '강우(A지역)_2', '강우(B지역)_2', '강우(C지역)_2','강우(D지역)_2', '수위(E지역)_2', '수위(D지역)_2',\n",
    "                '유역평균강수_3', '강우(A지역)_3', '강우(B지역)_3', '강우(C지역)_3','강우(D지역)_3', '수위(E지역)_3', '수위(D지역)_3',\n",
    "                '유역평균강수_4', '강우(A지역)_4', '강우(B지역)_4', '강우(C지역)_4','강우(D지역)_4', '수위(E지역)_4', '수위(D지역)_4',\n",
    "                '유역평균강수_5', '강우(A지역)_5', '강우(B지역)_5', '강우(C지역)_5','강우(D지역)_5', '수위(E지역)_5', '수위(D지역)_5',\n",
    "                '유역평균강수_6', '강우(A지역)_6', '강우(B지역)_6', '강우(C지역)_6','강우(D지역)_6', '수위(E지역)_6', '수위(D지역)_6',\n",
    "               ]"
   ]
  },
  {
   "cell_type": "code",
   "execution_count": 3,
   "metadata": {},
   "outputs": [],
   "source": [
    "data = data.drop([0])\n",
    "data = data.astype('float64')"
   ]
  },
  {
   "cell_type": "code",
   "execution_count": 4,
   "metadata": {},
   "outputs": [],
   "source": [
    "test = data.iloc[2891:,:]\n",
    "train = data.iloc[:2891,:]"
   ]
  },
  {
   "cell_type": "code",
   "execution_count": 5,
   "metadata": {},
   "outputs": [],
   "source": [
    "train_x = train.drop(['홍수사상번호', '연','월','일','시간', '유입량'], axis = 1)\n",
    "train_y = train.유입량\n",
    "\n",
    "test_x = test.drop(['홍수사상번호', '연','월','일','시간'], axis = 1)"
   ]
  },
  {
   "cell_type": "code",
   "execution_count": 6,
   "metadata": {},
   "outputs": [],
   "source": [
    "from lightgbm import LGBMRegressor\n",
    "from xgboost import XGBRegressor"
   ]
  },
  {
   "cell_type": "code",
   "execution_count": 8,
   "metadata": {},
   "outputs": [
    {
     "name": "stdout",
     "output_type": "stream",
     "text": [
      "[0]\tvalidation_0-rmse:1453.10388\tvalidation_1-rmse:3881.01953\n",
      "[100]\tvalidation_0-rmse:15.90570\tvalidation_1-rmse:1930.88098\n",
      "[153]\tvalidation_0-rmse:9.36894\tvalidation_1-rmse:1929.22656\n",
      "[0]\tvalidation_0-rmse:2041.59729\tvalidation_1-rmse:1907.04334\n",
      "[100]\tvalidation_0-rmse:21.50754\tvalidation_1-rmse:580.21924\n",
      "[109]\tvalidation_0-rmse:19.29562\tvalidation_1-rmse:580.30096\n",
      "[0]\tvalidation_0-rmse:2126.14697\tvalidation_1-rmse:1491.51733\n",
      "[100]\tvalidation_0-rmse:23.53544\tvalidation_1-rmse:441.41254\n",
      "[114]\tvalidation_0-rmse:20.00424\tvalidation_1-rmse:440.65622\n",
      "[0]\tvalidation_0-rmse:2198.26318\tvalidation_1-rmse:957.73639\n",
      "[100]\tvalidation_0-rmse:27.60594\tvalidation_1-rmse:384.72916\n",
      "[104]\tvalidation_0-rmse:26.16468\tvalidation_1-rmse:384.53049\n",
      "[0]\tvalidation_0-rmse:2156.97339\tvalidation_1-rmse:1257.74023\n",
      "[100]\tvalidation_0-rmse:23.64237\tvalidation_1-rmse:735.83124\n",
      "[103]\tvalidation_0-rmse:22.72760\tvalidation_1-rmse:735.83380\n"
     ]
    }
   ],
   "source": [
    "random.seed(42)\n",
    "from sklearn.model_selection import KFold\n",
    "kf = KFold(n_splits=5)\n",
    "i = 0\n",
    "xgb_models={}\n",
    "for train_index, valid_index in kf.split(train_x):\n",
    "    X_train, X_val = train_x.iloc[train_index], train_x.iloc[valid_index]\n",
    "    y_train, y_val = train_y.iloc[train_index], train_y.iloc[valid_index]\n",
    "    xgb = XGBRegressor(n_estimators=10000000, n_jobs=-1)\n",
    "    xgb.fit(X_train, y_train, \n",
    "            eval_set=[(X_train, y_train), (X_val, y_val)],\n",
    "            eval_metric = 'rmse',\n",
    "            early_stopping_rounds=100,\n",
    "           verbose=100)\n",
    "    xgb_models[i]=xgb\n",
    "    i= i+1"
   ]
  },
  {
   "cell_type": "code",
   "execution_count": 9,
   "metadata": {},
   "outputs": [],
   "source": [
    "pred_y = train_y.copy\n",
    "pred_y = 0\n",
    "for fold in range(5):\n",
    "    pred_y += xgb_models[fold].predict(train_x)/5"
   ]
  },
  {
   "cell_type": "code",
   "execution_count": 10,
   "metadata": {},
   "outputs": [
    {
     "data": {
      "text/plain": [
       "405.3682691717847"
      ]
     },
     "execution_count": 10,
     "metadata": {},
     "output_type": "execute_result"
    }
   ],
   "source": [
    "from sklearn.metrics import mean_squared_error \n",
    "MSE = mean_squared_error(train_y, pred_y)\n",
    "np.sqrt(MSE)"
   ]
  },
  {
   "cell_type": "code",
   "execution_count": 12,
   "metadata": {},
   "outputs": [
    {
     "name": "stdout",
     "output_type": "stream",
     "text": [
      "[0]\tvalidation_0-rmse:2163.37695\n",
      "[100]\tvalidation_0-rmse:29.27097\n",
      "[200]\tvalidation_0-rmse:11.49457\n",
      "[300]\tvalidation_0-rmse:5.41596\n",
      "[400]\tvalidation_0-rmse:2.81601\n",
      "[500]\tvalidation_0-rmse:1.59671\n",
      "[600]\tvalidation_0-rmse:0.90282\n",
      "[700]\tvalidation_0-rmse:0.53407\n",
      "[800]\tvalidation_0-rmse:0.32883\n",
      "[900]\tvalidation_0-rmse:0.19629\n",
      "[1000]\tvalidation_0-rmse:0.12744\n",
      "[1100]\tvalidation_0-rmse:0.07731\n",
      "[1200]\tvalidation_0-rmse:0.05019\n",
      "[1300]\tvalidation_0-rmse:0.03195\n",
      "[1400]\tvalidation_0-rmse:0.02037\n",
      "[1500]\tvalidation_0-rmse:0.01264\n",
      "[1600]\tvalidation_0-rmse:0.00864\n",
      "[1700]\tvalidation_0-rmse:0.00623\n",
      "[1800]\tvalidation_0-rmse:0.00502\n",
      "[1900]\tvalidation_0-rmse:0.00439\n",
      "[2000]\tvalidation_0-rmse:0.00427\n",
      "[2033]\tvalidation_0-rmse:0.00427\n"
     ]
    },
    {
     "data": {
      "text/plain": [
       "XGBRegressor(base_score=0.5, booster='gbtree', colsample_bylevel=1,\n",
       "             colsample_bynode=1, colsample_bytree=1, gamma=0, gpu_id=-1,\n",
       "             importance_type='gain', interaction_constraints='',\n",
       "             learning_rate=0.300000012, max_delta_step=0, max_depth=6,\n",
       "             min_child_weight=1, missing=nan, monotone_constraints='()',\n",
       "             n_estimators=10000000, n_jobs=-1, num_parallel_tree=1,\n",
       "             random_state=0, reg_alpha=0, reg_lambda=1, scale_pos_weight=1,\n",
       "             subsample=1, tree_method='exact', validate_parameters=1,\n",
       "             verbosity=None)"
      ]
     },
     "execution_count": 12,
     "metadata": {},
     "output_type": "execute_result"
    }
   ],
   "source": [
    "xgb1 = XGBRegressor(n_estimators=10000000, n_jobs=-1)\n",
    "xgb1.fit(train_x, train_y, \n",
    "         eval_set=[(X_train, y_train)],\n",
    "         eval_metric = 'rmse',\n",
    "         early_stopping_rounds=100,\n",
    "         verbose=100)"
   ]
  },
  {
   "cell_type": "code",
   "execution_count": 16,
   "metadata": {},
   "outputs": [],
   "source": [
    "pred_y2 = xgb1.predict(train_x)"
   ]
  },
  {
   "cell_type": "code",
   "execution_count": 17,
   "metadata": {},
   "outputs": [
    {
     "data": {
      "text/plain": [
       "0.03779617196084325"
      ]
     },
     "execution_count": 17,
     "metadata": {},
     "output_type": "execute_result"
    }
   ],
   "source": [
    "from sklearn.metrics import mean_squared_error \n",
    "MSE = mean_squared_error(train_y, pred_y2)\n",
    "np.sqrt(MSE)"
   ]
  },
  {
   "cell_type": "code",
   "execution_count": null,
   "metadata": {},
   "outputs": [],
   "source": []
  }
 ],
 "metadata": {
  "kernelspec": {
   "display_name": "Python 3",
   "language": "python",
   "name": "python3"
  },
  "language_info": {
   "codemirror_mode": {
    "name": "ipython",
    "version": 3
   },
   "file_extension": ".py",
   "mimetype": "text/x-python",
   "name": "python",
   "nbconvert_exporter": "python",
   "pygments_lexer": "ipython3",
   "version": "3.8.3"
  }
 },
 "nbformat": 4,
 "nbformat_minor": 4
}

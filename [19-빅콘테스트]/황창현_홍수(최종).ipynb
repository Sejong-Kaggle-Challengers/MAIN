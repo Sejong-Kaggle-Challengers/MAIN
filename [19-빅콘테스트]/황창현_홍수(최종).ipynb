{
  "nbformat": 4,
  "nbformat_minor": 0,
  "metadata": {
    "colab": {
      "name": "황창현_홍수(최종).ipynb",
      "provenance": [],
      "collapsed_sections": []
    },
    "kernelspec": {
      "name": "python3",
      "display_name": "Python 3"
    },
    "language_info": {
      "name": "python"
    }
  },
  "cells": [
    {
      "cell_type": "code",
      "metadata": {
        "colab": {
          "base_uri": "https://localhost:8080/"
        },
        "id": "Cn2S3bElKEeS",
        "outputId": "bae5856b-1273-4373-fd52-45c637912987"
      },
      "source": [
        "!unzip -O 'cp949' \"2021 빅콘테스트_데이터분석분야_퓨처스리그_홍수ZERO_데이터_210803.zip\""
      ],
      "execution_count": 1,
      "outputs": [
        {
          "output_type": "stream",
          "text": [
            "Archive:  2021 빅콘테스트_데이터분석분야_퓨처스리그_홍수ZERO_데이터_210803.zip\n",
            "   creating: 2021 빅콘테스트_데이터분석분야_퓨처스리그_홍수ZERO_데이터_210803/01_제공데이터/\n",
            "  inflating: 2021 빅콘테스트_데이터분석분야_퓨처스리그_홍수ZERO_데이터_210803/01_제공데이터/2021 빅콘테스트_데이터분석분야_퓨처스리그_홍수ZERO_댐유입량,강우,수위데이터_210803.xlsx  \n",
            "   creating: 2021 빅콘테스트_데이터분석분야_퓨처스리그_홍수ZERO_데이터_210803/02_평가데이터/\n",
            "  inflating: 2021 빅콘테스트_데이터분석분야_퓨처스리그_홍수ZERO_데이터_210803/02_평가데이터/2021 빅콘테스트_데이터분석분야_퓨처스리그_홍수ZERO_평가데이터_210803.xlsx  \n"
          ],
          "name": "stdout"
        }
      ]
    },
    {
      "cell_type": "code",
      "metadata": {
        "id": "TkSr_j80KNLs"
      },
      "source": [
        "## https://dacon.io/competitions/official/235689/overview/description\n",
        "\n",
        "import numpy as np \n",
        "import pandas as pd\n",
        "import matplotlib.pyplot as plt\n",
        "import seaborn as sns"
      ],
      "execution_count": 2,
      "outputs": []
    },
    {
      "cell_type": "code",
      "metadata": {
        "colab": {
          "base_uri": "https://localhost:8080/"
        },
        "id": "3zKCBWLKKQXc",
        "outputId": "819915ce-e830-47a2-ad49-cfa012cad89b"
      },
      "source": [
        "from sklearn.preprocessing import StandardScaler\n",
        "from sklearn.neighbors import KNeighborsRegressor\n",
        "from sklearn.metrics import mean_squared_error \n",
        "from sklearn.model_selection import train_test_split\n",
        "\n",
        "base='2021 빅콘테스트_데이터분석분야_퓨처스리그_홍수ZERO_데이터_210803/'\n",
        "train_folder='01_제공데이터/'\n",
        "\n",
        "data=pd.read_excel(base+train_folder+'2021 빅콘테스트_데이터분석분야_퓨처스리그_홍수ZERO_댐유입량,강우,수위데이터_210803.xlsx')\n",
        "\n",
        "cols=['홍수사상번호','연','월','일','시간','유입량']\n",
        "\n",
        "for i in range(1,7):\n",
        "    prefix=f'데이터집단{i}_'\n",
        "    cols.append(prefix+'유역평균강수')\n",
        "    cols.append(prefix+'강우(A지역)')\n",
        "    cols.append(prefix+'강우(B지역)')\n",
        "    cols.append(prefix+'강우(C지역)')\n",
        "    cols.append(prefix+'강우(D지역)')\n",
        "    cols.append(prefix+'수위(E지역)')\n",
        "    cols.append(prefix+'수위(B지역)')\n",
        "\n",
        "data=data.drop(0).reset_index(drop=True)\n",
        "data.columns=cols\n",
        "\n",
        "for idx,col in enumerate(cols):\n",
        "    if idx<5:\n",
        "        data[col]=data[col].astype(int)\n",
        "    else:\n",
        "        data[col]=data[col].astype(float)    \n",
        "        \n",
        "from datetime import datetime,timedelta\n",
        "\n",
        "data['time']=data.apply(lambda row:datetime(year=int(row['연']),month=int(row['월']),day=int(row['일'])),axis=1)\n",
        "data['time']=data.apply(lambda row:row['time']+timedelta(hours=row['시간']),axis=1)\n",
        "\n",
        "test=data.iloc[2891:]\n",
        "\n",
        "submit=test[['홍수사상번호','연','월','일','시간']]\n",
        "submit['유입량']=0\n",
        "\n",
        "data=data.drop(['연','월','일','시간','time'],axis=1)"
      ],
      "execution_count": 22,
      "outputs": [
        {
          "output_type": "stream",
          "text": [
            "/usr/local/lib/python3.7/dist-packages/ipykernel_launcher.py:40: SettingWithCopyWarning: \n",
            "A value is trying to be set on a copy of a slice from a DataFrame.\n",
            "Try using .loc[row_indexer,col_indexer] = value instead\n",
            "\n",
            "See the caveats in the documentation: https://pandas.pydata.org/pandas-docs/stable/user_guide/indexing.html#returning-a-view-versus-a-copy\n"
          ],
          "name": "stderr"
        }
      ]
    },
    {
      "cell_type": "code",
      "metadata": {
        "colab": {
          "base_uri": "https://localhost:8080/",
          "height": 306
        },
        "id": "33zWUA-UK4Dx",
        "outputId": "8361d18f-dc4e-4bbe-9c29-e32be79054a9"
      },
      "source": [
        "## 전체 데이터를 대상으로 정규화\n",
        "## 나중에 훈련할 때 train과 test에 data leakage문제에서 벗어나기 위해서\n",
        "\n",
        "from sklearn.preprocessing import StandardScaler\n",
        "\n",
        "for col in data.columns[1:]:\n",
        "    if col=='유입량':\n",
        "        mean=data[col].mean()\n",
        "        std=data[col].std()\n",
        "        data[col]=(data[col]-mean)/std\n",
        "        continue\n",
        "    ss=StandardScaler()\n",
        "    data[col]=ss.fit_transform(data[col].values.reshape(-1,1))\n",
        "data.head()"
      ],
      "execution_count": 23,
      "outputs": [
        {
          "output_type": "execute_result",
          "data": {
            "text/html": [
              "<div>\n",
              "<style scoped>\n",
              "    .dataframe tbody tr th:only-of-type {\n",
              "        vertical-align: middle;\n",
              "    }\n",
              "\n",
              "    .dataframe tbody tr th {\n",
              "        vertical-align: top;\n",
              "    }\n",
              "\n",
              "    .dataframe thead th {\n",
              "        text-align: right;\n",
              "    }\n",
              "</style>\n",
              "<table border=\"1\" class=\"dataframe\">\n",
              "  <thead>\n",
              "    <tr style=\"text-align: right;\">\n",
              "      <th></th>\n",
              "      <th>홍수사상번호</th>\n",
              "      <th>유입량</th>\n",
              "      <th>데이터집단1_유역평균강수</th>\n",
              "      <th>데이터집단1_강우(A지역)</th>\n",
              "      <th>데이터집단1_강우(B지역)</th>\n",
              "      <th>데이터집단1_강우(C지역)</th>\n",
              "      <th>데이터집단1_강우(D지역)</th>\n",
              "      <th>데이터집단1_수위(E지역)</th>\n",
              "      <th>데이터집단1_수위(B지역)</th>\n",
              "      <th>데이터집단2_유역평균강수</th>\n",
              "      <th>데이터집단2_강우(A지역)</th>\n",
              "      <th>데이터집단2_강우(B지역)</th>\n",
              "      <th>데이터집단2_강우(C지역)</th>\n",
              "      <th>데이터집단2_강우(D지역)</th>\n",
              "      <th>데이터집단2_수위(E지역)</th>\n",
              "      <th>데이터집단2_수위(B지역)</th>\n",
              "      <th>데이터집단3_유역평균강수</th>\n",
              "      <th>데이터집단3_강우(A지역)</th>\n",
              "      <th>데이터집단3_강우(B지역)</th>\n",
              "      <th>데이터집단3_강우(C지역)</th>\n",
              "      <th>데이터집단3_강우(D지역)</th>\n",
              "      <th>데이터집단3_수위(E지역)</th>\n",
              "      <th>데이터집단3_수위(B지역)</th>\n",
              "      <th>데이터집단4_유역평균강수</th>\n",
              "      <th>데이터집단4_강우(A지역)</th>\n",
              "      <th>데이터집단4_강우(B지역)</th>\n",
              "      <th>데이터집단4_강우(C지역)</th>\n",
              "      <th>데이터집단4_강우(D지역)</th>\n",
              "      <th>데이터집단4_수위(E지역)</th>\n",
              "      <th>데이터집단4_수위(B지역)</th>\n",
              "      <th>데이터집단5_유역평균강수</th>\n",
              "      <th>데이터집단5_강우(A지역)</th>\n",
              "      <th>데이터집단5_강우(B지역)</th>\n",
              "      <th>데이터집단5_강우(C지역)</th>\n",
              "      <th>데이터집단5_강우(D지역)</th>\n",
              "      <th>데이터집단5_수위(E지역)</th>\n",
              "      <th>데이터집단5_수위(B지역)</th>\n",
              "      <th>데이터집단6_유역평균강수</th>\n",
              "      <th>데이터집단6_강우(A지역)</th>\n",
              "      <th>데이터집단6_강우(B지역)</th>\n",
              "      <th>데이터집단6_강우(C지역)</th>\n",
              "      <th>데이터집단6_강우(D지역)</th>\n",
              "      <th>데이터집단6_수위(E지역)</th>\n",
              "      <th>데이터집단6_수위(B지역)</th>\n",
              "    </tr>\n",
              "  </thead>\n",
              "  <tbody>\n",
              "    <tr>\n",
              "      <th>0</th>\n",
              "      <td>1</td>\n",
              "      <td>-0.714002</td>\n",
              "      <td>-1.036870</td>\n",
              "      <td>-0.988808</td>\n",
              "      <td>-0.905344</td>\n",
              "      <td>-0.712134</td>\n",
              "      <td>-0.808934</td>\n",
              "      <td>-0.852663</td>\n",
              "      <td>-1.480226</td>\n",
              "      <td>-1.047460</td>\n",
              "      <td>-1.017853</td>\n",
              "      <td>-0.898056</td>\n",
              "      <td>-0.708746</td>\n",
              "      <td>-0.808934</td>\n",
              "      <td>-0.852663</td>\n",
              "      <td>-1.496831</td>\n",
              "      <td>-1.047460</td>\n",
              "      <td>-1.017853</td>\n",
              "      <td>-0.842268</td>\n",
              "      <td>-0.714176</td>\n",
              "      <td>-0.815826</td>\n",
              "      <td>-0.852663</td>\n",
              "      <td>-1.502656</td>\n",
              "      <td>-1.054742</td>\n",
              "      <td>-1.032332</td>\n",
              "      <td>-0.842268</td>\n",
              "      <td>-0.828119</td>\n",
              "      <td>-0.839624</td>\n",
              "      <td>-0.852663</td>\n",
              "      <td>-1.438416</td>\n",
              "      <td>-1.039463</td>\n",
              "      <td>-1.032332</td>\n",
              "      <td>-0.842268</td>\n",
              "      <td>-0.828119</td>\n",
              "      <td>-0.839624</td>\n",
              "      <td>-0.852663</td>\n",
              "      <td>-1.447929</td>\n",
              "      <td>-0.989485</td>\n",
              "      <td>-1.032332</td>\n",
              "      <td>-0.850690</td>\n",
              "      <td>-0.690847</td>\n",
              "      <td>-0.819482</td>\n",
              "      <td>-0.852663</td>\n",
              "      <td>-1.462364</td>\n",
              "    </tr>\n",
              "    <tr>\n",
              "      <th>1</th>\n",
              "      <td>1</td>\n",
              "      <td>-0.701236</td>\n",
              "      <td>-1.038555</td>\n",
              "      <td>-0.988808</td>\n",
              "      <td>-0.889561</td>\n",
              "      <td>-0.712134</td>\n",
              "      <td>-0.808934</td>\n",
              "      <td>-0.856874</td>\n",
              "      <td>-1.481258</td>\n",
              "      <td>-1.045774</td>\n",
              "      <td>-1.017853</td>\n",
              "      <td>-0.882157</td>\n",
              "      <td>-0.708746</td>\n",
              "      <td>-0.808934</td>\n",
              "      <td>-0.856874</td>\n",
              "      <td>-1.495455</td>\n",
              "      <td>-1.045774</td>\n",
              "      <td>-1.017853</td>\n",
              "      <td>-0.825489</td>\n",
              "      <td>-0.714176</td>\n",
              "      <td>-0.815826</td>\n",
              "      <td>-0.856874</td>\n",
              "      <td>-1.501280</td>\n",
              "      <td>-1.039552</td>\n",
              "      <td>-1.032332</td>\n",
              "      <td>-0.825489</td>\n",
              "      <td>-0.789880</td>\n",
              "      <td>-0.804437</td>\n",
              "      <td>-0.856874</td>\n",
              "      <td>-1.439596</td>\n",
              "      <td>-1.024050</td>\n",
              "      <td>-1.032332</td>\n",
              "      <td>-0.825489</td>\n",
              "      <td>-0.789880</td>\n",
              "      <td>-0.804437</td>\n",
              "      <td>-0.856874</td>\n",
              "      <td>-1.449912</td>\n",
              "      <td>-0.973335</td>\n",
              "      <td>-1.032332</td>\n",
              "      <td>-0.834046</td>\n",
              "      <td>-0.646145</td>\n",
              "      <td>-0.783537</td>\n",
              "      <td>-0.856874</td>\n",
              "      <td>-1.464014</td>\n",
              "    </tr>\n",
              "    <tr>\n",
              "      <th>2</th>\n",
              "      <td>1</td>\n",
              "      <td>-0.685436</td>\n",
              "      <td>-1.036870</td>\n",
              "      <td>-0.988808</td>\n",
              "      <td>-0.873778</td>\n",
              "      <td>-0.712134</td>\n",
              "      <td>-0.808934</td>\n",
              "      <td>-0.856874</td>\n",
              "      <td>-1.482289</td>\n",
              "      <td>-1.030598</td>\n",
              "      <td>-1.017853</td>\n",
              "      <td>-0.866258</td>\n",
              "      <td>-0.708746</td>\n",
              "      <td>-0.808934</td>\n",
              "      <td>-0.856874</td>\n",
              "      <td>-1.494080</td>\n",
              "      <td>-1.030598</td>\n",
              "      <td>-1.017853</td>\n",
              "      <td>-0.808710</td>\n",
              "      <td>-0.692176</td>\n",
              "      <td>-0.815826</td>\n",
              "      <td>-0.856874</td>\n",
              "      <td>-1.499903</td>\n",
              "      <td>-1.024363</td>\n",
              "      <td>-1.032332</td>\n",
              "      <td>-0.808710</td>\n",
              "      <td>-0.789880</td>\n",
              "      <td>-0.786844</td>\n",
              "      <td>-0.856874</td>\n",
              "      <td>-1.440777</td>\n",
              "      <td>-1.008636</td>\n",
              "      <td>-1.032332</td>\n",
              "      <td>-0.808710</td>\n",
              "      <td>-0.789880</td>\n",
              "      <td>-0.786844</td>\n",
              "      <td>-0.856874</td>\n",
              "      <td>-1.451894</td>\n",
              "      <td>-0.957185</td>\n",
              "      <td>-1.032332</td>\n",
              "      <td>-0.817403</td>\n",
              "      <td>-0.646145</td>\n",
              "      <td>-0.765564</td>\n",
              "      <td>-0.856874</td>\n",
              "      <td>-1.465664</td>\n",
              "    </tr>\n",
              "    <tr>\n",
              "      <th>3</th>\n",
              "      <td>1</td>\n",
              "      <td>-0.661883</td>\n",
              "      <td>-1.021706</td>\n",
              "      <td>-0.988808</td>\n",
              "      <td>-0.857995</td>\n",
              "      <td>-0.712134</td>\n",
              "      <td>-0.808934</td>\n",
              "      <td>-0.856874</td>\n",
              "      <td>-1.482289</td>\n",
              "      <td>-1.015422</td>\n",
              "      <td>-1.017853</td>\n",
              "      <td>-0.850359</td>\n",
              "      <td>-0.686761</td>\n",
              "      <td>-0.808934</td>\n",
              "      <td>-0.856874</td>\n",
              "      <td>-1.492705</td>\n",
              "      <td>-1.015422</td>\n",
              "      <td>-1.017853</td>\n",
              "      <td>-0.791931</td>\n",
              "      <td>-0.648175</td>\n",
              "      <td>-0.780323</td>\n",
              "      <td>-0.856874</td>\n",
              "      <td>-1.498527</td>\n",
              "      <td>-0.972043</td>\n",
              "      <td>-1.005092</td>\n",
              "      <td>-0.791931</td>\n",
              "      <td>-0.694285</td>\n",
              "      <td>-0.734063</td>\n",
              "      <td>-0.856874</td>\n",
              "      <td>-1.441958</td>\n",
              "      <td>-0.955544</td>\n",
              "      <td>-1.005092</td>\n",
              "      <td>-0.791931</td>\n",
              "      <td>-0.694285</td>\n",
              "      <td>-0.734063</td>\n",
              "      <td>-0.856874</td>\n",
              "      <td>-1.454537</td>\n",
              "      <td>-0.901556</td>\n",
              "      <td>-1.005092</td>\n",
              "      <td>-0.800759</td>\n",
              "      <td>-0.534390</td>\n",
              "      <td>-0.711646</td>\n",
              "      <td>-0.856874</td>\n",
              "      <td>-1.466489</td>\n",
              "    </tr>\n",
              "    <tr>\n",
              "      <th>4</th>\n",
              "      <td>1</td>\n",
              "      <td>-0.624313</td>\n",
              "      <td>-1.006542</td>\n",
              "      <td>-0.988808</td>\n",
              "      <td>-0.826429</td>\n",
              "      <td>-0.690437</td>\n",
              "      <td>-0.773422</td>\n",
              "      <td>-0.856874</td>\n",
              "      <td>-1.482289</td>\n",
              "      <td>-0.963151</td>\n",
              "      <td>-0.990423</td>\n",
              "      <td>-0.818560</td>\n",
              "      <td>-0.642791</td>\n",
              "      <td>-0.773422</td>\n",
              "      <td>-0.856874</td>\n",
              "      <td>-1.491329</td>\n",
              "      <td>-0.963151</td>\n",
              "      <td>-0.990423</td>\n",
              "      <td>-0.758373</td>\n",
              "      <td>-0.648175</td>\n",
              "      <td>-0.762571</td>\n",
              "      <td>-0.856874</td>\n",
              "      <td>-1.498527</td>\n",
              "      <td>-0.919724</td>\n",
              "      <td>-0.964233</td>\n",
              "      <td>-0.758373</td>\n",
              "      <td>-0.636928</td>\n",
              "      <td>-0.698877</td>\n",
              "      <td>-0.856874</td>\n",
              "      <td>-1.444319</td>\n",
              "      <td>-0.902453</td>\n",
              "      <td>-0.964233</td>\n",
              "      <td>-0.758373</td>\n",
              "      <td>-0.636928</td>\n",
              "      <td>-0.698877</td>\n",
              "      <td>-0.856874</td>\n",
              "      <td>-1.457180</td>\n",
              "      <td>-0.845927</td>\n",
              "      <td>-0.964233</td>\n",
              "      <td>-0.767472</td>\n",
              "      <td>-0.467336</td>\n",
              "      <td>-0.675701</td>\n",
              "      <td>-0.856874</td>\n",
              "      <td>-1.468140</td>\n",
              "    </tr>\n",
              "  </tbody>\n",
              "</table>\n",
              "</div>"
            ],
            "text/plain": [
              "   홍수사상번호       유입량  ...  데이터집단6_수위(E지역)  데이터집단6_수위(B지역)\n",
              "0       1 -0.714002  ...       -0.852663       -1.462364\n",
              "1       1 -0.701236  ...       -0.856874       -1.464014\n",
              "2       1 -0.685436  ...       -0.856874       -1.465664\n",
              "3       1 -0.661883  ...       -0.856874       -1.466489\n",
              "4       1 -0.624313  ...       -0.856874       -1.468140\n",
              "\n",
              "[5 rows x 44 columns]"
            ]
          },
          "metadata": {},
          "execution_count": 23
        }
      ]
    },
    {
      "cell_type": "code",
      "metadata": {
        "colab": {
          "base_uri": "https://localhost:8080/"
        },
        "id": "4KYyMe30LL2I",
        "outputId": "d3cc7d7c-44c0-4fdc-b1b1-63d2d1d9d23a"
      },
      "source": [
        "train=data.iloc[:2891]\n",
        "test=data.iloc[2891:]\n",
        "\n",
        "print(f'train.shape : {train.shape},test.shape : {test.shape}')"
      ],
      "execution_count": 28,
      "outputs": [
        {
          "output_type": "stream",
          "text": [
            "train.shape : (2891, 44),test.shape : (160, 44)\n"
          ],
          "name": "stdout"
        }
      ]
    },
    {
      "cell_type": "code",
      "metadata": {
        "id": "Li0FAtTsLvK-"
      },
      "source": [
        "def window_dataset(df,label,window_size=20):\n",
        "    window_list=[]\n",
        "    label_list=[]\n",
        "    for i in range(df.shape[0]-window_size):\n",
        "        window_list.append(np.array(df.iloc[i:i+window_size]))\n",
        "        label_list.append(np.array(label.iloc[i+window_size]))\n",
        "\n",
        "    return np.array(window_list),np.array(label_list)"
      ],
      "execution_count": 29,
      "outputs": []
    },
    {
      "cell_type": "code",
      "metadata": {
        "colab": {
          "base_uri": "https://localhost:8080/"
        },
        "id": "4bkTW1u4MEZb",
        "outputId": "6e47b021-a933-4b21-8f20-b96c75bcfdbc"
      },
      "source": [
        "## data[data['홍수사상번호']==24] # 2694\n",
        "## data[data['홍수사상번호']==25] # 2788\n",
        "\n",
        "## 홍수사상번호 기준 23 24 25를 예측.\n",
        "\n",
        "from sklearn.model_selection import train_test_split\n",
        "\n",
        "train_x=train[:-325]\n",
        "test_x=train[-325:]\n",
        "\n",
        "train_feature=train_x[data.columns[1:]]\n",
        "train_label=train_x['유입량']\n",
        "\n",
        "train_feature, train_label=window_dataset(train_feature,train_label)\n",
        "\n",
        "x_train,x_test,y_train,y_test=train_test_split(train_feature,train_label,test_size=0.3)\n",
        "print(f\"x_train.shape : {x_train.shape}, x_valid.shape : {x_test.shape}\")\n",
        "print(f\"y_train.shape : {y_train.shape}, y_valid.shape : {y_test.shape}\")"
      ],
      "execution_count": 7,
      "outputs": [
        {
          "output_type": "stream",
          "text": [
            "x_train.shape : (1782, 20, 42), x_valid.shape : (764, 20, 42)\n",
            "y_train.shape : (1782,), y_valid.shape : (764,)\n"
          ],
          "name": "stdout"
        }
      ]
    },
    {
      "cell_type": "code",
      "metadata": {
        "colab": {
          "base_uri": "https://localhost:8080/"
        },
        "id": "84yxmlI6MQ8i",
        "outputId": "cfbb41d3-bb07-447b-f02b-33078b624b34"
      },
      "source": [
        "test_feature=test_x[data.columns[1:]]\n",
        "test_label=test_x['유입량']\n",
        "\n",
        "test_feature,test_label=window_dataset(test_feature,test_label)\n",
        "print(f\"test_feature.shape : {test_feature.shape}, test_label.shape : {test_label.shape}\")"
      ],
      "execution_count": 14,
      "outputs": [
        {
          "output_type": "stream",
          "text": [
            "test_feature.shape : (305, 20, 42), test_label.shape : (305,)\n"
          ],
          "name": "stdout"
        }
      ]
    },
    {
      "cell_type": "code",
      "metadata": {
        "id": "eLPETIMrMcSf"
      },
      "source": [
        "import tensorflow as tf\n",
        "from tensorflow import keras\n",
        "from keras.models import Sequential\n",
        "from keras.layers import *\n",
        "from keras.layers.wrappers import *\n",
        "# from keras.optimizers import RMSprop\n",
        "from keras.callbacks import CSVLogger, EarlyStopping\n",
        "\n",
        "# from hyperopt import tpe,hp,Trials\n",
        "# from hyperopt.fmin import fmin\n",
        "\n",
        "# from sklearn.model_selection import cross_val_score\n",
        "# from sklearn.model_selection import train_test_split\n",
        "# from sklearn.model_selection import StratifiedKFold\n",
        "# from sklearn.metrics import log_loss\n",
        "\n",
        "random_seed = 20"
      ],
      "execution_count": 9,
      "outputs": []
    },
    {
      "cell_type": "code",
      "metadata": {
        "id": "7KZBJjqkMn1l"
      },
      "source": [
        "def build_cnnlstm(df, n_lstm):\n",
        "    model = keras.models.Sequential([\n",
        "        # Conv1D(filters=f1, kernel_size=k1, strides=s1, padding = 'same', activation='relu', input_shape=[df.shape[1],df.shape[2]]),\n",
        "        # BatchNormalization(),\n",
        "        # MaxPooling1D(pool_size = pool_size1),\n",
        "        # LSTM(n_lstm,return_sequences = True),\n",
        "        # Dropout(0.5),\n",
        "        LSTM(n_lstm,input_shape=[df.shape[1],df.shape[2]],return_sequences=False,activation='relu'),\n",
        "        BatchNormalization(),\n",
        "        # Dense(n_dense,activation ='relu'),\n",
        "        # BatchNormalization(),\n",
        "        Dense(1)\n",
        "        ])\n",
        "    model.compile(loss='mean_squared_error',\n",
        "                             optimizer='adam',\n",
        "                             metrics =[tf.keras.metrics.RootMeanSquaredError()])\n",
        "    return model"
      ],
      "execution_count": 10,
      "outputs": []
    },
    {
      "cell_type": "code",
      "metadata": {
        "colab": {
          "base_uri": "https://localhost:8080/"
        },
        "id": "a7ARlejAMug2",
        "outputId": "e93a5cf3-36a2-46ab-f282-7e1c68377a91"
      },
      "source": [
        "params={'df':x_train,\n",
        "        'n_lstm': 120}\n",
        "\n",
        "cnnlstm_model = build_cnnlstm(\n",
        "    **params)\n",
        "\n",
        "cnnlstm_model.summary()"
      ],
      "execution_count": 11,
      "outputs": [
        {
          "output_type": "stream",
          "text": [
            "Model: \"sequential\"\n",
            "_________________________________________________________________\n",
            "Layer (type)                 Output Shape              Param #   \n",
            "=================================================================\n",
            "lstm (LSTM)                  (None, 120)               78240     \n",
            "_________________________________________________________________\n",
            "batch_normalization (BatchNo (None, 120)               480       \n",
            "_________________________________________________________________\n",
            "dense (Dense)                (None, 1)                 121       \n",
            "=================================================================\n",
            "Total params: 78,841\n",
            "Trainable params: 78,601\n",
            "Non-trainable params: 240\n",
            "_________________________________________________________________\n"
          ],
          "name": "stdout"
        }
      ]
    },
    {
      "cell_type": "code",
      "metadata": {
        "colab": {
          "base_uri": "https://localhost:8080/"
        },
        "id": "F5AizOnzM1ro",
        "outputId": "4203ebb2-5f46-4b59-bea7-ddf96f88f015"
      },
      "source": [
        "#model training\n",
        "lr_scheduler = keras.callbacks.ReduceLROnPlateau(factor=0.5, patience=5)\n",
        "checkpoint_cb = keras.callbacks.ModelCheckpoint('cnnlstm_model.h5',\n",
        "                                                monitor='val_root_mean_squared_error',\n",
        "                                                save_best_only=True)\n",
        "earlystopping_cb = keras.callbacks.EarlyStopping(patience=10, restore_best_weights=True)\n",
        "history = cnnlstm_model.fit(x_train, y_train, epochs=1000, \n",
        "       validation_data = (x_test, y_test), verbose=1, batch_size=16,\n",
        "              callbacks = [checkpoint_cb, earlystopping_cb, lr_scheduler])"
      ],
      "execution_count": 12,
      "outputs": [
        {
          "output_type": "stream",
          "text": [
            "Epoch 1/1000\n",
            "112/112 [==============================] - 4s 20ms/step - loss: 0.4247 - root_mean_squared_error: 0.6517 - val_loss: 0.6115 - val_root_mean_squared_error: 0.7820\n",
            "Epoch 2/1000\n",
            "112/112 [==============================] - 2s 17ms/step - loss: 0.2484 - root_mean_squared_error: 0.4984 - val_loss: 0.4970 - val_root_mean_squared_error: 0.7050\n",
            "Epoch 3/1000\n",
            "112/112 [==============================] - 2s 17ms/step - loss: 0.1981 - root_mean_squared_error: 0.4451 - val_loss: 1.1877 - val_root_mean_squared_error: 1.0898\n",
            "Epoch 4/1000\n",
            "112/112 [==============================] - 2s 17ms/step - loss: 0.2030 - root_mean_squared_error: 0.4506 - val_loss: 0.1954 - val_root_mean_squared_error: 0.4421\n",
            "Epoch 5/1000\n",
            "112/112 [==============================] - 2s 17ms/step - loss: 0.1830 - root_mean_squared_error: 0.4277 - val_loss: 0.0982 - val_root_mean_squared_error: 0.3133\n",
            "Epoch 6/1000\n",
            "112/112 [==============================] - 2s 17ms/step - loss: 0.1558 - root_mean_squared_error: 0.3948 - val_loss: 0.1009 - val_root_mean_squared_error: 0.3176\n",
            "Epoch 7/1000\n",
            "112/112 [==============================] - 2s 18ms/step - loss: 0.1477 - root_mean_squared_error: 0.3843 - val_loss: 0.0895 - val_root_mean_squared_error: 0.2992\n",
            "Epoch 8/1000\n",
            "112/112 [==============================] - 2s 17ms/step - loss: 0.1319 - root_mean_squared_error: 0.3632 - val_loss: 0.0606 - val_root_mean_squared_error: 0.2462\n",
            "Epoch 9/1000\n",
            "112/112 [==============================] - 2s 17ms/step - loss: 0.1434 - root_mean_squared_error: 0.3787 - val_loss: 0.0650 - val_root_mean_squared_error: 0.2550\n",
            "Epoch 10/1000\n",
            "112/112 [==============================] - 2s 18ms/step - loss: 0.1301 - root_mean_squared_error: 0.3606 - val_loss: 0.0873 - val_root_mean_squared_error: 0.2955\n",
            "Epoch 11/1000\n",
            "112/112 [==============================] - 2s 17ms/step - loss: 0.1457 - root_mean_squared_error: 0.3818 - val_loss: 0.2010 - val_root_mean_squared_error: 0.4483\n",
            "Epoch 12/1000\n",
            "112/112 [==============================] - 2s 17ms/step - loss: 0.1055 - root_mean_squared_error: 0.3248 - val_loss: 0.0547 - val_root_mean_squared_error: 0.2339\n",
            "Epoch 13/1000\n",
            "112/112 [==============================] - 2s 18ms/step - loss: 0.1308 - root_mean_squared_error: 0.3616 - val_loss: 0.0598 - val_root_mean_squared_error: 0.2445\n",
            "Epoch 14/1000\n",
            "112/112 [==============================] - 2s 17ms/step - loss: 0.0983 - root_mean_squared_error: 0.3135 - val_loss: 0.0438 - val_root_mean_squared_error: 0.2093\n",
            "Epoch 15/1000\n",
            "112/112 [==============================] - 2s 18ms/step - loss: 0.1083 - root_mean_squared_error: 0.3290 - val_loss: 0.0969 - val_root_mean_squared_error: 0.3113\n",
            "Epoch 16/1000\n",
            "112/112 [==============================] - 2s 18ms/step - loss: 0.1146 - root_mean_squared_error: 0.3386 - val_loss: 0.0654 - val_root_mean_squared_error: 0.2557\n",
            "Epoch 17/1000\n",
            "112/112 [==============================] - 2s 17ms/step - loss: 0.1047 - root_mean_squared_error: 0.3235 - val_loss: 0.0468 - val_root_mean_squared_error: 0.2164\n",
            "Epoch 18/1000\n",
            "112/112 [==============================] - 2s 19ms/step - loss: 0.1218 - root_mean_squared_error: 0.3490 - val_loss: 0.0345 - val_root_mean_squared_error: 0.1857\n",
            "Epoch 19/1000\n",
            "112/112 [==============================] - 2s 18ms/step - loss: 0.0892 - root_mean_squared_error: 0.2987 - val_loss: 0.0612 - val_root_mean_squared_error: 0.2475\n",
            "Epoch 20/1000\n",
            "112/112 [==============================] - 2s 18ms/step - loss: 0.1143 - root_mean_squared_error: 0.3381 - val_loss: 0.0590 - val_root_mean_squared_error: 0.2428\n",
            "Epoch 21/1000\n",
            "112/112 [==============================] - 2s 17ms/step - loss: 0.1038 - root_mean_squared_error: 0.3221 - val_loss: 0.0756 - val_root_mean_squared_error: 0.2749\n",
            "Epoch 22/1000\n",
            "112/112 [==============================] - 2s 17ms/step - loss: 0.0947 - root_mean_squared_error: 0.3077 - val_loss: 0.0990 - val_root_mean_squared_error: 0.3147\n",
            "Epoch 23/1000\n",
            "112/112 [==============================] - 2s 18ms/step - loss: 0.1176 - root_mean_squared_error: 0.3429 - val_loss: 0.0745 - val_root_mean_squared_error: 0.2729\n",
            "Epoch 24/1000\n",
            "112/112 [==============================] - 2s 17ms/step - loss: 0.0980 - root_mean_squared_error: 0.3130 - val_loss: 0.0486 - val_root_mean_squared_error: 0.2205\n",
            "Epoch 25/1000\n",
            "112/112 [==============================] - 2s 19ms/step - loss: 0.0836 - root_mean_squared_error: 0.2892 - val_loss: 0.0379 - val_root_mean_squared_error: 0.1948\n",
            "Epoch 26/1000\n",
            "112/112 [==============================] - 2s 17ms/step - loss: 0.0838 - root_mean_squared_error: 0.2896 - val_loss: 0.0352 - val_root_mean_squared_error: 0.1877\n",
            "Epoch 27/1000\n",
            "112/112 [==============================] - 2s 17ms/step - loss: 0.0871 - root_mean_squared_error: 0.2952 - val_loss: 0.0361 - val_root_mean_squared_error: 0.1899\n",
            "Epoch 28/1000\n",
            "112/112 [==============================] - 2s 17ms/step - loss: 0.1014 - root_mean_squared_error: 0.3184 - val_loss: 0.0420 - val_root_mean_squared_error: 0.2049\n"
          ],
          "name": "stdout"
        }
      ]
    },
    {
      "cell_type": "code",
      "metadata": {
        "colab": {
          "base_uri": "https://localhost:8080/"
        },
        "id": "qTAB-gAiM86a",
        "outputId": "3210322a-02af-439b-ce4e-c4238c0143d5"
      },
      "source": [
        "cnnlstm_model.load_weights('/content/cnnlstm_model.h5')\n",
        "pred = cnnlstm_model.predict(test_feature)\n",
        "\n",
        "## mean 더하고 std 곱하기\n",
        "scaled_pred=(pred*std)+mean\n",
        "scaled_pred=[x[0] if x[0]>0 else 0 for x in scaled_pred]\n",
        "scaled_test_label=(test_label*std)+mean\n",
        "\n",
        "from sklearn.metrics import mean_squared_error\n",
        "rmse = mean_squared_error(scaled_test_label,scaled_pred)**0.5\n",
        "rmse"
      ],
      "execution_count": 15,
      "outputs": [
        {
          "output_type": "execute_result",
          "data": {
            "text/plain": [
              "720.8018467530717"
            ]
          },
          "metadata": {},
          "execution_count": 15
        }
      ]
    },
    {
      "cell_type": "code",
      "metadata": {
        "colab": {
          "base_uri": "https://localhost:8080/",
          "height": 265
        },
        "id": "8PhSN-GkNK-F",
        "outputId": "a3137be7-587a-444e-d048-5cd44a999934"
      },
      "source": [
        "plt.figure()\n",
        "plt.plot(scaled_test_label,label='real')\n",
        "plt.plot(scaled_pred,label='predict')\n",
        "plt.legend()\n",
        "plt.show()"
      ],
      "execution_count": 16,
      "outputs": [
        {
          "output_type": "display_data",
          "data": {
            "image/png": "[encoded data removed]",
            "text/plain": [
              "<Figure size 432x288 with 1 Axes>"
            ]
          },
          "metadata": {
            "needs_background": "light"
          }
        }
      ]
    },
    {
      "cell_type": "code",
      "metadata": {
        "id": "5TzWkM-0Z_bf"
      },
      "source": [
        "cnnlstm.predict()"
      ],
      "execution_count": null,
      "outputs": []
    },
    {
      "cell_type": "code",
      "metadata": {
        "colab": {
          "base_uri": "https://localhost:8080/"
        },
        "id": "Jm53ZHAbN2a4",
        "outputId": "a026e6b4-c354-4d53-fc7a-ed18623d2d91"
      },
      "source": [
        "## knn\n",
        "from sklearn.preprocessing import StandardScaler\n",
        "from sklearn.neighbors import KNeighborsRegressor\n",
        "from sklearn.metrics import mean_squared_error \n",
        "from sklearn.model_selection import train_test_split\n",
        "\n",
        "base='2021 빅콘테스트_데이터분석분야_퓨처스리그_홍수ZERO_데이터_210803/'\n",
        "train_folder='01_제공데이터/'\n",
        "\n",
        "data=pd.read_excel(base+train_folder+'2021 빅콘테스트_데이터분석분야_퓨처스리그_홍수ZERO_댐유입량,강우,수위데이터_210803.xlsx')\n",
        "\n",
        "cols=['홍수사상번호','연','월','일','시간','유입량']\n",
        "\n",
        "for i in range(1,7):\n",
        "    prefix=f'데이터집단{i}_'\n",
        "    cols.append(prefix+'유역평균강수')\n",
        "    cols.append(prefix+'강우(A지역)')\n",
        "    cols.append(prefix+'강우(B지역)')\n",
        "    cols.append(prefix+'강우(C지역)')\n",
        "    cols.append(prefix+'강우(D지역)')\n",
        "    cols.append(prefix+'수위(E지역)')\n",
        "    cols.append(prefix+'수위(B지역)')\n",
        "\n",
        "data=data.drop(0).reset_index(drop=True)\n",
        "data.columns=cols\n",
        "\n",
        "for idx,col in enumerate(cols):\n",
        "    if idx<5:\n",
        "        data[col]=data[col].astype(int)\n",
        "    else:\n",
        "        data[col]=data[col].astype(float)    \n",
        "        \n",
        "from datetime import datetime,timedelta\n",
        "\n",
        "data['time']=data.apply(lambda row:datetime(year=int(row['연']),month=int(row['월']),day=int(row['일'])),axis=1)\n",
        "data['time']=data.apply(lambda row:row['time']+timedelta(hours=row['시간']),axis=1)\n",
        "\n",
        "train=data.iloc[:2891]\n",
        "test=data.iloc[2891:]\n",
        "\n",
        "submit=test[['홍수사상번호','연','월','일','시간']]\n",
        "submit['유입량']=0\n",
        "\n",
        "train=train.drop(['홍수사상번호','연','월','일','시간','time'],axis=1)\n",
        "test=test.drop(['유입량','홍수사상번호','연','월','일','시간','time'],axis=1)"
      ],
      "execution_count": 90,
      "outputs": [
        {
          "output_type": "stream",
          "text": [
            "/usr/local/lib/python3.7/dist-packages/ipykernel_launcher.py:42: SettingWithCopyWarning: \n",
            "A value is trying to be set on a copy of a slice from a DataFrame.\n",
            "Try using .loc[row_indexer,col_indexer] = value instead\n",
            "\n",
            "See the caveats in the documentation: https://pandas.pydata.org/pandas-docs/stable/user_guide/indexing.html#returning-a-view-versus-a-copy\n"
          ],
          "name": "stderr"
        }
      ]
    },
    {
      "cell_type": "code",
      "metadata": {
        "colab": {
          "base_uri": "https://localhost:8080/"
        },
        "id": "KHpQUaVXWUGy",
        "outputId": "0508ec76-9ade-435e-ecc3-18a12886b640"
      },
      "source": [
        "X=train.drop(['유입량'],axis=1).values\n",
        "\n",
        "sc=StandardScaler()\n",
        "X=sc.fit_transform(X)\n",
        "test=sc.transform(test.values)\n",
        "y=train['유입량'].values\n",
        "\n",
        "from sklearn.model_selection import train_test_split\n",
        "\n",
        "x_train, x_test, y_train, y_test = train_test_split(X, y, test_size=0.2, random_state=42)\n",
        "print(f\"X_train.shape : {x_train.shape}, x_valid.shape : {x_test.shape}\")\n",
        "print(f\"y_train.shape : {y_train.shape}, y_valid.shape : {y_test.shape}\")"
      ],
      "execution_count": 91,
      "outputs": [
        {
          "output_type": "stream",
          "text": [
            "X_train.shape : (2312, 42), x_valid.shape : (579, 42)\n",
            "y_train.shape : (2312,), y_valid.shape : (579,)\n"
          ],
          "name": "stdout"
        }
      ]
    },
    {
      "cell_type": "code",
      "metadata": {
        "colab": {
          "base_uri": "https://localhost:8080/"
        },
        "id": "TxpdiARGWU2n",
        "outputId": "b1a99e8f-8874-45f0-dca8-f27823c3e03b"
      },
      "source": [
        "rmse_val = [] #to store rmse values for different k\n",
        "for K in range(1,21):\n",
        "    model = KNeighborsRegressor(n_neighbors = K)\n",
        "\n",
        "    model.fit(x_train, y_train)  #fit the model\n",
        "    pred=model.predict(x_test) #make prediction on test set\n",
        "    error = np.sqrt(mean_squared_error(y_test,pred)) #calculate rmse\n",
        "    rmse_val.append(error) #store rmse values\n",
        "    print('RMSE value for k= ' , K , 'is:', error)"
      ],
      "execution_count": 92,
      "outputs": [
        {
          "output_type": "stream",
          "text": [
            "RMSE value for k=  1 is: 232.6547230678413\n",
            "RMSE value for k=  2 is: 176.47548093469916\n",
            "RMSE value for k=  3 is: 221.31696790956653\n",
            "RMSE value for k=  4 is: 235.66957665146003\n",
            "RMSE value for k=  5 is: 272.1076740678118\n",
            "RMSE value for k=  6 is: 308.50989549317677\n",
            "RMSE value for k=  7 is: 346.76270623292464\n",
            "RMSE value for k=  8 is: 365.8214408019657\n",
            "RMSE value for k=  9 is: 393.0558350193128\n",
            "RMSE value for k=  10 is: 417.35177463037144\n",
            "RMSE value for k=  11 is: 449.3446761674151\n",
            "RMSE value for k=  12 is: 472.0216672534249\n",
            "RMSE value for k=  13 is: 497.400479027332\n",
            "RMSE value for k=  14 is: 517.469181230883\n",
            "RMSE value for k=  15 is: 550.2988243832541\n",
            "RMSE value for k=  16 is: 574.1356423178441\n",
            "RMSE value for k=  17 is: 600.2083931782771\n",
            "RMSE value for k=  18 is: 619.1867370834932\n",
            "RMSE value for k=  19 is: 632.1887955474454\n",
            "RMSE value for k=  20 is: 649.7136880102631\n"
          ],
          "name": "stdout"
        }
      ]
    },
    {
      "cell_type": "code",
      "metadata": {
        "colab": {
          "base_uri": "https://localhost:8080/",
          "height": 265
        },
        "id": "Dnf15bOUWxts",
        "outputId": "f9079016-70bc-4053-8093-dc3fbbf83b3a"
      },
      "source": [
        "model=KNeighborsRegressor(n_neighbors = 2)\n",
        "\n",
        "model.fit(x_train,y_train)\n",
        "\n",
        "pred=model.predict(x_test)\n",
        "\n",
        "plt.figure()\n",
        "plt.plot(y_test[:100],label='real')\n",
        "plt.plot(pred[:100],label='pred', alpha=0.5)\n",
        "plt.legend()\n",
        "plt.show()"
      ],
      "execution_count": 93,
      "outputs": [
        {
          "output_type": "display_data",
          "data": {
            "image/png": "[encoded data removed]",
            "text/plain": [
              "<Figure size 432x288 with 1 Axes>"
            ]
          },
          "metadata": {
            "needs_background": "light"
          }
        }
      ]
    },
    {
      "cell_type": "code",
      "metadata": {
        "colab": {
          "base_uri": "https://localhost:8080/",
          "height": 202
        },
        "id": "CLQyCcllXMoG",
        "outputId": "14a29bb8-d9cc-40c4-b17e-1b603270dadf"
      },
      "source": [
        "pred=model.predict(test)\n",
        "submit_knn=submit.copy()\n",
        "submit_knn['유입량']=pred\n",
        "submit_knn.head()"
      ],
      "execution_count": 96,
      "outputs": [
        {
          "output_type": "execute_result",
          "data": {
            "text/html": [
              "<div>\n",
              "<style scoped>\n",
              "    .dataframe tbody tr th:only-of-type {\n",
              "        vertical-align: middle;\n",
              "    }\n",
              "\n",
              "    .dataframe tbody tr th {\n",
              "        vertical-align: top;\n",
              "    }\n",
              "\n",
              "    .dataframe thead th {\n",
              "        text-align: right;\n",
              "    }\n",
              "</style>\n",
              "<table border=\"1\" class=\"dataframe\">\n",
              "  <thead>\n",
              "    <tr style=\"text-align: right;\">\n",
              "      <th></th>\n",
              "      <th>홍수사상번호</th>\n",
              "      <th>연</th>\n",
              "      <th>월</th>\n",
              "      <th>일</th>\n",
              "      <th>시간</th>\n",
              "      <th>유입량</th>\n",
              "    </tr>\n",
              "  </thead>\n",
              "  <tbody>\n",
              "    <tr>\n",
              "      <th>2891</th>\n",
              "      <td>26</td>\n",
              "      <td>2018</td>\n",
              "      <td>7</td>\n",
              "      <td>1</td>\n",
              "      <td>6</td>\n",
              "      <td>150.461248</td>\n",
              "    </tr>\n",
              "    <tr>\n",
              "      <th>2892</th>\n",
              "      <td>26</td>\n",
              "      <td>2018</td>\n",
              "      <td>7</td>\n",
              "      <td>1</td>\n",
              "      <td>7</td>\n",
              "      <td>155.299412</td>\n",
              "    </tr>\n",
              "    <tr>\n",
              "      <th>2893</th>\n",
              "      <td>26</td>\n",
              "      <td>2018</td>\n",
              "      <td>7</td>\n",
              "      <td>1</td>\n",
              "      <td>8</td>\n",
              "      <td>159.991283</td>\n",
              "    </tr>\n",
              "    <tr>\n",
              "      <th>2894</th>\n",
              "      <td>26</td>\n",
              "      <td>2018</td>\n",
              "      <td>7</td>\n",
              "      <td>1</td>\n",
              "      <td>9</td>\n",
              "      <td>168.820359</td>\n",
              "    </tr>\n",
              "    <tr>\n",
              "      <th>2895</th>\n",
              "      <td>26</td>\n",
              "      <td>2018</td>\n",
              "      <td>7</td>\n",
              "      <td>1</td>\n",
              "      <td>10</td>\n",
              "      <td>184.819845</td>\n",
              "    </tr>\n",
              "  </tbody>\n",
              "</table>\n",
              "</div>"
            ],
            "text/plain": [
              "      홍수사상번호     연  월  일  시간         유입량\n",
              "2891      26  2018  7  1   6  150.461248\n",
              "2892      26  2018  7  1   7  155.299412\n",
              "2893      26  2018  7  1   8  159.991283\n",
              "2894      26  2018  7  1   9  168.820359\n",
              "2895      26  2018  7  1  10  184.819845"
            ]
          },
          "metadata": {},
          "execution_count": 96
        }
      ]
    }
  ]
}
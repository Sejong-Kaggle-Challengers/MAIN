{
  "nbformat": 4,
  "nbformat_minor": 0,
  "metadata": {
    "colab": {
      "name": "홍수 zero_ver2",
      "provenance": [],
      "toc_visible": true
    },
    "kernelspec": {
      "name": "python3",
      "display_name": "Python 3"
    },
    "language_info": {
      "name": "python"
    }
  },
  "cells": [
    {
      "cell_type": "markdown",
      "metadata": {
        "id": "VtEVK7qFkTG-"
      },
      "source": [
        "##Auto ML 설치"
      ]
    },
    {
      "cell_type": "code",
      "metadata": {
        "colab": {
          "base_uri": "https://localhost:8080/"
        },
        "id": "VesCqOeCkVpH",
        "outputId": "796b5ab4-77bf-4d88-cc8f-c4c53e34a14f"
      },
      "source": [
        "!pip install --upgrade setuptools"
      ],
      "execution_count": 1,
      "outputs": [
        {
          "output_type": "stream",
          "text": [
            "Requirement already satisfied: setuptools in /usr/local/lib/python3.7/dist-packages (57.4.0)\n"
          ],
          "name": "stdout"
        }
      ]
    },
    {
      "cell_type": "code",
      "metadata": {
        "colab": {
          "base_uri": "https://localhost:8080/"
        },
        "id": "IzqIav-GkX0d",
        "outputId": "ef5dd2df-561d-43d1-d4c5-c7a051fd1330"
      },
      "source": [
        "!apt-get remove swig\n",
        "!apt-get install swig3.0 build-essential -y"
      ],
      "execution_count": 2,
      "outputs": [
        {
          "output_type": "stream",
          "text": [
            "Reading package lists... Done\n",
            "Building dependency tree       \n",
            "Reading state information... Done\n",
            "Package 'swig' is not installed, so not removed\n",
            "The following package was automatically installed and is no longer required:\n",
            "  libnvidia-common-460\n",
            "Use 'apt autoremove' to remove it.\n",
            "0 upgraded, 0 newly installed, 0 to remove and 40 not upgraded.\n",
            "Reading package lists... Done\n",
            "Building dependency tree       \n",
            "Reading state information... Done\n",
            "build-essential is already the newest version (12.4ubuntu1).\n",
            "swig3.0 is already the newest version (3.0.12-1).\n",
            "The following package was automatically installed and is no longer required:\n",
            "  libnvidia-common-460\n",
            "Use 'apt autoremove' to remove it.\n",
            "0 upgraded, 0 newly installed, 0 to remove and 40 not upgraded.\n"
          ],
          "name": "stdout"
        }
      ]
    },
    {
      "cell_type": "code",
      "metadata": {
        "colab": {
          "base_uri": "https://localhost:8080/"
        },
        "id": "ryw6K4IAkXx6",
        "outputId": "1409b04e-15e3-4bfd-9eac-26ad51bb0f59"
      },
      "source": [
        "!ln -s /usr/bin/swig3.0 /usr/bin/swig\n",
        "!apt-get install build-essential"
      ],
      "execution_count": 3,
      "outputs": [
        {
          "output_type": "stream",
          "text": [
            "ln: failed to create symbolic link '/usr/bin/swig': File exists\n",
            "Reading package lists... Done\n",
            "Building dependency tree       \n",
            "Reading state information... Done\n",
            "build-essential is already the newest version (12.4ubuntu1).\n",
            "The following package was automatically installed and is no longer required:\n",
            "  libnvidia-common-460\n",
            "Use 'apt autoremove' to remove it.\n",
            "0 upgraded, 0 newly installed, 0 to remove and 40 not upgraded.\n"
          ],
          "name": "stdout"
        }
      ]
    },
    {
      "cell_type": "code",
      "metadata": {
        "colab": {
          "base_uri": "https://localhost:8080/"
        },
        "id": "siBRCTHykXvB",
        "outputId": "97103bdc-5d83-48a7-b243-ca2d98d49c28"
      },
      "source": [
        "!pip install auto-sklearn"
      ],
      "execution_count": 4,
      "outputs": [
        {
          "output_type": "stream",
          "text": [
            "Requirement already satisfied: auto-sklearn in /usr/local/lib/python3.7/dist-packages (0.13.0)\n",
            "Requirement already satisfied: smac>=0.14 in /usr/local/lib/python3.7/dist-packages (from auto-sklearn) (1.0.1)\n",
            "Requirement already satisfied: dask<2021.07 in /usr/local/lib/python3.7/dist-packages (from auto-sklearn) (2021.6.2)\n",
            "Requirement already satisfied: ConfigSpace<0.5,>=0.4.14 in /usr/local/lib/python3.7/dist-packages (from auto-sklearn) (0.4.19)\n",
            "Requirement already satisfied: pynisher>=0.6.3 in /usr/local/lib/python3.7/dist-packages (from auto-sklearn) (0.6.4)\n",
            "Requirement already satisfied: joblib in /usr/local/lib/python3.7/dist-packages (from auto-sklearn) (1.0.1)\n",
            "Requirement already satisfied: pyrfr<0.9,>=0.8.1 in /usr/local/lib/python3.7/dist-packages (from auto-sklearn) (0.8.2)\n",
            "Requirement already satisfied: setuptools in /usr/local/lib/python3.7/dist-packages (from auto-sklearn) (57.4.0)\n",
            "Requirement already satisfied: typing-extensions in /usr/local/lib/python3.7/dist-packages (from auto-sklearn) (3.7.4.3)\n",
            "Requirement already satisfied: pandas>=1.0 in /usr/local/lib/python3.7/dist-packages (from auto-sklearn) (1.1.5)\n",
            "Requirement already satisfied: distributed<2021.07,>=2.2.0 in /usr/local/lib/python3.7/dist-packages (from auto-sklearn) (2021.6.2)\n",
            "Requirement already satisfied: scikit-learn<0.25.0,>=0.24.0 in /usr/local/lib/python3.7/dist-packages (from auto-sklearn) (0.24.2)\n",
            "Requirement already satisfied: pyyaml in /usr/local/lib/python3.7/dist-packages (from auto-sklearn) (3.13)\n",
            "Requirement already satisfied: liac-arff in /usr/local/lib/python3.7/dist-packages (from auto-sklearn) (2.5.0)\n",
            "Requirement already satisfied: threadpoolctl in /usr/local/lib/python3.7/dist-packages (from auto-sklearn) (2.2.0)\n",
            "Requirement already satisfied: numpy>=1.9.0 in /usr/local/lib/python3.7/dist-packages (from auto-sklearn) (1.19.5)\n",
            "Requirement already satisfied: scipy>=1.7.0 in /usr/local/lib/python3.7/dist-packages (from auto-sklearn) (1.7.1)\n",
            "Requirement already satisfied: pyparsing in /usr/local/lib/python3.7/dist-packages (from ConfigSpace<0.5,>=0.4.14->auto-sklearn) (2.4.7)\n",
            "Requirement already satisfied: cython in /usr/local/lib/python3.7/dist-packages (from ConfigSpace<0.5,>=0.4.14->auto-sklearn) (0.29.24)\n",
            "Requirement already satisfied: cloudpickle>=1.1.1 in /usr/local/lib/python3.7/dist-packages (from dask<2021.07->auto-sklearn) (1.6.0)\n",
            "Requirement already satisfied: fsspec>=0.6.0 in /usr/local/lib/python3.7/dist-packages (from dask<2021.07->auto-sklearn) (2021.7.0)\n",
            "Requirement already satisfied: toolz>=0.8.2 in /usr/local/lib/python3.7/dist-packages (from dask<2021.07->auto-sklearn) (0.11.1)\n",
            "Requirement already satisfied: partd>=0.3.10 in /usr/local/lib/python3.7/dist-packages (from dask<2021.07->auto-sklearn) (1.2.0)\n",
            "Requirement already satisfied: click>=6.6 in /usr/local/lib/python3.7/dist-packages (from distributed<2021.07,>=2.2.0->auto-sklearn) (7.1.2)\n",
            "Requirement already satisfied: psutil>=5.0 in /usr/local/lib/python3.7/dist-packages (from distributed<2021.07,>=2.2.0->auto-sklearn) (5.4.8)\n",
            "Requirement already satisfied: sortedcontainers!=2.0.0,!=2.0.1 in /usr/local/lib/python3.7/dist-packages (from distributed<2021.07,>=2.2.0->auto-sklearn) (2.4.0)\n",
            "Requirement already satisfied: tornado>=5 in /usr/local/lib/python3.7/dist-packages (from distributed<2021.07,>=2.2.0->auto-sklearn) (5.1.1)\n",
            "Requirement already satisfied: tblib>=1.6.0 in /usr/local/lib/python3.7/dist-packages (from distributed<2021.07,>=2.2.0->auto-sklearn) (1.7.0)\n",
            "Requirement already satisfied: msgpack>=0.6.0 in /usr/local/lib/python3.7/dist-packages (from distributed<2021.07,>=2.2.0->auto-sklearn) (1.0.2)\n",
            "Requirement already satisfied: zict>=0.1.3 in /usr/local/lib/python3.7/dist-packages (from distributed<2021.07,>=2.2.0->auto-sklearn) (2.0.0)\n",
            "Requirement already satisfied: pytz>=2017.2 in /usr/local/lib/python3.7/dist-packages (from pandas>=1.0->auto-sklearn) (2018.9)\n",
            "Requirement already satisfied: python-dateutil>=2.7.3 in /usr/local/lib/python3.7/dist-packages (from pandas>=1.0->auto-sklearn) (2.8.2)\n",
            "Requirement already satisfied: locket in /usr/local/lib/python3.7/dist-packages (from partd>=0.3.10->dask<2021.07->auto-sklearn) (0.2.1)\n",
            "Requirement already satisfied: six>=1.5 in /usr/local/lib/python3.7/dist-packages (from python-dateutil>=2.7.3->pandas>=1.0->auto-sklearn) (1.15.0)\n",
            "Requirement already satisfied: heapdict in /usr/local/lib/python3.7/dist-packages (from zict>=0.1.3->distributed<2021.07,>=2.2.0->auto-sklearn) (1.0.1)\n"
          ],
          "name": "stdout"
        }
      ]
    },
    {
      "cell_type": "code",
      "metadata": {
        "colab": {
          "base_uri": "https://localhost:8080/"
        },
        "id": "qgm4MhOsksEG",
        "outputId": "57167bd0-1547-44d4-84f1-e8dd4f8d7b3e"
      },
      "source": [
        "!pip install --upgrade scikit-learn\n",
        "!pip install scikit-learn==0.24.2\n",
        "\n",
        "import sklearn\n",
        "print('The scikit-learn version is {}.'.format(sklearn.__version__))"
      ],
      "execution_count": 5,
      "outputs": [
        {
          "output_type": "stream",
          "text": [
            "Requirement already satisfied: scikit-learn in /usr/local/lib/python3.7/dist-packages (0.24.2)\n",
            "Requirement already satisfied: joblib>=0.11 in /usr/local/lib/python3.7/dist-packages (from scikit-learn) (1.0.1)\n",
            "Requirement already satisfied: threadpoolctl>=2.0.0 in /usr/local/lib/python3.7/dist-packages (from scikit-learn) (2.2.0)\n",
            "Requirement already satisfied: numpy>=1.13.3 in /usr/local/lib/python3.7/dist-packages (from scikit-learn) (1.19.5)\n",
            "Requirement already satisfied: scipy>=0.19.1 in /usr/local/lib/python3.7/dist-packages (from scikit-learn) (1.7.1)\n",
            "Requirement already satisfied: scikit-learn==0.24.2 in /usr/local/lib/python3.7/dist-packages (0.24.2)\n",
            "Requirement already satisfied: scipy>=0.19.1 in /usr/local/lib/python3.7/dist-packages (from scikit-learn==0.24.2) (1.7.1)\n",
            "Requirement already satisfied: joblib>=0.11 in /usr/local/lib/python3.7/dist-packages (from scikit-learn==0.24.2) (1.0.1)\n",
            "Requirement already satisfied: threadpoolctl>=2.0.0 in /usr/local/lib/python3.7/dist-packages (from scikit-learn==0.24.2) (2.2.0)\n",
            "Requirement already satisfied: numpy>=1.13.3 in /usr/local/lib/python3.7/dist-packages (from scikit-learn==0.24.2) (1.19.5)\n",
            "The scikit-learn version is 0.24.2.\n"
          ],
          "name": "stdout"
        }
      ]
    },
    {
      "cell_type": "markdown",
      "metadata": {
        "id": "z4Q_em1Gk9jA"
      },
      "source": [
        "##Data Import"
      ]
    },
    {
      "cell_type": "code",
      "metadata": {
        "id": "J0oIlBtKSqFO"
      },
      "source": [
        "import numpy as np\n",
        "import pandas as pd\n",
        "import matplotlib.pyplot as plt\n",
        "from sklearn.metrics import mean_squared_error\n",
        "\n",
        "train=pd.read_excel(\"2021 빅콘테스트_데이터분석분야_퓨처스리그_홍수ZERO_댐유입량,강우,수위데이터_210803.xlsx\")\n",
        "test=pd.read_excel(\"2021 빅콘테스트_데이터분석분야_퓨처스리그_홍수ZERO_평가데이터_210803.xlsx\")"
      ],
      "execution_count": 194,
      "outputs": []
    },
    {
      "cell_type": "code",
      "metadata": {
        "colab": {
          "base_uri": "https://localhost:8080/",
          "height": 391
        },
        "id": "JNQoSY1EU7Yu",
        "outputId": "927b619c-0d85-4fd7-b08c-670dd86f5347"
      },
      "source": [
        "train.head()"
      ],
      "execution_count": 195,
      "outputs": [
        {
          "output_type": "execute_result",
          "data": {
            "text/html": [
              "<div>\n",
              "<style scoped>\n",
              "    .dataframe tbody tr th:only-of-type {\n",
              "        vertical-align: middle;\n",
              "    }\n",
              "\n",
              "    .dataframe tbody tr th {\n",
              "        vertical-align: top;\n",
              "    }\n",
              "\n",
              "    .dataframe thead th {\n",
              "        text-align: right;\n",
              "    }\n",
              "</style>\n",
              "<table border=\"1\" class=\"dataframe\">\n",
              "  <thead>\n",
              "    <tr style=\"text-align: right;\">\n",
              "      <th></th>\n",
              "      <th>홍수사상번호</th>\n",
              "      <th>연</th>\n",
              "      <th>월</th>\n",
              "      <th>일</th>\n",
              "      <th>시간</th>\n",
              "      <th>유입량</th>\n",
              "      <th>데이터집단 1</th>\n",
              "      <th>Unnamed: 7</th>\n",
              "      <th>Unnamed: 8</th>\n",
              "      <th>Unnamed: 9</th>\n",
              "      <th>Unnamed: 10</th>\n",
              "      <th>Unnamed: 11</th>\n",
              "      <th>Unnamed: 12</th>\n",
              "      <th>데이터집단 2</th>\n",
              "      <th>Unnamed: 14</th>\n",
              "      <th>Unnamed: 15</th>\n",
              "      <th>Unnamed: 16</th>\n",
              "      <th>Unnamed: 17</th>\n",
              "      <th>Unnamed: 18</th>\n",
              "      <th>Unnamed: 19</th>\n",
              "      <th>데이터집단 3</th>\n",
              "      <th>Unnamed: 21</th>\n",
              "      <th>Unnamed: 22</th>\n",
              "      <th>Unnamed: 23</th>\n",
              "      <th>Unnamed: 24</th>\n",
              "      <th>Unnamed: 25</th>\n",
              "      <th>Unnamed: 26</th>\n",
              "      <th>데이터 집단 4</th>\n",
              "      <th>Unnamed: 28</th>\n",
              "      <th>Unnamed: 29</th>\n",
              "      <th>Unnamed: 30</th>\n",
              "      <th>Unnamed: 31</th>\n",
              "      <th>Unnamed: 32</th>\n",
              "      <th>Unnamed: 33</th>\n",
              "      <th>데이터 집단 5</th>\n",
              "      <th>Unnamed: 35</th>\n",
              "      <th>Unnamed: 36</th>\n",
              "      <th>Unnamed: 37</th>\n",
              "      <th>Unnamed: 38</th>\n",
              "      <th>Unnamed: 39</th>\n",
              "      <th>Unnamed: 40</th>\n",
              "      <th>데이터 집단 6</th>\n",
              "      <th>Unnamed: 42</th>\n",
              "      <th>Unnamed: 43</th>\n",
              "      <th>Unnamed: 44</th>\n",
              "      <th>Unnamed: 45</th>\n",
              "      <th>Unnamed: 46</th>\n",
              "      <th>Unnamed: 47</th>\n",
              "    </tr>\n",
              "  </thead>\n",
              "  <tbody>\n",
              "    <tr>\n",
              "      <th>0</th>\n",
              "      <td>NaN</td>\n",
              "      <td>NaN</td>\n",
              "      <td>NaN</td>\n",
              "      <td>NaN</td>\n",
              "      <td>NaN</td>\n",
              "      <td>NaN</td>\n",
              "      <td>유역평균강수</td>\n",
              "      <td>강우(A지역)</td>\n",
              "      <td>강우(B지역)</td>\n",
              "      <td>강우(C지역)</td>\n",
              "      <td>강우(D지역)</td>\n",
              "      <td>수위(E지역)</td>\n",
              "      <td>수위(D지역)</td>\n",
              "      <td>유역평균강수</td>\n",
              "      <td>강우(A지역)</td>\n",
              "      <td>강우(B지역)</td>\n",
              "      <td>강우(C지역)</td>\n",
              "      <td>강우(D지역)</td>\n",
              "      <td>수위(E지역)</td>\n",
              "      <td>수위(D지역)</td>\n",
              "      <td>유역평균강수</td>\n",
              "      <td>강우(A지역)</td>\n",
              "      <td>강우(B지역)</td>\n",
              "      <td>강우(C지역)</td>\n",
              "      <td>강우(D지역)</td>\n",
              "      <td>수위(E지역)</td>\n",
              "      <td>수위(D지역)</td>\n",
              "      <td>유역평균강수</td>\n",
              "      <td>강우(A지역)</td>\n",
              "      <td>강우(B지역)</td>\n",
              "      <td>강우(C지역)</td>\n",
              "      <td>강우(D지역)</td>\n",
              "      <td>수위(E지역)</td>\n",
              "      <td>수위(D지역)</td>\n",
              "      <td>유역평균강수</td>\n",
              "      <td>강우(A지역)</td>\n",
              "      <td>강우(B지역)</td>\n",
              "      <td>강우(C지역)</td>\n",
              "      <td>강우(D지역)</td>\n",
              "      <td>수위(E지역)</td>\n",
              "      <td>수위(D지역)</td>\n",
              "      <td>유역평균강수</td>\n",
              "      <td>강우(A지역)</td>\n",
              "      <td>강우(B지역)</td>\n",
              "      <td>강우(C지역)</td>\n",
              "      <td>강우(D지역)</td>\n",
              "      <td>수위(E지역)</td>\n",
              "      <td>수위(D지역)</td>\n",
              "    </tr>\n",
              "    <tr>\n",
              "      <th>1</th>\n",
              "      <td>1.0</td>\n",
              "      <td>2006.0</td>\n",
              "      <td>7.0</td>\n",
              "      <td>10.0</td>\n",
              "      <td>8.0</td>\n",
              "      <td>189.100000</td>\n",
              "      <td>6.4</td>\n",
              "      <td>7</td>\n",
              "      <td>7</td>\n",
              "      <td>7</td>\n",
              "      <td>8</td>\n",
              "      <td>2.54</td>\n",
              "      <td>122.569</td>\n",
              "      <td>6.3</td>\n",
              "      <td>7</td>\n",
              "      <td>7</td>\n",
              "      <td>7</td>\n",
              "      <td>8</td>\n",
              "      <td>2.54</td>\n",
              "      <td>122.542</td>\n",
              "      <td>6.3</td>\n",
              "      <td>7</td>\n",
              "      <td>7</td>\n",
              "      <td>7</td>\n",
              "      <td>8</td>\n",
              "      <td>2.54</td>\n",
              "      <td>122.55</td>\n",
              "      <td>6.4</td>\n",
              "      <td>7</td>\n",
              "      <td>7</td>\n",
              "      <td>8</td>\n",
              "      <td>8</td>\n",
              "      <td>2.54</td>\n",
              "      <td>122.675</td>\n",
              "      <td>6.4</td>\n",
              "      <td>7</td>\n",
              "      <td>7</td>\n",
              "      <td>8</td>\n",
              "      <td>8</td>\n",
              "      <td>2.54</td>\n",
              "      <td>122.66</td>\n",
              "      <td>6.4</td>\n",
              "      <td>7</td>\n",
              "      <td>7</td>\n",
              "      <td>8</td>\n",
              "      <td>8</td>\n",
              "      <td>2.54</td>\n",
              "      <td>122.61</td>\n",
              "    </tr>\n",
              "    <tr>\n",
              "      <th>2</th>\n",
              "      <td>1.0</td>\n",
              "      <td>2006.0</td>\n",
              "      <td>7.0</td>\n",
              "      <td>10.0</td>\n",
              "      <td>9.0</td>\n",
              "      <td>216.951962</td>\n",
              "      <td>6.3</td>\n",
              "      <td>7</td>\n",
              "      <td>8</td>\n",
              "      <td>7</td>\n",
              "      <td>8</td>\n",
              "      <td>2.53</td>\n",
              "      <td>122.562</td>\n",
              "      <td>6.4</td>\n",
              "      <td>7</td>\n",
              "      <td>8</td>\n",
              "      <td>7</td>\n",
              "      <td>8</td>\n",
              "      <td>2.53</td>\n",
              "      <td>122.55</td>\n",
              "      <td>6.4</td>\n",
              "      <td>7</td>\n",
              "      <td>8</td>\n",
              "      <td>7</td>\n",
              "      <td>8</td>\n",
              "      <td>2.53</td>\n",
              "      <td>122.558</td>\n",
              "      <td>7.3</td>\n",
              "      <td>7</td>\n",
              "      <td>8</td>\n",
              "      <td>10</td>\n",
              "      <td>10</td>\n",
              "      <td>2.53</td>\n",
              "      <td>122.668</td>\n",
              "      <td>7.3</td>\n",
              "      <td>7</td>\n",
              "      <td>8</td>\n",
              "      <td>10</td>\n",
              "      <td>10</td>\n",
              "      <td>2.53</td>\n",
              "      <td>122.648</td>\n",
              "      <td>7.3</td>\n",
              "      <td>7</td>\n",
              "      <td>8</td>\n",
              "      <td>10</td>\n",
              "      <td>10</td>\n",
              "      <td>2.53</td>\n",
              "      <td>122.6</td>\n",
              "    </tr>\n",
              "    <tr>\n",
              "      <th>3</th>\n",
              "      <td>1.0</td>\n",
              "      <td>2006.0</td>\n",
              "      <td>7.0</td>\n",
              "      <td>10.0</td>\n",
              "      <td>10.0</td>\n",
              "      <td>251.424419</td>\n",
              "      <td>6.4</td>\n",
              "      <td>7</td>\n",
              "      <td>9</td>\n",
              "      <td>7</td>\n",
              "      <td>8</td>\n",
              "      <td>2.53</td>\n",
              "      <td>122.556</td>\n",
              "      <td>7.3</td>\n",
              "      <td>7</td>\n",
              "      <td>9</td>\n",
              "      <td>7</td>\n",
              "      <td>8</td>\n",
              "      <td>2.53</td>\n",
              "      <td>122.558</td>\n",
              "      <td>7.3</td>\n",
              "      <td>7</td>\n",
              "      <td>9</td>\n",
              "      <td>8</td>\n",
              "      <td>8</td>\n",
              "      <td>2.53</td>\n",
              "      <td>122.567</td>\n",
              "      <td>8.2</td>\n",
              "      <td>7</td>\n",
              "      <td>9</td>\n",
              "      <td>10</td>\n",
              "      <td>11</td>\n",
              "      <td>2.53</td>\n",
              "      <td>122.661</td>\n",
              "      <td>8.2</td>\n",
              "      <td>7</td>\n",
              "      <td>9</td>\n",
              "      <td>10</td>\n",
              "      <td>11</td>\n",
              "      <td>2.53</td>\n",
              "      <td>122.636</td>\n",
              "      <td>8.2</td>\n",
              "      <td>7</td>\n",
              "      <td>9</td>\n",
              "      <td>10</td>\n",
              "      <td>11</td>\n",
              "      <td>2.53</td>\n",
              "      <td>122.59</td>\n",
              "    </tr>\n",
              "    <tr>\n",
              "      <th>4</th>\n",
              "      <td>1.0</td>\n",
              "      <td>2006.0</td>\n",
              "      <td>7.0</td>\n",
              "      <td>10.0</td>\n",
              "      <td>11.0</td>\n",
              "      <td>302.812199</td>\n",
              "      <td>7.3</td>\n",
              "      <td>7</td>\n",
              "      <td>10</td>\n",
              "      <td>7</td>\n",
              "      <td>8</td>\n",
              "      <td>2.53</td>\n",
              "      <td>122.556</td>\n",
              "      <td>8.2</td>\n",
              "      <td>7</td>\n",
              "      <td>10</td>\n",
              "      <td>8</td>\n",
              "      <td>8</td>\n",
              "      <td>2.53</td>\n",
              "      <td>122.567</td>\n",
              "      <td>8.2</td>\n",
              "      <td>7</td>\n",
              "      <td>10</td>\n",
              "      <td>10</td>\n",
              "      <td>10</td>\n",
              "      <td>2.53</td>\n",
              "      <td>122.575</td>\n",
              "      <td>11.3</td>\n",
              "      <td>9</td>\n",
              "      <td>10</td>\n",
              "      <td>15</td>\n",
              "      <td>14</td>\n",
              "      <td>2.53</td>\n",
              "      <td>122.654</td>\n",
              "      <td>11.3</td>\n",
              "      <td>9</td>\n",
              "      <td>10</td>\n",
              "      <td>15</td>\n",
              "      <td>14</td>\n",
              "      <td>2.53</td>\n",
              "      <td>122.62</td>\n",
              "      <td>11.3</td>\n",
              "      <td>9</td>\n",
              "      <td>10</td>\n",
              "      <td>15</td>\n",
              "      <td>14</td>\n",
              "      <td>2.53</td>\n",
              "      <td>122.585</td>\n",
              "    </tr>\n",
              "  </tbody>\n",
              "</table>\n",
              "</div>"
            ],
            "text/plain": [
              "   홍수사상번호       연    월     일  ...  Unnamed: 44  Unnamed: 45 Unnamed: 46 Unnamed: 47\n",
              "0     NaN     NaN  NaN   NaN  ...      강우(C지역)      강우(D지역)     수위(E지역)     수위(D지역)\n",
              "1     1.0  2006.0  7.0  10.0  ...            8            8        2.54      122.61\n",
              "2     1.0  2006.0  7.0  10.0  ...           10           10        2.53       122.6\n",
              "3     1.0  2006.0  7.0  10.0  ...           10           11        2.53      122.59\n",
              "4     1.0  2006.0  7.0  10.0  ...           15           14        2.53     122.585\n",
              "\n",
              "[5 rows x 48 columns]"
            ]
          },
          "metadata": {},
          "execution_count": 195
        }
      ]
    },
    {
      "cell_type": "code",
      "metadata": {
        "id": "3FNtN8XIbEQ3"
      },
      "source": [
        "train=train.drop(labels=0,axis=0)\n",
        "column=['홍수사상번호','연','월','일','시간','유입량','1유역평균강수','1강우A','1강우B','1강우C','1강우D','1수위E','1수위D','2유역평균강수','2강우A','2강우B','2강우C','2강우D','2수위E','2수위D','3유역평균강수','3강우A','3강우B','3강우C','3강우D','3수위E','3수위D','4유역평균강수','4강우A','4강우B','4강우C','4강우D','4수위E','4수위D','5유역평균강수','5강우A','5강우B','5강우C','5강우D','5수위E','5수위D','6유역평균강수','6강우A','6강우B','6강우C','6강우D','6수위E','6수위D']\n",
        "train.columns=column"
      ],
      "execution_count": 196,
      "outputs": []
    },
    {
      "cell_type": "code",
      "metadata": {
        "colab": {
          "base_uri": "https://localhost:8080/",
          "height": 262
        },
        "id": "4SJBxCFIVEH8",
        "outputId": "9cd7c7c0-8234-4031-d072-d0596c2da56d"
      },
      "source": [
        "train.head(3)"
      ],
      "execution_count": 197,
      "outputs": [
        {
          "output_type": "execute_result",
          "data": {
            "text/html": [
              "<div>\n",
              "<style scoped>\n",
              "    .dataframe tbody tr th:only-of-type {\n",
              "        vertical-align: middle;\n",
              "    }\n",
              "\n",
              "    .dataframe tbody tr th {\n",
              "        vertical-align: top;\n",
              "    }\n",
              "\n",
              "    .dataframe thead th {\n",
              "        text-align: right;\n",
              "    }\n",
              "</style>\n",
              "<table border=\"1\" class=\"dataframe\">\n",
              "  <thead>\n",
              "    <tr style=\"text-align: right;\">\n",
              "      <th></th>\n",
              "      <th>홍수사상번호</th>\n",
              "      <th>연</th>\n",
              "      <th>월</th>\n",
              "      <th>일</th>\n",
              "      <th>시간</th>\n",
              "      <th>유입량</th>\n",
              "      <th>1유역평균강수</th>\n",
              "      <th>1강우A</th>\n",
              "      <th>1강우B</th>\n",
              "      <th>1강우C</th>\n",
              "      <th>1강우D</th>\n",
              "      <th>1수위E</th>\n",
              "      <th>1수위D</th>\n",
              "      <th>2유역평균강수</th>\n",
              "      <th>2강우A</th>\n",
              "      <th>2강우B</th>\n",
              "      <th>2강우C</th>\n",
              "      <th>2강우D</th>\n",
              "      <th>2수위E</th>\n",
              "      <th>2수위D</th>\n",
              "      <th>3유역평균강수</th>\n",
              "      <th>3강우A</th>\n",
              "      <th>3강우B</th>\n",
              "      <th>3강우C</th>\n",
              "      <th>3강우D</th>\n",
              "      <th>3수위E</th>\n",
              "      <th>3수위D</th>\n",
              "      <th>4유역평균강수</th>\n",
              "      <th>4강우A</th>\n",
              "      <th>4강우B</th>\n",
              "      <th>4강우C</th>\n",
              "      <th>4강우D</th>\n",
              "      <th>4수위E</th>\n",
              "      <th>4수위D</th>\n",
              "      <th>5유역평균강수</th>\n",
              "      <th>5강우A</th>\n",
              "      <th>5강우B</th>\n",
              "      <th>5강우C</th>\n",
              "      <th>5강우D</th>\n",
              "      <th>5수위E</th>\n",
              "      <th>5수위D</th>\n",
              "      <th>6유역평균강수</th>\n",
              "      <th>6강우A</th>\n",
              "      <th>6강우B</th>\n",
              "      <th>6강우C</th>\n",
              "      <th>6강우D</th>\n",
              "      <th>6수위E</th>\n",
              "      <th>6수위D</th>\n",
              "    </tr>\n",
              "  </thead>\n",
              "  <tbody>\n",
              "    <tr>\n",
              "      <th>1</th>\n",
              "      <td>1.0</td>\n",
              "      <td>2006.0</td>\n",
              "      <td>7.0</td>\n",
              "      <td>10.0</td>\n",
              "      <td>8.0</td>\n",
              "      <td>189.100000</td>\n",
              "      <td>6.4</td>\n",
              "      <td>7</td>\n",
              "      <td>7</td>\n",
              "      <td>7</td>\n",
              "      <td>8</td>\n",
              "      <td>2.54</td>\n",
              "      <td>122.569</td>\n",
              "      <td>6.3</td>\n",
              "      <td>7</td>\n",
              "      <td>7</td>\n",
              "      <td>7</td>\n",
              "      <td>8</td>\n",
              "      <td>2.54</td>\n",
              "      <td>122.542</td>\n",
              "      <td>6.3</td>\n",
              "      <td>7</td>\n",
              "      <td>7</td>\n",
              "      <td>7</td>\n",
              "      <td>8</td>\n",
              "      <td>2.54</td>\n",
              "      <td>122.55</td>\n",
              "      <td>6.4</td>\n",
              "      <td>7</td>\n",
              "      <td>7</td>\n",
              "      <td>8</td>\n",
              "      <td>8</td>\n",
              "      <td>2.54</td>\n",
              "      <td>122.675</td>\n",
              "      <td>6.4</td>\n",
              "      <td>7</td>\n",
              "      <td>7</td>\n",
              "      <td>8</td>\n",
              "      <td>8</td>\n",
              "      <td>2.54</td>\n",
              "      <td>122.66</td>\n",
              "      <td>6.4</td>\n",
              "      <td>7</td>\n",
              "      <td>7</td>\n",
              "      <td>8</td>\n",
              "      <td>8</td>\n",
              "      <td>2.54</td>\n",
              "      <td>122.61</td>\n",
              "    </tr>\n",
              "    <tr>\n",
              "      <th>2</th>\n",
              "      <td>1.0</td>\n",
              "      <td>2006.0</td>\n",
              "      <td>7.0</td>\n",
              "      <td>10.0</td>\n",
              "      <td>9.0</td>\n",
              "      <td>216.951962</td>\n",
              "      <td>6.3</td>\n",
              "      <td>7</td>\n",
              "      <td>8</td>\n",
              "      <td>7</td>\n",
              "      <td>8</td>\n",
              "      <td>2.53</td>\n",
              "      <td>122.562</td>\n",
              "      <td>6.4</td>\n",
              "      <td>7</td>\n",
              "      <td>8</td>\n",
              "      <td>7</td>\n",
              "      <td>8</td>\n",
              "      <td>2.53</td>\n",
              "      <td>122.55</td>\n",
              "      <td>6.4</td>\n",
              "      <td>7</td>\n",
              "      <td>8</td>\n",
              "      <td>7</td>\n",
              "      <td>8</td>\n",
              "      <td>2.53</td>\n",
              "      <td>122.558</td>\n",
              "      <td>7.3</td>\n",
              "      <td>7</td>\n",
              "      <td>8</td>\n",
              "      <td>10</td>\n",
              "      <td>10</td>\n",
              "      <td>2.53</td>\n",
              "      <td>122.668</td>\n",
              "      <td>7.3</td>\n",
              "      <td>7</td>\n",
              "      <td>8</td>\n",
              "      <td>10</td>\n",
              "      <td>10</td>\n",
              "      <td>2.53</td>\n",
              "      <td>122.648</td>\n",
              "      <td>7.3</td>\n",
              "      <td>7</td>\n",
              "      <td>8</td>\n",
              "      <td>10</td>\n",
              "      <td>10</td>\n",
              "      <td>2.53</td>\n",
              "      <td>122.6</td>\n",
              "    </tr>\n",
              "    <tr>\n",
              "      <th>3</th>\n",
              "      <td>1.0</td>\n",
              "      <td>2006.0</td>\n",
              "      <td>7.0</td>\n",
              "      <td>10.0</td>\n",
              "      <td>10.0</td>\n",
              "      <td>251.424419</td>\n",
              "      <td>6.4</td>\n",
              "      <td>7</td>\n",
              "      <td>9</td>\n",
              "      <td>7</td>\n",
              "      <td>8</td>\n",
              "      <td>2.53</td>\n",
              "      <td>122.556</td>\n",
              "      <td>7.3</td>\n",
              "      <td>7</td>\n",
              "      <td>9</td>\n",
              "      <td>7</td>\n",
              "      <td>8</td>\n",
              "      <td>2.53</td>\n",
              "      <td>122.558</td>\n",
              "      <td>7.3</td>\n",
              "      <td>7</td>\n",
              "      <td>9</td>\n",
              "      <td>8</td>\n",
              "      <td>8</td>\n",
              "      <td>2.53</td>\n",
              "      <td>122.567</td>\n",
              "      <td>8.2</td>\n",
              "      <td>7</td>\n",
              "      <td>9</td>\n",
              "      <td>10</td>\n",
              "      <td>11</td>\n",
              "      <td>2.53</td>\n",
              "      <td>122.661</td>\n",
              "      <td>8.2</td>\n",
              "      <td>7</td>\n",
              "      <td>9</td>\n",
              "      <td>10</td>\n",
              "      <td>11</td>\n",
              "      <td>2.53</td>\n",
              "      <td>122.636</td>\n",
              "      <td>8.2</td>\n",
              "      <td>7</td>\n",
              "      <td>9</td>\n",
              "      <td>10</td>\n",
              "      <td>11</td>\n",
              "      <td>2.53</td>\n",
              "      <td>122.59</td>\n",
              "    </tr>\n",
              "  </tbody>\n",
              "</table>\n",
              "</div>"
            ],
            "text/plain": [
              "   홍수사상번호       연    월     일    시간  ...  6강우B 6강우C 6강우D  6수위E    6수위D\n",
              "1     1.0  2006.0  7.0  10.0   8.0  ...     7    8    8  2.54  122.61\n",
              "2     1.0  2006.0  7.0  10.0   9.0  ...     8   10   10  2.53   122.6\n",
              "3     1.0  2006.0  7.0  10.0  10.0  ...     9   10   11  2.53  122.59\n",
              "\n",
              "[3 rows x 48 columns]"
            ]
          },
          "metadata": {},
          "execution_count": 197
        }
      ]
    },
    {
      "cell_type": "code",
      "metadata": {
        "colab": {
          "base_uri": "https://localhost:8080/"
        },
        "id": "PL7R5FAaasmC",
        "outputId": "51068f78-8240-4d45-a8ae-28a3b01ca595"
      },
      "source": [
        "train.info()\n",
        "print(\"test 해야할 행 수 : \",3051-2891,\" == test 행 수\")"
      ],
      "execution_count": 198,
      "outputs": [
        {
          "output_type": "stream",
          "text": [
            "<class 'pandas.core.frame.DataFrame'>\n",
            "Int64Index: 3051 entries, 1 to 3051\n",
            "Data columns (total 48 columns):\n",
            " #   Column   Non-Null Count  Dtype  \n",
            "---  ------   --------------  -----  \n",
            " 0   홍수사상번호   3051 non-null   float64\n",
            " 1   연        3051 non-null   float64\n",
            " 2   월        3051 non-null   float64\n",
            " 3   일        3051 non-null   float64\n",
            " 4   시간       3051 non-null   float64\n",
            " 5   유입량      2891 non-null   float64\n",
            " 6   1유역평균강수  3051 non-null   object \n",
            " 7   1강우A     3051 non-null   object \n",
            " 8   1강우B     3051 non-null   object \n",
            " 9   1강우C     3051 non-null   object \n",
            " 10  1강우D     3051 non-null   object \n",
            " 11  1수위E     3051 non-null   object \n",
            " 12  1수위D     3051 non-null   object \n",
            " 13  2유역평균강수  3051 non-null   object \n",
            " 14  2강우A     3051 non-null   object \n",
            " 15  2강우B     3051 non-null   object \n",
            " 16  2강우C     3051 non-null   object \n",
            " 17  2강우D     3051 non-null   object \n",
            " 18  2수위E     3051 non-null   object \n",
            " 19  2수위D     3051 non-null   object \n",
            " 20  3유역평균강수  3051 non-null   object \n",
            " 21  3강우A     3051 non-null   object \n",
            " 22  3강우B     3051 non-null   object \n",
            " 23  3강우C     3051 non-null   object \n",
            " 24  3강우D     3051 non-null   object \n",
            " 25  3수위E     3051 non-null   object \n",
            " 26  3수위D     3051 non-null   object \n",
            " 27  4유역평균강수  3051 non-null   object \n",
            " 28  4강우A     3051 non-null   object \n",
            " 29  4강우B     3051 non-null   object \n",
            " 30  4강우C     3051 non-null   object \n",
            " 31  4강우D     3051 non-null   object \n",
            " 32  4수위E     3051 non-null   object \n",
            " 33  4수위D     3051 non-null   object \n",
            " 34  5유역평균강수  3051 non-null   object \n",
            " 35  5강우A     3051 non-null   object \n",
            " 36  5강우B     3051 non-null   object \n",
            " 37  5강우C     3051 non-null   object \n",
            " 38  5강우D     3051 non-null   object \n",
            " 39  5수위E     3051 non-null   object \n",
            " 40  5수위D     3051 non-null   object \n",
            " 41  6유역평균강수  3051 non-null   object \n",
            " 42  6강우A     3051 non-null   object \n",
            " 43  6강우B     3051 non-null   object \n",
            " 44  6강우C     3051 non-null   object \n",
            " 45  6강우D     3051 non-null   object \n",
            " 46  6수위E     3051 non-null   object \n",
            " 47  6수위D     3051 non-null   object \n",
            "dtypes: float64(6), object(42)\n",
            "memory usage: 1.1+ MB\n",
            "test 해야할 행 수 :  160  == test 행 수\n"
          ],
          "name": "stdout"
        }
      ]
    },
    {
      "cell_type": "code",
      "metadata": {
        "colab": {
          "base_uri": "https://localhost:8080/",
          "height": 203
        },
        "id": "9_wiCOF-YsIV",
        "outputId": "e9e9b3af-aa5f-42ff-ca4c-202613dfd2f7"
      },
      "source": [
        "test.head()"
      ],
      "execution_count": 199,
      "outputs": [
        {
          "output_type": "execute_result",
          "data": {
            "text/html": [
              "<div>\n",
              "<style scoped>\n",
              "    .dataframe tbody tr th:only-of-type {\n",
              "        vertical-align: middle;\n",
              "    }\n",
              "\n",
              "    .dataframe tbody tr th {\n",
              "        vertical-align: top;\n",
              "    }\n",
              "\n",
              "    .dataframe thead th {\n",
              "        text-align: right;\n",
              "    }\n",
              "</style>\n",
              "<table border=\"1\" class=\"dataframe\">\n",
              "  <thead>\n",
              "    <tr style=\"text-align: right;\">\n",
              "      <th></th>\n",
              "      <th>NO</th>\n",
              "      <th>홍수사상번호</th>\n",
              "      <th>연</th>\n",
              "      <th>월</th>\n",
              "      <th>일</th>\n",
              "      <th>시간</th>\n",
              "      <th>유입량</th>\n",
              "    </tr>\n",
              "  </thead>\n",
              "  <tbody>\n",
              "    <tr>\n",
              "      <th>0</th>\n",
              "      <td>NaN</td>\n",
              "      <td>NaN</td>\n",
              "      <td>NaN</td>\n",
              "      <td>NaN</td>\n",
              "      <td>NaN</td>\n",
              "      <td>NaN</td>\n",
              "      <td>NaN</td>\n",
              "    </tr>\n",
              "    <tr>\n",
              "      <th>1</th>\n",
              "      <td>1.0</td>\n",
              "      <td>26.0</td>\n",
              "      <td>2018.0</td>\n",
              "      <td>7.0</td>\n",
              "      <td>1.0</td>\n",
              "      <td>6.0</td>\n",
              "      <td>NaN</td>\n",
              "    </tr>\n",
              "    <tr>\n",
              "      <th>2</th>\n",
              "      <td>2.0</td>\n",
              "      <td>26.0</td>\n",
              "      <td>2018.0</td>\n",
              "      <td>7.0</td>\n",
              "      <td>1.0</td>\n",
              "      <td>7.0</td>\n",
              "      <td>NaN</td>\n",
              "    </tr>\n",
              "    <tr>\n",
              "      <th>3</th>\n",
              "      <td>3.0</td>\n",
              "      <td>26.0</td>\n",
              "      <td>2018.0</td>\n",
              "      <td>7.0</td>\n",
              "      <td>1.0</td>\n",
              "      <td>8.0</td>\n",
              "      <td>NaN</td>\n",
              "    </tr>\n",
              "    <tr>\n",
              "      <th>4</th>\n",
              "      <td>4.0</td>\n",
              "      <td>26.0</td>\n",
              "      <td>2018.0</td>\n",
              "      <td>7.0</td>\n",
              "      <td>1.0</td>\n",
              "      <td>9.0</td>\n",
              "      <td>NaN</td>\n",
              "    </tr>\n",
              "  </tbody>\n",
              "</table>\n",
              "</div>"
            ],
            "text/plain": [
              "    NO  홍수사상번호       연    월    일   시간  유입량\n",
              "0  NaN     NaN     NaN  NaN  NaN  NaN  NaN\n",
              "1  1.0    26.0  2018.0  7.0  1.0  6.0  NaN\n",
              "2  2.0    26.0  2018.0  7.0  1.0  7.0  NaN\n",
              "3  3.0    26.0  2018.0  7.0  1.0  8.0  NaN\n",
              "4  4.0    26.0  2018.0  7.0  1.0  9.0  NaN"
            ]
          },
          "metadata": {},
          "execution_count": 199
        }
      ]
    },
    {
      "cell_type": "code",
      "metadata": {
        "id": "4dX5ZUjNa1dC"
      },
      "source": [
        "test=test.drop(labels=0 ,axis=0)"
      ],
      "execution_count": 200,
      "outputs": []
    },
    {
      "cell_type": "code",
      "metadata": {
        "colab": {
          "base_uri": "https://localhost:8080/"
        },
        "id": "05Bw1Sc7dslf",
        "outputId": "26fbdcd7-634e-45f5-96b3-131187aed6d3"
      },
      "source": [
        "test.info()"
      ],
      "execution_count": 201,
      "outputs": [
        {
          "output_type": "stream",
          "text": [
            "<class 'pandas.core.frame.DataFrame'>\n",
            "Int64Index: 160 entries, 1 to 160\n",
            "Data columns (total 7 columns):\n",
            " #   Column  Non-Null Count  Dtype  \n",
            "---  ------  --------------  -----  \n",
            " 0   NO      160 non-null    float64\n",
            " 1   홍수사상번호  160 non-null    float64\n",
            " 2   연       160 non-null    float64\n",
            " 3   월       160 non-null    float64\n",
            " 4   일       160 non-null    float64\n",
            " 5   시간      160 non-null    float64\n",
            " 6   유입량     0 non-null      float64\n",
            "dtypes: float64(7)\n",
            "memory usage: 10.0 KB\n"
          ],
          "name": "stdout"
        }
      ]
    },
    {
      "cell_type": "code",
      "metadata": {
        "colab": {
          "base_uri": "https://localhost:8080/"
        },
        "id": "Sj8rhd8-ZWZb",
        "outputId": "c1dabd8c-bffb-40f8-90bc-338cec4b656d"
      },
      "source": [
        "print('train shape : ', train.shape, 'test shape : ',test.shape)"
      ],
      "execution_count": 202,
      "outputs": [
        {
          "output_type": "stream",
          "text": [
            "train shape :  (3051, 48) test shape :  (160, 7)\n"
          ],
          "name": "stdout"
        }
      ]
    },
    {
      "cell_type": "markdown",
      "metadata": {
        "id": "cXFmKEngUD3v"
      },
      "source": [
        "#년 월 시 별 평균"
      ]
    },
    {
      "cell_type": "markdown",
      "metadata": {
        "id": "5NrXeW23iWU2"
      },
      "source": [
        "##연"
      ]
    },
    {
      "cell_type": "code",
      "metadata": {
        "id": "rU--axY5liNh"
      },
      "source": [
        "print(train['연'].unique())\n",
        "years=[2006, 2007, 2008, 2009, 2010, 2011, 2012, 2013, 2017]"
      ],
      "execution_count": null,
      "outputs": []
    },
    {
      "cell_type": "code",
      "metadata": {
        "id": "9c1fL6PrmTpX"
      },
      "source": [
        "graph_x=list()\n",
        "graph_y=list()\n",
        "for i in years:\n",
        "    temp_mean=new_train[new_train['연']==i]['유입량'].mean()\n",
        "    temp_len=len(new_train[new_train['연']==i])\n",
        "    print(i,\"년에서의 유입량 평균\",temp_mean, \"데이터수 : \",temp_len)\n",
        "    graph_x.append(i)\n",
        "    graph_y.append(temp_mean)\n",
        "\n",
        "graph_x.sort()"
      ],
      "execution_count": null,
      "outputs": []
    },
    {
      "cell_type": "markdown",
      "metadata": {
        "id": "PpE4jUKqmO2T"
      },
      "source": [
        "년도별 데이터수가 많이 달라서 영향을 많이 미치는지는 않는 것 같다"
      ]
    },
    {
      "cell_type": "markdown",
      "metadata": {
        "id": "-M865yFQlvjm"
      },
      "source": [
        "https://www.etoday.co.kr/news/view/1925778"
      ]
    },
    {
      "cell_type": "code",
      "metadata": {
        "id": "87HQipSBmqal"
      },
      "source": [
        "plt.bar(graph_x,graph_y)\n",
        "plt.ylim(700,4100)\n",
        "plt.show()"
      ],
      "execution_count": null,
      "outputs": []
    },
    {
      "cell_type": "markdown",
      "metadata": {
        "id": "ejlX1SVwiZjH"
      },
      "source": [
        "##월"
      ]
    },
    {
      "cell_type": "code",
      "metadata": {
        "id": "JCQh45iVfmBs"
      },
      "source": [
        "print(train['월'].unique())"
      ],
      "execution_count": null,
      "outputs": []
    },
    {
      "cell_type": "code",
      "metadata": {
        "id": "2lHmIRMXk6o8"
      },
      "source": [
        "graph_x=list()\n",
        "graph_y=list()\n",
        "for i in range(6,10):\n",
        "    temp_mean=new_train[new_train['월']==i]['유입량'].mean()\n",
        "    print(i,\"월에서의 유입량 평균\",temp_mean)\n",
        "    graph_x.append(i)\n",
        "    graph_y.append(temp_mean)"
      ],
      "execution_count": null,
      "outputs": []
    },
    {
      "cell_type": "code",
      "metadata": {
        "id": "jXBVztR-lD42"
      },
      "source": [
        "plt.bar(graph_x,graph_y)\n",
        "plt.ylim(1000,2000)\n",
        "plt.show()"
      ],
      "execution_count": null,
      "outputs": []
    },
    {
      "cell_type": "markdown",
      "metadata": {
        "id": "T2iLOyIKibOU"
      },
      "source": [
        "##시"
      ]
    },
    {
      "cell_type": "code",
      "metadata": {
        "id": "YB4GhcI7hbsn"
      },
      "source": [
        "graph_x=list()\n",
        "graph_y=list()\n",
        "for i in range(1,25):\n",
        "    temp_mean=new_train[new_train['시간']==i]['유입량'].mean()\n",
        "    print(i,\"시에서의 유입량 평균\",temp_mean)\n",
        "    graph_x.append(i)\n",
        "    graph_y.append(temp_mean)"
      ],
      "execution_count": null,
      "outputs": []
    },
    {
      "cell_type": "code",
      "metadata": {
        "id": "-BNGJoExjBJ9"
      },
      "source": [
        "plt.bar(graph_x,graph_y)\n",
        "plt.ylim(1600,1820)\n",
        "plt.show()"
      ],
      "execution_count": null,
      "outputs": []
    },
    {
      "cell_type": "markdown",
      "metadata": {
        "id": "z-w1KALhWl8D"
      },
      "source": [
        "강우량:순수하게 비만 내린 것을 측정한 값<br>\n",
        "강수량:강우량+강설량(눈)\n"
      ]
    },
    {
      "cell_type": "markdown",
      "metadata": {
        "id": "XyV5gRAiokvu"
      },
      "source": [
        "##같은 열"
      ]
    },
    {
      "cell_type": "code",
      "metadata": {
        "colab": {
          "base_uri": "https://localhost:8080/"
        },
        "id": "8_4RDmw4nicr",
        "outputId": "326ff46a-7c11-4f4e-83e1-f6221432fe74"
      },
      "source": [
        "target_cols=[ '1강우A', '1강우B', '1강우C',\n",
        "       '1강우D', '1수위E', '1수위D',  '2강우A', '2강우B', '2강우C', '2강우D',\n",
        "       '2수위E', '2수위D',  '3강우A', '3강우B', '3강우C', '3강우D', '3수위E',\n",
        "       '3수위D',  '4강우A', '4강우B', '4강우C', '4강우D', '4수위E', '4수위D',\n",
        "        '5강우A', '5강우B', '5강우C', '5강우D', '5수위E', '5수위D',\n",
        "       '6강우A', '6강우B', '6강우C', '6강우D', '6수위E', '6수위D']\n",
        "\n",
        "for col1 in target_cols:\n",
        "    for col2 in target_cols:\n",
        "        if col1 !=col2 and len(train[train[col1]!=train[col2]]) ==0 :\n",
        "            print(col1, col2)\n",
        "            \n",
        "2강우A 3강우A\n",
        "4강우A 5강우A 6강우A\n",
        "\n",
        "3강우B 4강우B 5강우B\n",
        "\n",
        "4강우C 5강우C\n",
        "\n",
        "1강우D 2강우D\n",
        "4강우D 5강우D\n",
        "\n",
        "1수위E 2수위E 3수위E 4수위E 5수위E 6수위E"
      ],
      "execution_count": 18,
      "outputs": [
        {
          "output_type": "stream",
          "text": [
            "1강우D 2강우D\n",
            "1수위E 2수위E\n",
            "1수위E 3수위E\n",
            "1수위E 4수위E\n",
            "1수위E 5수위E\n",
            "1수위E 6수위E\n",
            "2강우A 3강우A\n",
            "2강우D 1강우D\n",
            "2수위E 1수위E\n",
            "2수위E 3수위E\n",
            "2수위E 4수위E\n",
            "2수위E 5수위E\n",
            "2수위E 6수위E\n",
            "3강우A 2강우A\n",
            "3강우B 4강우B\n",
            "3강우B 5강우B\n",
            "3수위E 1수위E\n",
            "3수위E 2수위E\n",
            "3수위E 4수위E\n",
            "3수위E 5수위E\n",
            "3수위E 6수위E\n",
            "4강우A 5강우A\n",
            "4강우A 6강우A\n",
            "4강우B 3강우B\n",
            "4강우B 5강우B\n",
            "4강우C 5강우C\n",
            "4강우D 5강우D\n",
            "4수위E 1수위E\n",
            "4수위E 2수위E\n",
            "4수위E 3수위E\n",
            "4수위E 5수위E\n",
            "4수위E 6수위E\n",
            "5강우A 4강우A\n",
            "5강우A 6강우A\n",
            "5강우B 3강우B\n",
            "5강우B 4강우B\n",
            "5강우C 4강우C\n",
            "5강우D 4강우D\n",
            "5수위E 1수위E\n",
            "5수위E 2수위E\n",
            "5수위E 3수위E\n",
            "5수위E 4수위E\n",
            "5수위E 6수위E\n",
            "6강우A 4강우A\n",
            "6강우A 5강우A\n",
            "6수위E 1수위E\n",
            "6수위E 2수위E\n",
            "6수위E 3수위E\n",
            "6수위E 4수위E\n",
            "6수위E 5수위E\n"
          ],
          "name": "stdout"
        }
      ]
    },
    {
      "cell_type": "markdown",
      "metadata": {
        "id": "jKgBFP2aYlpF"
      },
      "source": [
        "#여러방법"
      ]
    },
    {
      "cell_type": "code",
      "metadata": {
        "id": "yV1XN6WG8tCS"
      },
      "source": [
        "for col in train.columns:\n",
        "    train[col]=train[col].astype(np.float64)"
      ],
      "execution_count": 162,
      "outputs": []
    },
    {
      "cell_type": "code",
      "metadata": {
        "id": "g4RC_Ei78uQp"
      },
      "source": [
        "new_train=train.iloc[:2891,:]\n",
        "new_test=train.iloc[2891:,:]\n",
        "X_train=new_train.drop(columns=['유입량'],axis=1)\n",
        "Y_train=new_train['유입량']"
      ],
      "execution_count": 163,
      "outputs": []
    },
    {
      "cell_type": "markdown",
      "metadata": {
        "id": "75j21ZrQYoo5"
      },
      "source": [
        "## 아무것도 안 만짐"
      ]
    },
    {
      "cell_type": "code",
      "metadata": {
        "id": "v-JDv__jYZSL"
      },
      "source": [
        "from sklearn.model_selection import train_test_split\n",
        "x_train, x_valid, y_train, y_valid = train_test_split(X_train, Y_train, test_size=0.15, random_state=42)"
      ],
      "execution_count": 135,
      "outputs": []
    },
    {
      "cell_type": "code",
      "metadata": {
        "colab": {
          "base_uri": "https://localhost:8080/"
        },
        "id": "7alIXoFve4M-",
        "outputId": "dcc28fc2-87c3-44cc-dec5-d319a42fa1e2"
      },
      "source": [
        "from sklearn.linear_model import LinearRegression\n",
        "lr=LinearRegression()\n",
        "lr.fit(x_train,y_train)\n",
        "print(lr.score(x_valid,y_valid))"
      ],
      "execution_count": 136,
      "outputs": [
        {
          "output_type": "stream",
          "text": [
            "0.9040095586325729\n"
          ],
          "name": "stdout"
        }
      ]
    },
    {
      "cell_type": "code",
      "metadata": {
        "colab": {
          "base_uri": "https://localhost:8080/"
        },
        "id": "RndYE8bb1nxk",
        "outputId": "eadb7eba-1139-4a5b-a42a-a2da732f1c58"
      },
      "source": [
        "y_pred=lr.predict(x_valid)\n",
        "mean_squared_error(y_valid, y_pred, squared=False)"
      ],
      "execution_count": 137,
      "outputs": [
        {
          "output_type": "execute_result",
          "data": {
            "text/plain": [
              "707.7456362996647"
            ]
          },
          "metadata": {},
          "execution_count": 137
        }
      ]
    },
    {
      "cell_type": "markdown",
      "metadata": {
        "id": "jIADpW094U-y"
      },
      "source": [
        "##수위E 하나 빼고 다 drop"
      ]
    },
    {
      "cell_type": "code",
      "metadata": {
        "id": "XnLLMTKi4ZGa"
      },
      "source": [
        "X_train=X_train.drop(columns=['2수위E', '3수위E', '4수위E',  '5수위E', '6수위E'],axis=1)"
      ],
      "execution_count": 32,
      "outputs": []
    },
    {
      "cell_type": "code",
      "metadata": {
        "id": "kJT02bU94tOM"
      },
      "source": [
        "from sklearn.model_selection import train_test_split\n",
        "x_train, x_valid, y_train, y_valid = train_test_split(X_train, Y_train, test_size=0.15, random_state=42)"
      ],
      "execution_count": 33,
      "outputs": []
    },
    {
      "cell_type": "code",
      "metadata": {
        "colab": {
          "base_uri": "https://localhost:8080/"
        },
        "id": "SDlQiOyN4zqj",
        "outputId": "b4af1e47-8e63-40de-ed84-0f7ae72a3822"
      },
      "source": [
        "from sklearn.linear_model import LinearRegression\n",
        "lr=LinearRegression()\n",
        "lr.fit(x_train,y_train)\n",
        "print(lr.score(x_valid,y_valid))"
      ],
      "execution_count": 34,
      "outputs": [
        {
          "output_type": "stream",
          "text": [
            "0.904009558632567\n"
          ],
          "name": "stdout"
        }
      ]
    },
    {
      "cell_type": "code",
      "metadata": {
        "colab": {
          "base_uri": "https://localhost:8080/"
        },
        "id": "0HnrYQv-421G",
        "outputId": "bad947a6-ee04-46b1-9e05-3eccfcb27223"
      },
      "source": [
        "y_pred=lr.predict(x_valid)\n",
        "#RMSE\n",
        "mean_squared_error(y_valid, y_pred, squared=False)"
      ],
      "execution_count": 35,
      "outputs": [
        {
          "output_type": "execute_result",
          "data": {
            "text/plain": [
              "707.7456362996866"
            ]
          },
          "metadata": {},
          "execution_count": 35
        }
      ]
    },
    {
      "cell_type": "markdown",
      "metadata": {
        "id": "U7EgEZ9144ws"
      },
      "source": [
        "수위E는 다 같기 때문에 한 열만 남기고 drop해도 성능이 떨어지지 않는다"
      ]
    },
    {
      "cell_type": "markdown",
      "metadata": {
        "id": "ZvC6jsTe5T-R"
      },
      "source": [
        "##7월만 남기기"
      ]
    },
    {
      "cell_type": "code",
      "metadata": {
        "colab": {
          "base_uri": "https://localhost:8080/"
        },
        "id": "bq-_ujVb92jB",
        "outputId": "94501363-37ce-4e8d-f698-20267bb2124e"
      },
      "source": [
        "train.shape"
      ],
      "execution_count": 164,
      "outputs": [
        {
          "output_type": "execute_result",
          "data": {
            "text/plain": [
              "(3051, 48)"
            ]
          },
          "metadata": {},
          "execution_count": 164
        }
      ]
    },
    {
      "cell_type": "code",
      "metadata": {
        "colab": {
          "base_uri": "https://localhost:8080/"
        },
        "id": "0oldRVsY9SMn",
        "outputId": "7a5660a0-8288-45d8-b72e-125947bb23f9"
      },
      "source": [
        "new_train=train.iloc[:2891,:]\n",
        "new_test=train.iloc[2891:,:]\n",
        "new_train=new_train[new_train['월'] == 7.0]\n",
        "new_test=new_test[new_test['월'] == 7.0]\n",
        "print(len(new_train)+len(new_test))\n",
        "X_train=new_train.drop(columns=['유입량'],axis=1)\n",
        "Y_train=new_train['유입량']"
      ],
      "execution_count": 165,
      "outputs": [
        {
          "output_type": "stream",
          "text": [
            "2025\n"
          ],
          "name": "stdout"
        }
      ]
    },
    {
      "cell_type": "code",
      "metadata": {
        "id": "eKK0IlZe9Gq1"
      },
      "source": [
        "from sklearn.model_selection import train_test_split\n",
        "x_train, x_valid, y_train, y_valid = train_test_split(X_train, Y_train, test_size=0.15, random_state=42)"
      ],
      "execution_count": 62,
      "outputs": []
    },
    {
      "cell_type": "code",
      "metadata": {
        "colab": {
          "base_uri": "https://localhost:8080/"
        },
        "id": "EOdjiNoq9I-V",
        "outputId": "acd7e250-e220-402b-8697-44cfdb1f5cc2"
      },
      "source": [
        "from sklearn.linear_model import LinearRegression\n",
        "lr=LinearRegression()\n",
        "lr.fit(x_train,y_train)\n",
        "print(lr.score(x_valid,y_valid))\n",
        "\n",
        "y_pred=lr.predict(x_valid)\n",
        "#RMSE\n",
        "print(mean_squared_error(y_valid, y_pred, squared=False))"
      ],
      "execution_count": 64,
      "outputs": [
        {
          "output_type": "stream",
          "text": [
            "0.8811763427721471\n",
            "742.072407741051\n"
          ],
          "name": "stdout"
        }
      ]
    },
    {
      "cell_type": "code",
      "metadata": {
        "colab": {
          "base_uri": "https://localhost:8080/"
        },
        "id": "w6WqToSo_zYA",
        "outputId": "f40b3d1b-366d-413e-f05d-2c5730a6c75d"
      },
      "source": [
        "x_valid.corrwith(pd.DataFrame(y_pred))"
      ],
      "execution_count": 68,
      "outputs": [
        {
          "output_type": "execute_result",
          "data": {
            "text/plain": [
              "0         NaN\n",
              "1강우A      NaN\n",
              "1강우B      NaN\n",
              "1강우C      NaN\n",
              "1강우D      NaN\n",
              "1수위D      NaN\n",
              "1수위E      NaN\n",
              "1유역평균강수   NaN\n",
              "2강우A      NaN\n",
              "2강우B      NaN\n",
              "2강우C      NaN\n",
              "2강우D      NaN\n",
              "2수위D      NaN\n",
              "2수위E      NaN\n",
              "2유역평균강수   NaN\n",
              "3강우A      NaN\n",
              "3강우B      NaN\n",
              "3강우C      NaN\n",
              "3강우D      NaN\n",
              "3수위D      NaN\n",
              "3수위E      NaN\n",
              "3유역평균강수   NaN\n",
              "4강우A      NaN\n",
              "4강우B      NaN\n",
              "4강우C      NaN\n",
              "4강우D      NaN\n",
              "4수위D      NaN\n",
              "4수위E      NaN\n",
              "4유역평균강수   NaN\n",
              "5강우A      NaN\n",
              "5강우B      NaN\n",
              "5강우C      NaN\n",
              "5강우D      NaN\n",
              "5수위D      NaN\n",
              "5수위E      NaN\n",
              "5유역평균강수   NaN\n",
              "6강우A      NaN\n",
              "6강우B      NaN\n",
              "6강우C      NaN\n",
              "6강우D      NaN\n",
              "6수위D      NaN\n",
              "6수위E      NaN\n",
              "6유역평균강수   NaN\n",
              "시간        NaN\n",
              "연         NaN\n",
              "월         NaN\n",
              "일         NaN\n",
              "홍수사상번호    NaN\n",
              "dtype: float64"
            ]
          },
          "metadata": {},
          "execution_count": 68
        }
      ]
    },
    {
      "cell_type": "markdown",
      "metadata": {
        "id": "YeIFaQ1MEKH-"
      },
      "source": [
        "##scaler"
      ]
    },
    {
      "cell_type": "markdown",
      "metadata": {
        "id": "wfTu6NDJGgkd"
      },
      "source": [
        "!! Data Import 다시 해야됌"
      ]
    },
    {
      "cell_type": "code",
      "metadata": {
        "id": "DR8cJTAPELrU"
      },
      "source": [
        "ori_cols=train.columns\n",
        "Y_train=train['유입량']\n",
        "Y_train=Y_train.iloc[:2891]\n",
        "\n",
        "from sklearn.preprocessing import RobustScaler\n",
        "scaler=StandardScaler()\n",
        "train=scaler.fit_transform(train)\n",
        "\n",
        "train=pd.DataFrame(train,columns=ori_cols)"
      ],
      "execution_count": 203,
      "outputs": []
    },
    {
      "cell_type": "code",
      "metadata": {
        "colab": {
          "base_uri": "https://localhost:8080/"
        },
        "id": "Upw9Wv1uGPQW",
        "outputId": "eb4d6dfe-03d5-4516-c4c3-84afe5070f05"
      },
      "source": [
        "Y_train"
      ],
      "execution_count": 204,
      "outputs": [
        {
          "output_type": "execute_result",
          "data": {
            "text/plain": [
              "1       189.100000\n",
              "2       216.951962\n",
              "3       251.424419\n",
              "4       302.812199\n",
              "5       384.783406\n",
              "           ...    \n",
              "2887    513.368437\n",
              "2888    502.846843\n",
              "2889    491.954805\n",
              "2890    481.103083\n",
              "2891    470.458109\n",
              "Name: 유입량, Length: 2891, dtype: float64"
            ]
          },
          "metadata": {},
          "execution_count": 204
        }
      ]
    },
    {
      "cell_type": "code",
      "metadata": {
        "id": "Di0mcGeCEO9R"
      },
      "source": [
        "for col in train.columns:\n",
        "    train[col]=train[col].astype(np.float64)"
      ],
      "execution_count": 205,
      "outputs": []
    },
    {
      "cell_type": "code",
      "metadata": {
        "id": "PIN1d5zFEUFf"
      },
      "source": [
        "new_train=train.iloc[:2891,:]\n",
        "new_test=train.iloc[2891:,:]\n",
        "X_train=new_train.drop(columns=['유입량'],axis=1)"
      ],
      "execution_count": 206,
      "outputs": []
    },
    {
      "cell_type": "code",
      "metadata": {
        "id": "LWsn_GIUEUjI"
      },
      "source": [
        "from sklearn.model_selection import train_test_split\n",
        "x_train, x_valid, y_train, y_valid = train_test_split(X_train, Y_train, test_size=0.15, random_state=42)"
      ],
      "execution_count": 207,
      "outputs": []
    },
    {
      "cell_type": "code",
      "metadata": {
        "colab": {
          "base_uri": "https://localhost:8080/"
        },
        "id": "3Pg2NSmXEidx",
        "outputId": "0f25c062-6052-4262-9d26-1bfdf09695be"
      },
      "source": [
        "from sklearn.linear_model import LinearRegression\n",
        "lr=LinearRegression()\n",
        "lr.fit(x_train,y_train)\n",
        "print(lr.score(x_valid,y_valid))\n",
        "\n",
        "y_pred=lr.predict(x_valid)\n",
        "#RMSE\n",
        "print(mean_squared_error(y_valid, y_pred, squared=False))"
      ],
      "execution_count": 208,
      "outputs": [
        {
          "output_type": "stream",
          "text": [
            "0.9040095586325694\n",
            "707.7456362996779\n"
          ],
          "name": "stdout"
        }
      ]
    },
    {
      "cell_type": "markdown",
      "metadata": {
        "id": "GFBxXDakGGD7"
      },
      "source": [
        "Standard Scaler/MinMax Scaler/Robust Scaler : 달라진 것 없음"
      ]
    },
    {
      "cell_type": "markdown",
      "metadata": {
        "id": "0060d1vCUnyF"
      },
      "source": [
        "##유역평균강수만 뽑고 나머지는 버리기"
      ]
    },
    {
      "cell_type": "code",
      "metadata": {
        "id": "tjZ-60EP5ij_"
      },
      "source": [
        "new_train=train.iloc[:2891,:]\n",
        "new_test=train.iloc[2891:,:]\n",
        "X_train=new_train.drop(columns=['유입량'],axis=1)\n",
        "Y_train=new_train['유입량']"
      ],
      "execution_count": null,
      "outputs": []
    },
    {
      "cell_type": "code",
      "metadata": {
        "id": "Cgb92L4BT-Ba"
      },
      "source": [
        "X_train=X_train.drop(columns=[ '1강우A', '1강우B', '1강우C',\n",
        "       '1강우D', '1수위E', '1수위D',  '2강우A', '2강우B', '2강우C', '2강우D',\n",
        "       '2수위E', '2수위D',  '3강우A', '3강우B', '3강우C', '3강우D', '3수위E',\n",
        "       '3수위D',  '4강우A', '4강우B', '4강우C', '4강우D', '4수위E', '4수위D',\n",
        "        '5강우A', '5강우B', '5강우C', '5강우D', '5수위E', '5수위D',\n",
        "       '6강우A', '6강우B', '6강우C', '6강우D', '6수위E', '6수위D'],axis=1)\n"
      ],
      "execution_count": 33,
      "outputs": []
    },
    {
      "cell_type": "code",
      "metadata": {
        "id": "44LF0rRsWwC7"
      },
      "source": [
        "from sklearn.model_selection import train_test_split\n",
        "x_train, x_valid, y_train, y_valid = train_test_split(X_train, Y_train, test_size=0.15, random_state=42)"
      ],
      "execution_count": 34,
      "outputs": []
    },
    {
      "cell_type": "code",
      "metadata": {
        "colab": {
          "base_uri": "https://localhost:8080/",
          "height": 417
        },
        "id": "KTxf5a05fhqO",
        "outputId": "a6f51357-5ba2-4aad-eea3-3b34bcc0a90b"
      },
      "source": [
        "x_train"
      ],
      "execution_count": 35,
      "outputs": [
        {
          "output_type": "execute_result",
          "data": {
            "text/html": [
              "<div>\n",
              "<style scoped>\n",
              "    .dataframe tbody tr th:only-of-type {\n",
              "        vertical-align: middle;\n",
              "    }\n",
              "\n",
              "    .dataframe tbody tr th {\n",
              "        vertical-align: top;\n",
              "    }\n",
              "\n",
              "    .dataframe thead th {\n",
              "        text-align: right;\n",
              "    }\n",
              "</style>\n",
              "<table border=\"1\" class=\"dataframe\">\n",
              "  <thead>\n",
              "    <tr style=\"text-align: right;\">\n",
              "      <th></th>\n",
              "      <th>홍수사상번호</th>\n",
              "      <th>연</th>\n",
              "      <th>월</th>\n",
              "      <th>일</th>\n",
              "      <th>시간</th>\n",
              "      <th>1유역평균강수</th>\n",
              "      <th>2유역평균강수</th>\n",
              "      <th>3유역평균강수</th>\n",
              "      <th>4유역평균강수</th>\n",
              "      <th>5유역평균강수</th>\n",
              "      <th>6유역평균강수</th>\n",
              "    </tr>\n",
              "  </thead>\n",
              "  <tbody>\n",
              "    <tr>\n",
              "      <th>656</th>\n",
              "      <td>8.0</td>\n",
              "      <td>2009.0</td>\n",
              "      <td>7.0</td>\n",
              "      <td>14.0</td>\n",
              "      <td>23.0</td>\n",
              "      <td>114.8461</td>\n",
              "      <td>112.1206</td>\n",
              "      <td>112.1206</td>\n",
              "      <td>119.9043</td>\n",
              "      <td>110.0860</td>\n",
              "      <td>79.4238</td>\n",
              "    </tr>\n",
              "    <tr>\n",
              "      <th>290</th>\n",
              "      <td>2.0</td>\n",
              "      <td>2006.0</td>\n",
              "      <td>7.0</td>\n",
              "      <td>28.0</td>\n",
              "      <td>15.0</td>\n",
              "      <td>126.6000</td>\n",
              "      <td>128.7000</td>\n",
              "      <td>128.7000</td>\n",
              "      <td>131.1000</td>\n",
              "      <td>129.8000</td>\n",
              "      <td>118.6000</td>\n",
              "    </tr>\n",
              "    <tr>\n",
              "      <th>247</th>\n",
              "      <td>2.0</td>\n",
              "      <td>2006.0</td>\n",
              "      <td>7.0</td>\n",
              "      <td>26.0</td>\n",
              "      <td>20.0</td>\n",
              "      <td>20.5000</td>\n",
              "      <td>20.6000</td>\n",
              "      <td>20.6000</td>\n",
              "      <td>20.9000</td>\n",
              "      <td>20.9000</td>\n",
              "      <td>20.9000</td>\n",
              "    </tr>\n",
              "    <tr>\n",
              "      <th>2303</th>\n",
              "      <td>22.0</td>\n",
              "      <td>2013.0</td>\n",
              "      <td>7.0</td>\n",
              "      <td>8.0</td>\n",
              "      <td>11.0</td>\n",
              "      <td>3.6012</td>\n",
              "      <td>3.6291</td>\n",
              "      <td>3.6291</td>\n",
              "      <td>3.6698</td>\n",
              "      <td>3.6698</td>\n",
              "      <td>3.6698</td>\n",
              "    </tr>\n",
              "    <tr>\n",
              "      <th>1006</th>\n",
              "      <td>12.0</td>\n",
              "      <td>2010.0</td>\n",
              "      <td>9.0</td>\n",
              "      <td>21.0</td>\n",
              "      <td>17.0</td>\n",
              "      <td>31.7520</td>\n",
              "      <td>35.6086</td>\n",
              "      <td>35.6086</td>\n",
              "      <td>40.2861</td>\n",
              "      <td>39.7560</td>\n",
              "      <td>36.0510</td>\n",
              "    </tr>\n",
              "    <tr>\n",
              "      <th>...</th>\n",
              "      <td>...</td>\n",
              "      <td>...</td>\n",
              "      <td>...</td>\n",
              "      <td>...</td>\n",
              "      <td>...</td>\n",
              "      <td>...</td>\n",
              "      <td>...</td>\n",
              "      <td>...</td>\n",
              "      <td>...</td>\n",
              "      <td>...</td>\n",
              "      <td>...</td>\n",
              "    </tr>\n",
              "    <tr>\n",
              "      <th>1639</th>\n",
              "      <td>16.0</td>\n",
              "      <td>2011.0</td>\n",
              "      <td>8.0</td>\n",
              "      <td>3.0</td>\n",
              "      <td>8.0</td>\n",
              "      <td>22.2989</td>\n",
              "      <td>22.1076</td>\n",
              "      <td>22.1076</td>\n",
              "      <td>21.2274</td>\n",
              "      <td>20.0513</td>\n",
              "      <td>14.4528</td>\n",
              "    </tr>\n",
              "    <tr>\n",
              "      <th>1096</th>\n",
              "      <td>13.0</td>\n",
              "      <td>2011.0</td>\n",
              "      <td>6.0</td>\n",
              "      <td>30.0</td>\n",
              "      <td>6.0</td>\n",
              "      <td>71.7088</td>\n",
              "      <td>76.1637</td>\n",
              "      <td>76.1637</td>\n",
              "      <td>81.4074</td>\n",
              "      <td>81.3750</td>\n",
              "      <td>81.3333</td>\n",
              "    </tr>\n",
              "    <tr>\n",
              "      <th>1131</th>\n",
              "      <td>13.0</td>\n",
              "      <td>2011.0</td>\n",
              "      <td>7.0</td>\n",
              "      <td>1.0</td>\n",
              "      <td>17.0</td>\n",
              "      <td>85.8239</td>\n",
              "      <td>85.8239</td>\n",
              "      <td>85.8239</td>\n",
              "      <td>85.8239</td>\n",
              "      <td>85.8239</td>\n",
              "      <td>81.9880</td>\n",
              "    </tr>\n",
              "    <tr>\n",
              "      <th>1295</th>\n",
              "      <td>15.0</td>\n",
              "      <td>2011.0</td>\n",
              "      <td>7.0</td>\n",
              "      <td>12.0</td>\n",
              "      <td>1.0</td>\n",
              "      <td>47.7383</td>\n",
              "      <td>47.7996</td>\n",
              "      <td>47.7996</td>\n",
              "      <td>47.9164</td>\n",
              "      <td>47.9164</td>\n",
              "      <td>47.8437</td>\n",
              "    </tr>\n",
              "    <tr>\n",
              "      <th>861</th>\n",
              "      <td>11.0</td>\n",
              "      <td>2010.0</td>\n",
              "      <td>9.0</td>\n",
              "      <td>10.0</td>\n",
              "      <td>23.0</td>\n",
              "      <td>10.5120</td>\n",
              "      <td>12.0020</td>\n",
              "      <td>12.0020</td>\n",
              "      <td>12.5949</td>\n",
              "      <td>12.5655</td>\n",
              "      <td>12.5361</td>\n",
              "    </tr>\n",
              "  </tbody>\n",
              "</table>\n",
              "<p>2457 rows × 11 columns</p>\n",
              "</div>"
            ],
            "text/plain": [
              "      홍수사상번호       연    월     일  ...   3유역평균강수   4유역평균강수   5유역평균강수   6유역평균강수\n",
              "656      8.0  2009.0  7.0  14.0  ...  112.1206  119.9043  110.0860   79.4238\n",
              "290      2.0  2006.0  7.0  28.0  ...  128.7000  131.1000  129.8000  118.6000\n",
              "247      2.0  2006.0  7.0  26.0  ...   20.6000   20.9000   20.9000   20.9000\n",
              "2303    22.0  2013.0  7.0   8.0  ...    3.6291    3.6698    3.6698    3.6698\n",
              "1006    12.0  2010.0  9.0  21.0  ...   35.6086   40.2861   39.7560   36.0510\n",
              "...      ...     ...  ...   ...  ...       ...       ...       ...       ...\n",
              "1639    16.0  2011.0  8.0   3.0  ...   22.1076   21.2274   20.0513   14.4528\n",
              "1096    13.0  2011.0  6.0  30.0  ...   76.1637   81.4074   81.3750   81.3333\n",
              "1131    13.0  2011.0  7.0   1.0  ...   85.8239   85.8239   85.8239   81.9880\n",
              "1295    15.0  2011.0  7.0  12.0  ...   47.7996   47.9164   47.9164   47.8437\n",
              "861     11.0  2010.0  9.0  10.0  ...   12.0020   12.5949   12.5655   12.5361\n",
              "\n",
              "[2457 rows x 11 columns]"
            ]
          },
          "metadata": {},
          "execution_count": 35
        }
      ]
    },
    {
      "cell_type": "code",
      "metadata": {
        "colab": {
          "base_uri": "https://localhost:8080/"
        },
        "id": "-En79pKHfR9b",
        "outputId": "c9cf58be-81a4-4ced-977f-cfe6a2080294"
      },
      "source": [
        "from sklearn.linear_model import LinearRegression\n",
        "lr=LinearRegression()\n",
        "lr.fit(x_train,y_train)\n",
        "print(lr.score(x_valid,y_valid))"
      ],
      "execution_count": 36,
      "outputs": [
        {
          "output_type": "stream",
          "text": [
            "0.6348535045391911\n"
          ],
          "name": "stdout"
        }
      ]
    },
    {
      "cell_type": "code",
      "metadata": {
        "colab": {
          "base_uri": "https://localhost:8080/"
        },
        "id": "zsaj58q5e9JH",
        "outputId": "b031d492-8394-45f4-f44a-d74eafed239d"
      },
      "source": [
        "y_pred=lr.predict(x_train)\n",
        "y_pred[:10]"
      ],
      "execution_count": 37,
      "outputs": [
        {
          "output_type": "execute_result",
          "data": {
            "text/plain": [
              "array([2598.42568359, 3944.68482171, 1138.96611336, -104.12034139,\n",
              "        981.91042732,   73.52934969,  163.66534729, -175.03996037,\n",
              "        448.83814098,  -63.1692137 ])"
            ]
          },
          "metadata": {},
          "execution_count": 37
        }
      ]
    },
    {
      "cell_type": "code",
      "metadata": {
        "colab": {
          "base_uri": "https://localhost:8080/"
        },
        "id": "eyYPNSByfWQM",
        "outputId": "e157a52b-0e85-4448-d489-7995f8a0a1d1"
      },
      "source": [
        "y_train[:10]"
      ],
      "execution_count": 38,
      "outputs": [
        {
          "output_type": "execute_result",
          "data": {
            "text/plain": [
              "656     3733.869336\n",
              "290     5942.082186\n",
              "247      196.829472\n",
              "2303      87.955369\n",
              "1006     238.369158\n",
              "2329     144.645695\n",
              "2079     200.580027\n",
              "1743     889.744450\n",
              "533      775.154908\n",
              "749       58.411156\n",
              "Name: 유입량, dtype: float64"
            ]
          },
          "metadata": {},
          "execution_count": 38
        }
      ]
    },
    {
      "cell_type": "markdown",
      "metadata": {
        "id": "YcwPUHIrnCZ1"
      },
      "source": [
        "##유역평균+abcdede"
      ]
    },
    {
      "cell_type": "code",
      "metadata": {
        "id": "C_2GcZ8A5lKk"
      },
      "source": [
        "new_train=train.iloc[:2891,:]\n",
        "new_test=train.iloc[2891:,:]\n",
        "X_train=new_train.drop(columns=['유입량'],axis=1)\n",
        "Y_train=new_train['유입량']"
      ],
      "execution_count": null,
      "outputs": []
    },
    {
      "cell_type": "code",
      "metadata": {
        "id": "dYHhPKI2fZez"
      },
      "source": [
        "X_train=X_train.drop(columns=[  '2강우A', '2강우B', '2강우C', '2강우D',\n",
        "       '2수위E', '2수위D',  '3강우A', '3강우B', '3강우C', '3강우D', '3수위E',\n",
        "       '3수위D',  '4강우A', '4강우B', '4강우C', '4강우D', '4수위E', '4수위D',\n",
        "        '5강우A', '5강우B', '5강우C', '5강우D', '5수위E', '5수위D',\n",
        "       '6강우A', '6강우B', '6강우C', '6강우D', '6수위E', '6수위D'],axis=1)\n"
      ],
      "execution_count": 27,
      "outputs": []
    },
    {
      "cell_type": "code",
      "metadata": {
        "id": "dV4rXPfanLaG"
      },
      "source": [
        "from sklearn.model_selection import train_test_split\n",
        "x_train, x_valid, y_train, y_valid = train_test_split(X_train, Y_train, test_size=0.15, random_state=42)"
      ],
      "execution_count": 28,
      "outputs": []
    },
    {
      "cell_type": "code",
      "metadata": {
        "colab": {
          "base_uri": "https://localhost:8080/"
        },
        "id": "WlLuByygnOQn",
        "outputId": "8e71635f-022c-4613-e6f9-f75b55d4fafd"
      },
      "source": [
        "from sklearn.linear_model import LinearRegression\n",
        "lr=LinearRegression()\n",
        "lr.fit(x_train,y_train)\n",
        "print(lr.score(x_valid,y_valid))"
      ],
      "execution_count": 29,
      "outputs": [
        {
          "output_type": "stream",
          "text": [
            "0.8854131058972271\n"
          ],
          "name": "stdout"
        }
      ]
    },
    {
      "cell_type": "code",
      "metadata": {
        "colab": {
          "base_uri": "https://localhost:8080/"
        },
        "id": "dfWnAhuP2Xpz",
        "outputId": "e693ac9e-a9b7-4265-dd04-956bb738b501"
      },
      "source": [
        "y_pred=lr.predict(x_valid)\n",
        "mean_squared_error(y_valid, y_pred, squared=False)"
      ],
      "execution_count": 30,
      "outputs": [
        {
          "output_type": "execute_result",
          "data": {
            "text/plain": [
              "773.2691427516805"
            ]
          },
          "metadata": {},
          "execution_count": 30
        }
      ]
    },
    {
      "cell_type": "markdown",
      "metadata": {
        "id": "Cb5c7pDXoStm"
      },
      "source": [
        "##Auto ML"
      ]
    },
    {
      "cell_type": "code",
      "metadata": {
        "colab": {
          "base_uri": "https://localhost:8080/"
        },
        "id": "G9v1lHKwoUL5",
        "outputId": "4cb4059e-7516-4baa-eecf-b7a77db763fd"
      },
      "source": [
        "from autosklearn.pipeline.components import regression\n",
        "print(regression._regressors.keys())"
      ],
      "execution_count": 20,
      "outputs": [
        {
          "output_type": "stream",
          "text": [
            "odict_keys(['adaboost', 'ard_regression', 'decision_tree', 'extra_trees', 'gaussian_process', 'gradient_boosting', 'k_nearest_neighbors', 'liblinear_svr', 'libsvm_svr', 'mlp', 'random_forest', 'sgd'])\n"
          ],
          "name": "stdout"
        }
      ]
    },
    {
      "cell_type": "code",
      "metadata": {
        "colab": {
          "base_uri": "https://localhost:8080/",
          "height": 351
        },
        "id": "PlheiA2GoUJF",
        "outputId": "313f0fae-75bd-408a-a2ba-d0363c0c304c"
      },
      "source": [
        "#에러 NVMLError_Uninitialized: Uninitialized\n",
        "# import autosklearn.regression\n",
        "# automl = autosklearn.regression.AutoSklearnRegressor(\n",
        "#     time_left_for_this_task=120,\n",
        "#     per_run_time_limit=30,\n",
        "#     n_jobs=-1,\n",
        "#     seed=1\n",
        "# )\n",
        "# automl.fit(x_train, y_train)"
      ],
      "execution_count": 21,
      "outputs": [
        {
          "output_type": "error",
          "ename": "NVMLError_Uninitialized",
          "evalue": "ignored",
          "traceback": [
            "\u001b[0;31m---------------------------------------------------------------------------\u001b[0m",
            "\u001b[0;31mNVMLError_Uninitialized\u001b[0m                   Traceback (most recent call last)",
            "\u001b[0;32m<ipython-input-21-6579c77373b3>\u001b[0m in \u001b[0;36m<module>\u001b[0;34m()\u001b[0m\n\u001b[1;32m      6\u001b[0m     \u001b[0mseed\u001b[0m\u001b[0;34m=\u001b[0m\u001b[0;36m1\u001b[0m\u001b[0;34m\u001b[0m\u001b[0;34m\u001b[0m\u001b[0m\n\u001b[1;32m      7\u001b[0m )\n\u001b[0;32m----> 8\u001b[0;31m \u001b[0mautoml\u001b[0m\u001b[0;34m.\u001b[0m\u001b[0mfit\u001b[0m\u001b[0;34m(\u001b[0m\u001b[0mx_train\u001b[0m\u001b[0;34m,\u001b[0m \u001b[0my_train\u001b[0m\u001b[0;34m)\u001b[0m\u001b[0;34m\u001b[0m\u001b[0;34m\u001b[0m\u001b[0m\n\u001b[0m",
            "\u001b[0;32m/usr/local/lib/python3.7/dist-packages/autosklearn/estimators.py\u001b[0m in \u001b[0;36mfit\u001b[0;34m(self, X, y, X_test, y_test, feat_type, dataset_name)\u001b[0m\n\u001b[1;32m   1088\u001b[0m             \u001b[0my_test\u001b[0m\u001b[0;34m=\u001b[0m\u001b[0my_test\u001b[0m\u001b[0;34m,\u001b[0m\u001b[0;34m\u001b[0m\u001b[0;34m\u001b[0m\u001b[0m\n\u001b[1;32m   1089\u001b[0m             \u001b[0mfeat_type\u001b[0m\u001b[0;34m=\u001b[0m\u001b[0mfeat_type\u001b[0m\u001b[0;34m,\u001b[0m\u001b[0;34m\u001b[0m\u001b[0;34m\u001b[0m\u001b[0m\n\u001b[0;32m-> 1090\u001b[0;31m             \u001b[0mdataset_name\u001b[0m\u001b[0;34m=\u001b[0m\u001b[0mdataset_name\u001b[0m\u001b[0;34m,\u001b[0m\u001b[0;34m\u001b[0m\u001b[0;34m\u001b[0m\u001b[0m\n\u001b[0m\u001b[1;32m   1091\u001b[0m         )\n\u001b[1;32m   1092\u001b[0m \u001b[0;34m\u001b[0m\u001b[0m\n",
            "\u001b[0;32m/usr/local/lib/python3.7/dist-packages/autosklearn/estimators.py\u001b[0m in \u001b[0;36mfit\u001b[0;34m(self, **kwargs)\u001b[0m\n\u001b[1;32m    338\u001b[0m         \u001b[0;32mif\u001b[0m \u001b[0mself\u001b[0m\u001b[0;34m.\u001b[0m\u001b[0mautoml_\u001b[0m \u001b[0;32mis\u001b[0m \u001b[0;32mNone\u001b[0m\u001b[0;34m:\u001b[0m\u001b[0;34m\u001b[0m\u001b[0;34m\u001b[0m\u001b[0m\n\u001b[1;32m    339\u001b[0m             \u001b[0mself\u001b[0m\u001b[0;34m.\u001b[0m\u001b[0mautoml_\u001b[0m \u001b[0;34m=\u001b[0m \u001b[0mself\u001b[0m\u001b[0;34m.\u001b[0m\u001b[0mbuild_automl\u001b[0m\u001b[0;34m(\u001b[0m\u001b[0;34m)\u001b[0m\u001b[0;34m\u001b[0m\u001b[0;34m\u001b[0m\u001b[0m\n\u001b[0;32m--> 340\u001b[0;31m         \u001b[0mself\u001b[0m\u001b[0;34m.\u001b[0m\u001b[0mautoml_\u001b[0m\u001b[0;34m.\u001b[0m\u001b[0mfit\u001b[0m\u001b[0;34m(\u001b[0m\u001b[0mload_models\u001b[0m\u001b[0;34m=\u001b[0m\u001b[0mself\u001b[0m\u001b[0;34m.\u001b[0m\u001b[0mload_models\u001b[0m\u001b[0;34m,\u001b[0m \u001b[0;34m**\u001b[0m\u001b[0mkwargs\u001b[0m\u001b[0;34m)\u001b[0m\u001b[0;34m\u001b[0m\u001b[0;34m\u001b[0m\u001b[0m\n\u001b[0m\u001b[1;32m    341\u001b[0m \u001b[0;34m\u001b[0m\u001b[0m\n\u001b[1;32m    342\u001b[0m         \u001b[0;32mreturn\u001b[0m \u001b[0mself\u001b[0m\u001b[0;34m\u001b[0m\u001b[0;34m\u001b[0m\u001b[0m\n",
            "\u001b[0;32m/usr/local/lib/python3.7/dist-packages/autosklearn/automl.py\u001b[0m in \u001b[0;36mfit\u001b[0;34m(self, X, y, X_test, y_test, feat_type, dataset_name, only_return_configuration_space, load_models)\u001b[0m\n\u001b[1;32m   1754\u001b[0m             \u001b[0monly_return_configuration_space\u001b[0m\u001b[0;34m=\u001b[0m\u001b[0monly_return_configuration_space\u001b[0m\u001b[0;34m,\u001b[0m\u001b[0;34m\u001b[0m\u001b[0;34m\u001b[0m\u001b[0m\n\u001b[1;32m   1755\u001b[0m             \u001b[0mload_models\u001b[0m\u001b[0;34m=\u001b[0m\u001b[0mload_models\u001b[0m\u001b[0;34m,\u001b[0m\u001b[0;34m\u001b[0m\u001b[0;34m\u001b[0m\u001b[0m\n\u001b[0;32m-> 1756\u001b[0;31m             \u001b[0mis_classification\u001b[0m\u001b[0;34m=\u001b[0m\u001b[0;32mFalse\u001b[0m\u001b[0;34m,\u001b[0m\u001b[0;34m\u001b[0m\u001b[0;34m\u001b[0m\u001b[0m\n\u001b[0m\u001b[1;32m   1757\u001b[0m         )\n\u001b[1;32m   1758\u001b[0m \u001b[0;34m\u001b[0m\u001b[0m\n",
            "\u001b[0;32m/usr/local/lib/python3.7/dist-packages/autosklearn/automl.py\u001b[0m in \u001b[0;36mfit\u001b[0;34m(self, X, y, task, X_test, y_test, feat_type, dataset_name, only_return_configuration_space, load_models, is_classification)\u001b[0m\n\u001b[1;32m    511\u001b[0m             \u001b[0;34m(\u001b[0m\u001b[0mself\u001b[0m\u001b[0;34m.\u001b[0m\u001b[0m_ensemble_size\u001b[0m \u001b[0;34m>\u001b[0m \u001b[0;36m0\u001b[0m \u001b[0;32mor\u001b[0m \u001b[0mself\u001b[0m\u001b[0;34m.\u001b[0m\u001b[0m_n_jobs\u001b[0m \u001b[0;32mis\u001b[0m \u001b[0;32mnot\u001b[0m \u001b[0;32mNone\u001b[0m \u001b[0;32mand\u001b[0m \u001b[0mself\u001b[0m\u001b[0;34m.\u001b[0m\u001b[0m_n_jobs\u001b[0m \u001b[0;34m>\u001b[0m \u001b[0;36m1\u001b[0m\u001b[0;34m)\u001b[0m\u001b[0;34m\u001b[0m\u001b[0;34m\u001b[0m\u001b[0m\n\u001b[1;32m    512\u001b[0m         ):\n\u001b[0;32m--> 513\u001b[0;31m             \u001b[0mself\u001b[0m\u001b[0;34m.\u001b[0m\u001b[0m_create_dask_client\u001b[0m\u001b[0;34m(\u001b[0m\u001b[0;34m)\u001b[0m\u001b[0;34m\u001b[0m\u001b[0;34m\u001b[0m\u001b[0m\n\u001b[0m\u001b[1;32m    514\u001b[0m         \u001b[0;32melse\u001b[0m\u001b[0;34m:\u001b[0m\u001b[0;34m\u001b[0m\u001b[0;34m\u001b[0m\u001b[0m\n\u001b[1;32m    515\u001b[0m             \u001b[0mself\u001b[0m\u001b[0;34m.\u001b[0m\u001b[0m_is_dask_client_internally_created\u001b[0m \u001b[0;34m=\u001b[0m \u001b[0;32mFalse\u001b[0m\u001b[0;34m\u001b[0m\u001b[0;34m\u001b[0m\u001b[0m\n",
            "\u001b[0;32m/usr/local/lib/python3.7/dist-packages/autosklearn/automl.py\u001b[0m in \u001b[0;36m_create_dask_client\u001b[0;34m(self)\u001b[0m\n\u001b[1;32m    249\u001b[0m                 \u001b[0mlocal_directory\u001b[0m\u001b[0;34m=\u001b[0m\u001b[0mtempfile\u001b[0m\u001b[0;34m.\u001b[0m\u001b[0mgettempdir\u001b[0m\u001b[0;34m(\u001b[0m\u001b[0;34m)\u001b[0m\u001b[0;34m,\u001b[0m\u001b[0;34m\u001b[0m\u001b[0;34m\u001b[0m\u001b[0m\n\u001b[1;32m    250\u001b[0m                 \u001b[0;31m# Memory is handled by the pynisher, not by the dask worker/nanny\u001b[0m\u001b[0;34m\u001b[0m\u001b[0;34m\u001b[0m\u001b[0;34m\u001b[0m\u001b[0m\n\u001b[0;32m--> 251\u001b[0;31m                 \u001b[0mmemory_limit\u001b[0m\u001b[0;34m=\u001b[0m\u001b[0;36m0\u001b[0m\u001b[0;34m,\u001b[0m\u001b[0;34m\u001b[0m\u001b[0;34m\u001b[0m\u001b[0m\n\u001b[0m\u001b[1;32m    252\u001b[0m             ),\n\u001b[1;32m    253\u001b[0m             \u001b[0;31m# Heartbeat every 10s\u001b[0m\u001b[0;34m\u001b[0m\u001b[0;34m\u001b[0m\u001b[0;34m\u001b[0m\u001b[0m\n",
            "\u001b[0;32m/usr/local/lib/python3.7/dist-packages/distributed/deploy/local.py\u001b[0m in \u001b[0;36m__init__\u001b[0;34m(self, name, n_workers, threads_per_worker, processes, loop, start, host, ip, scheduler_port, silence_logs, dashboard_address, worker_dashboard_address, diagnostics_port, services, worker_services, service_kwargs, asynchronous, security, protocol, blocked_handlers, interface, worker_class, scheduler_kwargs, **worker_kwargs)\u001b[0m\n\u001b[1;32m    240\u001b[0m             \u001b[0masynchronous\u001b[0m\u001b[0;34m=\u001b[0m\u001b[0masynchronous\u001b[0m\u001b[0;34m,\u001b[0m\u001b[0;34m\u001b[0m\u001b[0;34m\u001b[0m\u001b[0m\n\u001b[1;32m    241\u001b[0m             \u001b[0msilence_logs\u001b[0m\u001b[0;34m=\u001b[0m\u001b[0msilence_logs\u001b[0m\u001b[0;34m,\u001b[0m\u001b[0;34m\u001b[0m\u001b[0;34m\u001b[0m\u001b[0m\n\u001b[0;32m--> 242\u001b[0;31m             \u001b[0msecurity\u001b[0m\u001b[0;34m=\u001b[0m\u001b[0msecurity\u001b[0m\u001b[0;34m,\u001b[0m\u001b[0;34m\u001b[0m\u001b[0;34m\u001b[0m\u001b[0m\n\u001b[0m\u001b[1;32m    243\u001b[0m         )\n\u001b[1;32m    244\u001b[0m \u001b[0;34m\u001b[0m\u001b[0m\n",
            "\u001b[0;32m/usr/local/lib/python3.7/dist-packages/distributed/deploy/spec.py\u001b[0m in \u001b[0;36m__init__\u001b[0;34m(self, workers, scheduler, worker, asynchronous, loop, security, silence_logs, name, shutdown_on_close)\u001b[0m\n\u001b[1;32m    281\u001b[0m         \u001b[0;32mif\u001b[0m \u001b[0;32mnot\u001b[0m \u001b[0mself\u001b[0m\u001b[0;34m.\u001b[0m\u001b[0masynchronous\u001b[0m\u001b[0;34m:\u001b[0m\u001b[0;34m\u001b[0m\u001b[0;34m\u001b[0m\u001b[0m\n\u001b[1;32m    282\u001b[0m             \u001b[0mself\u001b[0m\u001b[0;34m.\u001b[0m\u001b[0m_loop_runner\u001b[0m\u001b[0;34m.\u001b[0m\u001b[0mstart\u001b[0m\u001b[0;34m(\u001b[0m\u001b[0;34m)\u001b[0m\u001b[0;34m\u001b[0m\u001b[0;34m\u001b[0m\u001b[0m\n\u001b[0;32m--> 283\u001b[0;31m             \u001b[0mself\u001b[0m\u001b[0;34m.\u001b[0m\u001b[0msync\u001b[0m\u001b[0;34m(\u001b[0m\u001b[0mself\u001b[0m\u001b[0;34m.\u001b[0m\u001b[0m_start\u001b[0m\u001b[0;34m)\u001b[0m\u001b[0;34m\u001b[0m\u001b[0;34m\u001b[0m\u001b[0m\n\u001b[0m\u001b[1;32m    284\u001b[0m             \u001b[0mself\u001b[0m\u001b[0;34m.\u001b[0m\u001b[0msync\u001b[0m\u001b[0;34m(\u001b[0m\u001b[0mself\u001b[0m\u001b[0;34m.\u001b[0m\u001b[0m_correct_state\u001b[0m\u001b[0;34m)\u001b[0m\u001b[0;34m\u001b[0m\u001b[0;34m\u001b[0m\u001b[0m\n\u001b[1;32m    285\u001b[0m \u001b[0;34m\u001b[0m\u001b[0m\n",
            "\u001b[0;32m/usr/local/lib/python3.7/dist-packages/distributed/deploy/cluster.py\u001b[0m in \u001b[0;36msync\u001b[0;34m(self, func, asynchronous, callback_timeout, *args, **kwargs)\u001b[0m\n\u001b[1;32m    191\u001b[0m             \u001b[0;32mreturn\u001b[0m \u001b[0mfuture\u001b[0m\u001b[0;34m\u001b[0m\u001b[0;34m\u001b[0m\u001b[0m\n\u001b[1;32m    192\u001b[0m         \u001b[0;32melse\u001b[0m\u001b[0;34m:\u001b[0m\u001b[0;34m\u001b[0m\u001b[0;34m\u001b[0m\u001b[0m\n\u001b[0;32m--> 193\u001b[0;31m             \u001b[0;32mreturn\u001b[0m \u001b[0msync\u001b[0m\u001b[0;34m(\u001b[0m\u001b[0mself\u001b[0m\u001b[0;34m.\u001b[0m\u001b[0mloop\u001b[0m\u001b[0;34m,\u001b[0m \u001b[0mfunc\u001b[0m\u001b[0;34m,\u001b[0m \u001b[0;34m*\u001b[0m\u001b[0margs\u001b[0m\u001b[0;34m,\u001b[0m \u001b[0;34m**\u001b[0m\u001b[0mkwargs\u001b[0m\u001b[0;34m)\u001b[0m\u001b[0;34m\u001b[0m\u001b[0;34m\u001b[0m\u001b[0m\n\u001b[0m\u001b[1;32m    194\u001b[0m \u001b[0;34m\u001b[0m\u001b[0m\n\u001b[1;32m    195\u001b[0m     \u001b[0;32mdef\u001b[0m \u001b[0m_log\u001b[0m\u001b[0;34m(\u001b[0m\u001b[0mself\u001b[0m\u001b[0;34m,\u001b[0m \u001b[0mlog\u001b[0m\u001b[0;34m)\u001b[0m\u001b[0;34m:\u001b[0m\u001b[0;34m\u001b[0m\u001b[0;34m\u001b[0m\u001b[0m\n",
            "\u001b[0;32m/usr/local/lib/python3.7/dist-packages/distributed/utils.py\u001b[0m in \u001b[0;36msync\u001b[0;34m(loop, func, callback_timeout, *args, **kwargs)\u001b[0m\n\u001b[1;32m    336\u001b[0m     \u001b[0;32mif\u001b[0m \u001b[0merror\u001b[0m\u001b[0;34m[\u001b[0m\u001b[0;36m0\u001b[0m\u001b[0;34m]\u001b[0m\u001b[0;34m:\u001b[0m\u001b[0;34m\u001b[0m\u001b[0;34m\u001b[0m\u001b[0m\n\u001b[1;32m    337\u001b[0m         \u001b[0mtyp\u001b[0m\u001b[0;34m,\u001b[0m \u001b[0mexc\u001b[0m\u001b[0;34m,\u001b[0m \u001b[0mtb\u001b[0m \u001b[0;34m=\u001b[0m \u001b[0merror\u001b[0m\u001b[0;34m[\u001b[0m\u001b[0;36m0\u001b[0m\u001b[0;34m]\u001b[0m\u001b[0;34m\u001b[0m\u001b[0;34m\u001b[0m\u001b[0m\n\u001b[0;32m--> 338\u001b[0;31m         \u001b[0;32mraise\u001b[0m \u001b[0mexc\u001b[0m\u001b[0;34m.\u001b[0m\u001b[0mwith_traceback\u001b[0m\u001b[0;34m(\u001b[0m\u001b[0mtb\u001b[0m\u001b[0;34m)\u001b[0m\u001b[0;34m\u001b[0m\u001b[0;34m\u001b[0m\u001b[0m\n\u001b[0m\u001b[1;32m    339\u001b[0m     \u001b[0;32melse\u001b[0m\u001b[0;34m:\u001b[0m\u001b[0;34m\u001b[0m\u001b[0;34m\u001b[0m\u001b[0m\n\u001b[1;32m    340\u001b[0m         \u001b[0;32mreturn\u001b[0m \u001b[0mresult\u001b[0m\u001b[0;34m[\u001b[0m\u001b[0;36m0\u001b[0m\u001b[0;34m]\u001b[0m\u001b[0;34m\u001b[0m\u001b[0;34m\u001b[0m\u001b[0m\n",
            "\u001b[0;32m/usr/local/lib/python3.7/dist-packages/distributed/utils.py\u001b[0m in \u001b[0;36mf\u001b[0;34m()\u001b[0m\n\u001b[1;32m    319\u001b[0m             \u001b[0;32mif\u001b[0m \u001b[0mcallback_timeout\u001b[0m \u001b[0;32mis\u001b[0m \u001b[0;32mnot\u001b[0m \u001b[0;32mNone\u001b[0m\u001b[0;34m:\u001b[0m\u001b[0;34m\u001b[0m\u001b[0;34m\u001b[0m\u001b[0m\n\u001b[1;32m    320\u001b[0m                 \u001b[0mfuture\u001b[0m \u001b[0;34m=\u001b[0m \u001b[0masyncio\u001b[0m\u001b[0;34m.\u001b[0m\u001b[0mwait_for\u001b[0m\u001b[0;34m(\u001b[0m\u001b[0mfuture\u001b[0m\u001b[0;34m,\u001b[0m \u001b[0mcallback_timeout\u001b[0m\u001b[0;34m)\u001b[0m\u001b[0;34m\u001b[0m\u001b[0;34m\u001b[0m\u001b[0m\n\u001b[0;32m--> 321\u001b[0;31m             \u001b[0mresult\u001b[0m\u001b[0;34m[\u001b[0m\u001b[0;36m0\u001b[0m\u001b[0;34m]\u001b[0m \u001b[0;34m=\u001b[0m \u001b[0;32myield\u001b[0m \u001b[0mfuture\u001b[0m\u001b[0;34m\u001b[0m\u001b[0;34m\u001b[0m\u001b[0m\n\u001b[0m\u001b[1;32m    322\u001b[0m         \u001b[0;32mexcept\u001b[0m \u001b[0mException\u001b[0m\u001b[0;34m:\u001b[0m\u001b[0;34m\u001b[0m\u001b[0;34m\u001b[0m\u001b[0m\n\u001b[1;32m    323\u001b[0m             \u001b[0merror\u001b[0m\u001b[0;34m[\u001b[0m\u001b[0;36m0\u001b[0m\u001b[0;34m]\u001b[0m \u001b[0;34m=\u001b[0m \u001b[0msys\u001b[0m\u001b[0;34m.\u001b[0m\u001b[0mexc_info\u001b[0m\u001b[0;34m(\u001b[0m\u001b[0;34m)\u001b[0m\u001b[0;34m\u001b[0m\u001b[0;34m\u001b[0m\u001b[0m\n",
            "\u001b[0;32m/usr/local/lib/python3.7/dist-packages/tornado/gen.py\u001b[0m in \u001b[0;36mrun\u001b[0;34m(self)\u001b[0m\n\u001b[1;32m   1131\u001b[0m \u001b[0;34m\u001b[0m\u001b[0m\n\u001b[1;32m   1132\u001b[0m                     \u001b[0;32mtry\u001b[0m\u001b[0;34m:\u001b[0m\u001b[0;34m\u001b[0m\u001b[0;34m\u001b[0m\u001b[0m\n\u001b[0;32m-> 1133\u001b[0;31m                         \u001b[0mvalue\u001b[0m \u001b[0;34m=\u001b[0m \u001b[0mfuture\u001b[0m\u001b[0;34m.\u001b[0m\u001b[0mresult\u001b[0m\u001b[0;34m(\u001b[0m\u001b[0;34m)\u001b[0m\u001b[0;34m\u001b[0m\u001b[0;34m\u001b[0m\u001b[0m\n\u001b[0m\u001b[1;32m   1134\u001b[0m                     \u001b[0;32mexcept\u001b[0m \u001b[0mException\u001b[0m\u001b[0;34m:\u001b[0m\u001b[0;34m\u001b[0m\u001b[0;34m\u001b[0m\u001b[0m\n\u001b[1;32m   1135\u001b[0m                         \u001b[0mself\u001b[0m\u001b[0;34m.\u001b[0m\u001b[0mhad_exception\u001b[0m \u001b[0;34m=\u001b[0m \u001b[0;32mTrue\u001b[0m\u001b[0;34m\u001b[0m\u001b[0;34m\u001b[0m\u001b[0m\n",
            "\u001b[0;32m/usr/local/lib/python3.7/dist-packages/distributed/deploy/spec.py\u001b[0m in \u001b[0;36m_start\u001b[0;34m(self)\u001b[0m\n\u001b[1;32m    309\u001b[0m             \u001b[0;32mif\u001b[0m \u001b[0misinstance\u001b[0m\u001b[0;34m(\u001b[0m\u001b[0mcls\u001b[0m\u001b[0;34m,\u001b[0m \u001b[0mstr\u001b[0m\u001b[0;34m)\u001b[0m\u001b[0;34m:\u001b[0m\u001b[0;34m\u001b[0m\u001b[0;34m\u001b[0m\u001b[0m\n\u001b[1;32m    310\u001b[0m                 \u001b[0mcls\u001b[0m \u001b[0;34m=\u001b[0m \u001b[0mimport_term\u001b[0m\u001b[0;34m(\u001b[0m\u001b[0mcls\u001b[0m\u001b[0;34m)\u001b[0m\u001b[0;34m\u001b[0m\u001b[0;34m\u001b[0m\u001b[0m\n\u001b[0;32m--> 311\u001b[0;31m             \u001b[0mself\u001b[0m\u001b[0;34m.\u001b[0m\u001b[0mscheduler\u001b[0m \u001b[0;34m=\u001b[0m \u001b[0mcls\u001b[0m\u001b[0;34m(\u001b[0m\u001b[0;34m**\u001b[0m\u001b[0mself\u001b[0m\u001b[0;34m.\u001b[0m\u001b[0mscheduler_spec\u001b[0m\u001b[0;34m.\u001b[0m\u001b[0mget\u001b[0m\u001b[0;34m(\u001b[0m\u001b[0;34m\"options\"\u001b[0m\u001b[0;34m,\u001b[0m \u001b[0;34m{\u001b[0m\u001b[0;34m}\u001b[0m\u001b[0;34m)\u001b[0m\u001b[0;34m)\u001b[0m\u001b[0;34m\u001b[0m\u001b[0;34m\u001b[0m\u001b[0m\n\u001b[0m\u001b[1;32m    312\u001b[0m             \u001b[0mself\u001b[0m\u001b[0;34m.\u001b[0m\u001b[0mscheduler\u001b[0m \u001b[0;34m=\u001b[0m \u001b[0;32mawait\u001b[0m \u001b[0mself\u001b[0m\u001b[0;34m.\u001b[0m\u001b[0mscheduler\u001b[0m\u001b[0;34m\u001b[0m\u001b[0;34m\u001b[0m\u001b[0m\n\u001b[1;32m    313\u001b[0m         self.scheduler_comm = rpc(\n",
            "\u001b[0;32m/usr/local/lib/python3.7/dist-packages/distributed/scheduler.py\u001b[0m in \u001b[0;36m__init__\u001b[0;34m(self, loop, delete_interval, synchronize_worker_interval, services, service_kwargs, allowed_failures, extensions, validate, scheduler_file, security, worker_ttl, idle_timeout, interface, host, port, protocol, dashboard_address, dashboard, http_prefix, preload, preload_argv, plugins, **kwargs)\u001b[0m\n\u001b[1;32m   3387\u001b[0m         \u001b[0;32mif\u001b[0m \u001b[0mshow_dashboard\u001b[0m\u001b[0;34m:\u001b[0m\u001b[0;34m\u001b[0m\u001b[0;34m\u001b[0m\u001b[0m\n\u001b[1;32m   3388\u001b[0m             \u001b[0;32mtry\u001b[0m\u001b[0;34m:\u001b[0m\u001b[0;34m\u001b[0m\u001b[0;34m\u001b[0m\u001b[0m\n\u001b[0;32m-> 3389\u001b[0;31m                 \u001b[0;32mimport\u001b[0m \u001b[0mdistributed\u001b[0m\u001b[0;34m.\u001b[0m\u001b[0mdashboard\u001b[0m\u001b[0;34m.\u001b[0m\u001b[0mscheduler\u001b[0m\u001b[0;34m\u001b[0m\u001b[0;34m\u001b[0m\u001b[0m\n\u001b[0m\u001b[1;32m   3390\u001b[0m             \u001b[0;32mexcept\u001b[0m \u001b[0mImportError\u001b[0m\u001b[0;34m:\u001b[0m\u001b[0;34m\u001b[0m\u001b[0;34m\u001b[0m\u001b[0m\n\u001b[1;32m   3391\u001b[0m                 \u001b[0mmissing_bokeh\u001b[0m \u001b[0;34m=\u001b[0m \u001b[0;32mTrue\u001b[0m\u001b[0;34m\u001b[0m\u001b[0;34m\u001b[0m\u001b[0m\n",
            "\u001b[0;32m/usr/local/lib/python3.7/dist-packages/distributed/dashboard/scheduler.py\u001b[0m in \u001b[0;36m<module>\u001b[0;34m()\u001b[0m\n\u001b[1;32m      9\u001b[0m     \u001b[0mnp\u001b[0m \u001b[0;34m=\u001b[0m \u001b[0;32mFalse\u001b[0m\u001b[0;34m\u001b[0m\u001b[0;34m\u001b[0m\u001b[0m\n\u001b[1;32m     10\u001b[0m \u001b[0;34m\u001b[0m\u001b[0m\n\u001b[0;32m---> 11\u001b[0;31m \u001b[0;32mfrom\u001b[0m \u001b[0;34m.\u001b[0m\u001b[0mcomponents\u001b[0m\u001b[0;34m.\u001b[0m\u001b[0mnvml\u001b[0m \u001b[0;32mimport\u001b[0m \u001b[0mgpu_doc\u001b[0m  \u001b[0;31m# noqa: 1708\u001b[0m\u001b[0;34m\u001b[0m\u001b[0;34m\u001b[0m\u001b[0m\n\u001b[0m\u001b[1;32m     12\u001b[0m \u001b[0;32mfrom\u001b[0m \u001b[0;34m.\u001b[0m\u001b[0mcomponents\u001b[0m\u001b[0;34m.\u001b[0m\u001b[0mnvml\u001b[0m \u001b[0;32mimport\u001b[0m \u001b[0mNVML_ENABLED\u001b[0m\u001b[0;34m,\u001b[0m \u001b[0mgpu_memory_doc\u001b[0m\u001b[0;34m,\u001b[0m \u001b[0mgpu_utilization_doc\u001b[0m\u001b[0;34m\u001b[0m\u001b[0;34m\u001b[0m\u001b[0m\n\u001b[1;32m     13\u001b[0m from .components.scheduler import (\n",
            "\u001b[0;32m/usr/local/lib/python3.7/dist-packages/distributed/dashboard/components/nvml.py\u001b[0m in \u001b[0;36m<module>\u001b[0;34m()\u001b[0m\n\u001b[1;32m     20\u001b[0m \u001b[0;32mfrom\u001b[0m \u001b[0mdistributed\u001b[0m\u001b[0;34m.\u001b[0m\u001b[0mutils\u001b[0m \u001b[0;32mimport\u001b[0m \u001b[0mlog_errors\u001b[0m\u001b[0;34m\u001b[0m\u001b[0;34m\u001b[0m\u001b[0m\n\u001b[1;32m     21\u001b[0m \u001b[0;34m\u001b[0m\u001b[0m\n\u001b[0;32m---> 22\u001b[0;31m \u001b[0mNVML_ENABLED\u001b[0m \u001b[0;34m=\u001b[0m \u001b[0mnvml\u001b[0m\u001b[0;34m.\u001b[0m\u001b[0mdevice_get_count\u001b[0m\u001b[0;34m(\u001b[0m\u001b[0;34m)\u001b[0m \u001b[0;34m>\u001b[0m \u001b[0;36m0\u001b[0m\u001b[0;34m\u001b[0m\u001b[0;34m\u001b[0m\u001b[0m\n\u001b[0m\u001b[1;32m     23\u001b[0m \u001b[0;34m\u001b[0m\u001b[0m\n\u001b[1;32m     24\u001b[0m \u001b[0;34m\u001b[0m\u001b[0m\n",
            "\u001b[0;32m/usr/local/lib/python3.7/dist-packages/distributed/diagnostics/nvml.py\u001b[0m in \u001b[0;36mdevice_get_count\u001b[0;34m()\u001b[0m\n\u001b[1;32m     36\u001b[0m         \u001b[0;32mreturn\u001b[0m \u001b[0;36m0\u001b[0m\u001b[0;34m\u001b[0m\u001b[0;34m\u001b[0m\u001b[0m\n\u001b[1;32m     37\u001b[0m     \u001b[0;32melse\u001b[0m\u001b[0;34m:\u001b[0m\u001b[0;34m\u001b[0m\u001b[0;34m\u001b[0m\u001b[0m\n\u001b[0;32m---> 38\u001b[0;31m         \u001b[0;32mreturn\u001b[0m \u001b[0mpynvml\u001b[0m\u001b[0;34m.\u001b[0m\u001b[0mnvmlDeviceGetCount\u001b[0m\u001b[0;34m(\u001b[0m\u001b[0;34m)\u001b[0m\u001b[0;34m\u001b[0m\u001b[0;34m\u001b[0m\u001b[0m\n\u001b[0m\u001b[1;32m     39\u001b[0m \u001b[0;34m\u001b[0m\u001b[0m\n\u001b[1;32m     40\u001b[0m \u001b[0;34m\u001b[0m\u001b[0m\n",
            "\u001b[0;32m/usr/local/lib/python3.7/dist-packages/pynvml.py\u001b[0m in \u001b[0;36mnvmlDeviceGetCount\u001b[0;34m()\u001b[0m\n\u001b[1;32m    797\u001b[0m     \u001b[0mfn\u001b[0m \u001b[0;34m=\u001b[0m \u001b[0m_nvmlGetFunctionPointer\u001b[0m\u001b[0;34m(\u001b[0m\u001b[0;34m\"nvmlDeviceGetCount_v2\"\u001b[0m\u001b[0;34m)\u001b[0m\u001b[0;34m\u001b[0m\u001b[0;34m\u001b[0m\u001b[0m\n\u001b[1;32m    798\u001b[0m     \u001b[0mret\u001b[0m \u001b[0;34m=\u001b[0m \u001b[0mfn\u001b[0m\u001b[0;34m(\u001b[0m\u001b[0mbyref\u001b[0m\u001b[0;34m(\u001b[0m\u001b[0mc_count\u001b[0m\u001b[0;34m)\u001b[0m\u001b[0;34m)\u001b[0m\u001b[0;34m\u001b[0m\u001b[0;34m\u001b[0m\u001b[0m\n\u001b[0;32m--> 799\u001b[0;31m     \u001b[0m_nvmlCheckReturn\u001b[0m\u001b[0;34m(\u001b[0m\u001b[0mret\u001b[0m\u001b[0;34m)\u001b[0m\u001b[0;34m\u001b[0m\u001b[0;34m\u001b[0m\u001b[0m\n\u001b[0m\u001b[1;32m    800\u001b[0m     \u001b[0;32mreturn\u001b[0m \u001b[0mc_count\u001b[0m\u001b[0;34m.\u001b[0m\u001b[0mvalue\u001b[0m\u001b[0;34m\u001b[0m\u001b[0;34m\u001b[0m\u001b[0m\n\u001b[1;32m    801\u001b[0m \u001b[0;34m\u001b[0m\u001b[0m\n",
            "\u001b[0;32m/usr/local/lib/python3.7/dist-packages/pynvml.py\u001b[0m in \u001b[0;36m_nvmlCheckReturn\u001b[0;34m(ret)\u001b[0m\n\u001b[1;32m    308\u001b[0m \u001b[0;32mdef\u001b[0m \u001b[0m_nvmlCheckReturn\u001b[0m\u001b[0;34m(\u001b[0m\u001b[0mret\u001b[0m\u001b[0;34m)\u001b[0m\u001b[0;34m:\u001b[0m\u001b[0;34m\u001b[0m\u001b[0;34m\u001b[0m\u001b[0m\n\u001b[1;32m    309\u001b[0m     \u001b[0;32mif\u001b[0m \u001b[0;34m(\u001b[0m\u001b[0mret\u001b[0m \u001b[0;34m!=\u001b[0m \u001b[0mNVML_SUCCESS\u001b[0m\u001b[0;34m)\u001b[0m\u001b[0;34m:\u001b[0m\u001b[0;34m\u001b[0m\u001b[0;34m\u001b[0m\u001b[0m\n\u001b[0;32m--> 310\u001b[0;31m         \u001b[0;32mraise\u001b[0m \u001b[0mNVMLError\u001b[0m\u001b[0;34m(\u001b[0m\u001b[0mret\u001b[0m\u001b[0;34m)\u001b[0m\u001b[0;34m\u001b[0m\u001b[0;34m\u001b[0m\u001b[0m\n\u001b[0m\u001b[1;32m    311\u001b[0m     \u001b[0;32mreturn\u001b[0m \u001b[0mret\u001b[0m\u001b[0;34m\u001b[0m\u001b[0;34m\u001b[0m\u001b[0m\n\u001b[1;32m    312\u001b[0m \u001b[0;34m\u001b[0m\u001b[0m\n",
            "\u001b[0;31mNVMLError_Uninitialized\u001b[0m: Uninitialized"
          ]
        }
      ]
    },
    {
      "cell_type": "code",
      "metadata": {
        "colab": {
          "base_uri": "https://localhost:8080/",
          "height": 316
        },
        "id": "rdnhW7ryoUFD",
        "outputId": "ca4e4047-9215-4b9f-e156-3fae7de1342d"
      },
      "source": [
        "print(automl.score(x_valid))\n",
        "automl.cv_results_['params'][np.argmax(automl.cv_results_['mean_test_score'])]\n",
        "# submission['num'] = pred\n",
        "# submission.to_csv('automl.csv', index=False)"
      ],
      "execution_count": 22,
      "outputs": [
        {
          "output_type": "error",
          "ename": "AttributeError",
          "evalue": "ignored",
          "traceback": [
            "\u001b[0;31m---------------------------------------------------------------------------\u001b[0m",
            "\u001b[0;31mAttributeError\u001b[0m                            Traceback (most recent call last)",
            "\u001b[0;32m<ipython-input-22-977154dfd2e4>\u001b[0m in \u001b[0;36m<module>\u001b[0;34m()\u001b[0m\n\u001b[0;32m----> 1\u001b[0;31m \u001b[0mautoml\u001b[0m\u001b[0;34m.\u001b[0m\u001b[0mcv_results_\u001b[0m\u001b[0;34m[\u001b[0m\u001b[0;34m'params'\u001b[0m\u001b[0;34m]\u001b[0m\u001b[0;34m[\u001b[0m\u001b[0mnp\u001b[0m\u001b[0;34m.\u001b[0m\u001b[0margmax\u001b[0m\u001b[0;34m(\u001b[0m\u001b[0mautoml\u001b[0m\u001b[0;34m.\u001b[0m\u001b[0mcv_results_\u001b[0m\u001b[0;34m[\u001b[0m\u001b[0;34m'mean_test_score'\u001b[0m\u001b[0;34m]\u001b[0m\u001b[0;34m)\u001b[0m\u001b[0;34m]\u001b[0m\u001b[0;34m\u001b[0m\u001b[0;34m\u001b[0m\u001b[0m\n\u001b[0m",
            "\u001b[0;32m/usr/local/lib/python3.7/dist-packages/autosklearn/estimators.py\u001b[0m in \u001b[0;36mcv_results_\u001b[0;34m(self)\u001b[0m\n\u001b[1;32m    524\u001b[0m     \u001b[0;34m@\u001b[0m\u001b[0mproperty\u001b[0m\u001b[0;34m\u001b[0m\u001b[0;34m\u001b[0m\u001b[0m\n\u001b[1;32m    525\u001b[0m     \u001b[0;32mdef\u001b[0m \u001b[0mcv_results_\u001b[0m\u001b[0;34m(\u001b[0m\u001b[0mself\u001b[0m\u001b[0;34m)\u001b[0m\u001b[0;34m:\u001b[0m\u001b[0;34m\u001b[0m\u001b[0;34m\u001b[0m\u001b[0m\n\u001b[0;32m--> 526\u001b[0;31m         \u001b[0;32mreturn\u001b[0m \u001b[0mself\u001b[0m\u001b[0;34m.\u001b[0m\u001b[0mautoml_\u001b[0m\u001b[0;34m.\u001b[0m\u001b[0mcv_results_\u001b[0m\u001b[0;34m\u001b[0m\u001b[0;34m\u001b[0m\u001b[0m\n\u001b[0m\u001b[1;32m    527\u001b[0m \u001b[0;34m\u001b[0m\u001b[0m\n\u001b[1;32m    528\u001b[0m     \u001b[0;34m@\u001b[0m\u001b[0mproperty\u001b[0m\u001b[0;34m\u001b[0m\u001b[0;34m\u001b[0m\u001b[0m\n",
            "\u001b[0;32m/usr/local/lib/python3.7/dist-packages/autosklearn/automl.py\u001b[0m in \u001b[0;36mcv_results_\u001b[0;34m(self)\u001b[0m\n\u001b[1;32m   1429\u001b[0m \u001b[0;34m\u001b[0m\u001b[0m\n\u001b[1;32m   1430\u001b[0m         \u001b[0;31m# Set up dictionary for parameter values\u001b[0m\u001b[0;34m\u001b[0m\u001b[0;34m\u001b[0m\u001b[0;34m\u001b[0m\u001b[0m\n\u001b[0;32m-> 1431\u001b[0;31m         \u001b[0;32mfor\u001b[0m \u001b[0mhp\u001b[0m \u001b[0;32min\u001b[0m \u001b[0mself\u001b[0m\u001b[0;34m.\u001b[0m\u001b[0mconfiguration_space\u001b[0m\u001b[0;34m.\u001b[0m\u001b[0mget_hyperparameters\u001b[0m\u001b[0;34m(\u001b[0m\u001b[0;34m)\u001b[0m\u001b[0;34m:\u001b[0m\u001b[0;34m\u001b[0m\u001b[0;34m\u001b[0m\u001b[0m\n\u001b[0m\u001b[1;32m   1432\u001b[0m             \u001b[0mname\u001b[0m \u001b[0;34m=\u001b[0m \u001b[0mhp\u001b[0m\u001b[0;34m.\u001b[0m\u001b[0mname\u001b[0m\u001b[0;34m\u001b[0m\u001b[0;34m\u001b[0m\u001b[0m\n\u001b[1;32m   1433\u001b[0m             \u001b[0mparameter_dictionaries\u001b[0m\u001b[0;34m[\u001b[0m\u001b[0mname\u001b[0m\u001b[0;34m]\u001b[0m \u001b[0;34m=\u001b[0m \u001b[0;34m[\u001b[0m\u001b[0;34m]\u001b[0m\u001b[0;34m\u001b[0m\u001b[0;34m\u001b[0m\u001b[0m\n",
            "\u001b[0;31mAttributeError\u001b[0m: 'NoneType' object has no attribute 'get_hyperparameters'"
          ]
        }
      ]
    }
  ]
}
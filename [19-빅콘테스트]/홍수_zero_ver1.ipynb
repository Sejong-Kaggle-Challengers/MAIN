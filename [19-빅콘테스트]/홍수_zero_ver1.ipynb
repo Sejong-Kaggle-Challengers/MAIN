{
  "nbformat": 4,
  "nbformat_minor": 0,
  "metadata": {
    "colab": {
      "name": "홍수 zero_ver1",
      "provenance": [],
      "toc_visible": true
    },
    "kernelspec": {
      "name": "python3",
      "display_name": "Python 3"
    },
    "language_info": {
      "name": "python"
    }
  },
  "cells": [
    {
      "cell_type": "code",
      "metadata": {
        "id": "J0oIlBtKSqFO"
      },
      "source": [
        "import numpy as np\n",
        "import pandas as pd\n",
        "import matplotlib.pyplot as plt\n",
        "\n",
        "train=pd.read_excel(\"2021 빅콘테스트_데이터분석분야_퓨처스리그_홍수ZERO_댐유입량,강우,수위데이터_210803.xlsx\")\n",
        "test=pd.read_excel(\"2021 빅콘테스트_데이터분석분야_퓨처스리그_홍수ZERO_평가데이터_210803.xlsx\")"
      ],
      "execution_count": 7,
      "outputs": []
    },
    {
      "cell_type": "code",
      "metadata": {
        "colab": {
          "base_uri": "https://localhost:8080/",
          "height": 394
        },
        "id": "JNQoSY1EU7Yu",
        "outputId": "63ac1cb6-b553-4c71-9489-30af96ab46e4"
      },
      "source": [
        "train.head()"
      ],
      "execution_count": 8,
      "outputs": [
        {
          "output_type": "execute_result",
          "data": {
            "text/html": [
              "<div>\n",
              "<style scoped>\n",
              "    .dataframe tbody tr th:only-of-type {\n",
              "        vertical-align: middle;\n",
              "    }\n",
              "\n",
              "    .dataframe tbody tr th {\n",
              "        vertical-align: top;\n",
              "    }\n",
              "\n",
              "    .dataframe thead th {\n",
              "        text-align: right;\n",
              "    }\n",
              "</style>\n",
              "<table border=\"1\" class=\"dataframe\">\n",
              "  <thead>\n",
              "    <tr style=\"text-align: right;\">\n",
              "      <th></th>\n",
              "      <th>홍수사상번호</th>\n",
              "      <th>연</th>\n",
              "      <th>월</th>\n",
              "      <th>일</th>\n",
              "      <th>시간</th>\n",
              "      <th>유입량</th>\n",
              "      <th>데이터집단 1</th>\n",
              "      <th>Unnamed: 7</th>\n",
              "      <th>Unnamed: 8</th>\n",
              "      <th>Unnamed: 9</th>\n",
              "      <th>Unnamed: 10</th>\n",
              "      <th>Unnamed: 11</th>\n",
              "      <th>Unnamed: 12</th>\n",
              "      <th>데이터집단 2</th>\n",
              "      <th>Unnamed: 14</th>\n",
              "      <th>Unnamed: 15</th>\n",
              "      <th>Unnamed: 16</th>\n",
              "      <th>Unnamed: 17</th>\n",
              "      <th>Unnamed: 18</th>\n",
              "      <th>Unnamed: 19</th>\n",
              "      <th>데이터집단 3</th>\n",
              "      <th>Unnamed: 21</th>\n",
              "      <th>Unnamed: 22</th>\n",
              "      <th>Unnamed: 23</th>\n",
              "      <th>Unnamed: 24</th>\n",
              "      <th>Unnamed: 25</th>\n",
              "      <th>Unnamed: 26</th>\n",
              "      <th>데이터 집단 4</th>\n",
              "      <th>Unnamed: 28</th>\n",
              "      <th>Unnamed: 29</th>\n",
              "      <th>Unnamed: 30</th>\n",
              "      <th>Unnamed: 31</th>\n",
              "      <th>Unnamed: 32</th>\n",
              "      <th>Unnamed: 33</th>\n",
              "      <th>데이터 집단 5</th>\n",
              "      <th>Unnamed: 35</th>\n",
              "      <th>Unnamed: 36</th>\n",
              "      <th>Unnamed: 37</th>\n",
              "      <th>Unnamed: 38</th>\n",
              "      <th>Unnamed: 39</th>\n",
              "      <th>Unnamed: 40</th>\n",
              "      <th>데이터 집단 6</th>\n",
              "      <th>Unnamed: 42</th>\n",
              "      <th>Unnamed: 43</th>\n",
              "      <th>Unnamed: 44</th>\n",
              "      <th>Unnamed: 45</th>\n",
              "      <th>Unnamed: 46</th>\n",
              "      <th>Unnamed: 47</th>\n",
              "    </tr>\n",
              "  </thead>\n",
              "  <tbody>\n",
              "    <tr>\n",
              "      <th>0</th>\n",
              "      <td>NaN</td>\n",
              "      <td>NaN</td>\n",
              "      <td>NaN</td>\n",
              "      <td>NaN</td>\n",
              "      <td>NaN</td>\n",
              "      <td>NaN</td>\n",
              "      <td>유역평균강수</td>\n",
              "      <td>강우(A지역)</td>\n",
              "      <td>강우(B지역)</td>\n",
              "      <td>강우(C지역)</td>\n",
              "      <td>강우(D지역)</td>\n",
              "      <td>수위(E지역)</td>\n",
              "      <td>수위(D지역)</td>\n",
              "      <td>유역평균강수</td>\n",
              "      <td>강우(A지역)</td>\n",
              "      <td>강우(B지역)</td>\n",
              "      <td>강우(C지역)</td>\n",
              "      <td>강우(D지역)</td>\n",
              "      <td>수위(E지역)</td>\n",
              "      <td>수위(D지역)</td>\n",
              "      <td>유역평균강수</td>\n",
              "      <td>강우(A지역)</td>\n",
              "      <td>강우(B지역)</td>\n",
              "      <td>강우(C지역)</td>\n",
              "      <td>강우(D지역)</td>\n",
              "      <td>수위(E지역)</td>\n",
              "      <td>수위(D지역)</td>\n",
              "      <td>유역평균강수</td>\n",
              "      <td>강우(A지역)</td>\n",
              "      <td>강우(B지역)</td>\n",
              "      <td>강우(C지역)</td>\n",
              "      <td>강우(D지역)</td>\n",
              "      <td>수위(E지역)</td>\n",
              "      <td>수위(D지역)</td>\n",
              "      <td>유역평균강수</td>\n",
              "      <td>강우(A지역)</td>\n",
              "      <td>강우(B지역)</td>\n",
              "      <td>강우(C지역)</td>\n",
              "      <td>강우(D지역)</td>\n",
              "      <td>수위(E지역)</td>\n",
              "      <td>수위(D지역)</td>\n",
              "      <td>유역평균강수</td>\n",
              "      <td>강우(A지역)</td>\n",
              "      <td>강우(B지역)</td>\n",
              "      <td>강우(C지역)</td>\n",
              "      <td>강우(D지역)</td>\n",
              "      <td>수위(E지역)</td>\n",
              "      <td>수위(D지역)</td>\n",
              "    </tr>\n",
              "    <tr>\n",
              "      <th>1</th>\n",
              "      <td>1.0</td>\n",
              "      <td>2006.0</td>\n",
              "      <td>7.0</td>\n",
              "      <td>10.0</td>\n",
              "      <td>8.0</td>\n",
              "      <td>189.100000</td>\n",
              "      <td>6.4</td>\n",
              "      <td>7</td>\n",
              "      <td>7</td>\n",
              "      <td>7</td>\n",
              "      <td>8</td>\n",
              "      <td>2.54</td>\n",
              "      <td>122.569</td>\n",
              "      <td>6.3</td>\n",
              "      <td>7</td>\n",
              "      <td>7</td>\n",
              "      <td>7</td>\n",
              "      <td>8</td>\n",
              "      <td>2.54</td>\n",
              "      <td>122.542</td>\n",
              "      <td>6.3</td>\n",
              "      <td>7</td>\n",
              "      <td>7</td>\n",
              "      <td>7</td>\n",
              "      <td>8</td>\n",
              "      <td>2.54</td>\n",
              "      <td>122.55</td>\n",
              "      <td>6.4</td>\n",
              "      <td>7</td>\n",
              "      <td>7</td>\n",
              "      <td>8</td>\n",
              "      <td>8</td>\n",
              "      <td>2.54</td>\n",
              "      <td>122.675</td>\n",
              "      <td>6.4</td>\n",
              "      <td>7</td>\n",
              "      <td>7</td>\n",
              "      <td>8</td>\n",
              "      <td>8</td>\n",
              "      <td>2.54</td>\n",
              "      <td>122.66</td>\n",
              "      <td>6.4</td>\n",
              "      <td>7</td>\n",
              "      <td>7</td>\n",
              "      <td>8</td>\n",
              "      <td>8</td>\n",
              "      <td>2.54</td>\n",
              "      <td>122.61</td>\n",
              "    </tr>\n",
              "    <tr>\n",
              "      <th>2</th>\n",
              "      <td>1.0</td>\n",
              "      <td>2006.0</td>\n",
              "      <td>7.0</td>\n",
              "      <td>10.0</td>\n",
              "      <td>9.0</td>\n",
              "      <td>216.951962</td>\n",
              "      <td>6.3</td>\n",
              "      <td>7</td>\n",
              "      <td>8</td>\n",
              "      <td>7</td>\n",
              "      <td>8</td>\n",
              "      <td>2.53</td>\n",
              "      <td>122.562</td>\n",
              "      <td>6.4</td>\n",
              "      <td>7</td>\n",
              "      <td>8</td>\n",
              "      <td>7</td>\n",
              "      <td>8</td>\n",
              "      <td>2.53</td>\n",
              "      <td>122.55</td>\n",
              "      <td>6.4</td>\n",
              "      <td>7</td>\n",
              "      <td>8</td>\n",
              "      <td>7</td>\n",
              "      <td>8</td>\n",
              "      <td>2.53</td>\n",
              "      <td>122.558</td>\n",
              "      <td>7.3</td>\n",
              "      <td>7</td>\n",
              "      <td>8</td>\n",
              "      <td>10</td>\n",
              "      <td>10</td>\n",
              "      <td>2.53</td>\n",
              "      <td>122.668</td>\n",
              "      <td>7.3</td>\n",
              "      <td>7</td>\n",
              "      <td>8</td>\n",
              "      <td>10</td>\n",
              "      <td>10</td>\n",
              "      <td>2.53</td>\n",
              "      <td>122.648</td>\n",
              "      <td>7.3</td>\n",
              "      <td>7</td>\n",
              "      <td>8</td>\n",
              "      <td>10</td>\n",
              "      <td>10</td>\n",
              "      <td>2.53</td>\n",
              "      <td>122.6</td>\n",
              "    </tr>\n",
              "    <tr>\n",
              "      <th>3</th>\n",
              "      <td>1.0</td>\n",
              "      <td>2006.0</td>\n",
              "      <td>7.0</td>\n",
              "      <td>10.0</td>\n",
              "      <td>10.0</td>\n",
              "      <td>251.424419</td>\n",
              "      <td>6.4</td>\n",
              "      <td>7</td>\n",
              "      <td>9</td>\n",
              "      <td>7</td>\n",
              "      <td>8</td>\n",
              "      <td>2.53</td>\n",
              "      <td>122.556</td>\n",
              "      <td>7.3</td>\n",
              "      <td>7</td>\n",
              "      <td>9</td>\n",
              "      <td>7</td>\n",
              "      <td>8</td>\n",
              "      <td>2.53</td>\n",
              "      <td>122.558</td>\n",
              "      <td>7.3</td>\n",
              "      <td>7</td>\n",
              "      <td>9</td>\n",
              "      <td>8</td>\n",
              "      <td>8</td>\n",
              "      <td>2.53</td>\n",
              "      <td>122.567</td>\n",
              "      <td>8.2</td>\n",
              "      <td>7</td>\n",
              "      <td>9</td>\n",
              "      <td>10</td>\n",
              "      <td>11</td>\n",
              "      <td>2.53</td>\n",
              "      <td>122.661</td>\n",
              "      <td>8.2</td>\n",
              "      <td>7</td>\n",
              "      <td>9</td>\n",
              "      <td>10</td>\n",
              "      <td>11</td>\n",
              "      <td>2.53</td>\n",
              "      <td>122.636</td>\n",
              "      <td>8.2</td>\n",
              "      <td>7</td>\n",
              "      <td>9</td>\n",
              "      <td>10</td>\n",
              "      <td>11</td>\n",
              "      <td>2.53</td>\n",
              "      <td>122.59</td>\n",
              "    </tr>\n",
              "    <tr>\n",
              "      <th>4</th>\n",
              "      <td>1.0</td>\n",
              "      <td>2006.0</td>\n",
              "      <td>7.0</td>\n",
              "      <td>10.0</td>\n",
              "      <td>11.0</td>\n",
              "      <td>302.812199</td>\n",
              "      <td>7.3</td>\n",
              "      <td>7</td>\n",
              "      <td>10</td>\n",
              "      <td>7</td>\n",
              "      <td>8</td>\n",
              "      <td>2.53</td>\n",
              "      <td>122.556</td>\n",
              "      <td>8.2</td>\n",
              "      <td>7</td>\n",
              "      <td>10</td>\n",
              "      <td>8</td>\n",
              "      <td>8</td>\n",
              "      <td>2.53</td>\n",
              "      <td>122.567</td>\n",
              "      <td>8.2</td>\n",
              "      <td>7</td>\n",
              "      <td>10</td>\n",
              "      <td>10</td>\n",
              "      <td>10</td>\n",
              "      <td>2.53</td>\n",
              "      <td>122.575</td>\n",
              "      <td>11.3</td>\n",
              "      <td>9</td>\n",
              "      <td>10</td>\n",
              "      <td>15</td>\n",
              "      <td>14</td>\n",
              "      <td>2.53</td>\n",
              "      <td>122.654</td>\n",
              "      <td>11.3</td>\n",
              "      <td>9</td>\n",
              "      <td>10</td>\n",
              "      <td>15</td>\n",
              "      <td>14</td>\n",
              "      <td>2.53</td>\n",
              "      <td>122.62</td>\n",
              "      <td>11.3</td>\n",
              "      <td>9</td>\n",
              "      <td>10</td>\n",
              "      <td>15</td>\n",
              "      <td>14</td>\n",
              "      <td>2.53</td>\n",
              "      <td>122.585</td>\n",
              "    </tr>\n",
              "  </tbody>\n",
              "</table>\n",
              "</div>"
            ],
            "text/plain": [
              "   홍수사상번호       연    월     일  ...  Unnamed: 44  Unnamed: 45 Unnamed: 46 Unnamed: 47\n",
              "0     NaN     NaN  NaN   NaN  ...      강우(C지역)      강우(D지역)     수위(E지역)     수위(D지역)\n",
              "1     1.0  2006.0  7.0  10.0  ...            8            8        2.54      122.61\n",
              "2     1.0  2006.0  7.0  10.0  ...           10           10        2.53       122.6\n",
              "3     1.0  2006.0  7.0  10.0  ...           10           11        2.53      122.59\n",
              "4     1.0  2006.0  7.0  10.0  ...           15           14        2.53     122.585\n",
              "\n",
              "[5 rows x 48 columns]"
            ]
          },
          "metadata": {
            "tags": []
          },
          "execution_count": 8
        }
      ]
    },
    {
      "cell_type": "code",
      "metadata": {
        "id": "3FNtN8XIbEQ3"
      },
      "source": [
        "train=train.drop(labels=0,axis=0)\n",
        "column=['홍수사상번호','연','월','일','시간','유입량','1유역평균강수','1강우A','1강우B','1강우C','1강우D','1수위E','1수위D','2유역평균강수','2강우A','2강우B','2강우C','2강우D','2수위E','2수위D','3유역평균강수','3강우A','3강우B','3강우C','3강우D','3수위E','3수위D','4유역평균강수','4강우A','4강우B','4강우C','4강우D','4수위E','4수위D','5유역평균강수','5강우A','5강우B','5강우C','5강우D','5수위E','5수위D','6유역평균강수','6강우A','6강우B','6강우C','6강우D','6수위E','6수위D']\n",
        "train.columns=column"
      ],
      "execution_count": 9,
      "outputs": []
    },
    {
      "cell_type": "code",
      "metadata": {
        "colab": {
          "base_uri": "https://localhost:8080/",
          "height": 264
        },
        "id": "4SJBxCFIVEH8",
        "outputId": "760a25f9-acfd-4ab9-9d1f-c8312fb23fcd"
      },
      "source": [
        "train.head(3)"
      ],
      "execution_count": 10,
      "outputs": [
        {
          "output_type": "execute_result",
          "data": {
            "text/html": [
              "<div>\n",
              "<style scoped>\n",
              "    .dataframe tbody tr th:only-of-type {\n",
              "        vertical-align: middle;\n",
              "    }\n",
              "\n",
              "    .dataframe tbody tr th {\n",
              "        vertical-align: top;\n",
              "    }\n",
              "\n",
              "    .dataframe thead th {\n",
              "        text-align: right;\n",
              "    }\n",
              "</style>\n",
              "<table border=\"1\" class=\"dataframe\">\n",
              "  <thead>\n",
              "    <tr style=\"text-align: right;\">\n",
              "      <th></th>\n",
              "      <th>홍수사상번호</th>\n",
              "      <th>연</th>\n",
              "      <th>월</th>\n",
              "      <th>일</th>\n",
              "      <th>시간</th>\n",
              "      <th>유입량</th>\n",
              "      <th>1유역평균강수</th>\n",
              "      <th>1강우A</th>\n",
              "      <th>1강우B</th>\n",
              "      <th>1강우C</th>\n",
              "      <th>1강우D</th>\n",
              "      <th>1수위E</th>\n",
              "      <th>1수위D</th>\n",
              "      <th>2유역평균강수</th>\n",
              "      <th>2강우A</th>\n",
              "      <th>2강우B</th>\n",
              "      <th>2강우C</th>\n",
              "      <th>2강우D</th>\n",
              "      <th>2수위E</th>\n",
              "      <th>2수위D</th>\n",
              "      <th>3유역평균강수</th>\n",
              "      <th>3강우A</th>\n",
              "      <th>3강우B</th>\n",
              "      <th>3강우C</th>\n",
              "      <th>3강우D</th>\n",
              "      <th>3수위E</th>\n",
              "      <th>3수위D</th>\n",
              "      <th>4유역평균강수</th>\n",
              "      <th>4강우A</th>\n",
              "      <th>4강우B</th>\n",
              "      <th>4강우C</th>\n",
              "      <th>4강우D</th>\n",
              "      <th>4수위E</th>\n",
              "      <th>4수위D</th>\n",
              "      <th>5유역평균강수</th>\n",
              "      <th>5강우A</th>\n",
              "      <th>5강우B</th>\n",
              "      <th>5강우C</th>\n",
              "      <th>5강우D</th>\n",
              "      <th>5수위E</th>\n",
              "      <th>5수위D</th>\n",
              "      <th>6유역평균강수</th>\n",
              "      <th>6강우A</th>\n",
              "      <th>6강우B</th>\n",
              "      <th>6강우C</th>\n",
              "      <th>6강우D</th>\n",
              "      <th>6수위E</th>\n",
              "      <th>6수위D</th>\n",
              "    </tr>\n",
              "  </thead>\n",
              "  <tbody>\n",
              "    <tr>\n",
              "      <th>1</th>\n",
              "      <td>1.0</td>\n",
              "      <td>2006.0</td>\n",
              "      <td>7.0</td>\n",
              "      <td>10.0</td>\n",
              "      <td>8.0</td>\n",
              "      <td>189.100000</td>\n",
              "      <td>6.4</td>\n",
              "      <td>7</td>\n",
              "      <td>7</td>\n",
              "      <td>7</td>\n",
              "      <td>8</td>\n",
              "      <td>2.54</td>\n",
              "      <td>122.569</td>\n",
              "      <td>6.3</td>\n",
              "      <td>7</td>\n",
              "      <td>7</td>\n",
              "      <td>7</td>\n",
              "      <td>8</td>\n",
              "      <td>2.54</td>\n",
              "      <td>122.542</td>\n",
              "      <td>6.3</td>\n",
              "      <td>7</td>\n",
              "      <td>7</td>\n",
              "      <td>7</td>\n",
              "      <td>8</td>\n",
              "      <td>2.54</td>\n",
              "      <td>122.55</td>\n",
              "      <td>6.4</td>\n",
              "      <td>7</td>\n",
              "      <td>7</td>\n",
              "      <td>8</td>\n",
              "      <td>8</td>\n",
              "      <td>2.54</td>\n",
              "      <td>122.675</td>\n",
              "      <td>6.4</td>\n",
              "      <td>7</td>\n",
              "      <td>7</td>\n",
              "      <td>8</td>\n",
              "      <td>8</td>\n",
              "      <td>2.54</td>\n",
              "      <td>122.66</td>\n",
              "      <td>6.4</td>\n",
              "      <td>7</td>\n",
              "      <td>7</td>\n",
              "      <td>8</td>\n",
              "      <td>8</td>\n",
              "      <td>2.54</td>\n",
              "      <td>122.61</td>\n",
              "    </tr>\n",
              "    <tr>\n",
              "      <th>2</th>\n",
              "      <td>1.0</td>\n",
              "      <td>2006.0</td>\n",
              "      <td>7.0</td>\n",
              "      <td>10.0</td>\n",
              "      <td>9.0</td>\n",
              "      <td>216.951962</td>\n",
              "      <td>6.3</td>\n",
              "      <td>7</td>\n",
              "      <td>8</td>\n",
              "      <td>7</td>\n",
              "      <td>8</td>\n",
              "      <td>2.53</td>\n",
              "      <td>122.562</td>\n",
              "      <td>6.4</td>\n",
              "      <td>7</td>\n",
              "      <td>8</td>\n",
              "      <td>7</td>\n",
              "      <td>8</td>\n",
              "      <td>2.53</td>\n",
              "      <td>122.55</td>\n",
              "      <td>6.4</td>\n",
              "      <td>7</td>\n",
              "      <td>8</td>\n",
              "      <td>7</td>\n",
              "      <td>8</td>\n",
              "      <td>2.53</td>\n",
              "      <td>122.558</td>\n",
              "      <td>7.3</td>\n",
              "      <td>7</td>\n",
              "      <td>8</td>\n",
              "      <td>10</td>\n",
              "      <td>10</td>\n",
              "      <td>2.53</td>\n",
              "      <td>122.668</td>\n",
              "      <td>7.3</td>\n",
              "      <td>7</td>\n",
              "      <td>8</td>\n",
              "      <td>10</td>\n",
              "      <td>10</td>\n",
              "      <td>2.53</td>\n",
              "      <td>122.648</td>\n",
              "      <td>7.3</td>\n",
              "      <td>7</td>\n",
              "      <td>8</td>\n",
              "      <td>10</td>\n",
              "      <td>10</td>\n",
              "      <td>2.53</td>\n",
              "      <td>122.6</td>\n",
              "    </tr>\n",
              "    <tr>\n",
              "      <th>3</th>\n",
              "      <td>1.0</td>\n",
              "      <td>2006.0</td>\n",
              "      <td>7.0</td>\n",
              "      <td>10.0</td>\n",
              "      <td>10.0</td>\n",
              "      <td>251.424419</td>\n",
              "      <td>6.4</td>\n",
              "      <td>7</td>\n",
              "      <td>9</td>\n",
              "      <td>7</td>\n",
              "      <td>8</td>\n",
              "      <td>2.53</td>\n",
              "      <td>122.556</td>\n",
              "      <td>7.3</td>\n",
              "      <td>7</td>\n",
              "      <td>9</td>\n",
              "      <td>7</td>\n",
              "      <td>8</td>\n",
              "      <td>2.53</td>\n",
              "      <td>122.558</td>\n",
              "      <td>7.3</td>\n",
              "      <td>7</td>\n",
              "      <td>9</td>\n",
              "      <td>8</td>\n",
              "      <td>8</td>\n",
              "      <td>2.53</td>\n",
              "      <td>122.567</td>\n",
              "      <td>8.2</td>\n",
              "      <td>7</td>\n",
              "      <td>9</td>\n",
              "      <td>10</td>\n",
              "      <td>11</td>\n",
              "      <td>2.53</td>\n",
              "      <td>122.661</td>\n",
              "      <td>8.2</td>\n",
              "      <td>7</td>\n",
              "      <td>9</td>\n",
              "      <td>10</td>\n",
              "      <td>11</td>\n",
              "      <td>2.53</td>\n",
              "      <td>122.636</td>\n",
              "      <td>8.2</td>\n",
              "      <td>7</td>\n",
              "      <td>9</td>\n",
              "      <td>10</td>\n",
              "      <td>11</td>\n",
              "      <td>2.53</td>\n",
              "      <td>122.59</td>\n",
              "    </tr>\n",
              "  </tbody>\n",
              "</table>\n",
              "</div>"
            ],
            "text/plain": [
              "   홍수사상번호       연    월     일    시간  ...  6강우B 6강우C 6강우D  6수위E    6수위D\n",
              "1     1.0  2006.0  7.0  10.0   8.0  ...     7    8    8  2.54  122.61\n",
              "2     1.0  2006.0  7.0  10.0   9.0  ...     8   10   10  2.53   122.6\n",
              "3     1.0  2006.0  7.0  10.0  10.0  ...     9   10   11  2.53  122.59\n",
              "\n",
              "[3 rows x 48 columns]"
            ]
          },
          "metadata": {
            "tags": []
          },
          "execution_count": 10
        }
      ]
    },
    {
      "cell_type": "code",
      "metadata": {
        "colab": {
          "base_uri": "https://localhost:8080/"
        },
        "id": "PL7R5FAaasmC",
        "outputId": "fbe7766e-cc26-4825-ceee-466b7b73d2a6"
      },
      "source": [
        "train.info()\n",
        "print(\"test 해야할 행 수 : \",3051-2891,\" == test 행 수\")"
      ],
      "execution_count": 11,
      "outputs": [
        {
          "output_type": "stream",
          "text": [
            "<class 'pandas.core.frame.DataFrame'>\n",
            "Int64Index: 3051 entries, 1 to 3051\n",
            "Data columns (total 48 columns):\n",
            " #   Column   Non-Null Count  Dtype  \n",
            "---  ------   --------------  -----  \n",
            " 0   홍수사상번호   3051 non-null   float64\n",
            " 1   연        3051 non-null   float64\n",
            " 2   월        3051 non-null   float64\n",
            " 3   일        3051 non-null   float64\n",
            " 4   시간       3051 non-null   float64\n",
            " 5   유입량      2891 non-null   float64\n",
            " 6   1유역평균강수  3051 non-null   object \n",
            " 7   1강우A     3051 non-null   object \n",
            " 8   1강우B     3051 non-null   object \n",
            " 9   1강우C     3051 non-null   object \n",
            " 10  1강우D     3051 non-null   object \n",
            " 11  1수위E     3051 non-null   object \n",
            " 12  1수위D     3051 non-null   object \n",
            " 13  2유역평균강수  3051 non-null   object \n",
            " 14  2강우A     3051 non-null   object \n",
            " 15  2강우B     3051 non-null   object \n",
            " 16  2강우C     3051 non-null   object \n",
            " 17  2강우D     3051 non-null   object \n",
            " 18  2수위E     3051 non-null   object \n",
            " 19  2수위D     3051 non-null   object \n",
            " 20  3유역평균강수  3051 non-null   object \n",
            " 21  3강우A     3051 non-null   object \n",
            " 22  3강우B     3051 non-null   object \n",
            " 23  3강우C     3051 non-null   object \n",
            " 24  3강우D     3051 non-null   object \n",
            " 25  3수위E     3051 non-null   object \n",
            " 26  3수위D     3051 non-null   object \n",
            " 27  4유역평균강수  3051 non-null   object \n",
            " 28  4강우A     3051 non-null   object \n",
            " 29  4강우B     3051 non-null   object \n",
            " 30  4강우C     3051 non-null   object \n",
            " 31  4강우D     3051 non-null   object \n",
            " 32  4수위E     3051 non-null   object \n",
            " 33  4수위D     3051 non-null   object \n",
            " 34  5유역평균강수  3051 non-null   object \n",
            " 35  5강우A     3051 non-null   object \n",
            " 36  5강우B     3051 non-null   object \n",
            " 37  5강우C     3051 non-null   object \n",
            " 38  5강우D     3051 non-null   object \n",
            " 39  5수위E     3051 non-null   object \n",
            " 40  5수위D     3051 non-null   object \n",
            " 41  6유역평균강수  3051 non-null   object \n",
            " 42  6강우A     3051 non-null   object \n",
            " 43  6강우B     3051 non-null   object \n",
            " 44  6강우C     3051 non-null   object \n",
            " 45  6강우D     3051 non-null   object \n",
            " 46  6수위E     3051 non-null   object \n",
            " 47  6수위D     3051 non-null   object \n",
            "dtypes: float64(6), object(42)\n",
            "memory usage: 1.1+ MB\n",
            "test 해야할 행 수 :  160  == test 행 수\n"
          ],
          "name": "stdout"
        }
      ]
    },
    {
      "cell_type": "code",
      "metadata": {
        "colab": {
          "base_uri": "https://localhost:8080/",
          "height": 204
        },
        "id": "9_wiCOF-YsIV",
        "outputId": "2fd080a6-5765-4adf-e79b-4d5a38eed36a"
      },
      "source": [
        "test.head()"
      ],
      "execution_count": 12,
      "outputs": [
        {
          "output_type": "execute_result",
          "data": {
            "text/html": [
              "<div>\n",
              "<style scoped>\n",
              "    .dataframe tbody tr th:only-of-type {\n",
              "        vertical-align: middle;\n",
              "    }\n",
              "\n",
              "    .dataframe tbody tr th {\n",
              "        vertical-align: top;\n",
              "    }\n",
              "\n",
              "    .dataframe thead th {\n",
              "        text-align: right;\n",
              "    }\n",
              "</style>\n",
              "<table border=\"1\" class=\"dataframe\">\n",
              "  <thead>\n",
              "    <tr style=\"text-align: right;\">\n",
              "      <th></th>\n",
              "      <th>NO</th>\n",
              "      <th>홍수사상번호</th>\n",
              "      <th>연</th>\n",
              "      <th>월</th>\n",
              "      <th>일</th>\n",
              "      <th>시간</th>\n",
              "      <th>유입량</th>\n",
              "    </tr>\n",
              "  </thead>\n",
              "  <tbody>\n",
              "    <tr>\n",
              "      <th>0</th>\n",
              "      <td>NaN</td>\n",
              "      <td>NaN</td>\n",
              "      <td>NaN</td>\n",
              "      <td>NaN</td>\n",
              "      <td>NaN</td>\n",
              "      <td>NaN</td>\n",
              "      <td>NaN</td>\n",
              "    </tr>\n",
              "    <tr>\n",
              "      <th>1</th>\n",
              "      <td>1.0</td>\n",
              "      <td>26.0</td>\n",
              "      <td>2018.0</td>\n",
              "      <td>7.0</td>\n",
              "      <td>1.0</td>\n",
              "      <td>6.0</td>\n",
              "      <td>NaN</td>\n",
              "    </tr>\n",
              "    <tr>\n",
              "      <th>2</th>\n",
              "      <td>2.0</td>\n",
              "      <td>26.0</td>\n",
              "      <td>2018.0</td>\n",
              "      <td>7.0</td>\n",
              "      <td>1.0</td>\n",
              "      <td>7.0</td>\n",
              "      <td>NaN</td>\n",
              "    </tr>\n",
              "    <tr>\n",
              "      <th>3</th>\n",
              "      <td>3.0</td>\n",
              "      <td>26.0</td>\n",
              "      <td>2018.0</td>\n",
              "      <td>7.0</td>\n",
              "      <td>1.0</td>\n",
              "      <td>8.0</td>\n",
              "      <td>NaN</td>\n",
              "    </tr>\n",
              "    <tr>\n",
              "      <th>4</th>\n",
              "      <td>4.0</td>\n",
              "      <td>26.0</td>\n",
              "      <td>2018.0</td>\n",
              "      <td>7.0</td>\n",
              "      <td>1.0</td>\n",
              "      <td>9.0</td>\n",
              "      <td>NaN</td>\n",
              "    </tr>\n",
              "  </tbody>\n",
              "</table>\n",
              "</div>"
            ],
            "text/plain": [
              "    NO  홍수사상번호       연    월    일   시간  유입량\n",
              "0  NaN     NaN     NaN  NaN  NaN  NaN  NaN\n",
              "1  1.0    26.0  2018.0  7.0  1.0  6.0  NaN\n",
              "2  2.0    26.0  2018.0  7.0  1.0  7.0  NaN\n",
              "3  3.0    26.0  2018.0  7.0  1.0  8.0  NaN\n",
              "4  4.0    26.0  2018.0  7.0  1.0  9.0  NaN"
            ]
          },
          "metadata": {
            "tags": []
          },
          "execution_count": 12
        }
      ]
    },
    {
      "cell_type": "code",
      "metadata": {
        "id": "4dX5ZUjNa1dC"
      },
      "source": [
        "test=test.drop(labels=0 ,axis=0)"
      ],
      "execution_count": 13,
      "outputs": []
    },
    {
      "cell_type": "code",
      "metadata": {
        "colab": {
          "base_uri": "https://localhost:8080/"
        },
        "id": "05Bw1Sc7dslf",
        "outputId": "88ea7ac1-b066-485e-d4be-a2500710102c"
      },
      "source": [
        "test.info()"
      ],
      "execution_count": 14,
      "outputs": [
        {
          "output_type": "stream",
          "text": [
            "<class 'pandas.core.frame.DataFrame'>\n",
            "Int64Index: 160 entries, 1 to 160\n",
            "Data columns (total 7 columns):\n",
            " #   Column  Non-Null Count  Dtype  \n",
            "---  ------  --------------  -----  \n",
            " 0   NO      160 non-null    float64\n",
            " 1   홍수사상번호  160 non-null    float64\n",
            " 2   연       160 non-null    float64\n",
            " 3   월       160 non-null    float64\n",
            " 4   일       160 non-null    float64\n",
            " 5   시간      160 non-null    float64\n",
            " 6   유입량     0 non-null      float64\n",
            "dtypes: float64(7)\n",
            "memory usage: 10.0 KB\n"
          ],
          "name": "stdout"
        }
      ]
    },
    {
      "cell_type": "code",
      "metadata": {
        "colab": {
          "base_uri": "https://localhost:8080/"
        },
        "id": "Sj8rhd8-ZWZb",
        "outputId": "e941dd06-b6ed-423c-e5eb-33843c4f5f0a"
      },
      "source": [
        "print('train shape : ', train.shape, 'test shape : ',test.shape)"
      ],
      "execution_count": 15,
      "outputs": [
        {
          "output_type": "stream",
          "text": [
            "train shape :  (3051, 48) test shape :  (160, 7)\n"
          ],
          "name": "stdout"
        }
      ]
    },
    {
      "cell_type": "code",
      "metadata": {
        "id": "H5sDFQqNdFgG"
      },
      "source": [
        "new_train=train.iloc[:2891,:]\n",
        "new_test=train.iloc[2891:,:]\n",
        "X_train=new_train.drop(columns=['유입량'],axis=1)\n",
        "Y_train=new_train['유입량']"
      ],
      "execution_count": 16,
      "outputs": []
    },
    {
      "cell_type": "code",
      "metadata": {
        "colab": {
          "base_uri": "https://localhost:8080/"
        },
        "id": "RDj5qAu9h403",
        "outputId": "4d36742d-f647-4018-dcf1-e8c2994824bd"
      },
      "source": [
        "print(train['1수위E'].mean())\n",
        "print(train['2수위E'].mean())\n",
        "print(train['3수위E'].mean())\n",
        "print(train['4수위E'].mean())\n",
        "print(train['5수위E'].mean())\n",
        "print(train['6수위E'].mean())"
      ],
      "execution_count": 53,
      "outputs": [
        {
          "output_type": "stream",
          "text": [
            "4.564936086528995\n",
            "4.564936086528995\n",
            "4.564936086528995\n",
            "4.564936086528995\n",
            "4.564936086528995\n",
            "4.564936086528995\n"
          ],
          "name": "stdout"
        }
      ]
    },
    {
      "cell_type": "markdown",
      "metadata": {
        "id": "cXFmKEngUD3v"
      },
      "source": [
        "#년 월 시 별 평균"
      ]
    },
    {
      "cell_type": "markdown",
      "metadata": {
        "id": "5NrXeW23iWU2"
      },
      "source": [
        "##연"
      ]
    },
    {
      "cell_type": "code",
      "metadata": {
        "colab": {
          "base_uri": "https://localhost:8080/"
        },
        "id": "rU--axY5liNh",
        "outputId": "79fe8b58-a13d-4bba-ff18-3ba1a57c01ae"
      },
      "source": [
        "print(train['연'].unique())\n",
        "years=[2006, 2007, 2008, 2009, 2010, 2011, 2012, 2013, 2017]"
      ],
      "execution_count": 17,
      "outputs": [
        {
          "output_type": "stream",
          "text": [
            "[2006. 2007. 2008. 2009. 2010. 2011. 2012. 2013. 2017. 2018.]\n"
          ],
          "name": "stdout"
        }
      ]
    },
    {
      "cell_type": "code",
      "metadata": {
        "colab": {
          "base_uri": "https://localhost:8080/"
        },
        "id": "9c1fL6PrmTpX",
        "outputId": "547f2417-d1c2-40de-95ff-15d650e1671c"
      },
      "source": [
        "graph_x=list()\n",
        "graph_y=list()\n",
        "for i in years:\n",
        "    temp_mean=new_train[new_train['연']==i]['유입량'].mean()\n",
        "    temp_len=len(new_train[new_train['연']==i])\n",
        "    print(i,\"년에서의 유입량 평균\",temp_mean, \"데이터수 : \",temp_len)\n",
        "    graph_x.append(i)\n",
        "    graph_y.append(temp_mean)\n",
        "\n",
        "graph_x.sort()"
      ],
      "execution_count": 54,
      "outputs": [
        {
          "output_type": "stream",
          "text": [
            "2006 년에서의 유입량 평균 4017.2131236699393 데이터수 :  326\n",
            "2007 년에서의 유입량 평균 1787.9579105208695 데이터수 :  115\n",
            "2008 년에서의 유입량 평균 2626.792297278085 데이터수 :  94\n",
            "2009 년에서의 유입량 평균 1942.5283791525305 데이터수 :  292\n",
            "2010 년에서의 유입량 평균 1680.9884206668785 데이터수 :  237\n",
            "2011 년에서의 유입량 평균 1661.7498653282096 데이터수 :  709\n",
            "2012 년에서의 유입량 평균 983.6440902795267 데이터수 :  508\n",
            "2013 년에서의 유입량 평균 1149.853317194915 데이터수 :  413\n",
            "2017 년에서의 유입량 평균 861.8112948505585 데이터수 :  197\n"
          ],
          "name": "stdout"
        }
      ]
    },
    {
      "cell_type": "markdown",
      "metadata": {
        "id": "PpE4jUKqmO2T"
      },
      "source": [
        "년도별 데이터수가 많이 달라서 영향을 많이 미치는지는 않는 것 같다"
      ]
    },
    {
      "cell_type": "markdown",
      "metadata": {
        "id": "-M865yFQlvjm"
      },
      "source": [
        "https://www.etoday.co.kr/news/view/1925778"
      ]
    },
    {
      "cell_type": "code",
      "metadata": {
        "colab": {
          "base_uri": "https://localhost:8080/",
          "height": 265
        },
        "id": "87HQipSBmqal",
        "outputId": "8e0582af-72e0-4ae6-d39f-116252cc8ec6"
      },
      "source": [
        "plt.bar(graph_x,graph_y)\n",
        "plt.ylim(700,4100)\n",
        "plt.show()"
      ],
      "execution_count": 20,
      "outputs": [
        {
          "output_type": "display_data",
          "data": {
            "image/png": "[encoded data removed]",
            "text/plain": [
              "<Figure size 432x288 with 1 Axes>"
            ]
          },
          "metadata": {
            "tags": [],
            "needs_background": "light"
          }
        }
      ]
    },
    {
      "cell_type": "markdown",
      "metadata": {
        "id": "ejlX1SVwiZjH"
      },
      "source": [
        "##월"
      ]
    },
    {
      "cell_type": "code",
      "metadata": {
        "colab": {
          "base_uri": "https://localhost:8080/"
        },
        "id": "JCQh45iVfmBs",
        "outputId": "e744fc88-2d1d-417a-90e3-f70177437fcd"
      },
      "source": [
        "print(train['월'].unique())"
      ],
      "execution_count": 21,
      "outputs": [
        {
          "output_type": "stream",
          "text": [
            "[7. 8. 9. 6.]\n"
          ],
          "name": "stdout"
        }
      ]
    },
    {
      "cell_type": "code",
      "metadata": {
        "colab": {
          "base_uri": "https://localhost:8080/"
        },
        "id": "2lHmIRMXk6o8",
        "outputId": "2239ea6e-e85b-4387-a656-45a76e95ebe0"
      },
      "source": [
        "graph_x=list()\n",
        "graph_y=list()\n",
        "for i in range(6,10):\n",
        "    temp_mean=new_train[new_train['월']==i]['유입량'].mean()\n",
        "    print(i,\"월에서의 유입량 평균\",temp_mean)\n",
        "    graph_x.append(i)\n",
        "    graph_y.append(temp_mean)"
      ],
      "execution_count": 22,
      "outputs": [
        {
          "output_type": "stream",
          "text": [
            "6 월에서의 유입량 평균 1873.9254853740003\n",
            "7 월에서의 유입량 평균 1997.9886026154563\n",
            "8 월에서의 유입량 평균 1086.374202842913\n",
            "9 월에서의 유입량 평균 1640.2814136786649\n"
          ],
          "name": "stdout"
        }
      ]
    },
    {
      "cell_type": "code",
      "metadata": {
        "colab": {
          "base_uri": "https://localhost:8080/",
          "height": 269
        },
        "id": "jXBVztR-lD42",
        "outputId": "327360e4-7827-4627-b298-3efa81ca4e93"
      },
      "source": [
        "plt.bar(graph_x,graph_y)\n",
        "plt.ylim(1000,2000)\n",
        "plt.show()"
      ],
      "execution_count": 23,
      "outputs": [
        {
          "output_type": "display_data",
          "data": {
            "image/png": "[encoded data removed]",
            "text/plain": [
              "<Figure size 432x288 with 1 Axes>"
            ]
          },
          "metadata": {
            "tags": [],
            "needs_background": "light"
          }
        }
      ]
    },
    {
      "cell_type": "markdown",
      "metadata": {
        "id": "T2iLOyIKibOU"
      },
      "source": [
        "##시"
      ]
    },
    {
      "cell_type": "code",
      "metadata": {
        "colab": {
          "base_uri": "https://localhost:8080/"
        },
        "id": "YB4GhcI7hbsn",
        "outputId": "ae9aff40-41cf-40fe-83e6-1c101f18d1bd"
      },
      "source": [
        "graph_x=list()\n",
        "graph_y=list()\n",
        "for i in range(1,25):\n",
        "    temp_mean=new_train[new_train['시간']==i]['유입량'].mean()\n",
        "    print(i,\"시에서의 유입량 평균\",temp_mean)\n",
        "    graph_x.append(i)\n",
        "    graph_y.append(temp_mean)"
      ],
      "execution_count": 24,
      "outputs": [
        {
          "output_type": "stream",
          "text": [
            "1 시에서의 유입량 평균 1748.6875354237393\n",
            "2 시에서의 유입량 평균 1734.2900072452467\n",
            "3 시에서의 유입량 평균 1725.5770979150834\n",
            "4 시에서의 유입량 평균 1694.8184494539832\n",
            "5 시에서의 유입량 평균 1671.532986667648\n",
            "6 시에서의 유입량 평균 1675.4696065625428\n",
            "7 시에서의 유입량 평균 1667.5847824257978\n",
            "8 시에서의 유입량 평균 1649.5747431785655\n",
            "9 시에서의 유입량 평균 1677.6943076808268\n",
            "10 시에서의 유입량 평균 1700.7545085028928\n",
            "11 시에서의 유입량 평균 1742.8012693315588\n",
            "12 시에서의 유입량 평균 1768.455535363815\n",
            "13 시에서의 유입량 평균 1800.607846571624\n",
            "14 시에서의 유입량 평균 1797.4851935564698\n",
            "15 시에서의 유입량 평균 1794.2827865628094\n",
            "16 시에서의 유입량 평균 1794.2592502620494\n",
            "17 시에서의 유입량 평균 1773.6467794225412\n",
            "18 시에서의 유입량 평균 1787.315259160001\n",
            "19 시에서의 유입량 평균 1776.4221248755373\n",
            "20 시에서의 유입량 평균 1790.4152124006612\n",
            "21 시에서의 유입량 평균 1778.5656436708127\n",
            "22 시에서의 유입량 평균 1784.805446800001\n",
            "23 시에서의 유입량 평균 1795.4971320713112\n",
            "24 시에서의 유입량 평균 1791.3324351447961\n"
          ],
          "name": "stdout"
        }
      ]
    },
    {
      "cell_type": "code",
      "metadata": {
        "colab": {
          "base_uri": "https://localhost:8080/",
          "height": 265
        },
        "id": "-BNGJoExjBJ9",
        "outputId": "925696bf-cf3e-4919-93dd-47d0b36cbe72"
      },
      "source": [
        "plt.bar(graph_x,graph_y)\n",
        "plt.ylim(1600,1820)\n",
        "plt.show()"
      ],
      "execution_count": 25,
      "outputs": [
        {
          "output_type": "display_data",
          "data": {
            "image/png": "[encoded data removed]",
            "text/plain": [
              "<Figure size 432x288 with 1 Axes>"
            ]
          },
          "metadata": {
            "tags": [],
            "needs_background": "light"
          }
        }
      ]
    },
    {
      "cell_type": "markdown",
      "metadata": {
        "id": "z-w1KALhWl8D"
      },
      "source": [
        "강우량:순수하게 비만 내린 것을 측정한 값<br>\n",
        "강수량:강우량+강설량(눈)\n"
      ]
    },
    {
      "cell_type": "markdown",
      "metadata": {
        "id": "XyV5gRAiokvu"
      },
      "source": [
        "##같은 열"
      ]
    },
    {
      "cell_type": "code",
      "metadata": {
        "colab": {
          "base_uri": "https://localhost:8080/",
          "height": 151
        },
        "id": "8XvUxZXEs-Y2",
        "outputId": "59209985-eab5-4684-e1b2-217a97d9207d"
      },
      "source": [
        "train[train['1강우A']!=train['1강우A']]"
      ],
      "execution_count": 79,
      "outputs": [
        {
          "output_type": "execute_result",
          "data": {
            "text/html": [
              "<div>\n",
              "<style scoped>\n",
              "    .dataframe tbody tr th:only-of-type {\n",
              "        vertical-align: middle;\n",
              "    }\n",
              "\n",
              "    .dataframe tbody tr th {\n",
              "        vertical-align: top;\n",
              "    }\n",
              "\n",
              "    .dataframe thead th {\n",
              "        text-align: right;\n",
              "    }\n",
              "</style>\n",
              "<table border=\"1\" class=\"dataframe\">\n",
              "  <thead>\n",
              "    <tr style=\"text-align: right;\">\n",
              "      <th></th>\n",
              "      <th>홍수사상번호</th>\n",
              "      <th>연</th>\n",
              "      <th>월</th>\n",
              "      <th>일</th>\n",
              "      <th>시간</th>\n",
              "      <th>유입량</th>\n",
              "      <th>1유역평균강수</th>\n",
              "      <th>1강우A</th>\n",
              "      <th>1강우B</th>\n",
              "      <th>1강우C</th>\n",
              "      <th>1강우D</th>\n",
              "      <th>1수위E</th>\n",
              "      <th>1수위D</th>\n",
              "      <th>2유역평균강수</th>\n",
              "      <th>2강우A</th>\n",
              "      <th>2강우B</th>\n",
              "      <th>2강우C</th>\n",
              "      <th>2강우D</th>\n",
              "      <th>2수위E</th>\n",
              "      <th>2수위D</th>\n",
              "      <th>3유역평균강수</th>\n",
              "      <th>3강우A</th>\n",
              "      <th>3강우B</th>\n",
              "      <th>3강우C</th>\n",
              "      <th>3강우D</th>\n",
              "      <th>3수위E</th>\n",
              "      <th>3수위D</th>\n",
              "      <th>4유역평균강수</th>\n",
              "      <th>4강우A</th>\n",
              "      <th>4강우B</th>\n",
              "      <th>4강우C</th>\n",
              "      <th>4강우D</th>\n",
              "      <th>4수위E</th>\n",
              "      <th>4수위D</th>\n",
              "      <th>5유역평균강수</th>\n",
              "      <th>5강우A</th>\n",
              "      <th>5강우B</th>\n",
              "      <th>5강우C</th>\n",
              "      <th>5강우D</th>\n",
              "      <th>5수위E</th>\n",
              "      <th>5수위D</th>\n",
              "      <th>6유역평균강수</th>\n",
              "      <th>6강우A</th>\n",
              "      <th>6강우B</th>\n",
              "      <th>6강우C</th>\n",
              "      <th>6강우D</th>\n",
              "      <th>6수위E</th>\n",
              "      <th>6수위D</th>\n",
              "    </tr>\n",
              "  </thead>\n",
              "  <tbody>\n",
              "  </tbody>\n",
              "</table>\n",
              "</div>"
            ],
            "text/plain": [
              "Empty DataFrame\n",
              "Columns: [홍수사상번호, 연, 월, 일, 시간, 유입량, 1유역평균강수, 1강우A, 1강우B, 1강우C, 1강우D, 1수위E, 1수위D, 2유역평균강수, 2강우A, 2강우B, 2강우C, 2강우D, 2수위E, 2수위D, 3유역평균강수, 3강우A, 3강우B, 3강우C, 3강우D, 3수위E, 3수위D, 4유역평균강수, 4강우A, 4강우B, 4강우C, 4강우D, 4수위E, 4수위D, 5유역평균강수, 5강우A, 5강우B, 5강우C, 5강우D, 5수위E, 5수위D, 6유역평균강수, 6강우A, 6강우B, 6강우C, 6강우D, 6수위E, 6수위D]\n",
              "Index: []"
            ]
          },
          "metadata": {
            "tags": []
          },
          "execution_count": 79
        }
      ]
    },
    {
      "cell_type": "code",
      "metadata": {
        "colab": {
          "base_uri": "https://localhost:8080/"
        },
        "id": "XInS6sE4txio",
        "outputId": "588ffab9-a2c1-45cf-afa1-b5da1552a0a3"
      },
      "source": [
        "len(train[train['1강우A']!=train['1강우A']])"
      ],
      "execution_count": 80,
      "outputs": [
        {
          "output_type": "execute_result",
          "data": {
            "text/plain": [
              "0"
            ]
          },
          "metadata": {
            "tags": []
          },
          "execution_count": 80
        }
      ]
    },
    {
      "cell_type": "code",
      "metadata": {
        "colab": {
          "base_uri": "https://localhost:8080/"
        },
        "id": "8_4RDmw4nicr",
        "outputId": "a81a74ab-2fcc-4293-9fe1-b5db02b6ce69"
      },
      "source": [
        "target_cols=[ '1강우A', '1강우B', '1강우C',\n",
        "       '1강우D', '1수위E', '1수위D',  '2강우A', '2강우B', '2강우C', '2강우D',\n",
        "       '2수위E', '2수위D',  '3강우A', '3강우B', '3강우C', '3강우D', '3수위E',\n",
        "       '3수위D',  '4강우A', '4강우B', '4강우C', '4강우D', '4수위E', '4수위D',\n",
        "        '5강우A', '5강우B', '5강우C', '5강우D', '5수위E', '5수위D',\n",
        "       '6강우A', '6강우B', '6강우C', '6강우D', '6수위E', '6수위D']\n",
        "\n",
        "for col1 in target_cols:\n",
        "    for col2 in target_cols:\n",
        "        if col1 !=col2 and len(train[train[col1]!=train[col2]]) ==0 :\n",
        "            print(col1, col2)\n",
        "            "
      ],
      "execution_count": 77,
      "outputs": [
        {
          "output_type": "stream",
          "text": [
            "1강우D 2강우D\n",
            "1수위E 2수위E\n",
            "1수위E 3수위E\n",
            "1수위E 4수위E\n",
            "1수위E 5수위E\n",
            "1수위E 6수위E\n",
            "2강우A 3강우A\n",
            "2강우D 1강우D\n",
            "2수위E 1수위E\n",
            "2수위E 3수위E\n",
            "2수위E 4수위E\n",
            "2수위E 5수위E\n",
            "2수위E 6수위E\n",
            "3강우A 2강우A\n",
            "3강우B 4강우B\n",
            "3강우B 5강우B\n",
            "3수위E 1수위E\n",
            "3수위E 2수위E\n",
            "3수위E 4수위E\n",
            "3수위E 5수위E\n",
            "3수위E 6수위E\n",
            "4강우A 5강우A\n",
            "4강우A 6강우A\n",
            "4강우B 3강우B\n",
            "4강우B 5강우B\n",
            "4강우C 5강우C\n",
            "4강우D 5강우D\n",
            "4수위E 1수위E\n",
            "4수위E 2수위E\n",
            "4수위E 3수위E\n",
            "4수위E 5수위E\n",
            "4수위E 6수위E\n",
            "5강우A 4강우A\n",
            "5강우A 6강우A\n",
            "5강우B 3강우B\n",
            "5강우B 4강우B\n",
            "5강우C 4강우C\n",
            "5강우D 4강우D\n",
            "5수위E 1수위E\n",
            "5수위E 2수위E\n",
            "5수위E 3수위E\n",
            "5수위E 4수위E\n",
            "5수위E 6수위E\n",
            "6강우A 4강우A\n",
            "6강우A 5강우A\n",
            "6수위E 1수위E\n",
            "6수위E 2수위E\n",
            "6수위E 3수위E\n",
            "6수위E 4수위E\n",
            "6수위E 5수위E\n"
          ],
          "name": "stdout"
        }
      ]
    },
    {
      "cell_type": "markdown",
      "metadata": {
        "id": "jKgBFP2aYlpF"
      },
      "source": [
        "#여러방법"
      ]
    },
    {
      "cell_type": "code",
      "metadata": {
        "id": "Iotw1u1gY09k"
      },
      "source": [
        "new_train=train.iloc[:2891,:]\n",
        "new_test=train.iloc[2891:,:]\n",
        "X_train=new_train.drop(columns=['유입량'],axis=1)\n",
        "Y_train=new_train['유입량']"
      ],
      "execution_count": 30,
      "outputs": []
    },
    {
      "cell_type": "markdown",
      "metadata": {
        "id": "75j21ZrQYoo5"
      },
      "source": [
        "## 아무것도 안 만짐"
      ]
    },
    {
      "cell_type": "code",
      "metadata": {
        "id": "v-JDv__jYZSL"
      },
      "source": [
        "from sklearn.model_selection import train_test_split\n",
        "x_train, x_valid, y_train, y_valid = train_test_split(X_train, Y_train, test_size=0.15, random_state=42)"
      ],
      "execution_count": 31,
      "outputs": []
    },
    {
      "cell_type": "code",
      "metadata": {
        "colab": {
          "base_uri": "https://localhost:8080/"
        },
        "id": "7alIXoFve4M-",
        "outputId": "2d3ee3c2-10ba-45a8-f89c-2d0eccd156f2"
      },
      "source": [
        "from sklearn.linear_model import LinearRegression\n",
        "lr=LinearRegression()\n",
        "lr.fit(x_train,y_train)\n",
        "print(lr.score(x_valid,y_valid))"
      ],
      "execution_count": 32,
      "outputs": [
        {
          "output_type": "stream",
          "text": [
            "0.9040095586325729\n"
          ],
          "name": "stdout"
        }
      ]
    },
    {
      "cell_type": "markdown",
      "metadata": {
        "id": "0060d1vCUnyF"
      },
      "source": [
        "##유역평균강수만 뽑고 나머지는 버리기"
      ]
    },
    {
      "cell_type": "code",
      "metadata": {
        "id": "Cgb92L4BT-Ba"
      },
      "source": [
        "new_train=train.iloc[:2891,:]\n",
        "new_test=train.iloc[2891:,:]\n",
        "X_train=new_train.drop(columns=['유입량'],axis=1)\n",
        "Y_train=new_train['유입량']\n",
        "X_train=X_train.drop(columns=[ '1강우A', '1강우B', '1강우C',\n",
        "       '1강우D', '1수위E', '1수위D',  '2강우A', '2강우B', '2강우C', '2강우D',\n",
        "       '2수위E', '2수위D',  '3강우A', '3강우B', '3강우C', '3강우D', '3수위E',\n",
        "       '3수위D',  '4강우A', '4강우B', '4강우C', '4강우D', '4수위E', '4수위D',\n",
        "        '5강우A', '5강우B', '5강우C', '5강우D', '5수위E', '5수위D',\n",
        "       '6강우A', '6강우B', '6강우C', '6강우D', '6수위E', '6수위D'],axis=1)\n"
      ],
      "execution_count": 44,
      "outputs": []
    },
    {
      "cell_type": "code",
      "metadata": {
        "id": "44LF0rRsWwC7"
      },
      "source": [
        "from sklearn.model_selection import train_test_split\n",
        "x_train, x_valid, y_train, y_valid = train_test_split(X_train, Y_train, test_size=0.15, random_state=42)"
      ],
      "execution_count": 45,
      "outputs": []
    },
    {
      "cell_type": "code",
      "metadata": {
        "colab": {
          "base_uri": "https://localhost:8080/",
          "height": 419
        },
        "id": "KTxf5a05fhqO",
        "outputId": "7b71c528-00cf-455c-eaa7-5d146d623619"
      },
      "source": [
        "x_train"
      ],
      "execution_count": 46,
      "outputs": [
        {
          "output_type": "execute_result",
          "data": {
            "text/html": [
              "<div>\n",
              "<style scoped>\n",
              "    .dataframe tbody tr th:only-of-type {\n",
              "        vertical-align: middle;\n",
              "    }\n",
              "\n",
              "    .dataframe tbody tr th {\n",
              "        vertical-align: top;\n",
              "    }\n",
              "\n",
              "    .dataframe thead th {\n",
              "        text-align: right;\n",
              "    }\n",
              "</style>\n",
              "<table border=\"1\" class=\"dataframe\">\n",
              "  <thead>\n",
              "    <tr style=\"text-align: right;\">\n",
              "      <th></th>\n",
              "      <th>홍수사상번호</th>\n",
              "      <th>연</th>\n",
              "      <th>월</th>\n",
              "      <th>일</th>\n",
              "      <th>시간</th>\n",
              "      <th>1유역평균강수</th>\n",
              "      <th>2유역평균강수</th>\n",
              "      <th>3유역평균강수</th>\n",
              "      <th>4유역평균강수</th>\n",
              "      <th>5유역평균강수</th>\n",
              "      <th>6유역평균강수</th>\n",
              "    </tr>\n",
              "  </thead>\n",
              "  <tbody>\n",
              "    <tr>\n",
              "      <th>656</th>\n",
              "      <td>8.0</td>\n",
              "      <td>2009.0</td>\n",
              "      <td>7.0</td>\n",
              "      <td>14.0</td>\n",
              "      <td>23.0</td>\n",
              "      <td>114.846</td>\n",
              "      <td>112.121</td>\n",
              "      <td>112.121</td>\n",
              "      <td>119.904</td>\n",
              "      <td>110.086</td>\n",
              "      <td>79.4238</td>\n",
              "    </tr>\n",
              "    <tr>\n",
              "      <th>290</th>\n",
              "      <td>2.0</td>\n",
              "      <td>2006.0</td>\n",
              "      <td>7.0</td>\n",
              "      <td>28.0</td>\n",
              "      <td>15.0</td>\n",
              "      <td>126.6</td>\n",
              "      <td>128.7</td>\n",
              "      <td>128.7</td>\n",
              "      <td>131.1</td>\n",
              "      <td>129.8</td>\n",
              "      <td>118.6</td>\n",
              "    </tr>\n",
              "    <tr>\n",
              "      <th>247</th>\n",
              "      <td>2.0</td>\n",
              "      <td>2006.0</td>\n",
              "      <td>7.0</td>\n",
              "      <td>26.0</td>\n",
              "      <td>20.0</td>\n",
              "      <td>20.5</td>\n",
              "      <td>20.6</td>\n",
              "      <td>20.6</td>\n",
              "      <td>20.9</td>\n",
              "      <td>20.9</td>\n",
              "      <td>20.9</td>\n",
              "    </tr>\n",
              "    <tr>\n",
              "      <th>2303</th>\n",
              "      <td>22.0</td>\n",
              "      <td>2013.0</td>\n",
              "      <td>7.0</td>\n",
              "      <td>8.0</td>\n",
              "      <td>11.0</td>\n",
              "      <td>3.6012</td>\n",
              "      <td>3.6291</td>\n",
              "      <td>3.6291</td>\n",
              "      <td>3.6698</td>\n",
              "      <td>3.6698</td>\n",
              "      <td>3.6698</td>\n",
              "    </tr>\n",
              "    <tr>\n",
              "      <th>1006</th>\n",
              "      <td>12.0</td>\n",
              "      <td>2010.0</td>\n",
              "      <td>9.0</td>\n",
              "      <td>21.0</td>\n",
              "      <td>17.0</td>\n",
              "      <td>31.752</td>\n",
              "      <td>35.6086</td>\n",
              "      <td>35.6086</td>\n",
              "      <td>40.2861</td>\n",
              "      <td>39.756</td>\n",
              "      <td>36.051</td>\n",
              "    </tr>\n",
              "    <tr>\n",
              "      <th>...</th>\n",
              "      <td>...</td>\n",
              "      <td>...</td>\n",
              "      <td>...</td>\n",
              "      <td>...</td>\n",
              "      <td>...</td>\n",
              "      <td>...</td>\n",
              "      <td>...</td>\n",
              "      <td>...</td>\n",
              "      <td>...</td>\n",
              "      <td>...</td>\n",
              "      <td>...</td>\n",
              "    </tr>\n",
              "    <tr>\n",
              "      <th>1639</th>\n",
              "      <td>16.0</td>\n",
              "      <td>2011.0</td>\n",
              "      <td>8.0</td>\n",
              "      <td>3.0</td>\n",
              "      <td>8.0</td>\n",
              "      <td>22.2989</td>\n",
              "      <td>22.1076</td>\n",
              "      <td>22.1076</td>\n",
              "      <td>21.2274</td>\n",
              "      <td>20.0513</td>\n",
              "      <td>14.4528</td>\n",
              "    </tr>\n",
              "    <tr>\n",
              "      <th>1096</th>\n",
              "      <td>13.0</td>\n",
              "      <td>2011.0</td>\n",
              "      <td>6.0</td>\n",
              "      <td>30.0</td>\n",
              "      <td>6.0</td>\n",
              "      <td>71.7088</td>\n",
              "      <td>76.1637</td>\n",
              "      <td>76.1637</td>\n",
              "      <td>81.4074</td>\n",
              "      <td>81.375</td>\n",
              "      <td>81.3333</td>\n",
              "    </tr>\n",
              "    <tr>\n",
              "      <th>1131</th>\n",
              "      <td>13.0</td>\n",
              "      <td>2011.0</td>\n",
              "      <td>7.0</td>\n",
              "      <td>1.0</td>\n",
              "      <td>17.0</td>\n",
              "      <td>85.8239</td>\n",
              "      <td>85.8239</td>\n",
              "      <td>85.8239</td>\n",
              "      <td>85.8239</td>\n",
              "      <td>85.8239</td>\n",
              "      <td>81.988</td>\n",
              "    </tr>\n",
              "    <tr>\n",
              "      <th>1295</th>\n",
              "      <td>15.0</td>\n",
              "      <td>2011.0</td>\n",
              "      <td>7.0</td>\n",
              "      <td>12.0</td>\n",
              "      <td>1.0</td>\n",
              "      <td>47.7383</td>\n",
              "      <td>47.7996</td>\n",
              "      <td>47.7996</td>\n",
              "      <td>47.9164</td>\n",
              "      <td>47.9164</td>\n",
              "      <td>47.8437</td>\n",
              "    </tr>\n",
              "    <tr>\n",
              "      <th>861</th>\n",
              "      <td>11.0</td>\n",
              "      <td>2010.0</td>\n",
              "      <td>9.0</td>\n",
              "      <td>10.0</td>\n",
              "      <td>23.0</td>\n",
              "      <td>10.512</td>\n",
              "      <td>12.002</td>\n",
              "      <td>12.002</td>\n",
              "      <td>12.5949</td>\n",
              "      <td>12.5655</td>\n",
              "      <td>12.5361</td>\n",
              "    </tr>\n",
              "  </tbody>\n",
              "</table>\n",
              "<p>2457 rows × 11 columns</p>\n",
              "</div>"
            ],
            "text/plain": [
              "      홍수사상번호       연    월     일  ...  3유역평균강수  4유역평균강수  5유역평균강수  6유역평균강수\n",
              "656      8.0  2009.0  7.0  14.0  ...  112.121  119.904  110.086  79.4238\n",
              "290      2.0  2006.0  7.0  28.0  ...    128.7    131.1    129.8    118.6\n",
              "247      2.0  2006.0  7.0  26.0  ...     20.6     20.9     20.9     20.9\n",
              "2303    22.0  2013.0  7.0   8.0  ...   3.6291   3.6698   3.6698   3.6698\n",
              "1006    12.0  2010.0  9.0  21.0  ...  35.6086  40.2861   39.756   36.051\n",
              "...      ...     ...  ...   ...  ...      ...      ...      ...      ...\n",
              "1639    16.0  2011.0  8.0   3.0  ...  22.1076  21.2274  20.0513  14.4528\n",
              "1096    13.0  2011.0  6.0  30.0  ...  76.1637  81.4074   81.375  81.3333\n",
              "1131    13.0  2011.0  7.0   1.0  ...  85.8239  85.8239  85.8239   81.988\n",
              "1295    15.0  2011.0  7.0  12.0  ...  47.7996  47.9164  47.9164  47.8437\n",
              "861     11.0  2010.0  9.0  10.0  ...   12.002  12.5949  12.5655  12.5361\n",
              "\n",
              "[2457 rows x 11 columns]"
            ]
          },
          "metadata": {
            "tags": []
          },
          "execution_count": 46
        }
      ]
    },
    {
      "cell_type": "code",
      "metadata": {
        "colab": {
          "base_uri": "https://localhost:8080/"
        },
        "id": "-En79pKHfR9b",
        "outputId": "04b45730-c6d4-45da-9819-2dffc4e60f5a"
      },
      "source": [
        "from sklearn.linear_model import LinearRegression\n",
        "lr=LinearRegression()\n",
        "lr.fit(x_train,y_train)\n",
        "print(lr.score(x_valid,y_valid))"
      ],
      "execution_count": 47,
      "outputs": [
        {
          "output_type": "stream",
          "text": [
            "0.6348535045391911\n"
          ],
          "name": "stdout"
        }
      ]
    },
    {
      "cell_type": "code",
      "metadata": {
        "colab": {
          "base_uri": "https://localhost:8080/"
        },
        "id": "zsaj58q5e9JH",
        "outputId": "28d65747-e7cd-43d9-b030-43ad659a6d82"
      },
      "source": [
        "y_pred=lr.predict(x_train)\n",
        "y_pred[:10]"
      ],
      "execution_count": 48,
      "outputs": [
        {
          "output_type": "execute_result",
          "data": {
            "text/plain": [
              "array([2598.42568359, 3944.68482171, 1138.96611336, -104.12034139,\n",
              "        981.91042732,   73.52934969,  163.66534729, -175.03996037,\n",
              "        448.83814098,  -63.1692137 ])"
            ]
          },
          "metadata": {
            "tags": []
          },
          "execution_count": 48
        }
      ]
    },
    {
      "cell_type": "code",
      "metadata": {
        "colab": {
          "base_uri": "https://localhost:8080/"
        },
        "id": "eyYPNSByfWQM",
        "outputId": "c01571a4-927f-4105-d726-85f941404678"
      },
      "source": [
        "y_train[:10]"
      ],
      "execution_count": 49,
      "outputs": [
        {
          "output_type": "execute_result",
          "data": {
            "text/plain": [
              "656     3733.869336\n",
              "290     5942.082186\n",
              "247      196.829472\n",
              "2303      87.955369\n",
              "1006     238.369158\n",
              "2329     144.645695\n",
              "2079     200.580027\n",
              "1743     889.744450\n",
              "533      775.154908\n",
              "749       58.411156\n",
              "Name: 유입량, dtype: float64"
            ]
          },
          "metadata": {
            "tags": []
          },
          "execution_count": 49
        }
      ]
    },
    {
      "cell_type": "markdown",
      "metadata": {
        "id": "YcwPUHIrnCZ1"
      },
      "source": [
        "##유역평균+abcdede"
      ]
    },
    {
      "cell_type": "code",
      "metadata": {
        "id": "dYHhPKI2fZez"
      },
      "source": [
        "new_train=train.iloc[:2891,:]\n",
        "new_test=train.iloc[2891:,:]\n",
        "X_train=new_train.drop(columns=['유입량'],axis=1)\n",
        "Y_train=new_train['유입량']\n",
        "X_train=X_train.drop(columns=[  '2강우A', '2강우B', '2강우C', '2강우D',\n",
        "       '2수위E', '2수위D',  '3강우A', '3강우B', '3강우C', '3강우D', '3수위E',\n",
        "       '3수위D',  '4강우A', '4강우B', '4강우C', '4강우D', '4수위E', '4수위D',\n",
        "        '5강우A', '5강우B', '5강우C', '5강우D', '5수위E', '5수위D',\n",
        "       '6강우A', '6강우B', '6강우C', '6강우D', '6수위E', '6수위D'],axis=1)\n"
      ],
      "execution_count": 55,
      "outputs": []
    },
    {
      "cell_type": "code",
      "metadata": {
        "id": "dV4rXPfanLaG"
      },
      "source": [
        "from sklearn.model_selection import train_test_split\n",
        "x_train, x_valid, y_train, y_valid = train_test_split(X_train, Y_train, test_size=0.15, random_state=42)"
      ],
      "execution_count": 57,
      "outputs": []
    },
    {
      "cell_type": "code",
      "metadata": {
        "colab": {
          "base_uri": "https://localhost:8080/"
        },
        "id": "WlLuByygnOQn",
        "outputId": "19f74a4c-872a-4579-81e6-e63c1803f1f6"
      },
      "source": [
        "from sklearn.linear_model import LinearRegression\n",
        "lr=LinearRegression()\n",
        "lr.fit(x_train,y_train)\n",
        "print(lr.score(x_valid,y_valid))"
      ],
      "execution_count": 58,
      "outputs": [
        {
          "output_type": "stream",
          "text": [
            "0.8854131058972271\n"
          ],
          "name": "stdout"
        }
      ]
    },
    {
      "cell_type": "code",
      "metadata": {
        "id": "zW4G30o1nTSr"
      },
      "source": [
        ""
      ],
      "execution_count": null,
      "outputs": []
    }
  ]
}
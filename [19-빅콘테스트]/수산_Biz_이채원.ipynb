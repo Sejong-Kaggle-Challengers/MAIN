{
  "nbformat": 4,
  "nbformat_minor": 0,
  "metadata": {
    "colab": {
      "name": "수산 Biz",
      "provenance": [],
      "collapsed_sections": []
    },
    "kernelspec": {
      "name": "python3",
      "display_name": "Python 3"
    },
    "language_info": {
      "name": "python"
    }
  },
  "cells": [
    {
      "cell_type": "code",
      "metadata": {
        "id": "BoKnr7QNxDW9"
      },
      "source": [
        "import pandas as pd\n",
        "import numpy as np\n",
        "\n",
        "data=pd.read_excel(\"2021 빅콘테스트_데이터분석분야_챔피언리그_수산Biz_문제데이터.xlsx\")"
      ],
      "execution_count": null,
      "outputs": []
    },
    {
      "cell_type": "code",
      "metadata": {
        "colab": {
          "base_uri": "https://localhost:8080/",
          "height": 203
        },
        "id": "12-aCsGHxSw4",
        "outputId": "7de90ee6-8240-4309-c721-1da5c90b0628"
      },
      "source": [
        "data.head()"
      ],
      "execution_count": null,
      "outputs": [
        {
          "output_type": "execute_result",
          "data": {
            "text/html": [
              "<div>\n",
              "<style scoped>\n",
              "    .dataframe tbody tr th:only-of-type {\n",
              "        vertical-align: middle;\n",
              "    }\n",
              "\n",
              "    .dataframe tbody tr th {\n",
              "        vertical-align: top;\n",
              "    }\n",
              "\n",
              "    .dataframe thead th {\n",
              "        text-align: right;\n",
              "    }\n",
              "</style>\n",
              "<table border=\"1\" class=\"dataframe\">\n",
              "  <thead>\n",
              "    <tr style=\"text-align: right;\">\n",
              "      <th></th>\n",
              "      <th>REG_DATE</th>\n",
              "      <th>P_TYPE</th>\n",
              "      <th>CTRY_1</th>\n",
              "      <th>CTRY_2</th>\n",
              "      <th>P_PURPOSE</th>\n",
              "      <th>CATEGORY_1</th>\n",
              "      <th>CATEGORY_2</th>\n",
              "      <th>P_NAME</th>\n",
              "      <th>P_IMPORT_TYPE</th>\n",
              "      <th>P_PRICE</th>\n",
              "    </tr>\n",
              "  </thead>\n",
              "  <tbody>\n",
              "    <tr>\n",
              "      <th>0</th>\n",
              "      <td>2015-12-28</td>\n",
              "      <td>수산물</td>\n",
              "      <td>아르헨티나</td>\n",
              "      <td>아르헨티나</td>\n",
              "      <td>판매용</td>\n",
              "      <td>갑각류</td>\n",
              "      <td>새우</td>\n",
              "      <td>아르헨티나붉은새우</td>\n",
              "      <td>냉동</td>\n",
              "      <td>7.480000</td>\n",
              "    </tr>\n",
              "    <tr>\n",
              "      <th>1</th>\n",
              "      <td>2015-12-28</td>\n",
              "      <td>수산물</td>\n",
              "      <td>바레인</td>\n",
              "      <td>바레인</td>\n",
              "      <td>판매용</td>\n",
              "      <td>갑각류</td>\n",
              "      <td>게</td>\n",
              "      <td>꽃게</td>\n",
              "      <td>냉동</td>\n",
              "      <td>2.920000</td>\n",
              "    </tr>\n",
              "    <tr>\n",
              "      <th>2</th>\n",
              "      <td>2015-12-28</td>\n",
              "      <td>수산물</td>\n",
              "      <td>바레인</td>\n",
              "      <td>바레인</td>\n",
              "      <td>판매용</td>\n",
              "      <td>갑각류</td>\n",
              "      <td>게</td>\n",
              "      <td>꽃게</td>\n",
              "      <td>냉동,절단</td>\n",
              "      <td>3.356352</td>\n",
              "    </tr>\n",
              "    <tr>\n",
              "      <th>3</th>\n",
              "      <td>2015-12-28</td>\n",
              "      <td>수산물</td>\n",
              "      <td>칠레</td>\n",
              "      <td>칠레</td>\n",
              "      <td>판매용</td>\n",
              "      <td>패류 멍게류</td>\n",
              "      <td>해삼</td>\n",
              "      <td>해삼</td>\n",
              "      <td>건조,자숙</td>\n",
              "      <td>18.260870</td>\n",
              "    </tr>\n",
              "    <tr>\n",
              "      <th>4</th>\n",
              "      <td>2015-12-28</td>\n",
              "      <td>수산물</td>\n",
              "      <td>중국</td>\n",
              "      <td>중국</td>\n",
              "      <td>판매용</td>\n",
              "      <td>어류</td>\n",
              "      <td>서대 박대 페루다</td>\n",
              "      <td>서대</td>\n",
              "      <td>냉동</td>\n",
              "      <td>4.791340</td>\n",
              "    </tr>\n",
              "  </tbody>\n",
              "</table>\n",
              "</div>"
            ],
            "text/plain": [
              "    REG_DATE P_TYPE CTRY_1  ...     P_NAME P_IMPORT_TYPE    P_PRICE\n",
              "0 2015-12-28    수산물  아르헨티나  ...  아르헨티나붉은새우            냉동   7.480000\n",
              "1 2015-12-28    수산물    바레인  ...         꽃게            냉동   2.920000\n",
              "2 2015-12-28    수산물    바레인  ...         꽃게         냉동,절단   3.356352\n",
              "3 2015-12-28    수산물     칠레  ...         해삼         건조,자숙  18.260870\n",
              "4 2015-12-28    수산물     중국  ...         서대            냉동   4.791340\n",
              "\n",
              "[5 rows x 10 columns]"
            ]
          },
          "metadata": {
            "tags": []
          },
          "execution_count": 17
        }
      ]
    },
    {
      "cell_type": "code",
      "metadata": {
        "colab": {
          "base_uri": "https://localhost:8080/"
        },
        "id": "wT2sjQuE0Pxr",
        "outputId": "1cc95625-b576-4ec8-b60b-9c6db245a9c3"
      },
      "source": [
        "data.info()"
      ],
      "execution_count": null,
      "outputs": [
        {
          "output_type": "stream",
          "text": [
            "<class 'pandas.core.frame.DataFrame'>\n",
            "RangeIndex: 42073 entries, 0 to 42072\n",
            "Data columns (total 10 columns):\n",
            " #   Column         Non-Null Count  Dtype         \n",
            "---  ------         --------------  -----         \n",
            " 0   REG_DATE       42073 non-null  datetime64[ns]\n",
            " 1   P_TYPE         42073 non-null  object        \n",
            " 2   CTRY_1         42073 non-null  object        \n",
            " 3   CTRY_2         42073 non-null  object        \n",
            " 4   P_PURPOSE      42073 non-null  object        \n",
            " 5   CATEGORY_1     42073 non-null  object        \n",
            " 6   CATEGORY_2     42073 non-null  object        \n",
            " 7   P_NAME         42073 non-null  object        \n",
            " 8   P_IMPORT_TYPE  42073 non-null  object        \n",
            " 9   P_PRICE        42073 non-null  float64       \n",
            "dtypes: datetime64[ns](1), float64(1), object(8)\n",
            "memory usage: 3.2+ MB\n"
          ],
          "name": "stdout"
        }
      ]
    },
    {
      "cell_type": "code",
      "metadata": {
        "colab": {
          "base_uri": "https://localhost:8080/"
        },
        "id": "Hf4aCHszyS0T",
        "outputId": "e361c1dc-98cb-498d-d6ab-fed6176657f9"
      },
      "source": [
        "print(data.columns)"
      ],
      "execution_count": null,
      "outputs": [
        {
          "output_type": "stream",
          "text": [
            "Index(['REG_DATE', 'P_TYPE', 'CTRY_1', 'CTRY_2', 'P_PURPOSE', 'CATEGORY_1',\n",
            "       'CATEGORY_2', 'P_NAME', 'P_IMPORT_TYPE', 'P_PRICE'],\n",
            "      dtype='object')\n"
          ],
          "name": "stdout"
        }
      ]
    },
    {
      "cell_type": "code",
      "metadata": {
        "colab": {
          "base_uri": "https://localhost:8080/"
        },
        "id": "PrF1FKQNxW6b",
        "outputId": "c119a1b8-cc86-4938-e9ae-76f1686a266e"
      },
      "source": [
        "cols=['P_TYPE', 'CTRY_1', 'CTRY_2', 'P_PURPOSE', 'CATEGORY_1',\n",
        "       'CATEGORY_2', 'P_NAME', 'P_IMPORT_TYPE']\n",
        "for col in cols:\n",
        "    print(col)\n",
        "    print(len( data[col].unique() ))\n",
        "    print(data[col].unique())"
      ],
      "execution_count": null,
      "outputs": [
        {
          "output_type": "stream",
          "text": [
            "P_TYPE\n",
            "1\n",
            "['수산물']\n",
            "CTRY_1\n",
            "87\n",
            "['아르헨티나' '바레인' '칠레' '중국' '프랑스' '인도네시아' '일본' '대한민국' '모로코' '멕시코' '말레이시아'\n",
            " '노르웨이' '페루' '러시아' '시에라리온' '세네갈' '태국' '튀니지' '대만' '미국' '베트남' '남아프리카 공화국'\n",
            " '기니' '인도' '필리핀' '포르투갈' '사우디아라비아' '뉴질랜드' '파키스탄' '아랍에미리트' '캐나다' '에콰도르'\n",
            " '아일랜드' '터키' '스페인' '아이슬란드' '모리타니' '호주' '바누아투' '영국' '소말리아' '불가리아' '피지'\n",
            " '우크라이나' '리비아' '세이셸' '이탈리아' '키리바시' '기니비사우' '브라질' '스리랑카' '우루과이'\n",
            " '세인트빈센트 그레나딘' '에스토니아' '이란' '미얀마' '파푸아뉴기니' '가나' '방글라데시' '네덜란드' '파나마' '감비아'\n",
            " '크로아티아' '앙골라' '베네수엘라' '싱가포르' '포클랜드 제도' '모잠비크' '이집트' '수리남' '루마니아' '몰타'\n",
            " '라트비아' '나미비아' '오만' '그리스' '그린란드' '알제리' '니카라과' '쿡 제도' '팔라우' '쿠바' '라이베리아'\n",
            " '마다가스카르' '미크로네시아 연방' '사이프러스' '콜롬비아']\n",
            "CTRY_2\n",
            "88\n",
            "['아르헨티나' '바레인' '칠레' '중국' '스페인' '프랑스' '인도네시아' '일본' '북한' '모로코' '멕시코' '말레이시아'\n",
            " '노르웨이' '페루' '러시아' '시에라리온' '세네갈' '태국' '튀니지' '벨리즈' '대만' '캐나다' '미국' '베트남'\n",
            " '남아프리카 공화국' '기니' '인도' '필리핀' '사우디아라비아' '뉴질랜드' '파키스탄' '아랍에미리트' '에콰도르'\n",
            " '네덜란드' '홍콩' '아일랜드' '터키' '아이슬란드' '모리타니' '세이셸' '영국' '오만' '호주' '불가리아' '독일'\n",
            " '키리바시' '기니비사우' '브라질' '스리랑카' '우루과이' '이란' '미얀마' '솔로몬 제도' '가나' '방글라데시' '파나마'\n",
            " '감비아' '크로아티아' '앙골라' '베네수엘라' '사모아' '파푸아뉴기니' '싱가포르' '포르투갈' '포클랜드 제도' '덴마크'\n",
            " '바누아투' '모잠비크' '이집트' '수리남' '몰타' '루마니아' '나미비아' '이탈리아' '기타(ZZ)' '그리스' '모리셔스'\n",
            " '미크로네시아 연방' '피지' '스웨덴' '팔라우' '투발루' '쿠바' '라이베리아' '마다가스카르' '지부티' '우크라이나'\n",
            " '콜롬비아']\n",
            "P_PURPOSE\n",
            "5\n",
            "['판매용' '외화획득용 원료' '자사제품제조용' '합작' '반송품(기타)']\n",
            "CATEGORY_1\n",
            "7\n",
            "['갑각류' '패류 멍게류' '어류' '연체류 해물모듬' '젓갈류 해조류 해파리' '알 곤이류' '기타 수입식품']\n",
            "CATEGORY_2\n",
            "113\n",
            "['새우' '게' '해삼' '서대 박대 페루다' '복어' '옥돔' '바지락' '가리비' '조개' '문어' '쭈꾸미' '멍게'\n",
            " '참치 새치류 ' '메로' '낙지' '가오리' '미역' '장어' '연어' '대구' '명란(명태알)' '호키류' '고동'\n",
            " '꽁치 학꽁치' '틸라피아(역돔)' '오징어' '가재 랍스타' '가자미' '홍어' '명태' '상어 고래' '민물붕어'\n",
            " '도미 감성돔 돔류' '꼬막' '재첩' '조개 백합 대합' '능성어 붉바리 바리' '준치' '우럭 볼락' '해파리' '홍합'\n",
            " '호키(새꼬리민태)알' '갈치' '밴댕이' '갑오징어' '성게알' '메기 동자개' '해초' '병어' '잉어' '조기 보구치 강다리'\n",
            " '농어' '아귀' '방어' '고등어' '민어 점성어' '미꾸라지' '부세' '줄비늘치' '개불' '조기 보구치 강다리 ' '골뱅이'\n",
            " '임연수' '해물모둠' '자라' '팡가시우스(홍메기)' '보리멸' '송어' '쥐치' '우렁 다슬기' '톳' '대구알'\n",
            " '붉평치(만다이 꽃돔)' '도다리' '날치알' '전복' '청어' '노래미' '꽁치 확꽁치' '멸치' '쏘가리' '참치 새치류'\n",
            " '고시래기' '달고기' '전갱기 매가리' '벤자리 알롱이' '가사리' '열빙어(시샤모)' '가물치' '청어알' '개복치' '양태'\n",
            " '열빙어(시샤모)알' '적어 눈볼대' '연어알' '전어' '전갱이 매가리' '남극빙어' '망둑어' '은민대구알' '삼치'\n",
            " '샛돔류알' '광어 넙치' '밀크피시' '다시마' '호끼류' '버터플라이 킹피쉬' '꼴뚜기' '어류 기타' '소라' '김'\n",
            " '양미리 정어리' '물메기(곰치)']\n",
            "P_NAME\n",
            "286\n",
            "['아르헨티나붉은새우' '꽃게' '해삼' '서대' '은밀복' '옥돔' '까치복' '흰다리새우' '바지락' '가리비' '개조개'\n",
            " '문어' '주꾸미' '멍게' '대서양참다랑어' '파타고니아이빨고기' '낙지' '눈다랑어' '가오리' '미역' '뱀장어' '참다랑어'\n",
            " '대서양연어' '대구' '명태알' '대게' '줄민태' '홍서대' '위고둥' '꽁치' '황새치' '틸라피아' '오징어' '기름치'\n",
            " '바다가재' '까지가자미' '홍어' '먹장어' '명태' '홍다리얼룩새우' '화살오징어' '청상아리' '붕어' '감성돔' '자주복'\n",
            " '꼬막' '재첩' '피조개' '피뿔고둥' '능성어' '준치' '참돔' '연어' '왕게' '장문볼락' '각시가자미' '가자미'\n",
            " '털게' '해파리' '새우' '민밀복' '젓새우' '홍합' '백합,MERCENARIA MERCENARIA' '새꼬리민태알'\n",
            " '붕장어' '갈치' '밴댕이' '갑오징어' '성게알' '동자개' '코토니' '병어' '이스라엘잉어' '영상가이석태' '스피노잠'\n",
            " '새꼬막' '농어' '아귀' '긴가이석태' '방어' '고등어' '흑밀복' '홍민어' '북방대합' '백합' '황돔' '미꾸라지'\n",
            " '가무락조개' '부세' '줄비늘치' '개불' '비단조개' '깜장북방대합' '참조기' '비너스백합' '민들조개' '주름백합'\n",
            " '아담스백합' '은연어' '민어' '옥두어' '민꽃게' '골뱅이' '민물새우' '게' '임연수어' '해물혼합' '식용자라'\n",
            " '흑기흉상어' 'PANGASIUS메기' '보리멸' '마소치가자미' '귀상어' '동죽' '남방참다랑어' '송어' '적새우' '잉어'\n",
            " '쥐치' '다슬기' '소주목탁가자미' '맛조개' '톳' '양볼락' '조피볼락' '동등이석태' '곱사연어' '대서양먹장어' '대구알'\n",
            " '붉은이석태' '붉평치' '수조기' '강도다리' '날치알' '왕연어' '전복' '청어' '바닷가재' '쥐노래미' '학공치' '멸치'\n",
            " '키조개' '새조개' '가이석태속' '붉은대게' '돌돔' '황다랑어' '검정가자미' '은대구' '쏘가리' '붉은메기' '벵에돔'\n",
            " '북쪽분홍새우' '돛새치' '갯고둥' '돌가자미' '상어' '먹볼락' '마설가자미' '검복' '참게' '톱날꽃게' '참복'\n",
            " '동갈돗돔' '밤색무늬조개' '가다랑어' '큰징거미새우' '꼬시래기' '진환도상어' '첨치가자미' '메기' '실꼬리돔'\n",
            " '블루화이팅' '꼬리검정민태' '청새치' '홍연어,Red salmon' '달고기' '대서양꼬마민어' '어름돔' '개량조개'\n",
            " '전갱이,POMPANO' '자바리' '벤자리' '자이언트그루퍼' '갯장어' '논고둥' '돌가사리' '열빙어' '도화새우' '가물치'\n",
            " '검정볼락' '청어알' '두점박이민꽃게' '개복치' '진홍퉁돔' '양태' '황적퉁돔' '가시투성왕게' '청새리상어' '태평양먹장어'\n",
            " '쿠자조기' '큰구슬우렁이' '큰실말' '강담돔' '칠성장어' '닭새우' '열빙어알' '쥐돔' '전갱이' '홍감펭' '곱상어'\n",
            " '청각' '날개다랑어' '연어알' '우뭇가사리' '매듭가자미' '전어' '새뱅이' '유럽물레고둥' '흑점샛돔알' '흑점줄전갱이'\n",
            " '돔' '장수기름가자미' '가라지' '코드아이스피쉬' '망둑어' '은민대구알' '기타민어류' '남방대구' '삼치' '던지네스게'\n",
            " '샛돔류알' '체장메기' '버들붕어' '민물가재' '까칠복' '뿔가자미' '왕게붙이' '잿방어' '대서양조기속' '넙치'\n",
            " '세네갈가이석태' '샛돔' '은행게' '볼락' '병치매가리' '밀크피시' '붉돔' '기타병어류' '양초선홍치' '민태' '다시마'\n",
            " '회초리꼬리민태' '버터플라이 킹피쉬' '흰꼴뚜기' '대두이석태' '얼룩볼락' '큰민어' '바라문디' '바리' '민대구' '적돔'\n",
            " '동갈횟대' '드렁허리' '금색돔' '소라' '김' '녹새치' '금눈돔' '매미새우' '옥덩굴' '은민대구' '장성베도라치'\n",
            " '바리,교잡종' '코끼리조개' '구라미' '쌍지붕어' '대서양붉은볼락' '청대구' '프로펠러조개' '정어리' '등목어'\n",
            " '가시배새우' '물메기' '청회볼락']\n",
            "P_IMPORT_TYPE\n",
            "78\n",
            "['냉동' '냉동,절단' '건조,자숙' '냉동,살,자숙' '냉동,살' '냉장,살' '염장,살' '냉동,한쪽껍질붙은' '활' '냉장'\n",
            " '냉동,목살' '냉동,목살,횟감' '염장' '냉동,알' '냉동,필렛(F),횟감' '냉동,포장횟감,필렛(F)' '냉동,동체'\n",
            " '냉동,창난' '냉동,살,포장횟감' '냉동,자숙,포장횟감' '건조' '냉동,다리,포장횟감' '냉장,필렛(F)'\n",
            " '냉동,자숙,한쪽껍질붙은' '냉동,필렛(F)' '냉동,살,자숙,포장횟감' '냉장,횟감' '냉동,다리'\n",
            " '냉동,슬라이스(S),포장횟감' '냉장,포장횟감,필렛(F)' '냉동,동체,자숙' '냉동,지느러미' '냉장,필렛(F),횟감'\n",
            " '냉동,곤이' '냉동,머리' '자숙,건조' '냉동,슬라이스(S),자숙,포장횟감' '냉동,슬라이스(S)' '냉동,자숙'\n",
            " '냉동,자숙,절단' '냉동,간' '건조,알,캐비아대용' '냉동,볼살' '냉동,볼살,횟감' '냉동,개아지살,살' '냉동,내장'\n",
            " '냉동,턱살' '냉동,집게다리' '냉동,외투막,살' '냉동,다리,자숙' '냉동,지느러미,자숙' '냉동,머리살,횟감'\n",
            " '건조,필렛(F)' '절단,건조' '냉동,개아지살,살,포장횟감' '건조,살,자숙' '냉동,턱살,횟감' '냉동,알,캐비아대용'\n",
            " '냉동,살,슬라이스(S),포장횟감' '냉동,머리살' '냉동,자숙,절단,횟감' '염장,알,캐비아대용' '건조,훈제'\n",
            " '냉동,동체,포장횟감' '냉동,횟감' '냉동,개아지살,살,횟감' '냉장,개아지살,살' '냉동,슬라이스(S),자숙' '냉동,난포선'\n",
            " '냉동,동체,자숙,포장횟감' '냉동,머리_외화획득용' '냉장,간' '줄기,염장' '건조,껍질' '냉동,다리,자숙,포장횟감'\n",
            " '냉동,꼬리_외화획득용' '냉동,눈살' '건조,지느러미,자숙']\n"
          ],
          "name": "stdout"
        }
      ]
    },
    {
      "cell_type": "code",
      "metadata": {
        "colab": {
          "base_uri": "https://localhost:8080/",
          "height": 221
        },
        "id": "_uySK8VAyEw2",
        "outputId": "1092fe00-5e21-41d6-b989-5847434c89fa"
      },
      "source": [
        "data=data.drop(axis=1, columns=['P_TYPE'])\n",
        "print(data.shape)\n",
        "data.head()"
      ],
      "execution_count": null,
      "outputs": [
        {
          "output_type": "stream",
          "text": [
            "(42073, 9)\n"
          ],
          "name": "stdout"
        },
        {
          "output_type": "execute_result",
          "data": {
            "text/html": [
              "<div>\n",
              "<style scoped>\n",
              "    .dataframe tbody tr th:only-of-type {\n",
              "        vertical-align: middle;\n",
              "    }\n",
              "\n",
              "    .dataframe tbody tr th {\n",
              "        vertical-align: top;\n",
              "    }\n",
              "\n",
              "    .dataframe thead th {\n",
              "        text-align: right;\n",
              "    }\n",
              "</style>\n",
              "<table border=\"1\" class=\"dataframe\">\n",
              "  <thead>\n",
              "    <tr style=\"text-align: right;\">\n",
              "      <th></th>\n",
              "      <th>REG_DATE</th>\n",
              "      <th>CTRY_1</th>\n",
              "      <th>CTRY_2</th>\n",
              "      <th>P_PURPOSE</th>\n",
              "      <th>CATEGORY_1</th>\n",
              "      <th>CATEGORY_2</th>\n",
              "      <th>P_NAME</th>\n",
              "      <th>P_IMPORT_TYPE</th>\n",
              "      <th>P_PRICE</th>\n",
              "    </tr>\n",
              "  </thead>\n",
              "  <tbody>\n",
              "    <tr>\n",
              "      <th>0</th>\n",
              "      <td>2015-12-28</td>\n",
              "      <td>아르헨티나</td>\n",
              "      <td>아르헨티나</td>\n",
              "      <td>판매용</td>\n",
              "      <td>갑각류</td>\n",
              "      <td>새우</td>\n",
              "      <td>아르헨티나붉은새우</td>\n",
              "      <td>냉동</td>\n",
              "      <td>7.480000</td>\n",
              "    </tr>\n",
              "    <tr>\n",
              "      <th>1</th>\n",
              "      <td>2015-12-28</td>\n",
              "      <td>바레인</td>\n",
              "      <td>바레인</td>\n",
              "      <td>판매용</td>\n",
              "      <td>갑각류</td>\n",
              "      <td>게</td>\n",
              "      <td>꽃게</td>\n",
              "      <td>냉동</td>\n",
              "      <td>2.920000</td>\n",
              "    </tr>\n",
              "    <tr>\n",
              "      <th>2</th>\n",
              "      <td>2015-12-28</td>\n",
              "      <td>바레인</td>\n",
              "      <td>바레인</td>\n",
              "      <td>판매용</td>\n",
              "      <td>갑각류</td>\n",
              "      <td>게</td>\n",
              "      <td>꽃게</td>\n",
              "      <td>냉동,절단</td>\n",
              "      <td>3.356352</td>\n",
              "    </tr>\n",
              "    <tr>\n",
              "      <th>3</th>\n",
              "      <td>2015-12-28</td>\n",
              "      <td>칠레</td>\n",
              "      <td>칠레</td>\n",
              "      <td>판매용</td>\n",
              "      <td>패류 멍게류</td>\n",
              "      <td>해삼</td>\n",
              "      <td>해삼</td>\n",
              "      <td>건조,자숙</td>\n",
              "      <td>18.260870</td>\n",
              "    </tr>\n",
              "    <tr>\n",
              "      <th>4</th>\n",
              "      <td>2015-12-28</td>\n",
              "      <td>중국</td>\n",
              "      <td>중국</td>\n",
              "      <td>판매용</td>\n",
              "      <td>어류</td>\n",
              "      <td>서대 박대 페루다</td>\n",
              "      <td>서대</td>\n",
              "      <td>냉동</td>\n",
              "      <td>4.791340</td>\n",
              "    </tr>\n",
              "  </tbody>\n",
              "</table>\n",
              "</div>"
            ],
            "text/plain": [
              "    REG_DATE CTRY_1 CTRY_2  ...     P_NAME P_IMPORT_TYPE    P_PRICE\n",
              "0 2015-12-28  아르헨티나  아르헨티나  ...  아르헨티나붉은새우            냉동   7.480000\n",
              "1 2015-12-28    바레인    바레인  ...         꽃게            냉동   2.920000\n",
              "2 2015-12-28    바레인    바레인  ...         꽃게         냉동,절단   3.356352\n",
              "3 2015-12-28     칠레     칠레  ...         해삼         건조,자숙  18.260870\n",
              "4 2015-12-28     중국     중국  ...         서대            냉동   4.791340\n",
              "\n",
              "[5 rows x 9 columns]"
            ]
          },
          "metadata": {
            "tags": []
          },
          "execution_count": 21
        }
      ]
    },
    {
      "cell_type": "code",
      "metadata": {
        "colab": {
          "base_uri": "https://localhost:8080/"
        },
        "id": "7nlnh6M5y065",
        "outputId": "a8ec924d-08d0-43a1-91e7-5af4f8ee102b"
      },
      "source": [
        "print(data[data['CTRY_1']!=data['CTRY_2']])\n",
        "\n",
        "print(len(data[data['CTRY_1']!=data['CTRY_2']]))\n",
        "\n",
        "#제조국 == 수출국인 행 -> 0\n",
        "#제조국 != 수출국인 행 -> 1"
      ],
      "execution_count": null,
      "outputs": [
        {
          "output_type": "stream",
          "text": [
            "        REG_DATE CTRY_1 CTRY_2  ...   P_NAME P_IMPORT_TYPE    P_PRICE\n",
            "17    2015-12-28    프랑스    스페인  ...  대서양참다랑어            냉장  28.868041\n",
            "23    2015-12-28   대한민국     북한  ...       미역            염장   0.913119\n",
            "39    2015-12-28     대만    벨리즈  ...       꽁치            냉동   0.956387\n",
            "40    2015-12-28     대만     일본  ...     눈다랑어   냉동,필렛(F),횟감  12.799577\n",
            "41    2015-12-28     대만     일본  ...     눈다랑어      냉동,목살,횟감   3.628571\n",
            "...          ...    ...    ...  ...      ...           ...        ...\n",
            "42006 2019-12-30   에콰도르  베네수엘라  ...       갈치            냉동   1.774222\n",
            "42009 2019-12-30    러시아     중국  ...       명태            냉동   5.051081\n",
            "42030 2019-12-30    러시아     중국  ...    각시가자미            냉동   2.263721\n",
            "42040 2019-12-30    러시아     중국  ...       명태      냉동,필렛(F)   3.226426\n",
            "42059 2019-12-30     중국     홍콩  ...       부세            냉동   4.218076\n",
            "\n",
            "[4439 rows x 9 columns]\n",
            "4439\n"
          ],
          "name": "stdout"
        }
      ]
    },
    {
      "cell_type": "code",
      "metadata": {
        "colab": {
          "base_uri": "https://localhost:8080/"
        },
        "id": "e8EtKFrB1Qf4",
        "outputId": "68dac96c-14fe-4372-d185-0ac196a61acf"
      },
      "source": [
        "temp=data['REG_DATE'].iloc[1]\n",
        "temp=str(temp)\n",
        "temp=temp.split(' ')[0]\n",
        "temp=temp.split('-')\n",
        "# print(temp)\n",
        "print(temp[0],\"/\",temp[1],\"/\",temp[2],\"/\")"
      ],
      "execution_count": null,
      "outputs": [
        {
          "output_type": "stream",
          "text": [
            "2015 / 12 / 28 /\n"
          ],
          "name": "stdout"
        }
      ]
    },
    {
      "cell_type": "code",
      "metadata": {
        "colab": {
          "base_uri": "https://localhost:8080/"
        },
        "id": "1u2Vm9LezToh",
        "outputId": "f91ab6dd-a8f9-4a6d-aca0-f6debd4e2ea3"
      },
      "source": [
        "data['Year']=0\n",
        "data['Month']=0\n",
        "data['Date']=0\n",
        "\n",
        "for i in range(len(data)):\n",
        "    temp=str(data['REG_DATE'].iloc[i])\n",
        "    temp=temp.split(' ')[0]\n",
        "    temp=temp.split('-')\n",
        "    data['Year'].iloc[i]=temp[0]\n",
        "    data['Month'].iloc[i]=temp[1]\n",
        "    data['Date'].iloc[i]=temp[2]"
      ],
      "execution_count": null,
      "outputs": [
        {
          "output_type": "stream",
          "text": [
            "/usr/local/lib/python3.7/dist-packages/pandas/core/indexing.py:670: SettingWithCopyWarning: \n",
            "A value is trying to be set on a copy of a slice from a DataFrame\n",
            "\n",
            "See the caveats in the documentation: https://pandas.pydata.org/pandas-docs/stable/user_guide/indexing.html#returning-a-view-versus-a-copy\n",
            "  iloc._setitem_with_indexer(indexer, value)\n"
          ],
          "name": "stderr"
        }
      ]
    },
    {
      "cell_type": "code",
      "metadata": {
        "id": "QlfVZexue6qW"
      },
      "source": [
        "from sklearn.preprocessing import LabelEncoder\n",
        "le=LabelEncoder()\n",
        "data['CATEGORY_1']=le.fit_transform(data['CATEGORY_1'].values)\n",
        "data['CATEGORY_2']=le.fit_transform(data['CATEGORY_2'].values)\n",
        "data['CTRY_1']=le.fit_transform(data['CTRY_1'].values)\n",
        "data['CTRY_2']=le.fit_transform(data['CTRY_2'].values)\n",
        "data['P_NAME']=le.fit_transform(data['P_NAME'].values)\n",
        "data['P_IMPORT_TYPE']=le.fit_transform(data['P_IMPORT_TYPE'].values)\n",
        "data['P_PURPOSE']=le.fit_transform(data['P_PURPOSE'].values)"
      ],
      "execution_count": null,
      "outputs": []
    },
    {
      "cell_type": "code",
      "metadata": {
        "colab": {
          "base_uri": "https://localhost:8080/",
          "height": 203
        },
        "id": "BMBlVBVYf4Gf",
        "outputId": "f2d1d32e-42e3-4f77-9a7f-e4e131134014"
      },
      "source": [
        "data.head()"
      ],
      "execution_count": null,
      "outputs": [
        {
          "output_type": "execute_result",
          "data": {
            "text/html": [
              "<div>\n",
              "<style scoped>\n",
              "    .dataframe tbody tr th:only-of-type {\n",
              "        vertical-align: middle;\n",
              "    }\n",
              "\n",
              "    .dataframe tbody tr th {\n",
              "        vertical-align: top;\n",
              "    }\n",
              "\n",
              "    .dataframe thead th {\n",
              "        text-align: right;\n",
              "    }\n",
              "</style>\n",
              "<table border=\"1\" class=\"dataframe\">\n",
              "  <thead>\n",
              "    <tr style=\"text-align: right;\">\n",
              "      <th></th>\n",
              "      <th>REG_DATE</th>\n",
              "      <th>CTRY_1</th>\n",
              "      <th>CTRY_2</th>\n",
              "      <th>P_PURPOSE</th>\n",
              "      <th>CATEGORY_1</th>\n",
              "      <th>CATEGORY_2</th>\n",
              "      <th>P_NAME</th>\n",
              "      <th>P_IMPORT_TYPE</th>\n",
              "      <th>P_PRICE</th>\n",
              "      <th>Year</th>\n",
              "      <th>Month</th>\n",
              "      <th>Date</th>\n",
              "    </tr>\n",
              "  </thead>\n",
              "  <tbody>\n",
              "    <tr>\n",
              "      <th>0</th>\n",
              "      <td>2015-12-28</td>\n",
              "      <td>48</td>\n",
              "      <td>49</td>\n",
              "      <td>3</td>\n",
              "      <td>0</td>\n",
              "      <td>59</td>\n",
              "      <td>172</td>\n",
              "      <td>8</td>\n",
              "      <td>7.480000</td>\n",
              "      <td>2015</td>\n",
              "      <td>12</td>\n",
              "      <td>28</td>\n",
              "    </tr>\n",
              "    <tr>\n",
              "      <th>1</th>\n",
              "      <td>2015-12-28</td>\n",
              "      <td>30</td>\n",
              "      <td>29</td>\n",
              "      <td>3</td>\n",
              "      <td>0</td>\n",
              "      <td>10</td>\n",
              "      <td>48</td>\n",
              "      <td>8</td>\n",
              "      <td>2.920000</td>\n",
              "      <td>2015</td>\n",
              "      <td>12</td>\n",
              "      <td>28</td>\n",
              "    </tr>\n",
              "    <tr>\n",
              "      <th>2</th>\n",
              "      <td>2015-12-28</td>\n",
              "      <td>30</td>\n",
              "      <td>29</td>\n",
              "      <td>3</td>\n",
              "      <td>0</td>\n",
              "      <td>10</td>\n",
              "      <td>48</td>\n",
              "      <td>51</td>\n",
              "      <td>3.356352</td>\n",
              "      <td>2015</td>\n",
              "      <td>12</td>\n",
              "      <td>28</td>\n",
              "    </tr>\n",
              "    <tr>\n",
              "      <th>3</th>\n",
              "      <td>2015-12-28</td>\n",
              "      <td>66</td>\n",
              "      <td>66</td>\n",
              "      <td>3</td>\n",
              "      <td>6</td>\n",
              "      <td>105</td>\n",
              "      <td>265</td>\n",
              "      <td>4</td>\n",
              "      <td>18.260870</td>\n",
              "      <td>2015</td>\n",
              "      <td>12</td>\n",
              "      <td>28</td>\n",
              "    </tr>\n",
              "    <tr>\n",
              "      <th>4</th>\n",
              "      <td>2015-12-28</td>\n",
              "      <td>65</td>\n",
              "      <td>64</td>\n",
              "      <td>3</td>\n",
              "      <td>3</td>\n",
              "      <td>61</td>\n",
              "      <td>158</td>\n",
              "      <td>8</td>\n",
              "      <td>4.791340</td>\n",
              "      <td>2015</td>\n",
              "      <td>12</td>\n",
              "      <td>28</td>\n",
              "    </tr>\n",
              "  </tbody>\n",
              "</table>\n",
              "</div>"
            ],
            "text/plain": [
              "    REG_DATE  CTRY_1  CTRY_2  P_PURPOSE  ...    P_PRICE  Year  Month  Date\n",
              "0 2015-12-28      48      49          3  ...   7.480000  2015     12    28\n",
              "1 2015-12-28      30      29          3  ...   2.920000  2015     12    28\n",
              "2 2015-12-28      30      29          3  ...   3.356352  2015     12    28\n",
              "3 2015-12-28      66      66          3  ...  18.260870  2015     12    28\n",
              "4 2015-12-28      65      64          3  ...   4.791340  2015     12    28\n",
              "\n",
              "[5 rows x 12 columns]"
            ]
          },
          "metadata": {
            "tags": []
          },
          "execution_count": 26
        }
      ]
    },
    {
      "cell_type": "code",
      "metadata": {
        "colab": {
          "base_uri": "https://localhost:8080/",
          "height": 203
        },
        "id": "tUDxHs4fzW4O",
        "outputId": "de04a6c2-2d08-4fe6-8537-dcb993f98bd2"
      },
      "source": [
        "y=data['P_PRICE']\n",
        "data=data.drop(axis=1,columns=['REG_DATE','P_PRICE'])\n",
        "data.head(5)"
      ],
      "execution_count": null,
      "outputs": [
        {
          "output_type": "execute_result",
          "data": {
            "text/html": [
              "<div>\n",
              "<style scoped>\n",
              "    .dataframe tbody tr th:only-of-type {\n",
              "        vertical-align: middle;\n",
              "    }\n",
              "\n",
              "    .dataframe tbody tr th {\n",
              "        vertical-align: top;\n",
              "    }\n",
              "\n",
              "    .dataframe thead th {\n",
              "        text-align: right;\n",
              "    }\n",
              "</style>\n",
              "<table border=\"1\" class=\"dataframe\">\n",
              "  <thead>\n",
              "    <tr style=\"text-align: right;\">\n",
              "      <th></th>\n",
              "      <th>CTRY_1</th>\n",
              "      <th>CTRY_2</th>\n",
              "      <th>P_PURPOSE</th>\n",
              "      <th>CATEGORY_1</th>\n",
              "      <th>CATEGORY_2</th>\n",
              "      <th>P_NAME</th>\n",
              "      <th>P_IMPORT_TYPE</th>\n",
              "      <th>Year</th>\n",
              "      <th>Month</th>\n",
              "      <th>Date</th>\n",
              "    </tr>\n",
              "  </thead>\n",
              "  <tbody>\n",
              "    <tr>\n",
              "      <th>0</th>\n",
              "      <td>48</td>\n",
              "      <td>49</td>\n",
              "      <td>3</td>\n",
              "      <td>0</td>\n",
              "      <td>59</td>\n",
              "      <td>172</td>\n",
              "      <td>8</td>\n",
              "      <td>2015</td>\n",
              "      <td>12</td>\n",
              "      <td>28</td>\n",
              "    </tr>\n",
              "    <tr>\n",
              "      <th>1</th>\n",
              "      <td>30</td>\n",
              "      <td>29</td>\n",
              "      <td>3</td>\n",
              "      <td>0</td>\n",
              "      <td>10</td>\n",
              "      <td>48</td>\n",
              "      <td>8</td>\n",
              "      <td>2015</td>\n",
              "      <td>12</td>\n",
              "      <td>28</td>\n",
              "    </tr>\n",
              "    <tr>\n",
              "      <th>2</th>\n",
              "      <td>30</td>\n",
              "      <td>29</td>\n",
              "      <td>3</td>\n",
              "      <td>0</td>\n",
              "      <td>10</td>\n",
              "      <td>48</td>\n",
              "      <td>51</td>\n",
              "      <td>2015</td>\n",
              "      <td>12</td>\n",
              "      <td>28</td>\n",
              "    </tr>\n",
              "    <tr>\n",
              "      <th>3</th>\n",
              "      <td>66</td>\n",
              "      <td>66</td>\n",
              "      <td>3</td>\n",
              "      <td>6</td>\n",
              "      <td>105</td>\n",
              "      <td>265</td>\n",
              "      <td>4</td>\n",
              "      <td>2015</td>\n",
              "      <td>12</td>\n",
              "      <td>28</td>\n",
              "    </tr>\n",
              "    <tr>\n",
              "      <th>4</th>\n",
              "      <td>65</td>\n",
              "      <td>64</td>\n",
              "      <td>3</td>\n",
              "      <td>3</td>\n",
              "      <td>61</td>\n",
              "      <td>158</td>\n",
              "      <td>8</td>\n",
              "      <td>2015</td>\n",
              "      <td>12</td>\n",
              "      <td>28</td>\n",
              "    </tr>\n",
              "  </tbody>\n",
              "</table>\n",
              "</div>"
            ],
            "text/plain": [
              "   CTRY_1  CTRY_2  P_PURPOSE  CATEGORY_1  ...  P_IMPORT_TYPE  Year  Month Date\n",
              "0      48      49          3           0  ...              8  2015     12   28\n",
              "1      30      29          3           0  ...              8  2015     12   28\n",
              "2      30      29          3           0  ...             51  2015     12   28\n",
              "3      66      66          3           6  ...              4  2015     12   28\n",
              "4      65      64          3           3  ...              8  2015     12   28\n",
              "\n",
              "[5 rows x 10 columns]"
            ]
          },
          "metadata": {
            "tags": []
          },
          "execution_count": 27
        }
      ]
    },
    {
      "cell_type": "code",
      "metadata": {
        "colab": {
          "base_uri": "https://localhost:8080/",
          "height": 282
        },
        "id": "GFAuOl-48mp1",
        "outputId": "20f17b79-32f7-4696-8b93-bee05f7a7297"
      },
      "source": [
        "data['Year'].hist(bins=5)"
      ],
      "execution_count": null,
      "outputs": [
        {
          "output_type": "execute_result",
          "data": {
            "text/plain": [
              "<matplotlib.axes._subplots.AxesSubplot at 0x7faca592fe90>"
            ]
          },
          "metadata": {
            "tags": []
          },
          "execution_count": 28
        },
        {
          "output_type": "display_data",
          "data": {
            "image/png": "[encoded data removed]",
            "text/plain": [
              "<Figure size 432x288 with 1 Axes>"
            ]
          },
          "metadata": {
            "tags": [],
            "needs_background": "light"
          }
        }
      ]
    },
    {
      "cell_type": "code",
      "metadata": {
        "colab": {
          "base_uri": "https://localhost:8080/",
          "height": 282
        },
        "id": "X0zrd8rE9O3X",
        "outputId": "fc842e99-a97f-4744-8e96-553c53fc8ad6"
      },
      "source": [
        "data['Month'].hist(bins=12)"
      ],
      "execution_count": null,
      "outputs": [
        {
          "output_type": "execute_result",
          "data": {
            "text/plain": [
              "<matplotlib.axes._subplots.AxesSubplot at 0x7facba22bdd0>"
            ]
          },
          "metadata": {
            "tags": []
          },
          "execution_count": 29
        },
        {
          "output_type": "display_data",
          "data": {
            "image/png": "[encoded data removed]",
            "text/plain": [
              "<Figure size 432x288 with 1 Axes>"
            ]
          },
          "metadata": {
            "tags": [],
            "needs_background": "light"
          }
        }
      ]
    },
    {
      "cell_type": "code",
      "metadata": {
        "colab": {
          "base_uri": "https://localhost:8080/",
          "height": 282
        },
        "id": "bnQcXrQF9Reb",
        "outputId": "f5bb31f0-7716-403a-b55c-459d39068d9e"
      },
      "source": [
        "data['Date'].hist(bins=31)"
      ],
      "execution_count": null,
      "outputs": [
        {
          "output_type": "execute_result",
          "data": {
            "text/plain": [
              "<matplotlib.axes._subplots.AxesSubplot at 0x7faca58d5090>"
            ]
          },
          "metadata": {
            "tags": []
          },
          "execution_count": 30
        },
        {
          "output_type": "display_data",
          "data": {
            "image/png": "[encoded data removed]",
            "text/plain": [
              "<Figure size 432x288 with 1 Axes>"
            ]
          },
          "metadata": {
            "tags": [],
            "needs_background": "light"
          }
        }
      ]
    },
    {
      "cell_type": "markdown",
      "metadata": {
        "id": "lR2APxPZ9dld"
      },
      "source": [
        "---"
      ]
    },
    {
      "cell_type": "code",
      "metadata": {
        "id": "K8bEwcbw41Td"
      },
      "source": [
        "from sklearn.model_selection import train_test_split\n",
        "x_train, x_test, y_train, y_test = train_test_split(data, y, test_size=0.15, random_state=42)"
      ],
      "execution_count": null,
      "outputs": []
    },
    {
      "cell_type": "code",
      "metadata": {
        "id": "-C_cNEni5xOy"
      },
      "source": [
        "from sklearn.linear_model import LinearRegression\n",
        "clf = LinearRegression()\n",
        "clf.fit(x_train,y_train)\n",
        "y_pred=clf.predict(x_test)"
      ],
      "execution_count": null,
      "outputs": []
    },
    {
      "cell_type": "code",
      "metadata": {
        "id": "bPshK1oE6F_Y",
        "colab": {
          "base_uri": "https://localhost:8080/"
        },
        "outputId": "2fc97452-98f4-433a-f354-7ce571ef46fc"
      },
      "source": [
        "clf.score(x_train,y_train)"
      ],
      "execution_count": null,
      "outputs": [
        {
          "output_type": "execute_result",
          "data": {
            "text/plain": [
              "0.04999585641431381"
            ]
          },
          "metadata": {
            "tags": []
          },
          "execution_count": 35
        }
      ]
    },
    {
      "cell_type": "code",
      "metadata": {
        "colab": {
          "base_uri": "https://localhost:8080/"
        },
        "id": "lSTXs91PgeFW",
        "outputId": "e3318ba9-682f-408e-82d5-0042adecddd5"
      },
      "source": [
        "clf.score(x_test,y_test)"
      ],
      "execution_count": null,
      "outputs": [
        {
          "output_type": "execute_result",
          "data": {
            "text/plain": [
              "0.0694376623436731"
            ]
          },
          "metadata": {
            "tags": []
          },
          "execution_count": 36
        }
      ]
    },
    {
      "cell_type": "code",
      "metadata": {
        "id": "un_pFxJgglOo"
      },
      "source": [
        ""
      ],
      "execution_count": null,
      "outputs": []
    }
  ]
}
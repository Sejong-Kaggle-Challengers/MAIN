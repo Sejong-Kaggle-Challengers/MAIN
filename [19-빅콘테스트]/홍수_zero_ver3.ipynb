{
  "nbformat": 4,
  "nbformat_minor": 0,
  "metadata": {
    "colab": {
      "name": "홍수 zero_ver3",
      "provenance": [],
      "collapsed_sections": [
        "cXFmKEngUD3v",
        "5NrXeW23iWU2",
        "ejlX1SVwiZjH",
        "T2iLOyIKibOU",
        "XyV5gRAiokvu",
        "ZvC6jsTe5T-R"
      ]
    },
    "kernelspec": {
      "name": "python3",
      "display_name": "Python 3"
    },
    "language_info": {
      "name": "python"
    }
  },
  "cells": [
    {
      "cell_type": "markdown",
      "metadata": {
        "id": "z4Q_em1Gk9jA"
      },
      "source": [
        "##Data Import"
      ]
    },
    {
      "cell_type": "code",
      "metadata": {
        "id": "J0oIlBtKSqFO"
      },
      "source": [
        "import numpy as np\n",
        "import pandas as pd\n",
        "import matplotlib.pyplot as plt\n",
        "from sklearn.metrics import mean_squared_error\n",
        "\n",
        "train=pd.read_excel(\"2021 빅콘테스트_데이터분석분야_퓨처스리그_홍수ZERO_댐유입량,강우,수위데이터_210803.xlsx\")\n",
        "test=pd.read_excel(\"2021 빅콘테스트_데이터분석분야_퓨처스리그_홍수ZERO_평가데이터_210803.xlsx\")"
      ],
      "execution_count": null,
      "outputs": []
    },
    {
      "cell_type": "code",
      "metadata": {
        "colab": {
          "base_uri": "https://localhost:8080/",
          "height": 394
        },
        "id": "JNQoSY1EU7Yu",
        "outputId": "8b2b6528-737f-41d5-941e-69214d118f4a"
      },
      "source": [
        "train.head()"
      ],
      "execution_count": null,
      "outputs": [
        {
          "output_type": "execute_result",
          "data": {
            "text/html": [
              "<div>\n",
              "<style scoped>\n",
              "    .dataframe tbody tr th:only-of-type {\n",
              "        vertical-align: middle;\n",
              "    }\n",
              "\n",
              "    .dataframe tbody tr th {\n",
              "        vertical-align: top;\n",
              "    }\n",
              "\n",
              "    .dataframe thead th {\n",
              "        text-align: right;\n",
              "    }\n",
              "</style>\n",
              "<table border=\"1\" class=\"dataframe\">\n",
              "  <thead>\n",
              "    <tr style=\"text-align: right;\">\n",
              "      <th></th>\n",
              "      <th>홍수사상번호</th>\n",
              "      <th>연</th>\n",
              "      <th>월</th>\n",
              "      <th>일</th>\n",
              "      <th>시간</th>\n",
              "      <th>유입량</th>\n",
              "      <th>데이터집단 1</th>\n",
              "      <th>Unnamed: 7</th>\n",
              "      <th>Unnamed: 8</th>\n",
              "      <th>Unnamed: 9</th>\n",
              "      <th>Unnamed: 10</th>\n",
              "      <th>Unnamed: 11</th>\n",
              "      <th>Unnamed: 12</th>\n",
              "      <th>데이터집단 2</th>\n",
              "      <th>Unnamed: 14</th>\n",
              "      <th>Unnamed: 15</th>\n",
              "      <th>Unnamed: 16</th>\n",
              "      <th>Unnamed: 17</th>\n",
              "      <th>Unnamed: 18</th>\n",
              "      <th>Unnamed: 19</th>\n",
              "      <th>데이터집단 3</th>\n",
              "      <th>Unnamed: 21</th>\n",
              "      <th>Unnamed: 22</th>\n",
              "      <th>Unnamed: 23</th>\n",
              "      <th>Unnamed: 24</th>\n",
              "      <th>Unnamed: 25</th>\n",
              "      <th>Unnamed: 26</th>\n",
              "      <th>데이터 집단 4</th>\n",
              "      <th>Unnamed: 28</th>\n",
              "      <th>Unnamed: 29</th>\n",
              "      <th>Unnamed: 30</th>\n",
              "      <th>Unnamed: 31</th>\n",
              "      <th>Unnamed: 32</th>\n",
              "      <th>Unnamed: 33</th>\n",
              "      <th>데이터 집단 5</th>\n",
              "      <th>Unnamed: 35</th>\n",
              "      <th>Unnamed: 36</th>\n",
              "      <th>Unnamed: 37</th>\n",
              "      <th>Unnamed: 38</th>\n",
              "      <th>Unnamed: 39</th>\n",
              "      <th>Unnamed: 40</th>\n",
              "      <th>데이터 집단 6</th>\n",
              "      <th>Unnamed: 42</th>\n",
              "      <th>Unnamed: 43</th>\n",
              "      <th>Unnamed: 44</th>\n",
              "      <th>Unnamed: 45</th>\n",
              "      <th>Unnamed: 46</th>\n",
              "      <th>Unnamed: 47</th>\n",
              "    </tr>\n",
              "  </thead>\n",
              "  <tbody>\n",
              "    <tr>\n",
              "      <th>0</th>\n",
              "      <td>NaN</td>\n",
              "      <td>NaN</td>\n",
              "      <td>NaN</td>\n",
              "      <td>NaN</td>\n",
              "      <td>NaN</td>\n",
              "      <td>NaN</td>\n",
              "      <td>유역평균강수</td>\n",
              "      <td>강우(A지역)</td>\n",
              "      <td>강우(B지역)</td>\n",
              "      <td>강우(C지역)</td>\n",
              "      <td>강우(D지역)</td>\n",
              "      <td>수위(E지역)</td>\n",
              "      <td>수위(D지역)</td>\n",
              "      <td>유역평균강수</td>\n",
              "      <td>강우(A지역)</td>\n",
              "      <td>강우(B지역)</td>\n",
              "      <td>강우(C지역)</td>\n",
              "      <td>강우(D지역)</td>\n",
              "      <td>수위(E지역)</td>\n",
              "      <td>수위(D지역)</td>\n",
              "      <td>유역평균강수</td>\n",
              "      <td>강우(A지역)</td>\n",
              "      <td>강우(B지역)</td>\n",
              "      <td>강우(C지역)</td>\n",
              "      <td>강우(D지역)</td>\n",
              "      <td>수위(E지역)</td>\n",
              "      <td>수위(D지역)</td>\n",
              "      <td>유역평균강수</td>\n",
              "      <td>강우(A지역)</td>\n",
              "      <td>강우(B지역)</td>\n",
              "      <td>강우(C지역)</td>\n",
              "      <td>강우(D지역)</td>\n",
              "      <td>수위(E지역)</td>\n",
              "      <td>수위(D지역)</td>\n",
              "      <td>유역평균강수</td>\n",
              "      <td>강우(A지역)</td>\n",
              "      <td>강우(B지역)</td>\n",
              "      <td>강우(C지역)</td>\n",
              "      <td>강우(D지역)</td>\n",
              "      <td>수위(E지역)</td>\n",
              "      <td>수위(D지역)</td>\n",
              "      <td>유역평균강수</td>\n",
              "      <td>강우(A지역)</td>\n",
              "      <td>강우(B지역)</td>\n",
              "      <td>강우(C지역)</td>\n",
              "      <td>강우(D지역)</td>\n",
              "      <td>수위(E지역)</td>\n",
              "      <td>수위(D지역)</td>\n",
              "    </tr>\n",
              "    <tr>\n",
              "      <th>1</th>\n",
              "      <td>1.0</td>\n",
              "      <td>2006.0</td>\n",
              "      <td>7.0</td>\n",
              "      <td>10.0</td>\n",
              "      <td>8.0</td>\n",
              "      <td>189.100000</td>\n",
              "      <td>6.4</td>\n",
              "      <td>7</td>\n",
              "      <td>7</td>\n",
              "      <td>7</td>\n",
              "      <td>8</td>\n",
              "      <td>2.54</td>\n",
              "      <td>122.569</td>\n",
              "      <td>6.3</td>\n",
              "      <td>7</td>\n",
              "      <td>7</td>\n",
              "      <td>7</td>\n",
              "      <td>8</td>\n",
              "      <td>2.54</td>\n",
              "      <td>122.542</td>\n",
              "      <td>6.3</td>\n",
              "      <td>7</td>\n",
              "      <td>7</td>\n",
              "      <td>7</td>\n",
              "      <td>8</td>\n",
              "      <td>2.54</td>\n",
              "      <td>122.55</td>\n",
              "      <td>6.4</td>\n",
              "      <td>7</td>\n",
              "      <td>7</td>\n",
              "      <td>8</td>\n",
              "      <td>8</td>\n",
              "      <td>2.54</td>\n",
              "      <td>122.675</td>\n",
              "      <td>6.4</td>\n",
              "      <td>7</td>\n",
              "      <td>7</td>\n",
              "      <td>8</td>\n",
              "      <td>8</td>\n",
              "      <td>2.54</td>\n",
              "      <td>122.66</td>\n",
              "      <td>6.4</td>\n",
              "      <td>7</td>\n",
              "      <td>7</td>\n",
              "      <td>8</td>\n",
              "      <td>8</td>\n",
              "      <td>2.54</td>\n",
              "      <td>122.61</td>\n",
              "    </tr>\n",
              "    <tr>\n",
              "      <th>2</th>\n",
              "      <td>1.0</td>\n",
              "      <td>2006.0</td>\n",
              "      <td>7.0</td>\n",
              "      <td>10.0</td>\n",
              "      <td>9.0</td>\n",
              "      <td>216.951962</td>\n",
              "      <td>6.3</td>\n",
              "      <td>7</td>\n",
              "      <td>8</td>\n",
              "      <td>7</td>\n",
              "      <td>8</td>\n",
              "      <td>2.53</td>\n",
              "      <td>122.562</td>\n",
              "      <td>6.4</td>\n",
              "      <td>7</td>\n",
              "      <td>8</td>\n",
              "      <td>7</td>\n",
              "      <td>8</td>\n",
              "      <td>2.53</td>\n",
              "      <td>122.55</td>\n",
              "      <td>6.4</td>\n",
              "      <td>7</td>\n",
              "      <td>8</td>\n",
              "      <td>7</td>\n",
              "      <td>8</td>\n",
              "      <td>2.53</td>\n",
              "      <td>122.558</td>\n",
              "      <td>7.3</td>\n",
              "      <td>7</td>\n",
              "      <td>8</td>\n",
              "      <td>10</td>\n",
              "      <td>10</td>\n",
              "      <td>2.53</td>\n",
              "      <td>122.668</td>\n",
              "      <td>7.3</td>\n",
              "      <td>7</td>\n",
              "      <td>8</td>\n",
              "      <td>10</td>\n",
              "      <td>10</td>\n",
              "      <td>2.53</td>\n",
              "      <td>122.648</td>\n",
              "      <td>7.3</td>\n",
              "      <td>7</td>\n",
              "      <td>8</td>\n",
              "      <td>10</td>\n",
              "      <td>10</td>\n",
              "      <td>2.53</td>\n",
              "      <td>122.6</td>\n",
              "    </tr>\n",
              "    <tr>\n",
              "      <th>3</th>\n",
              "      <td>1.0</td>\n",
              "      <td>2006.0</td>\n",
              "      <td>7.0</td>\n",
              "      <td>10.0</td>\n",
              "      <td>10.0</td>\n",
              "      <td>251.424419</td>\n",
              "      <td>6.4</td>\n",
              "      <td>7</td>\n",
              "      <td>9</td>\n",
              "      <td>7</td>\n",
              "      <td>8</td>\n",
              "      <td>2.53</td>\n",
              "      <td>122.556</td>\n",
              "      <td>7.3</td>\n",
              "      <td>7</td>\n",
              "      <td>9</td>\n",
              "      <td>7</td>\n",
              "      <td>8</td>\n",
              "      <td>2.53</td>\n",
              "      <td>122.558</td>\n",
              "      <td>7.3</td>\n",
              "      <td>7</td>\n",
              "      <td>9</td>\n",
              "      <td>8</td>\n",
              "      <td>8</td>\n",
              "      <td>2.53</td>\n",
              "      <td>122.567</td>\n",
              "      <td>8.2</td>\n",
              "      <td>7</td>\n",
              "      <td>9</td>\n",
              "      <td>10</td>\n",
              "      <td>11</td>\n",
              "      <td>2.53</td>\n",
              "      <td>122.661</td>\n",
              "      <td>8.2</td>\n",
              "      <td>7</td>\n",
              "      <td>9</td>\n",
              "      <td>10</td>\n",
              "      <td>11</td>\n",
              "      <td>2.53</td>\n",
              "      <td>122.636</td>\n",
              "      <td>8.2</td>\n",
              "      <td>7</td>\n",
              "      <td>9</td>\n",
              "      <td>10</td>\n",
              "      <td>11</td>\n",
              "      <td>2.53</td>\n",
              "      <td>122.59</td>\n",
              "    </tr>\n",
              "    <tr>\n",
              "      <th>4</th>\n",
              "      <td>1.0</td>\n",
              "      <td>2006.0</td>\n",
              "      <td>7.0</td>\n",
              "      <td>10.0</td>\n",
              "      <td>11.0</td>\n",
              "      <td>302.812199</td>\n",
              "      <td>7.3</td>\n",
              "      <td>7</td>\n",
              "      <td>10</td>\n",
              "      <td>7</td>\n",
              "      <td>8</td>\n",
              "      <td>2.53</td>\n",
              "      <td>122.556</td>\n",
              "      <td>8.2</td>\n",
              "      <td>7</td>\n",
              "      <td>10</td>\n",
              "      <td>8</td>\n",
              "      <td>8</td>\n",
              "      <td>2.53</td>\n",
              "      <td>122.567</td>\n",
              "      <td>8.2</td>\n",
              "      <td>7</td>\n",
              "      <td>10</td>\n",
              "      <td>10</td>\n",
              "      <td>10</td>\n",
              "      <td>2.53</td>\n",
              "      <td>122.575</td>\n",
              "      <td>11.3</td>\n",
              "      <td>9</td>\n",
              "      <td>10</td>\n",
              "      <td>15</td>\n",
              "      <td>14</td>\n",
              "      <td>2.53</td>\n",
              "      <td>122.654</td>\n",
              "      <td>11.3</td>\n",
              "      <td>9</td>\n",
              "      <td>10</td>\n",
              "      <td>15</td>\n",
              "      <td>14</td>\n",
              "      <td>2.53</td>\n",
              "      <td>122.62</td>\n",
              "      <td>11.3</td>\n",
              "      <td>9</td>\n",
              "      <td>10</td>\n",
              "      <td>15</td>\n",
              "      <td>14</td>\n",
              "      <td>2.53</td>\n",
              "      <td>122.585</td>\n",
              "    </tr>\n",
              "  </tbody>\n",
              "</table>\n",
              "</div>"
            ],
            "text/plain": [
              "   홍수사상번호       연    월     일  ...  Unnamed: 44  Unnamed: 45 Unnamed: 46 Unnamed: 47\n",
              "0     NaN     NaN  NaN   NaN  ...      강우(C지역)      강우(D지역)     수위(E지역)     수위(D지역)\n",
              "1     1.0  2006.0  7.0  10.0  ...            8            8        2.54      122.61\n",
              "2     1.0  2006.0  7.0  10.0  ...           10           10        2.53       122.6\n",
              "3     1.0  2006.0  7.0  10.0  ...           10           11        2.53      122.59\n",
              "4     1.0  2006.0  7.0  10.0  ...           15           14        2.53     122.585\n",
              "\n",
              "[5 rows x 48 columns]"
            ]
          },
          "metadata": {},
          "execution_count": 80
        }
      ]
    },
    {
      "cell_type": "code",
      "metadata": {
        "id": "3FNtN8XIbEQ3"
      },
      "source": [
        "train=train.drop(labels=0,axis=0)\n",
        "column=['홍수사상번호','연','월','일','시간','유입량','1유역평균강수','1강우A','1강우B','1강우C','1강우D','1수위E','1수위D','2유역평균강수','2강우A','2강우B','2강우C','2강우D','2수위E','2수위D','3유역평균강수','3강우A','3강우B','3강우C','3강우D','3수위E','3수위D','4유역평균강수','4강우A','4강우B','4강우C','4강우D','4수위E','4수위D','5유역평균강수','5강우A','5강우B','5강우C','5강우D','5수위E','5수위D','6유역평균강수','6강우A','6강우B','6강우C','6강우D','6수위E','6수위D']\n",
        "train.columns=column"
      ],
      "execution_count": null,
      "outputs": []
    },
    {
      "cell_type": "code",
      "metadata": {
        "colab": {
          "base_uri": "https://localhost:8080/",
          "height": 264
        },
        "id": "4SJBxCFIVEH8",
        "outputId": "5596b180-bc32-40c9-e6d1-bae77faf257e"
      },
      "source": [
        "train.head(3)"
      ],
      "execution_count": null,
      "outputs": [
        {
          "output_type": "execute_result",
          "data": {
            "text/html": [
              "<div>\n",
              "<style scoped>\n",
              "    .dataframe tbody tr th:only-of-type {\n",
              "        vertical-align: middle;\n",
              "    }\n",
              "\n",
              "    .dataframe tbody tr th {\n",
              "        vertical-align: top;\n",
              "    }\n",
              "\n",
              "    .dataframe thead th {\n",
              "        text-align: right;\n",
              "    }\n",
              "</style>\n",
              "<table border=\"1\" class=\"dataframe\">\n",
              "  <thead>\n",
              "    <tr style=\"text-align: right;\">\n",
              "      <th></th>\n",
              "      <th>홍수사상번호</th>\n",
              "      <th>연</th>\n",
              "      <th>월</th>\n",
              "      <th>일</th>\n",
              "      <th>시간</th>\n",
              "      <th>유입량</th>\n",
              "      <th>1유역평균강수</th>\n",
              "      <th>1강우A</th>\n",
              "      <th>1강우B</th>\n",
              "      <th>1강우C</th>\n",
              "      <th>1강우D</th>\n",
              "      <th>1수위E</th>\n",
              "      <th>1수위D</th>\n",
              "      <th>2유역평균강수</th>\n",
              "      <th>2강우A</th>\n",
              "      <th>2강우B</th>\n",
              "      <th>2강우C</th>\n",
              "      <th>2강우D</th>\n",
              "      <th>2수위E</th>\n",
              "      <th>2수위D</th>\n",
              "      <th>3유역평균강수</th>\n",
              "      <th>3강우A</th>\n",
              "      <th>3강우B</th>\n",
              "      <th>3강우C</th>\n",
              "      <th>3강우D</th>\n",
              "      <th>3수위E</th>\n",
              "      <th>3수위D</th>\n",
              "      <th>4유역평균강수</th>\n",
              "      <th>4강우A</th>\n",
              "      <th>4강우B</th>\n",
              "      <th>4강우C</th>\n",
              "      <th>4강우D</th>\n",
              "      <th>4수위E</th>\n",
              "      <th>4수위D</th>\n",
              "      <th>5유역평균강수</th>\n",
              "      <th>5강우A</th>\n",
              "      <th>5강우B</th>\n",
              "      <th>5강우C</th>\n",
              "      <th>5강우D</th>\n",
              "      <th>5수위E</th>\n",
              "      <th>5수위D</th>\n",
              "      <th>6유역평균강수</th>\n",
              "      <th>6강우A</th>\n",
              "      <th>6강우B</th>\n",
              "      <th>6강우C</th>\n",
              "      <th>6강우D</th>\n",
              "      <th>6수위E</th>\n",
              "      <th>6수위D</th>\n",
              "    </tr>\n",
              "  </thead>\n",
              "  <tbody>\n",
              "    <tr>\n",
              "      <th>1</th>\n",
              "      <td>1.0</td>\n",
              "      <td>2006.0</td>\n",
              "      <td>7.0</td>\n",
              "      <td>10.0</td>\n",
              "      <td>8.0</td>\n",
              "      <td>189.100000</td>\n",
              "      <td>6.4</td>\n",
              "      <td>7</td>\n",
              "      <td>7</td>\n",
              "      <td>7</td>\n",
              "      <td>8</td>\n",
              "      <td>2.54</td>\n",
              "      <td>122.569</td>\n",
              "      <td>6.3</td>\n",
              "      <td>7</td>\n",
              "      <td>7</td>\n",
              "      <td>7</td>\n",
              "      <td>8</td>\n",
              "      <td>2.54</td>\n",
              "      <td>122.542</td>\n",
              "      <td>6.3</td>\n",
              "      <td>7</td>\n",
              "      <td>7</td>\n",
              "      <td>7</td>\n",
              "      <td>8</td>\n",
              "      <td>2.54</td>\n",
              "      <td>122.55</td>\n",
              "      <td>6.4</td>\n",
              "      <td>7</td>\n",
              "      <td>7</td>\n",
              "      <td>8</td>\n",
              "      <td>8</td>\n",
              "      <td>2.54</td>\n",
              "      <td>122.675</td>\n",
              "      <td>6.4</td>\n",
              "      <td>7</td>\n",
              "      <td>7</td>\n",
              "      <td>8</td>\n",
              "      <td>8</td>\n",
              "      <td>2.54</td>\n",
              "      <td>122.66</td>\n",
              "      <td>6.4</td>\n",
              "      <td>7</td>\n",
              "      <td>7</td>\n",
              "      <td>8</td>\n",
              "      <td>8</td>\n",
              "      <td>2.54</td>\n",
              "      <td>122.61</td>\n",
              "    </tr>\n",
              "    <tr>\n",
              "      <th>2</th>\n",
              "      <td>1.0</td>\n",
              "      <td>2006.0</td>\n",
              "      <td>7.0</td>\n",
              "      <td>10.0</td>\n",
              "      <td>9.0</td>\n",
              "      <td>216.951962</td>\n",
              "      <td>6.3</td>\n",
              "      <td>7</td>\n",
              "      <td>8</td>\n",
              "      <td>7</td>\n",
              "      <td>8</td>\n",
              "      <td>2.53</td>\n",
              "      <td>122.562</td>\n",
              "      <td>6.4</td>\n",
              "      <td>7</td>\n",
              "      <td>8</td>\n",
              "      <td>7</td>\n",
              "      <td>8</td>\n",
              "      <td>2.53</td>\n",
              "      <td>122.55</td>\n",
              "      <td>6.4</td>\n",
              "      <td>7</td>\n",
              "      <td>8</td>\n",
              "      <td>7</td>\n",
              "      <td>8</td>\n",
              "      <td>2.53</td>\n",
              "      <td>122.558</td>\n",
              "      <td>7.3</td>\n",
              "      <td>7</td>\n",
              "      <td>8</td>\n",
              "      <td>10</td>\n",
              "      <td>10</td>\n",
              "      <td>2.53</td>\n",
              "      <td>122.668</td>\n",
              "      <td>7.3</td>\n",
              "      <td>7</td>\n",
              "      <td>8</td>\n",
              "      <td>10</td>\n",
              "      <td>10</td>\n",
              "      <td>2.53</td>\n",
              "      <td>122.648</td>\n",
              "      <td>7.3</td>\n",
              "      <td>7</td>\n",
              "      <td>8</td>\n",
              "      <td>10</td>\n",
              "      <td>10</td>\n",
              "      <td>2.53</td>\n",
              "      <td>122.6</td>\n",
              "    </tr>\n",
              "    <tr>\n",
              "      <th>3</th>\n",
              "      <td>1.0</td>\n",
              "      <td>2006.0</td>\n",
              "      <td>7.0</td>\n",
              "      <td>10.0</td>\n",
              "      <td>10.0</td>\n",
              "      <td>251.424419</td>\n",
              "      <td>6.4</td>\n",
              "      <td>7</td>\n",
              "      <td>9</td>\n",
              "      <td>7</td>\n",
              "      <td>8</td>\n",
              "      <td>2.53</td>\n",
              "      <td>122.556</td>\n",
              "      <td>7.3</td>\n",
              "      <td>7</td>\n",
              "      <td>9</td>\n",
              "      <td>7</td>\n",
              "      <td>8</td>\n",
              "      <td>2.53</td>\n",
              "      <td>122.558</td>\n",
              "      <td>7.3</td>\n",
              "      <td>7</td>\n",
              "      <td>9</td>\n",
              "      <td>8</td>\n",
              "      <td>8</td>\n",
              "      <td>2.53</td>\n",
              "      <td>122.567</td>\n",
              "      <td>8.2</td>\n",
              "      <td>7</td>\n",
              "      <td>9</td>\n",
              "      <td>10</td>\n",
              "      <td>11</td>\n",
              "      <td>2.53</td>\n",
              "      <td>122.661</td>\n",
              "      <td>8.2</td>\n",
              "      <td>7</td>\n",
              "      <td>9</td>\n",
              "      <td>10</td>\n",
              "      <td>11</td>\n",
              "      <td>2.53</td>\n",
              "      <td>122.636</td>\n",
              "      <td>8.2</td>\n",
              "      <td>7</td>\n",
              "      <td>9</td>\n",
              "      <td>10</td>\n",
              "      <td>11</td>\n",
              "      <td>2.53</td>\n",
              "      <td>122.59</td>\n",
              "    </tr>\n",
              "  </tbody>\n",
              "</table>\n",
              "</div>"
            ],
            "text/plain": [
              "   홍수사상번호       연    월     일    시간  ...  6강우B 6강우C 6강우D  6수위E    6수위D\n",
              "1     1.0  2006.0  7.0  10.0   8.0  ...     7    8    8  2.54  122.61\n",
              "2     1.0  2006.0  7.0  10.0   9.0  ...     8   10   10  2.53   122.6\n",
              "3     1.0  2006.0  7.0  10.0  10.0  ...     9   10   11  2.53  122.59\n",
              "\n",
              "[3 rows x 48 columns]"
            ]
          },
          "metadata": {},
          "execution_count": 82
        }
      ]
    },
    {
      "cell_type": "code",
      "metadata": {
        "colab": {
          "base_uri": "https://localhost:8080/"
        },
        "id": "PL7R5FAaasmC",
        "outputId": "7157e28c-9fab-42aa-c81e-7d1867688ca0"
      },
      "source": [
        "train.info()\n",
        "print(\"test 해야할 행 수 : \",3051-2891,\" == test 행 수\")"
      ],
      "execution_count": null,
      "outputs": [
        {
          "output_type": "stream",
          "text": [
            "<class 'pandas.core.frame.DataFrame'>\n",
            "Int64Index: 3051 entries, 1 to 3051\n",
            "Data columns (total 48 columns):\n",
            " #   Column   Non-Null Count  Dtype  \n",
            "---  ------   --------------  -----  \n",
            " 0   홍수사상번호   3051 non-null   float64\n",
            " 1   연        3051 non-null   float64\n",
            " 2   월        3051 non-null   float64\n",
            " 3   일        3051 non-null   float64\n",
            " 4   시간       3051 non-null   float64\n",
            " 5   유입량      2891 non-null   float64\n",
            " 6   1유역평균강수  3051 non-null   object \n",
            " 7   1강우A     3051 non-null   object \n",
            " 8   1강우B     3051 non-null   object \n",
            " 9   1강우C     3051 non-null   object \n",
            " 10  1강우D     3051 non-null   object \n",
            " 11  1수위E     3051 non-null   object \n",
            " 12  1수위D     3051 non-null   object \n",
            " 13  2유역평균강수  3051 non-null   object \n",
            " 14  2강우A     3051 non-null   object \n",
            " 15  2강우B     3051 non-null   object \n",
            " 16  2강우C     3051 non-null   object \n",
            " 17  2강우D     3051 non-null   object \n",
            " 18  2수위E     3051 non-null   object \n",
            " 19  2수위D     3051 non-null   object \n",
            " 20  3유역평균강수  3051 non-null   object \n",
            " 21  3강우A     3051 non-null   object \n",
            " 22  3강우B     3051 non-null   object \n",
            " 23  3강우C     3051 non-null   object \n",
            " 24  3강우D     3051 non-null   object \n",
            " 25  3수위E     3051 non-null   object \n",
            " 26  3수위D     3051 non-null   object \n",
            " 27  4유역평균강수  3051 non-null   object \n",
            " 28  4강우A     3051 non-null   object \n",
            " 29  4강우B     3051 non-null   object \n",
            " 30  4강우C     3051 non-null   object \n",
            " 31  4강우D     3051 non-null   object \n",
            " 32  4수위E     3051 non-null   object \n",
            " 33  4수위D     3051 non-null   object \n",
            " 34  5유역평균강수  3051 non-null   object \n",
            " 35  5강우A     3051 non-null   object \n",
            " 36  5강우B     3051 non-null   object \n",
            " 37  5강우C     3051 non-null   object \n",
            " 38  5강우D     3051 non-null   object \n",
            " 39  5수위E     3051 non-null   object \n",
            " 40  5수위D     3051 non-null   object \n",
            " 41  6유역평균강수  3051 non-null   object \n",
            " 42  6강우A     3051 non-null   object \n",
            " 43  6강우B     3051 non-null   object \n",
            " 44  6강우C     3051 non-null   object \n",
            " 45  6강우D     3051 non-null   object \n",
            " 46  6수위E     3051 non-null   object \n",
            " 47  6수위D     3051 non-null   object \n",
            "dtypes: float64(6), object(42)\n",
            "memory usage: 1.1+ MB\n",
            "test 해야할 행 수 :  160  == test 행 수\n"
          ],
          "name": "stdout"
        }
      ]
    },
    {
      "cell_type": "code",
      "metadata": {
        "colab": {
          "base_uri": "https://localhost:8080/",
          "height": 204
        },
        "id": "9_wiCOF-YsIV",
        "outputId": "1e6d639b-87ee-48a7-acf3-d3969a0d5da1"
      },
      "source": [
        "test.head()"
      ],
      "execution_count": null,
      "outputs": [
        {
          "output_type": "execute_result",
          "data": {
            "text/html": [
              "<div>\n",
              "<style scoped>\n",
              "    .dataframe tbody tr th:only-of-type {\n",
              "        vertical-align: middle;\n",
              "    }\n",
              "\n",
              "    .dataframe tbody tr th {\n",
              "        vertical-align: top;\n",
              "    }\n",
              "\n",
              "    .dataframe thead th {\n",
              "        text-align: right;\n",
              "    }\n",
              "</style>\n",
              "<table border=\"1\" class=\"dataframe\">\n",
              "  <thead>\n",
              "    <tr style=\"text-align: right;\">\n",
              "      <th></th>\n",
              "      <th>NO</th>\n",
              "      <th>홍수사상번호</th>\n",
              "      <th>연</th>\n",
              "      <th>월</th>\n",
              "      <th>일</th>\n",
              "      <th>시간</th>\n",
              "      <th>유입량</th>\n",
              "    </tr>\n",
              "  </thead>\n",
              "  <tbody>\n",
              "    <tr>\n",
              "      <th>0</th>\n",
              "      <td>NaN</td>\n",
              "      <td>NaN</td>\n",
              "      <td>NaN</td>\n",
              "      <td>NaN</td>\n",
              "      <td>NaN</td>\n",
              "      <td>NaN</td>\n",
              "      <td>NaN</td>\n",
              "    </tr>\n",
              "    <tr>\n",
              "      <th>1</th>\n",
              "      <td>1.0</td>\n",
              "      <td>26.0</td>\n",
              "      <td>2018.0</td>\n",
              "      <td>7.0</td>\n",
              "      <td>1.0</td>\n",
              "      <td>6.0</td>\n",
              "      <td>NaN</td>\n",
              "    </tr>\n",
              "    <tr>\n",
              "      <th>2</th>\n",
              "      <td>2.0</td>\n",
              "      <td>26.0</td>\n",
              "      <td>2018.0</td>\n",
              "      <td>7.0</td>\n",
              "      <td>1.0</td>\n",
              "      <td>7.0</td>\n",
              "      <td>NaN</td>\n",
              "    </tr>\n",
              "    <tr>\n",
              "      <th>3</th>\n",
              "      <td>3.0</td>\n",
              "      <td>26.0</td>\n",
              "      <td>2018.0</td>\n",
              "      <td>7.0</td>\n",
              "      <td>1.0</td>\n",
              "      <td>8.0</td>\n",
              "      <td>NaN</td>\n",
              "    </tr>\n",
              "    <tr>\n",
              "      <th>4</th>\n",
              "      <td>4.0</td>\n",
              "      <td>26.0</td>\n",
              "      <td>2018.0</td>\n",
              "      <td>7.0</td>\n",
              "      <td>1.0</td>\n",
              "      <td>9.0</td>\n",
              "      <td>NaN</td>\n",
              "    </tr>\n",
              "  </tbody>\n",
              "</table>\n",
              "</div>"
            ],
            "text/plain": [
              "    NO  홍수사상번호       연    월    일   시간  유입량\n",
              "0  NaN     NaN     NaN  NaN  NaN  NaN  NaN\n",
              "1  1.0    26.0  2018.0  7.0  1.0  6.0  NaN\n",
              "2  2.0    26.0  2018.0  7.0  1.0  7.0  NaN\n",
              "3  3.0    26.0  2018.0  7.0  1.0  8.0  NaN\n",
              "4  4.0    26.0  2018.0  7.0  1.0  9.0  NaN"
            ]
          },
          "metadata": {},
          "execution_count": 84
        }
      ]
    },
    {
      "cell_type": "code",
      "metadata": {
        "id": "4dX5ZUjNa1dC"
      },
      "source": [
        "test=test.drop(labels=0 ,axis=0)"
      ],
      "execution_count": null,
      "outputs": []
    },
    {
      "cell_type": "code",
      "metadata": {
        "colab": {
          "base_uri": "https://localhost:8080/"
        },
        "id": "05Bw1Sc7dslf",
        "outputId": "a20727d7-0a3e-4507-a78e-43708125bb3b"
      },
      "source": [
        "test.info()"
      ],
      "execution_count": null,
      "outputs": [
        {
          "output_type": "stream",
          "text": [
            "<class 'pandas.core.frame.DataFrame'>\n",
            "Int64Index: 160 entries, 1 to 160\n",
            "Data columns (total 7 columns):\n",
            " #   Column  Non-Null Count  Dtype  \n",
            "---  ------  --------------  -----  \n",
            " 0   NO      160 non-null    float64\n",
            " 1   홍수사상번호  160 non-null    float64\n",
            " 2   연       160 non-null    float64\n",
            " 3   월       160 non-null    float64\n",
            " 4   일       160 non-null    float64\n",
            " 5   시간      160 non-null    float64\n",
            " 6   유입량     0 non-null      float64\n",
            "dtypes: float64(7)\n",
            "memory usage: 10.0 KB\n"
          ],
          "name": "stdout"
        }
      ]
    },
    {
      "cell_type": "code",
      "metadata": {
        "colab": {
          "base_uri": "https://localhost:8080/"
        },
        "id": "Sj8rhd8-ZWZb",
        "outputId": "adfc051c-899d-4214-fdce-d790304f9573"
      },
      "source": [
        "print('train shape : ', train.shape, 'test shape : ',test.shape)"
      ],
      "execution_count": null,
      "outputs": [
        {
          "output_type": "stream",
          "text": [
            "train shape :  (3051, 48) test shape :  (160, 7)\n"
          ],
          "name": "stdout"
        }
      ]
    },
    {
      "cell_type": "markdown",
      "metadata": {
        "id": "cXFmKEngUD3v"
      },
      "source": [
        "#년 월 시 별 평균"
      ]
    },
    {
      "cell_type": "markdown",
      "metadata": {
        "id": "5NrXeW23iWU2"
      },
      "source": [
        "##연"
      ]
    },
    {
      "cell_type": "code",
      "metadata": {
        "id": "rU--axY5liNh"
      },
      "source": [
        "print(train['연'].unique())\n",
        "years=[2006, 2007, 2008, 2009, 2010, 2011, 2012, 2013, 2017]"
      ],
      "execution_count": null,
      "outputs": []
    },
    {
      "cell_type": "code",
      "metadata": {
        "id": "9c1fL6PrmTpX"
      },
      "source": [
        "graph_x=list()\n",
        "graph_y=list()\n",
        "for i in years:\n",
        "    temp_mean=new_train[new_train['연']==i]['유입량'].mean()\n",
        "    temp_len=len(new_train[new_train['연']==i])\n",
        "    print(i,\"년에서의 유입량 평균\",temp_mean, \"데이터수 : \",temp_len)\n",
        "    graph_x.append(i)\n",
        "    graph_y.append(temp_mean)\n",
        "\n",
        "graph_x.sort()"
      ],
      "execution_count": null,
      "outputs": []
    },
    {
      "cell_type": "markdown",
      "metadata": {
        "id": "PpE4jUKqmO2T"
      },
      "source": [
        "년도별 데이터수가 많이 달라서 영향을 많이 미치는지는 않는 것 같다"
      ]
    },
    {
      "cell_type": "markdown",
      "metadata": {
        "id": "-M865yFQlvjm"
      },
      "source": [
        "https://www.etoday.co.kr/news/view/1925778"
      ]
    },
    {
      "cell_type": "code",
      "metadata": {
        "id": "87HQipSBmqal"
      },
      "source": [
        "plt.bar(graph_x,graph_y)\n",
        "plt.ylim(700,4100)\n",
        "plt.show()"
      ],
      "execution_count": null,
      "outputs": []
    },
    {
      "cell_type": "markdown",
      "metadata": {
        "id": "ejlX1SVwiZjH"
      },
      "source": [
        "##월"
      ]
    },
    {
      "cell_type": "code",
      "metadata": {
        "id": "JCQh45iVfmBs"
      },
      "source": [
        "print(train['월'].unique())"
      ],
      "execution_count": null,
      "outputs": []
    },
    {
      "cell_type": "code",
      "metadata": {
        "id": "2lHmIRMXk6o8"
      },
      "source": [
        "graph_x=list()\n",
        "graph_y=list()\n",
        "for i in range(6,10):\n",
        "    temp_mean=new_train[new_train['월']==i]['유입량'].mean()\n",
        "    print(i,\"월에서의 유입량 평균\",temp_mean)\n",
        "    graph_x.append(i)\n",
        "    graph_y.append(temp_mean)"
      ],
      "execution_count": null,
      "outputs": []
    },
    {
      "cell_type": "code",
      "metadata": {
        "id": "jXBVztR-lD42"
      },
      "source": [
        "plt.bar(graph_x,graph_y)\n",
        "plt.ylim(1000,2000)\n",
        "plt.show()"
      ],
      "execution_count": null,
      "outputs": []
    },
    {
      "cell_type": "markdown",
      "metadata": {
        "id": "T2iLOyIKibOU"
      },
      "source": [
        "##시"
      ]
    },
    {
      "cell_type": "code",
      "metadata": {
        "id": "YB4GhcI7hbsn"
      },
      "source": [
        "graph_x=list()\n",
        "graph_y=list()\n",
        "for i in range(1,25):\n",
        "    temp_mean=new_train[new_train['시간']==i]['유입량'].mean()\n",
        "    print(i,\"시에서의 유입량 평균\",temp_mean)\n",
        "    graph_x.append(i)\n",
        "    graph_y.append(temp_mean)"
      ],
      "execution_count": null,
      "outputs": []
    },
    {
      "cell_type": "code",
      "metadata": {
        "id": "-BNGJoExjBJ9"
      },
      "source": [
        "plt.bar(graph_x,graph_y)\n",
        "plt.ylim(1600,1820)\n",
        "plt.show()"
      ],
      "execution_count": null,
      "outputs": []
    },
    {
      "cell_type": "markdown",
      "metadata": {
        "id": "z-w1KALhWl8D"
      },
      "source": [
        "강우량:순수하게 비만 내린 것을 측정한 값<br>\n",
        "강수량:강우량+강설량(눈)\n"
      ]
    },
    {
      "cell_type": "markdown",
      "metadata": {
        "id": "XyV5gRAiokvu"
      },
      "source": [
        "##같은 열"
      ]
    },
    {
      "cell_type": "code",
      "metadata": {
        "colab": {
          "base_uri": "https://localhost:8080/"
        },
        "id": "8_4RDmw4nicr",
        "outputId": "326ff46a-7c11-4f4e-83e1-f6221432fe74"
      },
      "source": [
        "target_cols=[ '1강우A', '1강우B', '1강우C',\n",
        "       '1강우D', '1수위E', '1수위D',  '2강우A', '2강우B', '2강우C', '2강우D',\n",
        "       '2수위E', '2수위D',  '3강우A', '3강우B', '3강우C', '3강우D', '3수위E',\n",
        "       '3수위D',  '4강우A', '4강우B', '4강우C', '4강우D', '4수위E', '4수위D',\n",
        "        '5강우A', '5강우B', '5강우C', '5강우D', '5수위E', '5수위D',\n",
        "       '6강우A', '6강우B', '6강우C', '6강우D', '6수위E', '6수위D']\n",
        "\n",
        "for col1 in target_cols:\n",
        "    for col2 in target_cols:\n",
        "        if col1 !=col2 and len(train[train[col1]!=train[col2]]) ==0 :\n",
        "            print(col1, col2)\n",
        "            \n",
        "2강우A 3강우A\n",
        "4강우A 5강우A 6강우A\n",
        "\n",
        "3강우B 4강우B 5강우B\n",
        "\n",
        "4강우C 5강우C\n",
        "\n",
        "1강우D 2강우D\n",
        "4강우D 5강우D\n",
        "\n",
        "1수위E 2수위E 3수위E 4수위E 5수위E 6수위E"
      ],
      "execution_count": null,
      "outputs": [
        {
          "output_type": "stream",
          "text": [
            "1강우D 2강우D\n",
            "1수위E 2수위E\n",
            "1수위E 3수위E\n",
            "1수위E 4수위E\n",
            "1수위E 5수위E\n",
            "1수위E 6수위E\n",
            "2강우A 3강우A\n",
            "2강우D 1강우D\n",
            "2수위E 1수위E\n",
            "2수위E 3수위E\n",
            "2수위E 4수위E\n",
            "2수위E 5수위E\n",
            "2수위E 6수위E\n",
            "3강우A 2강우A\n",
            "3강우B 4강우B\n",
            "3강우B 5강우B\n",
            "3수위E 1수위E\n",
            "3수위E 2수위E\n",
            "3수위E 4수위E\n",
            "3수위E 5수위E\n",
            "3수위E 6수위E\n",
            "4강우A 5강우A\n",
            "4강우A 6강우A\n",
            "4강우B 3강우B\n",
            "4강우B 5강우B\n",
            "4강우C 5강우C\n",
            "4강우D 5강우D\n",
            "4수위E 1수위E\n",
            "4수위E 2수위E\n",
            "4수위E 3수위E\n",
            "4수위E 5수위E\n",
            "4수위E 6수위E\n",
            "5강우A 4강우A\n",
            "5강우A 6강우A\n",
            "5강우B 3강우B\n",
            "5강우B 4강우B\n",
            "5강우C 4강우C\n",
            "5강우D 4강우D\n",
            "5수위E 1수위E\n",
            "5수위E 2수위E\n",
            "5수위E 3수위E\n",
            "5수위E 4수위E\n",
            "5수위E 6수위E\n",
            "6강우A 4강우A\n",
            "6강우A 5강우A\n",
            "6수위E 1수위E\n",
            "6수위E 2수위E\n",
            "6수위E 3수위E\n",
            "6수위E 4수위E\n",
            "6수위E 5수위E\n"
          ],
          "name": "stdout"
        }
      ]
    },
    {
      "cell_type": "markdown",
      "metadata": {
        "id": "jKgBFP2aYlpF"
      },
      "source": [
        "#여러방법"
      ]
    },
    {
      "cell_type": "code",
      "metadata": {
        "id": "yV1XN6WG8tCS"
      },
      "source": [
        "for col in train.columns:\n",
        "    train[col]=train[col].astype(np.float64)"
      ],
      "execution_count": null,
      "outputs": []
    },
    {
      "cell_type": "code",
      "metadata": {
        "id": "g4RC_Ei78uQp"
      },
      "source": [
        "new_train=train.iloc[:2891,:]\n",
        "new_test=train.iloc[2891:,:]\n",
        "X_train=new_train.drop(columns=['유입량'],axis=1)\n",
        "Y_train=new_train['유입량']"
      ],
      "execution_count": null,
      "outputs": []
    },
    {
      "cell_type": "markdown",
      "metadata": {
        "id": "75j21ZrQYoo5"
      },
      "source": [
        "## 아무것도 안 만짐"
      ]
    },
    {
      "cell_type": "code",
      "metadata": {
        "id": "v-JDv__jYZSL"
      },
      "source": [
        "from sklearn.model_selection import train_test_split\n",
        "x_train, x_valid, y_train, y_valid = train_test_split(X_train, Y_train, test_size=0.15, random_state=42)"
      ],
      "execution_count": null,
      "outputs": []
    },
    {
      "cell_type": "code",
      "metadata": {
        "colab": {
          "base_uri": "https://localhost:8080/"
        },
        "id": "7alIXoFve4M-",
        "outputId": "0a2830d4-0443-4d2a-d8c2-a2b8166ab229"
      },
      "source": [
        "from sklearn.linear_model import LinearRegression\n",
        "lr=LinearRegression()\n",
        "lr.fit(x_train,y_train)\n",
        "print(lr.score(x_valid,y_valid))"
      ],
      "execution_count": null,
      "outputs": [
        {
          "output_type": "stream",
          "text": [
            "0.9040095586325729\n"
          ],
          "name": "stdout"
        }
      ]
    },
    {
      "cell_type": "code",
      "metadata": {
        "colab": {
          "base_uri": "https://localhost:8080/"
        },
        "id": "RndYE8bb1nxk",
        "outputId": "6bab6dfe-c363-4bef-870f-c788db40bf4c"
      },
      "source": [
        "y_pred=lr.predict(x_valid)\n",
        "mean_squared_error(y_valid, y_pred, squared=False)"
      ],
      "execution_count": null,
      "outputs": [
        {
          "output_type": "execute_result",
          "data": {
            "text/plain": [
              "707.7456362996647"
            ]
          },
          "metadata": {},
          "execution_count": 22
        }
      ]
    },
    {
      "cell_type": "markdown",
      "metadata": {
        "id": "jIADpW094U-y"
      },
      "source": [
        "##수위E 하나 빼고 다 drop"
      ]
    },
    {
      "cell_type": "code",
      "metadata": {
        "id": "XnLLMTKi4ZGa"
      },
      "source": [
        "X_train=X_train.drop(columns=['2수위E', '3수위E', '4수위E',  '5수위E', '6수위E'],axis=1)"
      ],
      "execution_count": null,
      "outputs": []
    },
    {
      "cell_type": "code",
      "metadata": {
        "id": "kJT02bU94tOM"
      },
      "source": [
        "from sklearn.model_selection import train_test_split\n",
        "x_train, x_valid, y_train, y_valid = train_test_split(X_train, Y_train, test_size=0.15, random_state=42)"
      ],
      "execution_count": null,
      "outputs": []
    },
    {
      "cell_type": "code",
      "metadata": {
        "colab": {
          "base_uri": "https://localhost:8080/"
        },
        "id": "SDlQiOyN4zqj",
        "outputId": "b4af1e47-8e63-40de-ed84-0f7ae72a3822"
      },
      "source": [
        "from sklearn.linear_model import LinearRegression\n",
        "lr=LinearRegression()\n",
        "lr.fit(x_train,y_train)\n",
        "print(lr.score(x_valid,y_valid))"
      ],
      "execution_count": null,
      "outputs": [
        {
          "output_type": "stream",
          "text": [
            "0.904009558632567\n"
          ],
          "name": "stdout"
        }
      ]
    },
    {
      "cell_type": "code",
      "metadata": {
        "colab": {
          "base_uri": "https://localhost:8080/"
        },
        "id": "0HnrYQv-421G",
        "outputId": "bad947a6-ee04-46b1-9e05-3eccfcb27223"
      },
      "source": [
        "y_pred=lr.predict(x_valid)\n",
        "#RMSE\n",
        "mean_squared_error(y_valid, y_pred, squared=False)"
      ],
      "execution_count": null,
      "outputs": [
        {
          "output_type": "execute_result",
          "data": {
            "text/plain": [
              "707.7456362996866"
            ]
          },
          "metadata": {},
          "execution_count": 35
        }
      ]
    },
    {
      "cell_type": "markdown",
      "metadata": {
        "id": "U7EgEZ9144ws"
      },
      "source": [
        "수위E는 다 같기 때문에 한 열만 남기고 drop해도 성능이 떨어지지 않는다"
      ]
    },
    {
      "cell_type": "markdown",
      "metadata": {
        "id": "ZvC6jsTe5T-R"
      },
      "source": [
        "##7월만 남기기"
      ]
    },
    {
      "cell_type": "code",
      "metadata": {
        "colab": {
          "base_uri": "https://localhost:8080/"
        },
        "id": "bq-_ujVb92jB",
        "outputId": "43f7f821-7233-46a7-c3bb-2e3dd28acf1b"
      },
      "source": [
        "train.shape"
      ],
      "execution_count": null,
      "outputs": [
        {
          "output_type": "execute_result",
          "data": {
            "text/plain": [
              "(3051, 48)"
            ]
          },
          "metadata": {},
          "execution_count": 44
        }
      ]
    },
    {
      "cell_type": "code",
      "metadata": {
        "colab": {
          "base_uri": "https://localhost:8080/"
        },
        "id": "0oldRVsY9SMn",
        "outputId": "3a01de11-50ae-42fb-cdfc-11e31eb522ed"
      },
      "source": [
        "new_train=train.iloc[:2891,:]\n",
        "new_test=train.iloc[2891:,:]\n",
        "new_train=new_train[new_train['월'] == 7.0]\n",
        "new_test=new_test[new_test['월'] == 7.0]\n",
        "print(len(new_train)+len(new_test))\n",
        "X_train=new_train.drop(columns=['유입량'],axis=1)\n",
        "Y_train=new_train['유입량']"
      ],
      "execution_count": null,
      "outputs": [
        {
          "output_type": "stream",
          "text": [
            "2025\n"
          ],
          "name": "stdout"
        }
      ]
    },
    {
      "cell_type": "code",
      "metadata": {
        "id": "eKK0IlZe9Gq1"
      },
      "source": [
        "from sklearn.model_selection import train_test_split\n",
        "x_train, x_valid, y_train, y_valid = train_test_split(X_train, Y_train, test_size=0.15, random_state=42)"
      ],
      "execution_count": null,
      "outputs": []
    },
    {
      "cell_type": "code",
      "metadata": {
        "colab": {
          "base_uri": "https://localhost:8080/"
        },
        "id": "EOdjiNoq9I-V",
        "outputId": "db7d6d25-3d89-4535-d50b-f505767c97d3"
      },
      "source": [
        "from sklearn.linear_model import LinearRegression\n",
        "lr=LinearRegression()\n",
        "lr.fit(x_train,y_train)\n",
        "print(lr.score(x_valid,y_valid))\n",
        "\n",
        "y_pred=lr.predict(x_valid)\n",
        "#RMSE\n",
        "print(mean_squared_error(y_valid, y_pred, squared=False))"
      ],
      "execution_count": null,
      "outputs": [
        {
          "output_type": "stream",
          "text": [
            "0.8811763427721472\n",
            "742.072407741051\n"
          ],
          "name": "stdout"
        }
      ]
    },
    {
      "cell_type": "code",
      "metadata": {
        "colab": {
          "base_uri": "https://localhost:8080/"
        },
        "id": "w6WqToSo_zYA",
        "outputId": "f3b768bb-a311-41cd-96b4-e1f0b505a230"
      },
      "source": [
        "x_valid.corrwith(pd.DataFrame(y_pred))"
      ],
      "execution_count": null,
      "outputs": [
        {
          "output_type": "execute_result",
          "data": {
            "text/plain": [
              "0        NaN\n",
              "시간       NaN\n",
              "연        NaN\n",
              "월        NaN\n",
              "일        NaN\n",
              "홍수사상번호   NaN\n",
              "dtype: float64"
            ]
          },
          "metadata": {},
          "execution_count": 48
        }
      ]
    },
    {
      "cell_type": "markdown",
      "metadata": {
        "id": "YeIFaQ1MEKH-"
      },
      "source": [
        "##scaler"
      ]
    },
    {
      "cell_type": "markdown",
      "metadata": {
        "id": "wfTu6NDJGgkd"
      },
      "source": [
        "!! Data Import 다시 해야됌"
      ]
    },
    {
      "cell_type": "code",
      "metadata": {
        "id": "DR8cJTAPELrU"
      },
      "source": [
        "ori_cols=train.columns\n",
        "Y_train=train['유입량']\n",
        "Y_train=Y_train.iloc[:2891]\n",
        "\n",
        "from sklearn.preprocessing import RobustScaler\n",
        "scaler=RobustScaler()\n",
        "train=scaler.fit_transform(train)\n",
        "\n",
        "train=pd.DataFrame(train,columns=ori_cols)"
      ],
      "execution_count": null,
      "outputs": []
    },
    {
      "cell_type": "code",
      "metadata": {
        "colab": {
          "base_uri": "https://localhost:8080/"
        },
        "id": "Upw9Wv1uGPQW",
        "outputId": "6c868d84-4fce-4f62-a48f-fa83530981c1"
      },
      "source": [
        "Y_train"
      ],
      "execution_count": null,
      "outputs": [
        {
          "output_type": "execute_result",
          "data": {
            "text/plain": [
              "1       189.100000\n",
              "2       216.951962\n",
              "3       251.424419\n",
              "4       302.812199\n",
              "5       384.783406\n",
              "           ...    \n",
              "2887    513.368437\n",
              "2888    502.846843\n",
              "2889    491.954805\n",
              "2890    481.103083\n",
              "2891    470.458109\n",
              "Name: 유입량, Length: 2891, dtype: float64"
            ]
          },
          "metadata": {},
          "execution_count": 12
        }
      ]
    },
    {
      "cell_type": "code",
      "metadata": {
        "id": "Di0mcGeCEO9R"
      },
      "source": [
        "for col in train.columns:\n",
        "    train[col]=train[col].astype(np.float64)"
      ],
      "execution_count": null,
      "outputs": []
    },
    {
      "cell_type": "code",
      "metadata": {
        "id": "PIN1d5zFEUFf"
      },
      "source": [
        "new_train=train.iloc[:2891,:]\n",
        "new_test=train.iloc[2891:,:]\n",
        "X_train=new_train.drop(columns=['유입량'],axis=1)"
      ],
      "execution_count": null,
      "outputs": []
    },
    {
      "cell_type": "code",
      "metadata": {
        "id": "LWsn_GIUEUjI"
      },
      "source": [
        "from sklearn.model_selection import train_test_split\n",
        "x_train, x_valid, y_train, y_valid = train_test_split(X_train, Y_train, test_size=0.15, random_state=42)"
      ],
      "execution_count": null,
      "outputs": []
    },
    {
      "cell_type": "code",
      "metadata": {
        "colab": {
          "base_uri": "https://localhost:8080/"
        },
        "id": "3Pg2NSmXEidx",
        "outputId": "2f198977-e463-4342-f3da-7c41f3e3a36c"
      },
      "source": [
        "from sklearn.linear_model import LinearRegression\n",
        "lr=LinearRegression()\n",
        "lr.fit(x_train,y_train)\n",
        "print(lr.score(x_valid,y_valid))\n",
        "\n",
        "y_pred=lr.predict(x_valid)\n",
        "#RMSE\n",
        "print(mean_squared_error(y_valid, y_pred, squared=False))"
      ],
      "execution_count": null,
      "outputs": [
        {
          "output_type": "stream",
          "text": [
            "0.9040095586325692\n",
            "707.7456362996787\n"
          ],
          "name": "stdout"
        }
      ]
    },
    {
      "cell_type": "markdown",
      "metadata": {
        "id": "GFBxXDakGGD7"
      },
      "source": [
        "Standard Scaler/MinMax Scaler/Robust Scaler : 달라진 것 없음"
      ]
    },
    {
      "cell_type": "markdown",
      "metadata": {
        "id": "Jfgd9uQRS_pr"
      },
      "source": [
        "## PCA"
      ]
    },
    {
      "cell_type": "code",
      "metadata": {
        "id": "pGlaL6FSULti"
      },
      "source": [
        "ori_cols=train.columns\n",
        "Y_train=train['유입량']\n",
        "Y_train=Y_train.iloc[:2891]\n",
        "train=train.drop(columns=['유입량'], axis=1)"
      ],
      "execution_count": null,
      "outputs": []
    },
    {
      "cell_type": "code",
      "metadata": {
        "id": "HPwULJq3TaO-"
      },
      "source": [
        "new_train=train.iloc[:2891,:]\n",
        "new_test=train.iloc[2891:,:]"
      ],
      "execution_count": null,
      "outputs": []
    },
    {
      "cell_type": "code",
      "metadata": {
        "id": "XsS9g81CTDb0"
      },
      "source": [
        "# PCA를 통해 데이터 차원 축소\n",
        "from sklearn.decomposition import PCA\n",
        "\n",
        "lpca = PCA(n_components=30)\n",
        "train_pca = lpca.fit_transform(new_train)\n",
        "test_pca=lpca.transform(new_test)"
      ],
      "execution_count": null,
      "outputs": []
    },
    {
      "cell_type": "code",
      "metadata": {
        "id": "xyJl-MVgVGCH"
      },
      "source": [
        "from sklearn.model_selection import train_test_split\n",
        "x_train, x_valid, y_train, y_valid = train_test_split(train_pca, Y_train, test_size=0.15, random_state=42)"
      ],
      "execution_count": null,
      "outputs": []
    },
    {
      "cell_type": "code",
      "metadata": {
        "colab": {
          "base_uri": "https://localhost:8080/"
        },
        "id": "atQYIpDoVF8Y",
        "outputId": "08d76eb4-e51a-487c-8682-f276c35fa2eb"
      },
      "source": [
        "from sklearn.linear_model import LinearRegression\n",
        "lr=LinearRegression()\n",
        "lr.fit(x_train,y_train)\n",
        "print(lr.score(x_valid,y_valid))"
      ],
      "execution_count": null,
      "outputs": [
        {
          "output_type": "stream",
          "text": [
            "0.9063953696313858\n"
          ],
          "name": "stdout"
        }
      ]
    },
    {
      "cell_type": "code",
      "metadata": {
        "colab": {
          "base_uri": "https://localhost:8080/"
        },
        "id": "6fxxUakYVF57",
        "outputId": "453c212e-7359-4d00-a28c-32a90d9fedb4"
      },
      "source": [
        "y_pred=lr.predict(x_valid)\n",
        "mean_squared_error(y_valid, y_pred, squared=False)\n",
        "\n",
        "# n_components =20 : 1083.7935571585788\n",
        "# n_components =30 :698.8949016749787"
      ],
      "execution_count": null,
      "outputs": [
        {
          "output_type": "execute_result",
          "data": {
            "text/plain": [
              "698.8949016749791"
            ]
          },
          "metadata": {},
          "execution_count": 78
        }
      ]
    },
    {
      "cell_type": "markdown",
      "metadata": {
        "id": "fa5cwnLFVo17"
      },
      "source": [
        "feature 48 -> 30개로 줄였는데 성능향상이 아주 조금 있었다!!"
      ]
    },
    {
      "cell_type": "markdown",
      "metadata": {
        "id": "mknxuDrdNvpk"
      },
      "source": [
        "#모델"
      ]
    },
    {
      "cell_type": "markdown",
      "metadata": {
        "id": "-Vy-Hk-HS4YK"
      },
      "source": [
        "## XGB regressor"
      ]
    },
    {
      "cell_type": "code",
      "metadata": {
        "id": "XEDb1dM8OsO8"
      },
      "source": [
        "for col in train.columns:\n",
        "    train[col]=train[col].astype(np.float64)"
      ],
      "execution_count": null,
      "outputs": []
    },
    {
      "cell_type": "code",
      "metadata": {
        "id": "mN7gJjY_Ouv7"
      },
      "source": [
        "new_train=train.iloc[:2891,:]\n",
        "new_test=train.iloc[2891:,:]\n",
        "X_train=new_train.drop(columns=['유입량'],axis=1)\n",
        "Y_train=new_train['유입량']"
      ],
      "execution_count": null,
      "outputs": []
    },
    {
      "cell_type": "code",
      "metadata": {
        "id": "UCFqa_VQPWTT"
      },
      "source": [
        "from sklearn.model_selection import train_test_split\n",
        "x_train, x_valid, y_train, y_valid = train_test_split(X_train, Y_train, test_size=0.15, random_state=42)"
      ],
      "execution_count": null,
      "outputs": []
    },
    {
      "cell_type": "code",
      "metadata": {
        "id": "Sg3is-bgNWYO"
      },
      "source": [
        "import xgboost as xgb\n",
        "xg_reg = xgb.XGBRegressor(objective ='reg:linear', colsample_bytree = 0.3, learning_rate = 0.1,\n",
        "                alpha = 10)"
      ],
      "execution_count": null,
      "outputs": []
    },
    {
      "cell_type": "code",
      "metadata": {
        "colab": {
          "base_uri": "https://localhost:8080/"
        },
        "id": "zHcVEpfHOWvk",
        "outputId": "1445547c-018e-47f0-8225-6f8942a58158"
      },
      "source": [
        "xg_reg.fit(x_train,y_train)\n",
        "\n",
        "y_pred = xg_reg.predict(x_valid)\n",
        "print(mean_squared_error(y_valid, y_pred, squared=False))"
      ],
      "execution_count": null,
      "outputs": [
        {
          "output_type": "stream",
          "text": [
            "[16:15:22] WARNING: /workspace/src/objective/regression_obj.cu:152: reg:linear is now deprecated in favor of reg:squarederror.\n",
            "298.08046765796246\n"
          ],
          "name": "stdout"
        }
      ]
    },
    {
      "cell_type": "markdown",
      "metadata": {
        "id": "NbiWu4v0WlVU"
      },
      "source": [
        "## Random Forest"
      ]
    },
    {
      "cell_type": "code",
      "metadata": {
        "colab": {
          "base_uri": "https://localhost:8080/"
        },
        "id": "jEUOJatyOzh4",
        "outputId": "807c17a9-2710-481f-fe37-2798f6b7bc69"
      },
      "source": [
        "from sklearn.ensemble import RandomForestRegressor\n",
        "regr = RandomForestRegressor( random_state=0)\n",
        "regr.fit(x_train,y_train)\n",
        "regr.score(x_valid, y_valid)\n",
        "\n",
        "y_pred = regr.predict(x_valid)\n",
        "print(mean_squared_error(y_valid, y_pred, squared=False))"
      ],
      "execution_count": null,
      "outputs": [
        {
          "output_type": "stream",
          "text": [
            "309.0602494938446\n"
          ],
          "name": "stdout"
        }
      ]
    }
  ]
}
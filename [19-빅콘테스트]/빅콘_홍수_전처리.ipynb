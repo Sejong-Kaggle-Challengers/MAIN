{
 "cells": [
  {
   "cell_type": "code",
   "execution_count": 19,
   "metadata": {},
   "outputs": [],
   "source": [
    "#이상치 제거\n",
    "\n",
    "def outlier_iqr(data):\n",
    "  q1, q3 = np.percentile(data, [25, 75])\n",
    "  iqr = q3-q1\n",
    "  lower = q1- (iqr*1.5)\n",
    "  upper = q3 + (iqr*1.5)\n",
    "\n",
    "  return np.where((data > upper) | (data < lower))"
   ]
  },
  {
   "cell_type": "code",
   "execution_count": null,
   "metadata": {},
   "outputs": [],
   "source": [
    "outlier_1 = outlier_iqr(train.loc[train['홍수사상번호']==1].유입량)[0]\n",
    "outlier_12 = outlier_iqr(train.loc[train['홍수사상번호']==12].유입량)[0]\n",
    "outlier_15 = outlier_iqr(train.loc[train['홍수사상번호']==15].유입량)[0]\n",
    "outlier_16 = outlier_iqr(train.loc[train['홍수사상번호']==16].유입량)[0]\n",
    "outlier_20 = outlier_iqr(train.loc[train['홍수사상번호']==20].유입량)[0]\n",
    "outlier_22 = outlier_iqr(train.loc[train['홍수사상번호']==22].유입량)[0]"
   ]
  },
  {
   "cell_type": "code",
   "execution_count": null,
   "metadata": {},
   "outputs": [],
   "source": [
    "outlier_index = np.concatenate([outlier_1, outlier_12, outlier_15, outlier_16, outlier_20, outlier_22], axis=0)\n",
    "\n",
    "outlier_index = set(outlier_index)\n",
    "\n",
    "for i in outlier_index:\n",
    "  train = train.drop(index=i, axis = 0)\n"
   ]
  },
  {
   "cell_type": "code",
   "execution_count": null,
   "metadata": {},
   "outputs": [],
   "source": [
    "#시간데이터 삭제\n",
    "\n",
    "train = train.drop(['연', '월', '일', '시간'], axis=1)"
   ]
  }
 ],
 "metadata": {
  "kernelspec": {
   "display_name": "Python 3",
   "language": "python",
   "name": "python3"
  },
  "language_info": {
   "codemirror_mode": {
    "name": "ipython",
    "version": 3
   },
   "file_extension": ".py",
   "mimetype": "text/x-python",
   "name": "python",
   "nbconvert_exporter": "python",
   "pygments_lexer": "ipython3",
   "version": "3.8.3"
  }
 },
 "nbformat": 4,
 "nbformat_minor": 4
}

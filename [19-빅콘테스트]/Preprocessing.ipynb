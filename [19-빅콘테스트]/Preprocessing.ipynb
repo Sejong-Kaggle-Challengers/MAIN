{
 "cells": [
  {
   "cell_type": "code",
   "execution_count": null,
   "metadata": {},
   "outputs": [],
   "source": [
    "from scipy.cluster.hierarchy import linkage, dendrogram\n",
    "import matplotlib.pyplot as plt\n",
    "\n",
    "\n",
    "feature = train.drop(['유입량', '연','월','일', '시간', '홍수사상번호'], axis = 1)\n",
    "\n",
    "Z = linkage(feature,'ward')\n",
    "\n",
    "#시각화를 위한 코드\n",
    "plt.figure(figsize=(50,20))\n",
    "dendrogram(Z,\n",
    "           leaf_rotation=100,\n",
    "           leaf_font_size=1,\n",
    ")\n",
    "plt.show()"
   ]
  },
  {
   "cell_type": "code",
   "execution_count": null,
   "metadata": {},
   "outputs": [],
   "source": [
    "train_data = feature.drop(['cluster'], axis =1)\n",
    "train_label = feature.cluster\n",
    "\n",
    "from sklearn.neighbors import KNeighborsClassifier\n",
    "clf = KNeighborsClassifier(n_neighbors=3, weights = 'distance')\n",
    "clf.fit(train_data, train_label)"
   ]
  }
 ],
 "metadata": {
  "kernelspec": {
   "display_name": "Python 3",
   "language": "python",
   "name": "python3"
  },
  "language_info": {
   "codemirror_mode": {
    "name": "ipython",
    "version": 3
   },
   "file_extension": ".py",
   "mimetype": "text/x-python",
   "name": "python",
   "nbconvert_exporter": "python",
   "pygments_lexer": "ipython3",
   "version": "3.8.3"
  }
 },
 "nbformat": 4,
 "nbformat_minor": 4
}

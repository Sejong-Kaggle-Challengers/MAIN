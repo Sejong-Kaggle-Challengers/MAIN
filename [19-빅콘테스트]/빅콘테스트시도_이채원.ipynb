{
  "nbformat": 4,
  "nbformat_minor": 0,
  "metadata": {
    "colab": {
      "name": "빅콘테스트시도_이채원",
      "provenance": [],
      "collapsed_sections": [],
      "toc_visible": true
    },
    "kernelspec": {
      "name": "python3",
      "display_name": "Python 3"
    },
    "language_info": {
      "name": "python"
    }
  },
  "cells": [
    {
      "cell_type": "code",
      "metadata": {
        "colab": {
          "base_uri": "https://localhost:8080/"
        },
        "id": "eRDiDHWApNND",
        "outputId": "3477c521-b0a6-4429-d032-2cddadb2e92c"
      },
      "source": [
        "!unzip -O 'cp949' \"2021 빅콘테스트_데이터분석분야_퓨처스리그_홍수ZERO_데이터_210803.zip\""
      ],
      "execution_count": null,
      "outputs": [
        {
          "output_type": "stream",
          "name": "stdout",
          "text": [
            "Archive:  2021 빅콘테스트_데이터분석분야_퓨처스리그_홍수ZERO_데이터_210803.zip\n",
            "   creating: 2021 빅콘테스트_데이터분석분야_퓨처스리그_홍수ZERO_데이터_210803/01_제공데이터/\n",
            "  inflating: 2021 빅콘테스트_데이터분석분야_퓨처스리그_홍수ZERO_데이터_210803/01_제공데이터/2021 빅콘테스트_데이터분석분야_퓨처스리그_홍수ZERO_댐유입량,강우,수위데이터_210803.xlsx  \n",
            "   creating: 2021 빅콘테스트_데이터분석분야_퓨처스리그_홍수ZERO_데이터_210803/02_평가데이터/\n",
            "  inflating: 2021 빅콘테스트_데이터분석분야_퓨처스리그_홍수ZERO_데이터_210803/02_평가데이터/2021 빅콘테스트_데이터분석분야_퓨처스리그_홍수ZERO_평가데이터_210803.xlsx  \n"
          ]
        }
      ]
    },
    {
      "cell_type": "code",
      "metadata": {
        "id": "COGel5SDp_B2"
      },
      "source": [
        "import numpy as np \n",
        "import pandas as pd\n",
        "import matplotlib.pyplot as plt\n",
        "import seaborn as sns\n",
        "from datetime import datetime,timedelta"
      ],
      "execution_count": 97,
      "outputs": []
    },
    {
      "cell_type": "code",
      "metadata": {
        "id": "u2oQsGteqNVU"
      },
      "source": [
        "## 공통\n",
        "\n",
        "data=pd.read_excel('2021 빅콘테스트_데이터분석분야_퓨처스리그_홍수ZERO_댐유입량,강우,수위데이터_210803.xlsx')\n",
        "\n",
        "cols=['홍수사상번호','연','월','일','시간','유입량']\n",
        "\n",
        "for i in range(1,7):\n",
        "    prefix=f'데이터집단{i}_'\n",
        "    cols.append(prefix+'유역평균강수')\n",
        "    cols.append(prefix+'강우(A지역)')\n",
        "    cols.append(prefix+'강우(B지역)')\n",
        "    cols.append(prefix+'강우(C지역)')\n",
        "    cols.append(prefix+'강우(D지역)')\n",
        "    cols.append(prefix+'수위(E지역)')\n",
        "    cols.append(prefix+'수위(B지역)')\n",
        "\n",
        "data=data.drop(0).reset_index(drop=True)\n",
        "data.columns=cols\n",
        "\n",
        "for idx,col in enumerate(cols):\n",
        "    if idx<5:\n",
        "        data[col]=data[col].astype(int)\n",
        "    else:\n",
        "        data[col]=data[col].astype(float)"
      ],
      "execution_count": 98,
      "outputs": []
    },
    {
      "cell_type": "markdown",
      "metadata": {
        "id": "yuy0zSbd8Pn2"
      },
      "source": [
        "##Model import"
      ]
    },
    {
      "cell_type": "code",
      "metadata": {
        "id": "hN24Yo8n8RO7"
      },
      "source": [
        "import xgboost as xgb\n",
        "xg_reg = xgb.XGBRegressor(objective ='reg:linear', colsample_bytree = 0.3, learning_rate = 0.1, n_estimator=2000,\n",
        "                alpha = 10)"
      ],
      "execution_count": 99,
      "outputs": []
    },
    {
      "cell_type": "markdown",
      "metadata": {
        "id": "KTX1HTHA8Wkp"
      },
      "source": [
        "#시도"
      ]
    },
    {
      "cell_type": "markdown",
      "metadata": {
        "id": "Qg5UbI7I_CdR"
      },
      "source": [
        "##시도0"
      ]
    },
    {
      "cell_type": "code",
      "metadata": {
        "id": "vHwgaXi-_D9j"
      },
      "source": [
        "## 시도0\n",
        "\n",
        "train=data.copy()"
      ],
      "execution_count": 47,
      "outputs": []
    },
    {
      "cell_type": "code",
      "metadata": {
        "id": "wvN3_cHg_ISQ"
      },
      "source": [
        "Y_train=train['유입량']\n",
        "Y_train=Y_train.iloc[:2891]\n",
        "train=train.drop(columns=['유입량'], axis=1)\n",
        "train=train.iloc[:2891,:]"
      ],
      "execution_count": 48,
      "outputs": []
    },
    {
      "cell_type": "code",
      "metadata": {
        "id": "FuwCmV9S_f59"
      },
      "source": [
        "from sklearn.model_selection import train_test_split\n",
        "x_train, x_valid, y_train, y_valid = train_test_split(train, Y_train, test_size=0.15, random_state=42)"
      ],
      "execution_count": 49,
      "outputs": []
    },
    {
      "cell_type": "code",
      "metadata": {
        "colab": {
          "base_uri": "https://localhost:8080/"
        },
        "id": "VLNzE4AU_ks2",
        "outputId": "d91cf070-cb45-47d0-b70a-3b178a4c10e1"
      },
      "source": [
        "print(x_train.shape,x_valid.shape)"
      ],
      "execution_count": 50,
      "outputs": [
        {
          "output_type": "stream",
          "name": "stdout",
          "text": [
            "(2457, 47) (434, 47)\n"
          ]
        }
      ]
    },
    {
      "cell_type": "code",
      "metadata": {
        "colab": {
          "base_uri": "https://localhost:8080/"
        },
        "id": "7ignk3j0_xxN",
        "outputId": "a350ee7b-a698-4e98-b436-46a7ff1b801f"
      },
      "source": [
        "from sklearn.metrics import mean_squared_error\n",
        "xg_reg.fit(x_train,y_train)\n",
        "\n",
        "y_pred = xg_reg.predict(x_valid)\n",
        "print(mean_squared_error(y_valid, y_pred, squared=False))"
      ],
      "execution_count": 51,
      "outputs": [
        {
          "output_type": "stream",
          "name": "stdout",
          "text": [
            "[16:44:33] WARNING: /workspace/src/objective/regression_obj.cu:152: reg:linear is now deprecated in favor of reg:squarederror.\n",
            "298.08046765796246\n"
          ]
        }
      ]
    },
    {
      "cell_type": "markdown",
      "metadata": {
        "id": "0Mlt5WPT8Xlf"
      },
      "source": [
        "##시도1"
      ]
    },
    {
      "cell_type": "code",
      "metadata": {
        "id": "DT-Rs_gOqWko"
      },
      "source": [
        "## 시도1\n",
        "\n",
        "train=data.copy()\n",
        "column=['홍수사상번호','연','월','일','시간','유입량','1유역평균강수','1강우A','1강우B','1강우C','1강우D','1수위E','1수위D','2유역평균강수','2강우A','2강우B','2강우C','2강우D','2수위E','2수위D','3유역평균강수','3강우A','3강우B','3강우C','3강우D','3수위E','3수위D','4유역평균강수','4강우A','4강우B','4강우C','4강우D','4수위E','4수위D','5유역평균강수','5강우A','5강우B','5강우C','5강우D','5수위E','5수위D','6유역평균강수','6강우A','6강우B','6강우C','6강우D','6수위E','6수위D']\n",
        "train.columns=column"
      ],
      "execution_count": 28,
      "outputs": []
    },
    {
      "cell_type": "code",
      "metadata": {
        "id": "Dd4GUa6bqBpL"
      },
      "source": [
        "## PCA\n",
        "\n",
        "Y_train=train['유입량']\n",
        "Y_train=Y_train.iloc[:2891]\n",
        "train=train.drop(columns=['유입량'], axis=1)\n",
        "\n",
        "new_train=train.iloc[:2891,:]\n",
        "new_test=train.iloc[2891:,:]\n",
        "\n",
        "from sklearn.decomposition import PCA\n",
        "\n",
        "lpca = PCA(n_components=30)\n",
        "train_pca = lpca.fit_transform(new_train)\n",
        "test_pca=lpca.transform(new_test)"
      ],
      "execution_count": 27,
      "outputs": []
    },
    {
      "cell_type": "code",
      "metadata": {
        "id": "Chl1aaFSsKyw"
      },
      "source": [
        "from sklearn.model_selection import train_test_split\n",
        "x_train, x_valid, y_train, y_valid = train_test_split(train_pca, Y_train, test_size=0.15, random_state=42)"
      ],
      "execution_count": 11,
      "outputs": []
    },
    {
      "cell_type": "code",
      "metadata": {
        "colab": {
          "base_uri": "https://localhost:8080/"
        },
        "id": "emp5QAyEsLDK",
        "outputId": "1d7df6e5-20ee-4891-88cd-4f45ec07e6f1"
      },
      "source": [
        "print(x_train.shape,x_valid.shape)"
      ],
      "execution_count": 19,
      "outputs": [
        {
          "output_type": "stream",
          "name": "stdout",
          "text": [
            "(2457, 30) (434, 30)\n"
          ]
        }
      ]
    },
    {
      "cell_type": "code",
      "metadata": {
        "colab": {
          "base_uri": "https://localhost:8080/"
        },
        "id": "2umSpIwS6vGA",
        "outputId": "c007ebad-a29e-4437-b496-390c28d70467"
      },
      "source": [
        "from sklearn.metrics import mean_squared_error\n",
        "xg_reg.fit(x_train,y_train)\n",
        "\n",
        "y_pred = xg_reg.predict(x_valid)\n",
        "print(mean_squared_error(y_valid, y_pred, squared=False))"
      ],
      "execution_count": 14,
      "outputs": [
        {
          "output_type": "stream",
          "name": "stdout",
          "text": [
            "[16:30:42] WARNING: /workspace/src/objective/regression_obj.cu:152: reg:linear is now deprecated in favor of reg:squarederror.\n",
            "484.72272601053123\n"
          ]
        }
      ]
    },
    {
      "cell_type": "markdown",
      "metadata": {
        "id": "MIjKpHqs83Ws"
      },
      "source": [
        "##시도2"
      ]
    },
    {
      "cell_type": "code",
      "metadata": {
        "id": "UjVSZSM9s2EA"
      },
      "source": [
        "## 시도2\n",
        "\n",
        "train=data.copy()"
      ],
      "execution_count": 35,
      "outputs": []
    },
    {
      "cell_type": "code",
      "metadata": {
        "id": "avAdLtBxskZh"
      },
      "source": [
        "from scipy.cluster.hierarchy import linkage,fcluster\n",
        "\n",
        "feature=train.drop(['유입량','연','월','일','시간','홍수사상번호'],axis=1)\n",
        "Z=linkage(feature,'ward')\n",
        "\n",
        "predict=fcluster(Z,3,criterion='maxclust')\n",
        "feature['cluster']=predict\n",
        "\n",
        "## feature가 전체 데이터."
      ],
      "execution_count": 36,
      "outputs": []
    },
    {
      "cell_type": "code",
      "metadata": {
        "id": "o7LELzRE9AkG"
      },
      "source": [
        "from sklearn.model_selection import train_test_split\n",
        "x_train, x_valid, y_train, y_valid = train_test_split(feature.iloc[:2891], train['유입량'].iloc[:2891], test_size=0.15, random_state=42)"
      ],
      "execution_count": 38,
      "outputs": []
    },
    {
      "cell_type": "code",
      "metadata": {
        "colab": {
          "base_uri": "https://localhost:8080/"
        },
        "id": "YEKuBij69qqU",
        "outputId": "fed67a15-7b30-4e24-f924-f86daca9309e"
      },
      "source": [
        "print(x_train.shape,x_valid.shape)"
      ],
      "execution_count": 39,
      "outputs": [
        {
          "output_type": "stream",
          "name": "stdout",
          "text": [
            "(2457, 43) (434, 43)\n"
          ]
        }
      ]
    },
    {
      "cell_type": "code",
      "metadata": {
        "colab": {
          "base_uri": "https://localhost:8080/"
        },
        "id": "pg0RnI1a-xpm",
        "outputId": "6353094e-110d-4762-b1d6-0ef9dea85318"
      },
      "source": [
        "xg_reg.fit(x_train,y_train)\n",
        "\n",
        "y_pred = xg_reg.predict(x_valid)\n",
        "print(mean_squared_error(y_valid, y_pred, squared=False))"
      ],
      "execution_count": 40,
      "outputs": [
        {
          "output_type": "stream",
          "name": "stdout",
          "text": [
            "[16:40:06] WARNING: /workspace/src/objective/regression_obj.cu:152: reg:linear is now deprecated in favor of reg:squarederror.\n",
            "341.46550242856495\n"
          ]
        }
      ]
    },
    {
      "cell_type": "markdown",
      "metadata": {
        "id": "PhmcoWtu9vWa"
      },
      "source": [
        "##시도3"
      ]
    },
    {
      "cell_type": "code",
      "metadata": {
        "id": "Is1vyP6ItVS-"
      },
      "source": [
        "## 시도3\n",
        "\n",
        "train=data.copy()"
      ],
      "execution_count": 52,
      "outputs": []
    },
    {
      "cell_type": "code",
      "metadata": {
        "id": "KjG8c3nUtXU9"
      },
      "source": [
        "def outlier_iqr(data):\n",
        "  q1, q3 = np.percentile(data, [25, 75])\n",
        "  iqr = q3-q1\n",
        "  lower = q1- (iqr*1.5)\n",
        "  upper = q3 + (iqr*1.5)\n",
        "\n",
        "  return np.where((data > upper) | (data < lower))"
      ],
      "execution_count": 53,
      "outputs": []
    },
    {
      "cell_type": "code",
      "metadata": {
        "id": "BHD4Am8_tb5G"
      },
      "source": [
        "outlier_1 = outlier_iqr(train.loc[train['홍수사상번호']==1].유입량)[0]\n",
        "outlier_12 = outlier_iqr(train.loc[train['홍수사상번호']==12].유입량)[0]\n",
        "outlier_15 = outlier_iqr(train.loc[train['홍수사상번호']==15].유입량)[0]\n",
        "outlier_16 = outlier_iqr(train.loc[train['홍수사상번호']==16].유입량)[0]\n",
        "outlier_20 = outlier_iqr(train.loc[train['홍수사상번호']==20].유입량)[0]\n",
        "outlier_22 = outlier_iqr(train.loc[train['홍수사상번호']==22].유입량)[0]"
      ],
      "execution_count": 54,
      "outputs": []
    },
    {
      "cell_type": "code",
      "metadata": {
        "id": "M9440ptYtdNS"
      },
      "source": [
        "outlier_index = np.concatenate([outlier_1, outlier_12, outlier_15, outlier_16, outlier_20, outlier_22], axis=0)\n",
        "\n",
        "outlier_index = set(outlier_index)\n",
        "\n",
        "for i in outlier_index:\n",
        "  train = train.drop(index=i, axis = 0)"
      ],
      "execution_count": 55,
      "outputs": []
    },
    {
      "cell_type": "code",
      "metadata": {
        "id": "gP9-lPQTtecN"
      },
      "source": [
        "# 시간데이터 삭제\n",
        "\n",
        "train = train.drop(['연', '월', '일', '시간'], axis=1)"
      ],
      "execution_count": 56,
      "outputs": []
    },
    {
      "cell_type": "code",
      "metadata": {
        "colab": {
          "base_uri": "https://localhost:8080/"
        },
        "id": "bRMQWIk_AESW",
        "outputId": "1f1dbdfb-01dc-4312-cf5a-e87657d1cd25"
      },
      "source": [
        "train.info()"
      ],
      "execution_count": 57,
      "outputs": [
        {
          "output_type": "stream",
          "name": "stdout",
          "text": [
            "<class 'pandas.core.frame.DataFrame'>\n",
            "Int64Index: 2944 entries, 0 to 3050\n",
            "Data columns (total 44 columns):\n",
            " #   Column          Non-Null Count  Dtype  \n",
            "---  ------          --------------  -----  \n",
            " 0   홍수사상번호          2944 non-null   int64  \n",
            " 1   유입량             2784 non-null   float64\n",
            " 2   데이터집단1_유역평균강수   2944 non-null   float64\n",
            " 3   데이터집단1_강우(A지역)  2944 non-null   float64\n",
            " 4   데이터집단1_강우(B지역)  2944 non-null   float64\n",
            " 5   데이터집단1_강우(C지역)  2944 non-null   float64\n",
            " 6   데이터집단1_강우(D지역)  2944 non-null   float64\n",
            " 7   데이터집단1_수위(E지역)  2944 non-null   float64\n",
            " 8   데이터집단1_수위(B지역)  2944 non-null   float64\n",
            " 9   데이터집단2_유역평균강수   2944 non-null   float64\n",
            " 10  데이터집단2_강우(A지역)  2944 non-null   float64\n",
            " 11  데이터집단2_강우(B지역)  2944 non-null   float64\n",
            " 12  데이터집단2_강우(C지역)  2944 non-null   float64\n",
            " 13  데이터집단2_강우(D지역)  2944 non-null   float64\n",
            " 14  데이터집단2_수위(E지역)  2944 non-null   float64\n",
            " 15  데이터집단2_수위(B지역)  2944 non-null   float64\n",
            " 16  데이터집단3_유역평균강수   2944 non-null   float64\n",
            " 17  데이터집단3_강우(A지역)  2944 non-null   float64\n",
            " 18  데이터집단3_강우(B지역)  2944 non-null   float64\n",
            " 19  데이터집단3_강우(C지역)  2944 non-null   float64\n",
            " 20  데이터집단3_강우(D지역)  2944 non-null   float64\n",
            " 21  데이터집단3_수위(E지역)  2944 non-null   float64\n",
            " 22  데이터집단3_수위(B지역)  2944 non-null   float64\n",
            " 23  데이터집단4_유역평균강수   2944 non-null   float64\n",
            " 24  데이터집단4_강우(A지역)  2944 non-null   float64\n",
            " 25  데이터집단4_강우(B지역)  2944 non-null   float64\n",
            " 26  데이터집단4_강우(C지역)  2944 non-null   float64\n",
            " 27  데이터집단4_강우(D지역)  2944 non-null   float64\n",
            " 28  데이터집단4_수위(E지역)  2944 non-null   float64\n",
            " 29  데이터집단4_수위(B지역)  2944 non-null   float64\n",
            " 30  데이터집단5_유역평균강수   2944 non-null   float64\n",
            " 31  데이터집단5_강우(A지역)  2944 non-null   float64\n",
            " 32  데이터집단5_강우(B지역)  2944 non-null   float64\n",
            " 33  데이터집단5_강우(C지역)  2944 non-null   float64\n",
            " 34  데이터집단5_강우(D지역)  2944 non-null   float64\n",
            " 35  데이터집단5_수위(E지역)  2944 non-null   float64\n",
            " 36  데이터집단5_수위(B지역)  2944 non-null   float64\n",
            " 37  데이터집단6_유역평균강수   2944 non-null   float64\n",
            " 38  데이터집단6_강우(A지역)  2944 non-null   float64\n",
            " 39  데이터집단6_강우(B지역)  2944 non-null   float64\n",
            " 40  데이터집단6_강우(C지역)  2944 non-null   float64\n",
            " 41  데이터집단6_강우(D지역)  2944 non-null   float64\n",
            " 42  데이터집단6_수위(E지역)  2944 non-null   float64\n",
            " 43  데이터집단6_수위(B지역)  2944 non-null   float64\n",
            "dtypes: float64(43), int64(1)\n",
            "memory usage: 1.0 MB\n"
          ]
        }
      ]
    },
    {
      "cell_type": "code",
      "metadata": {
        "id": "y4QEGKa4AUIP"
      },
      "source": [
        "Y_train=train['유입량'].iloc[:2784]\n",
        "train=train.drop(columns=['유입량'], axis=1).iloc[:2784]"
      ],
      "execution_count": 58,
      "outputs": []
    },
    {
      "cell_type": "code",
      "metadata": {
        "id": "5_WBVv6iANJ0"
      },
      "source": [
        "from sklearn.model_selection import train_test_split\n",
        "x_train, x_valid, y_train, y_valid = train_test_split(train, Y_train, test_size=0.15, random_state=42)"
      ],
      "execution_count": 60,
      "outputs": []
    },
    {
      "cell_type": "code",
      "metadata": {
        "colab": {
          "base_uri": "https://localhost:8080/"
        },
        "id": "lH8DDj2nANHy",
        "outputId": "3c0716cd-7870-49a5-e3e2-38f98f330223"
      },
      "source": [
        "xg_reg.fit(x_train,y_train)\n",
        "\n",
        "y_pred = xg_reg.predict(x_valid)\n",
        "print(mean_squared_error(y_valid, y_pred, squared=False))"
      ],
      "execution_count": 61,
      "outputs": [
        {
          "output_type": "stream",
          "name": "stdout",
          "text": [
            "[16:48:12] WARNING: /workspace/src/objective/regression_obj.cu:152: reg:linear is now deprecated in favor of reg:squarederror.\n",
            "378.5914040090182\n"
          ]
        }
      ]
    },
    {
      "cell_type": "markdown",
      "metadata": {
        "id": "akV1TDnz--ik"
      },
      "source": [
        "##시도4"
      ]
    },
    {
      "cell_type": "code",
      "metadata": {
        "id": "YY4ORkgMtoS-"
      },
      "source": [
        "## 시도4\n",
        "\n",
        "## 원래 데이터 data 살려놓기 sub_data로.\n",
        "sub_data=data.copy()"
      ],
      "execution_count": 100,
      "outputs": []
    },
    {
      "cell_type": "code",
      "metadata": {
        "id": "xB1Xuxc3t1AI"
      },
      "source": [
        "from sklearn.preprocessing import StandardScaler\n",
        "from sklearn.metrics import mean_squared_error \n",
        "from sklearn.model_selection import train_test_split    \n",
        "        \n",
        "from datetime import datetime,timedelta\n",
        "\n",
        "data['time']=data.apply(lambda row:datetime(year=int(row['연']),month=int(row['월']),day=int(row['일'])),axis=1)\n",
        "data['time']=data.apply(lambda row:row['time']+timedelta(hours=row['시간']),axis=1)"
      ],
      "execution_count": 101,
      "outputs": []
    },
    {
      "cell_type": "code",
      "metadata": {
        "colab": {
          "base_uri": "https://localhost:8080/"
        },
        "id": "y1cHO2f8p_QQ",
        "outputId": "416e28c3-f7a8-42ff-cf88-ae71af86aca7"
      },
      "source": [
        "## 빅콘테스트 수정사항\n",
        "data.loc[2199,'홍수사상번호']=20\n",
        "data=data.sort_values(by=['홍수사상번호','time']).reset_index(drop=True)\n",
        "\n",
        "test=data.iloc[2891:]\n",
        "\n",
        "submit=test[['홍수사상번호','연','월','일','시간']]\n",
        "submit['유입량']=0\n",
        "\n",
        "data=data.drop(['연','월','일','시간'],axis=1)"
      ],
      "execution_count": 102,
      "outputs": [
        {
          "output_type": "stream",
          "name": "stderr",
          "text": [
            "/usr/local/lib/python3.7/dist-packages/ipykernel_launcher.py:8: SettingWithCopyWarning: \n",
            "A value is trying to be set on a copy of a slice from a DataFrame.\n",
            "Try using .loc[row_indexer,col_indexer] = value instead\n",
            "\n",
            "See the caveats in the documentation: https://pandas.pydata.org/pandas-docs/stable/user_guide/indexing.html#returning-a-view-versus-a-copy\n",
            "  \n"
          ]
        }
      ]
    },
    {
      "cell_type": "code",
      "metadata": {
        "id": "XByooWTGt5yN"
      },
      "source": [
        "## lag 변수\n",
        "lag_3=data.set_index('time').groupby('홍수사상번호')[[col for col in data.columns if '강우' in col]].shift(3).reset_index().fillna(method='bfill')\n",
        "\n",
        "lag_3.columns=['time']+['lag3_'+col for col in lag_3.columns[1:]]\n",
        "\n",
        "data=pd.merge(data,lag_3,on='time',how='left')\n",
        "data=data.drop(['time'],axis=1)"
      ],
      "execution_count": 103,
      "outputs": []
    },
    {
      "cell_type": "code",
      "metadata": {
        "colab": {
          "base_uri": "https://localhost:8080/",
          "height": 307
        },
        "id": "PLu720ozuC3W",
        "outputId": "7b08c28a-75ba-4357-ac41-9c62935968c1"
      },
      "source": [
        "## 정규화\n",
        "## 나중에 예측값 내고. (pred+mean)*std 하기.\n",
        "\n",
        "from sklearn.preprocessing import StandardScaler\n",
        "\n",
        "for col in data.columns[1:]:\n",
        "    if col=='유입량':\n",
        "        mean=data[col].mean()\n",
        "        std=data[col].std()\n",
        "        data[col]=(data[col]-mean)/std\n",
        "        continue\n",
        "    ss=StandardScaler()\n",
        "    data[col]=ss.fit_transform(data[col].values.reshape(-1,1))\n",
        "data.head()"
      ],
      "execution_count": 105,
      "outputs": [
        {
          "output_type": "execute_result",
          "data": {
            "text/html": [
              "<div>\n",
              "<style scoped>\n",
              "    .dataframe tbody tr th:only-of-type {\n",
              "        vertical-align: middle;\n",
              "    }\n",
              "\n",
              "    .dataframe tbody tr th {\n",
              "        vertical-align: top;\n",
              "    }\n",
              "\n",
              "    .dataframe thead th {\n",
              "        text-align: right;\n",
              "    }\n",
              "</style>\n",
              "<table border=\"1\" class=\"dataframe\">\n",
              "  <thead>\n",
              "    <tr style=\"text-align: right;\">\n",
              "      <th></th>\n",
              "      <th>홍수사상번호</th>\n",
              "      <th>유입량</th>\n",
              "      <th>데이터집단1_유역평균강수</th>\n",
              "      <th>데이터집단1_강우(A지역)</th>\n",
              "      <th>데이터집단1_강우(B지역)</th>\n",
              "      <th>데이터집단1_강우(C지역)</th>\n",
              "      <th>데이터집단1_강우(D지역)</th>\n",
              "      <th>데이터집단1_수위(E지역)</th>\n",
              "      <th>데이터집단1_수위(B지역)</th>\n",
              "      <th>데이터집단2_유역평균강수</th>\n",
              "      <th>데이터집단2_강우(A지역)</th>\n",
              "      <th>데이터집단2_강우(B지역)</th>\n",
              "      <th>데이터집단2_강우(C지역)</th>\n",
              "      <th>데이터집단2_강우(D지역)</th>\n",
              "      <th>데이터집단2_수위(E지역)</th>\n",
              "      <th>데이터집단2_수위(B지역)</th>\n",
              "      <th>데이터집단3_유역평균강수</th>\n",
              "      <th>데이터집단3_강우(A지역)</th>\n",
              "      <th>데이터집단3_강우(B지역)</th>\n",
              "      <th>데이터집단3_강우(C지역)</th>\n",
              "      <th>데이터집단3_강우(D지역)</th>\n",
              "      <th>데이터집단3_수위(E지역)</th>\n",
              "      <th>데이터집단3_수위(B지역)</th>\n",
              "      <th>데이터집단4_유역평균강수</th>\n",
              "      <th>데이터집단4_강우(A지역)</th>\n",
              "      <th>데이터집단4_강우(B지역)</th>\n",
              "      <th>데이터집단4_강우(C지역)</th>\n",
              "      <th>데이터집단4_강우(D지역)</th>\n",
              "      <th>데이터집단4_수위(E지역)</th>\n",
              "      <th>데이터집단4_수위(B지역)</th>\n",
              "      <th>데이터집단5_유역평균강수</th>\n",
              "      <th>데이터집단5_강우(A지역)</th>\n",
              "      <th>데이터집단5_강우(B지역)</th>\n",
              "      <th>데이터집단5_강우(C지역)</th>\n",
              "      <th>데이터집단5_강우(D지역)</th>\n",
              "      <th>데이터집단5_수위(E지역)</th>\n",
              "      <th>데이터집단5_수위(B지역)</th>\n",
              "      <th>데이터집단6_유역평균강수</th>\n",
              "      <th>데이터집단6_강우(A지역)</th>\n",
              "      <th>데이터집단6_강우(B지역)</th>\n",
              "      <th>데이터집단6_강우(C지역)</th>\n",
              "      <th>데이터집단6_강우(D지역)</th>\n",
              "      <th>데이터집단6_수위(E지역)</th>\n",
              "      <th>데이터집단6_수위(B지역)</th>\n",
              "      <th>lag3_데이터집단1_강우(A지역)</th>\n",
              "      <th>lag3_데이터집단1_강우(B지역)</th>\n",
              "      <th>lag3_데이터집단1_강우(C지역)</th>\n",
              "      <th>lag3_데이터집단1_강우(D지역)</th>\n",
              "      <th>lag3_데이터집단2_강우(A지역)</th>\n",
              "      <th>lag3_데이터집단2_강우(B지역)</th>\n",
              "      <th>lag3_데이터집단2_강우(C지역)</th>\n",
              "      <th>lag3_데이터집단2_강우(D지역)</th>\n",
              "      <th>lag3_데이터집단3_강우(A지역)</th>\n",
              "      <th>lag3_데이터집단3_강우(B지역)</th>\n",
              "      <th>lag3_데이터집단3_강우(C지역)</th>\n",
              "      <th>lag3_데이터집단3_강우(D지역)</th>\n",
              "      <th>lag3_데이터집단4_강우(A지역)</th>\n",
              "      <th>lag3_데이터집단4_강우(B지역)</th>\n",
              "      <th>lag3_데이터집단4_강우(C지역)</th>\n",
              "      <th>lag3_데이터집단4_강우(D지역)</th>\n",
              "      <th>lag3_데이터집단5_강우(A지역)</th>\n",
              "      <th>lag3_데이터집단5_강우(B지역)</th>\n",
              "      <th>lag3_데이터집단5_강우(C지역)</th>\n",
              "      <th>lag3_데이터집단5_강우(D지역)</th>\n",
              "      <th>lag3_데이터집단6_강우(A지역)</th>\n",
              "      <th>lag3_데이터집단6_강우(B지역)</th>\n",
              "      <th>lag3_데이터집단6_강우(C지역)</th>\n",
              "      <th>lag3_데이터집단6_강우(D지역)</th>\n",
              "    </tr>\n",
              "  </thead>\n",
              "  <tbody>\n",
              "    <tr>\n",
              "      <th>0</th>\n",
              "      <td>1</td>\n",
              "      <td>-0.714002</td>\n",
              "      <td>-1.036870</td>\n",
              "      <td>-0.988808</td>\n",
              "      <td>-0.905344</td>\n",
              "      <td>-0.712134</td>\n",
              "      <td>-0.808934</td>\n",
              "      <td>-0.852663</td>\n",
              "      <td>-1.480226</td>\n",
              "      <td>-1.047460</td>\n",
              "      <td>-1.017853</td>\n",
              "      <td>-0.898056</td>\n",
              "      <td>-0.708746</td>\n",
              "      <td>-0.808934</td>\n",
              "      <td>-0.852663</td>\n",
              "      <td>-1.496831</td>\n",
              "      <td>-1.047460</td>\n",
              "      <td>-1.017853</td>\n",
              "      <td>-0.842268</td>\n",
              "      <td>-0.714176</td>\n",
              "      <td>-0.815826</td>\n",
              "      <td>-0.852663</td>\n",
              "      <td>-1.502656</td>\n",
              "      <td>-1.054742</td>\n",
              "      <td>-1.032332</td>\n",
              "      <td>-0.842268</td>\n",
              "      <td>-0.828119</td>\n",
              "      <td>-0.839624</td>\n",
              "      <td>-0.852663</td>\n",
              "      <td>-1.438416</td>\n",
              "      <td>-1.039463</td>\n",
              "      <td>-1.032332</td>\n",
              "      <td>-0.842268</td>\n",
              "      <td>-0.828119</td>\n",
              "      <td>-0.839624</td>\n",
              "      <td>-0.852663</td>\n",
              "      <td>-1.447929</td>\n",
              "      <td>-0.989485</td>\n",
              "      <td>-1.032332</td>\n",
              "      <td>-0.850690</td>\n",
              "      <td>-0.690847</td>\n",
              "      <td>-0.819482</td>\n",
              "      <td>-0.852663</td>\n",
              "      <td>-1.462364</td>\n",
              "      <td>-0.964683</td>\n",
              "      <td>-0.881456</td>\n",
              "      <td>-0.693639</td>\n",
              "      <td>-0.787613</td>\n",
              "      <td>-0.993108</td>\n",
              "      <td>-0.874678</td>\n",
              "      <td>-0.690951</td>\n",
              "      <td>-0.787613</td>\n",
              "      <td>-0.993108</td>\n",
              "      <td>-0.821229</td>\n",
              "      <td>-0.696998</td>\n",
              "      <td>-0.794331</td>\n",
              "      <td>-1.007268</td>\n",
              "      <td>-0.821229</td>\n",
              "      <td>-0.807466</td>\n",
              "      <td>-0.817654</td>\n",
              "      <td>-1.007268</td>\n",
              "      <td>-0.821229</td>\n",
              "      <td>-0.807466</td>\n",
              "      <td>-0.817654</td>\n",
              "      <td>-1.007268</td>\n",
              "      <td>-0.829359</td>\n",
              "      <td>-0.676979</td>\n",
              "      <td>-0.798248</td>\n",
              "    </tr>\n",
              "    <tr>\n",
              "      <th>1</th>\n",
              "      <td>1</td>\n",
              "      <td>-0.701236</td>\n",
              "      <td>-1.038555</td>\n",
              "      <td>-0.988808</td>\n",
              "      <td>-0.889561</td>\n",
              "      <td>-0.712134</td>\n",
              "      <td>-0.808934</td>\n",
              "      <td>-0.856874</td>\n",
              "      <td>-1.481258</td>\n",
              "      <td>-1.045774</td>\n",
              "      <td>-1.017853</td>\n",
              "      <td>-0.882157</td>\n",
              "      <td>-0.708746</td>\n",
              "      <td>-0.808934</td>\n",
              "      <td>-0.856874</td>\n",
              "      <td>-1.495455</td>\n",
              "      <td>-1.045774</td>\n",
              "      <td>-1.017853</td>\n",
              "      <td>-0.825489</td>\n",
              "      <td>-0.714176</td>\n",
              "      <td>-0.815826</td>\n",
              "      <td>-0.856874</td>\n",
              "      <td>-1.501280</td>\n",
              "      <td>-1.039552</td>\n",
              "      <td>-1.032332</td>\n",
              "      <td>-0.825489</td>\n",
              "      <td>-0.789880</td>\n",
              "      <td>-0.804437</td>\n",
              "      <td>-0.856874</td>\n",
              "      <td>-1.439596</td>\n",
              "      <td>-1.024050</td>\n",
              "      <td>-1.032332</td>\n",
              "      <td>-0.825489</td>\n",
              "      <td>-0.789880</td>\n",
              "      <td>-0.804437</td>\n",
              "      <td>-0.856874</td>\n",
              "      <td>-1.449912</td>\n",
              "      <td>-0.973335</td>\n",
              "      <td>-1.032332</td>\n",
              "      <td>-0.834046</td>\n",
              "      <td>-0.646145</td>\n",
              "      <td>-0.783537</td>\n",
              "      <td>-0.856874</td>\n",
              "      <td>-1.464014</td>\n",
              "      <td>-0.964683</td>\n",
              "      <td>-0.881456</td>\n",
              "      <td>-0.693639</td>\n",
              "      <td>-0.787613</td>\n",
              "      <td>-0.993108</td>\n",
              "      <td>-0.874678</td>\n",
              "      <td>-0.690951</td>\n",
              "      <td>-0.787613</td>\n",
              "      <td>-0.993108</td>\n",
              "      <td>-0.821229</td>\n",
              "      <td>-0.696998</td>\n",
              "      <td>-0.794331</td>\n",
              "      <td>-1.007268</td>\n",
              "      <td>-0.821229</td>\n",
              "      <td>-0.807466</td>\n",
              "      <td>-0.817654</td>\n",
              "      <td>-1.007268</td>\n",
              "      <td>-0.821229</td>\n",
              "      <td>-0.807466</td>\n",
              "      <td>-0.817654</td>\n",
              "      <td>-1.007268</td>\n",
              "      <td>-0.829359</td>\n",
              "      <td>-0.676979</td>\n",
              "      <td>-0.798248</td>\n",
              "    </tr>\n",
              "    <tr>\n",
              "      <th>2</th>\n",
              "      <td>1</td>\n",
              "      <td>-0.685436</td>\n",
              "      <td>-1.036870</td>\n",
              "      <td>-0.988808</td>\n",
              "      <td>-0.873778</td>\n",
              "      <td>-0.712134</td>\n",
              "      <td>-0.808934</td>\n",
              "      <td>-0.856874</td>\n",
              "      <td>-1.482289</td>\n",
              "      <td>-1.030598</td>\n",
              "      <td>-1.017853</td>\n",
              "      <td>-0.866258</td>\n",
              "      <td>-0.708746</td>\n",
              "      <td>-0.808934</td>\n",
              "      <td>-0.856874</td>\n",
              "      <td>-1.494080</td>\n",
              "      <td>-1.030598</td>\n",
              "      <td>-1.017853</td>\n",
              "      <td>-0.808710</td>\n",
              "      <td>-0.692176</td>\n",
              "      <td>-0.815826</td>\n",
              "      <td>-0.856874</td>\n",
              "      <td>-1.499903</td>\n",
              "      <td>-1.024363</td>\n",
              "      <td>-1.032332</td>\n",
              "      <td>-0.808710</td>\n",
              "      <td>-0.789880</td>\n",
              "      <td>-0.786844</td>\n",
              "      <td>-0.856874</td>\n",
              "      <td>-1.440777</td>\n",
              "      <td>-1.008636</td>\n",
              "      <td>-1.032332</td>\n",
              "      <td>-0.808710</td>\n",
              "      <td>-0.789880</td>\n",
              "      <td>-0.786844</td>\n",
              "      <td>-0.856874</td>\n",
              "      <td>-1.451894</td>\n",
              "      <td>-0.957185</td>\n",
              "      <td>-1.032332</td>\n",
              "      <td>-0.817403</td>\n",
              "      <td>-0.646145</td>\n",
              "      <td>-0.765564</td>\n",
              "      <td>-0.856874</td>\n",
              "      <td>-1.465664</td>\n",
              "      <td>-0.964683</td>\n",
              "      <td>-0.881456</td>\n",
              "      <td>-0.693639</td>\n",
              "      <td>-0.787613</td>\n",
              "      <td>-0.993108</td>\n",
              "      <td>-0.874678</td>\n",
              "      <td>-0.690951</td>\n",
              "      <td>-0.787613</td>\n",
              "      <td>-0.993108</td>\n",
              "      <td>-0.821229</td>\n",
              "      <td>-0.696998</td>\n",
              "      <td>-0.794331</td>\n",
              "      <td>-1.007268</td>\n",
              "      <td>-0.821229</td>\n",
              "      <td>-0.807466</td>\n",
              "      <td>-0.817654</td>\n",
              "      <td>-1.007268</td>\n",
              "      <td>-0.821229</td>\n",
              "      <td>-0.807466</td>\n",
              "      <td>-0.817654</td>\n",
              "      <td>-1.007268</td>\n",
              "      <td>-0.829359</td>\n",
              "      <td>-0.676979</td>\n",
              "      <td>-0.798248</td>\n",
              "    </tr>\n",
              "    <tr>\n",
              "      <th>3</th>\n",
              "      <td>1</td>\n",
              "      <td>-0.661883</td>\n",
              "      <td>-1.021706</td>\n",
              "      <td>-0.988808</td>\n",
              "      <td>-0.857995</td>\n",
              "      <td>-0.712134</td>\n",
              "      <td>-0.808934</td>\n",
              "      <td>-0.856874</td>\n",
              "      <td>-1.482289</td>\n",
              "      <td>-1.015422</td>\n",
              "      <td>-1.017853</td>\n",
              "      <td>-0.850359</td>\n",
              "      <td>-0.686761</td>\n",
              "      <td>-0.808934</td>\n",
              "      <td>-0.856874</td>\n",
              "      <td>-1.492705</td>\n",
              "      <td>-1.015422</td>\n",
              "      <td>-1.017853</td>\n",
              "      <td>-0.791931</td>\n",
              "      <td>-0.648175</td>\n",
              "      <td>-0.780323</td>\n",
              "      <td>-0.856874</td>\n",
              "      <td>-1.498527</td>\n",
              "      <td>-0.972043</td>\n",
              "      <td>-1.005092</td>\n",
              "      <td>-0.791931</td>\n",
              "      <td>-0.694285</td>\n",
              "      <td>-0.734063</td>\n",
              "      <td>-0.856874</td>\n",
              "      <td>-1.441958</td>\n",
              "      <td>-0.955544</td>\n",
              "      <td>-1.005092</td>\n",
              "      <td>-0.791931</td>\n",
              "      <td>-0.694285</td>\n",
              "      <td>-0.734063</td>\n",
              "      <td>-0.856874</td>\n",
              "      <td>-1.454537</td>\n",
              "      <td>-0.901556</td>\n",
              "      <td>-1.005092</td>\n",
              "      <td>-0.800759</td>\n",
              "      <td>-0.534390</td>\n",
              "      <td>-0.711646</td>\n",
              "      <td>-0.856874</td>\n",
              "      <td>-1.466489</td>\n",
              "      <td>-0.964683</td>\n",
              "      <td>-0.881456</td>\n",
              "      <td>-0.693639</td>\n",
              "      <td>-0.787613</td>\n",
              "      <td>-0.993108</td>\n",
              "      <td>-0.874678</td>\n",
              "      <td>-0.690951</td>\n",
              "      <td>-0.787613</td>\n",
              "      <td>-0.993108</td>\n",
              "      <td>-0.821229</td>\n",
              "      <td>-0.696998</td>\n",
              "      <td>-0.794331</td>\n",
              "      <td>-1.007268</td>\n",
              "      <td>-0.821229</td>\n",
              "      <td>-0.807466</td>\n",
              "      <td>-0.817654</td>\n",
              "      <td>-1.007268</td>\n",
              "      <td>-0.821229</td>\n",
              "      <td>-0.807466</td>\n",
              "      <td>-0.817654</td>\n",
              "      <td>-1.007268</td>\n",
              "      <td>-0.829359</td>\n",
              "      <td>-0.676979</td>\n",
              "      <td>-0.798248</td>\n",
              "    </tr>\n",
              "    <tr>\n",
              "      <th>4</th>\n",
              "      <td>1</td>\n",
              "      <td>-0.624313</td>\n",
              "      <td>-1.006542</td>\n",
              "      <td>-0.988808</td>\n",
              "      <td>-0.826429</td>\n",
              "      <td>-0.690437</td>\n",
              "      <td>-0.773422</td>\n",
              "      <td>-0.856874</td>\n",
              "      <td>-1.482289</td>\n",
              "      <td>-0.963151</td>\n",
              "      <td>-0.990423</td>\n",
              "      <td>-0.818560</td>\n",
              "      <td>-0.642791</td>\n",
              "      <td>-0.773422</td>\n",
              "      <td>-0.856874</td>\n",
              "      <td>-1.491329</td>\n",
              "      <td>-0.963151</td>\n",
              "      <td>-0.990423</td>\n",
              "      <td>-0.758373</td>\n",
              "      <td>-0.648175</td>\n",
              "      <td>-0.762571</td>\n",
              "      <td>-0.856874</td>\n",
              "      <td>-1.498527</td>\n",
              "      <td>-0.919724</td>\n",
              "      <td>-0.964233</td>\n",
              "      <td>-0.758373</td>\n",
              "      <td>-0.636928</td>\n",
              "      <td>-0.698877</td>\n",
              "      <td>-0.856874</td>\n",
              "      <td>-1.444319</td>\n",
              "      <td>-0.902453</td>\n",
              "      <td>-0.964233</td>\n",
              "      <td>-0.758373</td>\n",
              "      <td>-0.636928</td>\n",
              "      <td>-0.698877</td>\n",
              "      <td>-0.856874</td>\n",
              "      <td>-1.457180</td>\n",
              "      <td>-0.845927</td>\n",
              "      <td>-0.964233</td>\n",
              "      <td>-0.767472</td>\n",
              "      <td>-0.467336</td>\n",
              "      <td>-0.675701</td>\n",
              "      <td>-0.856874</td>\n",
              "      <td>-1.468140</td>\n",
              "      <td>-0.964683</td>\n",
              "      <td>-0.865701</td>\n",
              "      <td>-0.693639</td>\n",
              "      <td>-0.787613</td>\n",
              "      <td>-0.993108</td>\n",
              "      <td>-0.858803</td>\n",
              "      <td>-0.690951</td>\n",
              "      <td>-0.787613</td>\n",
              "      <td>-0.993108</td>\n",
              "      <td>-0.804445</td>\n",
              "      <td>-0.696998</td>\n",
              "      <td>-0.794331</td>\n",
              "      <td>-1.007268</td>\n",
              "      <td>-0.804445</td>\n",
              "      <td>-0.769222</td>\n",
              "      <td>-0.782465</td>\n",
              "      <td>-1.007268</td>\n",
              "      <td>-0.804445</td>\n",
              "      <td>-0.769222</td>\n",
              "      <td>-0.782465</td>\n",
              "      <td>-1.007268</td>\n",
              "      <td>-0.812714</td>\n",
              "      <td>-0.632384</td>\n",
              "      <td>-0.762387</td>\n",
              "    </tr>\n",
              "  </tbody>\n",
              "</table>\n",
              "</div>"
            ],
            "text/plain": [
              "   홍수사상번호       유입량  ...  lag3_데이터집단6_강우(C지역)  lag3_데이터집단6_강우(D지역)\n",
              "0       1 -0.714002  ...            -0.676979            -0.798248\n",
              "1       1 -0.701236  ...            -0.676979            -0.798248\n",
              "2       1 -0.685436  ...            -0.676979            -0.798248\n",
              "3       1 -0.661883  ...            -0.676979            -0.798248\n",
              "4       1 -0.624313  ...            -0.632384            -0.762387\n",
              "\n",
              "[5 rows x 68 columns]"
            ]
          },
          "metadata": {},
          "execution_count": 105
        }
      ]
    },
    {
      "cell_type": "code",
      "metadata": {
        "colab": {
          "base_uri": "https://localhost:8080/"
        },
        "id": "n3p6hLXRKY9R",
        "outputId": "20566cef-35f3-48db-9fd3-0a314c30cf33"
      },
      "source": [
        "data.shape"
      ],
      "execution_count": 106,
      "outputs": [
        {
          "output_type": "execute_result",
          "data": {
            "text/plain": [
              "(3051, 68)"
            ]
          },
          "metadata": {},
          "execution_count": 106
        }
      ]
    },
    {
      "cell_type": "code",
      "metadata": {
        "id": "MzeUs2iRKlPw"
      },
      "source": [
        "Y_train=data['유입량'].iloc[:2891]\n",
        "train=data.drop(columns=['유입량'], axis=1).iloc[:2891]"
      ],
      "execution_count": 108,
      "outputs": []
    },
    {
      "cell_type": "code",
      "metadata": {
        "id": "uIz1HKSiFdjk"
      },
      "source": [
        "from sklearn.model_selection import train_test_split\n",
        "x_train, x_valid, y_train, y_valid = train_test_split(train, Y_train, test_size=0.15, random_state=42)"
      ],
      "execution_count": 109,
      "outputs": []
    },
    {
      "cell_type": "code",
      "metadata": {
        "colab": {
          "base_uri": "https://localhost:8080/"
        },
        "id": "kaDdex6tFdf9",
        "outputId": "b76ea4a7-d20b-42dd-b0c3-eb29bf9ed215"
      },
      "source": [
        "xg_reg.fit(x_train,y_train)\n",
        "\n",
        "y_pred = xg_reg.predict(x_valid)\n",
        "print(mean_squared_error(y_valid, y_pred, squared=False))"
      ],
      "execution_count": 110,
      "outputs": [
        {
          "output_type": "stream",
          "name": "stdout",
          "text": [
            "[17:32:32] WARNING: /workspace/src/objective/regression_obj.cu:152: reg:linear is now deprecated in favor of reg:squarederror.\n",
            "0.1423741957450201\n"
          ]
        }
      ]
    },
    {
      "cell_type": "code",
      "metadata": {
        "colab": {
          "base_uri": "https://localhost:8080/"
        },
        "id": "e4KLwDh1FdUS",
        "outputId": "fcf12ecc-22d3-4f99-e099-4953b8d7baa9"
      },
      "source": [
        "## 나중에 예측값 내고. (pred+mean)*std 하기.\n",
        "scaled_pred=(y_pred*std)+mean\n",
        "scaled_pred=[x if x>0 else 0 for x in scaled_pred]\n",
        "scaled_test_label=(y_valid*std)+mean\n",
        "\n",
        "from sklearn.metrics import mean_squared_error\n",
        "print(mean_squared_error(scaled_test_label,scaled_pred, squared=False))"
      ],
      "execution_count": 120,
      "outputs": [
        {
          "output_type": "stream",
          "name": "stdout",
          "text": [
            "310.63061191037787\n"
          ]
        }
      ]
    }
  ]
}
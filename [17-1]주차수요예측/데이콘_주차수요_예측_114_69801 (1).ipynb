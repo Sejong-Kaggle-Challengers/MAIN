{
  "nbformat": 4,
  "nbformat_minor": 0,
  "metadata": {
    "colab": {
      "name": "데이콘 - 주차수요 예측 114.69801.ipynb",
      "provenance": []
    },
    "kernelspec": {
      "name": "python3",
      "display_name": "Python 3"
    },
    "language_info": {
      "name": "python"
    },
    "accelerator": "GPU"
  },
  "cells": [
    {
      "cell_type": "code",
      "metadata": {
        "colab": {
          "base_uri": "https://localhost:8080/"
        },
        "id": "F5u9bOPcdT18",
        "outputId": "4a23e8ba-b4fd-4d2a-c3a6-c6bcf2feac09"
      },
      "source": [
        "from google.colab import drive\n",
        "drive.mount('/content/drive')"
      ],
      "execution_count": 1,
      "outputs": [
        {
          "output_type": "stream",
          "text": [
            "Drive already mounted at /content/drive; to attempt to forcibly remount, call drive.mount(\"/content/drive\", force_remount=True).\n"
          ],
          "name": "stdout"
        }
      ]
    },
    {
      "cell_type": "markdown",
      "metadata": {
        "id": "vNnSGVxfUL0h"
      },
      "source": [
        "# 임대주택 단지 내 적정 주차수요 예측 대회\n",
        "\n",
        "### [배경]\n",
        "\n",
        "아파트 단지 내 필요한 주차대수는 ①법정주차대수 ②장래주차수요 중 큰 값에 따라 결정하게되어 있어, 정확한 ②장래주차수요의 산정을 필요로 합니다.\n",
        "현재 ②장래주차수요는 ‘주차원단위’와 ‘건축연면적’을 기초로하여 산출되고 있으며,\n",
        "‘주차원단위’는 신규 건축예정 부지 인근의 유사 단지를 피크 시간대 방문하여 주차된 차량대수를 세는 방법으로 조사하고 있습니다.\n",
        "이 경우 인력조사로 인한 오차발생, 현장조사 시점과 실제 건축시점과의 시간차 등의 문제로 과대 또는 과소 산정의 가능성을 배제할 수 없습니다.\n",
        "\n",
        "\n",
        "### [주제] 유형별 임대주택 설계 시 단지 내 적정 주차 수요를 예측\n",
        "\n",
        "\n",
        "### [평가]\n",
        "\n",
        "*   평가산식 : MAE(Mean Absolute Error)\n",
        "*   Public 평가 : 전체 Test 데이터 중 무작위 33% (50단지)\n",
        "*   Private 평가 : 전체 Test 데이터 중 나머지 67% (100단지)\n",
        "\n",
        "\n",
        "### [외부 데이터 및 사전학습 모델]\n",
        "\n",
        "*   공공 데이터와 같이 누구나 얻을 수 있고 법적 제약이 없는 외부 데이터 허용\n",
        "*   사전학습 모델의 경우 사전학습에 사용된 데이터를 명시해야함\n",
        "*   최종 평가시 외부데이터 및 출처 제출\n",
        "\n",
        "Data Understanding\n",
        "\n",
        "train.csv - 학습용 데이터\n",
        "\n",
        "\n",
        "단지코드(key)\n",
        "\n",
        "총세대수\n",
        "\n",
        "임대건물구분\n",
        "\n",
        "지역\n",
        "\n",
        "공급유형\n",
        "\n",
        "전용면적\n",
        "\n",
        "전용면적별세대수\n",
        "\n",
        "공가수: 빈집\n",
        "\n",
        "자격유형: 임차를 할 수 있는 자격 요건\n",
        "\n",
        "임대료보증금\n",
        "\n",
        "임대료\n",
        "\n",
        "도보 10분거리 내 지하철역 수(환승노선 수 반영)\n",
        "\n",
        "도보 10분거리 내 버스정류장 수\n",
        "\n",
        "단지내주차면수\n",
        "\n",
        "등록차량수(target)\n",
        "\n",
        "age_gender_info.csv - 지역 임대주택 나이별, 성별 인구 분포\n",
        "\n",
        "\n",
        "지역\n",
        "\n",
        "10대미만(여자)\n",
        "10대미만(남자)\n",
        "20대(여자)\n",
        "20대(남자)\n",
        "30대(여자)\n",
        "30대(남자)\n",
        "40대(여자)\n",
        "40대(남자)\n",
        "50대(여자)\n",
        "50대(남자)\n",
        "60대(여자)\n",
        "60대(남자)\n",
        "70대(여자)\n",
        "70대(남자)\n",
        "80대(여자)\n",
        "80대(남자)\n",
        "90대(여자)\n",
        "90대(남자)\n",
        "100대(여자)\n",
        "100대(남자)"
      ]
    },
    {
      "cell_type": "code",
      "metadata": {
        "colab": {
          "base_uri": "https://localhost:8080/"
        },
        "id": "QeuQpb2xNs2K",
        "outputId": "776058b0-87bb-4629-eafb-f5dcdb2e100d"
      },
      "source": [
        "!sudo apt-get install -y fonts-nanum\n",
        "!sudo fc-cache -fv\n",
        "\n",
        "!rm ~/.cache/matplotlib -rf"
      ],
      "execution_count": 2,
      "outputs": [
        {
          "output_type": "stream",
          "text": [
            "Reading package lists... Done\n",
            "Building dependency tree       \n",
            "Reading state information... Done\n",
            "The following NEW packages will be installed:\n",
            "  fonts-nanum\n",
            "0 upgraded, 1 newly installed, 0 to remove and 39 not upgraded.\n",
            "Need to get 9,604 kB of archives.\n",
            "After this operation, 29.5 MB of additional disk space will be used.\n",
            "Get:1 http://archive.ubuntu.com/ubuntu bionic/universe amd64 fonts-nanum all 20170925-1 [9,604 kB]\n",
            "Fetched 9,604 kB in 1s (10.2 MB/s)\n",
            "debconf: unable to initialize frontend: Dialog\n",
            "debconf: (No usable dialog-like program is installed, so the dialog based frontend cannot be used. at /usr/share/perl5/Debconf/FrontEnd/Dialog.pm line 76, <> line 1.)\n",
            "debconf: falling back to frontend: Readline\n",
            "debconf: unable to initialize frontend: Readline\n",
            "debconf: (This frontend requires a controlling tty.)\n",
            "debconf: falling back to frontend: Teletype\n",
            "dpkg-preconfigure: unable to re-open stdin: \n",
            "Selecting previously unselected package fonts-nanum.\n",
            "(Reading database ... 160837 files and directories currently installed.)\n",
            "Preparing to unpack .../fonts-nanum_20170925-1_all.deb ...\n",
            "Unpacking fonts-nanum (20170925-1) ...\n",
            "Setting up fonts-nanum (20170925-1) ...\n",
            "Processing triggers for fontconfig (2.12.6-0ubuntu2) ...\n",
            "/usr/share/fonts: caching, new cache contents: 0 fonts, 1 dirs\n",
            "/usr/share/fonts/truetype: caching, new cache contents: 0 fonts, 3 dirs\n",
            "/usr/share/fonts/truetype/humor-sans: caching, new cache contents: 1 fonts, 0 dirs\n",
            "/usr/share/fonts/truetype/liberation: caching, new cache contents: 16 fonts, 0 dirs\n",
            "/usr/share/fonts/truetype/nanum: caching, new cache contents: 10 fonts, 0 dirs\n",
            "/usr/local/share/fonts: caching, new cache contents: 0 fonts, 0 dirs\n",
            "/root/.local/share/fonts: skipping, no such directory\n",
            "/root/.fonts: skipping, no such directory\n",
            "/var/cache/fontconfig: cleaning cache directory\n",
            "/root/.cache/fontconfig: not cleaning non-existent cache directory\n",
            "/root/.fontconfig: not cleaning non-existent cache directory\n",
            "fc-cache: succeeded\n"
          ],
          "name": "stdout"
        }
      ]
    },
    {
      "cell_type": "code",
      "metadata": {
        "id": "RpiN8NqFTZdJ"
      },
      "source": [
        "import pandas as pd\n",
        "import numpy as np\n",
        "from tqdm import tqdm\n",
        "from sklearn.ensemble import RandomForestRegressor\n",
        "import lightgbm as lgb\n",
        "import matplotlib.pyplot as plt\n",
        "plt.rc('font', family = 'NanumBarunGothic', size=15)\n",
        "import seaborn as sns\n",
        "import warnings\n",
        "warnings.filterwarnings('ignore')"
      ],
      "execution_count": 6,
      "outputs": []
    },
    {
      "cell_type": "code",
      "metadata": {
        "colab": {
          "base_uri": "https://localhost:8080/"
        },
        "id": "NIBYXxKlzhlE",
        "outputId": "67474be0-3469-4bc7-8bd1-d6c45d5786aa"
      },
      "source": [
        "\n",
        "\n",
        "root_dir = '/content/drive/MyDrive/235745_parking_data/'\n",
        "\n",
        "train = pd.read_csv(root_dir + 'train.csv')\n",
        "test = pd.read_csv(root_dir + 'test.csv')\n",
        "age = pd.read_csv(root_dir + 'age_gender_info.csv')\n",
        "submission = pd.read_csv(root_dir + 'sample_submission.csv')\n",
        "train.head(10)\n",
        "print(train.isna().sum())\n",
        "print('----------------------------------')\n",
        "print(test.isna().sum())\n",
        "print('----------------------------------')\n",
        "print(age.isnull().sum())\n",
        "print(f'train: {train.shape}, test: {test.shape}, age: {age.shape}')\n"
      ],
      "execution_count": 7,
      "outputs": [
        {
          "output_type": "stream",
          "text": [
            "단지코드                              0\n",
            "총세대수                              0\n",
            "임대건물구분                            0\n",
            "지역                                0\n",
            "공급유형                              0\n",
            "전용면적                              0\n",
            "전용면적별세대수                          0\n",
            "공가수                               0\n",
            "자격유형                              0\n",
            "임대보증금                           569\n",
            "임대료                             569\n",
            "도보 10분거리 내 지하철역 수(환승노선 수 반영)    211\n",
            "도보 10분거리 내 버스정류장 수                4\n",
            "단지내주차면수                           0\n",
            "등록차량수                             0\n",
            "dtype: int64\n",
            "----------------------------------\n",
            "단지코드                              0\n",
            "총세대수                              0\n",
            "임대건물구분                            0\n",
            "지역                                0\n",
            "공급유형                              0\n",
            "전용면적                              0\n",
            "전용면적별세대수                          0\n",
            "공가수                               0\n",
            "자격유형                              2\n",
            "임대보증금                           180\n",
            "임대료                             180\n",
            "도보 10분거리 내 지하철역 수(환승노선 수 반영)     42\n",
            "도보 10분거리 내 버스정류장 수                0\n",
            "단지내주차면수                           0\n",
            "dtype: int64\n",
            "----------------------------------\n",
            "지역           0\n",
            "10대미만(여자)    0\n",
            "10대미만(남자)    0\n",
            "10대(여자)      0\n",
            "10대(남자)      0\n",
            "20대(여자)      0\n",
            "20대(남자)      0\n",
            "30대(여자)      0\n",
            "30대(남자)      0\n",
            "40대(여자)      0\n",
            "40대(남자)      0\n",
            "50대(여자)      0\n",
            "50대(남자)      0\n",
            "60대(여자)      0\n",
            "60대(남자)      0\n",
            "70대(여자)      0\n",
            "70대(남자)      0\n",
            "80대(여자)      0\n",
            "80대(남자)      0\n",
            "90대(여자)      0\n",
            "90대(남자)      0\n",
            "100대(여자)     0\n",
            "100대(남자)     0\n",
            "dtype: int64\n",
            "train: (2952, 15), test: (1022, 14), age: (16, 23)\n"
          ],
          "name": "stdout"
        }
      ]
    },
    {
      "cell_type": "code",
      "metadata": {
        "colab": {
          "base_uri": "https://localhost:8080/",
          "height": 1000
        },
        "id": "WlureDKHKQj-",
        "outputId": "9ad294bc-2b53-43dc-aebb-df72e275d7ae"
      },
      "source": [
        "agg = age.set_index('지역') #특별시, 광역시, 도\n",
        "\n",
        "plt.figure(figsize=(20,16))\n",
        "sns.heatmap((agg*100).round(2), annot=True)\n",
        "\n",
        "plt.show()"
      ],
      "execution_count": null,
      "outputs": [
        {
          "output_type": "display_data",
          "data": {
            "image/png": "[encoded data removed]",
            "text/plain": [
              "<Figure size 1440x1152 with 2 Axes>"
            ]
          },
          "metadata": {
            "tags": [],
            "needs_background": "light"
          }
        }
      ]
    },
    {
      "cell_type": "markdown",
      "metadata": {
        "id": "KoZMEPfmOe3U"
      },
      "source": [
        "서울에 10대 미만인 여자, 남자가 적다\n",
        "\n",
        "세종특별자치시 30대 다른 지역보다 많음, 인구분포가 \n",
        "\n",
        "부산, 서울 60대 이상이 많다. + 대구광역시, 울산광역시"
      ]
    },
    {
      "cell_type": "code",
      "metadata": {
        "colab": {
          "base_uri": "https://localhost:8080/",
          "height": 866
        },
        "id": "UPkbPjxqWFR8",
        "outputId": "7f728903-daa4-4169-a438-e9e8bbc3fac8"
      },
      "source": [
        "fig = plt.figure(figsize=(30,20))\n",
        "plt.xticks(rotation=90)\n",
        "for i, n in enumerate(list(agg.index)):\n",
        "  plt.subplot(5, 5, i+1)\n",
        "  plt.subplots_adjust(hspace=1.0)\n",
        "  plt.title(\"{} 인구비중\".format(n))\n",
        "  sns.barplot(data=agg.loc[agg.index == n])\n",
        "  plt.xticks(rotation=90)"
      ],
      "execution_count": null,
      "outputs": [
        {
          "output_type": "display_data",
          "data": {
            "image/png": "[encoded data removed]",
            "text/plain": [
              "<Figure size 2160x1440 with 16 Axes>"
            ]
          },
          "metadata": {
            "tags": [],
            "needs_background": "light"
          }
        }
      ]
    },
    {
      "cell_type": "code",
      "metadata": {
        "id": "5J6mjgw00l7I"
      },
      "source": [
        "train.columns = [\n",
        "    '단지코드', '총세대수', '임대건물구분', '지역', '공급유형', '전용면적', '전용면적별세대수', '공가수', '신분',\n",
        "    '임대보증금', '임대료', '지하철', '버스',\n",
        "    '단지내주차면수', '등록차량수'\n",
        "]\n",
        "\n",
        "test.columns = [\n",
        "    '단지코드', '총세대수', '임대건물구분', '지역', '공급유형', '전용면적', '전용면적별세대수', '공가수', '신분',\n",
        "    '임대보증금', '임대료', '지하철', '버스',\n",
        "    '단지내주차면수'\n",
        "]"
      ],
      "execution_count": 8,
      "outputs": []
    },
    {
      "cell_type": "code",
      "metadata": {
        "colab": {
          "base_uri": "https://localhost:8080/"
        },
        "id": "xA1r96Dq6L8x",
        "outputId": "29a02a75-f55c-4853-9d0b-e7b1e414d059"
      },
      "source": [
        "train.info()"
      ],
      "execution_count": 9,
      "outputs": [
        {
          "output_type": "stream",
          "text": [
            "<class 'pandas.core.frame.DataFrame'>\n",
            "RangeIndex: 2952 entries, 0 to 2951\n",
            "Data columns (total 15 columns):\n",
            " #   Column    Non-Null Count  Dtype  \n",
            "---  ------    --------------  -----  \n",
            " 0   단지코드      2952 non-null   object \n",
            " 1   총세대수      2952 non-null   int64  \n",
            " 2   임대건물구분    2952 non-null   object \n",
            " 3   지역        2952 non-null   object \n",
            " 4   공급유형      2952 non-null   object \n",
            " 5   전용면적      2952 non-null   float64\n",
            " 6   전용면적별세대수  2952 non-null   int64  \n",
            " 7   공가수       2952 non-null   float64\n",
            " 8   신분        2952 non-null   object \n",
            " 9   임대보증금     2383 non-null   object \n",
            " 10  임대료       2383 non-null   object \n",
            " 11  지하철       2741 non-null   float64\n",
            " 12  버스        2948 non-null   float64\n",
            " 13  단지내주차면수   2952 non-null   float64\n",
            " 14  등록차량수     2952 non-null   float64\n",
            "dtypes: float64(6), int64(2), object(7)\n",
            "memory usage: 346.1+ KB\n"
          ],
          "name": "stdout"
        }
      ]
    },
    {
      "cell_type": "code",
      "metadata": {
        "colab": {
          "base_uri": "https://localhost:8080/"
        },
        "id": "_UKsL18s2xdz",
        "outputId": "ce5afb0b-85d6-4a9d-92a5-50f0d2eb579b"
      },
      "source": [
        "#결측치 처리\n",
        "\n",
        "# train['지하철'].fillna(train['지하철'].mean(), inplace=True)\n",
        "# train['버스'].fillna(train['버스'].mean(), inplace=True)\n",
        "# train.loc[train['임대보증금']=='-', '임대보증금'] = np.nan\n",
        "# train.loc[train['임대료']=='-', '임대료'] = np.nan\n",
        "# train['임대보증금'] = train['임대보증금'].astype(float)\n",
        "# train['임대료'] = train['임대료'].astype(float)\n",
        "# train['임대보증금'].fillna(train['임대보증금'].mean(), inplace=True)\n",
        "# train['임대료'].fillna(train['임대료'].mean(), inplace=True)\n",
        "\n",
        "# test['지하철'].fillna(test['지하철'].mean(), inplace=True)\n",
        "# test.loc[test['임대보증금']=='-', '임대보증금'] = np.nan\n",
        "# test.loc[test['임대료']=='-', '임대료'] = np.nan\n",
        "# test['임대보증금'] = test['임대보증금'].astype(float)\n",
        "# test['임대료'] = test['임대료'].astype(float)\n",
        "# test['임대보증금'].fillna(test['임대보증금'].mean(), inplace=True)\n",
        "# test['임대료'].fillna(test['임대료'].mean(), inplace=True)\n",
        "\n",
        "train['지하철'].fillna(train['지하철'].mean(), inplace=True)\n",
        "train['버스'].fillna(train['버스'].mean(), inplace=True)\n",
        "train.loc[train['임대보증금']=='-', '임대보증금'] = np.nan\n",
        "train.loc[train['임대료']=='-', '임대료'] = np.nan\n",
        "train['임대보증금'] = train['임대보증금'].astype(float)\n",
        "train['임대료'] = train['임대료'].astype(float)\n",
        "train['임대보증금'].fillna(0, inplace=True)\n",
        "train['임대료'].fillna(0, inplace=True)\n",
        "\n",
        "test['지하철'].fillna(test['지하철'].mean(), inplace=True)\n",
        "test.loc[test['임대보증금']=='-', '임대보증금'] = np.nan\n",
        "test.loc[test['임대료']=='-', '임대료'] = np.nan\n",
        "test['임대보증금'] = test['임대보증금'].astype(float)\n",
        "test['임대료'] = test['임대료'].astype(float)\n",
        "test['임대보증금'].fillna(0, inplace=True)\n",
        "test['임대료'].fillna(0, inplace=True)\n",
        "\n",
        "# train[train['지하철'].isnull()]\n",
        "\n",
        "test.dropna(subset=['신분'], axis=0, inplace=True)\n",
        "\n",
        "train.isnull().sum()\n",
        "test.isnull().sum()"
      ],
      "execution_count": 10,
      "outputs": [
        {
          "output_type": "execute_result",
          "data": {
            "text/plain": [
              "단지코드        0\n",
              "총세대수        0\n",
              "임대건물구분      0\n",
              "지역          0\n",
              "공급유형        0\n",
              "전용면적        0\n",
              "전용면적별세대수    0\n",
              "공가수         0\n",
              "신분          0\n",
              "임대보증금       0\n",
              "임대료         0\n",
              "지하철         0\n",
              "버스          0\n",
              "단지내주차면수     0\n",
              "dtype: int64"
            ]
          },
          "metadata": {
            "tags": []
          },
          "execution_count": 10
        }
      ]
    },
    {
      "cell_type": "code",
      "metadata": {
        "colab": {
          "base_uri": "https://localhost:8080/"
        },
        "id": "4VoAgMYKQK_F",
        "outputId": "4f0a00e0-0051-4447-86d0-40be678d2069"
      },
      "source": [
        "print(train.shape, train.drop_duplicates().shape)\n",
        "print(test.shape, test.drop_duplicates().shape)\n",
        "\n",
        "\n",
        "#중복 제거\n",
        "train = train.drop_duplicates()\n",
        "test = test.drop_duplicates()"
      ],
      "execution_count": 11,
      "outputs": [
        {
          "output_type": "stream",
          "text": [
            "(2952, 15) (2632, 15)\n",
            "(1020, 14) (947, 14)\n"
          ],
          "name": "stdout"
        }
      ]
    },
    {
      "cell_type": "code",
      "metadata": {
        "id": "osK-BIsZsqTc"
      },
      "source": [
        "train_mis= ['C1095', 'C2051', 'C1218', 'C1894', 'C2483', 'C1502', 'C1988', 'C2085', 'C1397', 'C2431', 'C1649', 'C1036']\n",
        "test_mis = ['C2335', 'C1327']\n",
        "\n",
        "idx = train.loc[train['단지코드'].isin(train_mis)].index\n",
        "train = train.drop(idx)\n",
        "\n",
        "# idx = test.loc[test['단지코드'].isin(test_mis)].index\n",
        "# test = test.drop(idx)"
      ],
      "execution_count": 12,
      "outputs": []
    },
    {
      "cell_type": "code",
      "metadata": {
        "colab": {
          "base_uri": "https://localhost:8080/"
        },
        "id": "vv7ERRWfzSR9",
        "outputId": "f1820c5b-113d-4bd3-d4a0-b30a1bfa80f5"
      },
      "source": [
        "train.shape, test.shape, submission.shape"
      ],
      "execution_count": 13,
      "outputs": [
        {
          "output_type": "execute_result",
          "data": {
            "text/plain": [
              "((2549, 15), (947, 14), (150, 2))"
            ]
          },
          "metadata": {
            "tags": []
          },
          "execution_count": 13
        }
      ]
    },
    {
      "cell_type": "code",
      "metadata": {
        "colab": {
          "base_uri": "https://localhost:8080/"
        },
        "id": "QrHs6vDs2z03",
        "outputId": "2c0d305b-4d63-4f29-f2b0-c9d0260759cf"
      },
      "source": [
        "ob =[x for x in train.columns if train[x].dtype==object]\n",
        "\n",
        "for x in ob:\n",
        "  print(train[x].unique())\n",
        "  print(test[x].unique())"
      ],
      "execution_count": 14,
      "outputs": [
        {
          "output_type": "stream",
          "text": [
            "['C2515' 'C1407' 'C1945' 'C1470' 'C1898' 'C1244' 'C1171' 'C2073' 'C2513'\n",
            " 'C1936' 'C2049' 'C2202' 'C1925' 'C2576' 'C1312' 'C1874' 'C2650' 'C2416'\n",
            " 'C2013' 'C1424' 'C2100' 'C2621' 'C2520' 'C2319' 'C1616' 'C1704' 'C2258'\n",
            " 'C1032' 'C2038' 'C1859' 'C1722' 'C1850' 'C2190' 'C1476' 'C1077' 'C1068'\n",
            " 'C1983' 'C2135' 'C2034' 'C1109' 'C1497' 'C2289' 'C2597' 'C2310' 'C1672'\n",
            " 'C2132' 'C1439' 'C1613' 'C2216' 'C1899' 'C1056' 'C2644' 'C1206' 'C2481'\n",
            " 'C1718' 'C1655' 'C1430' 'C1775' 'C1519' 'C2221' 'C1790' 'C2109' 'C1698'\n",
            " 'C1866' 'C1005' 'C1004' 'C1875' 'C2156' 'C2212' 'C2401' 'C2571' 'C1175'\n",
            " 'C1833' 'C2445' 'C1885' 'C2368' 'C2016' 'C2371' 'C2536' 'C2538' 'C1014'\n",
            " 'C1592' 'C1867' 'C2326' 'C1015' 'C1620' 'C1049' 'C2000' 'C2097' 'C1668'\n",
            " 'C1689' 'C1234' 'C2514' 'C1368' 'C1057' 'C2336' 'C1026' 'C2256' 'C1900'\n",
            " 'C2666' 'C2361' 'C1642' 'C1013' 'C2232' 'C1973' 'C2458' 'C2574' 'C2133'\n",
            " 'C2096' 'C2010' 'C1879' 'C1131' 'C1468' 'C1213' 'C1173' 'C2492' 'C2032'\n",
            " 'C2094' 'C1880' 'C2089' 'C1744' 'C2046' 'C2071' 'C2635' 'C2390' 'C2561'\n",
            " 'C1663' 'C2490' 'C2066' 'C1585' 'C2276' 'C1155' 'C1693' 'C1889' 'C2518'\n",
            " 'C1962' 'C1666' 'C1537' 'C1329' 'C1762' 'C2008' 'C1319' 'C1141' 'C2340'\n",
            " 'C1929' 'C1681' 'C1184' 'C2383' 'C1579' 'C2173' 'C1911' 'C1638' 'C2412'\n",
            " 'C1871' 'C1309' 'C1527' 'C2208' 'C1940' 'C2596' 'C2227' 'C2563' 'C2358'\n",
            " 'C1492' 'C1601' 'C1687' 'C1236' 'C1487' 'C1379' 'C1386' 'C1656' 'C2526'\n",
            " 'C1022' 'C1896' 'C1269' 'C1916' 'C2070' 'C1967' 'C2021' 'C1143' 'C2188'\n",
            " 'C2651' 'C2657' 'C2527' 'C2262' 'C1084' 'C2530' 'C1046' 'C1761' 'C1102'\n",
            " 'C2420' 'C1122' 'C2042' 'C1375' 'C1410' 'C1641' 'C1706' 'C1307' 'C2601'\n",
            " 'C1085' 'C2385' 'C1059' 'C2162' 'C1819' 'C2325' 'C2394' 'C1133' 'C1281'\n",
            " 'C1194' 'C2308' 'C2036' 'C1394' 'C1180' 'C2503' 'C1907' 'C2181' 'C1768'\n",
            " 'C1783' 'C2192' 'C2346' 'C2680' 'C2631' 'C2141' 'C1569' 'C2099' 'C2287'\n",
            " 'C2055' 'C1428' 'C2522' 'C2560' 'C2068' 'C2603' 'C1965' 'C1660' 'C2378'\n",
            " 'C1268' 'C1994' 'C1837' 'C1000' 'C1465' 'C1448' 'C1516' 'C2670' 'C1365'\n",
            " 'C1177' 'C1360' 'C2488' 'C1406' 'C1566' 'C1227' 'C2460' 'C2486' 'C2106'\n",
            " 'C1572' 'C1773' 'C1677' 'C1823' 'C1344' 'C2692' 'C2505' 'C2587' 'C2127'\n",
            " 'C1316' 'C1674' 'C1713' 'C1845' 'C2082' 'C1328' 'C2357' 'C2565' 'C1804'\n",
            " 'C2255' 'C1343' 'C1987' 'C2479' 'C2352' 'C1310' 'C1738' 'C1039' 'C1863'\n",
            " 'C1426' 'C2659' 'C2489' 'C2211' 'C2314' 'C1861' 'C2389' 'C1490' 'C1024'\n",
            " 'C1788' 'C1740' 'C2620' 'C1286' 'C1089' 'C2237' 'C1341' 'C1338' 'C2405'\n",
            " 'C1969' 'C2274' 'C1699' 'C2251' 'C1340' 'C2373' 'C1455' 'C2137' 'C1985'\n",
            " 'C2583' 'C2663' 'C2450' 'C2329' 'C1834' 'C1848' 'C1743' 'C1350' 'C1402'\n",
            " 'C1103' 'C1129' 'C1027' 'C2377' 'C2661' 'C1263' 'C1136' 'C2605' 'C2393'\n",
            " 'C1673' 'C1017' 'C2539' 'C1933' 'C2316' 'C2414' 'C1301' 'C1700' 'C1636'\n",
            " 'C2612' 'C1757' 'C2507' 'C1163' 'C2627' 'C2040' 'C2609' 'C2001' 'C1065'\n",
            " 'C1363' 'C2579' 'C1048' 'C1210' 'C1320' 'C1941' 'C1326' 'C1685' 'C2618'\n",
            " 'C1451' 'C2143' 'C1968' 'C2470' 'C1258' 'C2453' 'C1659' 'C1724' 'C1802'\n",
            " 'C1939' 'C1284' 'C2595' 'C2351' 'C2506' 'C1697' 'C2259' 'C1786' 'C1357'\n",
            " 'C2570' 'C1652' 'C1565' 'C1910' 'C2359' 'C2139' 'C1979' 'C1803' 'C2508'\n",
            " 'C2531' 'C1695' 'C2556' 'C2086' 'C1544' 'C2154' 'C2496' 'C1756' 'C2362'\n",
            " 'C2568' 'C2245' 'C2059' 'C2549' 'C1584' 'C2298' 'C2225' 'C2328' 'C1045'\n",
            " 'C1207' 'C1970' 'C1732' 'C2433' 'C1156' 'C2142' 'C2153' 'C2186' 'C1176'\n",
            " 'C2446' 'C2586' 'C2035' 'C2020' 'C2437' 'C2532']\n",
            "['C1072' 'C1128' 'C1456' 'C1840' 'C1332' 'C1563' 'C1794' 'C1640' 'C1377'\n",
            " 'C2072' 'C1472' 'C1006' 'C1083' 'C1311' 'C2676' 'C2318' 'C1603' 'C2523'\n",
            " 'C2177' 'C2411' 'C2033' 'C1604' 'C2535' 'C1040' 'C2417' 'C1812' 'C2253'\n",
            " 'C1294' 'C1772' 'C2646' 'C1152' 'C2423' 'C1844' 'C1318' 'C1729' 'C1602'\n",
            " 'C1239' 'C1721' 'C1902' 'C1855' 'C2600' 'C1071' 'C2295' 'C1621' 'C1852'\n",
            " 'C2555' 'C1297' 'C2323' 'C2215' 'C2112' 'C1830' 'C2602' 'C2608' 'C1215'\n",
            " 'C2369' 'C1158' 'C1887' 'C1189' 'C1637' 'C1225' 'C2374' 'C2397' 'C1105'\n",
            " 'C1782' 'C1629' 'C1708' 'C2144' 'C1617' 'C1149' 'C1323' 'C1064' 'C1019'\n",
            " 'C2269' 'C1416' 'C1250' 'C1741' 'C1016' 'C2675' 'C2436' 'C2039' 'C1253'\n",
            " 'C2028' 'C1166' 'C1135' 'C1216' 'C1593' 'C1826' 'C1827' 'C1564' 'C1495'\n",
            " 'C2653' 'C1392' 'C2128' 'C1282' 'C1521' 'C2076' 'C1060' 'C2473' 'C2557'\n",
            " 'C1835' 'C2224' 'C2222' 'C2430' 'C2497' 'C1494' 'C1457' 'C1525' 'C1712'\n",
            " 'C2267' 'C1623' 'C2131' 'C2691' 'C1147' 'C1692' 'C1570' 'C1474' 'C1633'\n",
            " 'C2113' 'C2175' 'C2303' 'C2547' 'C2292' 'C1496' 'C1289' 'C1849' 'C1003'\n",
            " 'C2268' 'C2551' 'C2688' 'C1030' 'C1327' 'C2451' 'C1749' 'C1349' 'C2043'\n",
            " 'C1229' 'C2363' 'C1414' 'C2174' 'C2091' 'C2335' 'C1841' 'C2404' 'C1683'\n",
            " 'C1038' 'C2456' 'C1266' 'C2152' 'C1267' 'C2189']\n",
            "['아파트' '상가']\n",
            "['아파트' '상가']\n",
            "['경상남도' '대전광역시' '경기도' '전라북도' '강원도' '광주광역시' '충청남도' '부산광역시' '제주특별자치도'\n",
            " '울산광역시' '충청북도' '전라남도' '경상북도' '대구광역시' '서울특별시' '세종특별자치시']\n",
            "['경기도' '부산광역시' '전라북도' '경상남도' '충청남도' '대전광역시' '제주특별자치도' '강원도' '울산광역시' '경상북도'\n",
            " '충청북도' '광주광역시' '전라남도' '대구광역시' '세종특별자치시']\n",
            "['국민임대' '공공임대(50년)' '영구임대' '임대상가' '공공임대(10년)' '공공임대(분납)' '장기전세' '공공분양'\n",
            " '행복주택' '공공임대(5년)']\n",
            "['국민임대' '영구임대' '임대상가' '공공임대(50년)' '공공임대(10년)' '공공임대(분납)' '행복주택']\n",
            "['A' 'B' 'C' 'D' 'E' 'F' 'G' 'H' 'I' 'J' 'K' 'L' 'M' 'N' 'O']\n",
            "['H' 'A' 'E' 'C' 'D' 'G' 'I' 'J' 'K' 'L' 'M' 'N']\n"
          ],
          "name": "stdout"
        }
      ]
    },
    {
      "cell_type": "markdown",
      "metadata": {
        "id": "3FygbhmzoxqB"
      },
      "source": [
        "### test set에는 서울특별시의 데이터가 없음\n",
        "\n",
        "-> train set에서도 빼준다"
      ]
    },
    {
      "cell_type": "code",
      "metadata": {
        "colab": {
          "base_uri": "https://localhost:8080/"
        },
        "id": "MO4inbcVl1MV",
        "outputId": "03003867-30c8-4d35-eef9-5f5ae63300a0"
      },
      "source": [
        "idx = train.loc[train['지역'] == '서울특별시'].index\n",
        "train = train.drop(idx)\n",
        "train.shape"
      ],
      "execution_count": 15,
      "outputs": [
        {
          "output_type": "execute_result",
          "data": {
            "text/plain": [
              "(2500, 15)"
            ]
          },
          "metadata": {
            "tags": []
          },
          "execution_count": 15
        }
      ]
    },
    {
      "cell_type": "code",
      "metadata": {
        "id": "fDqHF8jgcc6g"
      },
      "source": [
        "# 아파트/상가 \n",
        "df_apt = train.loc[train['임대건물구분']=='아파트']\n",
        "df_san = train.loc[train['임대건물구분']=='상가']\n",
        "\n",
        "# 지역별 등록차량수 비교\n",
        "df_group_loc = train.groupby('지역').mean().sort_values('등록차량수', ascending='False')\n",
        "# 지역별 전용면적당 등록차량수 비교 ==> 세종, 대구, 경기도 상위 // 충남, 부산, 울산 하위\n",
        "df_location_area=df_group_loc['등록차량수'] / df_group_loc['전용면적']\n",
        "# 지역별 1세대당 등록차량수 비교 ==> 서울, 세종, 대전 상위 // 부산, 대전, 충남 하위\n",
        "df_location_house=df_group_loc['등록차량수'] / df_group_loc['총세대수']"
      ],
      "execution_count": 16,
      "outputs": []
    },
    {
      "cell_type": "markdown",
      "metadata": {
        "id": "_H4ej3oio8LV"
      },
      "source": [
        "### 지역별 세대당/면적당 등록차량수 \n",
        "\n",
        "-> 딱히 의미 없는 듯 하다."
      ]
    },
    {
      "cell_type": "code",
      "metadata": {
        "id": "1NKX2RG-1jT9"
      },
      "source": [
        "#지역별 세대당/면적당 등록차량수 \n",
        "\n",
        "# df_location_area = pd.DataFrame(df_location_area, index=df_location_area.keys(), columns=['면적당'])\n",
        "# df_location_house= pd.DataFrame(df_location_house, index=df_location_house.keys(), columns=['세대당'])\n",
        "\n",
        "# train =pd.merge(train, df_location_area, on='지역')\n",
        "# test = pd.merge(test, df_location_area, on='지역')\n",
        "# train = pd.merge(train, df_location_house, on ='지역')\n",
        "# test = pd.merge(test,df_location_house, on='지역')\n"
      ],
      "execution_count": null,
      "outputs": []
    },
    {
      "cell_type": "code",
      "metadata": {
        "id": "tpa_nxIe7D_B"
      },
      "source": [
        "train['임_지_공'] = train['공급유형']+'_' +train['지역'] + '_' + train['임대건물구분']\n",
        "test['임_지_공'] = test['공급유형']+'_' +test['지역'] + '_' + test['임대건물구분']"
      ],
      "execution_count": 17,
      "outputs": []
    },
    {
      "cell_type": "code",
      "metadata": {
        "id": "RQiQ2km6F40C"
      },
      "source": [
        "train = train.drop(['공급유형','임대건물구분'], axis=1)\n",
        "test = test.drop(['공급유형','임대건물구분'], axis=1)\n"
      ],
      "execution_count": 18,
      "outputs": []
    },
    {
      "cell_type": "code",
      "metadata": {
        "colab": {
          "base_uri": "https://localhost:8080/",
          "height": 419
        },
        "id": "daEOIJw2Fu2L",
        "outputId": "9f2e0c5a-faf8-4529-eb40-ca03742d303d"
      },
      "source": [
        "test"
      ],
      "execution_count": 19,
      "outputs": [
        {
          "output_type": "execute_result",
          "data": {
            "text/html": [
              "<div>\n",
              "<style scoped>\n",
              "    .dataframe tbody tr th:only-of-type {\n",
              "        vertical-align: middle;\n",
              "    }\n",
              "\n",
              "    .dataframe tbody tr th {\n",
              "        vertical-align: top;\n",
              "    }\n",
              "\n",
              "    .dataframe thead th {\n",
              "        text-align: right;\n",
              "    }\n",
              "</style>\n",
              "<table border=\"1\" class=\"dataframe\">\n",
              "  <thead>\n",
              "    <tr style=\"text-align: right;\">\n",
              "      <th></th>\n",
              "      <th>단지코드</th>\n",
              "      <th>총세대수</th>\n",
              "      <th>지역</th>\n",
              "      <th>전용면적</th>\n",
              "      <th>전용면적별세대수</th>\n",
              "      <th>공가수</th>\n",
              "      <th>신분</th>\n",
              "      <th>임대보증금</th>\n",
              "      <th>임대료</th>\n",
              "      <th>지하철</th>\n",
              "      <th>버스</th>\n",
              "      <th>단지내주차면수</th>\n",
              "      <th>임_지_공</th>\n",
              "    </tr>\n",
              "  </thead>\n",
              "  <tbody>\n",
              "    <tr>\n",
              "      <th>0</th>\n",
              "      <td>C1072</td>\n",
              "      <td>754</td>\n",
              "      <td>경기도</td>\n",
              "      <td>39.79</td>\n",
              "      <td>116</td>\n",
              "      <td>14.0</td>\n",
              "      <td>H</td>\n",
              "      <td>22830000.0</td>\n",
              "      <td>189840.0</td>\n",
              "      <td>0.0</td>\n",
              "      <td>2.0</td>\n",
              "      <td>683.0</td>\n",
              "      <td>국민임대_경기도_아파트</td>\n",
              "    </tr>\n",
              "    <tr>\n",
              "      <th>1</th>\n",
              "      <td>C1072</td>\n",
              "      <td>754</td>\n",
              "      <td>경기도</td>\n",
              "      <td>46.81</td>\n",
              "      <td>30</td>\n",
              "      <td>14.0</td>\n",
              "      <td>A</td>\n",
              "      <td>36048000.0</td>\n",
              "      <td>249930.0</td>\n",
              "      <td>0.0</td>\n",
              "      <td>2.0</td>\n",
              "      <td>683.0</td>\n",
              "      <td>국민임대_경기도_아파트</td>\n",
              "    </tr>\n",
              "    <tr>\n",
              "      <th>2</th>\n",
              "      <td>C1072</td>\n",
              "      <td>754</td>\n",
              "      <td>경기도</td>\n",
              "      <td>46.90</td>\n",
              "      <td>112</td>\n",
              "      <td>14.0</td>\n",
              "      <td>H</td>\n",
              "      <td>36048000.0</td>\n",
              "      <td>249930.0</td>\n",
              "      <td>0.0</td>\n",
              "      <td>2.0</td>\n",
              "      <td>683.0</td>\n",
              "      <td>국민임대_경기도_아파트</td>\n",
              "    </tr>\n",
              "    <tr>\n",
              "      <th>3</th>\n",
              "      <td>C1072</td>\n",
              "      <td>754</td>\n",
              "      <td>경기도</td>\n",
              "      <td>46.90</td>\n",
              "      <td>120</td>\n",
              "      <td>14.0</td>\n",
              "      <td>H</td>\n",
              "      <td>36048000.0</td>\n",
              "      <td>249930.0</td>\n",
              "      <td>0.0</td>\n",
              "      <td>2.0</td>\n",
              "      <td>683.0</td>\n",
              "      <td>국민임대_경기도_아파트</td>\n",
              "    </tr>\n",
              "    <tr>\n",
              "      <th>4</th>\n",
              "      <td>C1072</td>\n",
              "      <td>754</td>\n",
              "      <td>경기도</td>\n",
              "      <td>51.46</td>\n",
              "      <td>60</td>\n",
              "      <td>14.0</td>\n",
              "      <td>H</td>\n",
              "      <td>43497000.0</td>\n",
              "      <td>296780.0</td>\n",
              "      <td>0.0</td>\n",
              "      <td>2.0</td>\n",
              "      <td>683.0</td>\n",
              "      <td>국민임대_경기도_아파트</td>\n",
              "    </tr>\n",
              "    <tr>\n",
              "      <th>...</th>\n",
              "      <td>...</td>\n",
              "      <td>...</td>\n",
              "      <td>...</td>\n",
              "      <td>...</td>\n",
              "      <td>...</td>\n",
              "      <td>...</td>\n",
              "      <td>...</td>\n",
              "      <td>...</td>\n",
              "      <td>...</td>\n",
              "      <td>...</td>\n",
              "      <td>...</td>\n",
              "      <td>...</td>\n",
              "      <td>...</td>\n",
              "    </tr>\n",
              "    <tr>\n",
              "      <th>1017</th>\n",
              "      <td>C1267</td>\n",
              "      <td>675</td>\n",
              "      <td>경상남도</td>\n",
              "      <td>36.77</td>\n",
              "      <td>126</td>\n",
              "      <td>38.0</td>\n",
              "      <td>L</td>\n",
              "      <td>0.0</td>\n",
              "      <td>0.0</td>\n",
              "      <td>0.0</td>\n",
              "      <td>1.0</td>\n",
              "      <td>467.0</td>\n",
              "      <td>행복주택_경상남도_아파트</td>\n",
              "    </tr>\n",
              "    <tr>\n",
              "      <th>1018</th>\n",
              "      <td>C2189</td>\n",
              "      <td>382</td>\n",
              "      <td>전라북도</td>\n",
              "      <td>29.19</td>\n",
              "      <td>96</td>\n",
              "      <td>45.0</td>\n",
              "      <td>H</td>\n",
              "      <td>6872000.0</td>\n",
              "      <td>106400.0</td>\n",
              "      <td>0.0</td>\n",
              "      <td>2.0</td>\n",
              "      <td>300.0</td>\n",
              "      <td>국민임대_전라북도_아파트</td>\n",
              "    </tr>\n",
              "    <tr>\n",
              "      <th>1019</th>\n",
              "      <td>C2189</td>\n",
              "      <td>382</td>\n",
              "      <td>전라북도</td>\n",
              "      <td>29.19</td>\n",
              "      <td>20</td>\n",
              "      <td>45.0</td>\n",
              "      <td>H</td>\n",
              "      <td>6872000.0</td>\n",
              "      <td>106400.0</td>\n",
              "      <td>0.0</td>\n",
              "      <td>2.0</td>\n",
              "      <td>300.0</td>\n",
              "      <td>국민임대_전라북도_아파트</td>\n",
              "    </tr>\n",
              "    <tr>\n",
              "      <th>1020</th>\n",
              "      <td>C2189</td>\n",
              "      <td>382</td>\n",
              "      <td>전라북도</td>\n",
              "      <td>39.45</td>\n",
              "      <td>202</td>\n",
              "      <td>45.0</td>\n",
              "      <td>H</td>\n",
              "      <td>13410000.0</td>\n",
              "      <td>144600.0</td>\n",
              "      <td>0.0</td>\n",
              "      <td>2.0</td>\n",
              "      <td>300.0</td>\n",
              "      <td>국민임대_전라북도_아파트</td>\n",
              "    </tr>\n",
              "    <tr>\n",
              "      <th>1021</th>\n",
              "      <td>C2189</td>\n",
              "      <td>382</td>\n",
              "      <td>전라북도</td>\n",
              "      <td>46.23</td>\n",
              "      <td>60</td>\n",
              "      <td>45.0</td>\n",
              "      <td>H</td>\n",
              "      <td>18689000.0</td>\n",
              "      <td>166500.0</td>\n",
              "      <td>0.0</td>\n",
              "      <td>2.0</td>\n",
              "      <td>300.0</td>\n",
              "      <td>국민임대_전라북도_아파트</td>\n",
              "    </tr>\n",
              "  </tbody>\n",
              "</table>\n",
              "<p>947 rows × 13 columns</p>\n",
              "</div>"
            ],
            "text/plain": [
              "       단지코드  총세대수    지역   전용면적  ...  지하철   버스 단지내주차면수          임_지_공\n",
              "0     C1072   754   경기도  39.79  ...  0.0  2.0   683.0   국민임대_경기도_아파트\n",
              "1     C1072   754   경기도  46.81  ...  0.0  2.0   683.0   국민임대_경기도_아파트\n",
              "2     C1072   754   경기도  46.90  ...  0.0  2.0   683.0   국민임대_경기도_아파트\n",
              "3     C1072   754   경기도  46.90  ...  0.0  2.0   683.0   국민임대_경기도_아파트\n",
              "4     C1072   754   경기도  51.46  ...  0.0  2.0   683.0   국민임대_경기도_아파트\n",
              "...     ...   ...   ...    ...  ...  ...  ...     ...            ...\n",
              "1017  C1267   675  경상남도  36.77  ...  0.0  1.0   467.0  행복주택_경상남도_아파트\n",
              "1018  C2189   382  전라북도  29.19  ...  0.0  2.0   300.0  국민임대_전라북도_아파트\n",
              "1019  C2189   382  전라북도  29.19  ...  0.0  2.0   300.0  국민임대_전라북도_아파트\n",
              "1020  C2189   382  전라북도  39.45  ...  0.0  2.0   300.0  국민임대_전라북도_아파트\n",
              "1021  C2189   382  전라북도  46.23  ...  0.0  2.0   300.0  국민임대_전라북도_아파트\n",
              "\n",
              "[947 rows x 13 columns]"
            ]
          },
          "metadata": {
            "tags": []
          },
          "execution_count": 19
        }
      ]
    },
    {
      "cell_type": "markdown",
      "metadata": {
        "id": "Zjovs3IspF7S"
      },
      "source": [
        "### 임대건물구분 + 지역 + 공급유형을 한 번에 모아서 라벨링 진행"
      ]
    },
    {
      "cell_type": "code",
      "metadata": {
        "colab": {
          "base_uri": "https://localhost:8080/"
        },
        "id": "jQr5gIl4GEfC",
        "outputId": "ba2eff01-f8fd-4827-ec24-790827657079"
      },
      "source": [
        "from sklearn.preprocessing import LabelEncoder\n",
        "\n",
        "le = LabelEncoder()\n",
        "df = pd.concat([train, test])\n",
        "le.fit(df['임_지_공'])"
      ],
      "execution_count": 20,
      "outputs": [
        {
          "output_type": "execute_result",
          "data": {
            "text/plain": [
              "LabelEncoder()"
            ]
          },
          "metadata": {
            "tags": []
          },
          "execution_count": 20
        }
      ]
    },
    {
      "cell_type": "code",
      "metadata": {
        "id": "J9xEr_iGIvIs"
      },
      "source": [
        "train['임_지_공'] = le.transform(train['임_지_공'])"
      ],
      "execution_count": 21,
      "outputs": []
    },
    {
      "cell_type": "code",
      "metadata": {
        "colab": {
          "base_uri": "https://localhost:8080/",
          "height": 419
        },
        "id": "9mGyxLfrNWvX",
        "outputId": "5ff72e17-89ed-402c-990b-5c28949510eb"
      },
      "source": [
        "train"
      ],
      "execution_count": 22,
      "outputs": [
        {
          "output_type": "execute_result",
          "data": {
            "text/html": [
              "<div>\n",
              "<style scoped>\n",
              "    .dataframe tbody tr th:only-of-type {\n",
              "        vertical-align: middle;\n",
              "    }\n",
              "\n",
              "    .dataframe tbody tr th {\n",
              "        vertical-align: top;\n",
              "    }\n",
              "\n",
              "    .dataframe thead th {\n",
              "        text-align: right;\n",
              "    }\n",
              "</style>\n",
              "<table border=\"1\" class=\"dataframe\">\n",
              "  <thead>\n",
              "    <tr style=\"text-align: right;\">\n",
              "      <th></th>\n",
              "      <th>단지코드</th>\n",
              "      <th>총세대수</th>\n",
              "      <th>지역</th>\n",
              "      <th>전용면적</th>\n",
              "      <th>전용면적별세대수</th>\n",
              "      <th>공가수</th>\n",
              "      <th>신분</th>\n",
              "      <th>임대보증금</th>\n",
              "      <th>임대료</th>\n",
              "      <th>지하철</th>\n",
              "      <th>버스</th>\n",
              "      <th>단지내주차면수</th>\n",
              "      <th>등록차량수</th>\n",
              "      <th>임_지_공</th>\n",
              "    </tr>\n",
              "  </thead>\n",
              "  <tbody>\n",
              "    <tr>\n",
              "      <th>8</th>\n",
              "      <td>C2515</td>\n",
              "      <td>545</td>\n",
              "      <td>경상남도</td>\n",
              "      <td>33.48</td>\n",
              "      <td>276</td>\n",
              "      <td>17.0</td>\n",
              "      <td>A</td>\n",
              "      <td>9216000.0</td>\n",
              "      <td>82940.0</td>\n",
              "      <td>0.0</td>\n",
              "      <td>3.0</td>\n",
              "      <td>624.0</td>\n",
              "      <td>205.0</td>\n",
              "      <td>26</td>\n",
              "    </tr>\n",
              "    <tr>\n",
              "      <th>9</th>\n",
              "      <td>C2515</td>\n",
              "      <td>545</td>\n",
              "      <td>경상남도</td>\n",
              "      <td>39.60</td>\n",
              "      <td>60</td>\n",
              "      <td>17.0</td>\n",
              "      <td>A</td>\n",
              "      <td>12672000.0</td>\n",
              "      <td>107130.0</td>\n",
              "      <td>0.0</td>\n",
              "      <td>3.0</td>\n",
              "      <td>624.0</td>\n",
              "      <td>205.0</td>\n",
              "      <td>26</td>\n",
              "    </tr>\n",
              "    <tr>\n",
              "      <th>10</th>\n",
              "      <td>C2515</td>\n",
              "      <td>545</td>\n",
              "      <td>경상남도</td>\n",
              "      <td>39.60</td>\n",
              "      <td>20</td>\n",
              "      <td>17.0</td>\n",
              "      <td>A</td>\n",
              "      <td>12672000.0</td>\n",
              "      <td>107130.0</td>\n",
              "      <td>0.0</td>\n",
              "      <td>3.0</td>\n",
              "      <td>624.0</td>\n",
              "      <td>205.0</td>\n",
              "      <td>26</td>\n",
              "    </tr>\n",
              "    <tr>\n",
              "      <th>11</th>\n",
              "      <td>C2515</td>\n",
              "      <td>545</td>\n",
              "      <td>경상남도</td>\n",
              "      <td>46.90</td>\n",
              "      <td>38</td>\n",
              "      <td>17.0</td>\n",
              "      <td>A</td>\n",
              "      <td>18433000.0</td>\n",
              "      <td>149760.0</td>\n",
              "      <td>0.0</td>\n",
              "      <td>3.0</td>\n",
              "      <td>624.0</td>\n",
              "      <td>205.0</td>\n",
              "      <td>26</td>\n",
              "    </tr>\n",
              "    <tr>\n",
              "      <th>12</th>\n",
              "      <td>C2515</td>\n",
              "      <td>545</td>\n",
              "      <td>경상남도</td>\n",
              "      <td>46.90</td>\n",
              "      <td>19</td>\n",
              "      <td>17.0</td>\n",
              "      <td>A</td>\n",
              "      <td>18433000.0</td>\n",
              "      <td>149760.0</td>\n",
              "      <td>0.0</td>\n",
              "      <td>3.0</td>\n",
              "      <td>624.0</td>\n",
              "      <td>205.0</td>\n",
              "      <td>26</td>\n",
              "    </tr>\n",
              "    <tr>\n",
              "      <th>...</th>\n",
              "      <td>...</td>\n",
              "      <td>...</td>\n",
              "      <td>...</td>\n",
              "      <td>...</td>\n",
              "      <td>...</td>\n",
              "      <td>...</td>\n",
              "      <td>...</td>\n",
              "      <td>...</td>\n",
              "      <td>...</td>\n",
              "      <td>...</td>\n",
              "      <td>...</td>\n",
              "      <td>...</td>\n",
              "      <td>...</td>\n",
              "      <td>...</td>\n",
              "    </tr>\n",
              "    <tr>\n",
              "      <th>2947</th>\n",
              "      <td>C2532</td>\n",
              "      <td>239</td>\n",
              "      <td>강원도</td>\n",
              "      <td>49.20</td>\n",
              "      <td>19</td>\n",
              "      <td>7.0</td>\n",
              "      <td>A</td>\n",
              "      <td>11346000.0</td>\n",
              "      <td>116090.0</td>\n",
              "      <td>0.0</td>\n",
              "      <td>1.0</td>\n",
              "      <td>166.0</td>\n",
              "      <td>146.0</td>\n",
              "      <td>24</td>\n",
              "    </tr>\n",
              "    <tr>\n",
              "      <th>2948</th>\n",
              "      <td>C2532</td>\n",
              "      <td>239</td>\n",
              "      <td>강원도</td>\n",
              "      <td>51.08</td>\n",
              "      <td>34</td>\n",
              "      <td>7.0</td>\n",
              "      <td>A</td>\n",
              "      <td>14005000.0</td>\n",
              "      <td>142310.0</td>\n",
              "      <td>0.0</td>\n",
              "      <td>1.0</td>\n",
              "      <td>166.0</td>\n",
              "      <td>146.0</td>\n",
              "      <td>24</td>\n",
              "    </tr>\n",
              "    <tr>\n",
              "      <th>2949</th>\n",
              "      <td>C2532</td>\n",
              "      <td>239</td>\n",
              "      <td>강원도</td>\n",
              "      <td>51.73</td>\n",
              "      <td>34</td>\n",
              "      <td>7.0</td>\n",
              "      <td>A</td>\n",
              "      <td>14005000.0</td>\n",
              "      <td>142310.0</td>\n",
              "      <td>0.0</td>\n",
              "      <td>1.0</td>\n",
              "      <td>166.0</td>\n",
              "      <td>146.0</td>\n",
              "      <td>24</td>\n",
              "    </tr>\n",
              "    <tr>\n",
              "      <th>2950</th>\n",
              "      <td>C2532</td>\n",
              "      <td>239</td>\n",
              "      <td>강원도</td>\n",
              "      <td>51.96</td>\n",
              "      <td>114</td>\n",
              "      <td>7.0</td>\n",
              "      <td>A</td>\n",
              "      <td>14005000.0</td>\n",
              "      <td>142310.0</td>\n",
              "      <td>0.0</td>\n",
              "      <td>1.0</td>\n",
              "      <td>166.0</td>\n",
              "      <td>146.0</td>\n",
              "      <td>24</td>\n",
              "    </tr>\n",
              "    <tr>\n",
              "      <th>2951</th>\n",
              "      <td>C2532</td>\n",
              "      <td>239</td>\n",
              "      <td>강원도</td>\n",
              "      <td>54.95</td>\n",
              "      <td>19</td>\n",
              "      <td>7.0</td>\n",
              "      <td>A</td>\n",
              "      <td>14830000.0</td>\n",
              "      <td>151030.0</td>\n",
              "      <td>0.0</td>\n",
              "      <td>1.0</td>\n",
              "      <td>166.0</td>\n",
              "      <td>146.0</td>\n",
              "      <td>24</td>\n",
              "    </tr>\n",
              "  </tbody>\n",
              "</table>\n",
              "<p>2500 rows × 14 columns</p>\n",
              "</div>"
            ],
            "text/plain": [
              "       단지코드  총세대수    지역   전용면적  전용면적별세대수  ...  지하철   버스  단지내주차면수  등록차량수  임_지_공\n",
              "8     C2515   545  경상남도  33.48       276  ...  0.0  3.0    624.0  205.0     26\n",
              "9     C2515   545  경상남도  39.60        60  ...  0.0  3.0    624.0  205.0     26\n",
              "10    C2515   545  경상남도  39.60        20  ...  0.0  3.0    624.0  205.0     26\n",
              "11    C2515   545  경상남도  46.90        38  ...  0.0  3.0    624.0  205.0     26\n",
              "12    C2515   545  경상남도  46.90        19  ...  0.0  3.0    624.0  205.0     26\n",
              "...     ...   ...   ...    ...       ...  ...  ...  ...      ...    ...    ...\n",
              "2947  C2532   239   강원도  49.20        19  ...  0.0  1.0    166.0  146.0     24\n",
              "2948  C2532   239   강원도  51.08        34  ...  0.0  1.0    166.0  146.0     24\n",
              "2949  C2532   239   강원도  51.73        34  ...  0.0  1.0    166.0  146.0     24\n",
              "2950  C2532   239   강원도  51.96       114  ...  0.0  1.0    166.0  146.0     24\n",
              "2951  C2532   239   강원도  54.95        19  ...  0.0  1.0    166.0  146.0     24\n",
              "\n",
              "[2500 rows x 14 columns]"
            ]
          },
          "metadata": {
            "tags": []
          },
          "execution_count": 22
        }
      ]
    },
    {
      "cell_type": "code",
      "metadata": {
        "id": "cW9VmswJNR_V"
      },
      "source": [
        "test['임_지_공'] =le.transform(test['임_지_공'])"
      ],
      "execution_count": 23,
      "outputs": []
    },
    {
      "cell_type": "code",
      "metadata": {
        "id": "B6yiJTk02t3J"
      },
      "source": [
        "# train =pd.merge(train, age, on='지역')\n",
        "# test = pd.merge(test, age, on='지역')"
      ],
      "execution_count": null,
      "outputs": []
    },
    {
      "cell_type": "code",
      "metadata": {
        "id": "Cw_mdGoqBsTA"
      },
      "source": [
        "#지역명 숫자로 매핑\n",
        "\n",
        "local_map = {}\n",
        "for i, loc in enumerate(train['지역'].unique()):\n",
        "  local_map[loc] = i\n",
        "\n",
        "train['지역'] = train['지역'].map(local_map)\n",
        "test['지역'] = test['지역'].map(local_map)"
      ],
      "execution_count": 24,
      "outputs": []
    },
    {
      "cell_type": "code",
      "metadata": {
        "colab": {
          "base_uri": "https://localhost:8080/"
        },
        "id": "z689n2OEFTpo",
        "outputId": "409080cd-1675-40b3-aaf5-0f6ceb87af01"
      },
      "source": [
        "print(local_map)"
      ],
      "execution_count": 25,
      "outputs": [
        {
          "output_type": "stream",
          "text": [
            "{'경상남도': 0, '대전광역시': 1, '경기도': 2, '전라북도': 3, '강원도': 4, '광주광역시': 5, '충청남도': 6, '부산광역시': 7, '제주특별자치도': 8, '울산광역시': 9, '충청북도': 10, '전라남도': 11, '경상북도': 12, '대구광역시': 13, '세종특별자치시': 14}\n"
          ],
          "name": "stdout"
        }
      ]
    },
    {
      "cell_type": "code",
      "metadata": {
        "id": "HcJF8HHpFVp3"
      },
      "source": [
        "train['임대보증금'] = train['임대보증금'] //10000\n",
        "test['임대보증금'] = test['임대보증금'] //10000\n",
        "\n"
      ],
      "execution_count": 26,
      "outputs": []
    },
    {
      "cell_type": "code",
      "metadata": {
        "colab": {
          "base_uri": "https://localhost:8080/"
        },
        "id": "e39LjC8LJmLo",
        "outputId": "4578fca2-ecb1-4162-912b-8ee4e5e023b8"
      },
      "source": [
        "train['전용면적'] = train['전용면적']//5*10\n",
        "test['전용면적'] = test['전용면적']//5*10\n",
        "\n",
        "idx = train[train['전용면적']>100].index\n",
        "train.loc[idx, '전용면적'] = 100\n",
        "idx = test[test['전용면적']>100].index\n",
        "test.loc[idx, '전용면적'] = 100\n",
        "\n",
        "idx = train[train['전용면적']<10].index\n",
        "train.loc[idx, '전용면적'] = 10\n",
        "idx = test[test['전용면적']<10].index\n",
        "test.loc[idx, '전용면적'] = 10\n",
        "\n",
        "train['전용면적'].unique()"
      ],
      "execution_count": 27,
      "outputs": [
        {
          "output_type": "execute_result",
          "data": {
            "text/plain": [
              "array([ 60.,  70.,  90., 100.,  80.,  50.,  20.,  30.,  40.])"
            ]
          },
          "metadata": {
            "tags": []
          },
          "execution_count": 27
        }
      ]
    },
    {
      "cell_type": "code",
      "metadata": {
        "colab": {
          "base_uri": "https://localhost:8080/"
        },
        "id": "bZAFBnBoG3fn",
        "outputId": "f2e9e30f-0ad5-4494-abe4-bc7ac6c84614"
      },
      "source": [
        "not_ob =[x for x in train.columns if train[x].dtype!=object]\n",
        "\n",
        "for x in not_ob:\n",
        "  print(x, ':', train[x].corr(train['등록차량수']))"
      ],
      "execution_count": 28,
      "outputs": [
        {
          "output_type": "stream",
          "text": [
            "총세대수 : 0.4378825972461805\n",
            "지역 : 0.008222577622765303\n",
            "전용면적 : 0.2819161338810492\n",
            "전용면적별세대수 : 0.2007499011246546\n",
            "공가수 : 0.115122177073159\n",
            "임대보증금 : 0.3908722718612727\n",
            "임대료 : 0.49759336669276627\n",
            "지하철 : -0.06391280880879059\n",
            "버스 : 0.12979068120936132\n",
            "단지내주차면수 : 0.8482943675276168\n",
            "등록차량수 : 1.0\n",
            "임_지_공 : -0.5330355280962259\n"
          ],
          "name": "stdout"
        }
      ]
    },
    {
      "cell_type": "code",
      "metadata": {
        "id": "PxS1rX8pFos4"
      },
      "source": [
        "#단지별 데이터 1차원으로 취합\n",
        "# , '10대미만(여자)','10대미만(남자)', '10대(여자)','10대(남자)','20대(여자)','20대(남자)','30대(여자)','30대(남자)','40대(여자)', '40대(남자)', '50대(여자)', '50대(남자)','60대(여자)', \n",
        "          # '60대(남자)', '70대(여자)', '70대(남자)','80대(여자)', '80대(남자)', '90대(여자)', '90대(남자)', '100대(여자)', '100대(남자)'\n",
        "# columns =['단지코드', '총세대수', '공가수', '지역', '단지내주차면수', '지하철', '버스', '면적당', '세대당', '임_지_공']\n",
        "columns =['단지코드', '총세대수', '공가수', '지역', '단지내주차면수', '임_지_공']\n",
        "target = '등록차량수'\n",
        "area_columns = []\n",
        "for area in train['전용면적'].unique():\n",
        "  area_columns.append(f'면적_{area}')"
      ],
      "execution_count": 29,
      "outputs": []
    },
    {
      "cell_type": "code",
      "metadata": {
        "id": "2i1z5VeQKAau"
      },
      "source": [
        "new_train = pd.DataFrame()\n",
        "new_test = pd.DataFrame()"
      ],
      "execution_count": 30,
      "outputs": []
    },
    {
      "cell_type": "code",
      "metadata": {
        "id": "KOdRvuOk0l2I"
      },
      "source": [
        "# for i, loc in enumerate(age['지역'].unique()):\n",
        "#   print(f'i : {i}, loc : {loc}')"
      ],
      "execution_count": 31,
      "outputs": []
    },
    {
      "cell_type": "code",
      "metadata": {
        "colab": {
          "base_uri": "https://localhost:8080/"
        },
        "id": "5_P0_yvOKQnr",
        "outputId": "03fedc9c-909d-479e-bce8-49f9f028c3e4"
      },
      "source": [
        "for i, code in tqdm(enumerate(train['단지코드'].unique())):\n",
        "    temp = train[train['단지코드']==code]\n",
        "    temp.index = range(temp.shape[0])\n",
        "    for col in columns:\n",
        "        new_train.loc[i, col] = temp.loc[0, col]\n",
        "    \n",
        "    for col in area_columns:\n",
        "        area = float(col.split('_')[-1])\n",
        "        new_train.loc[i, col] = temp[temp['전용면적']==area]['전용면적별세대수'].sum()\n",
        "    \n",
        "    new_train.loc[i, '등록차량수'] = temp.loc[0, '등록차량수']\n",
        "    \n",
        "for i, code in tqdm(enumerate(test['단지코드'].unique())):\n",
        "    temp = test[test['단지코드']==code]\n",
        "    temp.index = range(temp.shape[0])\n",
        "    for col in columns:\n",
        "        new_test.loc[i, col] = temp.loc[0, col]\n",
        "    \n",
        "    for col in area_columns:\n",
        "        area = float(col.split('_')[-1])\n",
        "        new_test.loc[i, col] = temp[temp['전용면적']==area]['전용면적별세대수'].sum()"
      ],
      "execution_count": 32,
      "outputs": [
        {
          "output_type": "stream",
          "text": [
            "405it [00:05, 78.61it/s]\n",
            "150it [00:01, 80.54it/s]\n"
          ],
          "name": "stderr"
        }
      ]
    },
    {
      "cell_type": "code",
      "metadata": {
        "colab": {
          "base_uri": "https://localhost:8080/",
          "height": 419
        },
        "id": "lLQdsb4WK1jh",
        "outputId": "7caf5115-be2f-4689-da12-d2a8b27f454d"
      },
      "source": [
        "new_train"
      ],
      "execution_count": 33,
      "outputs": [
        {
          "output_type": "execute_result",
          "data": {
            "text/html": [
              "<div>\n",
              "<style scoped>\n",
              "    .dataframe tbody tr th:only-of-type {\n",
              "        vertical-align: middle;\n",
              "    }\n",
              "\n",
              "    .dataframe tbody tr th {\n",
              "        vertical-align: top;\n",
              "    }\n",
              "\n",
              "    .dataframe thead th {\n",
              "        text-align: right;\n",
              "    }\n",
              "</style>\n",
              "<table border=\"1\" class=\"dataframe\">\n",
              "  <thead>\n",
              "    <tr style=\"text-align: right;\">\n",
              "      <th></th>\n",
              "      <th>단지코드</th>\n",
              "      <th>총세대수</th>\n",
              "      <th>공가수</th>\n",
              "      <th>지역</th>\n",
              "      <th>단지내주차면수</th>\n",
              "      <th>임_지_공</th>\n",
              "      <th>면적_60.0</th>\n",
              "      <th>면적_70.0</th>\n",
              "      <th>면적_90.0</th>\n",
              "      <th>면적_100.0</th>\n",
              "      <th>면적_80.0</th>\n",
              "      <th>면적_50.0</th>\n",
              "      <th>면적_20.0</th>\n",
              "      <th>면적_30.0</th>\n",
              "      <th>면적_40.0</th>\n",
              "      <th>등록차량수</th>\n",
              "    </tr>\n",
              "  </thead>\n",
              "  <tbody>\n",
              "    <tr>\n",
              "      <th>0</th>\n",
              "      <td>C2515</td>\n",
              "      <td>545.0</td>\n",
              "      <td>17.0</td>\n",
              "      <td>0.0</td>\n",
              "      <td>624.0</td>\n",
              "      <td>26.0</td>\n",
              "      <td>276.0</td>\n",
              "      <td>80.0</td>\n",
              "      <td>57.0</td>\n",
              "      <td>132.0</td>\n",
              "      <td>0.0</td>\n",
              "      <td>0.0</td>\n",
              "      <td>0.0</td>\n",
              "      <td>0.0</td>\n",
              "      <td>0.0</td>\n",
              "      <td>205.0</td>\n",
              "    </tr>\n",
              "    <tr>\n",
              "      <th>1</th>\n",
              "      <td>C1407</td>\n",
              "      <td>1216.0</td>\n",
              "      <td>13.0</td>\n",
              "      <td>1.0</td>\n",
              "      <td>1285.0</td>\n",
              "      <td>30.0</td>\n",
              "      <td>390.0</td>\n",
              "      <td>0.0</td>\n",
              "      <td>170.0</td>\n",
              "      <td>62.0</td>\n",
              "      <td>292.0</td>\n",
              "      <td>0.0</td>\n",
              "      <td>0.0</td>\n",
              "      <td>0.0</td>\n",
              "      <td>0.0</td>\n",
              "      <td>1064.0</td>\n",
              "    </tr>\n",
              "    <tr>\n",
              "      <th>2</th>\n",
              "      <td>C1945</td>\n",
              "      <td>755.0</td>\n",
              "      <td>6.0</td>\n",
              "      <td>2.0</td>\n",
              "      <td>734.0</td>\n",
              "      <td>25.0</td>\n",
              "      <td>0.0</td>\n",
              "      <td>120.0</td>\n",
              "      <td>0.0</td>\n",
              "      <td>515.0</td>\n",
              "      <td>0.0</td>\n",
              "      <td>0.0</td>\n",
              "      <td>0.0</td>\n",
              "      <td>0.0</td>\n",
              "      <td>0.0</td>\n",
              "      <td>730.0</td>\n",
              "    </tr>\n",
              "    <tr>\n",
              "      <th>3</th>\n",
              "      <td>C1470</td>\n",
              "      <td>696.0</td>\n",
              "      <td>14.0</td>\n",
              "      <td>3.0</td>\n",
              "      <td>645.0</td>\n",
              "      <td>35.0</td>\n",
              "      <td>0.0</td>\n",
              "      <td>254.0</td>\n",
              "      <td>196.0</td>\n",
              "      <td>246.0</td>\n",
              "      <td>0.0</td>\n",
              "      <td>0.0</td>\n",
              "      <td>0.0</td>\n",
              "      <td>0.0</td>\n",
              "      <td>0.0</td>\n",
              "      <td>553.0</td>\n",
              "    </tr>\n",
              "    <tr>\n",
              "      <th>4</th>\n",
              "      <td>C1898</td>\n",
              "      <td>566.0</td>\n",
              "      <td>9.0</td>\n",
              "      <td>3.0</td>\n",
              "      <td>517.0</td>\n",
              "      <td>35.0</td>\n",
              "      <td>0.0</td>\n",
              "      <td>271.0</td>\n",
              "      <td>209.0</td>\n",
              "      <td>86.0</td>\n",
              "      <td>0.0</td>\n",
              "      <td>0.0</td>\n",
              "      <td>0.0</td>\n",
              "      <td>0.0</td>\n",
              "      <td>0.0</td>\n",
              "      <td>415.0</td>\n",
              "    </tr>\n",
              "    <tr>\n",
              "      <th>...</th>\n",
              "      <td>...</td>\n",
              "      <td>...</td>\n",
              "      <td>...</td>\n",
              "      <td>...</td>\n",
              "      <td>...</td>\n",
              "      <td>...</td>\n",
              "      <td>...</td>\n",
              "      <td>...</td>\n",
              "      <td>...</td>\n",
              "      <td>...</td>\n",
              "      <td>...</td>\n",
              "      <td>...</td>\n",
              "      <td>...</td>\n",
              "      <td>...</td>\n",
              "      <td>...</td>\n",
              "      <td>...</td>\n",
              "    </tr>\n",
              "    <tr>\n",
              "      <th>400</th>\n",
              "      <td>C2586</td>\n",
              "      <td>90.0</td>\n",
              "      <td>7.0</td>\n",
              "      <td>8.0</td>\n",
              "      <td>66.0</td>\n",
              "      <td>71.0</td>\n",
              "      <td>0.0</td>\n",
              "      <td>36.0</td>\n",
              "      <td>0.0</td>\n",
              "      <td>0.0</td>\n",
              "      <td>0.0</td>\n",
              "      <td>42.0</td>\n",
              "      <td>0.0</td>\n",
              "      <td>12.0</td>\n",
              "      <td>0.0</td>\n",
              "      <td>57.0</td>\n",
              "    </tr>\n",
              "    <tr>\n",
              "      <th>401</th>\n",
              "      <td>C2035</td>\n",
              "      <td>492.0</td>\n",
              "      <td>24.0</td>\n",
              "      <td>4.0</td>\n",
              "      <td>521.0</td>\n",
              "      <td>24.0</td>\n",
              "      <td>0.0</td>\n",
              "      <td>156.0</td>\n",
              "      <td>180.0</td>\n",
              "      <td>0.0</td>\n",
              "      <td>0.0</td>\n",
              "      <td>156.0</td>\n",
              "      <td>0.0</td>\n",
              "      <td>0.0</td>\n",
              "      <td>0.0</td>\n",
              "      <td>246.0</td>\n",
              "    </tr>\n",
              "    <tr>\n",
              "      <th>402</th>\n",
              "      <td>C2020</td>\n",
              "      <td>40.0</td>\n",
              "      <td>7.0</td>\n",
              "      <td>7.0</td>\n",
              "      <td>25.0</td>\n",
              "      <td>66.0</td>\n",
              "      <td>0.0</td>\n",
              "      <td>15.0</td>\n",
              "      <td>0.0</td>\n",
              "      <td>0.0</td>\n",
              "      <td>0.0</td>\n",
              "      <td>5.0</td>\n",
              "      <td>0.0</td>\n",
              "      <td>20.0</td>\n",
              "      <td>0.0</td>\n",
              "      <td>19.0</td>\n",
              "    </tr>\n",
              "    <tr>\n",
              "      <th>403</th>\n",
              "      <td>C2437</td>\n",
              "      <td>90.0</td>\n",
              "      <td>12.0</td>\n",
              "      <td>10.0</td>\n",
              "      <td>30.0</td>\n",
              "      <td>51.0</td>\n",
              "      <td>0.0</td>\n",
              "      <td>0.0</td>\n",
              "      <td>0.0</td>\n",
              "      <td>0.0</td>\n",
              "      <td>0.0</td>\n",
              "      <td>0.0</td>\n",
              "      <td>0.0</td>\n",
              "      <td>0.0</td>\n",
              "      <td>90.0</td>\n",
              "      <td>16.0</td>\n",
              "    </tr>\n",
              "    <tr>\n",
              "      <th>404</th>\n",
              "      <td>C2532</td>\n",
              "      <td>239.0</td>\n",
              "      <td>7.0</td>\n",
              "      <td>4.0</td>\n",
              "      <td>166.0</td>\n",
              "      <td>24.0</td>\n",
              "      <td>0.0</td>\n",
              "      <td>0.0</td>\n",
              "      <td>38.0</td>\n",
              "      <td>201.0</td>\n",
              "      <td>0.0</td>\n",
              "      <td>0.0</td>\n",
              "      <td>0.0</td>\n",
              "      <td>0.0</td>\n",
              "      <td>0.0</td>\n",
              "      <td>146.0</td>\n",
              "    </tr>\n",
              "  </tbody>\n",
              "</table>\n",
              "<p>405 rows × 16 columns</p>\n",
              "</div>"
            ],
            "text/plain": [
              "      단지코드    총세대수   공가수    지역  ...  면적_20.0  면적_30.0  면적_40.0   등록차량수\n",
              "0    C2515   545.0  17.0   0.0  ...      0.0      0.0      0.0   205.0\n",
              "1    C1407  1216.0  13.0   1.0  ...      0.0      0.0      0.0  1064.0\n",
              "2    C1945   755.0   6.0   2.0  ...      0.0      0.0      0.0   730.0\n",
              "3    C1470   696.0  14.0   3.0  ...      0.0      0.0      0.0   553.0\n",
              "4    C1898   566.0   9.0   3.0  ...      0.0      0.0      0.0   415.0\n",
              "..     ...     ...   ...   ...  ...      ...      ...      ...     ...\n",
              "400  C2586    90.0   7.0   8.0  ...      0.0     12.0      0.0    57.0\n",
              "401  C2035   492.0  24.0   4.0  ...      0.0      0.0      0.0   246.0\n",
              "402  C2020    40.0   7.0   7.0  ...      0.0     20.0      0.0    19.0\n",
              "403  C2437    90.0  12.0  10.0  ...      0.0      0.0     90.0    16.0\n",
              "404  C2532   239.0   7.0   4.0  ...      0.0      0.0      0.0   146.0\n",
              "\n",
              "[405 rows x 16 columns]"
            ]
          },
          "metadata": {
            "tags": []
          },
          "execution_count": 33
        }
      ]
    },
    {
      "cell_type": "code",
      "metadata": {
        "colab": {
          "base_uri": "https://localhost:8080/"
        },
        "id": "KDZhN9szMrzG",
        "outputId": "9d7082fd-e76a-4f02-a6c8-ca5c9ce67476"
      },
      "source": [
        "for i in new_train.columns[1:, ]:\n",
        "  print(i , ':', new_train[i].corr(new_train['등록차량수']))"
      ],
      "execution_count": 34,
      "outputs": [
        {
          "output_type": "stream",
          "text": [
            "총세대수 : 0.595276529959008\n",
            "공가수 : 0.1836272436465167\n",
            "지역 : 0.027936947561675016\n",
            "단지내주차면수 : 0.8470852855202065\n",
            "임_지_공 : -0.45833818185775776\n",
            "면적_60.0 : -0.0898205873300037\n",
            "면적_70.0 : 0.21129358279327468\n",
            "면적_90.0 : 0.37724886580360273\n",
            "면적_100.0 : 0.5365963531153117\n",
            "면적_80.0 : 0.006636894892443971\n",
            "면적_50.0 : -0.05329460793854064\n",
            "면적_20.0 : -0.16302941163632206\n",
            "면적_30.0 : -0.07916770880845878\n",
            "면적_40.0 : 0.0688312736169354\n",
            "등록차량수 : 1.0\n"
          ],
          "name": "stdout"
        }
      ]
    },
    {
      "cell_type": "markdown",
      "metadata": {
        "id": "gR3Wt3JPpXrA"
      },
      "source": [
        "### 상관계수 낮은 거 빼줬다"
      ]
    },
    {
      "cell_type": "code",
      "metadata": {
        "id": "C_8uvZKJNHkj"
      },
      "source": [
        "# new_train = new_train.drop(['지역', '단지내주차면수', '총세대수'], axis=1)\n",
        "# new_test = new_test.drop(['지역', '단지내주차면수', '총세대수'], axis=1)\n",
        "new_train = new_train.drop(['지역','면적_60.0', '면적_50.0', '면적_30.0', '면적_40.0', '면적_80.0'], axis=1)\n",
        "new_test = new_test.drop(['지역', '면적_60.0', '면적_50.0', '면적_30.0', '면적_40.0', '면적_80.0'], axis=1)"
      ],
      "execution_count": 35,
      "outputs": []
    },
    {
      "cell_type": "code",
      "metadata": {
        "colab": {
          "base_uri": "https://localhost:8080/",
          "height": 419
        },
        "id": "p4fdF31x4qW4",
        "outputId": "8497e2e7-6297-40b4-d474-1c5341fd3d24"
      },
      "source": [
        "new_train"
      ],
      "execution_count": 36,
      "outputs": [
        {
          "output_type": "execute_result",
          "data": {
            "text/html": [
              "<div>\n",
              "<style scoped>\n",
              "    .dataframe tbody tr th:only-of-type {\n",
              "        vertical-align: middle;\n",
              "    }\n",
              "\n",
              "    .dataframe tbody tr th {\n",
              "        vertical-align: top;\n",
              "    }\n",
              "\n",
              "    .dataframe thead th {\n",
              "        text-align: right;\n",
              "    }\n",
              "</style>\n",
              "<table border=\"1\" class=\"dataframe\">\n",
              "  <thead>\n",
              "    <tr style=\"text-align: right;\">\n",
              "      <th></th>\n",
              "      <th>단지코드</th>\n",
              "      <th>총세대수</th>\n",
              "      <th>공가수</th>\n",
              "      <th>단지내주차면수</th>\n",
              "      <th>임_지_공</th>\n",
              "      <th>면적_70.0</th>\n",
              "      <th>면적_90.0</th>\n",
              "      <th>면적_100.0</th>\n",
              "      <th>면적_20.0</th>\n",
              "      <th>등록차량수</th>\n",
              "    </tr>\n",
              "  </thead>\n",
              "  <tbody>\n",
              "    <tr>\n",
              "      <th>0</th>\n",
              "      <td>C2515</td>\n",
              "      <td>545.0</td>\n",
              "      <td>17.0</td>\n",
              "      <td>624.0</td>\n",
              "      <td>26.0</td>\n",
              "      <td>80.0</td>\n",
              "      <td>57.0</td>\n",
              "      <td>132.0</td>\n",
              "      <td>0.0</td>\n",
              "      <td>205.0</td>\n",
              "    </tr>\n",
              "    <tr>\n",
              "      <th>1</th>\n",
              "      <td>C1407</td>\n",
              "      <td>1216.0</td>\n",
              "      <td>13.0</td>\n",
              "      <td>1285.0</td>\n",
              "      <td>30.0</td>\n",
              "      <td>0.0</td>\n",
              "      <td>170.0</td>\n",
              "      <td>62.0</td>\n",
              "      <td>0.0</td>\n",
              "      <td>1064.0</td>\n",
              "    </tr>\n",
              "    <tr>\n",
              "      <th>2</th>\n",
              "      <td>C1945</td>\n",
              "      <td>755.0</td>\n",
              "      <td>6.0</td>\n",
              "      <td>734.0</td>\n",
              "      <td>25.0</td>\n",
              "      <td>120.0</td>\n",
              "      <td>0.0</td>\n",
              "      <td>515.0</td>\n",
              "      <td>0.0</td>\n",
              "      <td>730.0</td>\n",
              "    </tr>\n",
              "    <tr>\n",
              "      <th>3</th>\n",
              "      <td>C1470</td>\n",
              "      <td>696.0</td>\n",
              "      <td>14.0</td>\n",
              "      <td>645.0</td>\n",
              "      <td>35.0</td>\n",
              "      <td>254.0</td>\n",
              "      <td>196.0</td>\n",
              "      <td>246.0</td>\n",
              "      <td>0.0</td>\n",
              "      <td>553.0</td>\n",
              "    </tr>\n",
              "    <tr>\n",
              "      <th>4</th>\n",
              "      <td>C1898</td>\n",
              "      <td>566.0</td>\n",
              "      <td>9.0</td>\n",
              "      <td>517.0</td>\n",
              "      <td>35.0</td>\n",
              "      <td>271.0</td>\n",
              "      <td>209.0</td>\n",
              "      <td>86.0</td>\n",
              "      <td>0.0</td>\n",
              "      <td>415.0</td>\n",
              "    </tr>\n",
              "    <tr>\n",
              "      <th>...</th>\n",
              "      <td>...</td>\n",
              "      <td>...</td>\n",
              "      <td>...</td>\n",
              "      <td>...</td>\n",
              "      <td>...</td>\n",
              "      <td>...</td>\n",
              "      <td>...</td>\n",
              "      <td>...</td>\n",
              "      <td>...</td>\n",
              "      <td>...</td>\n",
              "    </tr>\n",
              "    <tr>\n",
              "      <th>400</th>\n",
              "      <td>C2586</td>\n",
              "      <td>90.0</td>\n",
              "      <td>7.0</td>\n",
              "      <td>66.0</td>\n",
              "      <td>71.0</td>\n",
              "      <td>36.0</td>\n",
              "      <td>0.0</td>\n",
              "      <td>0.0</td>\n",
              "      <td>0.0</td>\n",
              "      <td>57.0</td>\n",
              "    </tr>\n",
              "    <tr>\n",
              "      <th>401</th>\n",
              "      <td>C2035</td>\n",
              "      <td>492.0</td>\n",
              "      <td>24.0</td>\n",
              "      <td>521.0</td>\n",
              "      <td>24.0</td>\n",
              "      <td>156.0</td>\n",
              "      <td>180.0</td>\n",
              "      <td>0.0</td>\n",
              "      <td>0.0</td>\n",
              "      <td>246.0</td>\n",
              "    </tr>\n",
              "    <tr>\n",
              "      <th>402</th>\n",
              "      <td>C2020</td>\n",
              "      <td>40.0</td>\n",
              "      <td>7.0</td>\n",
              "      <td>25.0</td>\n",
              "      <td>66.0</td>\n",
              "      <td>15.0</td>\n",
              "      <td>0.0</td>\n",
              "      <td>0.0</td>\n",
              "      <td>0.0</td>\n",
              "      <td>19.0</td>\n",
              "    </tr>\n",
              "    <tr>\n",
              "      <th>403</th>\n",
              "      <td>C2437</td>\n",
              "      <td>90.0</td>\n",
              "      <td>12.0</td>\n",
              "      <td>30.0</td>\n",
              "      <td>51.0</td>\n",
              "      <td>0.0</td>\n",
              "      <td>0.0</td>\n",
              "      <td>0.0</td>\n",
              "      <td>0.0</td>\n",
              "      <td>16.0</td>\n",
              "    </tr>\n",
              "    <tr>\n",
              "      <th>404</th>\n",
              "      <td>C2532</td>\n",
              "      <td>239.0</td>\n",
              "      <td>7.0</td>\n",
              "      <td>166.0</td>\n",
              "      <td>24.0</td>\n",
              "      <td>0.0</td>\n",
              "      <td>38.0</td>\n",
              "      <td>201.0</td>\n",
              "      <td>0.0</td>\n",
              "      <td>146.0</td>\n",
              "    </tr>\n",
              "  </tbody>\n",
              "</table>\n",
              "<p>405 rows × 10 columns</p>\n",
              "</div>"
            ],
            "text/plain": [
              "      단지코드    총세대수   공가수  단지내주차면수  ...  면적_90.0  면적_100.0  면적_20.0   등록차량수\n",
              "0    C2515   545.0  17.0    624.0  ...     57.0     132.0      0.0   205.0\n",
              "1    C1407  1216.0  13.0   1285.0  ...    170.0      62.0      0.0  1064.0\n",
              "2    C1945   755.0   6.0    734.0  ...      0.0     515.0      0.0   730.0\n",
              "3    C1470   696.0  14.0    645.0  ...    196.0     246.0      0.0   553.0\n",
              "4    C1898   566.0   9.0    517.0  ...    209.0      86.0      0.0   415.0\n",
              "..     ...     ...   ...      ...  ...      ...       ...      ...     ...\n",
              "400  C2586    90.0   7.0     66.0  ...      0.0       0.0      0.0    57.0\n",
              "401  C2035   492.0  24.0    521.0  ...    180.0       0.0      0.0   246.0\n",
              "402  C2020    40.0   7.0     25.0  ...      0.0       0.0      0.0    19.0\n",
              "403  C2437    90.0  12.0     30.0  ...      0.0       0.0      0.0    16.0\n",
              "404  C2532   239.0   7.0    166.0  ...     38.0     201.0      0.0   146.0\n",
              "\n",
              "[405 rows x 10 columns]"
            ]
          },
          "metadata": {
            "tags": []
          },
          "execution_count": 36
        }
      ]
    },
    {
      "cell_type": "code",
      "metadata": {
        "id": "RCPIbxmgLJn_"
      },
      "source": [
        "x_train = new_train.iloc[:, 1:-1]\n",
        "y_train = new_train.iloc[:, -1]\n",
        "x_test = new_test.iloc[:,1:]\n"
      ],
      "execution_count": 37,
      "outputs": []
    },
    {
      "cell_type": "code",
      "metadata": {
        "id": "iaB_2h9XXVnN"
      },
      "source": [
        "# from sklearn.model_selection import train_test_split\n",
        "# from sklearn.metrics import mean_squared_log_error\n",
        "\n",
        "# x_train, x_val, y_train, y_val = train_test_split(x_train, y_train, test_size=0.3, shuffle=True)"
      ],
      "execution_count": null,
      "outputs": []
    },
    {
      "cell_type": "markdown",
      "metadata": {
        "id": "hcvBqfglZ99N"
      },
      "source": [
        "교차검증 : \n",
        "https://davinci-ai.tistory.com/18"
      ]
    },
    {
      "cell_type": "code",
      "metadata": {
        "id": "fE00vu4qZfY8"
      },
      "source": [
        "from sklearn.model_selection import KFold\n",
        "from sklearn.model_selection import cross_val_score\n",
        "from sklearn.linear_model import ElasticNet\n",
        "from sklearn.svm import SVR\n",
        "from sklearn.tree import DecisionTreeRegressor\n",
        "import xgboost as xgb\n",
        "from sklearn.model_selection import GridSearchCV\n",
        "from sklearn.model_selection import RandomizedSearchCV\n",
        "param = {\n",
        "    'learning_rate':[0.01, 0.1, 0.15, 0.3, 0.5],\n",
        "    'n_estimators' : [100, 200],\n",
        "    'max_depth' : [3, 5, 7, 10],\n",
        "    'min_child_weight' : [1, 5, 10, 20],\n",
        "    'reg_alpha' : [0.001, 0.01, 0.1],\n",
        "    'reg_lambda' : [0.001, 0.01, 0.1]\n",
        "}\n",
        "# el = ElasticNet(alpha=10)\n",
        "# scores = cross_val_score(el, x_train, y_train, scoring='neg_mean_absolute_error', cv=KFold(n_splits=5, shuffle=True))\n",
        "# svr = SVR(C=500, epsilon=10)\n",
        "# scores = cross_val_score(svr, x_train, y_train, cv=KFold(n_splits=5, shuffle=True), scoring='neg_mean_absolute_error')\n",
        "\n",
        "model = xgb.XGBRegressor(tree_method='gpu_hist')\n",
        "xgb_reg = RandomizedSearchCV(estimator = model, param_distributions = param,\n",
        "                              n_iter = 20, scoring = 'neg_mean_absolute_error',\n",
        "                              cv = 5)\n",
        "# scores = cross_val_score(model, x_train, y_train, cv=KFold(n_splits=5, shuffle=True), scoring='neg_mean_absolute_error')\n",
        "# model = RandomForestRegressor(n_jobs=-1, random_state=42)\n",
        "# model = DecisionTreeRegressor(max_depth=20)\n",
        "# scores = cross_val_score(model, x_train, y_train, cv=KFold(n_splits=5, shuffle=True), scoring='neg_mean_absolute_error')\n",
        "\n",
        "# print('MAE:' , scores.mean())\n",
        "#neg_mean이기때문에 음수값으로 나온다 0에 가까울 수록 좋은 모델임"
      ],
      "execution_count": 38,
      "outputs": []
    },
    {
      "cell_type": "code",
      "metadata": {
        "colab": {
          "base_uri": "https://localhost:8080/"
        },
        "id": "0Cf9vySILi8U",
        "outputId": "6780d4f9-e1e7-44ea-c986-d55ff15268b4"
      },
      "source": [
        "xgb_search = xgb_reg.fit(x_train, y_train)\n",
        "best_param = xgb_search.best_params_\n",
        "best_param\n",
        "# val_pred = model.predict(x_val)\n",
        "\n",
        "# mean_squared_log_error(y_val, val_pred)\n",
        "\n"
      ],
      "execution_count": 39,
      "outputs": [
        {
          "output_type": "stream",
          "text": [
            "[08:15:08] WARNING: /workspace/src/objective/regression_obj.cu:152: reg:linear is now deprecated in favor of reg:squarederror.\n",
            "[08:15:09] WARNING: /workspace/src/objective/regression_obj.cu:152: reg:linear is now deprecated in favor of reg:squarederror.\n",
            "[08:15:09] WARNING: /workspace/src/objective/regression_obj.cu:152: reg:linear is now deprecated in favor of reg:squarederror.\n",
            "[08:15:10] WARNING: /workspace/src/objective/regression_obj.cu:152: reg:linear is now deprecated in favor of reg:squarederror.\n",
            "[08:15:10] WARNING: /workspace/src/objective/regression_obj.cu:152: reg:linear is now deprecated in favor of reg:squarederror.\n",
            "[08:15:10] WARNING: /workspace/src/objective/regression_obj.cu:152: reg:linear is now deprecated in favor of reg:squarederror.\n",
            "[08:15:12] WARNING: /workspace/src/objective/regression_obj.cu:152: reg:linear is now deprecated in favor of reg:squarederror.\n",
            "[08:15:13] WARNING: /workspace/src/objective/regression_obj.cu:152: reg:linear is now deprecated in favor of reg:squarederror.\n",
            "[08:15:15] WARNING: /workspace/src/objective/regression_obj.cu:152: reg:linear is now deprecated in favor of reg:squarederror.\n",
            "[08:15:16] WARNING: /workspace/src/objective/regression_obj.cu:152: reg:linear is now deprecated in favor of reg:squarederror.\n",
            "[08:15:17] WARNING: /workspace/src/objective/regression_obj.cu:152: reg:linear is now deprecated in favor of reg:squarederror.\n",
            "[08:15:18] WARNING: /workspace/src/objective/regression_obj.cu:152: reg:linear is now deprecated in favor of reg:squarederror.\n",
            "[08:15:18] WARNING: /workspace/src/objective/regression_obj.cu:152: reg:linear is now deprecated in favor of reg:squarederror.\n",
            "[08:15:19] WARNING: /workspace/src/objective/regression_obj.cu:152: reg:linear is now deprecated in favor of reg:squarederror.\n",
            "[08:15:19] WARNING: /workspace/src/objective/regression_obj.cu:152: reg:linear is now deprecated in favor of reg:squarederror.\n",
            "[08:15:19] WARNING: /workspace/src/objective/regression_obj.cu:152: reg:linear is now deprecated in favor of reg:squarederror.\n",
            "[08:15:20] WARNING: /workspace/src/objective/regression_obj.cu:152: reg:linear is now deprecated in favor of reg:squarederror.\n",
            "[08:15:20] WARNING: /workspace/src/objective/regression_obj.cu:152: reg:linear is now deprecated in favor of reg:squarederror.\n",
            "[08:15:20] WARNING: /workspace/src/objective/regression_obj.cu:152: reg:linear is now deprecated in favor of reg:squarederror.\n",
            "[08:15:21] WARNING: /workspace/src/objective/regression_obj.cu:152: reg:linear is now deprecated in favor of reg:squarederror.\n",
            "[08:15:21] WARNING: /workspace/src/objective/regression_obj.cu:152: reg:linear is now deprecated in favor of reg:squarederror.\n",
            "[08:15:21] WARNING: /workspace/src/objective/regression_obj.cu:152: reg:linear is now deprecated in favor of reg:squarederror.\n",
            "[08:15:22] WARNING: /workspace/src/objective/regression_obj.cu:152: reg:linear is now deprecated in favor of reg:squarederror.\n",
            "[08:15:22] WARNING: /workspace/src/objective/regression_obj.cu:152: reg:linear is now deprecated in favor of reg:squarederror.\n",
            "[08:15:22] WARNING: /workspace/src/objective/regression_obj.cu:152: reg:linear is now deprecated in favor of reg:squarederror.\n",
            "[08:15:23] WARNING: /workspace/src/objective/regression_obj.cu:152: reg:linear is now deprecated in favor of reg:squarederror.\n",
            "[08:15:23] WARNING: /workspace/src/objective/regression_obj.cu:152: reg:linear is now deprecated in favor of reg:squarederror.\n",
            "[08:15:24] WARNING: /workspace/src/objective/regression_obj.cu:152: reg:linear is now deprecated in favor of reg:squarederror.\n",
            "[08:15:24] WARNING: /workspace/src/objective/regression_obj.cu:152: reg:linear is now deprecated in favor of reg:squarederror.\n",
            "[08:15:25] WARNING: /workspace/src/objective/regression_obj.cu:152: reg:linear is now deprecated in favor of reg:squarederror.\n",
            "[08:15:25] WARNING: /workspace/src/objective/regression_obj.cu:152: reg:linear is now deprecated in favor of reg:squarederror.\n",
            "[08:15:26] WARNING: /workspace/src/objective/regression_obj.cu:152: reg:linear is now deprecated in favor of reg:squarederror.\n",
            "[08:15:26] WARNING: /workspace/src/objective/regression_obj.cu:152: reg:linear is now deprecated in favor of reg:squarederror.\n",
            "[08:15:26] WARNING: /workspace/src/objective/regression_obj.cu:152: reg:linear is now deprecated in favor of reg:squarederror.\n",
            "[08:15:27] WARNING: /workspace/src/objective/regression_obj.cu:152: reg:linear is now deprecated in favor of reg:squarederror.\n",
            "[08:15:27] WARNING: /workspace/src/objective/regression_obj.cu:152: reg:linear is now deprecated in favor of reg:squarederror.\n",
            "[08:15:27] WARNING: /workspace/src/objective/regression_obj.cu:152: reg:linear is now deprecated in favor of reg:squarederror.\n",
            "[08:15:28] WARNING: /workspace/src/objective/regression_obj.cu:152: reg:linear is now deprecated in favor of reg:squarederror.\n",
            "[08:15:28] WARNING: /workspace/src/objective/regression_obj.cu:152: reg:linear is now deprecated in favor of reg:squarederror.\n",
            "[08:15:28] WARNING: /workspace/src/objective/regression_obj.cu:152: reg:linear is now deprecated in favor of reg:squarederror.\n",
            "[08:15:29] WARNING: /workspace/src/objective/regression_obj.cu:152: reg:linear is now deprecated in favor of reg:squarederror.\n",
            "[08:15:29] WARNING: /workspace/src/objective/regression_obj.cu:152: reg:linear is now deprecated in favor of reg:squarederror.\n",
            "[08:15:30] WARNING: /workspace/src/objective/regression_obj.cu:152: reg:linear is now deprecated in favor of reg:squarederror.\n",
            "[08:15:31] WARNING: /workspace/src/objective/regression_obj.cu:152: reg:linear is now deprecated in favor of reg:squarederror.\n",
            "[08:15:32] WARNING: /workspace/src/objective/regression_obj.cu:152: reg:linear is now deprecated in favor of reg:squarederror.\n",
            "[08:15:32] WARNING: /workspace/src/objective/regression_obj.cu:152: reg:linear is now deprecated in favor of reg:squarederror.\n",
            "[08:15:33] WARNING: /workspace/src/objective/regression_obj.cu:152: reg:linear is now deprecated in favor of reg:squarederror.\n",
            "[08:15:33] WARNING: /workspace/src/objective/regression_obj.cu:152: reg:linear is now deprecated in favor of reg:squarederror.\n",
            "[08:15:34] WARNING: /workspace/src/objective/regression_obj.cu:152: reg:linear is now deprecated in favor of reg:squarederror.\n",
            "[08:15:34] WARNING: /workspace/src/objective/regression_obj.cu:152: reg:linear is now deprecated in favor of reg:squarederror.\n",
            "[08:15:35] WARNING: /workspace/src/objective/regression_obj.cu:152: reg:linear is now deprecated in favor of reg:squarederror.\n",
            "[08:15:36] WARNING: /workspace/src/objective/regression_obj.cu:152: reg:linear is now deprecated in favor of reg:squarederror.\n",
            "[08:15:36] WARNING: /workspace/src/objective/regression_obj.cu:152: reg:linear is now deprecated in favor of reg:squarederror.\n",
            "[08:15:37] WARNING: /workspace/src/objective/regression_obj.cu:152: reg:linear is now deprecated in favor of reg:squarederror.\n",
            "[08:15:38] WARNING: /workspace/src/objective/regression_obj.cu:152: reg:linear is now deprecated in favor of reg:squarederror.\n",
            "[08:15:38] WARNING: /workspace/src/objective/regression_obj.cu:152: reg:linear is now deprecated in favor of reg:squarederror.\n",
            "[08:15:39] WARNING: /workspace/src/objective/regression_obj.cu:152: reg:linear is now deprecated in favor of reg:squarederror.\n",
            "[08:15:39] WARNING: /workspace/src/objective/regression_obj.cu:152: reg:linear is now deprecated in favor of reg:squarederror.\n",
            "[08:15:39] WARNING: /workspace/src/objective/regression_obj.cu:152: reg:linear is now deprecated in favor of reg:squarederror.\n",
            "[08:15:39] WARNING: /workspace/src/objective/regression_obj.cu:152: reg:linear is now deprecated in favor of reg:squarederror.\n",
            "[08:15:40] WARNING: /workspace/src/objective/regression_obj.cu:152: reg:linear is now deprecated in favor of reg:squarederror.\n",
            "[08:15:41] WARNING: /workspace/src/objective/regression_obj.cu:152: reg:linear is now deprecated in favor of reg:squarederror.\n",
            "[08:15:41] WARNING: /workspace/src/objective/regression_obj.cu:152: reg:linear is now deprecated in favor of reg:squarederror.\n",
            "[08:15:42] WARNING: /workspace/src/objective/regression_obj.cu:152: reg:linear is now deprecated in favor of reg:squarederror.\n",
            "[08:15:43] WARNING: /workspace/src/objective/regression_obj.cu:152: reg:linear is now deprecated in favor of reg:squarederror.\n",
            "[08:15:44] WARNING: /workspace/src/objective/regression_obj.cu:152: reg:linear is now deprecated in favor of reg:squarederror.\n",
            "[08:15:44] WARNING: /workspace/src/objective/regression_obj.cu:152: reg:linear is now deprecated in favor of reg:squarederror.\n",
            "[08:15:44] WARNING: /workspace/src/objective/regression_obj.cu:152: reg:linear is now deprecated in favor of reg:squarederror.\n",
            "[08:15:45] WARNING: /workspace/src/objective/regression_obj.cu:152: reg:linear is now deprecated in favor of reg:squarederror.\n",
            "[08:15:45] WARNING: /workspace/src/objective/regression_obj.cu:152: reg:linear is now deprecated in favor of reg:squarederror.\n",
            "[08:15:45] WARNING: /workspace/src/objective/regression_obj.cu:152: reg:linear is now deprecated in favor of reg:squarederror.\n",
            "[08:15:46] WARNING: /workspace/src/objective/regression_obj.cu:152: reg:linear is now deprecated in favor of reg:squarederror.\n",
            "[08:15:46] WARNING: /workspace/src/objective/regression_obj.cu:152: reg:linear is now deprecated in favor of reg:squarederror.\n",
            "[08:15:46] WARNING: /workspace/src/objective/regression_obj.cu:152: reg:linear is now deprecated in favor of reg:squarederror.\n",
            "[08:15:47] WARNING: /workspace/src/objective/regression_obj.cu:152: reg:linear is now deprecated in favor of reg:squarederror.\n",
            "[08:15:47] WARNING: /workspace/src/objective/regression_obj.cu:152: reg:linear is now deprecated in favor of reg:squarederror.\n",
            "[08:15:47] WARNING: /workspace/src/objective/regression_obj.cu:152: reg:linear is now deprecated in favor of reg:squarederror.\n",
            "[08:15:48] WARNING: /workspace/src/objective/regression_obj.cu:152: reg:linear is now deprecated in favor of reg:squarederror.\n",
            "[08:15:48] WARNING: /workspace/src/objective/regression_obj.cu:152: reg:linear is now deprecated in favor of reg:squarederror.\n",
            "[08:15:49] WARNING: /workspace/src/objective/regression_obj.cu:152: reg:linear is now deprecated in favor of reg:squarederror.\n",
            "[08:15:49] WARNING: /workspace/src/objective/regression_obj.cu:152: reg:linear is now deprecated in favor of reg:squarederror.\n",
            "[08:15:50] WARNING: /workspace/src/objective/regression_obj.cu:152: reg:linear is now deprecated in favor of reg:squarederror.\n",
            "[08:15:51] WARNING: /workspace/src/objective/regression_obj.cu:152: reg:linear is now deprecated in favor of reg:squarederror.\n",
            "[08:15:53] WARNING: /workspace/src/objective/regression_obj.cu:152: reg:linear is now deprecated in favor of reg:squarederror.\n",
            "[08:15:54] WARNING: /workspace/src/objective/regression_obj.cu:152: reg:linear is now deprecated in favor of reg:squarederror.\n",
            "[08:15:55] WARNING: /workspace/src/objective/regression_obj.cu:152: reg:linear is now deprecated in favor of reg:squarederror.\n",
            "[08:15:55] WARNING: /workspace/src/objective/regression_obj.cu:152: reg:linear is now deprecated in favor of reg:squarederror.\n",
            "[08:15:55] WARNING: /workspace/src/objective/regression_obj.cu:152: reg:linear is now deprecated in favor of reg:squarederror.\n",
            "[08:15:56] WARNING: /workspace/src/objective/regression_obj.cu:152: reg:linear is now deprecated in favor of reg:squarederror.\n",
            "[08:15:56] WARNING: /workspace/src/objective/regression_obj.cu:152: reg:linear is now deprecated in favor of reg:squarederror.\n",
            "[08:15:56] WARNING: /workspace/src/objective/regression_obj.cu:152: reg:linear is now deprecated in favor of reg:squarederror.\n",
            "[08:15:57] WARNING: /workspace/src/objective/regression_obj.cu:152: reg:linear is now deprecated in favor of reg:squarederror.\n",
            "[08:15:57] WARNING: /workspace/src/objective/regression_obj.cu:152: reg:linear is now deprecated in favor of reg:squarederror.\n",
            "[08:15:57] WARNING: /workspace/src/objective/regression_obj.cu:152: reg:linear is now deprecated in favor of reg:squarederror.\n",
            "[08:15:58] WARNING: /workspace/src/objective/regression_obj.cu:152: reg:linear is now deprecated in favor of reg:squarederror.\n",
            "[08:15:58] WARNING: /workspace/src/objective/regression_obj.cu:152: reg:linear is now deprecated in favor of reg:squarederror.\n",
            "[08:15:59] WARNING: /workspace/src/objective/regression_obj.cu:152: reg:linear is now deprecated in favor of reg:squarederror.\n",
            "[08:15:59] WARNING: /workspace/src/objective/regression_obj.cu:152: reg:linear is now deprecated in favor of reg:squarederror.\n",
            "[08:16:00] WARNING: /workspace/src/objective/regression_obj.cu:152: reg:linear is now deprecated in favor of reg:squarederror.\n",
            "[08:16:01] WARNING: /workspace/src/objective/regression_obj.cu:152: reg:linear is now deprecated in favor of reg:squarederror.\n",
            "[08:16:01] WARNING: /workspace/src/objective/regression_obj.cu:152: reg:linear is now deprecated in favor of reg:squarederror.\n"
          ],
          "name": "stdout"
        },
        {
          "output_type": "execute_result",
          "data": {
            "text/plain": [
              "{'learning_rate': 0.15,\n",
              " 'max_depth': 3,\n",
              " 'min_child_weight': 5,\n",
              " 'n_estimators': 100,\n",
              " 'reg_alpha': 0.001,\n",
              " 'reg_lambda': 0.1}"
            ]
          },
          "metadata": {
            "tags": []
          },
          "execution_count": 39
        }
      ]
    },
    {
      "cell_type": "code",
      "metadata": {
        "colab": {
          "base_uri": "https://localhost:8080/"
        },
        "id": "x3SJ8SLpsOdk",
        "outputId": "e314e2a1-d5aa-44ae-8d90-272b134c11f3"
      },
      "source": [
        "from sklearn.model_selection import RepeatedKFold\n",
        "from numpy import absolute\n",
        "kwargs={'reg_lambda':0.1, 'reg_alpha':0.01, 'n_estimators': 100, 'min_child_weight': 5, 'max_depth': 3, 'learning_rate': 0.15}\n",
        "\n",
        "model = xgb.XGBRegressor(tree_method='gpu_hist')\n",
        "model.set_params(**kwargs)\n",
        "cv = RepeatedKFold(n_splits=10, n_repeats=3, random_state=1)\n",
        "# evaluate model\n",
        "scores = cross_val_score(model,x_train, y_train, scoring='neg_mean_absolute_error', cv=cv, n_jobs=-1)\n",
        "scores = absolute(scores)\n",
        "print('Mean MAE: %.3f (%.3f)' % (scores.mean(), scores.std()) )\n",
        "model.fit(x_train, y_train, eval_metric=['mae'])\n",
        "y_pred = model.predict(x_test)\n",
        "\n",
        "# # reverse transformation\n",
        "# y_pred =inv_boxcox(y_pred, fitted_lambda)\n",
        "\n",
        "# # summarize prediction\n",
        "# predictions = [int(value) for value in y_pred]"
      ],
      "execution_count": 43,
      "outputs": [
        {
          "output_type": "stream",
          "text": [
            "Mean MAE: 120.326 (19.382)\n",
            "[08:21:10] WARNING: /workspace/src/objective/regression_obj.cu:152: reg:linear is now deprecated in favor of reg:squarederror.\n"
          ],
          "name": "stdout"
        }
      ]
    },
    {
      "cell_type": "code",
      "metadata": {
        "id": "GlcLVnWtLuHV"
      },
      "source": [
        "# pred=model.predict(x_test)\n",
        "# pred = best_param.predict(x_test)\n",
        "submission['num'] = y_pred\n",
        "submission.to_csv('submit.csv', index=False)"
      ],
      "execution_count": 46,
      "outputs": []
    },
    {
      "cell_type": "code",
      "metadata": {
        "id": "04hg8nc5MBPU"
      },
      "source": [
        ""
      ],
      "execution_count": null,
      "outputs": []
    }
  ]
}
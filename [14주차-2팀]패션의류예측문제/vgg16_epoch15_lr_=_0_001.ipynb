{
  "nbformat": 4,
  "nbformat_minor": 0,
  "metadata": {
    "colab": {
      "name": "vgg16-epoch15_lr = 0.001",
      "provenance": [],
      "collapsed_sections": []
    },
    "kernelspec": {
      "name": "python3",
      "display_name": "Python 3"
    },
    "accelerator": "GPU"
  },
  "cells": [
    {
      "cell_type": "code",
      "metadata": {
        "id": "SDeVclOBTbZT"
      },
      "source": [
        "!mkdir -p ~/.kaggle/\n",
        "!cp kaggle.json ~/.kaggle/\n",
        "!chmod 600 ~/.kaggle/kaggle.json"
      ],
      "execution_count": 1,
      "outputs": []
    },
    {
      "cell_type": "code",
      "metadata": {
        "id": "bHZ-isarTrRQ",
        "colab": {
          "base_uri": "https://localhost:8080/"
        },
        "outputId": "9386c9b7-6b64-43d7-e017-c01a684e9b8c"
      },
      "source": [
        "!kaggle competitions download -c sejong-ai-challenge-p1"
      ],
      "execution_count": 2,
      "outputs": [
        {
          "output_type": "stream",
          "text": [
            "Warning: Looks like you're using an outdated API Version, please consider updating (server 1.5.12 / client 1.5.4)\n",
            "Downloading test.csv.zip to /content\n",
            "  0% 0.00/4.74M [00:00<?, ?B/s]\n",
            "100% 4.74M/4.74M [00:00<00:00, 78.6MB/s]\n",
            "Downloading train.csv.zip to /content\n",
            " 26% 5.00M/19.0M [00:00<00:00, 52.0MB/s]\n",
            "100% 19.0M/19.0M [00:00<00:00, 93.1MB/s]\n",
            "Downloading sample_submission.csv to /content\n",
            "  0% 0.00/72.8k [00:00<?, ?B/s]\n",
            "100% 72.8k/72.8k [00:00<00:00, 77.9MB/s]\n"
          ],
          "name": "stdout"
        }
      ]
    },
    {
      "cell_type": "code",
      "metadata": {
        "id": "8uvaRarKT1wA",
        "colab": {
          "base_uri": "https://localhost:8080/"
        },
        "outputId": "b2e2be51-a948-4430-9aa8-aea47c198344"
      },
      "source": [
        "!unzip test.csv.zip\n",
        "!unzip train.csv.zip"
      ],
      "execution_count": 3,
      "outputs": [
        {
          "output_type": "stream",
          "text": [
            "Archive:  test.csv.zip\n",
            "  inflating: test.csv                \n",
            "Archive:  train.csv.zip\n",
            "  inflating: train.csv               \n"
          ],
          "name": "stdout"
        }
      ]
    },
    {
      "cell_type": "code",
      "metadata": {
        "id": "u6MhVtOlTxa8"
      },
      "source": [
        "import pandas as pd\n",
        "import numpy as np\n",
        "\n",
        "train = pd.read_csv(\"train.csv\")\n",
        "test=pd.read_csv('test.csv')\n",
        "submit=pd.read_csv('sample_submission.csv')\n",
        "\n",
        "train['label']=train['label'].apply(lambda x:'2' if x=='missing' else x)\n",
        "train['label']=train['label'].apply(lambda x:'10' if x=='NAN' else x)"
      ],
      "execution_count": 4,
      "outputs": []
    },
    {
      "cell_type": "code",
      "metadata": {
        "colab": {
          "base_uri": "https://localhost:8080/",
          "height": 375
        },
        "id": "qnz_T--eIGb7",
        "outputId": "99cebe6b-d00b-424b-ce83-870fe0161ed3"
      },
      "source": [
        "import matplotlib.pyplot as plt\n",
        "\n",
        "temp=train['label'].value_counts()\n",
        "fig,ax=plt.subplots(1,1,figsize=(10,6))\n",
        "ax.bar(temp.index,temp)\n",
        "plt.show()"
      ],
      "execution_count": 5,
      "outputs": [
        {
          "output_type": "display_data",
          "data": {
            "image/png": "[encoded data removed]",
            "text/plain": [
              "<Figure size 720x432 with 1 Axes>"
            ]
          },
          "metadata": {
            "tags": [],
            "needs_background": "light"
          }
        }
      ]
    },
    {
      "cell_type": "code",
      "metadata": {
        "id": "8-Mq8ziiWhTZ"
      },
      "source": [
        "y=train['label'].astype(int).values\n",
        "X=train.drop(['id','label'],axis=1).values"
      ],
      "execution_count": 14,
      "outputs": []
    },
    {
      "cell_type": "code",
      "metadata": {
        "id": "C8vHa5LrXjxI"
      },
      "source": [
        "X_test=test.drop('id',axis=1).values"
      ],
      "execution_count": 8,
      "outputs": []
    },
    {
      "cell_type": "code",
      "metadata": {
        "id": "m31V2uLXJD_v"
      },
      "source": [
        "X_tr = X.astype('float32')/255\n",
        "X_test=X_test.astype('float32')/255\n",
        "\n",
        "X_tr = pd.DataFrame(X_tr)\n",
        "X_ovr = X_tr.values\n",
        "X_train_ovr = X_ovr.reshape(-1,28,28,1)\n",
        "\n",
        "X_test = pd.DataFrame(X_test)\n",
        "X_test = X_test.values\n",
        "X_test = X_test.reshape(-1,28,28,1)"
      ],
      "execution_count": 74,
      "outputs": []
    },
    {
      "cell_type": "code",
      "metadata": {
        "id": "Bn4nY9OXJLjR"
      },
      "source": [
        "import torch\n",
        "import torchvision\n",
        "\n",
        "from torch import nn, optim\n",
        "from torch.utils.data import DataLoader,TensorDataset\n",
        "import torch.nn as nn"
      ],
      "execution_count": 23,
      "outputs": []
    },
    {
      "cell_type": "code",
      "metadata": {
        "id": "8fuFsG5ZQunp"
      },
      "source": [
        "#device=torch.device('cuda:0' if torch.cuda.is_available() else 'cpu')"
      ],
      "execution_count": 26,
      "outputs": []
    },
    {
      "cell_type": "code",
      "metadata": {
        "id": "Uhad9es8XtLQ"
      },
      "source": [
        "'''\n",
        "이 셀은 쓰지 않음\n",
        "from keras.applications.vgg16 import VGG16\n",
        "from keras.layers import *\n",
        "\n",
        "img_size_target = 224\n",
        "img_input = Input(shape=(img_size_target, img_size_target, 1))\n",
        "img_conc = Concatenate()([img_input, img_input, img_input])  \n",
        "model = VGG16(input_tensor=img_conc, classes = 11, weights = None)\n",
        "'''"
      ],
      "execution_count": 60,
      "outputs": []
    },
    {
      "cell_type": "code",
      "metadata": {
        "id": "lcTb-cntaIvh"
      },
      "source": [
        "from keras import optimizers, initializers, regularizers, metrics\n",
        "from keras.models import Model"
      ],
      "execution_count": 69,
      "outputs": []
    },
    {
      "cell_type": "code",
      "metadata": {
        "id": "sP6lkBfTZthH"
      },
      "source": [
        "#https://eremo2002.tistory.com/55\n",
        "input_tensor = Input(shape=(28, 28, 1), dtype='float32', name='input')\n",
        " \n",
        "x = layers.Conv2D(64, (3, 3), activation='relu', padding='same', kernel_initializer='he_normal', kernel_regularizer=regularizers.l2(0.01))(input_tensor)\n",
        "x = layers.Conv2D(64, (3, 3), activation='relu', padding='same', kernel_initializer='he_normal', kernel_regularizer=regularizers.l2(0.01))(x)\n",
        "x = layers.MaxPooling2D((2,2))(x)\n",
        " \n",
        "x = layers.Conv2D(128, (3, 3), activation='relu', padding='same', kernel_initializer='he_normal', kernel_regularizer=regularizers.l2(0.01))(x)\n",
        "x = layers.Conv2D(128, (3, 3), activation='relu', padding='same', kernel_initializer='he_normal', kernel_regularizer=regularizers.l2(0.01))(x)\n",
        "x = layers.MaxPooling2D((2,2))(x)\n",
        " \n",
        "x = layers.Conv2D(256, (3, 3), activation='relu', padding='same', kernel_initializer='he_normal', kernel_regularizer=regularizers.l2(0.01))(x)\n",
        "x = layers.Conv2D(256, (3, 3), activation='relu', padding='same', kernel_initializer='he_normal', kernel_regularizer=regularizers.l2(0.01))(x)\n",
        "x = layers.Conv2D(256, (3, 3), activation='relu', padding='same', kernel_initializer='he_normal', kernel_regularizer=regularizers.l2(0.01))(x)\n",
        "x = layers.MaxPooling2D((2,2))(x)\n",
        " \n",
        "x = layers.Conv2D(512, (3, 3), activation='relu', padding='same', kernel_initializer='he_normal', kernel_regularizer=regularizers.l2(0.01))(x)\n",
        "x = layers.Conv2D(512, (3, 3), activation='relu', padding='same', kernel_initializer='he_normal', kernel_regularizer=regularizers.l2(0.01))(x)\n",
        "x = layers.Conv2D(512, (3, 3), activation='relu', padding='same', kernel_initializer='he_normal', kernel_regularizer=regularizers.l2(0.01))(x)\n",
        "x = layers.MaxPooling2D((2,2))(x)\n",
        " \n",
        "x = layers.Conv2D(512, (3, 3), activation='relu', padding='same', kernel_initializer='he_normal', kernel_regularizer=regularizers.l2(0.01))(x)\n",
        "x = layers.Conv2D(512, (3, 3), activation='relu', padding='same', kernel_initializer='he_normal', kernel_regularizer=regularizers.l2(0.01))(x)\n",
        "x = layers.Conv2D(512, (3, 3), activation='relu', padding='same', kernel_initializer='he_normal', kernel_regularizer=regularizers.l2(0.01))(x)\n",
        "#x = layers.MaxPooling2D((2,2))(x)\n",
        " \n",
        "x = layers.Flatten()(x)\n",
        "x = layers.Dense(4096, kernel_initializer='he_normal')(x)\n",
        "x = layers.Dense(2048, kernel_initializer='he_normal')(x)\n",
        "x = layers.Dense(1024, kernel_initializer='he_normal')(x)\n",
        "output_tensor = layers.Dense(11, activation='softmax')(x)"
      ],
      "execution_count": 101,
      "outputs": []
    },
    {
      "cell_type": "code",
      "metadata": {
        "colab": {
          "base_uri": "https://localhost:8080/"
        },
        "id": "oZ2xAqPbafvl",
        "outputId": "8bf6e435-ed70-40bd-ef52-a58f321fb17c"
      },
      "source": [
        "myvgg = Model(input_tensor, output_tensor)\n",
        "myvgg.summary()"
      ],
      "execution_count": 102,
      "outputs": [
        {
          "output_type": "stream",
          "text": [
            "Model: \"model_2\"\n",
            "_________________________________________________________________\n",
            "Layer (type)                 Output Shape              Param #   \n",
            "=================================================================\n",
            "input (InputLayer)           [(None, 28, 28, 1)]       0         \n",
            "_________________________________________________________________\n",
            "conv2d_49 (Conv2D)           (None, 28, 28, 64)        640       \n",
            "_________________________________________________________________\n",
            "conv2d_50 (Conv2D)           (None, 28, 28, 64)        36928     \n",
            "_________________________________________________________________\n",
            "max_pooling2d_17 (MaxPooling (None, 14, 14, 64)        0         \n",
            "_________________________________________________________________\n",
            "conv2d_51 (Conv2D)           (None, 14, 14, 128)       73856     \n",
            "_________________________________________________________________\n",
            "conv2d_52 (Conv2D)           (None, 14, 14, 128)       147584    \n",
            "_________________________________________________________________\n",
            "max_pooling2d_18 (MaxPooling (None, 7, 7, 128)         0         \n",
            "_________________________________________________________________\n",
            "conv2d_53 (Conv2D)           (None, 7, 7, 256)         295168    \n",
            "_________________________________________________________________\n",
            "conv2d_54 (Conv2D)           (None, 7, 7, 256)         590080    \n",
            "_________________________________________________________________\n",
            "conv2d_55 (Conv2D)           (None, 7, 7, 256)         590080    \n",
            "_________________________________________________________________\n",
            "max_pooling2d_19 (MaxPooling (None, 3, 3, 256)         0         \n",
            "_________________________________________________________________\n",
            "conv2d_56 (Conv2D)           (None, 3, 3, 512)         1180160   \n",
            "_________________________________________________________________\n",
            "conv2d_57 (Conv2D)           (None, 3, 3, 512)         2359808   \n",
            "_________________________________________________________________\n",
            "conv2d_58 (Conv2D)           (None, 3, 3, 512)         2359808   \n",
            "_________________________________________________________________\n",
            "max_pooling2d_20 (MaxPooling (None, 1, 1, 512)         0         \n",
            "_________________________________________________________________\n",
            "conv2d_59 (Conv2D)           (None, 1, 1, 512)         2359808   \n",
            "_________________________________________________________________\n",
            "conv2d_60 (Conv2D)           (None, 1, 1, 512)         2359808   \n",
            "_________________________________________________________________\n",
            "conv2d_61 (Conv2D)           (None, 1, 1, 512)         2359808   \n",
            "_________________________________________________________________\n",
            "flatten_3 (Flatten)          (None, 512)               0         \n",
            "_________________________________________________________________\n",
            "dense_12 (Dense)             (None, 4096)              2101248   \n",
            "_________________________________________________________________\n",
            "dense_13 (Dense)             (None, 2048)              8390656   \n",
            "_________________________________________________________________\n",
            "dense_14 (Dense)             (None, 1024)              2098176   \n",
            "_________________________________________________________________\n",
            "dense_15 (Dense)             (None, 11)                11275     \n",
            "=================================================================\n",
            "Total params: 27,314,891\n",
            "Trainable params: 27,314,891\n",
            "Non-trainable params: 0\n",
            "_________________________________________________________________\n"
          ],
          "name": "stdout"
        }
      ]
    },
    {
      "cell_type": "code",
      "metadata": {
        "colab": {
          "base_uri": "https://localhost:8080/"
        },
        "id": "xezA52CNWiYP",
        "outputId": "4452ec26-41c0-4aff-9073-b1ba72284ba9"
      },
      "source": [
        "Adam=tf.keras.optimizers.Adam(\n",
        "    learning_rate=0.001,epsilon=1e-1, amsgrad=False,name='Adam')\n",
        "myvgg.compile(\n",
        "    optimizer=Adam,\n",
        "    loss='categorical_crossentropy',\n",
        "    metrics=['accuracy'])\n",
        "\n",
        "y_pred_tr=myvgg.fit(X_train_ovr,y_tr_lb,epochs=15,batch_size=32,validation_split=0.2)"
      ],
      "execution_count": 103,
      "outputs": [
        {
          "output_type": "stream",
          "text": [
            "Epoch 1/15\n",
            "846/846 [==============================] - 31s 34ms/step - loss: 83.3268 - accuracy: 0.4804 - val_loss: 71.0076 - val_accuracy: 0.7797\n",
            "Epoch 2/15\n",
            "846/846 [==============================] - 29s 34ms/step - loss: 66.6352 - accuracy: 0.7762 - val_loss: 53.7971 - val_accuracy: 0.8041\n",
            "Epoch 3/15\n",
            "846/846 [==============================] - 28s 34ms/step - loss: 49.9847 - accuracy: 0.8165 - val_loss: 39.5320 - val_accuracy: 0.8245\n",
            "Epoch 4/15\n",
            "846/846 [==============================] - 29s 34ms/step - loss: 36.6374 - accuracy: 0.8301 - val_loss: 28.7478 - val_accuracy: 0.8460\n",
            "Epoch 5/15\n",
            "846/846 [==============================] - 29s 34ms/step - loss: 26.6301 - accuracy: 0.8443 - val_loss: 20.8598 - val_accuracy: 0.8567\n",
            "Epoch 6/15\n",
            "846/846 [==============================] - 28s 34ms/step - loss: 19.3378 - accuracy: 0.8474 - val_loss: 15.1605 - val_accuracy: 0.8593\n",
            "Epoch 7/15\n",
            "846/846 [==============================] - 29s 34ms/step - loss: 14.0840 - accuracy: 0.8474 - val_loss: 11.0883 - val_accuracy: 0.8551\n",
            "Epoch 8/15\n",
            "846/846 [==============================] - 29s 34ms/step - loss: 10.2959 - accuracy: 0.8553 - val_loss: 8.1263 - val_accuracy: 0.8607\n",
            "Epoch 9/15\n",
            "846/846 [==============================] - 29s 34ms/step - loss: 7.5696 - accuracy: 0.8590 - val_loss: 6.0191 - val_accuracy: 0.8651\n",
            "Epoch 10/15\n",
            "846/846 [==============================] - 29s 34ms/step - loss: 5.6300 - accuracy: 0.8567 - val_loss: 4.5182 - val_accuracy: 0.8636\n",
            "Epoch 11/15\n",
            "846/846 [==============================] - 29s 34ms/step - loss: 4.2446 - accuracy: 0.8550 - val_loss: 3.4673 - val_accuracy: 0.8465\n",
            "Epoch 12/15\n",
            "846/846 [==============================] - 29s 34ms/step - loss: 3.2269 - accuracy: 0.8614 - val_loss: 2.6815 - val_accuracy: 0.8506\n",
            "Epoch 13/15\n",
            "846/846 [==============================] - 29s 34ms/step - loss: 2.5286 - accuracy: 0.8559 - val_loss: 2.0953 - val_accuracy: 0.8648\n",
            "Epoch 14/15\n",
            "846/846 [==============================] - 29s 34ms/step - loss: 1.9952 - accuracy: 0.8646 - val_loss: 1.7565 - val_accuracy: 0.8423\n",
            "Epoch 15/15\n",
            "846/846 [==============================] - 29s 34ms/step - loss: 1.6207 - accuracy: 0.8642 - val_loss: 1.4681 - val_accuracy: 0.8387\n"
          ],
          "name": "stdout"
        }
      ]
    },
    {
      "cell_type": "code",
      "metadata": {
        "colab": {
          "base_uri": "https://localhost:8080/",
          "height": 265
        },
        "id": "G6hfuHxDcR9l",
        "outputId": "2fffa95b-d9ef-487c-c6cd-3573ed98e0ac"
      },
      "source": [
        "try:\n",
        "    plt.plot(y_pred_tr.history['accuracy'])\n",
        "    plt.plot(y_pred_tr.history['val_accuracy'])\n",
        "except KeyError:\n",
        " plt.plot(y_pred_tr.history['accuracy'])\n",
        " plt.plot(y_pred_tr.history['val_accuracy'])\n",
        " plt.title('Accuracy vs. epochs')\n",
        " plt.ylabel('Loss')\n",
        " plt.xlabel('Epoch')\n",
        " plt.legend(['Training'], loc='lower right')\n",
        " plt.show()"
      ],
      "execution_count": 104,
      "outputs": [
        {
          "output_type": "display_data",
          "data": {
            "image/png": "[encoded data removed]",
            "text/plain": [
              "<Figure size 432x288 with 1 Axes>"
            ]
          },
          "metadata": {
            "tags": [],
            "needs_background": "light"
          }
        }
      ]
    },
    {
      "cell_type": "code",
      "metadata": {
        "colab": {
          "base_uri": "https://localhost:8080/",
          "height": 295
        },
        "id": "5S598lAfdbU0",
        "outputId": "4b4fa0ac-c50d-463b-e8dd-3e9e6a364041"
      },
      "source": [
        "plt.plot(y_pred_tr.history['loss'])\n",
        "plt.plot(y_pred_tr.history['val_loss'])\n",
        "plt.title('Loss vs. epochs')\n",
        "plt.ylabel('Loss')\n",
        "plt.xlabel('Epoch')\n",
        "plt.legend(['Training', 'Validation'], loc='upper right')\n",
        "plt.show()"
      ],
      "execution_count": 105,
      "outputs": [
        {
          "output_type": "display_data",
          "data": {
            "image/png": "[encoded data removed]",
            "text/plain": [
              "<Figure size 432x288 with 1 Axes>"
            ]
          },
          "metadata": {
            "tags": [],
            "needs_background": "light"
          }
        }
      ]
    },
    {
      "cell_type": "code",
      "metadata": {
        "colab": {
          "base_uri": "https://localhost:8080/"
        },
        "id": "fffYPvhBddJC",
        "outputId": "64a108c3-f157-4a5f-ba4a-34b302a71669"
      },
      "source": [
        "y_pred = myvgg.predict(X_test, batch_size=32)\n",
        "y_pred1 =lb.inverse_transform(y_pred)\n",
        "y_pred1"
      ],
      "execution_count": 106,
      "outputs": [
        {
          "output_type": "execute_result",
          "data": {
            "text/plain": [
              "array([2, 6, 4, ..., 5, 6, 1])"
            ]
          },
          "metadata": {
            "tags": []
          },
          "execution_count": 106
        }
      ]
    },
    {
      "cell_type": "code",
      "metadata": {
        "colab": {
          "base_uri": "https://localhost:8080/",
          "height": 404
        },
        "id": "KrpC2P1TdecL",
        "outputId": "a77f22c7-2aef-444e-f277-dee319741ec1"
      },
      "source": [
        "submit['label']=y_pred1\n",
        "submit"
      ],
      "execution_count": 107,
      "outputs": [
        {
          "output_type": "execute_result",
          "data": {
            "text/html": [
              "<div>\n",
              "<style scoped>\n",
              "    .dataframe tbody tr th:only-of-type {\n",
              "        vertical-align: middle;\n",
              "    }\n",
              "\n",
              "    .dataframe tbody tr th {\n",
              "        vertical-align: top;\n",
              "    }\n",
              "\n",
              "    .dataframe thead th {\n",
              "        text-align: right;\n",
              "    }\n",
              "</style>\n",
              "<table border=\"1\" class=\"dataframe\">\n",
              "  <thead>\n",
              "    <tr style=\"text-align: right;\">\n",
              "      <th></th>\n",
              "      <th>id</th>\n",
              "      <th>label</th>\n",
              "    </tr>\n",
              "  </thead>\n",
              "  <tbody>\n",
              "    <tr>\n",
              "      <th>0</th>\n",
              "      <td>11</td>\n",
              "      <td>2</td>\n",
              "    </tr>\n",
              "    <tr>\n",
              "      <th>1</th>\n",
              "      <td>15</td>\n",
              "      <td>6</td>\n",
              "    </tr>\n",
              "    <tr>\n",
              "      <th>2</th>\n",
              "      <td>17</td>\n",
              "      <td>4</td>\n",
              "    </tr>\n",
              "    <tr>\n",
              "      <th>3</th>\n",
              "      <td>21</td>\n",
              "      <td>7</td>\n",
              "    </tr>\n",
              "    <tr>\n",
              "      <th>4</th>\n",
              "      <td>22</td>\n",
              "      <td>4</td>\n",
              "    </tr>\n",
              "    <tr>\n",
              "      <th>...</th>\n",
              "      <td>...</td>\n",
              "      <td>...</td>\n",
              "    </tr>\n",
              "    <tr>\n",
              "      <th>8455</th>\n",
              "      <td>59970</td>\n",
              "      <td>7</td>\n",
              "    </tr>\n",
              "    <tr>\n",
              "      <th>8456</th>\n",
              "      <td>59971</td>\n",
              "      <td>5</td>\n",
              "    </tr>\n",
              "    <tr>\n",
              "      <th>8457</th>\n",
              "      <td>59982</td>\n",
              "      <td>5</td>\n",
              "    </tr>\n",
              "    <tr>\n",
              "      <th>8458</th>\n",
              "      <td>59986</td>\n",
              "      <td>6</td>\n",
              "    </tr>\n",
              "    <tr>\n",
              "      <th>8459</th>\n",
              "      <td>59996</td>\n",
              "      <td>1</td>\n",
              "    </tr>\n",
              "  </tbody>\n",
              "</table>\n",
              "<p>8460 rows × 2 columns</p>\n",
              "</div>"
            ],
            "text/plain": [
              "         id  label\n",
              "0        11      2\n",
              "1        15      6\n",
              "2        17      4\n",
              "3        21      7\n",
              "4        22      4\n",
              "...     ...    ...\n",
              "8455  59970      7\n",
              "8456  59971      5\n",
              "8457  59982      5\n",
              "8458  59986      6\n",
              "8459  59996      1\n",
              "\n",
              "[8460 rows x 2 columns]"
            ]
          },
          "metadata": {
            "tags": []
          },
          "execution_count": 107
        }
      ]
    },
    {
      "cell_type": "code",
      "metadata": {
        "id": "MJcbyVLMgJkd"
      },
      "source": [
        "submit.to_csv(\"submission.csv\", index = False, header = True)"
      ],
      "execution_count": 108,
      "outputs": []
    },
    {
      "cell_type": "code",
      "metadata": {
        "id": "Y81ZT00chdBV",
        "colab": {
          "base_uri": "https://localhost:8080/"
        },
        "outputId": "05991b8f-8744-4ecd-dcc8-82d162a22157"
      },
      "source": [
        "!kaggle competitions submit -c sejong-ai-challenge-p1 -f submission.csv -m \"VGG\""
      ],
      "execution_count": 109,
      "outputs": [
        {
          "output_type": "stream",
          "text": [
            "Warning: Looks like you're using an outdated API Version, please consider updating (server 1.5.12 / client 1.5.4)\n",
            "100% 64.5k/64.5k [00:00<00:00, 108kB/s]\n",
            "Traceback (most recent call last):\n",
            "  File \"/usr/local/bin/kaggle\", line 8, in <module>\n",
            "    sys.exit(main())\n",
            "  File \"/usr/local/lib/python2.7/dist-packages/kaggle/cli.py\", line 64, in main\n",
            "    print(out, end='')\n",
            "UnicodeEncodeError: 'latin-1' codec can't encode characters in position 46-47: ordinal not in range(256)\n"
          ],
          "name": "stdout"
        }
      ]
    }
  ]
}
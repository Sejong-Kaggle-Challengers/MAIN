{
  "nbformat": 4,
  "nbformat_minor": 0,
  "metadata": {
    "colab": {
      "name": "SJU_Challange_MNIST_CNN.ipynb",
      "provenance": [],
      "collapsed_sections": []
    },
    "kernelspec": {
      "name": "python3",
      "display_name": "Python 3"
    },
    "language_info": {
      "name": "python"
    }
  },
  "cells": [
    {
      "cell_type": "code",
      "metadata": {
        "id": "MCfhbOLR55k8"
      },
      "source": [
        "import numpy as np\n",
        "import pandas as pd\n",
        "import matplotlib.pyplot as plt"
      ],
      "execution_count": 1,
      "outputs": []
    },
    {
      "cell_type": "code",
      "metadata": {
        "id": "6B3A22Ry6D0Y"
      },
      "source": [
        "train=pd.read_csv('/content/drive/MyDrive/캐글스터디/SJU_Challange_MNIST/train.csv')\n",
        "test=pd.read_csv('/content/drive/MyDrive/캐글스터디/SJU_Challange_MNIST/test.csv')\n",
        "submit=pd.read_csv('/content/drive/MyDrive/캐글스터디/SJU_Challange_MNIST/sample_submission.csv')"
      ],
      "execution_count": 113,
      "outputs": []
    },
    {
      "cell_type": "code",
      "metadata": {
        "id": "n7gkKCsG6FPG"
      },
      "source": [
        "train['label']=train['label'].apply(lambda x:'2' if x=='missing' else x)\n",
        "train['label']=train['label'].apply(lambda x:'10' if x=='NAN' else x)"
      ],
      "execution_count": 114,
      "outputs": []
    },
    {
      "cell_type": "code",
      "metadata": {
        "id": "WknNRttQ6MCs"
      },
      "source": [
        "y=train['label'].astype(int).values\n",
        "X=train.drop(['id','label'],axis=1).values"
      ],
      "execution_count": 115,
      "outputs": []
    },
    {
      "cell_type": "code",
      "metadata": {
        "id": "t6BSn2-06Nh-"
      },
      "source": [
        "X_test=test.drop('id',axis=1).values"
      ],
      "execution_count": 116,
      "outputs": []
    },
    {
      "cell_type": "code",
      "metadata": {
        "id": "_pD2TnEY6PS-"
      },
      "source": [
        "# from sklearn.model_selection import train_test_split\n",
        "\n",
        "# X_tr,X_val,y_tr,y_val=train_test_split(X,y,random_state=71,stratify=y,test_size=0.2)"
      ],
      "execution_count": 117,
      "outputs": []
    },
    {
      "cell_type": "code",
      "metadata": {
        "id": "-SW2OtXp6RDE"
      },
      "source": [
        "X_tr = X.astype('float32')/255\n",
        "# X_val = X_val.astype('float32')/255"
      ],
      "execution_count": 118,
      "outputs": []
    },
    {
      "cell_type": "code",
      "metadata": {
        "id": "j84P_qKNIGAW"
      },
      "source": [
        "X_test=X_test.astype('float32')/255"
      ],
      "execution_count": 119,
      "outputs": []
    },
    {
      "cell_type": "code",
      "metadata": {
        "id": "NtE4qTsT6kUN"
      },
      "source": [
        "X_tr = pd.DataFrame(X_tr)\n",
        "X_ovr = X_tr.values\n",
        "X_train_ovr = X_ovr.reshape(-1,28,28,1)"
      ],
      "execution_count": 120,
      "outputs": []
    },
    {
      "cell_type": "code",
      "metadata": {
        "id": "cMULojFGJPd3"
      },
      "source": [
        "X_test = pd.DataFrame(X_test)\n",
        "X_test = X_test.values\n",
        "X_test = X_test.reshape(-1,28,28,1)"
      ],
      "execution_count": 121,
      "outputs": []
    },
    {
      "cell_type": "code",
      "metadata": {
        "id": "cerUima_ATSM"
      },
      "source": [
        "# X_val_df = pd.DataFrame(X_val)\n",
        "# X_val_df = X_val_df.values\n",
        "# X_val_df = X_val_df.reshape(-1,28,28,1)"
      ],
      "execution_count": 48,
      "outputs": []
    },
    {
      "cell_type": "code",
      "metadata": {
        "colab": {
          "base_uri": "https://localhost:8080/"
        },
        "id": "Yvwkkx7U8FBf",
        "outputId": "b4cb95c1-c577-415b-f8e4-4c271c618594"
      },
      "source": [
        "y"
      ],
      "execution_count": 59,
      "outputs": [
        {
          "output_type": "execute_result",
          "data": {
            "text/plain": [
              "array([2, 9, 6, ..., 5, 2, 7])"
            ]
          },
          "metadata": {
            "tags": []
          },
          "execution_count": 59
        }
      ]
    },
    {
      "cell_type": "code",
      "metadata": {
        "colab": {
          "base_uri": "https://localhost:8080/"
        },
        "id": "0ND-sSXy8wba",
        "outputId": "77df076a-116a-4f9d-e4ac-620cc3362e35"
      },
      "source": [
        "from sklearn.preprocessing import LabelBinarizer\n",
        "lb = LabelBinarizer()\n",
        "lb.fit(y)\n",
        "print(lb.classes_)\n",
        "y_tr_lb = lb.transform(y)\n",
        "# y_val_lb = lb.transform(y_val)\n",
        "y_tr_lb"
      ],
      "execution_count": 122,
      "outputs": [
        {
          "output_type": "stream",
          "text": [
            "[ 0  1  2  3  4  5  6  7  8  9 10]\n"
          ],
          "name": "stdout"
        },
        {
          "output_type": "execute_result",
          "data": {
            "text/plain": [
              "array([[0, 0, 1, ..., 0, 0, 0],\n",
              "       [0, 0, 0, ..., 0, 1, 0],\n",
              "       [0, 0, 0, ..., 0, 0, 0],\n",
              "       ...,\n",
              "       [0, 0, 0, ..., 0, 0, 0],\n",
              "       [0, 0, 1, ..., 0, 0, 0],\n",
              "       [0, 0, 0, ..., 0, 0, 0]])"
            ]
          },
          "metadata": {
            "tags": []
          },
          "execution_count": 122
        }
      ]
    },
    {
      "cell_type": "code",
      "metadata": {
        "id": "ABTwwWLB6rY5"
      },
      "source": [
        "import tensorflow as tf\n",
        "import keras \n",
        "from keras import layers\n",
        "from keras import models\n",
        "from keras.layers import *\n",
        "model1 = models.Sequential()\n",
        "model1.add(layers.Conv2D(16,(3,3),activation='relu',input_shape = (28,28,1),name='conv2d_layer1'))\n",
        "model1.add(layers.MaxPooling2D((2,2)))\n",
        "model1.add(layers.Conv2D(64,(3,3),activation='relu',name='conv2d_layer2'))\n",
        "model1.add(layers.MaxPooling2D((2,2)))\n",
        "model1.add(layers.Conv2D(128,(3,3),activation='relu',name='conv2d_layer3'))\n",
        "model1.add(layers.Flatten())\n",
        "model1.add(Dense(64,activation = 'relu'))\n",
        "model1.add(Dense(32,activation = 'relu'))\n",
        "model1.add(Dense(11,activation='softmax'))"
      ],
      "execution_count": 146,
      "outputs": []
    },
    {
      "cell_type": "code",
      "metadata": {
        "colab": {
          "base_uri": "https://localhost:8080/"
        },
        "id": "g6VzcOSE6vaG",
        "outputId": "fb1ea5a6-ac20-47c5-fac4-641a580154c3"
      },
      "source": [
        "model1.summary()"
      ],
      "execution_count": 147,
      "outputs": [
        {
          "output_type": "stream",
          "text": [
            "Model: \"sequential_14\"\n",
            "_________________________________________________________________\n",
            "Layer (type)                 Output Shape              Param #   \n",
            "=================================================================\n",
            "conv2d_layer1 (Conv2D)       (None, 26, 26, 16)        160       \n",
            "_________________________________________________________________\n",
            "max_pooling2d_18 (MaxPooling (None, 13, 13, 16)        0         \n",
            "_________________________________________________________________\n",
            "conv2d_layer2 (Conv2D)       (None, 11, 11, 64)        9280      \n",
            "_________________________________________________________________\n",
            "max_pooling2d_19 (MaxPooling (None, 5, 5, 64)          0         \n",
            "_________________________________________________________________\n",
            "conv2d_layer3 (Conv2D)       (None, 3, 3, 128)         73856     \n",
            "_________________________________________________________________\n",
            "flatten_14 (Flatten)         (None, 1152)              0         \n",
            "_________________________________________________________________\n",
            "dense_42 (Dense)             (None, 64)                73792     \n",
            "_________________________________________________________________\n",
            "dense_43 (Dense)             (None, 32)                2080      \n",
            "_________________________________________________________________\n",
            "dense_44 (Dense)             (None, 11)                363       \n",
            "=================================================================\n",
            "Total params: 159,531\n",
            "Trainable params: 159,531\n",
            "Non-trainable params: 0\n",
            "_________________________________________________________________\n"
          ],
          "name": "stdout"
        }
      ]
    },
    {
      "cell_type": "code",
      "metadata": {
        "colab": {
          "base_uri": "https://localhost:8080/"
        },
        "id": "GY9obErG6wJm",
        "outputId": "204ea9aa-a30f-46bb-ef12-7381a1407919"
      },
      "source": [
        "Adam=tf.keras.optimizers.Adam(\n",
        "    learning_rate=0.01,epsilon=1e-1, amsgrad=False,name='Adam')\n",
        "model1.compile(\n",
        "    optimizer=Adam,\n",
        "    loss='categorical_crossentropy',\n",
        "    metrics=['accuracy'])\n",
        "\n",
        "y_pred_tr=model1.fit(X_train_ovr,y_tr_lb,epochs=15,batch_size=32,validation_split=0.2)"
      ],
      "execution_count": 148,
      "outputs": [
        {
          "output_type": "stream",
          "text": [
            "Epoch 1/15\n",
            "846/846 [==============================] - 24s 28ms/step - loss: 1.3748 - accuracy: 0.4813 - val_loss: 0.5403 - val_accuracy: 0.7832\n",
            "Epoch 2/15\n",
            "846/846 [==============================] - 23s 28ms/step - loss: 0.5529 - accuracy: 0.7850 - val_loss: 0.4657 - val_accuracy: 0.8228\n",
            "Epoch 3/15\n",
            "846/846 [==============================] - 23s 28ms/step - loss: 0.4376 - accuracy: 0.8355 - val_loss: 0.3604 - val_accuracy: 0.8666\n",
            "Epoch 4/15\n",
            "846/846 [==============================] - 23s 28ms/step - loss: 0.3825 - accuracy: 0.8602 - val_loss: 0.3352 - val_accuracy: 0.8805\n",
            "Epoch 5/15\n",
            "846/846 [==============================] - 24s 28ms/step - loss: 0.3486 - accuracy: 0.8699 - val_loss: 0.3185 - val_accuracy: 0.8805\n",
            "Epoch 6/15\n",
            "846/846 [==============================] - 24s 28ms/step - loss: 0.3155 - accuracy: 0.8827 - val_loss: 0.3433 - val_accuracy: 0.8756\n",
            "Epoch 7/15\n",
            "846/846 [==============================] - 24s 28ms/step - loss: 0.2906 - accuracy: 0.8943 - val_loss: 0.3093 - val_accuracy: 0.8855\n",
            "Epoch 8/15\n",
            "846/846 [==============================] - 24s 28ms/step - loss: 0.2755 - accuracy: 0.8943 - val_loss: 0.3277 - val_accuracy: 0.8772\n",
            "Epoch 9/15\n",
            "846/846 [==============================] - 23s 27ms/step - loss: 0.2539 - accuracy: 0.9053 - val_loss: 0.2946 - val_accuracy: 0.8973\n",
            "Epoch 10/15\n",
            "846/846 [==============================] - 23s 27ms/step - loss: 0.2370 - accuracy: 0.9105 - val_loss: 0.3015 - val_accuracy: 0.8932\n",
            "Epoch 11/15\n",
            "846/846 [==============================] - 23s 27ms/step - loss: 0.2179 - accuracy: 0.9171 - val_loss: 0.3419 - val_accuracy: 0.8833\n",
            "Epoch 12/15\n",
            "846/846 [==============================] - 23s 27ms/step - loss: 0.2069 - accuracy: 0.9211 - val_loss: 0.3140 - val_accuracy: 0.8945\n",
            "Epoch 13/15\n",
            "846/846 [==============================] - 23s 27ms/step - loss: 0.1921 - accuracy: 0.9256 - val_loss: 0.3021 - val_accuracy: 0.8948\n",
            "Epoch 14/15\n",
            "846/846 [==============================] - 23s 27ms/step - loss: 0.1791 - accuracy: 0.9334 - val_loss: 0.3147 - val_accuracy: 0.8929\n",
            "Epoch 15/15\n",
            "846/846 [==============================] - 23s 27ms/step - loss: 0.1654 - accuracy: 0.9379 - val_loss: 0.3311 - val_accuracy: 0.8951\n"
          ],
          "name": "stdout"
        }
      ]
    },
    {
      "cell_type": "code",
      "metadata": {
        "colab": {
          "base_uri": "https://localhost:8080/",
          "height": 265
        },
        "id": "0WYI0we6CQRU",
        "outputId": "05b1d91d-077c-4fcc-b4e7-e4d54485a129"
      },
      "source": [
        "try:\n",
        "    plt.plot(y_pred_tr.history['accuracy'])\n",
        "    plt.plot(y_pred_tr.history['val_accuracy'])\n",
        "except KeyError:\n",
        " plt.plot(y_pred_tr.history['accuracy'])\n",
        " plt.plot(y_pred_tr.history['val_accuracy'])\n",
        " plt.title('Accuracy vs. epochs')\n",
        " plt.ylabel('Loss')\n",
        " plt.xlabel('Epoch')\n",
        " plt.legend(['Training'], loc='lower right')\n",
        " plt.show() "
      ],
      "execution_count": 156,
      "outputs": [
        {
          "output_type": "display_data",
          "data": {
            "image/png": "[encoded data removed]",
            "text/plain": [
              "<Figure size 432x288 with 1 Axes>"
            ]
          },
          "metadata": {
            "tags": [],
            "needs_background": "light"
          }
        }
      ]
    },
    {
      "cell_type": "code",
      "metadata": {
        "colab": {
          "base_uri": "https://localhost:8080/",
          "height": 295
        },
        "id": "I8XBDhyMEaf6",
        "outputId": "1efbf511-b26f-4e27-9186-66652f0c2cb1"
      },
      "source": [
        "plt.plot(y_pred_tr.history['loss'])\n",
        "plt.plot(y_pred_tr.history['val_loss'])\n",
        "plt.title('Loss vs. epochs')\n",
        "plt.ylabel('Loss')\n",
        "plt.xlabel('Epoch')\n",
        "plt.legend(['Training', 'Validation'], loc='upper right')\n",
        "plt.show() "
      ],
      "execution_count": 157,
      "outputs": [
        {
          "output_type": "display_data",
          "data": {
            "image/png": "[encoded data removed]",
            "text/plain": [
              "<Figure size 432x288 with 1 Axes>"
            ]
          },
          "metadata": {
            "tags": [],
            "needs_background": "light"
          }
        }
      ]
    },
    {
      "cell_type": "code",
      "metadata": {
        "colab": {
          "base_uri": "https://localhost:8080/"
        },
        "id": "yNMb_gZmEizr",
        "outputId": "5bdc9597-931a-43ce-82a6-3ba4a1ba6fbe"
      },
      "source": [
        "y_pred = model1.predict(X_test, batch_size=32)\n",
        "y_pred1 =lb.inverse_transform(y_pred)\n",
        "y_pred1"
      ],
      "execution_count": 158,
      "outputs": [
        {
          "output_type": "execute_result",
          "data": {
            "text/plain": [
              "array([8, 2, 4, ..., 5, 4, 1])"
            ]
          },
          "metadata": {
            "tags": []
          },
          "execution_count": 158
        }
      ]
    },
    {
      "cell_type": "code",
      "metadata": {
        "colab": {
          "base_uri": "https://localhost:8080/",
          "height": 419
        },
        "id": "5rRHACVbIvzw",
        "outputId": "36d8d547-b5b2-40f6-cc92-c752c88b97cf"
      },
      "source": [
        "submit['label']=y_pred1\n",
        "submit"
      ],
      "execution_count": 159,
      "outputs": [
        {
          "output_type": "execute_result",
          "data": {
            "text/html": [
              "<div>\n",
              "<style scoped>\n",
              "    .dataframe tbody tr th:only-of-type {\n",
              "        vertical-align: middle;\n",
              "    }\n",
              "\n",
              "    .dataframe tbody tr th {\n",
              "        vertical-align: top;\n",
              "    }\n",
              "\n",
              "    .dataframe thead th {\n",
              "        text-align: right;\n",
              "    }\n",
              "</style>\n",
              "<table border=\"1\" class=\"dataframe\">\n",
              "  <thead>\n",
              "    <tr style=\"text-align: right;\">\n",
              "      <th></th>\n",
              "      <th>id</th>\n",
              "      <th>label</th>\n",
              "    </tr>\n",
              "  </thead>\n",
              "  <tbody>\n",
              "    <tr>\n",
              "      <th>0</th>\n",
              "      <td>11</td>\n",
              "      <td>8</td>\n",
              "    </tr>\n",
              "    <tr>\n",
              "      <th>1</th>\n",
              "      <td>15</td>\n",
              "      <td>2</td>\n",
              "    </tr>\n",
              "    <tr>\n",
              "      <th>2</th>\n",
              "      <td>17</td>\n",
              "      <td>4</td>\n",
              "    </tr>\n",
              "    <tr>\n",
              "      <th>3</th>\n",
              "      <td>21</td>\n",
              "      <td>7</td>\n",
              "    </tr>\n",
              "    <tr>\n",
              "      <th>4</th>\n",
              "      <td>22</td>\n",
              "      <td>4</td>\n",
              "    </tr>\n",
              "    <tr>\n",
              "      <th>...</th>\n",
              "      <td>...</td>\n",
              "      <td>...</td>\n",
              "    </tr>\n",
              "    <tr>\n",
              "      <th>8455</th>\n",
              "      <td>59970</td>\n",
              "      <td>7</td>\n",
              "    </tr>\n",
              "    <tr>\n",
              "      <th>8456</th>\n",
              "      <td>59971</td>\n",
              "      <td>5</td>\n",
              "    </tr>\n",
              "    <tr>\n",
              "      <th>8457</th>\n",
              "      <td>59982</td>\n",
              "      <td>5</td>\n",
              "    </tr>\n",
              "    <tr>\n",
              "      <th>8458</th>\n",
              "      <td>59986</td>\n",
              "      <td>4</td>\n",
              "    </tr>\n",
              "    <tr>\n",
              "      <th>8459</th>\n",
              "      <td>59996</td>\n",
              "      <td>1</td>\n",
              "    </tr>\n",
              "  </tbody>\n",
              "</table>\n",
              "<p>8460 rows × 2 columns</p>\n",
              "</div>"
            ],
            "text/plain": [
              "         id  label\n",
              "0        11      8\n",
              "1        15      2\n",
              "2        17      4\n",
              "3        21      7\n",
              "4        22      4\n",
              "...     ...    ...\n",
              "8455  59970      7\n",
              "8456  59971      5\n",
              "8457  59982      5\n",
              "8458  59986      4\n",
              "8459  59996      1\n",
              "\n",
              "[8460 rows x 2 columns]"
            ]
          },
          "metadata": {
            "tags": []
          },
          "execution_count": 159
        }
      ]
    },
    {
      "cell_type": "code",
      "metadata": {
        "id": "NhRHiWFvKTz2"
      },
      "source": [
        "submit['label']=submit['label'].apply(lambda x:'missing' if x=='2' else x)\n",
        "submit['label']=submit['label'].apply(lambda x:'NAN' if x=='10' else x)"
      ],
      "execution_count": 160,
      "outputs": []
    },
    {
      "cell_type": "code",
      "metadata": {
        "colab": {
          "base_uri": "https://localhost:8080/",
          "height": 419
        },
        "id": "UxG_Niw0LK7Y",
        "outputId": "5ab22f45-a372-40b9-d51c-a5e60f195e05"
      },
      "source": [
        "submit.head(100)"
      ],
      "execution_count": 163,
      "outputs": [
        {
          "output_type": "execute_result",
          "data": {
            "text/html": [
              "<div>\n",
              "<style scoped>\n",
              "    .dataframe tbody tr th:only-of-type {\n",
              "        vertical-align: middle;\n",
              "    }\n",
              "\n",
              "    .dataframe tbody tr th {\n",
              "        vertical-align: top;\n",
              "    }\n",
              "\n",
              "    .dataframe thead th {\n",
              "        text-align: right;\n",
              "    }\n",
              "</style>\n",
              "<table border=\"1\" class=\"dataframe\">\n",
              "  <thead>\n",
              "    <tr style=\"text-align: right;\">\n",
              "      <th></th>\n",
              "      <th>id</th>\n",
              "      <th>label</th>\n",
              "    </tr>\n",
              "  </thead>\n",
              "  <tbody>\n",
              "    <tr>\n",
              "      <th>0</th>\n",
              "      <td>11</td>\n",
              "      <td>8</td>\n",
              "    </tr>\n",
              "    <tr>\n",
              "      <th>1</th>\n",
              "      <td>15</td>\n",
              "      <td>2</td>\n",
              "    </tr>\n",
              "    <tr>\n",
              "      <th>2</th>\n",
              "      <td>17</td>\n",
              "      <td>4</td>\n",
              "    </tr>\n",
              "    <tr>\n",
              "      <th>3</th>\n",
              "      <td>21</td>\n",
              "      <td>7</td>\n",
              "    </tr>\n",
              "    <tr>\n",
              "      <th>4</th>\n",
              "      <td>22</td>\n",
              "      <td>4</td>\n",
              "    </tr>\n",
              "    <tr>\n",
              "      <th>...</th>\n",
              "      <td>...</td>\n",
              "      <td>...</td>\n",
              "    </tr>\n",
              "    <tr>\n",
              "      <th>95</th>\n",
              "      <td>599</td>\n",
              "      <td>6</td>\n",
              "    </tr>\n",
              "    <tr>\n",
              "      <th>96</th>\n",
              "      <td>602</td>\n",
              "      <td>0</td>\n",
              "    </tr>\n",
              "    <tr>\n",
              "      <th>97</th>\n",
              "      <td>606</td>\n",
              "      <td>4</td>\n",
              "    </tr>\n",
              "    <tr>\n",
              "      <th>98</th>\n",
              "      <td>608</td>\n",
              "      <td>4</td>\n",
              "    </tr>\n",
              "    <tr>\n",
              "      <th>99</th>\n",
              "      <td>609</td>\n",
              "      <td>4</td>\n",
              "    </tr>\n",
              "  </tbody>\n",
              "</table>\n",
              "<p>100 rows × 2 columns</p>\n",
              "</div>"
            ],
            "text/plain": [
              "     id  label\n",
              "0    11      8\n",
              "1    15      2\n",
              "2    17      4\n",
              "3    21      7\n",
              "4    22      4\n",
              "..  ...    ...\n",
              "95  599      6\n",
              "96  602      0\n",
              "97  606      4\n",
              "98  608      4\n",
              "99  609      4\n",
              "\n",
              "[100 rows x 2 columns]"
            ]
          },
          "metadata": {
            "tags": []
          },
          "execution_count": 163
        }
      ]
    },
    {
      "cell_type": "code",
      "metadata": {
        "id": "F0iJ7q8XI7r_"
      },
      "source": [
        "CNN_submit =submit.to_csv('/content/drive/MyDrive/캐글스터디/SJU_Challange_MNIST/CNN1.csv',index=False)"
      ],
      "execution_count": 162,
      "outputs": []
    },
    {
      "cell_type": "code",
      "metadata": {
        "id": "GWa-xegiKj3H"
      },
      "source": [
        ""
      ],
      "execution_count": null,
      "outputs": []
    }
  ]
}
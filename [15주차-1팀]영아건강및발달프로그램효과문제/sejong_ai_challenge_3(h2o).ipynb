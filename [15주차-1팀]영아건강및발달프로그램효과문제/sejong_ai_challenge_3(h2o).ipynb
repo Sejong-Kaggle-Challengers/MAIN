{
  "nbformat": 4,
  "nbformat_minor": 0,
  "metadata": {
    "colab": {
      "name": "sejong ai challenge_3(h2o).ipynb",
      "provenance": []
    },
    "kernelspec": {
      "name": "python3",
      "display_name": "Python 3"
    },
    "language_info": {
      "name": "python"
    }
  },
  "cells": [
    {
      "cell_type": "code",
      "metadata": {
        "colab": {
          "base_uri": "https://localhost:8080/"
        },
        "id": "GwPTVuhQ0hOV",
        "outputId": "adcfced3-7131-4cf1-df53-381ab8b7a370"
      },
      "source": [
        "!pip install kaggle\n",
        "!pip install --upgrade pip\n",
        "!pip install kaggle==1.5.6\n",
        "!mkdir -p ~/.kaggle\n",
        "!cp kaggle.json ~/.kaggle\n",
        "!chmod 600 ~/.kaggle/kaggle.json"
      ],
      "execution_count": 1,
      "outputs": [
        {
          "output_type": "stream",
          "text": [
            "Requirement already satisfied: kaggle in /usr/local/lib/python3.7/dist-packages (1.5.12)\n",
            "Requirement already satisfied: certifi in /usr/local/lib/python3.7/dist-packages (from kaggle) (2020.12.5)\n",
            "Requirement already satisfied: urllib3 in /usr/local/lib/python3.7/dist-packages (from kaggle) (1.24.3)\n",
            "Requirement already satisfied: tqdm in /usr/local/lib/python3.7/dist-packages (from kaggle) (4.41.1)\n",
            "Requirement already satisfied: python-dateutil in /usr/local/lib/python3.7/dist-packages (from kaggle) (2.8.1)\n",
            "Requirement already satisfied: python-slugify in /usr/local/lib/python3.7/dist-packages (from kaggle) (4.0.1)\n",
            "Requirement already satisfied: six>=1.10 in /usr/local/lib/python3.7/dist-packages (from kaggle) (1.15.0)\n",
            "Requirement already satisfied: requests in /usr/local/lib/python3.7/dist-packages (from kaggle) (2.23.0)\n",
            "Requirement already satisfied: text-unidecode>=1.3 in /usr/local/lib/python3.7/dist-packages (from python-slugify->kaggle) (1.3)\n",
            "Requirement already satisfied: idna<3,>=2.5 in /usr/local/lib/python3.7/dist-packages (from requests->kaggle) (2.10)\n",
            "Requirement already satisfied: chardet<4,>=3.0.2 in /usr/local/lib/python3.7/dist-packages (from requests->kaggle) (3.0.4)\n",
            "Collecting pip\n",
            "\u001b[?25l  Downloading https://files.pythonhosted.org/packages/fe/ef/60d7ba03b5c442309ef42e7d69959f73aacccd0d86008362a681c4698e83/pip-21.0.1-py3-none-any.whl (1.5MB)\n",
            "\u001b[K     |████████████████████████████████| 1.5MB 19.9MB/s \n",
            "\u001b[?25hInstalling collected packages: pip\n",
            "  Found existing installation: pip 19.3.1\n",
            "    Uninstalling pip-19.3.1:\n",
            "      Successfully uninstalled pip-19.3.1\n",
            "Successfully installed pip-21.0.1\n",
            "Collecting kaggle==1.5.6\n",
            "  Downloading kaggle-1.5.6.tar.gz (58 kB)\n",
            "\u001b[K     |████████████████████████████████| 58 kB 4.6 MB/s \n",
            "\u001b[?25hRequirement already satisfied: urllib3<1.25,>=1.21.1 in /usr/local/lib/python3.7/dist-packages (from kaggle==1.5.6) (1.24.3)\n",
            "Requirement already satisfied: six>=1.10 in /usr/local/lib/python3.7/dist-packages (from kaggle==1.5.6) (1.15.0)\n",
            "Requirement already satisfied: certifi in /usr/local/lib/python3.7/dist-packages (from kaggle==1.5.6) (2020.12.5)\n",
            "Requirement already satisfied: python-dateutil in /usr/local/lib/python3.7/dist-packages (from kaggle==1.5.6) (2.8.1)\n",
            "Requirement already satisfied: requests in /usr/local/lib/python3.7/dist-packages (from kaggle==1.5.6) (2.23.0)\n",
            "Requirement already satisfied: tqdm in /usr/local/lib/python3.7/dist-packages (from kaggle==1.5.6) (4.41.1)\n",
            "Requirement already satisfied: python-slugify in /usr/local/lib/python3.7/dist-packages (from kaggle==1.5.6) (4.0.1)\n",
            "Requirement already satisfied: text-unidecode>=1.3 in /usr/local/lib/python3.7/dist-packages (from python-slugify->kaggle==1.5.6) (1.3)\n",
            "Requirement already satisfied: chardet<4,>=3.0.2 in /usr/local/lib/python3.7/dist-packages (from requests->kaggle==1.5.6) (3.0.4)\n",
            "Requirement already satisfied: idna<3,>=2.5 in /usr/local/lib/python3.7/dist-packages (from requests->kaggle==1.5.6) (2.10)\n",
            "Building wheels for collected packages: kaggle\n",
            "  Building wheel for kaggle (setup.py) ... \u001b[?25l\u001b[?25hdone\n",
            "  Created wheel for kaggle: filename=kaggle-1.5.6-py3-none-any.whl size=72859 sha256=d6aba9c5e913d4575d65c66ba3ec6d3360e47757f6e232cc1d73a396c0355f79\n",
            "  Stored in directory: /root/.cache/pip/wheels/aa/e7/e7/eb3c3d514c33294d77ddd5a856bdd58dc9c1fabbed59a02a2b\n",
            "Successfully built kaggle\n",
            "Installing collected packages: kaggle\n",
            "  Attempting uninstall: kaggle\n",
            "    Found existing installation: kaggle 1.5.12\n",
            "    Uninstalling kaggle-1.5.12:\n",
            "      Successfully uninstalled kaggle-1.5.12\n",
            "Successfully installed kaggle-1.5.6\n"
          ],
          "name": "stdout"
        }
      ]
    },
    {
      "cell_type": "code",
      "metadata": {
        "colab": {
          "base_uri": "https://localhost:8080/"
        },
        "id": "jwDOobiH21d_",
        "outputId": "48e89a29-362a-460b-fdf3-e7805fb1798c"
      },
      "source": [
        "!kaggle competitions download -c sejong-ai-challenge-p3"
      ],
      "execution_count": 2,
      "outputs": [
        {
          "output_type": "stream",
          "text": [
            "Downloading sejong-ai-challenge-p3.zip to /content\n",
            "\r  0% 0.00/14.9k [00:00<?, ?B/s]\n",
            "\r100% 14.9k/14.9k [00:00<00:00, 11.8MB/s]\n"
          ],
          "name": "stdout"
        }
      ]
    },
    {
      "cell_type": "code",
      "metadata": {
        "colab": {
          "base_uri": "https://localhost:8080/"
        },
        "id": "HK8PY7L524js",
        "outputId": "c1743fa1-7f5f-4898-bad6-186ebce5beaa"
      },
      "source": [
        "!unzip sejong-ai-challenge-p3.zip"
      ],
      "execution_count": 3,
      "outputs": [
        {
          "output_type": "stream",
          "text": [
            "Archive:  sejong-ai-challenge-p3.zip\n",
            "  inflating: sample_submission.csv   \n",
            "  inflating: test.csv                \n",
            "  inflating: train.csv               \n"
          ],
          "name": "stdout"
        }
      ]
    },
    {
      "cell_type": "code",
      "metadata": {
        "colab": {
          "base_uri": "https://localhost:8080/"
        },
        "id": "ZeAgpLmrUcpv",
        "outputId": "947eaa01-743c-438d-afd9-be1647363b8c"
      },
      "source": [
        "pip install h2o"
      ],
      "execution_count": 6,
      "outputs": [
        {
          "output_type": "stream",
          "text": [
            "Collecting h2o\n",
            "  Downloading h2o-3.32.1.1.tar.gz (164.8 MB)\n",
            "\u001b[K     |████████████████████████████████| 164.8 MB 51 kB/s \n",
            "\u001b[?25hRequirement already satisfied: requests in /usr/local/lib/python3.7/dist-packages (from h2o) (2.23.0)\n",
            "Requirement already satisfied: tabulate in /usr/local/lib/python3.7/dist-packages (from h2o) (0.8.9)\n",
            "Requirement already satisfied: future in /usr/local/lib/python3.7/dist-packages (from h2o) (0.16.0)\n",
            "Collecting colorama>=0.3.8\n",
            "  Downloading colorama-0.4.4-py2.py3-none-any.whl (16 kB)\n",
            "Requirement already satisfied: idna<3,>=2.5 in /usr/local/lib/python3.7/dist-packages (from requests->h2o) (2.10)\n",
            "Requirement already satisfied: urllib3!=1.25.0,!=1.25.1,<1.26,>=1.21.1 in /usr/local/lib/python3.7/dist-packages (from requests->h2o) (1.24.3)\n",
            "Requirement already satisfied: certifi>=2017.4.17 in /usr/local/lib/python3.7/dist-packages (from requests->h2o) (2020.12.5)\n",
            "Requirement already satisfied: chardet<4,>=3.0.2 in /usr/local/lib/python3.7/dist-packages (from requests->h2o) (3.0.4)\n",
            "Building wheels for collected packages: h2o\n",
            "  Building wheel for h2o (setup.py) ... \u001b[?25l\u001b[?25hdone\n",
            "  Created wheel for h2o: filename=h2o-3.32.1.1-py2.py3-none-any.whl size=164840229 sha256=b28a76160b2ac822a89f27346ff3efd5120e48be278cd50d6a59205c587a3bfc\n",
            "  Stored in directory: /root/.cache/pip/wheels/85/cb/f5/a72d41b4676331c29bbc5bb881bc2ac2fea8a10a4960f3488d\n",
            "Successfully built h2o\n",
            "Installing collected packages: colorama, h2o\n",
            "Successfully installed colorama-0.4.4 h2o-3.32.1.1\n"
          ],
          "name": "stdout"
        }
      ]
    },
    {
      "cell_type": "code",
      "metadata": {
        "id": "MgRtpFLH1pYc"
      },
      "source": [
        "import pandas as pd\n",
        "import numpy as np\n",
        "\n",
        "train = pd.read_csv('train.csv')\n",
        "test = pd.read_csv('test.csv')\n",
        "submit = pd.read_csv('sample_submission.csv')"
      ],
      "execution_count": 66,
      "outputs": []
    },
    {
      "cell_type": "code",
      "metadata": {
        "colab": {
          "base_uri": "https://localhost:8080/",
          "height": 430
        },
        "id": "0v8wyWnF3Bv7",
        "outputId": "b99f9e7a-259e-472c-a992-3d6ae9ab0f83"
      },
      "source": [
        "print(train.shape)\n",
        "print(test.shape)\n",
        "print(submit.shape)\n",
        "train.head(10)"
      ],
      "execution_count": 67,
      "outputs": [
        {
          "output_type": "stream",
          "text": [
            "(647, 20)\n",
            "(100, 19)\n",
            "(100, 2)\n"
          ],
          "name": "stdout"
        },
        {
          "output_type": "execute_result",
          "data": {
            "text/html": [
              "<div>\n",
              "<style scoped>\n",
              "    .dataframe tbody tr th:only-of-type {\n",
              "        vertical-align: middle;\n",
              "    }\n",
              "\n",
              "    .dataframe tbody tr th {\n",
              "        vertical-align: top;\n",
              "    }\n",
              "\n",
              "    .dataframe thead th {\n",
              "        text-align: right;\n",
              "    }\n",
              "</style>\n",
              "<table border=\"1\" class=\"dataframe\">\n",
              "  <thead>\n",
              "    <tr style=\"text-align: right;\">\n",
              "      <th></th>\n",
              "      <th>id</th>\n",
              "      <th>y</th>\n",
              "      <th>bw</th>\n",
              "      <th>b.head</th>\n",
              "      <th>preterm</th>\n",
              "      <th>birth.o</th>\n",
              "      <th>nnhealth</th>\n",
              "      <th>momage</th>\n",
              "      <th>dadage</th>\n",
              "      <th>sex</th>\n",
              "      <th>twin</th>\n",
              "      <th>b.marr</th>\n",
              "      <th>mom.edu</th>\n",
              "      <th>cig</th>\n",
              "      <th>first</th>\n",
              "      <th>booze</th>\n",
              "      <th>drugs</th>\n",
              "      <th>work.dur</th>\n",
              "      <th>site</th>\n",
              "      <th>prenatal</th>\n",
              "    </tr>\n",
              "  </thead>\n",
              "  <tbody>\n",
              "    <tr>\n",
              "      <th>0</th>\n",
              "      <td>1</td>\n",
              "      <td>5.778438</td>\n",
              "      <td>1559</td>\n",
              "      <td>28.648521</td>\n",
              "      <td>10</td>\n",
              "      <td>2</td>\n",
              "      <td>94</td>\n",
              "      <td>33</td>\n",
              "      <td>NaN</td>\n",
              "      <td>1</td>\n",
              "      <td>0</td>\n",
              "      <td>1</td>\n",
              "      <td>NaN</td>\n",
              "      <td>0</td>\n",
              "      <td>1</td>\n",
              "      <td>0</td>\n",
              "      <td>1</td>\n",
              "      <td>1</td>\n",
              "      <td>0.0</td>\n",
              "      <td>1</td>\n",
              "    </tr>\n",
              "    <tr>\n",
              "      <th>1</th>\n",
              "      <td>3</td>\n",
              "      <td>4.085857</td>\n",
              "      <td>1000</td>\n",
              "      <td>25.000000</td>\n",
              "      <td>8</td>\n",
              "      <td>4</td>\n",
              "      <td>89</td>\n",
              "      <td>33</td>\n",
              "      <td>NaN</td>\n",
              "      <td>0</td>\n",
              "      <td>0</td>\n",
              "      <td>0</td>\n",
              "      <td>0.0</td>\n",
              "      <td>1</td>\n",
              "      <td>1</td>\n",
              "      <td>1</td>\n",
              "      <td>1</td>\n",
              "      <td>1</td>\n",
              "      <td>0.0</td>\n",
              "      <td>1</td>\n",
              "    </tr>\n",
              "    <tr>\n",
              "      <th>2</th>\n",
              "      <td>4</td>\n",
              "      <td>5.615404</td>\n",
              "      <td>1430</td>\n",
              "      <td>29.000000</td>\n",
              "      <td>6</td>\n",
              "      <td>1</td>\n",
              "      <td>112</td>\n",
              "      <td>22</td>\n",
              "      <td>31.0</td>\n",
              "      <td>0</td>\n",
              "      <td>0</td>\n",
              "      <td>0</td>\n",
              "      <td>0.0</td>\n",
              "      <td>0</td>\n",
              "      <td>2</td>\n",
              "      <td>0</td>\n",
              "      <td>1</td>\n",
              "      <td>0</td>\n",
              "      <td>0.0</td>\n",
              "      <td>1</td>\n",
              "    </tr>\n",
              "    <tr>\n",
              "      <th>3</th>\n",
              "      <td>5</td>\n",
              "      <td>2.116421</td>\n",
              "      <td>1984</td>\n",
              "      <td>31.000000</td>\n",
              "      <td>2</td>\n",
              "      <td>1</td>\n",
              "      <td>99</td>\n",
              "      <td>20</td>\n",
              "      <td>NaN</td>\n",
              "      <td>0</td>\n",
              "      <td>0</td>\n",
              "      <td>0</td>\n",
              "      <td>2.0</td>\n",
              "      <td>1</td>\n",
              "      <td>2</td>\n",
              "      <td>0</td>\n",
              "      <td>1</td>\n",
              "      <td>0</td>\n",
              "      <td>0.0</td>\n",
              "      <td>1</td>\n",
              "    </tr>\n",
              "    <tr>\n",
              "      <th>4</th>\n",
              "      <td>6</td>\n",
              "      <td>5.464959</td>\n",
              "      <td>1320</td>\n",
              "      <td>28.000000</td>\n",
              "      <td>7</td>\n",
              "      <td>2</td>\n",
              "      <td>110</td>\n",
              "      <td>23</td>\n",
              "      <td>NaN</td>\n",
              "      <td>1</td>\n",
              "      <td>0</td>\n",
              "      <td>0</td>\n",
              "      <td>2.0</td>\n",
              "      <td>1</td>\n",
              "      <td>1</td>\n",
              "      <td>0</td>\n",
              "      <td>1</td>\n",
              "      <td>1</td>\n",
              "      <td>0.0</td>\n",
              "      <td>1</td>\n",
              "    </tr>\n",
              "    <tr>\n",
              "      <th>5</th>\n",
              "      <td>8</td>\n",
              "      <td>3.486334</td>\n",
              "      <td>2020</td>\n",
              "      <td>29.000000</td>\n",
              "      <td>5</td>\n",
              "      <td>2</td>\n",
              "      <td>100</td>\n",
              "      <td>37</td>\n",
              "      <td>NaN</td>\n",
              "      <td>1</td>\n",
              "      <td>0</td>\n",
              "      <td>0</td>\n",
              "      <td>0.0</td>\n",
              "      <td>1</td>\n",
              "      <td>1</td>\n",
              "      <td>0</td>\n",
              "      <td>1</td>\n",
              "      <td>1</td>\n",
              "      <td>0.0</td>\n",
              "      <td>1</td>\n",
              "    </tr>\n",
              "    <tr>\n",
              "      <th>6</th>\n",
              "      <td>10</td>\n",
              "      <td>2.890401</td>\n",
              "      <td>2041</td>\n",
              "      <td>31.000000</td>\n",
              "      <td>9</td>\n",
              "      <td>3</td>\n",
              "      <td>98</td>\n",
              "      <td>41</td>\n",
              "      <td>NaN</td>\n",
              "      <td>1</td>\n",
              "      <td>0</td>\n",
              "      <td>1</td>\n",
              "      <td>0.0</td>\n",
              "      <td>0</td>\n",
              "      <td>1</td>\n",
              "      <td>0</td>\n",
              "      <td>1</td>\n",
              "      <td>1</td>\n",
              "      <td>0.0</td>\n",
              "      <td>1</td>\n",
              "    </tr>\n",
              "    <tr>\n",
              "      <th>7</th>\n",
              "      <td>11</td>\n",
              "      <td>5.922454</td>\n",
              "      <td>1320</td>\n",
              "      <td>26.162501</td>\n",
              "      <td>10</td>\n",
              "      <td>1</td>\n",
              "      <td>110</td>\n",
              "      <td>27</td>\n",
              "      <td>NaN</td>\n",
              "      <td>1</td>\n",
              "      <td>0</td>\n",
              "      <td>1</td>\n",
              "      <td>NaN</td>\n",
              "      <td>0</td>\n",
              "      <td>2</td>\n",
              "      <td>0</td>\n",
              "      <td>1</td>\n",
              "      <td>1</td>\n",
              "      <td>0.0</td>\n",
              "      <td>1</td>\n",
              "    </tr>\n",
              "    <tr>\n",
              "      <th>8</th>\n",
              "      <td>12</td>\n",
              "      <td>4.163037</td>\n",
              "      <td>2150</td>\n",
              "      <td>32.000000</td>\n",
              "      <td>7</td>\n",
              "      <td>3</td>\n",
              "      <td>87</td>\n",
              "      <td>30</td>\n",
              "      <td>NaN</td>\n",
              "      <td>1</td>\n",
              "      <td>0</td>\n",
              "      <td>1</td>\n",
              "      <td>0.0</td>\n",
              "      <td>0</td>\n",
              "      <td>1</td>\n",
              "      <td>0</td>\n",
              "      <td>1</td>\n",
              "      <td>1</td>\n",
              "      <td>0.0</td>\n",
              "      <td>1</td>\n",
              "    </tr>\n",
              "    <tr>\n",
              "      <th>9</th>\n",
              "      <td>13</td>\n",
              "      <td>6.000017</td>\n",
              "      <td>1620</td>\n",
              "      <td>28.000000</td>\n",
              "      <td>8</td>\n",
              "      <td>2</td>\n",
              "      <td>109</td>\n",
              "      <td>22</td>\n",
              "      <td>NaN</td>\n",
              "      <td>0</td>\n",
              "      <td>0</td>\n",
              "      <td>0</td>\n",
              "      <td>0.0</td>\n",
              "      <td>0</td>\n",
              "      <td>1</td>\n",
              "      <td>0</td>\n",
              "      <td>1</td>\n",
              "      <td>1</td>\n",
              "      <td>0.0</td>\n",
              "      <td>1</td>\n",
              "    </tr>\n",
              "  </tbody>\n",
              "</table>\n",
              "</div>"
            ],
            "text/plain": [
              "   id         y    bw     b.head  ...  drugs  work.dur  site  prenatal\n",
              "0   1  5.778438  1559  28.648521  ...      1         1   0.0         1\n",
              "1   3  4.085857  1000  25.000000  ...      1         1   0.0         1\n",
              "2   4  5.615404  1430  29.000000  ...      1         0   0.0         1\n",
              "3   5  2.116421  1984  31.000000  ...      1         0   0.0         1\n",
              "4   6  5.464959  1320  28.000000  ...      1         1   0.0         1\n",
              "5   8  3.486334  2020  29.000000  ...      1         1   0.0         1\n",
              "6  10  2.890401  2041  31.000000  ...      1         1   0.0         1\n",
              "7  11  5.922454  1320  26.162501  ...      1         1   0.0         1\n",
              "8  12  4.163037  2150  32.000000  ...      1         1   0.0         1\n",
              "9  13  6.000017  1620  28.000000  ...      1         1   0.0         1\n",
              "\n",
              "[10 rows x 20 columns]"
            ]
          },
          "metadata": {
            "tags": []
          },
          "execution_count": 67
        }
      ]
    },
    {
      "cell_type": "code",
      "metadata": {
        "colab": {
          "base_uri": "https://localhost:8080/",
          "height": 323
        },
        "id": "yE8Gt7ZH3Do5",
        "outputId": "ef1b8d9c-0317-421b-da2b-17e2d6b3dbd5"
      },
      "source": [
        "import matplotlib.pyplot as plt\n",
        "import seaborn as sns\n",
        "%matplotlib inline\n",
        "\n",
        "#sns.heatmap(train.isnull(), cbar=False)\n",
        "sns.heatmap(test.isnull(), cbar=False)"
      ],
      "execution_count": 68,
      "outputs": [
        {
          "output_type": "execute_result",
          "data": {
            "text/plain": [
              "<matplotlib.axes._subplots.AxesSubplot at 0x7ff82ea0a810>"
            ]
          },
          "metadata": {
            "tags": []
          },
          "execution_count": 68
        },
        {
          "output_type": "display_data",
          "data": {
            "image/png": "[encoded data removed]",
            "text/plain": [
              "<Figure size 432x288 with 1 Axes>"
            ]
          },
          "metadata": {
            "tags": [],
            "needs_background": "light"
          }
        }
      ]
    },
    {
      "cell_type": "code",
      "metadata": {
        "id": "K7OOoScO44K5"
      },
      "source": [
        "train = train.drop(['dadage'], 1)\n",
        "test = test.drop(['dadage'], 1)"
      ],
      "execution_count": 69,
      "outputs": []
    },
    {
      "cell_type": "code",
      "metadata": {
        "id": "ayxRrubV9oq6"
      },
      "source": [
        "train = train.fillna(train.mean())\n",
        "test = test.fillna(test.mean())"
      ],
      "execution_count": 70,
      "outputs": []
    },
    {
      "cell_type": "code",
      "metadata": {
        "colab": {
          "base_uri": "https://localhost:8080/",
          "height": 379
        },
        "id": "DmrVfj2XEl-r",
        "outputId": "3e195185-8fb5-4e3a-86bf-49f4c2067628"
      },
      "source": [
        "train.head(10)"
      ],
      "execution_count": 71,
      "outputs": [
        {
          "output_type": "execute_result",
          "data": {
            "text/html": [
              "<div>\n",
              "<style scoped>\n",
              "    .dataframe tbody tr th:only-of-type {\n",
              "        vertical-align: middle;\n",
              "    }\n",
              "\n",
              "    .dataframe tbody tr th {\n",
              "        vertical-align: top;\n",
              "    }\n",
              "\n",
              "    .dataframe thead th {\n",
              "        text-align: right;\n",
              "    }\n",
              "</style>\n",
              "<table border=\"1\" class=\"dataframe\">\n",
              "  <thead>\n",
              "    <tr style=\"text-align: right;\">\n",
              "      <th></th>\n",
              "      <th>id</th>\n",
              "      <th>y</th>\n",
              "      <th>bw</th>\n",
              "      <th>b.head</th>\n",
              "      <th>preterm</th>\n",
              "      <th>birth.o</th>\n",
              "      <th>nnhealth</th>\n",
              "      <th>momage</th>\n",
              "      <th>sex</th>\n",
              "      <th>twin</th>\n",
              "      <th>b.marr</th>\n",
              "      <th>mom.edu</th>\n",
              "      <th>cig</th>\n",
              "      <th>first</th>\n",
              "      <th>booze</th>\n",
              "      <th>drugs</th>\n",
              "      <th>work.dur</th>\n",
              "      <th>site</th>\n",
              "      <th>prenatal</th>\n",
              "    </tr>\n",
              "  </thead>\n",
              "  <tbody>\n",
              "    <tr>\n",
              "      <th>0</th>\n",
              "      <td>1</td>\n",
              "      <td>5.778438</td>\n",
              "      <td>1559</td>\n",
              "      <td>28.648521</td>\n",
              "      <td>10</td>\n",
              "      <td>2</td>\n",
              "      <td>94</td>\n",
              "      <td>33</td>\n",
              "      <td>1</td>\n",
              "      <td>0</td>\n",
              "      <td>1</td>\n",
              "      <td>0.832727</td>\n",
              "      <td>0</td>\n",
              "      <td>1</td>\n",
              "      <td>0</td>\n",
              "      <td>1</td>\n",
              "      <td>1</td>\n",
              "      <td>0.0</td>\n",
              "      <td>1</td>\n",
              "    </tr>\n",
              "    <tr>\n",
              "      <th>1</th>\n",
              "      <td>3</td>\n",
              "      <td>4.085857</td>\n",
              "      <td>1000</td>\n",
              "      <td>25.000000</td>\n",
              "      <td>8</td>\n",
              "      <td>4</td>\n",
              "      <td>89</td>\n",
              "      <td>33</td>\n",
              "      <td>0</td>\n",
              "      <td>0</td>\n",
              "      <td>0</td>\n",
              "      <td>0.000000</td>\n",
              "      <td>1</td>\n",
              "      <td>1</td>\n",
              "      <td>1</td>\n",
              "      <td>1</td>\n",
              "      <td>1</td>\n",
              "      <td>0.0</td>\n",
              "      <td>1</td>\n",
              "    </tr>\n",
              "    <tr>\n",
              "      <th>2</th>\n",
              "      <td>4</td>\n",
              "      <td>5.615404</td>\n",
              "      <td>1430</td>\n",
              "      <td>29.000000</td>\n",
              "      <td>6</td>\n",
              "      <td>1</td>\n",
              "      <td>112</td>\n",
              "      <td>22</td>\n",
              "      <td>0</td>\n",
              "      <td>0</td>\n",
              "      <td>0</td>\n",
              "      <td>0.000000</td>\n",
              "      <td>0</td>\n",
              "      <td>2</td>\n",
              "      <td>0</td>\n",
              "      <td>1</td>\n",
              "      <td>0</td>\n",
              "      <td>0.0</td>\n",
              "      <td>1</td>\n",
              "    </tr>\n",
              "    <tr>\n",
              "      <th>3</th>\n",
              "      <td>5</td>\n",
              "      <td>2.116421</td>\n",
              "      <td>1984</td>\n",
              "      <td>31.000000</td>\n",
              "      <td>2</td>\n",
              "      <td>1</td>\n",
              "      <td>99</td>\n",
              "      <td>20</td>\n",
              "      <td>0</td>\n",
              "      <td>0</td>\n",
              "      <td>0</td>\n",
              "      <td>2.000000</td>\n",
              "      <td>1</td>\n",
              "      <td>2</td>\n",
              "      <td>0</td>\n",
              "      <td>1</td>\n",
              "      <td>0</td>\n",
              "      <td>0.0</td>\n",
              "      <td>1</td>\n",
              "    </tr>\n",
              "    <tr>\n",
              "      <th>4</th>\n",
              "      <td>6</td>\n",
              "      <td>5.464959</td>\n",
              "      <td>1320</td>\n",
              "      <td>28.000000</td>\n",
              "      <td>7</td>\n",
              "      <td>2</td>\n",
              "      <td>110</td>\n",
              "      <td>23</td>\n",
              "      <td>1</td>\n",
              "      <td>0</td>\n",
              "      <td>0</td>\n",
              "      <td>2.000000</td>\n",
              "      <td>1</td>\n",
              "      <td>1</td>\n",
              "      <td>0</td>\n",
              "      <td>1</td>\n",
              "      <td>1</td>\n",
              "      <td>0.0</td>\n",
              "      <td>1</td>\n",
              "    </tr>\n",
              "    <tr>\n",
              "      <th>5</th>\n",
              "      <td>8</td>\n",
              "      <td>3.486334</td>\n",
              "      <td>2020</td>\n",
              "      <td>29.000000</td>\n",
              "      <td>5</td>\n",
              "      <td>2</td>\n",
              "      <td>100</td>\n",
              "      <td>37</td>\n",
              "      <td>1</td>\n",
              "      <td>0</td>\n",
              "      <td>0</td>\n",
              "      <td>0.000000</td>\n",
              "      <td>1</td>\n",
              "      <td>1</td>\n",
              "      <td>0</td>\n",
              "      <td>1</td>\n",
              "      <td>1</td>\n",
              "      <td>0.0</td>\n",
              "      <td>1</td>\n",
              "    </tr>\n",
              "    <tr>\n",
              "      <th>6</th>\n",
              "      <td>10</td>\n",
              "      <td>2.890401</td>\n",
              "      <td>2041</td>\n",
              "      <td>31.000000</td>\n",
              "      <td>9</td>\n",
              "      <td>3</td>\n",
              "      <td>98</td>\n",
              "      <td>41</td>\n",
              "      <td>1</td>\n",
              "      <td>0</td>\n",
              "      <td>1</td>\n",
              "      <td>0.000000</td>\n",
              "      <td>0</td>\n",
              "      <td>1</td>\n",
              "      <td>0</td>\n",
              "      <td>1</td>\n",
              "      <td>1</td>\n",
              "      <td>0.0</td>\n",
              "      <td>1</td>\n",
              "    </tr>\n",
              "    <tr>\n",
              "      <th>7</th>\n",
              "      <td>11</td>\n",
              "      <td>5.922454</td>\n",
              "      <td>1320</td>\n",
              "      <td>26.162501</td>\n",
              "      <td>10</td>\n",
              "      <td>1</td>\n",
              "      <td>110</td>\n",
              "      <td>27</td>\n",
              "      <td>1</td>\n",
              "      <td>0</td>\n",
              "      <td>1</td>\n",
              "      <td>0.832727</td>\n",
              "      <td>0</td>\n",
              "      <td>2</td>\n",
              "      <td>0</td>\n",
              "      <td>1</td>\n",
              "      <td>1</td>\n",
              "      <td>0.0</td>\n",
              "      <td>1</td>\n",
              "    </tr>\n",
              "    <tr>\n",
              "      <th>8</th>\n",
              "      <td>12</td>\n",
              "      <td>4.163037</td>\n",
              "      <td>2150</td>\n",
              "      <td>32.000000</td>\n",
              "      <td>7</td>\n",
              "      <td>3</td>\n",
              "      <td>87</td>\n",
              "      <td>30</td>\n",
              "      <td>1</td>\n",
              "      <td>0</td>\n",
              "      <td>1</td>\n",
              "      <td>0.000000</td>\n",
              "      <td>0</td>\n",
              "      <td>1</td>\n",
              "      <td>0</td>\n",
              "      <td>1</td>\n",
              "      <td>1</td>\n",
              "      <td>0.0</td>\n",
              "      <td>1</td>\n",
              "    </tr>\n",
              "    <tr>\n",
              "      <th>9</th>\n",
              "      <td>13</td>\n",
              "      <td>6.000017</td>\n",
              "      <td>1620</td>\n",
              "      <td>28.000000</td>\n",
              "      <td>8</td>\n",
              "      <td>2</td>\n",
              "      <td>109</td>\n",
              "      <td>22</td>\n",
              "      <td>0</td>\n",
              "      <td>0</td>\n",
              "      <td>0</td>\n",
              "      <td>0.000000</td>\n",
              "      <td>0</td>\n",
              "      <td>1</td>\n",
              "      <td>0</td>\n",
              "      <td>1</td>\n",
              "      <td>1</td>\n",
              "      <td>0.0</td>\n",
              "      <td>1</td>\n",
              "    </tr>\n",
              "  </tbody>\n",
              "</table>\n",
              "</div>"
            ],
            "text/plain": [
              "   id         y    bw     b.head  ...  drugs  work.dur  site  prenatal\n",
              "0   1  5.778438  1559  28.648521  ...      1         1   0.0         1\n",
              "1   3  4.085857  1000  25.000000  ...      1         1   0.0         1\n",
              "2   4  5.615404  1430  29.000000  ...      1         0   0.0         1\n",
              "3   5  2.116421  1984  31.000000  ...      1         0   0.0         1\n",
              "4   6  5.464959  1320  28.000000  ...      1         1   0.0         1\n",
              "5   8  3.486334  2020  29.000000  ...      1         1   0.0         1\n",
              "6  10  2.890401  2041  31.000000  ...      1         1   0.0         1\n",
              "7  11  5.922454  1320  26.162501  ...      1         1   0.0         1\n",
              "8  12  4.163037  2150  32.000000  ...      1         1   0.0         1\n",
              "9  13  6.000017  1620  28.000000  ...      1         1   0.0         1\n",
              "\n",
              "[10 rows x 19 columns]"
            ]
          },
          "metadata": {
            "tags": []
          },
          "execution_count": 71
        }
      ]
    },
    {
      "cell_type": "code",
      "metadata": {
        "colab": {
          "base_uri": "https://localhost:8080/",
          "height": 439
        },
        "id": "QdKMtnKzEj8a",
        "outputId": "ac3c89dc-2304-4114-f1ec-921ad575e6b0"
      },
      "source": [
        "x_train = train.drop(['y'], 1)\n",
        "y_train = train['y']\n",
        "\n",
        "x_train"
      ],
      "execution_count": 72,
      "outputs": [
        {
          "output_type": "execute_result",
          "data": {
            "text/html": [
              "<div>\n",
              "<style scoped>\n",
              "    .dataframe tbody tr th:only-of-type {\n",
              "        vertical-align: middle;\n",
              "    }\n",
              "\n",
              "    .dataframe tbody tr th {\n",
              "        vertical-align: top;\n",
              "    }\n",
              "\n",
              "    .dataframe thead th {\n",
              "        text-align: right;\n",
              "    }\n",
              "</style>\n",
              "<table border=\"1\" class=\"dataframe\">\n",
              "  <thead>\n",
              "    <tr style=\"text-align: right;\">\n",
              "      <th></th>\n",
              "      <th>id</th>\n",
              "      <th>bw</th>\n",
              "      <th>b.head</th>\n",
              "      <th>preterm</th>\n",
              "      <th>birth.o</th>\n",
              "      <th>nnhealth</th>\n",
              "      <th>momage</th>\n",
              "      <th>sex</th>\n",
              "      <th>twin</th>\n",
              "      <th>b.marr</th>\n",
              "      <th>mom.edu</th>\n",
              "      <th>cig</th>\n",
              "      <th>first</th>\n",
              "      <th>booze</th>\n",
              "      <th>drugs</th>\n",
              "      <th>work.dur</th>\n",
              "      <th>site</th>\n",
              "      <th>prenatal</th>\n",
              "    </tr>\n",
              "  </thead>\n",
              "  <tbody>\n",
              "    <tr>\n",
              "      <th>0</th>\n",
              "      <td>1</td>\n",
              "      <td>1559</td>\n",
              "      <td>28.648521</td>\n",
              "      <td>10</td>\n",
              "      <td>2</td>\n",
              "      <td>94</td>\n",
              "      <td>33</td>\n",
              "      <td>1</td>\n",
              "      <td>0</td>\n",
              "      <td>1</td>\n",
              "      <td>0.832727</td>\n",
              "      <td>0</td>\n",
              "      <td>1</td>\n",
              "      <td>0</td>\n",
              "      <td>1</td>\n",
              "      <td>1</td>\n",
              "      <td>0.000000</td>\n",
              "      <td>1</td>\n",
              "    </tr>\n",
              "    <tr>\n",
              "      <th>1</th>\n",
              "      <td>3</td>\n",
              "      <td>1000</td>\n",
              "      <td>25.000000</td>\n",
              "      <td>8</td>\n",
              "      <td>4</td>\n",
              "      <td>89</td>\n",
              "      <td>33</td>\n",
              "      <td>0</td>\n",
              "      <td>0</td>\n",
              "      <td>0</td>\n",
              "      <td>0.000000</td>\n",
              "      <td>1</td>\n",
              "      <td>1</td>\n",
              "      <td>1</td>\n",
              "      <td>1</td>\n",
              "      <td>1</td>\n",
              "      <td>0.000000</td>\n",
              "      <td>1</td>\n",
              "    </tr>\n",
              "    <tr>\n",
              "      <th>2</th>\n",
              "      <td>4</td>\n",
              "      <td>1430</td>\n",
              "      <td>29.000000</td>\n",
              "      <td>6</td>\n",
              "      <td>1</td>\n",
              "      <td>112</td>\n",
              "      <td>22</td>\n",
              "      <td>0</td>\n",
              "      <td>0</td>\n",
              "      <td>0</td>\n",
              "      <td>0.000000</td>\n",
              "      <td>0</td>\n",
              "      <td>2</td>\n",
              "      <td>0</td>\n",
              "      <td>1</td>\n",
              "      <td>0</td>\n",
              "      <td>0.000000</td>\n",
              "      <td>1</td>\n",
              "    </tr>\n",
              "    <tr>\n",
              "      <th>3</th>\n",
              "      <td>5</td>\n",
              "      <td>1984</td>\n",
              "      <td>31.000000</td>\n",
              "      <td>2</td>\n",
              "      <td>1</td>\n",
              "      <td>99</td>\n",
              "      <td>20</td>\n",
              "      <td>0</td>\n",
              "      <td>0</td>\n",
              "      <td>0</td>\n",
              "      <td>2.000000</td>\n",
              "      <td>1</td>\n",
              "      <td>2</td>\n",
              "      <td>0</td>\n",
              "      <td>1</td>\n",
              "      <td>0</td>\n",
              "      <td>0.000000</td>\n",
              "      <td>1</td>\n",
              "    </tr>\n",
              "    <tr>\n",
              "      <th>4</th>\n",
              "      <td>6</td>\n",
              "      <td>1320</td>\n",
              "      <td>28.000000</td>\n",
              "      <td>7</td>\n",
              "      <td>2</td>\n",
              "      <td>110</td>\n",
              "      <td>23</td>\n",
              "      <td>1</td>\n",
              "      <td>0</td>\n",
              "      <td>0</td>\n",
              "      <td>2.000000</td>\n",
              "      <td>1</td>\n",
              "      <td>1</td>\n",
              "      <td>0</td>\n",
              "      <td>1</td>\n",
              "      <td>1</td>\n",
              "      <td>0.000000</td>\n",
              "      <td>1</td>\n",
              "    </tr>\n",
              "    <tr>\n",
              "      <th>...</th>\n",
              "      <td>...</td>\n",
              "      <td>...</td>\n",
              "      <td>...</td>\n",
              "      <td>...</td>\n",
              "      <td>...</td>\n",
              "      <td>...</td>\n",
              "      <td>...</td>\n",
              "      <td>...</td>\n",
              "      <td>...</td>\n",
              "      <td>...</td>\n",
              "      <td>...</td>\n",
              "      <td>...</td>\n",
              "      <td>...</td>\n",
              "      <td>...</td>\n",
              "      <td>...</td>\n",
              "      <td>...</td>\n",
              "      <td>...</td>\n",
              "      <td>...</td>\n",
              "    </tr>\n",
              "    <tr>\n",
              "      <th>642</th>\n",
              "      <td>980</td>\n",
              "      <td>1800</td>\n",
              "      <td>29.000000</td>\n",
              "      <td>6</td>\n",
              "      <td>2</td>\n",
              "      <td>94</td>\n",
              "      <td>36</td>\n",
              "      <td>0</td>\n",
              "      <td>0</td>\n",
              "      <td>1</td>\n",
              "      <td>2.000000</td>\n",
              "      <td>1</td>\n",
              "      <td>1</td>\n",
              "      <td>0</td>\n",
              "      <td>1</td>\n",
              "      <td>0</td>\n",
              "      <td>2.959292</td>\n",
              "      <td>1</td>\n",
              "    </tr>\n",
              "    <tr>\n",
              "      <th>643</th>\n",
              "      <td>981</td>\n",
              "      <td>2140</td>\n",
              "      <td>29.000000</td>\n",
              "      <td>5</td>\n",
              "      <td>1</td>\n",
              "      <td>112</td>\n",
              "      <td>32</td>\n",
              "      <td>0</td>\n",
              "      <td>0</td>\n",
              "      <td>1</td>\n",
              "      <td>0.832727</td>\n",
              "      <td>0</td>\n",
              "      <td>2</td>\n",
              "      <td>1</td>\n",
              "      <td>1</td>\n",
              "      <td>1</td>\n",
              "      <td>2.959292</td>\n",
              "      <td>1</td>\n",
              "    </tr>\n",
              "    <tr>\n",
              "      <th>644</th>\n",
              "      <td>982</td>\n",
              "      <td>2350</td>\n",
              "      <td>30.000000</td>\n",
              "      <td>3</td>\n",
              "      <td>2</td>\n",
              "      <td>111</td>\n",
              "      <td>28</td>\n",
              "      <td>0</td>\n",
              "      <td>0</td>\n",
              "      <td>0</td>\n",
              "      <td>1.000000</td>\n",
              "      <td>0</td>\n",
              "      <td>1</td>\n",
              "      <td>0</td>\n",
              "      <td>1</td>\n",
              "      <td>1</td>\n",
              "      <td>2.959292</td>\n",
              "      <td>1</td>\n",
              "    </tr>\n",
              "    <tr>\n",
              "      <th>645</th>\n",
              "      <td>983</td>\n",
              "      <td>1670</td>\n",
              "      <td>29.000000</td>\n",
              "      <td>3</td>\n",
              "      <td>1</td>\n",
              "      <td>125</td>\n",
              "      <td>28</td>\n",
              "      <td>1</td>\n",
              "      <td>0</td>\n",
              "      <td>1</td>\n",
              "      <td>0.832727</td>\n",
              "      <td>0</td>\n",
              "      <td>2</td>\n",
              "      <td>0</td>\n",
              "      <td>1</td>\n",
              "      <td>1</td>\n",
              "      <td>2.959292</td>\n",
              "      <td>1</td>\n",
              "    </tr>\n",
              "    <tr>\n",
              "      <th>646</th>\n",
              "      <td>984</td>\n",
              "      <td>1740</td>\n",
              "      <td>31.000000</td>\n",
              "      <td>6</td>\n",
              "      <td>1</td>\n",
              "      <td>107</td>\n",
              "      <td>26</td>\n",
              "      <td>0</td>\n",
              "      <td>0</td>\n",
              "      <td>1</td>\n",
              "      <td>1.000000</td>\n",
              "      <td>1</td>\n",
              "      <td>2</td>\n",
              "      <td>1</td>\n",
              "      <td>1</td>\n",
              "      <td>1</td>\n",
              "      <td>2.959292</td>\n",
              "      <td>1</td>\n",
              "    </tr>\n",
              "  </tbody>\n",
              "</table>\n",
              "<p>647 rows × 18 columns</p>\n",
              "</div>"
            ],
            "text/plain": [
              "      id    bw     b.head  preterm  ...  drugs  work.dur      site  prenatal\n",
              "0      1  1559  28.648521       10  ...      1         1  0.000000         1\n",
              "1      3  1000  25.000000        8  ...      1         1  0.000000         1\n",
              "2      4  1430  29.000000        6  ...      1         0  0.000000         1\n",
              "3      5  1984  31.000000        2  ...      1         0  0.000000         1\n",
              "4      6  1320  28.000000        7  ...      1         1  0.000000         1\n",
              "..   ...   ...        ...      ...  ...    ...       ...       ...       ...\n",
              "642  980  1800  29.000000        6  ...      1         0  2.959292         1\n",
              "643  981  2140  29.000000        5  ...      1         1  2.959292         1\n",
              "644  982  2350  30.000000        3  ...      1         1  2.959292         1\n",
              "645  983  1670  29.000000        3  ...      1         1  2.959292         1\n",
              "646  984  1740  31.000000        6  ...      1         1  2.959292         1\n",
              "\n",
              "[647 rows x 18 columns]"
            ]
          },
          "metadata": {
            "tags": []
          },
          "execution_count": 72
        }
      ]
    },
    {
      "cell_type": "code",
      "metadata": {
        "id": "0QahN0rvZw3K"
      },
      "source": [
        "h2o_train = h2o.H2OFrame(train)"
      ],
      "execution_count": 73,
      "outputs": []
    },
    {
      "cell_type": "code",
      "metadata": {
        "id": "kY3QT1NHZeeh"
      },
      "source": [
        "x = h2o_train.columns\n",
        "y = 'y'\n",
        "\n",
        "x.remove(y)"
      ],
      "execution_count": 74,
      "outputs": []
    },
    {
      "cell_type": "code",
      "metadata": {
        "id": "X8MEask5ZprL"
      },
      "source": [
        "aml = H2OAutoML(max_models = 10, seed=1)\n",
        "aml.train(x=x, y=y, training_frame=h2o_train)"
      ],
      "execution_count": 75,
      "outputs": []
    },
    {
      "cell_type": "code",
      "metadata": {
        "colab": {
          "base_uri": "https://localhost:8080/",
          "height": 312
        },
        "id": "6cdagjmNaCzc",
        "outputId": "000351e3-23e8-4b7f-ce7d-322c3b01a7d3"
      },
      "source": [
        "lb = aml.leaderboard\n",
        "lb.head(rows=lb.nrows)"
      ],
      "execution_count": 76,
      "outputs": [
        {
          "output_type": "display_data",
          "data": {
            "text/html": [
              "<table>\n",
              "<thead>\n",
              "<tr><th>model_id                                           </th><th style=\"text-align: right;\">  mean_residual_deviance</th><th style=\"text-align: right;\">   rmse</th><th style=\"text-align: right;\">    mse</th><th style=\"text-align: right;\">    mae</th><th style=\"text-align: right;\">  rmsle</th></tr>\n",
              "</thead>\n",
              "<tbody>\n",
              "<tr><td>StackedEnsemble_BestOfFamily_AutoML_20210404_151651</td><td style=\"text-align: right;\">                 6.00646</td><td style=\"text-align: right;\">2.45081</td><td style=\"text-align: right;\">6.00646</td><td style=\"text-align: right;\">1.41197</td><td style=\"text-align: right;\">    nan</td></tr>\n",
              "<tr><td>GLM_1_AutoML_20210404_151651                       </td><td style=\"text-align: right;\">                 6.02596</td><td style=\"text-align: right;\">2.45478</td><td style=\"text-align: right;\">6.02596</td><td style=\"text-align: right;\">1.41771</td><td style=\"text-align: right;\">    nan</td></tr>\n",
              "<tr><td>StackedEnsemble_AllModels_AutoML_20210404_151651   </td><td style=\"text-align: right;\">                 6.10317</td><td style=\"text-align: right;\">2.47046</td><td style=\"text-align: right;\">6.10317</td><td style=\"text-align: right;\">1.43056</td><td style=\"text-align: right;\">    nan</td></tr>\n",
              "<tr><td>GBM_4_AutoML_20210404_151651                       </td><td style=\"text-align: right;\">                 6.28792</td><td style=\"text-align: right;\">2.50757</td><td style=\"text-align: right;\">6.28792</td><td style=\"text-align: right;\">1.48899</td><td style=\"text-align: right;\">    nan</td></tr>\n",
              "<tr><td>GBM_5_AutoML_20210404_151651                       </td><td style=\"text-align: right;\">                 6.29094</td><td style=\"text-align: right;\">2.50818</td><td style=\"text-align: right;\">6.29094</td><td style=\"text-align: right;\">1.48142</td><td style=\"text-align: right;\">    nan</td></tr>\n",
              "<tr><td>GBM_2_AutoML_20210404_151651                       </td><td style=\"text-align: right;\">                 6.36008</td><td style=\"text-align: right;\">2.52192</td><td style=\"text-align: right;\">6.36008</td><td style=\"text-align: right;\">1.51057</td><td style=\"text-align: right;\">    nan</td></tr>\n",
              "<tr><td>GBM_3_AutoML_20210404_151651                       </td><td style=\"text-align: right;\">                 6.40043</td><td style=\"text-align: right;\">2.52991</td><td style=\"text-align: right;\">6.40043</td><td style=\"text-align: right;\">1.5026 </td><td style=\"text-align: right;\">    nan</td></tr>\n",
              "<tr><td>DRF_1_AutoML_20210404_151651                       </td><td style=\"text-align: right;\">                 6.50981</td><td style=\"text-align: right;\">2.55143</td><td style=\"text-align: right;\">6.50981</td><td style=\"text-align: right;\">1.54708</td><td style=\"text-align: right;\">    nan</td></tr>\n",
              "<tr><td>GBM_1_AutoML_20210404_151651                       </td><td style=\"text-align: right;\">                 6.8442 </td><td style=\"text-align: right;\">2.61614</td><td style=\"text-align: right;\">6.8442 </td><td style=\"text-align: right;\">1.58434</td><td style=\"text-align: right;\">    nan</td></tr>\n",
              "<tr><td>XGBoost_3_AutoML_20210404_151651                   </td><td style=\"text-align: right;\">                 7.08057</td><td style=\"text-align: right;\">2.66093</td><td style=\"text-align: right;\">7.08057</td><td style=\"text-align: right;\">1.66713</td><td style=\"text-align: right;\">    nan</td></tr>\n",
              "<tr><td>XGBoost_2_AutoML_20210404_151651                   </td><td style=\"text-align: right;\">                 7.39587</td><td style=\"text-align: right;\">2.71953</td><td style=\"text-align: right;\">7.39587</td><td style=\"text-align: right;\">1.73062</td><td style=\"text-align: right;\">    nan</td></tr>\n",
              "<tr><td>XGBoost_1_AutoML_20210404_151651                   </td><td style=\"text-align: right;\">                 7.62981</td><td style=\"text-align: right;\">2.76221</td><td style=\"text-align: right;\">7.62981</td><td style=\"text-align: right;\">1.81768</td><td style=\"text-align: right;\">    nan</td></tr>\n",
              "</tbody>\n",
              "</table>"
            ]
          },
          "metadata": {
            "tags": []
          }
        },
        {
          "output_type": "execute_result",
          "data": {
            "text/plain": [
              ""
            ]
          },
          "metadata": {
            "tags": []
          },
          "execution_count": 76
        }
      ]
    },
    {
      "cell_type": "code",
      "metadata": {
        "id": "IU_EEEvRaOse"
      },
      "source": [
        "h2o_test = h2o.H2OFrame(test)\n",
        "y_pred = aml.predict(h2o_test)"
      ],
      "execution_count": 77,
      "outputs": []
    },
    {
      "cell_type": "code",
      "metadata": {
        "colab": {
          "base_uri": "https://localhost:8080/",
          "height": 123
        },
        "id": "FL_wfbPwacbA",
        "outputId": "8dd788b7-e8d1-418d-ef0a-be56f116c99d"
      },
      "source": [
        "df = h2o_test.cbind(y_pred)\n",
        "df.head(3)"
      ],
      "execution_count": 78,
      "outputs": [
        {
          "output_type": "display_data",
          "data": {
            "text/html": [
              "<table>\n",
              "<thead>\n",
              "<tr><th style=\"text-align: right;\">  id</th><th style=\"text-align: right;\">  bw</th><th style=\"text-align: right;\">  b.head</th><th style=\"text-align: right;\">  preterm</th><th style=\"text-align: right;\">  birth.o</th><th style=\"text-align: right;\">  nnhealth</th><th style=\"text-align: right;\">  momage</th><th style=\"text-align: right;\">  sex</th><th style=\"text-align: right;\">  twin</th><th style=\"text-align: right;\">  b.marr</th><th style=\"text-align: right;\">  mom.edu</th><th style=\"text-align: right;\">  cig</th><th style=\"text-align: right;\">  first</th><th style=\"text-align: right;\">  booze</th><th style=\"text-align: right;\">  drugs</th><th style=\"text-align: right;\">  work.dur</th><th style=\"text-align: right;\">  site</th><th style=\"text-align: right;\">  prenatal</th><th style=\"text-align: right;\">  predict</th></tr>\n",
              "</thead>\n",
              "<tbody>\n",
              "<tr><td style=\"text-align: right;\">  17</td><td style=\"text-align: right;\">1210</td><td style=\"text-align: right;\">      26</td><td style=\"text-align: right;\">       10</td><td style=\"text-align: right;\">        1</td><td style=\"text-align: right;\">       100</td><td style=\"text-align: right;\">      18</td><td style=\"text-align: right;\">    1</td><td style=\"text-align: right;\">     0</td><td style=\"text-align: right;\">       0</td><td style=\"text-align: right;\"> 1       </td><td style=\"text-align: right;\">    0</td><td style=\"text-align: right;\">      2</td><td style=\"text-align: right;\">      0</td><td style=\"text-align: right;\">      1</td><td style=\"text-align: right;\">         0</td><td style=\"text-align: right;\">     0</td><td style=\"text-align: right;\">         1</td><td style=\"text-align: right;\">  5.67962</td></tr>\n",
              "<tr><td style=\"text-align: right;\">  28</td><td style=\"text-align: right;\">2350</td><td style=\"text-align: right;\">      33</td><td style=\"text-align: right;\">        6</td><td style=\"text-align: right;\">        4</td><td style=\"text-align: right;\">        93</td><td style=\"text-align: right;\">      23</td><td style=\"text-align: right;\">    0</td><td style=\"text-align: right;\">     1</td><td style=\"text-align: right;\">       1</td><td style=\"text-align: right;\"> 1       </td><td style=\"text-align: right;\">    0</td><td style=\"text-align: right;\">      1</td><td style=\"text-align: right;\">      0</td><td style=\"text-align: right;\">      1</td><td style=\"text-align: right;\">         1</td><td style=\"text-align: right;\">     0</td><td style=\"text-align: right;\">         1</td><td style=\"text-align: right;\">  3.0702 </td></tr>\n",
              "<tr><td style=\"text-align: right;\">  58</td><td style=\"text-align: right;\">1786</td><td style=\"text-align: right;\">      31</td><td style=\"text-align: right;\">        8</td><td style=\"text-align: right;\">        2</td><td style=\"text-align: right;\">        42</td><td style=\"text-align: right;\">      25</td><td style=\"text-align: right;\">    0</td><td style=\"text-align: right;\">     0</td><td style=\"text-align: right;\">       1</td><td style=\"text-align: right;\"> 0.816092</td><td style=\"text-align: right;\">    0</td><td style=\"text-align: right;\">      1</td><td style=\"text-align: right;\">      0</td><td style=\"text-align: right;\">      1</td><td style=\"text-align: right;\">         1</td><td style=\"text-align: right;\">     0</td><td style=\"text-align: right;\">         1</td><td style=\"text-align: right;\">  4.3037 </td></tr>\n",
              "</tbody>\n",
              "</table>"
            ]
          },
          "metadata": {
            "tags": []
          }
        },
        {
          "output_type": "execute_result",
          "data": {
            "text/plain": [
              ""
            ]
          },
          "metadata": {
            "tags": []
          },
          "execution_count": 78
        }
      ]
    },
    {
      "cell_type": "code",
      "metadata": {
        "colab": {
          "base_uri": "https://localhost:8080/"
        },
        "id": "oztsUNklbBee",
        "outputId": "585c4bd5-15ce-45c4-dede-a813214b4f45"
      },
      "source": [
        "len(y_pred)"
      ],
      "execution_count": 79,
      "outputs": [
        {
          "output_type": "execute_result",
          "data": {
            "text/plain": [
              "100"
            ]
          },
          "metadata": {
            "tags": []
          },
          "execution_count": 79
        }
      ]
    },
    {
      "cell_type": "code",
      "metadata": {
        "colab": {
          "base_uri": "https://localhost:8080/",
          "height": 1000
        },
        "id": "2j5RHaELcCe1",
        "outputId": "7cab78f8-53ba-46ea-c0df-13bfe44720ee"
      },
      "source": [
        "aml.varimp_heatmap()\n"
      ],
      "execution_count": 80,
      "outputs": [
        {
          "output_type": "execute_result",
          "data": {
            "image/png": "[encoded data removed]",
            "text/plain": [
              "<Figure size 1152x648 with 2 Axes>"
            ]
          },
          "metadata": {
            "tags": []
          },
          "execution_count": 80
        },
        {
          "output_type": "display_data",
          "data": {
            "image/png": "[encoded data removed]",
            "text/plain": [
              "<Figure size 1152x648 with 2 Axes>"
            ]
          },
          "metadata": {
            "tags": [],
            "needs_background": "light"
          }
        }
      ]
    },
    {
      "cell_type": "code",
      "metadata": {
        "id": "SWwf8v3lcbPt"
      },
      "source": [
        "y_pred = h2o.as_list(y_pred)"
      ],
      "execution_count": 81,
      "outputs": []
    },
    {
      "cell_type": "code",
      "metadata": {
        "id": "9uw2uS27c0p2"
      },
      "source": [
        "y_pred = y_pred['predict'].tolist()"
      ],
      "execution_count": 85,
      "outputs": []
    },
    {
      "cell_type": "code",
      "metadata": {
        "colab": {
          "base_uri": "https://localhost:8080/"
        },
        "id": "Gb56iaqwarcO",
        "outputId": "f69bd051-bc54-4188-9937-61b807b8a184"
      },
      "source": [
        "for i in range(len(y_pred)):\n",
        "    submit['y'][i] = y_pred[i]\n",
        "\n",
        "submit.to_csv('submit.csv', index=None, header=True)"
      ],
      "execution_count": 87,
      "outputs": [
        {
          "output_type": "stream",
          "text": [
            "/usr/local/lib/python3.7/dist-packages/ipykernel_launcher.py:2: SettingWithCopyWarning: \n",
            "A value is trying to be set on a copy of a slice from a DataFrame\n",
            "\n",
            "See the caveats in the documentation: https://pandas.pydata.org/pandas-docs/stable/user_guide/indexing.html#returning-a-view-versus-a-copy\n",
            "  \n"
          ],
          "name": "stderr"
        }
      ]
    },
    {
      "cell_type": "code",
      "metadata": {
        "colab": {
          "base_uri": "https://localhost:8080/",
          "height": 419
        },
        "id": "Q0Z_xxjJd0J3",
        "outputId": "3f7c8626-c1b3-451d-b70b-da741924b7f7"
      },
      "source": [
        "submit"
      ],
      "execution_count": 88,
      "outputs": [
        {
          "output_type": "execute_result",
          "data": {
            "text/html": [
              "<div>\n",
              "<style scoped>\n",
              "    .dataframe tbody tr th:only-of-type {\n",
              "        vertical-align: middle;\n",
              "    }\n",
              "\n",
              "    .dataframe tbody tr th {\n",
              "        vertical-align: top;\n",
              "    }\n",
              "\n",
              "    .dataframe thead th {\n",
              "        text-align: right;\n",
              "    }\n",
              "</style>\n",
              "<table border=\"1\" class=\"dataframe\">\n",
              "  <thead>\n",
              "    <tr style=\"text-align: right;\">\n",
              "      <th></th>\n",
              "      <th>id</th>\n",
              "      <th>y</th>\n",
              "    </tr>\n",
              "  </thead>\n",
              "  <tbody>\n",
              "    <tr>\n",
              "      <th>0</th>\n",
              "      <td>17</td>\n",
              "      <td>5.679624</td>\n",
              "    </tr>\n",
              "    <tr>\n",
              "      <th>1</th>\n",
              "      <td>28</td>\n",
              "      <td>3.070195</td>\n",
              "    </tr>\n",
              "    <tr>\n",
              "      <th>2</th>\n",
              "      <td>58</td>\n",
              "      <td>4.303701</td>\n",
              "    </tr>\n",
              "    <tr>\n",
              "      <th>3</th>\n",
              "      <td>62</td>\n",
              "      <td>4.618400</td>\n",
              "    </tr>\n",
              "    <tr>\n",
              "      <th>4</th>\n",
              "      <td>64</td>\n",
              "      <td>3.136035</td>\n",
              "    </tr>\n",
              "    <tr>\n",
              "      <th>...</th>\n",
              "      <td>...</td>\n",
              "      <td>...</td>\n",
              "    </tr>\n",
              "    <tr>\n",
              "      <th>95</th>\n",
              "      <td>937</td>\n",
              "      <td>2.411800</td>\n",
              "    </tr>\n",
              "    <tr>\n",
              "      <th>96</th>\n",
              "      <td>942</td>\n",
              "      <td>4.111927</td>\n",
              "    </tr>\n",
              "    <tr>\n",
              "      <th>97</th>\n",
              "      <td>952</td>\n",
              "      <td>5.081038</td>\n",
              "    </tr>\n",
              "    <tr>\n",
              "      <th>98</th>\n",
              "      <td>958</td>\n",
              "      <td>5.984428</td>\n",
              "    </tr>\n",
              "    <tr>\n",
              "      <th>99</th>\n",
              "      <td>963</td>\n",
              "      <td>2.797706</td>\n",
              "    </tr>\n",
              "  </tbody>\n",
              "</table>\n",
              "<p>100 rows × 2 columns</p>\n",
              "</div>"
            ],
            "text/plain": [
              "     id         y\n",
              "0    17  5.679624\n",
              "1    28  3.070195\n",
              "2    58  4.303701\n",
              "3    62  4.618400\n",
              "4    64  3.136035\n",
              "..  ...       ...\n",
              "95  937  2.411800\n",
              "96  942  4.111927\n",
              "97  952  5.081038\n",
              "98  958  5.984428\n",
              "99  963  2.797706\n",
              "\n",
              "[100 rows x 2 columns]"
            ]
          },
          "metadata": {
            "tags": []
          },
          "execution_count": 88
        }
      ]
    },
    {
      "cell_type": "code",
      "metadata": {
        "colab": {
          "base_uri": "https://localhost:8080/"
        },
        "id": "eEoYFBzydCIb",
        "outputId": "5451e20f-b808-4d7e-f80d-444f71930e67"
      },
      "source": [
        "!kaggle competitions submit -c sejong-ai-challenge-p3 -f submit.csv -m \"Message\""
      ],
      "execution_count": 89,
      "outputs": [
        {
          "output_type": "stream",
          "text": [
            "Warning: Looks like you're using an outdated API Version, please consider updating (server 1.5.12 / client 1.5.6)\n",
            "100% 2.17k/2.17k [00:00<00:00, 4.44kB/s]\n",
            "Successfully submitted to Sejong AI Challenge 문제3"
          ],
          "name": "stdout"
        }
      ]
    },
    {
      "cell_type": "code",
      "metadata": {
        "id": "aRAI_NyNdJg0"
      },
      "source": [
        ""
      ],
      "execution_count": null,
      "outputs": []
    }
  ]
}